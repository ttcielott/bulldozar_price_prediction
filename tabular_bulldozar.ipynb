{
  "nbformat": 4,
  "nbformat_minor": 0,
  "metadata": {
    "colab": {
      "provenance": [],
      "machine_shape": "hm",
      "authorship_tag": "ABX9TyPPrzZkZcQEk5WustlzYeYv",
      "include_colab_link": true
    },
    "kernelspec": {
      "name": "python3",
      "display_name": "Python 3"
    },
    "language_info": {
      "name": "python"
    },
    "accelerator": "GPU",
    "gpuClass": "standard"
  },
  "cells": [
    {
      "cell_type": "markdown",
      "metadata": {
        "id": "view-in-github",
        "colab_type": "text"
      },
      "source": [
        "<a href=\"https://colab.research.google.com/github/ttcielott/bulldozar_price_prediction/blob/main/tabular_bulldozar.ipynb\" target=\"_parent\"><img src=\"https://colab.research.google.com/assets/colab-badge.svg\" alt=\"Open In Colab\"/></a>"
      ]
    },
    {
      "cell_type": "markdown",
      "source": [
        "<center>\n",
        "<h1> Price Prediction: Bulldozar Price </h1>\n",
        "\n",
        "Using the tabular dataset of bulldozar features and prices, I will generate a prediction model on the price of a bulldozar. If you click [this link](https://huggingface.co/spaces/Dana19/bulldozar_price_predictor), you can select the features of bulldozar and get the expected price! This technique can be applied to establishing price strategy for any commercial goods and services and decision on stock investment. \n",
        "\n",
        "\n",
        "<img src = \"https://images.freeimages.com/images/large-previews/51d/building-machine-1422763.jpg\" width = 500></img>\n",
        "\n",
        "# Final Product : [Price Predictor](https://huggingface.co/spaces/Dana19/bulldozar_price_predictor)\n",
        "</center>"
      ],
      "metadata": {
        "id": "yHNICo1MMgqU"
      }
    },
    {
      "cell_type": "code",
      "execution_count": null,
      "metadata": {
        "id": "PYFBltG-9kRt",
        "colab": {
          "base_uri": "https://localhost:8080/"
        },
        "outputId": "8dc4cc4b-3fe3-4c46-e151-73cd6196f0c5"
      },
      "outputs": [
        {
          "output_type": "stream",
          "name": "stdout",
          "text": [
            "Mounted at /content/gdrive\n"
          ]
        }
      ],
      "source": [
        "! [ -e /content ] && pip install -Uqq fastbook kaggle waterfallcharts treeinterpreter dtreeviz\n",
        "import fastbook\n",
        "fastbook.setup_book()\n",
        "from fastbook import *\n",
        "from pandas.api.types import is_string_dtype, is_numeric_dtype, is_categorical_dtype\n",
        "from fastai.tabular.all import *\n",
        "from sklearn.ensemble import RandomForestRegressor\n",
        "from sklearn.tree import DecisionTreeRegressor\n",
        "from dtreeviz.trees import *\n",
        "from IPython.display import Image, display_svg, SVG\n",
        "from sklearn.metrics import mean_squared_error\n",
        "\n",
        "\n",
        "pd.options.display.max_rows = 20\n",
        "pd.options.display.max_columns = 8"
      ]
    },
    {
      "cell_type": "markdown",
      "source": [
        "# Connect to Kaggle to fetch dataset"
      ],
      "metadata": {
        "id": "gWPd9-OjUTil"
      }
    },
    {
      "cell_type": "code",
      "source": [
        "creds = '{\"username\":\"cielokim\",\"key\":\"b45ea1142ece82d62dce84a7648d4a00\"}'"
      ],
      "metadata": {
        "id": "7ag8PBo8-GHL"
      },
      "execution_count": null,
      "outputs": []
    },
    {
      "cell_type": "code",
      "source": [
        "# create it based on my credential\n",
        "cred_path = Path('~/.kaggle/kaggle.json').expanduser()\n",
        "if not cred_path.exists():\n",
        "    cred_path.parent.mkdir(exist_ok=True)\n",
        "    cred_path.write_text(creds)\n",
        "    cred_path.chmod(0o600)"
      ],
      "metadata": {
        "id": "xiUiSMPT_37U"
      },
      "execution_count": null,
      "outputs": []
    },
    {
      "cell_type": "code",
      "source": [
        "comp = 'bluebook-for-bulldozers'\n",
        "path = URLs.path(comp)\n",
        "path"
      ],
      "metadata": {
        "colab": {
          "base_uri": "https://localhost:8080/"
        },
        "id": "4gEIHbyeAWLN",
        "outputId": "a9b887da-c7e0-4c4c-8287-3fc4ff2318c0"
      },
      "execution_count": null,
      "outputs": [
        {
          "output_type": "stream",
          "name": "stdout",
          "text": [
            "usage: kaggle [-h] [-v] {competitions,c,datasets,d,kernels,k,config} ...\n",
            "kaggle: error: argument command: invalid choice: 'dataset' (choose from 'competitions', 'c', 'datasets', 'd', 'kernels', 'k', 'config')\n"
          ]
        }
      ]
    },
    {
      "cell_type": "code",
      "source": [
        "# download dataset\n",
        "\n",
        "from kaggle import api\n",
        "\n",
        "if not path.exists():\n",
        "  path.mkdir(parents = true)\n",
        "  api.competition_download_cli(comp, path=path)\n",
        "  shutil.unpack_archive(str(path/f'{comp}.zip'), str(path))\n",
        "\n",
        "path.ls(file_type = 'text')"
      ],
      "metadata": {
        "colab": {
          "base_uri": "https://localhost:8080/"
        },
        "id": "xZ8yYGjhE1nN",
        "outputId": "e1655d95-e24b-46cb-a52a-a4009f16e42f"
      },
      "execution_count": null,
      "outputs": [
        {
          "output_type": "stream",
          "name": "stdout",
          "text": [
            "Downloading bluebook-for-bulldozers.zip to /root/.fastai/archive/bluebook-for-bulldozers\n"
          ]
        },
        {
          "output_type": "stream",
          "name": "stderr",
          "text": [
            "100%|██████████| 48.4M/48.4M [00:01<00:00, 37.8MB/s]\n"
          ]
        },
        {
          "output_type": "stream",
          "name": "stdout",
          "text": [
            "\n"
          ]
        },
        {
          "output_type": "execute_result",
          "data": {
            "text/plain": [
              "(#7) [Path('Machine_Appendix.csv'),Path('median_benchmark.csv'),Path('random_forest_benchmark_test.csv'),Path('Valid.csv'),Path('Test.csv'),Path('ValidSolution.csv'),Path('TrainAndValid.csv')]"
            ]
          },
          "metadata": {},
          "execution_count": 6
        }
      ]
    },
    {
      "cell_type": "code",
      "source": [
        "df = pd.read_csv(path/'TrainAndValid.csv', low_memory = False)\n",
        "df.head()"
      ],
      "metadata": {
        "id": "LOvcGGSnQZYa",
        "colab": {
          "base_uri": "https://localhost:8080/",
          "height": 236
        },
        "outputId": "5e640b38-10e7-47e4-efc2-7e72edd9abe4"
      },
      "execution_count": null,
      "outputs": [
        {
          "output_type": "execute_result",
          "data": {
            "text/plain": [
              "   SalesID  SalePrice  MachineID  ModelID  ...  Blade_Type  Travel_Controls  \\\n",
              "0  1139246    66000.0     999089     3157  ...         NaN              NaN   \n",
              "1  1139248    57000.0     117657       77  ...         NaN              NaN   \n",
              "2  1139249    10000.0     434808     7009  ...         NaN              NaN   \n",
              "3  1139251    38500.0    1026470      332  ...         NaN              NaN   \n",
              "4  1139253    11000.0    1057373    17311  ...         NaN              NaN   \n",
              "\n",
              "   Differential_Type  Steering_Controls  \n",
              "0           Standard       Conventional  \n",
              "1           Standard       Conventional  \n",
              "2                NaN                NaN  \n",
              "3                NaN                NaN  \n",
              "4                NaN                NaN  \n",
              "\n",
              "[5 rows x 53 columns]"
            ],
            "text/html": [
              "\n",
              "  <div id=\"df-685d2315-046f-4008-96f5-61638098f190\">\n",
              "    <div class=\"colab-df-container\">\n",
              "      <div>\n",
              "<style scoped>\n",
              "    .dataframe tbody tr th:only-of-type {\n",
              "        vertical-align: middle;\n",
              "    }\n",
              "\n",
              "    .dataframe tbody tr th {\n",
              "        vertical-align: top;\n",
              "    }\n",
              "\n",
              "    .dataframe thead th {\n",
              "        text-align: right;\n",
              "    }\n",
              "</style>\n",
              "<table border=\"1\" class=\"dataframe\">\n",
              "  <thead>\n",
              "    <tr style=\"text-align: right;\">\n",
              "      <th></th>\n",
              "      <th>SalesID</th>\n",
              "      <th>SalePrice</th>\n",
              "      <th>MachineID</th>\n",
              "      <th>ModelID</th>\n",
              "      <th>...</th>\n",
              "      <th>Blade_Type</th>\n",
              "      <th>Travel_Controls</th>\n",
              "      <th>Differential_Type</th>\n",
              "      <th>Steering_Controls</th>\n",
              "    </tr>\n",
              "  </thead>\n",
              "  <tbody>\n",
              "    <tr>\n",
              "      <th>0</th>\n",
              "      <td>1139246</td>\n",
              "      <td>66000.0</td>\n",
              "      <td>999089</td>\n",
              "      <td>3157</td>\n",
              "      <td>...</td>\n",
              "      <td>NaN</td>\n",
              "      <td>NaN</td>\n",
              "      <td>Standard</td>\n",
              "      <td>Conventional</td>\n",
              "    </tr>\n",
              "    <tr>\n",
              "      <th>1</th>\n",
              "      <td>1139248</td>\n",
              "      <td>57000.0</td>\n",
              "      <td>117657</td>\n",
              "      <td>77</td>\n",
              "      <td>...</td>\n",
              "      <td>NaN</td>\n",
              "      <td>NaN</td>\n",
              "      <td>Standard</td>\n",
              "      <td>Conventional</td>\n",
              "    </tr>\n",
              "    <tr>\n",
              "      <th>2</th>\n",
              "      <td>1139249</td>\n",
              "      <td>10000.0</td>\n",
              "      <td>434808</td>\n",
              "      <td>7009</td>\n",
              "      <td>...</td>\n",
              "      <td>NaN</td>\n",
              "      <td>NaN</td>\n",
              "      <td>NaN</td>\n",
              "      <td>NaN</td>\n",
              "    </tr>\n",
              "    <tr>\n",
              "      <th>3</th>\n",
              "      <td>1139251</td>\n",
              "      <td>38500.0</td>\n",
              "      <td>1026470</td>\n",
              "      <td>332</td>\n",
              "      <td>...</td>\n",
              "      <td>NaN</td>\n",
              "      <td>NaN</td>\n",
              "      <td>NaN</td>\n",
              "      <td>NaN</td>\n",
              "    </tr>\n",
              "    <tr>\n",
              "      <th>4</th>\n",
              "      <td>1139253</td>\n",
              "      <td>11000.0</td>\n",
              "      <td>1057373</td>\n",
              "      <td>17311</td>\n",
              "      <td>...</td>\n",
              "      <td>NaN</td>\n",
              "      <td>NaN</td>\n",
              "      <td>NaN</td>\n",
              "      <td>NaN</td>\n",
              "    </tr>\n",
              "  </tbody>\n",
              "</table>\n",
              "<p>5 rows × 53 columns</p>\n",
              "</div>\n",
              "      <button class=\"colab-df-convert\" onclick=\"convertToInteractive('df-685d2315-046f-4008-96f5-61638098f190')\"\n",
              "              title=\"Convert this dataframe to an interactive table.\"\n",
              "              style=\"display:none;\">\n",
              "        \n",
              "  <svg xmlns=\"http://www.w3.org/2000/svg\" height=\"24px\"viewBox=\"0 0 24 24\"\n",
              "       width=\"24px\">\n",
              "    <path d=\"M0 0h24v24H0V0z\" fill=\"none\"/>\n",
              "    <path d=\"M18.56 5.44l.94 2.06.94-2.06 2.06-.94-2.06-.94-.94-2.06-.94 2.06-2.06.94zm-11 1L8.5 8.5l.94-2.06 2.06-.94-2.06-.94L8.5 2.5l-.94 2.06-2.06.94zm10 10l.94 2.06.94-2.06 2.06-.94-2.06-.94-.94-2.06-.94 2.06-2.06.94z\"/><path d=\"M17.41 7.96l-1.37-1.37c-.4-.4-.92-.59-1.43-.59-.52 0-1.04.2-1.43.59L10.3 9.45l-7.72 7.72c-.78.78-.78 2.05 0 2.83L4 21.41c.39.39.9.59 1.41.59.51 0 1.02-.2 1.41-.59l7.78-7.78 2.81-2.81c.8-.78.8-2.07 0-2.86zM5.41 20L4 18.59l7.72-7.72 1.47 1.35L5.41 20z\"/>\n",
              "  </svg>\n",
              "      </button>\n",
              "      \n",
              "  <style>\n",
              "    .colab-df-container {\n",
              "      display:flex;\n",
              "      flex-wrap:wrap;\n",
              "      gap: 12px;\n",
              "    }\n",
              "\n",
              "    .colab-df-convert {\n",
              "      background-color: #E8F0FE;\n",
              "      border: none;\n",
              "      border-radius: 50%;\n",
              "      cursor: pointer;\n",
              "      display: none;\n",
              "      fill: #1967D2;\n",
              "      height: 32px;\n",
              "      padding: 0 0 0 0;\n",
              "      width: 32px;\n",
              "    }\n",
              "\n",
              "    .colab-df-convert:hover {\n",
              "      background-color: #E2EBFA;\n",
              "      box-shadow: 0px 1px 2px rgba(60, 64, 67, 0.3), 0px 1px 3px 1px rgba(60, 64, 67, 0.15);\n",
              "      fill: #174EA6;\n",
              "    }\n",
              "\n",
              "    [theme=dark] .colab-df-convert {\n",
              "      background-color: #3B4455;\n",
              "      fill: #D2E3FC;\n",
              "    }\n",
              "\n",
              "    [theme=dark] .colab-df-convert:hover {\n",
              "      background-color: #434B5C;\n",
              "      box-shadow: 0px 1px 3px 1px rgba(0, 0, 0, 0.15);\n",
              "      filter: drop-shadow(0px 1px 2px rgba(0, 0, 0, 0.3));\n",
              "      fill: #FFFFFF;\n",
              "    }\n",
              "  </style>\n",
              "\n",
              "      <script>\n",
              "        const buttonEl =\n",
              "          document.querySelector('#df-685d2315-046f-4008-96f5-61638098f190 button.colab-df-convert');\n",
              "        buttonEl.style.display =\n",
              "          google.colab.kernel.accessAllowed ? 'block' : 'none';\n",
              "\n",
              "        async function convertToInteractive(key) {\n",
              "          const element = document.querySelector('#df-685d2315-046f-4008-96f5-61638098f190');\n",
              "          const dataTable =\n",
              "            await google.colab.kernel.invokeFunction('convertToInteractive',\n",
              "                                                     [key], {});\n",
              "          if (!dataTable) return;\n",
              "\n",
              "          const docLinkHtml = 'Like what you see? Visit the ' +\n",
              "            '<a target=\"_blank\" href=https://colab.research.google.com/notebooks/data_table.ipynb>data table notebook</a>'\n",
              "            + ' to learn more about interactive tables.';\n",
              "          element.innerHTML = '';\n",
              "          dataTable['output_type'] = 'display_data';\n",
              "          await google.colab.output.renderOutput(dataTable, element);\n",
              "          const docLink = document.createElement('div');\n",
              "          docLink.innerHTML = docLinkHtml;\n",
              "          element.appendChild(docLink);\n",
              "        }\n",
              "      </script>\n",
              "    </div>\n",
              "  </div>\n",
              "  "
            ]
          },
          "metadata": {},
          "execution_count": 7
        }
      ]
    },
    {
      "cell_type": "code",
      "source": [
        "df.columns"
      ],
      "metadata": {
        "colab": {
          "base_uri": "https://localhost:8080/"
        },
        "id": "uIUPpS644MRZ",
        "outputId": "165196a1-50e0-40a6-eeaa-187dab917900"
      },
      "execution_count": null,
      "outputs": [
        {
          "output_type": "execute_result",
          "data": {
            "text/plain": [
              "Index(['SalesID', 'SalePrice', 'MachineID', 'ModelID', 'datasource',\n",
              "       'auctioneerID', 'YearMade', 'MachineHoursCurrentMeter', 'UsageBand',\n",
              "       'saledate', 'fiModelDesc', 'fiBaseModel', 'fiSecondaryDesc',\n",
              "       'fiModelSeries', 'fiModelDescriptor', 'ProductSize',\n",
              "       'fiProductClassDesc', 'state', 'ProductGroup', 'ProductGroupDesc',\n",
              "       'Drive_System', 'Enclosure', 'Forks', 'Pad_Type', 'Ride_Control',\n",
              "       'Stick', 'Transmission', 'Turbocharged', 'Blade_Extension',\n",
              "       'Blade_Width', 'Enclosure_Type', 'Engine_Horsepower', 'Hydraulics',\n",
              "       'Pushblock', 'Ripper', 'Scarifier', 'Tip_Control', 'Tire_Size',\n",
              "       'Coupler', 'Coupler_System', 'Grouser_Tracks', 'Hydraulics_Flow',\n",
              "       'Track_Type', 'Undercarriage_Pad_Width', 'Stick_Length', 'Thumb',\n",
              "       'Pattern_Changer', 'Grouser_Type', 'Backhoe_Mounting', 'Blade_Type',\n",
              "       'Travel_Controls', 'Differential_Type', 'Steering_Controls'],\n",
              "      dtype='object')"
            ]
          },
          "metadata": {},
          "execution_count": 8
        }
      ]
    },
    {
      "cell_type": "code",
      "source": [
        "df['ProductSize'].unique()"
      ],
      "metadata": {
        "colab": {
          "base_uri": "https://localhost:8080/"
        },
        "id": "8Sz-cyTB4Ui2",
        "outputId": "7d73c53b-8fc3-42b5-c2f3-400266b9116e"
      },
      "execution_count": null,
      "outputs": [
        {
          "output_type": "execute_result",
          "data": {
            "text/plain": [
              "array([nan, 'Medium', 'Small', 'Large / Medium', 'Mini', 'Large', 'Compact'], dtype=object)"
            ]
          },
          "metadata": {},
          "execution_count": 9
        }
      ]
    },
    {
      "cell_type": "code",
      "source": [
        "sizes = 'Large', 'Large / Medium', 'Medium', 'Small', 'Mini', 'Compact'"
      ],
      "metadata": {
        "id": "5ld2ZUjq4ZOB"
      },
      "execution_count": null,
      "outputs": []
    },
    {
      "cell_type": "code",
      "source": [
        "df['ProductSize'] = df['ProductSize'].astype('category')\n",
        "df['ProductSize'].cat.set_categories(sizes, ordered = True, inplace = True)"
      ],
      "metadata": {
        "id": "GP2flQJJ4y6p",
        "colab": {
          "base_uri": "https://localhost:8080/"
        },
        "outputId": "7a1154cc-6908-47fa-a671-cbd10ba382ca"
      },
      "execution_count": null,
      "outputs": [
        {
          "output_type": "stream",
          "name": "stderr",
          "text": [
            "/usr/local/lib/python3.7/dist-packages/pandas/core/arrays/categorical.py:2631: FutureWarning: The `inplace` parameter in pandas.Categorical.set_categories is deprecated and will be removed in a future version. Removing unused categories will always return a new Categorical object.\n",
            "  res = method(*args, **kwargs)\n"
          ]
        }
      ]
    },
    {
      "cell_type": "markdown",
      "source": [
        "# Standardizing Data: Log Normalization"
      ],
      "metadata": {
        "id": "ibu8nbEKVuWn"
      }
    },
    {
      "cell_type": "code",
      "source": [
        "# the dependent variable\n",
        "dep_var = 'SalePrice'"
      ],
      "metadata": {
        "id": "FyGM3_8X5A7T"
      },
      "execution_count": null,
      "outputs": []
    },
    {
      "cell_type": "code",
      "source": [
        "df['SalePrice'].hist()\n",
        "plt.show()"
      ],
      "metadata": {
        "colab": {
          "base_uri": "https://localhost:8080/",
          "height": 268
        },
        "id": "35RaAO4s5ZEg",
        "outputId": "300de77b-53a9-450e-f50c-874dce5eab71"
      },
      "execution_count": null,
      "outputs": [
        {
          "output_type": "display_data",
          "data": {
            "text/plain": [
              "<Figure size 432x288 with 1 Axes>"
            ],
            "image/png": "[encoded data removed]"
          },
          "metadata": {
            "needs_background": "light"
          }
        }
      ]
    },
    {
      "cell_type": "markdown",
      "source": [
        "The distribution of the dependent variable (target variable) is right skewed, so let's change the scale to log."
      ],
      "metadata": {
        "id": "i_1yPI8q8M_A"
      }
    },
    {
      "cell_type": "code",
      "source": [
        "np.log(df['SalePrice']).hist()\n",
        "plt.show()"
      ],
      "metadata": {
        "colab": {
          "base_uri": "https://localhost:8080/",
          "height": 268
        },
        "id": "loSSbK5b6OBM",
        "outputId": "12e03b48-4eb1-43ee-f106-600ead9f38ac"
      },
      "execution_count": null,
      "outputs": [
        {
          "output_type": "display_data",
          "data": {
            "text/plain": [
              "<Figure size 432x288 with 1 Axes>"
            ],
            "image/png": "[encoded data removed]"
          },
          "metadata": {
            "needs_background": "light"
          }
        }
      ]
    },
    {
      "cell_type": "markdown",
      "source": [
        "When producing output of price prediction, covert scale back to the original by applying exponential. "
      ],
      "metadata": {
        "id": "1ZBxJPcB9QAh"
      }
    },
    {
      "cell_type": "markdown",
      "source": [
        "Tip: how to explore columns quickly"
      ],
      "metadata": {
        "id": "l54x1JPR-nxG"
      }
    },
    {
      "cell_type": "code",
      "source": [
        "# how many data-related columns are there? (other than 'YearMade')\n",
        "[f for f in df.columns if 'date' in f.lower()]"
      ],
      "metadata": {
        "colab": {
          "base_uri": "https://localhost:8080/"
        },
        "id": "P8JXu1HV-tWg",
        "outputId": "03cbcd9a-71fc-449f-8f48-dc2410f93ff8"
      },
      "execution_count": null,
      "outputs": [
        {
          "output_type": "execute_result",
          "data": {
            "text/plain": [
              "['saledate']"
            ]
          },
          "metadata": {},
          "execution_count": 15
        }
      ]
    },
    {
      "cell_type": "code",
      "source": [
        "df['SalePrice'] = np.log(df['SalePrice'])"
      ],
      "metadata": {
        "id": "ioZAm91y8fkM"
      },
      "execution_count": null,
      "outputs": []
    },
    {
      "cell_type": "code",
      "source": [
        "df['saledate']"
      ],
      "metadata": {
        "colab": {
          "base_uri": "https://localhost:8080/"
        },
        "id": "ht0xj-Qb_OJb",
        "outputId": "2fb62e6b-1892-4011-826c-81606429e66d"
      },
      "execution_count": null,
      "outputs": [
        {
          "output_type": "execute_result",
          "data": {
            "text/plain": [
              "0         11/16/2006 0:00\n",
              "1          3/26/2004 0:00\n",
              "2          2/26/2004 0:00\n",
              "3          5/19/2011 0:00\n",
              "4          7/23/2009 0:00\n",
              "               ...       \n",
              "412693      3/7/2012 0:00\n",
              "412694     1/28/2012 0:00\n",
              "412695     1/28/2012 0:00\n",
              "412696      3/7/2012 0:00\n",
              "412697     1/28/2012 0:00\n",
              "Name: saledate, Length: 412698, dtype: object"
            ]
          },
          "metadata": {},
          "execution_count": 17
        }
      ]
    },
    {
      "cell_type": "code",
      "source": [
        "df.loc[:, 'saledate']"
      ],
      "metadata": {
        "colab": {
          "base_uri": "https://localhost:8080/"
        },
        "id": "UGCHkP94EFyc",
        "outputId": "dd737474-7a9c-49aa-de28-53f37fa17d38"
      },
      "execution_count": null,
      "outputs": [
        {
          "output_type": "execute_result",
          "data": {
            "text/plain": [
              "0         11/16/2006 0:00\n",
              "1          3/26/2004 0:00\n",
              "2          2/26/2004 0:00\n",
              "3          5/19/2011 0:00\n",
              "4          7/23/2009 0:00\n",
              "               ...       \n",
              "412693      3/7/2012 0:00\n",
              "412694     1/28/2012 0:00\n",
              "412695     1/28/2012 0:00\n",
              "412696      3/7/2012 0:00\n",
              "412697     1/28/2012 0:00\n",
              "Name: saledate, Length: 412698, dtype: object"
            ]
          },
          "metadata": {},
          "execution_count": 18
        }
      ]
    },
    {
      "cell_type": "markdown",
      "source": [
        "# Feature engineering"
      ],
      "metadata": {
        "id": "LPd1OEZ3ENnv"
      }
    },
    {
      "cell_type": "markdown",
      "source": [
        "**Tabular Core**\n",
        "\n",
        "Basic function to preprocess tabular data before assembling it in a DataLoaders.\n",
        "https://docs.fast.ai/tabular.core.html\n",
        "\n",
        "\n",
        "Initial preprocessing\n",
        "\n",
        "*   make_date\n",
        "*   add_datepart\n",
        "*   add_elapsed_times\n",
        "*   df_shrink_dtypes\n",
        "*   df_shrink\n",
        "*   Tabular\n",
        "*   TabularPandas\n",
        "*   Categorify\n",
        "*   FillStrategy\n",
        "*   FillMissing\n",
        "*   ReadTabBatch\n",
        "*   TabDataLoader"
      ],
      "metadata": {
        "id": "of8m892MhDUn"
      }
    },
    {
      "cell_type": "markdown",
      "source": [
        "## 1) Feature Extraction\n",
        "\n",
        "convert column into datetime and extract as many features as possible."
      ],
      "metadata": {
        "id": "nZfz8ohLFLvY"
      }
    },
    {
      "cell_type": "code",
      "source": [
        " df = add_datepart(df, 'saledate')"
      ],
      "metadata": {
        "id": "l6P8XmpN-HNC"
      },
      "execution_count": null,
      "outputs": []
    },
    {
      "cell_type": "code",
      "source": [
        "# set pandas data frame show maximum 100 columns \n",
        "pd.options.display.max_columns = 100"
      ],
      "metadata": {
        "id": "LGeGK0JPJlNE"
      },
      "execution_count": null,
      "outputs": []
    },
    {
      "cell_type": "code",
      "source": [
        "df"
      ],
      "metadata": {
        "colab": {
          "base_uri": "https://localhost:8080/",
          "height": 800
        },
        "id": "8hu7H83_KCtx",
        "outputId": "367ee796-e001-49e6-e5b9-d6a881551ea6"
      },
      "execution_count": null,
      "outputs": [
        {
          "output_type": "execute_result",
          "data": {
            "text/plain": [
              "        SalesID  SalePrice  MachineID  ModelID  datasource  auctioneerID  \\\n",
              "0       1139246  11.097410     999089     3157         121           3.0   \n",
              "1       1139248  10.950807     117657       77         121           3.0   \n",
              "2       1139249   9.210340     434808     7009         121           3.0   \n",
              "3       1139251  10.558414    1026470      332         121           3.0   \n",
              "4       1139253   9.305651    1057373    17311         121           3.0   \n",
              "...         ...        ...        ...      ...         ...           ...   \n",
              "412693  6333344   9.210340    1919201    21435         149           2.0   \n",
              "412694  6333345   9.259131    1882122    21436         149           2.0   \n",
              "412695  6333347   9.433484    1944213    21435         149           2.0   \n",
              "412696  6333348   9.210340    1794518    21435         149           2.0   \n",
              "412697  6333349   9.472705    1944743    21436         149           2.0   \n",
              "\n",
              "        YearMade  MachineHoursCurrentMeter UsageBand fiModelDesc fiBaseModel  \\\n",
              "0           2004                      68.0       Low        521D         521   \n",
              "1           1996                    4640.0       Low      950FII         950   \n",
              "2           2001                    2838.0      High         226         226   \n",
              "3           2001                    3486.0      High    PC120-6E       PC120   \n",
              "4           2007                     722.0    Medium        S175        S175   \n",
              "...          ...                       ...       ...         ...         ...   \n",
              "412693      2005                       NaN       NaN        30NX          30   \n",
              "412694      2005                       NaN       NaN       30NX2          30   \n",
              "412695      2005                       NaN       NaN        30NX          30   \n",
              "412696      2006                       NaN       NaN        30NX          30   \n",
              "412697      2006                       NaN       NaN       30NX2          30   \n",
              "\n",
              "       fiSecondaryDesc fiModelSeries fiModelDescriptor ProductSize  \\\n",
              "0                    D           NaN               NaN         NaN   \n",
              "1                    F            II               NaN      Medium   \n",
              "2                  NaN           NaN               NaN         NaN   \n",
              "3                  NaN           -6E               NaN       Small   \n",
              "4                  NaN           NaN               NaN         NaN   \n",
              "...                ...           ...               ...         ...   \n",
              "412693              NX           NaN               NaN        Mini   \n",
              "412694              NX             2               NaN        Mini   \n",
              "412695              NX           NaN               NaN        Mini   \n",
              "412696              NX           NaN               NaN        Mini   \n",
              "412697              NX             2               NaN        Mini   \n",
              "\n",
              "                                                fiProductClassDesc  \\\n",
              "0                         Wheel Loader - 110.0 to 120.0 Horsepower   \n",
              "1                         Wheel Loader - 150.0 to 175.0 Horsepower   \n",
              "2       Skid Steer Loader - 1351.0 to 1601.0 Lb Operating Capacity   \n",
              "3            Hydraulic Excavator, Track - 12.0 to 14.0 Metric Tons   \n",
              "4       Skid Steer Loader - 1601.0 to 1751.0 Lb Operating Capacity   \n",
              "...                                                            ...   \n",
              "412693         Hydraulic Excavator, Track - 2.0 to 3.0 Metric Tons   \n",
              "412694         Hydraulic Excavator, Track - 3.0 to 4.0 Metric Tons   \n",
              "412695         Hydraulic Excavator, Track - 2.0 to 3.0 Metric Tons   \n",
              "412696         Hydraulic Excavator, Track - 2.0 to 3.0 Metric Tons   \n",
              "412697         Hydraulic Excavator, Track - 3.0 to 4.0 Metric Tons   \n",
              "\n",
              "                 state ProductGroup    ProductGroupDesc Drive_System  \\\n",
              "0              Alabama           WL        Wheel Loader          NaN   \n",
              "1       North Carolina           WL        Wheel Loader          NaN   \n",
              "2             New York          SSL  Skid Steer Loaders          NaN   \n",
              "3                Texas          TEX    Track Excavators          NaN   \n",
              "4             New York          SSL  Skid Steer Loaders          NaN   \n",
              "...                ...          ...                 ...          ...   \n",
              "412693           Texas          TEX    Track Excavators          NaN   \n",
              "412694         Florida          TEX    Track Excavators          NaN   \n",
              "412695         Florida          TEX    Track Excavators          NaN   \n",
              "412696           Texas          TEX    Track Excavators          NaN   \n",
              "412697         Florida          TEX    Track Excavators          NaN   \n",
              "\n",
              "         Enclosure                Forks Pad_Type         Ride_Control Stick  \\\n",
              "0       EROPS w AC  None or Unspecified      NaN  None or Unspecified   NaN   \n",
              "1       EROPS w AC  None or Unspecified      NaN  None or Unspecified   NaN   \n",
              "2            OROPS  None or Unspecified      NaN                  NaN   NaN   \n",
              "3       EROPS w AC                  NaN      NaN                  NaN   NaN   \n",
              "4            EROPS  None or Unspecified      NaN                  NaN   NaN   \n",
              "...            ...                  ...      ...                  ...   ...   \n",
              "412693       EROPS                  NaN      NaN                  NaN   NaN   \n",
              "412694       EROPS                  NaN      NaN                  NaN   NaN   \n",
              "412695       EROPS                  NaN      NaN                  NaN   NaN   \n",
              "412696       EROPS                  NaN      NaN                  NaN   NaN   \n",
              "412697       EROPS                  NaN      NaN                  NaN   NaN   \n",
              "\n",
              "       Transmission Turbocharged Blade_Extension Blade_Width Enclosure_Type  \\\n",
              "0               NaN          NaN             NaN         NaN            NaN   \n",
              "1               NaN          NaN             NaN         NaN            NaN   \n",
              "2               NaN          NaN             NaN         NaN            NaN   \n",
              "3               NaN          NaN             NaN         NaN            NaN   \n",
              "4               NaN          NaN             NaN         NaN            NaN   \n",
              "...             ...          ...             ...         ...            ...   \n",
              "412693          NaN          NaN             NaN         NaN            NaN   \n",
              "412694          NaN          NaN             NaN         NaN            NaN   \n",
              "412695          NaN          NaN             NaN         NaN            NaN   \n",
              "412696          NaN          NaN             NaN         NaN            NaN   \n",
              "412697          NaN          NaN             NaN         NaN            NaN   \n",
              "\n",
              "       Engine_Horsepower Hydraulics Pushblock Ripper Scarifier Tip_Control  \\\n",
              "0                    NaN    2 Valve       NaN    NaN       NaN         NaN   \n",
              "1                    NaN    2 Valve       NaN    NaN       NaN         NaN   \n",
              "2                    NaN  Auxiliary       NaN    NaN       NaN         NaN   \n",
              "3                    NaN    2 Valve       NaN    NaN       NaN         NaN   \n",
              "4                    NaN  Auxiliary       NaN    NaN       NaN         NaN   \n",
              "...                  ...        ...       ...    ...       ...         ...   \n",
              "412693               NaN   Standard       NaN    NaN       NaN         NaN   \n",
              "412694               NaN  Auxiliary       NaN    NaN       NaN         NaN   \n",
              "412695               NaN  Auxiliary       NaN    NaN       NaN         NaN   \n",
              "412696               NaN  Auxiliary       NaN    NaN       NaN         NaN   \n",
              "412697               NaN  Auxiliary       NaN    NaN       NaN         NaN   \n",
              "\n",
              "                  Tire_Size              Coupler       Coupler_System  \\\n",
              "0       None or Unspecified  None or Unspecified                  NaN   \n",
              "1                      23.5  None or Unspecified                  NaN   \n",
              "2                       NaN  None or Unspecified  None or Unspecified   \n",
              "3                       NaN  None or Unspecified                  NaN   \n",
              "4                       NaN  None or Unspecified  None or Unspecified   \n",
              "...                     ...                  ...                  ...   \n",
              "412693                  NaN  None or Unspecified                  NaN   \n",
              "412694                  NaN  None or Unspecified                  NaN   \n",
              "412695                  NaN  None or Unspecified                  NaN   \n",
              "412696                  NaN  None or Unspecified                  NaN   \n",
              "412697                  NaN  None or Unspecified                  NaN   \n",
              "\n",
              "             Grouser_Tracks Hydraulics_Flow Track_Type  \\\n",
              "0                       NaN             NaN        NaN   \n",
              "1                       NaN             NaN        NaN   \n",
              "2       None or Unspecified        Standard        NaN   \n",
              "3                       NaN             NaN        NaN   \n",
              "4       None or Unspecified        Standard        NaN   \n",
              "...                     ...             ...        ...   \n",
              "412693                  NaN             NaN      Steel   \n",
              "412694                  NaN             NaN      Steel   \n",
              "412695                  NaN             NaN     Rubber   \n",
              "412696                  NaN             NaN     Rubber   \n",
              "412697                  NaN             NaN     Rubber   \n",
              "\n",
              "       Undercarriage_Pad_Width         Stick_Length                Thumb  \\\n",
              "0                          NaN                  NaN                  NaN   \n",
              "1                          NaN                  NaN                  NaN   \n",
              "2                          NaN                  NaN                  NaN   \n",
              "3                          NaN                  NaN                  NaN   \n",
              "4                          NaN                  NaN                  NaN   \n",
              "...                        ...                  ...                  ...   \n",
              "412693     None or Unspecified  None or Unspecified  None or Unspecified   \n",
              "412694     None or Unspecified  None or Unspecified  None or Unspecified   \n",
              "412695     None or Unspecified  None or Unspecified  None or Unspecified   \n",
              "412696     None or Unspecified  None or Unspecified  None or Unspecified   \n",
              "412697     None or Unspecified  None or Unspecified  None or Unspecified   \n",
              "\n",
              "            Pattern_Changer Grouser_Type Backhoe_Mounting Blade_Type  \\\n",
              "0                       NaN          NaN              NaN        NaN   \n",
              "1                       NaN          NaN              NaN        NaN   \n",
              "2                       NaN          NaN              NaN        NaN   \n",
              "3                       NaN          NaN              NaN        NaN   \n",
              "4                       NaN          NaN              NaN        NaN   \n",
              "...                     ...          ...              ...        ...   \n",
              "412693  None or Unspecified       Double              NaN        NaN   \n",
              "412694  None or Unspecified       Double              NaN        NaN   \n",
              "412695  None or Unspecified       Double              NaN        NaN   \n",
              "412696  None or Unspecified       Double              NaN        NaN   \n",
              "412697  None or Unspecified       Double              NaN        NaN   \n",
              "\n",
              "       Travel_Controls Differential_Type Steering_Controls  saleYear  \\\n",
              "0                  NaN          Standard      Conventional      2006   \n",
              "1                  NaN          Standard      Conventional      2004   \n",
              "2                  NaN               NaN               NaN      2004   \n",
              "3                  NaN               NaN               NaN      2011   \n",
              "4                  NaN               NaN               NaN      2009   \n",
              "...                ...               ...               ...       ...   \n",
              "412693             NaN               NaN               NaN      2012   \n",
              "412694             NaN               NaN               NaN      2012   \n",
              "412695             NaN               NaN               NaN      2012   \n",
              "412696             NaN               NaN               NaN      2012   \n",
              "412697             NaN               NaN               NaN      2012   \n",
              "\n",
              "        saleMonth  saleWeek  saleDay  saleDayofweek  saleDayofyear  \\\n",
              "0              11        46       16              3            320   \n",
              "1               3        13       26              4             86   \n",
              "2               2         9       26              3             57   \n",
              "3               5        20       19              3            139   \n",
              "4               7        30       23              3            204   \n",
              "...           ...       ...      ...            ...            ...   \n",
              "412693          3        10        7              2             67   \n",
              "412694          1         4       28              5             28   \n",
              "412695          1         4       28              5             28   \n",
              "412696          3        10        7              2             67   \n",
              "412697          1         4       28              5             28   \n",
              "\n",
              "        saleIs_month_end  saleIs_month_start  saleIs_quarter_end  \\\n",
              "0                  False               False               False   \n",
              "1                  False               False               False   \n",
              "2                  False               False               False   \n",
              "3                  False               False               False   \n",
              "4                  False               False               False   \n",
              "...                  ...                 ...                 ...   \n",
              "412693             False               False               False   \n",
              "412694             False               False               False   \n",
              "412695             False               False               False   \n",
              "412696             False               False               False   \n",
              "412697             False               False               False   \n",
              "\n",
              "        saleIs_quarter_start  saleIs_year_end  saleIs_year_start   saleElapsed  \n",
              "0                      False            False              False  1.163635e+09  \n",
              "1                      False            False              False  1.080259e+09  \n",
              "2                      False            False              False  1.077754e+09  \n",
              "3                      False            False              False  1.305763e+09  \n",
              "4                      False            False              False  1.248307e+09  \n",
              "...                      ...              ...                ...           ...  \n",
              "412693                 False            False              False  1.331078e+09  \n",
              "412694                 False            False              False  1.327709e+09  \n",
              "412695                 False            False              False  1.327709e+09  \n",
              "412696                 False            False              False  1.331078e+09  \n",
              "412697                 False            False              False  1.327709e+09  \n",
              "\n",
              "[412698 rows x 65 columns]"
            ],
            "text/html": [
              "\n",
              "  <div id=\"df-e6cb8a5d-ad4f-46eb-9696-c1edfe9ddfad\">\n",
              "    <div class=\"colab-df-container\">\n",
              "      <div>\n",
              "<style scoped>\n",
              "    .dataframe tbody tr th:only-of-type {\n",
              "        vertical-align: middle;\n",
              "    }\n",
              "\n",
              "    .dataframe tbody tr th {\n",
              "        vertical-align: top;\n",
              "    }\n",
              "\n",
              "    .dataframe thead th {\n",
              "        text-align: right;\n",
              "    }\n",
              "</style>\n",
              "<table border=\"1\" class=\"dataframe\">\n",
              "  <thead>\n",
              "    <tr style=\"text-align: right;\">\n",
              "      <th></th>\n",
              "      <th>SalesID</th>\n",
              "      <th>SalePrice</th>\n",
              "      <th>MachineID</th>\n",
              "      <th>ModelID</th>\n",
              "      <th>datasource</th>\n",
              "      <th>auctioneerID</th>\n",
              "      <th>YearMade</th>\n",
              "      <th>MachineHoursCurrentMeter</th>\n",
              "      <th>UsageBand</th>\n",
              "      <th>fiModelDesc</th>\n",
              "      <th>fiBaseModel</th>\n",
              "      <th>fiSecondaryDesc</th>\n",
              "      <th>fiModelSeries</th>\n",
              "      <th>fiModelDescriptor</th>\n",
              "      <th>ProductSize</th>\n",
              "      <th>fiProductClassDesc</th>\n",
              "      <th>state</th>\n",
              "      <th>ProductGroup</th>\n",
              "      <th>ProductGroupDesc</th>\n",
              "      <th>Drive_System</th>\n",
              "      <th>Enclosure</th>\n",
              "      <th>Forks</th>\n",
              "      <th>Pad_Type</th>\n",
              "      <th>Ride_Control</th>\n",
              "      <th>Stick</th>\n",
              "      <th>Transmission</th>\n",
              "      <th>Turbocharged</th>\n",
              "      <th>Blade_Extension</th>\n",
              "      <th>Blade_Width</th>\n",
              "      <th>Enclosure_Type</th>\n",
              "      <th>Engine_Horsepower</th>\n",
              "      <th>Hydraulics</th>\n",
              "      <th>Pushblock</th>\n",
              "      <th>Ripper</th>\n",
              "      <th>Scarifier</th>\n",
              "      <th>Tip_Control</th>\n",
              "      <th>Tire_Size</th>\n",
              "      <th>Coupler</th>\n",
              "      <th>Coupler_System</th>\n",
              "      <th>Grouser_Tracks</th>\n",
              "      <th>Hydraulics_Flow</th>\n",
              "      <th>Track_Type</th>\n",
              "      <th>Undercarriage_Pad_Width</th>\n",
              "      <th>Stick_Length</th>\n",
              "      <th>Thumb</th>\n",
              "      <th>Pattern_Changer</th>\n",
              "      <th>Grouser_Type</th>\n",
              "      <th>Backhoe_Mounting</th>\n",
              "      <th>Blade_Type</th>\n",
              "      <th>Travel_Controls</th>\n",
              "      <th>Differential_Type</th>\n",
              "      <th>Steering_Controls</th>\n",
              "      <th>saleYear</th>\n",
              "      <th>saleMonth</th>\n",
              "      <th>saleWeek</th>\n",
              "      <th>saleDay</th>\n",
              "      <th>saleDayofweek</th>\n",
              "      <th>saleDayofyear</th>\n",
              "      <th>saleIs_month_end</th>\n",
              "      <th>saleIs_month_start</th>\n",
              "      <th>saleIs_quarter_end</th>\n",
              "      <th>saleIs_quarter_start</th>\n",
              "      <th>saleIs_year_end</th>\n",
              "      <th>saleIs_year_start</th>\n",
              "      <th>saleElapsed</th>\n",
              "    </tr>\n",
              "  </thead>\n",
              "  <tbody>\n",
              "    <tr>\n",
              "      <th>0</th>\n",
              "      <td>1139246</td>\n",
              "      <td>11.097410</td>\n",
              "      <td>999089</td>\n",
              "      <td>3157</td>\n",
              "      <td>121</td>\n",
              "      <td>3.0</td>\n",
              "      <td>2004</td>\n",
              "      <td>68.0</td>\n",
              "      <td>Low</td>\n",
              "      <td>521D</td>\n",
              "      <td>521</td>\n",
              "      <td>D</td>\n",
              "      <td>NaN</td>\n",
              "      <td>NaN</td>\n",
              "      <td>NaN</td>\n",
              "      <td>Wheel Loader - 110.0 to 120.0 Horsepower</td>\n",
              "      <td>Alabama</td>\n",
              "      <td>WL</td>\n",
              "      <td>Wheel Loader</td>\n",
              "      <td>NaN</td>\n",
              "      <td>EROPS w AC</td>\n",
              "      <td>None or Unspecified</td>\n",
              "      <td>NaN</td>\n",
              "      <td>None or Unspecified</td>\n",
              "      <td>NaN</td>\n",
              "      <td>NaN</td>\n",
              "      <td>NaN</td>\n",
              "      <td>NaN</td>\n",
              "      <td>NaN</td>\n",
              "      <td>NaN</td>\n",
              "      <td>NaN</td>\n",
              "      <td>2 Valve</td>\n",
              "      <td>NaN</td>\n",
              "      <td>NaN</td>\n",
              "      <td>NaN</td>\n",
              "      <td>NaN</td>\n",
              "      <td>None or Unspecified</td>\n",
              "      <td>None or Unspecified</td>\n",
              "      <td>NaN</td>\n",
              "      <td>NaN</td>\n",
              "      <td>NaN</td>\n",
              "      <td>NaN</td>\n",
              "      <td>NaN</td>\n",
              "      <td>NaN</td>\n",
              "      <td>NaN</td>\n",
              "      <td>NaN</td>\n",
              "      <td>NaN</td>\n",
              "      <td>NaN</td>\n",
              "      <td>NaN</td>\n",
              "      <td>NaN</td>\n",
              "      <td>Standard</td>\n",
              "      <td>Conventional</td>\n",
              "      <td>2006</td>\n",
              "      <td>11</td>\n",
              "      <td>46</td>\n",
              "      <td>16</td>\n",
              "      <td>3</td>\n",
              "      <td>320</td>\n",
              "      <td>False</td>\n",
              "      <td>False</td>\n",
              "      <td>False</td>\n",
              "      <td>False</td>\n",
              "      <td>False</td>\n",
              "      <td>False</td>\n",
              "      <td>1.163635e+09</td>\n",
              "    </tr>\n",
              "    <tr>\n",
              "      <th>1</th>\n",
              "      <td>1139248</td>\n",
              "      <td>10.950807</td>\n",
              "      <td>117657</td>\n",
              "      <td>77</td>\n",
              "      <td>121</td>\n",
              "      <td>3.0</td>\n",
              "      <td>1996</td>\n",
              "      <td>4640.0</td>\n",
              "      <td>Low</td>\n",
              "      <td>950FII</td>\n",
              "      <td>950</td>\n",
              "      <td>F</td>\n",
              "      <td>II</td>\n",
              "      <td>NaN</td>\n",
              "      <td>Medium</td>\n",
              "      <td>Wheel Loader - 150.0 to 175.0 Horsepower</td>\n",
              "      <td>North Carolina</td>\n",
              "      <td>WL</td>\n",
              "      <td>Wheel Loader</td>\n",
              "      <td>NaN</td>\n",
              "      <td>EROPS w AC</td>\n",
              "      <td>None or Unspecified</td>\n",
              "      <td>NaN</td>\n",
              "      <td>None or Unspecified</td>\n",
              "      <td>NaN</td>\n",
              "      <td>NaN</td>\n",
              "      <td>NaN</td>\n",
              "      <td>NaN</td>\n",
              "      <td>NaN</td>\n",
              "      <td>NaN</td>\n",
              "      <td>NaN</td>\n",
              "      <td>2 Valve</td>\n",
              "      <td>NaN</td>\n",
              "      <td>NaN</td>\n",
              "      <td>NaN</td>\n",
              "      <td>NaN</td>\n",
              "      <td>23.5</td>\n",
              "      <td>None or Unspecified</td>\n",
              "      <td>NaN</td>\n",
              "      <td>NaN</td>\n",
              "      <td>NaN</td>\n",
              "      <td>NaN</td>\n",
              "      <td>NaN</td>\n",
              "      <td>NaN</td>\n",
              "      <td>NaN</td>\n",
              "      <td>NaN</td>\n",
              "      <td>NaN</td>\n",
              "      <td>NaN</td>\n",
              "      <td>NaN</td>\n",
              "      <td>NaN</td>\n",
              "      <td>Standard</td>\n",
              "      <td>Conventional</td>\n",
              "      <td>2004</td>\n",
              "      <td>3</td>\n",
              "      <td>13</td>\n",
              "      <td>26</td>\n",
              "      <td>4</td>\n",
              "      <td>86</td>\n",
              "      <td>False</td>\n",
              "      <td>False</td>\n",
              "      <td>False</td>\n",
              "      <td>False</td>\n",
              "      <td>False</td>\n",
              "      <td>False</td>\n",
              "      <td>1.080259e+09</td>\n",
              "    </tr>\n",
              "    <tr>\n",
              "      <th>2</th>\n",
              "      <td>1139249</td>\n",
              "      <td>9.210340</td>\n",
              "      <td>434808</td>\n",
              "      <td>7009</td>\n",
              "      <td>121</td>\n",
              "      <td>3.0</td>\n",
              "      <td>2001</td>\n",
              "      <td>2838.0</td>\n",
              "      <td>High</td>\n",
              "      <td>226</td>\n",
              "      <td>226</td>\n",
              "      <td>NaN</td>\n",
              "      <td>NaN</td>\n",
              "      <td>NaN</td>\n",
              "      <td>NaN</td>\n",
              "      <td>Skid Steer Loader - 1351.0 to 1601.0 Lb Operating Capacity</td>\n",
              "      <td>New York</td>\n",
              "      <td>SSL</td>\n",
              "      <td>Skid Steer Loaders</td>\n",
              "      <td>NaN</td>\n",
              "      <td>OROPS</td>\n",
              "      <td>None or Unspecified</td>\n",
              "      <td>NaN</td>\n",
              "      <td>NaN</td>\n",
              "      <td>NaN</td>\n",
              "      <td>NaN</td>\n",
              "      <td>NaN</td>\n",
              "      <td>NaN</td>\n",
              "      <td>NaN</td>\n",
              "      <td>NaN</td>\n",
              "      <td>NaN</td>\n",
              "      <td>Auxiliary</td>\n",
              "      <td>NaN</td>\n",
              "      <td>NaN</td>\n",
              "      <td>NaN</td>\n",
              "      <td>NaN</td>\n",
              "      <td>NaN</td>\n",
              "      <td>None or Unspecified</td>\n",
              "      <td>None or Unspecified</td>\n",
              "      <td>None or Unspecified</td>\n",
              "      <td>Standard</td>\n",
              "      <td>NaN</td>\n",
              "      <td>NaN</td>\n",
              "      <td>NaN</td>\n",
              "      <td>NaN</td>\n",
              "      <td>NaN</td>\n",
              "      <td>NaN</td>\n",
              "      <td>NaN</td>\n",
              "      <td>NaN</td>\n",
              "      <td>NaN</td>\n",
              "      <td>NaN</td>\n",
              "      <td>NaN</td>\n",
              "      <td>2004</td>\n",
              "      <td>2</td>\n",
              "      <td>9</td>\n",
              "      <td>26</td>\n",
              "      <td>3</td>\n",
              "      <td>57</td>\n",
              "      <td>False</td>\n",
              "      <td>False</td>\n",
              "      <td>False</td>\n",
              "      <td>False</td>\n",
              "      <td>False</td>\n",
              "      <td>False</td>\n",
              "      <td>1.077754e+09</td>\n",
              "    </tr>\n",
              "    <tr>\n",
              "      <th>3</th>\n",
              "      <td>1139251</td>\n",
              "      <td>10.558414</td>\n",
              "      <td>1026470</td>\n",
              "      <td>332</td>\n",
              "      <td>121</td>\n",
              "      <td>3.0</td>\n",
              "      <td>2001</td>\n",
              "      <td>3486.0</td>\n",
              "      <td>High</td>\n",
              "      <td>PC120-6E</td>\n",
              "      <td>PC120</td>\n",
              "      <td>NaN</td>\n",
              "      <td>-6E</td>\n",
              "      <td>NaN</td>\n",
              "      <td>Small</td>\n",
              "      <td>Hydraulic Excavator, Track - 12.0 to 14.0 Metric Tons</td>\n",
              "      <td>Texas</td>\n",
              "      <td>TEX</td>\n",
              "      <td>Track Excavators</td>\n",
              "      <td>NaN</td>\n",
              "      <td>EROPS w AC</td>\n",
              "      <td>NaN</td>\n",
              "      <td>NaN</td>\n",
              "      <td>NaN</td>\n",
              "      <td>NaN</td>\n",
              "      <td>NaN</td>\n",
              "      <td>NaN</td>\n",
              "      <td>NaN</td>\n",
              "      <td>NaN</td>\n",
              "      <td>NaN</td>\n",
              "      <td>NaN</td>\n",
              "      <td>2 Valve</td>\n",
              "      <td>NaN</td>\n",
              "      <td>NaN</td>\n",
              "      <td>NaN</td>\n",
              "      <td>NaN</td>\n",
              "      <td>NaN</td>\n",
              "      <td>None or Unspecified</td>\n",
              "      <td>NaN</td>\n",
              "      <td>NaN</td>\n",
              "      <td>NaN</td>\n",
              "      <td>NaN</td>\n",
              "      <td>NaN</td>\n",
              "      <td>NaN</td>\n",
              "      <td>NaN</td>\n",
              "      <td>NaN</td>\n",
              "      <td>NaN</td>\n",
              "      <td>NaN</td>\n",
              "      <td>NaN</td>\n",
              "      <td>NaN</td>\n",
              "      <td>NaN</td>\n",
              "      <td>NaN</td>\n",
              "      <td>2011</td>\n",
              "      <td>5</td>\n",
              "      <td>20</td>\n",
              "      <td>19</td>\n",
              "      <td>3</td>\n",
              "      <td>139</td>\n",
              "      <td>False</td>\n",
              "      <td>False</td>\n",
              "      <td>False</td>\n",
              "      <td>False</td>\n",
              "      <td>False</td>\n",
              "      <td>False</td>\n",
              "      <td>1.305763e+09</td>\n",
              "    </tr>\n",
              "    <tr>\n",
              "      <th>4</th>\n",
              "      <td>1139253</td>\n",
              "      <td>9.305651</td>\n",
              "      <td>1057373</td>\n",
              "      <td>17311</td>\n",
              "      <td>121</td>\n",
              "      <td>3.0</td>\n",
              "      <td>2007</td>\n",
              "      <td>722.0</td>\n",
              "      <td>Medium</td>\n",
              "      <td>S175</td>\n",
              "      <td>S175</td>\n",
              "      <td>NaN</td>\n",
              "      <td>NaN</td>\n",
              "      <td>NaN</td>\n",
              "      <td>NaN</td>\n",
              "      <td>Skid Steer Loader - 1601.0 to 1751.0 Lb Operating Capacity</td>\n",
              "      <td>New York</td>\n",
              "      <td>SSL</td>\n",
              "      <td>Skid Steer Loaders</td>\n",
              "      <td>NaN</td>\n",
              "      <td>EROPS</td>\n",
              "      <td>None or Unspecified</td>\n",
              "      <td>NaN</td>\n",
              "      <td>NaN</td>\n",
              "      <td>NaN</td>\n",
              "      <td>NaN</td>\n",
              "      <td>NaN</td>\n",
              "      <td>NaN</td>\n",
              "      <td>NaN</td>\n",
              "      <td>NaN</td>\n",
              "      <td>NaN</td>\n",
              "      <td>Auxiliary</td>\n",
              "      <td>NaN</td>\n",
              "      <td>NaN</td>\n",
              "      <td>NaN</td>\n",
              "      <td>NaN</td>\n",
              "      <td>NaN</td>\n",
              "      <td>None or Unspecified</td>\n",
              "      <td>None or Unspecified</td>\n",
              "      <td>None or Unspecified</td>\n",
              "      <td>Standard</td>\n",
              "      <td>NaN</td>\n",
              "      <td>NaN</td>\n",
              "      <td>NaN</td>\n",
              "      <td>NaN</td>\n",
              "      <td>NaN</td>\n",
              "      <td>NaN</td>\n",
              "      <td>NaN</td>\n",
              "      <td>NaN</td>\n",
              "      <td>NaN</td>\n",
              "      <td>NaN</td>\n",
              "      <td>NaN</td>\n",
              "      <td>2009</td>\n",
              "      <td>7</td>\n",
              "      <td>30</td>\n",
              "      <td>23</td>\n",
              "      <td>3</td>\n",
              "      <td>204</td>\n",
              "      <td>False</td>\n",
              "      <td>False</td>\n",
              "      <td>False</td>\n",
              "      <td>False</td>\n",
              "      <td>False</td>\n",
              "      <td>False</td>\n",
              "      <td>1.248307e+09</td>\n",
              "    </tr>\n",
              "    <tr>\n",
              "      <th>...</th>\n",
              "      <td>...</td>\n",
              "      <td>...</td>\n",
              "      <td>...</td>\n",
              "      <td>...</td>\n",
              "      <td>...</td>\n",
              "      <td>...</td>\n",
              "      <td>...</td>\n",
              "      <td>...</td>\n",
              "      <td>...</td>\n",
              "      <td>...</td>\n",
              "      <td>...</td>\n",
              "      <td>...</td>\n",
              "      <td>...</td>\n",
              "      <td>...</td>\n",
              "      <td>...</td>\n",
              "      <td>...</td>\n",
              "      <td>...</td>\n",
              "      <td>...</td>\n",
              "      <td>...</td>\n",
              "      <td>...</td>\n",
              "      <td>...</td>\n",
              "      <td>...</td>\n",
              "      <td>...</td>\n",
              "      <td>...</td>\n",
              "      <td>...</td>\n",
              "      <td>...</td>\n",
              "      <td>...</td>\n",
              "      <td>...</td>\n",
              "      <td>...</td>\n",
              "      <td>...</td>\n",
              "      <td>...</td>\n",
              "      <td>...</td>\n",
              "      <td>...</td>\n",
              "      <td>...</td>\n",
              "      <td>...</td>\n",
              "      <td>...</td>\n",
              "      <td>...</td>\n",
              "      <td>...</td>\n",
              "      <td>...</td>\n",
              "      <td>...</td>\n",
              "      <td>...</td>\n",
              "      <td>...</td>\n",
              "      <td>...</td>\n",
              "      <td>...</td>\n",
              "      <td>...</td>\n",
              "      <td>...</td>\n",
              "      <td>...</td>\n",
              "      <td>...</td>\n",
              "      <td>...</td>\n",
              "      <td>...</td>\n",
              "      <td>...</td>\n",
              "      <td>...</td>\n",
              "      <td>...</td>\n",
              "      <td>...</td>\n",
              "      <td>...</td>\n",
              "      <td>...</td>\n",
              "      <td>...</td>\n",
              "      <td>...</td>\n",
              "      <td>...</td>\n",
              "      <td>...</td>\n",
              "      <td>...</td>\n",
              "      <td>...</td>\n",
              "      <td>...</td>\n",
              "      <td>...</td>\n",
              "      <td>...</td>\n",
              "    </tr>\n",
              "    <tr>\n",
              "      <th>412693</th>\n",
              "      <td>6333344</td>\n",
              "      <td>9.210340</td>\n",
              "      <td>1919201</td>\n",
              "      <td>21435</td>\n",
              "      <td>149</td>\n",
              "      <td>2.0</td>\n",
              "      <td>2005</td>\n",
              "      <td>NaN</td>\n",
              "      <td>NaN</td>\n",
              "      <td>30NX</td>\n",
              "      <td>30</td>\n",
              "      <td>NX</td>\n",
              "      <td>NaN</td>\n",
              "      <td>NaN</td>\n",
              "      <td>Mini</td>\n",
              "      <td>Hydraulic Excavator, Track - 2.0 to 3.0 Metric Tons</td>\n",
              "      <td>Texas</td>\n",
              "      <td>TEX</td>\n",
              "      <td>Track Excavators</td>\n",
              "      <td>NaN</td>\n",
              "      <td>EROPS</td>\n",
              "      <td>NaN</td>\n",
              "      <td>NaN</td>\n",
              "      <td>NaN</td>\n",
              "      <td>NaN</td>\n",
              "      <td>NaN</td>\n",
              "      <td>NaN</td>\n",
              "      <td>NaN</td>\n",
              "      <td>NaN</td>\n",
              "      <td>NaN</td>\n",
              "      <td>NaN</td>\n",
              "      <td>Standard</td>\n",
              "      <td>NaN</td>\n",
              "      <td>NaN</td>\n",
              "      <td>NaN</td>\n",
              "      <td>NaN</td>\n",
              "      <td>NaN</td>\n",
              "      <td>None or Unspecified</td>\n",
              "      <td>NaN</td>\n",
              "      <td>NaN</td>\n",
              "      <td>NaN</td>\n",
              "      <td>Steel</td>\n",
              "      <td>None or Unspecified</td>\n",
              "      <td>None or Unspecified</td>\n",
              "      <td>None or Unspecified</td>\n",
              "      <td>None or Unspecified</td>\n",
              "      <td>Double</td>\n",
              "      <td>NaN</td>\n",
              "      <td>NaN</td>\n",
              "      <td>NaN</td>\n",
              "      <td>NaN</td>\n",
              "      <td>NaN</td>\n",
              "      <td>2012</td>\n",
              "      <td>3</td>\n",
              "      <td>10</td>\n",
              "      <td>7</td>\n",
              "      <td>2</td>\n",
              "      <td>67</td>\n",
              "      <td>False</td>\n",
              "      <td>False</td>\n",
              "      <td>False</td>\n",
              "      <td>False</td>\n",
              "      <td>False</td>\n",
              "      <td>False</td>\n",
              "      <td>1.331078e+09</td>\n",
              "    </tr>\n",
              "    <tr>\n",
              "      <th>412694</th>\n",
              "      <td>6333345</td>\n",
              "      <td>9.259131</td>\n",
              "      <td>1882122</td>\n",
              "      <td>21436</td>\n",
              "      <td>149</td>\n",
              "      <td>2.0</td>\n",
              "      <td>2005</td>\n",
              "      <td>NaN</td>\n",
              "      <td>NaN</td>\n",
              "      <td>30NX2</td>\n",
              "      <td>30</td>\n",
              "      <td>NX</td>\n",
              "      <td>2</td>\n",
              "      <td>NaN</td>\n",
              "      <td>Mini</td>\n",
              "      <td>Hydraulic Excavator, Track - 3.0 to 4.0 Metric Tons</td>\n",
              "      <td>Florida</td>\n",
              "      <td>TEX</td>\n",
              "      <td>Track Excavators</td>\n",
              "      <td>NaN</td>\n",
              "      <td>EROPS</td>\n",
              "      <td>NaN</td>\n",
              "      <td>NaN</td>\n",
              "      <td>NaN</td>\n",
              "      <td>NaN</td>\n",
              "      <td>NaN</td>\n",
              "      <td>NaN</td>\n",
              "      <td>NaN</td>\n",
              "      <td>NaN</td>\n",
              "      <td>NaN</td>\n",
              "      <td>NaN</td>\n",
              "      <td>Auxiliary</td>\n",
              "      <td>NaN</td>\n",
              "      <td>NaN</td>\n",
              "      <td>NaN</td>\n",
              "      <td>NaN</td>\n",
              "      <td>NaN</td>\n",
              "      <td>None or Unspecified</td>\n",
              "      <td>NaN</td>\n",
              "      <td>NaN</td>\n",
              "      <td>NaN</td>\n",
              "      <td>Steel</td>\n",
              "      <td>None or Unspecified</td>\n",
              "      <td>None or Unspecified</td>\n",
              "      <td>None or Unspecified</td>\n",
              "      <td>None or Unspecified</td>\n",
              "      <td>Double</td>\n",
              "      <td>NaN</td>\n",
              "      <td>NaN</td>\n",
              "      <td>NaN</td>\n",
              "      <td>NaN</td>\n",
              "      <td>NaN</td>\n",
              "      <td>2012</td>\n",
              "      <td>1</td>\n",
              "      <td>4</td>\n",
              "      <td>28</td>\n",
              "      <td>5</td>\n",
              "      <td>28</td>\n",
              "      <td>False</td>\n",
              "      <td>False</td>\n",
              "      <td>False</td>\n",
              "      <td>False</td>\n",
              "      <td>False</td>\n",
              "      <td>False</td>\n",
              "      <td>1.327709e+09</td>\n",
              "    </tr>\n",
              "    <tr>\n",
              "      <th>412695</th>\n",
              "      <td>6333347</td>\n",
              "      <td>9.433484</td>\n",
              "      <td>1944213</td>\n",
              "      <td>21435</td>\n",
              "      <td>149</td>\n",
              "      <td>2.0</td>\n",
              "      <td>2005</td>\n",
              "      <td>NaN</td>\n",
              "      <td>NaN</td>\n",
              "      <td>30NX</td>\n",
              "      <td>30</td>\n",
              "      <td>NX</td>\n",
              "      <td>NaN</td>\n",
              "      <td>NaN</td>\n",
              "      <td>Mini</td>\n",
              "      <td>Hydraulic Excavator, Track - 2.0 to 3.0 Metric Tons</td>\n",
              "      <td>Florida</td>\n",
              "      <td>TEX</td>\n",
              "      <td>Track Excavators</td>\n",
              "      <td>NaN</td>\n",
              "      <td>EROPS</td>\n",
              "      <td>NaN</td>\n",
              "      <td>NaN</td>\n",
              "      <td>NaN</td>\n",
              "      <td>NaN</td>\n",
              "      <td>NaN</td>\n",
              "      <td>NaN</td>\n",
              "      <td>NaN</td>\n",
              "      <td>NaN</td>\n",
              "      <td>NaN</td>\n",
              "      <td>NaN</td>\n",
              "      <td>Auxiliary</td>\n",
              "      <td>NaN</td>\n",
              "      <td>NaN</td>\n",
              "      <td>NaN</td>\n",
              "      <td>NaN</td>\n",
              "      <td>NaN</td>\n",
              "      <td>None or Unspecified</td>\n",
              "      <td>NaN</td>\n",
              "      <td>NaN</td>\n",
              "      <td>NaN</td>\n",
              "      <td>Rubber</td>\n",
              "      <td>None or Unspecified</td>\n",
              "      <td>None or Unspecified</td>\n",
              "      <td>None or Unspecified</td>\n",
              "      <td>None or Unspecified</td>\n",
              "      <td>Double</td>\n",
              "      <td>NaN</td>\n",
              "      <td>NaN</td>\n",
              "      <td>NaN</td>\n",
              "      <td>NaN</td>\n",
              "      <td>NaN</td>\n",
              "      <td>2012</td>\n",
              "      <td>1</td>\n",
              "      <td>4</td>\n",
              "      <td>28</td>\n",
              "      <td>5</td>\n",
              "      <td>28</td>\n",
              "      <td>False</td>\n",
              "      <td>False</td>\n",
              "      <td>False</td>\n",
              "      <td>False</td>\n",
              "      <td>False</td>\n",
              "      <td>False</td>\n",
              "      <td>1.327709e+09</td>\n",
              "    </tr>\n",
              "    <tr>\n",
              "      <th>412696</th>\n",
              "      <td>6333348</td>\n",
              "      <td>9.210340</td>\n",
              "      <td>1794518</td>\n",
              "      <td>21435</td>\n",
              "      <td>149</td>\n",
              "      <td>2.0</td>\n",
              "      <td>2006</td>\n",
              "      <td>NaN</td>\n",
              "      <td>NaN</td>\n",
              "      <td>30NX</td>\n",
              "      <td>30</td>\n",
              "      <td>NX</td>\n",
              "      <td>NaN</td>\n",
              "      <td>NaN</td>\n",
              "      <td>Mini</td>\n",
              "      <td>Hydraulic Excavator, Track - 2.0 to 3.0 Metric Tons</td>\n",
              "      <td>Texas</td>\n",
              "      <td>TEX</td>\n",
              "      <td>Track Excavators</td>\n",
              "      <td>NaN</td>\n",
              "      <td>EROPS</td>\n",
              "      <td>NaN</td>\n",
              "      <td>NaN</td>\n",
              "      <td>NaN</td>\n",
              "      <td>NaN</td>\n",
              "      <td>NaN</td>\n",
              "      <td>NaN</td>\n",
              "      <td>NaN</td>\n",
              "      <td>NaN</td>\n",
              "      <td>NaN</td>\n",
              "      <td>NaN</td>\n",
              "      <td>Auxiliary</td>\n",
              "      <td>NaN</td>\n",
              "      <td>NaN</td>\n",
              "      <td>NaN</td>\n",
              "      <td>NaN</td>\n",
              "      <td>NaN</td>\n",
              "      <td>None or Unspecified</td>\n",
              "      <td>NaN</td>\n",
              "      <td>NaN</td>\n",
              "      <td>NaN</td>\n",
              "      <td>Rubber</td>\n",
              "      <td>None or Unspecified</td>\n",
              "      <td>None or Unspecified</td>\n",
              "      <td>None or Unspecified</td>\n",
              "      <td>None or Unspecified</td>\n",
              "      <td>Double</td>\n",
              "      <td>NaN</td>\n",
              "      <td>NaN</td>\n",
              "      <td>NaN</td>\n",
              "      <td>NaN</td>\n",
              "      <td>NaN</td>\n",
              "      <td>2012</td>\n",
              "      <td>3</td>\n",
              "      <td>10</td>\n",
              "      <td>7</td>\n",
              "      <td>2</td>\n",
              "      <td>67</td>\n",
              "      <td>False</td>\n",
              "      <td>False</td>\n",
              "      <td>False</td>\n",
              "      <td>False</td>\n",
              "      <td>False</td>\n",
              "      <td>False</td>\n",
              "      <td>1.331078e+09</td>\n",
              "    </tr>\n",
              "    <tr>\n",
              "      <th>412697</th>\n",
              "      <td>6333349</td>\n",
              "      <td>9.472705</td>\n",
              "      <td>1944743</td>\n",
              "      <td>21436</td>\n",
              "      <td>149</td>\n",
              "      <td>2.0</td>\n",
              "      <td>2006</td>\n",
              "      <td>NaN</td>\n",
              "      <td>NaN</td>\n",
              "      <td>30NX2</td>\n",
              "      <td>30</td>\n",
              "      <td>NX</td>\n",
              "      <td>2</td>\n",
              "      <td>NaN</td>\n",
              "      <td>Mini</td>\n",
              "      <td>Hydraulic Excavator, Track - 3.0 to 4.0 Metric Tons</td>\n",
              "      <td>Florida</td>\n",
              "      <td>TEX</td>\n",
              "      <td>Track Excavators</td>\n",
              "      <td>NaN</td>\n",
              "      <td>EROPS</td>\n",
              "      <td>NaN</td>\n",
              "      <td>NaN</td>\n",
              "      <td>NaN</td>\n",
              "      <td>NaN</td>\n",
              "      <td>NaN</td>\n",
              "      <td>NaN</td>\n",
              "      <td>NaN</td>\n",
              "      <td>NaN</td>\n",
              "      <td>NaN</td>\n",
              "      <td>NaN</td>\n",
              "      <td>Auxiliary</td>\n",
              "      <td>NaN</td>\n",
              "      <td>NaN</td>\n",
              "      <td>NaN</td>\n",
              "      <td>NaN</td>\n",
              "      <td>NaN</td>\n",
              "      <td>None or Unspecified</td>\n",
              "      <td>NaN</td>\n",
              "      <td>NaN</td>\n",
              "      <td>NaN</td>\n",
              "      <td>Rubber</td>\n",
              "      <td>None or Unspecified</td>\n",
              "      <td>None or Unspecified</td>\n",
              "      <td>None or Unspecified</td>\n",
              "      <td>None or Unspecified</td>\n",
              "      <td>Double</td>\n",
              "      <td>NaN</td>\n",
              "      <td>NaN</td>\n",
              "      <td>NaN</td>\n",
              "      <td>NaN</td>\n",
              "      <td>NaN</td>\n",
              "      <td>2012</td>\n",
              "      <td>1</td>\n",
              "      <td>4</td>\n",
              "      <td>28</td>\n",
              "      <td>5</td>\n",
              "      <td>28</td>\n",
              "      <td>False</td>\n",
              "      <td>False</td>\n",
              "      <td>False</td>\n",
              "      <td>False</td>\n",
              "      <td>False</td>\n",
              "      <td>False</td>\n",
              "      <td>1.327709e+09</td>\n",
              "    </tr>\n",
              "  </tbody>\n",
              "</table>\n",
              "<p>412698 rows × 65 columns</p>\n",
              "</div>\n",
              "      <button class=\"colab-df-convert\" onclick=\"convertToInteractive('df-e6cb8a5d-ad4f-46eb-9696-c1edfe9ddfad')\"\n",
              "              title=\"Convert this dataframe to an interactive table.\"\n",
              "              style=\"display:none;\">\n",
              "        \n",
              "  <svg xmlns=\"http://www.w3.org/2000/svg\" height=\"24px\"viewBox=\"0 0 24 24\"\n",
              "       width=\"24px\">\n",
              "    <path d=\"M0 0h24v24H0V0z\" fill=\"none\"/>\n",
              "    <path d=\"M18.56 5.44l.94 2.06.94-2.06 2.06-.94-2.06-.94-.94-2.06-.94 2.06-2.06.94zm-11 1L8.5 8.5l.94-2.06 2.06-.94-2.06-.94L8.5 2.5l-.94 2.06-2.06.94zm10 10l.94 2.06.94-2.06 2.06-.94-2.06-.94-.94-2.06-.94 2.06-2.06.94z\"/><path d=\"M17.41 7.96l-1.37-1.37c-.4-.4-.92-.59-1.43-.59-.52 0-1.04.2-1.43.59L10.3 9.45l-7.72 7.72c-.78.78-.78 2.05 0 2.83L4 21.41c.39.39.9.59 1.41.59.51 0 1.02-.2 1.41-.59l7.78-7.78 2.81-2.81c.8-.78.8-2.07 0-2.86zM5.41 20L4 18.59l7.72-7.72 1.47 1.35L5.41 20z\"/>\n",
              "  </svg>\n",
              "      </button>\n",
              "      \n",
              "  <style>\n",
              "    .colab-df-container {\n",
              "      display:flex;\n",
              "      flex-wrap:wrap;\n",
              "      gap: 12px;\n",
              "    }\n",
              "\n",
              "    .colab-df-convert {\n",
              "      background-color: #E8F0FE;\n",
              "      border: none;\n",
              "      border-radius: 50%;\n",
              "      cursor: pointer;\n",
              "      display: none;\n",
              "      fill: #1967D2;\n",
              "      height: 32px;\n",
              "      padding: 0 0 0 0;\n",
              "      width: 32px;\n",
              "    }\n",
              "\n",
              "    .colab-df-convert:hover {\n",
              "      background-color: #E2EBFA;\n",
              "      box-shadow: 0px 1px 2px rgba(60, 64, 67, 0.3), 0px 1px 3px 1px rgba(60, 64, 67, 0.15);\n",
              "      fill: #174EA6;\n",
              "    }\n",
              "\n",
              "    [theme=dark] .colab-df-convert {\n",
              "      background-color: #3B4455;\n",
              "      fill: #D2E3FC;\n",
              "    }\n",
              "\n",
              "    [theme=dark] .colab-df-convert:hover {\n",
              "      background-color: #434B5C;\n",
              "      box-shadow: 0px 1px 3px 1px rgba(0, 0, 0, 0.15);\n",
              "      filter: drop-shadow(0px 1px 2px rgba(0, 0, 0, 0.3));\n",
              "      fill: #FFFFFF;\n",
              "    }\n",
              "  </style>\n",
              "\n",
              "      <script>\n",
              "        const buttonEl =\n",
              "          document.querySelector('#df-e6cb8a5d-ad4f-46eb-9696-c1edfe9ddfad button.colab-df-convert');\n",
              "        buttonEl.style.display =\n",
              "          google.colab.kernel.accessAllowed ? 'block' : 'none';\n",
              "\n",
              "        async function convertToInteractive(key) {\n",
              "          const element = document.querySelector('#df-e6cb8a5d-ad4f-46eb-9696-c1edfe9ddfad');\n",
              "          const dataTable =\n",
              "            await google.colab.kernel.invokeFunction('convertToInteractive',\n",
              "                                                     [key], {});\n",
              "          if (!dataTable) return;\n",
              "\n",
              "          const docLinkHtml = 'Like what you see? Visit the ' +\n",
              "            '<a target=\"_blank\" href=https://colab.research.google.com/notebooks/data_table.ipynb>data table notebook</a>'\n",
              "            + ' to learn more about interactive tables.';\n",
              "          element.innerHTML = '';\n",
              "          dataTable['output_type'] = 'display_data';\n",
              "          await google.colab.output.renderOutput(dataTable, element);\n",
              "          const docLink = document.createElement('div');\n",
              "          docLink.innerHTML = docLinkHtml;\n",
              "          element.appendChild(docLink);\n",
              "        }\n",
              "      </script>\n",
              "    </div>\n",
              "  </div>\n",
              "  "
            ]
          },
          "metadata": {},
          "execution_count": 21
        }
      ]
    },
    {
      "cell_type": "code",
      "source": [
        "df[[f for f in df.columns if 'sale' in f]]"
      ],
      "metadata": {
        "colab": {
          "base_uri": "https://localhost:8080/",
          "height": 488
        },
        "id": "1ymqIGPaKDtE",
        "outputId": "d097d1d0-0a17-4a83-f035-5db459b675d0"
      },
      "execution_count": null,
      "outputs": [
        {
          "output_type": "execute_result",
          "data": {
            "text/plain": [
              "        saleYear  saleMonth  saleWeek  saleDay  saleDayofweek  saleDayofyear  \\\n",
              "0           2006         11        46       16              3            320   \n",
              "1           2004          3        13       26              4             86   \n",
              "2           2004          2         9       26              3             57   \n",
              "3           2011          5        20       19              3            139   \n",
              "4           2009          7        30       23              3            204   \n",
              "...          ...        ...       ...      ...            ...            ...   \n",
              "412693      2012          3        10        7              2             67   \n",
              "412694      2012          1         4       28              5             28   \n",
              "412695      2012          1         4       28              5             28   \n",
              "412696      2012          3        10        7              2             67   \n",
              "412697      2012          1         4       28              5             28   \n",
              "\n",
              "        saleIs_month_end  saleIs_month_start  saleIs_quarter_end  \\\n",
              "0                  False               False               False   \n",
              "1                  False               False               False   \n",
              "2                  False               False               False   \n",
              "3                  False               False               False   \n",
              "4                  False               False               False   \n",
              "...                  ...                 ...                 ...   \n",
              "412693             False               False               False   \n",
              "412694             False               False               False   \n",
              "412695             False               False               False   \n",
              "412696             False               False               False   \n",
              "412697             False               False               False   \n",
              "\n",
              "        saleIs_quarter_start  saleIs_year_end  saleIs_year_start   saleElapsed  \n",
              "0                      False            False              False  1.163635e+09  \n",
              "1                      False            False              False  1.080259e+09  \n",
              "2                      False            False              False  1.077754e+09  \n",
              "3                      False            False              False  1.305763e+09  \n",
              "4                      False            False              False  1.248307e+09  \n",
              "...                      ...              ...                ...           ...  \n",
              "412693                 False            False              False  1.331078e+09  \n",
              "412694                 False            False              False  1.327709e+09  \n",
              "412695                 False            False              False  1.327709e+09  \n",
              "412696                 False            False              False  1.331078e+09  \n",
              "412697                 False            False              False  1.327709e+09  \n",
              "\n",
              "[412698 rows x 13 columns]"
            ],
            "text/html": [
              "\n",
              "  <div id=\"df-aab42c03-0e77-4d31-a502-f21a3db1fcd6\">\n",
              "    <div class=\"colab-df-container\">\n",
              "      <div>\n",
              "<style scoped>\n",
              "    .dataframe tbody tr th:only-of-type {\n",
              "        vertical-align: middle;\n",
              "    }\n",
              "\n",
              "    .dataframe tbody tr th {\n",
              "        vertical-align: top;\n",
              "    }\n",
              "\n",
              "    .dataframe thead th {\n",
              "        text-align: right;\n",
              "    }\n",
              "</style>\n",
              "<table border=\"1\" class=\"dataframe\">\n",
              "  <thead>\n",
              "    <tr style=\"text-align: right;\">\n",
              "      <th></th>\n",
              "      <th>saleYear</th>\n",
              "      <th>saleMonth</th>\n",
              "      <th>saleWeek</th>\n",
              "      <th>saleDay</th>\n",
              "      <th>saleDayofweek</th>\n",
              "      <th>saleDayofyear</th>\n",
              "      <th>saleIs_month_end</th>\n",
              "      <th>saleIs_month_start</th>\n",
              "      <th>saleIs_quarter_end</th>\n",
              "      <th>saleIs_quarter_start</th>\n",
              "      <th>saleIs_year_end</th>\n",
              "      <th>saleIs_year_start</th>\n",
              "      <th>saleElapsed</th>\n",
              "    </tr>\n",
              "  </thead>\n",
              "  <tbody>\n",
              "    <tr>\n",
              "      <th>0</th>\n",
              "      <td>2006</td>\n",
              "      <td>11</td>\n",
              "      <td>46</td>\n",
              "      <td>16</td>\n",
              "      <td>3</td>\n",
              "      <td>320</td>\n",
              "      <td>False</td>\n",
              "      <td>False</td>\n",
              "      <td>False</td>\n",
              "      <td>False</td>\n",
              "      <td>False</td>\n",
              "      <td>False</td>\n",
              "      <td>1.163635e+09</td>\n",
              "    </tr>\n",
              "    <tr>\n",
              "      <th>1</th>\n",
              "      <td>2004</td>\n",
              "      <td>3</td>\n",
              "      <td>13</td>\n",
              "      <td>26</td>\n",
              "      <td>4</td>\n",
              "      <td>86</td>\n",
              "      <td>False</td>\n",
              "      <td>False</td>\n",
              "      <td>False</td>\n",
              "      <td>False</td>\n",
              "      <td>False</td>\n",
              "      <td>False</td>\n",
              "      <td>1.080259e+09</td>\n",
              "    </tr>\n",
              "    <tr>\n",
              "      <th>2</th>\n",
              "      <td>2004</td>\n",
              "      <td>2</td>\n",
              "      <td>9</td>\n",
              "      <td>26</td>\n",
              "      <td>3</td>\n",
              "      <td>57</td>\n",
              "      <td>False</td>\n",
              "      <td>False</td>\n",
              "      <td>False</td>\n",
              "      <td>False</td>\n",
              "      <td>False</td>\n",
              "      <td>False</td>\n",
              "      <td>1.077754e+09</td>\n",
              "    </tr>\n",
              "    <tr>\n",
              "      <th>3</th>\n",
              "      <td>2011</td>\n",
              "      <td>5</td>\n",
              "      <td>20</td>\n",
              "      <td>19</td>\n",
              "      <td>3</td>\n",
              "      <td>139</td>\n",
              "      <td>False</td>\n",
              "      <td>False</td>\n",
              "      <td>False</td>\n",
              "      <td>False</td>\n",
              "      <td>False</td>\n",
              "      <td>False</td>\n",
              "      <td>1.305763e+09</td>\n",
              "    </tr>\n",
              "    <tr>\n",
              "      <th>4</th>\n",
              "      <td>2009</td>\n",
              "      <td>7</td>\n",
              "      <td>30</td>\n",
              "      <td>23</td>\n",
              "      <td>3</td>\n",
              "      <td>204</td>\n",
              "      <td>False</td>\n",
              "      <td>False</td>\n",
              "      <td>False</td>\n",
              "      <td>False</td>\n",
              "      <td>False</td>\n",
              "      <td>False</td>\n",
              "      <td>1.248307e+09</td>\n",
              "    </tr>\n",
              "    <tr>\n",
              "      <th>...</th>\n",
              "      <td>...</td>\n",
              "      <td>...</td>\n",
              "      <td>...</td>\n",
              "      <td>...</td>\n",
              "      <td>...</td>\n",
              "      <td>...</td>\n",
              "      <td>...</td>\n",
              "      <td>...</td>\n",
              "      <td>...</td>\n",
              "      <td>...</td>\n",
              "      <td>...</td>\n",
              "      <td>...</td>\n",
              "      <td>...</td>\n",
              "    </tr>\n",
              "    <tr>\n",
              "      <th>412693</th>\n",
              "      <td>2012</td>\n",
              "      <td>3</td>\n",
              "      <td>10</td>\n",
              "      <td>7</td>\n",
              "      <td>2</td>\n",
              "      <td>67</td>\n",
              "      <td>False</td>\n",
              "      <td>False</td>\n",
              "      <td>False</td>\n",
              "      <td>False</td>\n",
              "      <td>False</td>\n",
              "      <td>False</td>\n",
              "      <td>1.331078e+09</td>\n",
              "    </tr>\n",
              "    <tr>\n",
              "      <th>412694</th>\n",
              "      <td>2012</td>\n",
              "      <td>1</td>\n",
              "      <td>4</td>\n",
              "      <td>28</td>\n",
              "      <td>5</td>\n",
              "      <td>28</td>\n",
              "      <td>False</td>\n",
              "      <td>False</td>\n",
              "      <td>False</td>\n",
              "      <td>False</td>\n",
              "      <td>False</td>\n",
              "      <td>False</td>\n",
              "      <td>1.327709e+09</td>\n",
              "    </tr>\n",
              "    <tr>\n",
              "      <th>412695</th>\n",
              "      <td>2012</td>\n",
              "      <td>1</td>\n",
              "      <td>4</td>\n",
              "      <td>28</td>\n",
              "      <td>5</td>\n",
              "      <td>28</td>\n",
              "      <td>False</td>\n",
              "      <td>False</td>\n",
              "      <td>False</td>\n",
              "      <td>False</td>\n",
              "      <td>False</td>\n",
              "      <td>False</td>\n",
              "      <td>1.327709e+09</td>\n",
              "    </tr>\n",
              "    <tr>\n",
              "      <th>412696</th>\n",
              "      <td>2012</td>\n",
              "      <td>3</td>\n",
              "      <td>10</td>\n",
              "      <td>7</td>\n",
              "      <td>2</td>\n",
              "      <td>67</td>\n",
              "      <td>False</td>\n",
              "      <td>False</td>\n",
              "      <td>False</td>\n",
              "      <td>False</td>\n",
              "      <td>False</td>\n",
              "      <td>False</td>\n",
              "      <td>1.331078e+09</td>\n",
              "    </tr>\n",
              "    <tr>\n",
              "      <th>412697</th>\n",
              "      <td>2012</td>\n",
              "      <td>1</td>\n",
              "      <td>4</td>\n",
              "      <td>28</td>\n",
              "      <td>5</td>\n",
              "      <td>28</td>\n",
              "      <td>False</td>\n",
              "      <td>False</td>\n",
              "      <td>False</td>\n",
              "      <td>False</td>\n",
              "      <td>False</td>\n",
              "      <td>False</td>\n",
              "      <td>1.327709e+09</td>\n",
              "    </tr>\n",
              "  </tbody>\n",
              "</table>\n",
              "<p>412698 rows × 13 columns</p>\n",
              "</div>\n",
              "      <button class=\"colab-df-convert\" onclick=\"convertToInteractive('df-aab42c03-0e77-4d31-a502-f21a3db1fcd6')\"\n",
              "              title=\"Convert this dataframe to an interactive table.\"\n",
              "              style=\"display:none;\">\n",
              "        \n",
              "  <svg xmlns=\"http://www.w3.org/2000/svg\" height=\"24px\"viewBox=\"0 0 24 24\"\n",
              "       width=\"24px\">\n",
              "    <path d=\"M0 0h24v24H0V0z\" fill=\"none\"/>\n",
              "    <path d=\"M18.56 5.44l.94 2.06.94-2.06 2.06-.94-2.06-.94-.94-2.06-.94 2.06-2.06.94zm-11 1L8.5 8.5l.94-2.06 2.06-.94-2.06-.94L8.5 2.5l-.94 2.06-2.06.94zm10 10l.94 2.06.94-2.06 2.06-.94-2.06-.94-.94-2.06-.94 2.06-2.06.94z\"/><path d=\"M17.41 7.96l-1.37-1.37c-.4-.4-.92-.59-1.43-.59-.52 0-1.04.2-1.43.59L10.3 9.45l-7.72 7.72c-.78.78-.78 2.05 0 2.83L4 21.41c.39.39.9.59 1.41.59.51 0 1.02-.2 1.41-.59l7.78-7.78 2.81-2.81c.8-.78.8-2.07 0-2.86zM5.41 20L4 18.59l7.72-7.72 1.47 1.35L5.41 20z\"/>\n",
              "  </svg>\n",
              "      </button>\n",
              "      \n",
              "  <style>\n",
              "    .colab-df-container {\n",
              "      display:flex;\n",
              "      flex-wrap:wrap;\n",
              "      gap: 12px;\n",
              "    }\n",
              "\n",
              "    .colab-df-convert {\n",
              "      background-color: #E8F0FE;\n",
              "      border: none;\n",
              "      border-radius: 50%;\n",
              "      cursor: pointer;\n",
              "      display: none;\n",
              "      fill: #1967D2;\n",
              "      height: 32px;\n",
              "      padding: 0 0 0 0;\n",
              "      width: 32px;\n",
              "    }\n",
              "\n",
              "    .colab-df-convert:hover {\n",
              "      background-color: #E2EBFA;\n",
              "      box-shadow: 0px 1px 2px rgba(60, 64, 67, 0.3), 0px 1px 3px 1px rgba(60, 64, 67, 0.15);\n",
              "      fill: #174EA6;\n",
              "    }\n",
              "\n",
              "    [theme=dark] .colab-df-convert {\n",
              "      background-color: #3B4455;\n",
              "      fill: #D2E3FC;\n",
              "    }\n",
              "\n",
              "    [theme=dark] .colab-df-convert:hover {\n",
              "      background-color: #434B5C;\n",
              "      box-shadow: 0px 1px 3px 1px rgba(0, 0, 0, 0.15);\n",
              "      filter: drop-shadow(0px 1px 2px rgba(0, 0, 0, 0.3));\n",
              "      fill: #FFFFFF;\n",
              "    }\n",
              "  </style>\n",
              "\n",
              "      <script>\n",
              "        const buttonEl =\n",
              "          document.querySelector('#df-aab42c03-0e77-4d31-a502-f21a3db1fcd6 button.colab-df-convert');\n",
              "        buttonEl.style.display =\n",
              "          google.colab.kernel.accessAllowed ? 'block' : 'none';\n",
              "\n",
              "        async function convertToInteractive(key) {\n",
              "          const element = document.querySelector('#df-aab42c03-0e77-4d31-a502-f21a3db1fcd6');\n",
              "          const dataTable =\n",
              "            await google.colab.kernel.invokeFunction('convertToInteractive',\n",
              "                                                     [key], {});\n",
              "          if (!dataTable) return;\n",
              "\n",
              "          const docLinkHtml = 'Like what you see? Visit the ' +\n",
              "            '<a target=\"_blank\" href=https://colab.research.google.com/notebooks/data_table.ipynb>data table notebook</a>'\n",
              "            + ' to learn more about interactive tables.';\n",
              "          element.innerHTML = '';\n",
              "          dataTable['output_type'] = 'display_data';\n",
              "          await google.colab.output.renderOutput(dataTable, element);\n",
              "          const docLink = document.createElement('div');\n",
              "          docLink.innerHTML = docLinkHtml;\n",
              "          element.appendChild(docLink);\n",
              "        }\n",
              "      </script>\n",
              "    </div>\n",
              "  </div>\n",
              "  "
            ]
          },
          "metadata": {},
          "execution_count": 22
        }
      ]
    },
    {
      "cell_type": "code",
      "source": [
        "# apply the same transformation to test dataset\n",
        "\n",
        "df_test = pd.read_csv(path/'Test.csv', low_memory = False)\n",
        "df_test = add_datepart(df_test, 'saledate')\n",
        "df_test.head()"
      ],
      "metadata": {
        "colab": {
          "base_uri": "https://localhost:8080/",
          "height": 426
        },
        "id": "z4IAVpofKbjk",
        "outputId": "ae767f6b-38c6-4f00-8d87-5fd5ce5eb112"
      },
      "execution_count": null,
      "outputs": [
        {
          "output_type": "execute_result",
          "data": {
            "text/plain": [
              "   SalesID  MachineID  ModelID  datasource  auctioneerID  YearMade  \\\n",
              "0  1227829    1006309     3168         121             3      1999   \n",
              "1  1227844    1022817     7271         121             3      1000   \n",
              "2  1227847    1031560    22805         121             3      2004   \n",
              "3  1227848      56204     1269         121             3      2006   \n",
              "4  1227863    1053887    22312         121             3      2005   \n",
              "\n",
              "   MachineHoursCurrentMeter UsageBand fiModelDesc fiBaseModel fiSecondaryDesc  \\\n",
              "0                    3688.0       Low        580G         580               G   \n",
              "1                   28555.0      High         936         936             NaN   \n",
              "2                    6038.0    Medium    EC210BLC       EC210               B   \n",
              "3                    8940.0      High       330CL         330               C   \n",
              "4                    2286.0       Low        650K         650               K   \n",
              "\n",
              "  fiModelSeries fiModelDescriptor     ProductSize  \\\n",
              "0           NaN               NaN             NaN   \n",
              "1           NaN               NaN          Medium   \n",
              "2           NaN                LC  Large / Medium   \n",
              "3           NaN                 L  Large / Medium   \n",
              "4           NaN               NaN             NaN   \n",
              "\n",
              "                                        fiProductClassDesc       state  \\\n",
              "0  Backhoe Loader - 14.0 to 15.0 Ft Standard Digging Depth     Wyoming   \n",
              "1                 Wheel Loader - 135.0 to 150.0 Horsepower    Virginia   \n",
              "2    Hydraulic Excavator, Track - 21.0 to 24.0 Metric Tons  New Jersey   \n",
              "3    Hydraulic Excavator, Track - 33.0 to 40.0 Metric Tons  New Jersey   \n",
              "4      Track Type Tractor, Dozer - 20.0 to 75.0 Horsepower     Florida   \n",
              "\n",
              "  ProductGroup     ProductGroupDesc     Drive_System   Enclosure Forks  \\\n",
              "0           BL      Backhoe Loaders  Two Wheel Drive       OROPS   Yes   \n",
              "1           WL         Wheel Loader              NaN       EROPS   Yes   \n",
              "2          TEX     Track Excavators              NaN  EROPS w AC   NaN   \n",
              "3          TEX     Track Excavators              NaN  EROPS w AC   NaN   \n",
              "4          TTT  Track Type Tractors              NaN       OROPS   NaN   \n",
              "\n",
              "              Pad_Type         Ride_Control     Stick Transmission  \\\n",
              "0  None or Unspecified                   No  Standard     Standard   \n",
              "1                  NaN  None or Unspecified       NaN          NaN   \n",
              "2                  NaN                  NaN       NaN          NaN   \n",
              "3                  NaN                  NaN       NaN          NaN   \n",
              "4                  NaN                  NaN       NaN  Hydrostatic   \n",
              "\n",
              "          Turbocharged Blade_Extension Blade_Width Enclosure_Type  \\\n",
              "0  None or Unspecified             NaN         NaN            NaN   \n",
              "1                  NaN             NaN         NaN            NaN   \n",
              "2                  NaN             NaN         NaN            NaN   \n",
              "3                  NaN             NaN         NaN            NaN   \n",
              "4                  NaN             NaN         NaN            NaN   \n",
              "\n",
              "  Engine_Horsepower Hydraulics Pushblock               Ripper Scarifier  \\\n",
              "0               NaN        NaN       NaN                  NaN       NaN   \n",
              "1               NaN    2 Valve       NaN                  NaN       NaN   \n",
              "2               NaN  Auxiliary       NaN                  NaN       NaN   \n",
              "3               NaN   Standard       NaN                  NaN       NaN   \n",
              "4               NaN    2 Valve       NaN  None or Unspecified       NaN   \n",
              "\n",
              "  Tip_Control Tire_Size              Coupler Coupler_System Grouser_Tracks  \\\n",
              "0         NaN       NaN                  NaN            NaN            NaN   \n",
              "1         NaN      20.5  None or Unspecified            NaN            NaN   \n",
              "2         NaN       NaN  None or Unspecified            NaN            NaN   \n",
              "3         NaN       NaN  None or Unspecified            NaN            NaN   \n",
              "4         NaN       NaN                  NaN            NaN            NaN   \n",
              "\n",
              "  Hydraulics_Flow Track_Type Undercarriage_Pad_Width         Stick_Length  \\\n",
              "0             NaN        NaN                     NaN                  NaN   \n",
              "1             NaN        NaN                     NaN                  NaN   \n",
              "2             NaN      Steel     None or Unspecified                9' 6\"   \n",
              "3             NaN      Steel     None or Unspecified  None or Unspecified   \n",
              "4             NaN        NaN                     NaN                  NaN   \n",
              "\n",
              "    Thumb      Pattern_Changer Grouser_Type     Backhoe_Mounting Blade_Type  \\\n",
              "0     NaN                  NaN          NaN                  NaN        NaN   \n",
              "1     NaN                  NaN          NaN                  NaN        NaN   \n",
              "2  Manual  None or Unspecified       Double                  NaN        NaN   \n",
              "3  Manual                  Yes       Triple                  NaN        NaN   \n",
              "4     NaN                  NaN          NaN  None or Unspecified        PAT   \n",
              "\n",
              "       Travel_Controls Differential_Type Steering_Controls  saleYear  \\\n",
              "0                  NaN               NaN               NaN      2012   \n",
              "1                  NaN          Standard      Conventional      2012   \n",
              "2                  NaN               NaN               NaN      2012   \n",
              "3                  NaN               NaN               NaN      2012   \n",
              "4  None or Unspecified               NaN               NaN      2012   \n",
              "\n",
              "   saleMonth  saleWeek  saleDay  saleDayofweek  saleDayofyear  \\\n",
              "0          5        18        3              3            124   \n",
              "1          5        19       10              3            131   \n",
              "2          5        19       10              3            131   \n",
              "3          5        19       10              3            131   \n",
              "4          5        19       10              3            131   \n",
              "\n",
              "   saleIs_month_end  saleIs_month_start  saleIs_quarter_end  \\\n",
              "0             False               False               False   \n",
              "1             False               False               False   \n",
              "2             False               False               False   \n",
              "3             False               False               False   \n",
              "4             False               False               False   \n",
              "\n",
              "   saleIs_quarter_start  saleIs_year_end  saleIs_year_start   saleElapsed  \n",
              "0                 False            False              False  1.336003e+09  \n",
              "1                 False            False              False  1.336608e+09  \n",
              "2                 False            False              False  1.336608e+09  \n",
              "3                 False            False              False  1.336608e+09  \n",
              "4                 False            False              False  1.336608e+09  "
            ],
            "text/html": [
              "\n",
              "  <div id=\"df-06b5ce52-fafc-41aa-9ec2-e8ae4cf112dd\">\n",
              "    <div class=\"colab-df-container\">\n",
              "      <div>\n",
              "<style scoped>\n",
              "    .dataframe tbody tr th:only-of-type {\n",
              "        vertical-align: middle;\n",
              "    }\n",
              "\n",
              "    .dataframe tbody tr th {\n",
              "        vertical-align: top;\n",
              "    }\n",
              "\n",
              "    .dataframe thead th {\n",
              "        text-align: right;\n",
              "    }\n",
              "</style>\n",
              "<table border=\"1\" class=\"dataframe\">\n",
              "  <thead>\n",
              "    <tr style=\"text-align: right;\">\n",
              "      <th></th>\n",
              "      <th>SalesID</th>\n",
              "      <th>MachineID</th>\n",
              "      <th>ModelID</th>\n",
              "      <th>datasource</th>\n",
              "      <th>auctioneerID</th>\n",
              "      <th>YearMade</th>\n",
              "      <th>MachineHoursCurrentMeter</th>\n",
              "      <th>UsageBand</th>\n",
              "      <th>fiModelDesc</th>\n",
              "      <th>fiBaseModel</th>\n",
              "      <th>fiSecondaryDesc</th>\n",
              "      <th>fiModelSeries</th>\n",
              "      <th>fiModelDescriptor</th>\n",
              "      <th>ProductSize</th>\n",
              "      <th>fiProductClassDesc</th>\n",
              "      <th>state</th>\n",
              "      <th>ProductGroup</th>\n",
              "      <th>ProductGroupDesc</th>\n",
              "      <th>Drive_System</th>\n",
              "      <th>Enclosure</th>\n",
              "      <th>Forks</th>\n",
              "      <th>Pad_Type</th>\n",
              "      <th>Ride_Control</th>\n",
              "      <th>Stick</th>\n",
              "      <th>Transmission</th>\n",
              "      <th>Turbocharged</th>\n",
              "      <th>Blade_Extension</th>\n",
              "      <th>Blade_Width</th>\n",
              "      <th>Enclosure_Type</th>\n",
              "      <th>Engine_Horsepower</th>\n",
              "      <th>Hydraulics</th>\n",
              "      <th>Pushblock</th>\n",
              "      <th>Ripper</th>\n",
              "      <th>Scarifier</th>\n",
              "      <th>Tip_Control</th>\n",
              "      <th>Tire_Size</th>\n",
              "      <th>Coupler</th>\n",
              "      <th>Coupler_System</th>\n",
              "      <th>Grouser_Tracks</th>\n",
              "      <th>Hydraulics_Flow</th>\n",
              "      <th>Track_Type</th>\n",
              "      <th>Undercarriage_Pad_Width</th>\n",
              "      <th>Stick_Length</th>\n",
              "      <th>Thumb</th>\n",
              "      <th>Pattern_Changer</th>\n",
              "      <th>Grouser_Type</th>\n",
              "      <th>Backhoe_Mounting</th>\n",
              "      <th>Blade_Type</th>\n",
              "      <th>Travel_Controls</th>\n",
              "      <th>Differential_Type</th>\n",
              "      <th>Steering_Controls</th>\n",
              "      <th>saleYear</th>\n",
              "      <th>saleMonth</th>\n",
              "      <th>saleWeek</th>\n",
              "      <th>saleDay</th>\n",
              "      <th>saleDayofweek</th>\n",
              "      <th>saleDayofyear</th>\n",
              "      <th>saleIs_month_end</th>\n",
              "      <th>saleIs_month_start</th>\n",
              "      <th>saleIs_quarter_end</th>\n",
              "      <th>saleIs_quarter_start</th>\n",
              "      <th>saleIs_year_end</th>\n",
              "      <th>saleIs_year_start</th>\n",
              "      <th>saleElapsed</th>\n",
              "    </tr>\n",
              "  </thead>\n",
              "  <tbody>\n",
              "    <tr>\n",
              "      <th>0</th>\n",
              "      <td>1227829</td>\n",
              "      <td>1006309</td>\n",
              "      <td>3168</td>\n",
              "      <td>121</td>\n",
              "      <td>3</td>\n",
              "      <td>1999</td>\n",
              "      <td>3688.0</td>\n",
              "      <td>Low</td>\n",
              "      <td>580G</td>\n",
              "      <td>580</td>\n",
              "      <td>G</td>\n",
              "      <td>NaN</td>\n",
              "      <td>NaN</td>\n",
              "      <td>NaN</td>\n",
              "      <td>Backhoe Loader - 14.0 to 15.0 Ft Standard Digging Depth</td>\n",
              "      <td>Wyoming</td>\n",
              "      <td>BL</td>\n",
              "      <td>Backhoe Loaders</td>\n",
              "      <td>Two Wheel Drive</td>\n",
              "      <td>OROPS</td>\n",
              "      <td>Yes</td>\n",
              "      <td>None or Unspecified</td>\n",
              "      <td>No</td>\n",
              "      <td>Standard</td>\n",
              "      <td>Standard</td>\n",
              "      <td>None or Unspecified</td>\n",
              "      <td>NaN</td>\n",
              "      <td>NaN</td>\n",
              "      <td>NaN</td>\n",
              "      <td>NaN</td>\n",
              "      <td>NaN</td>\n",
              "      <td>NaN</td>\n",
              "      <td>NaN</td>\n",
              "      <td>NaN</td>\n",
              "      <td>NaN</td>\n",
              "      <td>NaN</td>\n",
              "      <td>NaN</td>\n",
              "      <td>NaN</td>\n",
              "      <td>NaN</td>\n",
              "      <td>NaN</td>\n",
              "      <td>NaN</td>\n",
              "      <td>NaN</td>\n",
              "      <td>NaN</td>\n",
              "      <td>NaN</td>\n",
              "      <td>NaN</td>\n",
              "      <td>NaN</td>\n",
              "      <td>NaN</td>\n",
              "      <td>NaN</td>\n",
              "      <td>NaN</td>\n",
              "      <td>NaN</td>\n",
              "      <td>NaN</td>\n",
              "      <td>2012</td>\n",
              "      <td>5</td>\n",
              "      <td>18</td>\n",
              "      <td>3</td>\n",
              "      <td>3</td>\n",
              "      <td>124</td>\n",
              "      <td>False</td>\n",
              "      <td>False</td>\n",
              "      <td>False</td>\n",
              "      <td>False</td>\n",
              "      <td>False</td>\n",
              "      <td>False</td>\n",
              "      <td>1.336003e+09</td>\n",
              "    </tr>\n",
              "    <tr>\n",
              "      <th>1</th>\n",
              "      <td>1227844</td>\n",
              "      <td>1022817</td>\n",
              "      <td>7271</td>\n",
              "      <td>121</td>\n",
              "      <td>3</td>\n",
              "      <td>1000</td>\n",
              "      <td>28555.0</td>\n",
              "      <td>High</td>\n",
              "      <td>936</td>\n",
              "      <td>936</td>\n",
              "      <td>NaN</td>\n",
              "      <td>NaN</td>\n",
              "      <td>NaN</td>\n",
              "      <td>Medium</td>\n",
              "      <td>Wheel Loader - 135.0 to 150.0 Horsepower</td>\n",
              "      <td>Virginia</td>\n",
              "      <td>WL</td>\n",
              "      <td>Wheel Loader</td>\n",
              "      <td>NaN</td>\n",
              "      <td>EROPS</td>\n",
              "      <td>Yes</td>\n",
              "      <td>NaN</td>\n",
              "      <td>None or Unspecified</td>\n",
              "      <td>NaN</td>\n",
              "      <td>NaN</td>\n",
              "      <td>NaN</td>\n",
              "      <td>NaN</td>\n",
              "      <td>NaN</td>\n",
              "      <td>NaN</td>\n",
              "      <td>NaN</td>\n",
              "      <td>2 Valve</td>\n",
              "      <td>NaN</td>\n",
              "      <td>NaN</td>\n",
              "      <td>NaN</td>\n",
              "      <td>NaN</td>\n",
              "      <td>20.5</td>\n",
              "      <td>None or Unspecified</td>\n",
              "      <td>NaN</td>\n",
              "      <td>NaN</td>\n",
              "      <td>NaN</td>\n",
              "      <td>NaN</td>\n",
              "      <td>NaN</td>\n",
              "      <td>NaN</td>\n",
              "      <td>NaN</td>\n",
              "      <td>NaN</td>\n",
              "      <td>NaN</td>\n",
              "      <td>NaN</td>\n",
              "      <td>NaN</td>\n",
              "      <td>NaN</td>\n",
              "      <td>Standard</td>\n",
              "      <td>Conventional</td>\n",
              "      <td>2012</td>\n",
              "      <td>5</td>\n",
              "      <td>19</td>\n",
              "      <td>10</td>\n",
              "      <td>3</td>\n",
              "      <td>131</td>\n",
              "      <td>False</td>\n",
              "      <td>False</td>\n",
              "      <td>False</td>\n",
              "      <td>False</td>\n",
              "      <td>False</td>\n",
              "      <td>False</td>\n",
              "      <td>1.336608e+09</td>\n",
              "    </tr>\n",
              "    <tr>\n",
              "      <th>2</th>\n",
              "      <td>1227847</td>\n",
              "      <td>1031560</td>\n",
              "      <td>22805</td>\n",
              "      <td>121</td>\n",
              "      <td>3</td>\n",
              "      <td>2004</td>\n",
              "      <td>6038.0</td>\n",
              "      <td>Medium</td>\n",
              "      <td>EC210BLC</td>\n",
              "      <td>EC210</td>\n",
              "      <td>B</td>\n",
              "      <td>NaN</td>\n",
              "      <td>LC</td>\n",
              "      <td>Large / Medium</td>\n",
              "      <td>Hydraulic Excavator, Track - 21.0 to 24.0 Metric Tons</td>\n",
              "      <td>New Jersey</td>\n",
              "      <td>TEX</td>\n",
              "      <td>Track Excavators</td>\n",
              "      <td>NaN</td>\n",
              "      <td>EROPS w AC</td>\n",
              "      <td>NaN</td>\n",
              "      <td>NaN</td>\n",
              "      <td>NaN</td>\n",
              "      <td>NaN</td>\n",
              "      <td>NaN</td>\n",
              "      <td>NaN</td>\n",
              "      <td>NaN</td>\n",
              "      <td>NaN</td>\n",
              "      <td>NaN</td>\n",
              "      <td>NaN</td>\n",
              "      <td>Auxiliary</td>\n",
              "      <td>NaN</td>\n",
              "      <td>NaN</td>\n",
              "      <td>NaN</td>\n",
              "      <td>NaN</td>\n",
              "      <td>NaN</td>\n",
              "      <td>None or Unspecified</td>\n",
              "      <td>NaN</td>\n",
              "      <td>NaN</td>\n",
              "      <td>NaN</td>\n",
              "      <td>Steel</td>\n",
              "      <td>None or Unspecified</td>\n",
              "      <td>9' 6\"</td>\n",
              "      <td>Manual</td>\n",
              "      <td>None or Unspecified</td>\n",
              "      <td>Double</td>\n",
              "      <td>NaN</td>\n",
              "      <td>NaN</td>\n",
              "      <td>NaN</td>\n",
              "      <td>NaN</td>\n",
              "      <td>NaN</td>\n",
              "      <td>2012</td>\n",
              "      <td>5</td>\n",
              "      <td>19</td>\n",
              "      <td>10</td>\n",
              "      <td>3</td>\n",
              "      <td>131</td>\n",
              "      <td>False</td>\n",
              "      <td>False</td>\n",
              "      <td>False</td>\n",
              "      <td>False</td>\n",
              "      <td>False</td>\n",
              "      <td>False</td>\n",
              "      <td>1.336608e+09</td>\n",
              "    </tr>\n",
              "    <tr>\n",
              "      <th>3</th>\n",
              "      <td>1227848</td>\n",
              "      <td>56204</td>\n",
              "      <td>1269</td>\n",
              "      <td>121</td>\n",
              "      <td>3</td>\n",
              "      <td>2006</td>\n",
              "      <td>8940.0</td>\n",
              "      <td>High</td>\n",
              "      <td>330CL</td>\n",
              "      <td>330</td>\n",
              "      <td>C</td>\n",
              "      <td>NaN</td>\n",
              "      <td>L</td>\n",
              "      <td>Large / Medium</td>\n",
              "      <td>Hydraulic Excavator, Track - 33.0 to 40.0 Metric Tons</td>\n",
              "      <td>New Jersey</td>\n",
              "      <td>TEX</td>\n",
              "      <td>Track Excavators</td>\n",
              "      <td>NaN</td>\n",
              "      <td>EROPS w AC</td>\n",
              "      <td>NaN</td>\n",
              "      <td>NaN</td>\n",
              "      <td>NaN</td>\n",
              "      <td>NaN</td>\n",
              "      <td>NaN</td>\n",
              "      <td>NaN</td>\n",
              "      <td>NaN</td>\n",
              "      <td>NaN</td>\n",
              "      <td>NaN</td>\n",
              "      <td>NaN</td>\n",
              "      <td>Standard</td>\n",
              "      <td>NaN</td>\n",
              "      <td>NaN</td>\n",
              "      <td>NaN</td>\n",
              "      <td>NaN</td>\n",
              "      <td>NaN</td>\n",
              "      <td>None or Unspecified</td>\n",
              "      <td>NaN</td>\n",
              "      <td>NaN</td>\n",
              "      <td>NaN</td>\n",
              "      <td>Steel</td>\n",
              "      <td>None or Unspecified</td>\n",
              "      <td>None or Unspecified</td>\n",
              "      <td>Manual</td>\n",
              "      <td>Yes</td>\n",
              "      <td>Triple</td>\n",
              "      <td>NaN</td>\n",
              "      <td>NaN</td>\n",
              "      <td>NaN</td>\n",
              "      <td>NaN</td>\n",
              "      <td>NaN</td>\n",
              "      <td>2012</td>\n",
              "      <td>5</td>\n",
              "      <td>19</td>\n",
              "      <td>10</td>\n",
              "      <td>3</td>\n",
              "      <td>131</td>\n",
              "      <td>False</td>\n",
              "      <td>False</td>\n",
              "      <td>False</td>\n",
              "      <td>False</td>\n",
              "      <td>False</td>\n",
              "      <td>False</td>\n",
              "      <td>1.336608e+09</td>\n",
              "    </tr>\n",
              "    <tr>\n",
              "      <th>4</th>\n",
              "      <td>1227863</td>\n",
              "      <td>1053887</td>\n",
              "      <td>22312</td>\n",
              "      <td>121</td>\n",
              "      <td>3</td>\n",
              "      <td>2005</td>\n",
              "      <td>2286.0</td>\n",
              "      <td>Low</td>\n",
              "      <td>650K</td>\n",
              "      <td>650</td>\n",
              "      <td>K</td>\n",
              "      <td>NaN</td>\n",
              "      <td>NaN</td>\n",
              "      <td>NaN</td>\n",
              "      <td>Track Type Tractor, Dozer - 20.0 to 75.0 Horsepower</td>\n",
              "      <td>Florida</td>\n",
              "      <td>TTT</td>\n",
              "      <td>Track Type Tractors</td>\n",
              "      <td>NaN</td>\n",
              "      <td>OROPS</td>\n",
              "      <td>NaN</td>\n",
              "      <td>NaN</td>\n",
              "      <td>NaN</td>\n",
              "      <td>NaN</td>\n",
              "      <td>Hydrostatic</td>\n",
              "      <td>NaN</td>\n",
              "      <td>NaN</td>\n",
              "      <td>NaN</td>\n",
              "      <td>NaN</td>\n",
              "      <td>NaN</td>\n",
              "      <td>2 Valve</td>\n",
              "      <td>NaN</td>\n",
              "      <td>None or Unspecified</td>\n",
              "      <td>NaN</td>\n",
              "      <td>NaN</td>\n",
              "      <td>NaN</td>\n",
              "      <td>NaN</td>\n",
              "      <td>NaN</td>\n",
              "      <td>NaN</td>\n",
              "      <td>NaN</td>\n",
              "      <td>NaN</td>\n",
              "      <td>NaN</td>\n",
              "      <td>NaN</td>\n",
              "      <td>NaN</td>\n",
              "      <td>NaN</td>\n",
              "      <td>NaN</td>\n",
              "      <td>None or Unspecified</td>\n",
              "      <td>PAT</td>\n",
              "      <td>None or Unspecified</td>\n",
              "      <td>NaN</td>\n",
              "      <td>NaN</td>\n",
              "      <td>2012</td>\n",
              "      <td>5</td>\n",
              "      <td>19</td>\n",
              "      <td>10</td>\n",
              "      <td>3</td>\n",
              "      <td>131</td>\n",
              "      <td>False</td>\n",
              "      <td>False</td>\n",
              "      <td>False</td>\n",
              "      <td>False</td>\n",
              "      <td>False</td>\n",
              "      <td>False</td>\n",
              "      <td>1.336608e+09</td>\n",
              "    </tr>\n",
              "  </tbody>\n",
              "</table>\n",
              "</div>\n",
              "      <button class=\"colab-df-convert\" onclick=\"convertToInteractive('df-06b5ce52-fafc-41aa-9ec2-e8ae4cf112dd')\"\n",
              "              title=\"Convert this dataframe to an interactive table.\"\n",
              "              style=\"display:none;\">\n",
              "        \n",
              "  <svg xmlns=\"http://www.w3.org/2000/svg\" height=\"24px\"viewBox=\"0 0 24 24\"\n",
              "       width=\"24px\">\n",
              "    <path d=\"M0 0h24v24H0V0z\" fill=\"none\"/>\n",
              "    <path d=\"M18.56 5.44l.94 2.06.94-2.06 2.06-.94-2.06-.94-.94-2.06-.94 2.06-2.06.94zm-11 1L8.5 8.5l.94-2.06 2.06-.94-2.06-.94L8.5 2.5l-.94 2.06-2.06.94zm10 10l.94 2.06.94-2.06 2.06-.94-2.06-.94-.94-2.06-.94 2.06-2.06.94z\"/><path d=\"M17.41 7.96l-1.37-1.37c-.4-.4-.92-.59-1.43-.59-.52 0-1.04.2-1.43.59L10.3 9.45l-7.72 7.72c-.78.78-.78 2.05 0 2.83L4 21.41c.39.39.9.59 1.41.59.51 0 1.02-.2 1.41-.59l7.78-7.78 2.81-2.81c.8-.78.8-2.07 0-2.86zM5.41 20L4 18.59l7.72-7.72 1.47 1.35L5.41 20z\"/>\n",
              "  </svg>\n",
              "      </button>\n",
              "      \n",
              "  <style>\n",
              "    .colab-df-container {\n",
              "      display:flex;\n",
              "      flex-wrap:wrap;\n",
              "      gap: 12px;\n",
              "    }\n",
              "\n",
              "    .colab-df-convert {\n",
              "      background-color: #E8F0FE;\n",
              "      border: none;\n",
              "      border-radius: 50%;\n",
              "      cursor: pointer;\n",
              "      display: none;\n",
              "      fill: #1967D2;\n",
              "      height: 32px;\n",
              "      padding: 0 0 0 0;\n",
              "      width: 32px;\n",
              "    }\n",
              "\n",
              "    .colab-df-convert:hover {\n",
              "      background-color: #E2EBFA;\n",
              "      box-shadow: 0px 1px 2px rgba(60, 64, 67, 0.3), 0px 1px 3px 1px rgba(60, 64, 67, 0.15);\n",
              "      fill: #174EA6;\n",
              "    }\n",
              "\n",
              "    [theme=dark] .colab-df-convert {\n",
              "      background-color: #3B4455;\n",
              "      fill: #D2E3FC;\n",
              "    }\n",
              "\n",
              "    [theme=dark] .colab-df-convert:hover {\n",
              "      background-color: #434B5C;\n",
              "      box-shadow: 0px 1px 3px 1px rgba(0, 0, 0, 0.15);\n",
              "      filter: drop-shadow(0px 1px 2px rgba(0, 0, 0, 0.3));\n",
              "      fill: #FFFFFF;\n",
              "    }\n",
              "  </style>\n",
              "\n",
              "      <script>\n",
              "        const buttonEl =\n",
              "          document.querySelector('#df-06b5ce52-fafc-41aa-9ec2-e8ae4cf112dd button.colab-df-convert');\n",
              "        buttonEl.style.display =\n",
              "          google.colab.kernel.accessAllowed ? 'block' : 'none';\n",
              "\n",
              "        async function convertToInteractive(key) {\n",
              "          const element = document.querySelector('#df-06b5ce52-fafc-41aa-9ec2-e8ae4cf112dd');\n",
              "          const dataTable =\n",
              "            await google.colab.kernel.invokeFunction('convertToInteractive',\n",
              "                                                     [key], {});\n",
              "          if (!dataTable) return;\n",
              "\n",
              "          const docLinkHtml = 'Like what you see? Visit the ' +\n",
              "            '<a target=\"_blank\" href=https://colab.research.google.com/notebooks/data_table.ipynb>data table notebook</a>'\n",
              "            + ' to learn more about interactive tables.';\n",
              "          element.innerHTML = '';\n",
              "          dataTable['output_type'] = 'display_data';\n",
              "          await google.colab.output.renderOutput(dataTable, element);\n",
              "          const docLink = document.createElement('div');\n",
              "          docLink.innerHTML = docLinkHtml;\n",
              "          element.appendChild(docLink);\n",
              "        }\n",
              "      </script>\n",
              "    </div>\n",
              "  </div>\n",
              "  "
            ]
          },
          "metadata": {},
          "execution_count": 23
        }
      ]
    },
    {
      "cell_type": "code",
      "source": [
        "''.join(o for o in df.columns if o.startswith('sale'))"
      ],
      "metadata": {
        "colab": {
          "base_uri": "https://localhost:8080/",
          "height": 35
        },
        "id": "o_A3fPJrP0Xp",
        "outputId": "9083942f-e9fc-4a60-9694-0d072ed4394b"
      },
      "execution_count": null,
      "outputs": [
        {
          "output_type": "execute_result",
          "data": {
            "text/plain": [
              "'saleYearsaleMonthsaleWeeksaleDaysaleDayofweeksaleDayofyearsaleIs_month_endsaleIs_month_startsaleIs_quarter_endsaleIs_quarter_startsaleIs_year_endsaleIs_year_startsaleElapsed'"
            ],
            "application/vnd.google.colaboratory.intrinsic+json": {
              "type": "string"
            }
          },
          "metadata": {},
          "execution_count": 24
        }
      ]
    },
    {
      "cell_type": "markdown",
      "source": [
        "## 2) Type Casting and Handling Missing Data\n",
        "\n",
        "-  Categorify\n",
        "   + transform the categorical variables to something similar to pd.Categorical\n",
        "-  FillMissing\n",
        "   + fill in missing data"
      ],
      "metadata": {
        "id": "W8Rf8LRsQTRU"
      }
    },
    {
      "cell_type": "code",
      "source": [
        "procs = [Categorify, FillMissing]"
      ],
      "metadata": {
        "id": "qHVDeLVwRL2_"
      },
      "execution_count": null,
      "outputs": []
    },
    {
      "cell_type": "code",
      "source": [
        "# split train dataset into train and validation dataset\n",
        "cond = (df.saleYear < 2011) | (df.saleMonth<10)\n",
        "train_idx = np.where( cond)[0]\n",
        "valid_idx = np.where(~cond)[0]\n",
        "\n",
        "splits = (list(train_idx), list(valid_idx))"
      ],
      "metadata": {
        "id": "jObK_220RRkb"
      },
      "execution_count": null,
      "outputs": []
    },
    {
      "cell_type": "markdown",
      "source": [
        "- cont_cat_split\n",
        "  + find what category features and continuous features are"
      ],
      "metadata": {
        "id": "CIiL69h4Wr0B"
      }
    },
    {
      "cell_type": "code",
      "source": [
        "cont, cat  = cont_cat_split(df, 1, dep_var = dep_var)"
      ],
      "metadata": {
        "id": "JWnvRB5dSwZV"
      },
      "execution_count": null,
      "outputs": []
    },
    {
      "cell_type": "code",
      "source": [
        "help(cont_cat_split)"
      ],
      "metadata": {
        "colab": {
          "base_uri": "https://localhost:8080/"
        },
        "id": "GT4_lsvUVY7N",
        "outputId": "b08555b7-215c-4608-c0d2-e7c430e9e53a"
      },
      "execution_count": null,
      "outputs": [
        {
          "output_type": "stream",
          "name": "stdout",
          "text": [
            "Help on function cont_cat_split in module fastai.tabular.core:\n",
            "\n",
            "cont_cat_split(df, max_card=20, dep_var=None)\n",
            "    Helper function that returns column names of cont and cat variables from given `df`.\n",
            "\n"
          ]
        }
      ]
    },
    {
      "cell_type": "code",
      "source": [
        "# view continuous features\n",
        "cont"
      ],
      "metadata": {
        "colab": {
          "base_uri": "https://localhost:8080/"
        },
        "id": "OOos_NZeVa4d",
        "outputId": "5e31e467-4b9d-43c2-e2b8-f9f7c808b3d3"
      },
      "execution_count": null,
      "outputs": [
        {
          "output_type": "execute_result",
          "data": {
            "text/plain": [
              "['SalesID',\n",
              " 'MachineID',\n",
              " 'ModelID',\n",
              " 'datasource',\n",
              " 'auctioneerID',\n",
              " 'YearMade',\n",
              " 'MachineHoursCurrentMeter',\n",
              " 'saleYear',\n",
              " 'saleMonth',\n",
              " 'saleWeek',\n",
              " 'saleDay',\n",
              " 'saleDayofweek',\n",
              " 'saleDayofyear',\n",
              " 'saleElapsed']"
            ]
          },
          "metadata": {},
          "execution_count": 29
        }
      ]
    },
    {
      "cell_type": "code",
      "source": [
        "# view categorical features\n",
        "cat"
      ],
      "metadata": {
        "colab": {
          "base_uri": "https://localhost:8080/"
        },
        "id": "QEwpVJ9ZWRrI",
        "outputId": "a9f26c5a-54e2-40dc-bed1-f10ff84bba39"
      },
      "execution_count": null,
      "outputs": [
        {
          "output_type": "execute_result",
          "data": {
            "text/plain": [
              "['UsageBand',\n",
              " 'fiModelDesc',\n",
              " 'fiBaseModel',\n",
              " 'fiSecondaryDesc',\n",
              " 'fiModelSeries',\n",
              " 'fiModelDescriptor',\n",
              " 'ProductSize',\n",
              " 'fiProductClassDesc',\n",
              " 'state',\n",
              " 'ProductGroup',\n",
              " 'ProductGroupDesc',\n",
              " 'Drive_System',\n",
              " 'Enclosure',\n",
              " 'Forks',\n",
              " 'Pad_Type',\n",
              " 'Ride_Control',\n",
              " 'Stick',\n",
              " 'Transmission',\n",
              " 'Turbocharged',\n",
              " 'Blade_Extension',\n",
              " 'Blade_Width',\n",
              " 'Enclosure_Type',\n",
              " 'Engine_Horsepower',\n",
              " 'Hydraulics',\n",
              " 'Pushblock',\n",
              " 'Ripper',\n",
              " 'Scarifier',\n",
              " 'Tip_Control',\n",
              " 'Tire_Size',\n",
              " 'Coupler',\n",
              " 'Coupler_System',\n",
              " 'Grouser_Tracks',\n",
              " 'Hydraulics_Flow',\n",
              " 'Track_Type',\n",
              " 'Undercarriage_Pad_Width',\n",
              " 'Stick_Length',\n",
              " 'Thumb',\n",
              " 'Pattern_Changer',\n",
              " 'Grouser_Type',\n",
              " 'Backhoe_Mounting',\n",
              " 'Blade_Type',\n",
              " 'Travel_Controls',\n",
              " 'Differential_Type',\n",
              " 'Steering_Controls',\n",
              " 'saleIs_month_end',\n",
              " 'saleIs_month_start',\n",
              " 'saleIs_quarter_end',\n",
              " 'saleIs_quarter_start',\n",
              " 'saleIs_year_end',\n",
              " 'saleIs_year_start']"
            ]
          },
          "metadata": {},
          "execution_count": 30
        }
      ]
    },
    {
      "cell_type": "code",
      "source": [
        "df[cont].info()"
      ],
      "metadata": {
        "colab": {
          "base_uri": "https://localhost:8080/"
        },
        "id": "YVed66_9WUrA",
        "outputId": "9a1037ce-b996-4616-cf81-47888d949d69"
      },
      "execution_count": null,
      "outputs": [
        {
          "output_type": "stream",
          "name": "stdout",
          "text": [
            "<class 'pandas.core.frame.DataFrame'>\n",
            "RangeIndex: 412698 entries, 0 to 412697\n",
            "Data columns (total 14 columns):\n",
            " #   Column                    Non-Null Count   Dtype  \n",
            "---  ------                    --------------   -----  \n",
            " 0   SalesID                   412698 non-null  int64  \n",
            " 1   MachineID                 412698 non-null  int64  \n",
            " 2   ModelID                   412698 non-null  int64  \n",
            " 3   datasource                412698 non-null  int64  \n",
            " 4   auctioneerID              392562 non-null  float64\n",
            " 5   YearMade                  412698 non-null  int64  \n",
            " 6   MachineHoursCurrentMeter  147504 non-null  float64\n",
            " 7   saleYear                  412698 non-null  int64  \n",
            " 8   saleMonth                 412698 non-null  int64  \n",
            " 9   saleWeek                  412698 non-null  int64  \n",
            " 10  saleDay                   412698 non-null  int64  \n",
            " 11  saleDayofweek             412698 non-null  int64  \n",
            " 12  saleDayofyear             412698 non-null  int64  \n",
            " 13  saleElapsed               412698 non-null  float64\n",
            "dtypes: float64(3), int64(11)\n",
            "memory usage: 44.1 MB\n"
          ]
        }
      ]
    },
    {
      "cell_type": "code",
      "source": [
        "df[cat].info()"
      ],
      "metadata": {
        "colab": {
          "base_uri": "https://localhost:8080/"
        },
        "id": "1x1Gm5HEWXc1",
        "outputId": "2633c889-2b89-4465-af79-95a03df26eb2"
      },
      "execution_count": null,
      "outputs": [
        {
          "output_type": "stream",
          "name": "stdout",
          "text": [
            "<class 'pandas.core.frame.DataFrame'>\n",
            "RangeIndex: 412698 entries, 0 to 412697\n",
            "Data columns (total 50 columns):\n",
            " #   Column                   Non-Null Count   Dtype   \n",
            "---  ------                   --------------   -----   \n",
            " 0   UsageBand                73670 non-null   object  \n",
            " 1   fiModelDesc              412698 non-null  object  \n",
            " 2   fiBaseModel              412698 non-null  object  \n",
            " 3   fiSecondaryDesc          271971 non-null  object  \n",
            " 4   fiModelSeries            58667 non-null   object  \n",
            " 5   fiModelDescriptor        74816 non-null   object  \n",
            " 6   ProductSize              196093 non-null  category\n",
            " 7   fiProductClassDesc       412698 non-null  object  \n",
            " 8   state                    412698 non-null  object  \n",
            " 9   ProductGroup             412698 non-null  object  \n",
            " 10  ProductGroupDesc         412698 non-null  object  \n",
            " 11  Drive_System             107087 non-null  object  \n",
            " 12  Enclosure                412364 non-null  object  \n",
            " 13  Forks                    197715 non-null  object  \n",
            " 14  Pad_Type                 81096 non-null   object  \n",
            " 15  Ride_Control             152728 non-null  object  \n",
            " 16  Stick                    81096 non-null   object  \n",
            " 17  Transmission             188007 non-null  object  \n",
            " 18  Turbocharged             81096 non-null   object  \n",
            " 19  Blade_Extension          25983 non-null   object  \n",
            " 20  Blade_Width              25983 non-null   object  \n",
            " 21  Enclosure_Type           25983 non-null   object  \n",
            " 22  Engine_Horsepower        25983 non-null   object  \n",
            " 23  Hydraulics               330133 non-null  object  \n",
            " 24  Pushblock                25983 non-null   object  \n",
            " 25  Ripper                   106945 non-null  object  \n",
            " 26  Scarifier                25994 non-null   object  \n",
            " 27  Tip_Control              25983 non-null   object  \n",
            " 28  Tire_Size                97638 non-null   object  \n",
            " 29  Coupler                  220679 non-null  object  \n",
            " 30  Coupler_System           44974 non-null   object  \n",
            " 31  Grouser_Tracks           44875 non-null   object  \n",
            " 32  Hydraulics_Flow          44875 non-null   object  \n",
            " 33  Track_Type               102193 non-null  object  \n",
            " 34  Undercarriage_Pad_Width  102916 non-null  object  \n",
            " 35  Stick_Length             102261 non-null  object  \n",
            " 36  Thumb                    102332 non-null  object  \n",
            " 37  Pattern_Changer          102261 non-null  object  \n",
            " 38  Grouser_Type             102193 non-null  object  \n",
            " 39  Backhoe_Mounting         80712 non-null   object  \n",
            " 40  Blade_Type               81875 non-null   object  \n",
            " 41  Travel_Controls          81877 non-null   object  \n",
            " 42  Differential_Type        71564 non-null   object  \n",
            " 43  Steering_Controls        71522 non-null   object  \n",
            " 44  saleIs_month_end         412698 non-null  bool    \n",
            " 45  saleIs_month_start       412698 non-null  bool    \n",
            " 46  saleIs_quarter_end       412698 non-null  bool    \n",
            " 47  saleIs_quarter_start     412698 non-null  bool    \n",
            " 48  saleIs_year_end          412698 non-null  bool    \n",
            " 49  saleIs_year_start        412698 non-null  bool    \n",
            "dtypes: bool(6), category(1), object(43)\n",
            "memory usage: 138.1+ MB\n"
          ]
        }
      ]
    },
    {
      "cell_type": "markdown",
      "source": [
        "## 3) Convert Features to Numerical Value & Train Test Split"
      ],
      "metadata": {
        "id": "qbz4s8L8X05W"
      }
    },
    {
      "cell_type": "markdown",
      "source": [
        "**TabularPandas**\n",
        "\n",
        "https://docs.fast.ai/tabular.core.html#tabularpandas\n"
      ],
      "metadata": {
        "id": "e9ZUp9UgjSqE"
      }
    },
    {
      "cell_type": "code",
      "source": [
        "# splits = list of train data index and test data index\n",
        "to = TabularPandas(df, procs, cat, cont, y_names = dep_var, splits = splits)"
      ],
      "metadata": {
        "id": "YyI4egFkWgKS"
      },
      "execution_count": null,
      "outputs": []
    },
    {
      "cell_type": "code",
      "source": [
        "len(to.train), len(to.valid)"
      ],
      "metadata": {
        "colab": {
          "base_uri": "https://localhost:8080/"
        },
        "id": "Rjl8ekLVgM_O",
        "outputId": "98f74a82-1c8d-4d84-eb5d-40b46312a9a4"
      },
      "execution_count": null,
      "outputs": [
        {
          "output_type": "execute_result",
          "data": {
            "text/plain": [
              "(404710, 7988)"
            ]
          },
          "metadata": {},
          "execution_count": 34
        }
      ]
    },
    {
      "cell_type": "code",
      "source": [
        "to.show(3)"
      ],
      "metadata": {
        "colab": {
          "base_uri": "https://localhost:8080/",
          "height": 233
        },
        "id": "Jn6Un5JHXOc0",
        "outputId": "ff09164e-93ef-4f54-9342-0c91cc187468"
      },
      "execution_count": null,
      "outputs": [
        {
          "output_type": "display_data",
          "data": {
            "text/plain": [
              "<IPython.core.display.HTML object>"
            ],
            "text/html": [
              "<table border=\"1\" class=\"dataframe\">\n",
              "  <thead>\n",
              "    <tr style=\"text-align: right;\">\n",
              "      <th></th>\n",
              "      <th>UsageBand</th>\n",
              "      <th>fiModelDesc</th>\n",
              "      <th>fiBaseModel</th>\n",
              "      <th>fiSecondaryDesc</th>\n",
              "      <th>fiModelSeries</th>\n",
              "      <th>fiModelDescriptor</th>\n",
              "      <th>ProductSize</th>\n",
              "      <th>fiProductClassDesc</th>\n",
              "      <th>state</th>\n",
              "      <th>ProductGroup</th>\n",
              "      <th>ProductGroupDesc</th>\n",
              "      <th>Drive_System</th>\n",
              "      <th>Enclosure</th>\n",
              "      <th>Forks</th>\n",
              "      <th>Pad_Type</th>\n",
              "      <th>Ride_Control</th>\n",
              "      <th>Stick</th>\n",
              "      <th>Transmission</th>\n",
              "      <th>Turbocharged</th>\n",
              "      <th>Blade_Extension</th>\n",
              "      <th>Blade_Width</th>\n",
              "      <th>Enclosure_Type</th>\n",
              "      <th>Engine_Horsepower</th>\n",
              "      <th>Hydraulics</th>\n",
              "      <th>Pushblock</th>\n",
              "      <th>Ripper</th>\n",
              "      <th>Scarifier</th>\n",
              "      <th>Tip_Control</th>\n",
              "      <th>Tire_Size</th>\n",
              "      <th>Coupler</th>\n",
              "      <th>Coupler_System</th>\n",
              "      <th>Grouser_Tracks</th>\n",
              "      <th>Hydraulics_Flow</th>\n",
              "      <th>Track_Type</th>\n",
              "      <th>Undercarriage_Pad_Width</th>\n",
              "      <th>Stick_Length</th>\n",
              "      <th>Thumb</th>\n",
              "      <th>Pattern_Changer</th>\n",
              "      <th>Grouser_Type</th>\n",
              "      <th>Backhoe_Mounting</th>\n",
              "      <th>Blade_Type</th>\n",
              "      <th>Travel_Controls</th>\n",
              "      <th>Differential_Type</th>\n",
              "      <th>Steering_Controls</th>\n",
              "      <th>saleIs_month_end</th>\n",
              "      <th>saleIs_month_start</th>\n",
              "      <th>saleIs_quarter_end</th>\n",
              "      <th>saleIs_quarter_start</th>\n",
              "      <th>saleIs_year_end</th>\n",
              "      <th>saleIs_year_start</th>\n",
              "      <th>auctioneerID_na</th>\n",
              "      <th>MachineHoursCurrentMeter_na</th>\n",
              "      <th>SalesID</th>\n",
              "      <th>MachineID</th>\n",
              "      <th>ModelID</th>\n",
              "      <th>datasource</th>\n",
              "      <th>auctioneerID</th>\n",
              "      <th>YearMade</th>\n",
              "      <th>MachineHoursCurrentMeter</th>\n",
              "      <th>saleYear</th>\n",
              "      <th>saleMonth</th>\n",
              "      <th>saleWeek</th>\n",
              "      <th>saleDay</th>\n",
              "      <th>saleDayofweek</th>\n",
              "      <th>saleDayofyear</th>\n",
              "      <th>saleElapsed</th>\n",
              "      <th>SalePrice</th>\n",
              "    </tr>\n",
              "  </thead>\n",
              "  <tbody>\n",
              "    <tr>\n",
              "      <th>0</th>\n",
              "      <td>Low</td>\n",
              "      <td>521D</td>\n",
              "      <td>521</td>\n",
              "      <td>D</td>\n",
              "      <td>#na#</td>\n",
              "      <td>#na#</td>\n",
              "      <td>#na#</td>\n",
              "      <td>Wheel Loader - 110.0 to 120.0 Horsepower</td>\n",
              "      <td>Alabama</td>\n",
              "      <td>WL</td>\n",
              "      <td>Wheel Loader</td>\n",
              "      <td>#na#</td>\n",
              "      <td>EROPS w AC</td>\n",
              "      <td>None or Unspecified</td>\n",
              "      <td>#na#</td>\n",
              "      <td>None or Unspecified</td>\n",
              "      <td>#na#</td>\n",
              "      <td>#na#</td>\n",
              "      <td>#na#</td>\n",
              "      <td>#na#</td>\n",
              "      <td>#na#</td>\n",
              "      <td>#na#</td>\n",
              "      <td>#na#</td>\n",
              "      <td>2 Valve</td>\n",
              "      <td>#na#</td>\n",
              "      <td>#na#</td>\n",
              "      <td>#na#</td>\n",
              "      <td>#na#</td>\n",
              "      <td>None or Unspecified</td>\n",
              "      <td>None or Unspecified</td>\n",
              "      <td>#na#</td>\n",
              "      <td>#na#</td>\n",
              "      <td>#na#</td>\n",
              "      <td>#na#</td>\n",
              "      <td>#na#</td>\n",
              "      <td>#na#</td>\n",
              "      <td>#na#</td>\n",
              "      <td>#na#</td>\n",
              "      <td>#na#</td>\n",
              "      <td>#na#</td>\n",
              "      <td>#na#</td>\n",
              "      <td>#na#</td>\n",
              "      <td>Standard</td>\n",
              "      <td>Conventional</td>\n",
              "      <td>False</td>\n",
              "      <td>False</td>\n",
              "      <td>False</td>\n",
              "      <td>False</td>\n",
              "      <td>False</td>\n",
              "      <td>False</td>\n",
              "      <td>False</td>\n",
              "      <td>False</td>\n",
              "      <td>1139246</td>\n",
              "      <td>999089</td>\n",
              "      <td>3157</td>\n",
              "      <td>121</td>\n",
              "      <td>3.0</td>\n",
              "      <td>2004</td>\n",
              "      <td>68.0</td>\n",
              "      <td>2006</td>\n",
              "      <td>11</td>\n",
              "      <td>46</td>\n",
              "      <td>16</td>\n",
              "      <td>3</td>\n",
              "      <td>320</td>\n",
              "      <td>1.163635e+09</td>\n",
              "      <td>11.097410</td>\n",
              "    </tr>\n",
              "    <tr>\n",
              "      <th>1</th>\n",
              "      <td>Low</td>\n",
              "      <td>950FII</td>\n",
              "      <td>950</td>\n",
              "      <td>F</td>\n",
              "      <td>II</td>\n",
              "      <td>#na#</td>\n",
              "      <td>Medium</td>\n",
              "      <td>Wheel Loader - 150.0 to 175.0 Horsepower</td>\n",
              "      <td>North Carolina</td>\n",
              "      <td>WL</td>\n",
              "      <td>Wheel Loader</td>\n",
              "      <td>#na#</td>\n",
              "      <td>EROPS w AC</td>\n",
              "      <td>None or Unspecified</td>\n",
              "      <td>#na#</td>\n",
              "      <td>None or Unspecified</td>\n",
              "      <td>#na#</td>\n",
              "      <td>#na#</td>\n",
              "      <td>#na#</td>\n",
              "      <td>#na#</td>\n",
              "      <td>#na#</td>\n",
              "      <td>#na#</td>\n",
              "      <td>#na#</td>\n",
              "      <td>2 Valve</td>\n",
              "      <td>#na#</td>\n",
              "      <td>#na#</td>\n",
              "      <td>#na#</td>\n",
              "      <td>#na#</td>\n",
              "      <td>23.5</td>\n",
              "      <td>None or Unspecified</td>\n",
              "      <td>#na#</td>\n",
              "      <td>#na#</td>\n",
              "      <td>#na#</td>\n",
              "      <td>#na#</td>\n",
              "      <td>#na#</td>\n",
              "      <td>#na#</td>\n",
              "      <td>#na#</td>\n",
              "      <td>#na#</td>\n",
              "      <td>#na#</td>\n",
              "      <td>#na#</td>\n",
              "      <td>#na#</td>\n",
              "      <td>#na#</td>\n",
              "      <td>Standard</td>\n",
              "      <td>Conventional</td>\n",
              "      <td>False</td>\n",
              "      <td>False</td>\n",
              "      <td>False</td>\n",
              "      <td>False</td>\n",
              "      <td>False</td>\n",
              "      <td>False</td>\n",
              "      <td>False</td>\n",
              "      <td>False</td>\n",
              "      <td>1139248</td>\n",
              "      <td>117657</td>\n",
              "      <td>77</td>\n",
              "      <td>121</td>\n",
              "      <td>3.0</td>\n",
              "      <td>1996</td>\n",
              "      <td>4640.0</td>\n",
              "      <td>2004</td>\n",
              "      <td>3</td>\n",
              "      <td>13</td>\n",
              "      <td>26</td>\n",
              "      <td>4</td>\n",
              "      <td>86</td>\n",
              "      <td>1.080259e+09</td>\n",
              "      <td>10.950807</td>\n",
              "    </tr>\n",
              "    <tr>\n",
              "      <th>2</th>\n",
              "      <td>High</td>\n",
              "      <td>226</td>\n",
              "      <td>226</td>\n",
              "      <td>#na#</td>\n",
              "      <td>#na#</td>\n",
              "      <td>#na#</td>\n",
              "      <td>#na#</td>\n",
              "      <td>Skid Steer Loader - 1351.0 to 1601.0 Lb Operating Capacity</td>\n",
              "      <td>New York</td>\n",
              "      <td>SSL</td>\n",
              "      <td>Skid Steer Loaders</td>\n",
              "      <td>#na#</td>\n",
              "      <td>OROPS</td>\n",
              "      <td>None or Unspecified</td>\n",
              "      <td>#na#</td>\n",
              "      <td>#na#</td>\n",
              "      <td>#na#</td>\n",
              "      <td>#na#</td>\n",
              "      <td>#na#</td>\n",
              "      <td>#na#</td>\n",
              "      <td>#na#</td>\n",
              "      <td>#na#</td>\n",
              "      <td>#na#</td>\n",
              "      <td>Auxiliary</td>\n",
              "      <td>#na#</td>\n",
              "      <td>#na#</td>\n",
              "      <td>#na#</td>\n",
              "      <td>#na#</td>\n",
              "      <td>#na#</td>\n",
              "      <td>None or Unspecified</td>\n",
              "      <td>None or Unspecified</td>\n",
              "      <td>None or Unspecified</td>\n",
              "      <td>Standard</td>\n",
              "      <td>#na#</td>\n",
              "      <td>#na#</td>\n",
              "      <td>#na#</td>\n",
              "      <td>#na#</td>\n",
              "      <td>#na#</td>\n",
              "      <td>#na#</td>\n",
              "      <td>#na#</td>\n",
              "      <td>#na#</td>\n",
              "      <td>#na#</td>\n",
              "      <td>#na#</td>\n",
              "      <td>#na#</td>\n",
              "      <td>False</td>\n",
              "      <td>False</td>\n",
              "      <td>False</td>\n",
              "      <td>False</td>\n",
              "      <td>False</td>\n",
              "      <td>False</td>\n",
              "      <td>False</td>\n",
              "      <td>False</td>\n",
              "      <td>1139249</td>\n",
              "      <td>434808</td>\n",
              "      <td>7009</td>\n",
              "      <td>121</td>\n",
              "      <td>3.0</td>\n",
              "      <td>2001</td>\n",
              "      <td>2838.0</td>\n",
              "      <td>2004</td>\n",
              "      <td>2</td>\n",
              "      <td>9</td>\n",
              "      <td>26</td>\n",
              "      <td>3</td>\n",
              "      <td>57</td>\n",
              "      <td>1.077754e+09</td>\n",
              "      <td>9.210340</td>\n",
              "    </tr>\n",
              "  </tbody>\n",
              "</table>"
            ]
          },
          "metadata": {}
        }
      ]
    },
    {
      "cell_type": "markdown",
      "source": [
        "Categorical features aren't shown as numbers, but if you access items, you can see the data converted as numbers."
      ],
      "metadata": {
        "id": "MyOp-3Z7kDiK"
      }
    },
    {
      "cell_type": "code",
      "source": [
        "to.items.head(3)"
      ],
      "metadata": {
        "colab": {
          "base_uri": "https://localhost:8080/",
          "height": 207
        },
        "id": "aTOk3QxqgRnJ",
        "outputId": "5ab2e7f7-7794-465a-9e4d-91878617e468"
      },
      "execution_count": null,
      "outputs": [
        {
          "output_type": "execute_result",
          "data": {
            "text/plain": [
              "   SalesID  SalePrice  MachineID  ModelID  datasource  auctioneerID  YearMade  \\\n",
              "0  1139246  11.097410     999089     3157         121           3.0      2004   \n",
              "1  1139248  10.950807     117657       77         121           3.0      1996   \n",
              "2  1139249   9.210340     434808     7009         121           3.0      2001   \n",
              "\n",
              "   MachineHoursCurrentMeter  UsageBand  fiModelDesc  fiBaseModel  \\\n",
              "0                      68.0          2          963          298   \n",
              "1                    4640.0          2         1745          529   \n",
              "2                    2838.0          1          336          111   \n",
              "\n",
              "   fiSecondaryDesc  fiModelSeries  fiModelDescriptor  ProductSize  \\\n",
              "0               43              0                  0            0   \n",
              "1               57             98                  0            3   \n",
              "2                0              0                  0            0   \n",
              "\n",
              "   fiProductClassDesc  state  ProductGroup  ProductGroupDesc  Drive_System  \\\n",
              "0                  59      1             6                 6             0   \n",
              "1                  62     33             6                 6             0   \n",
              "2                  39     32             3                 3             0   \n",
              "\n",
              "   Enclosure  Forks  Pad_Type  Ride_Control  Stick  Transmission  \\\n",
              "0          3      1         0             2      0             0   \n",
              "1          3      1         0             2      0             0   \n",
              "2          6      1         0             0      0             0   \n",
              "\n",
              "   Turbocharged  Blade_Extension  Blade_Width  Enclosure_Type  \\\n",
              "0             0                0            0               0   \n",
              "1             0                0            0               0   \n",
              "2             0                0            0               0   \n",
              "\n",
              "   Engine_Horsepower  Hydraulics  Pushblock  Ripper  Scarifier  Tip_Control  \\\n",
              "0                  0           1          0       0          0            0   \n",
              "1                  0           1          0       0          0            0   \n",
              "2                  0           4          0       0          0            0   \n",
              "\n",
              "   Tire_Size  Coupler  Coupler_System  Grouser_Tracks  Hydraulics_Flow  \\\n",
              "0         17        3               0               0                0   \n",
              "1         12        3               0               0                0   \n",
              "2          0        3               1               1                3   \n",
              "\n",
              "   Track_Type  Undercarriage_Pad_Width  Stick_Length  Thumb  Pattern_Changer  \\\n",
              "0           0                        0             0      0                0   \n",
              "1           0                        0             0      0                0   \n",
              "2           0                        0             0      0                0   \n",
              "\n",
              "   Grouser_Type  Backhoe_Mounting  Blade_Type  Travel_Controls  \\\n",
              "0             0                 0           0                0   \n",
              "1             0                 0           0                0   \n",
              "2             0                 0           0                0   \n",
              "\n",
              "   Differential_Type  Steering_Controls  saleYear  saleMonth  saleWeek  \\\n",
              "0                  4                  2      2006         11        46   \n",
              "1                  4                  2      2004          3        13   \n",
              "2                  0                  0      2004          2         9   \n",
              "\n",
              "   saleDay  saleDayofweek  saleDayofyear  saleIs_month_end  \\\n",
              "0       16              3            320                 1   \n",
              "1       26              4             86                 1   \n",
              "2       26              3             57                 1   \n",
              "\n",
              "   saleIs_month_start  saleIs_quarter_end  saleIs_quarter_start  \\\n",
              "0                   1                   1                     1   \n",
              "1                   1                   1                     1   \n",
              "2                   1                   1                     1   \n",
              "\n",
              "   saleIs_year_end  saleIs_year_start   saleElapsed  auctioneerID_na  \\\n",
              "0                1                  1  1.163635e+09                1   \n",
              "1                1                  1  1.080259e+09                1   \n",
              "2                1                  1  1.077754e+09                1   \n",
              "\n",
              "   MachineHoursCurrentMeter_na  \n",
              "0                            1  \n",
              "1                            1  \n",
              "2                            1  "
            ],
            "text/html": [
              "\n",
              "  <div id=\"df-7a6c864c-835d-4f8c-93b7-9678f584984c\">\n",
              "    <div class=\"colab-df-container\">\n",
              "      <div>\n",
              "<style scoped>\n",
              "    .dataframe tbody tr th:only-of-type {\n",
              "        vertical-align: middle;\n",
              "    }\n",
              "\n",
              "    .dataframe tbody tr th {\n",
              "        vertical-align: top;\n",
              "    }\n",
              "\n",
              "    .dataframe thead th {\n",
              "        text-align: right;\n",
              "    }\n",
              "</style>\n",
              "<table border=\"1\" class=\"dataframe\">\n",
              "  <thead>\n",
              "    <tr style=\"text-align: right;\">\n",
              "      <th></th>\n",
              "      <th>SalesID</th>\n",
              "      <th>SalePrice</th>\n",
              "      <th>MachineID</th>\n",
              "      <th>ModelID</th>\n",
              "      <th>datasource</th>\n",
              "      <th>auctioneerID</th>\n",
              "      <th>YearMade</th>\n",
              "      <th>MachineHoursCurrentMeter</th>\n",
              "      <th>UsageBand</th>\n",
              "      <th>fiModelDesc</th>\n",
              "      <th>fiBaseModel</th>\n",
              "      <th>fiSecondaryDesc</th>\n",
              "      <th>fiModelSeries</th>\n",
              "      <th>fiModelDescriptor</th>\n",
              "      <th>ProductSize</th>\n",
              "      <th>fiProductClassDesc</th>\n",
              "      <th>state</th>\n",
              "      <th>ProductGroup</th>\n",
              "      <th>ProductGroupDesc</th>\n",
              "      <th>Drive_System</th>\n",
              "      <th>Enclosure</th>\n",
              "      <th>Forks</th>\n",
              "      <th>Pad_Type</th>\n",
              "      <th>Ride_Control</th>\n",
              "      <th>Stick</th>\n",
              "      <th>Transmission</th>\n",
              "      <th>Turbocharged</th>\n",
              "      <th>Blade_Extension</th>\n",
              "      <th>Blade_Width</th>\n",
              "      <th>Enclosure_Type</th>\n",
              "      <th>Engine_Horsepower</th>\n",
              "      <th>Hydraulics</th>\n",
              "      <th>Pushblock</th>\n",
              "      <th>Ripper</th>\n",
              "      <th>Scarifier</th>\n",
              "      <th>Tip_Control</th>\n",
              "      <th>Tire_Size</th>\n",
              "      <th>Coupler</th>\n",
              "      <th>Coupler_System</th>\n",
              "      <th>Grouser_Tracks</th>\n",
              "      <th>Hydraulics_Flow</th>\n",
              "      <th>Track_Type</th>\n",
              "      <th>Undercarriage_Pad_Width</th>\n",
              "      <th>Stick_Length</th>\n",
              "      <th>Thumb</th>\n",
              "      <th>Pattern_Changer</th>\n",
              "      <th>Grouser_Type</th>\n",
              "      <th>Backhoe_Mounting</th>\n",
              "      <th>Blade_Type</th>\n",
              "      <th>Travel_Controls</th>\n",
              "      <th>Differential_Type</th>\n",
              "      <th>Steering_Controls</th>\n",
              "      <th>saleYear</th>\n",
              "      <th>saleMonth</th>\n",
              "      <th>saleWeek</th>\n",
              "      <th>saleDay</th>\n",
              "      <th>saleDayofweek</th>\n",
              "      <th>saleDayofyear</th>\n",
              "      <th>saleIs_month_end</th>\n",
              "      <th>saleIs_month_start</th>\n",
              "      <th>saleIs_quarter_end</th>\n",
              "      <th>saleIs_quarter_start</th>\n",
              "      <th>saleIs_year_end</th>\n",
              "      <th>saleIs_year_start</th>\n",
              "      <th>saleElapsed</th>\n",
              "      <th>auctioneerID_na</th>\n",
              "      <th>MachineHoursCurrentMeter_na</th>\n",
              "    </tr>\n",
              "  </thead>\n",
              "  <tbody>\n",
              "    <tr>\n",
              "      <th>0</th>\n",
              "      <td>1139246</td>\n",
              "      <td>11.097410</td>\n",
              "      <td>999089</td>\n",
              "      <td>3157</td>\n",
              "      <td>121</td>\n",
              "      <td>3.0</td>\n",
              "      <td>2004</td>\n",
              "      <td>68.0</td>\n",
              "      <td>2</td>\n",
              "      <td>963</td>\n",
              "      <td>298</td>\n",
              "      <td>43</td>\n",
              "      <td>0</td>\n",
              "      <td>0</td>\n",
              "      <td>0</td>\n",
              "      <td>59</td>\n",
              "      <td>1</td>\n",
              "      <td>6</td>\n",
              "      <td>6</td>\n",
              "      <td>0</td>\n",
              "      <td>3</td>\n",
              "      <td>1</td>\n",
              "      <td>0</td>\n",
              "      <td>2</td>\n",
              "      <td>0</td>\n",
              "      <td>0</td>\n",
              "      <td>0</td>\n",
              "      <td>0</td>\n",
              "      <td>0</td>\n",
              "      <td>0</td>\n",
              "      <td>0</td>\n",
              "      <td>1</td>\n",
              "      <td>0</td>\n",
              "      <td>0</td>\n",
              "      <td>0</td>\n",
              "      <td>0</td>\n",
              "      <td>17</td>\n",
              "      <td>3</td>\n",
              "      <td>0</td>\n",
              "      <td>0</td>\n",
              "      <td>0</td>\n",
              "      <td>0</td>\n",
              "      <td>0</td>\n",
              "      <td>0</td>\n",
              "      <td>0</td>\n",
              "      <td>0</td>\n",
              "      <td>0</td>\n",
              "      <td>0</td>\n",
              "      <td>0</td>\n",
              "      <td>0</td>\n",
              "      <td>4</td>\n",
              "      <td>2</td>\n",
              "      <td>2006</td>\n",
              "      <td>11</td>\n",
              "      <td>46</td>\n",
              "      <td>16</td>\n",
              "      <td>3</td>\n",
              "      <td>320</td>\n",
              "      <td>1</td>\n",
              "      <td>1</td>\n",
              "      <td>1</td>\n",
              "      <td>1</td>\n",
              "      <td>1</td>\n",
              "      <td>1</td>\n",
              "      <td>1.163635e+09</td>\n",
              "      <td>1</td>\n",
              "      <td>1</td>\n",
              "    </tr>\n",
              "    <tr>\n",
              "      <th>1</th>\n",
              "      <td>1139248</td>\n",
              "      <td>10.950807</td>\n",
              "      <td>117657</td>\n",
              "      <td>77</td>\n",
              "      <td>121</td>\n",
              "      <td>3.0</td>\n",
              "      <td>1996</td>\n",
              "      <td>4640.0</td>\n",
              "      <td>2</td>\n",
              "      <td>1745</td>\n",
              "      <td>529</td>\n",
              "      <td>57</td>\n",
              "      <td>98</td>\n",
              "      <td>0</td>\n",
              "      <td>3</td>\n",
              "      <td>62</td>\n",
              "      <td>33</td>\n",
              "      <td>6</td>\n",
              "      <td>6</td>\n",
              "      <td>0</td>\n",
              "      <td>3</td>\n",
              "      <td>1</td>\n",
              "      <td>0</td>\n",
              "      <td>2</td>\n",
              "      <td>0</td>\n",
              "      <td>0</td>\n",
              "      <td>0</td>\n",
              "      <td>0</td>\n",
              "      <td>0</td>\n",
              "      <td>0</td>\n",
              "      <td>0</td>\n",
              "      <td>1</td>\n",
              "      <td>0</td>\n",
              "      <td>0</td>\n",
              "      <td>0</td>\n",
              "      <td>0</td>\n",
              "      <td>12</td>\n",
              "      <td>3</td>\n",
              "      <td>0</td>\n",
              "      <td>0</td>\n",
              "      <td>0</td>\n",
              "      <td>0</td>\n",
              "      <td>0</td>\n",
              "      <td>0</td>\n",
              "      <td>0</td>\n",
              "      <td>0</td>\n",
              "      <td>0</td>\n",
              "      <td>0</td>\n",
              "      <td>0</td>\n",
              "      <td>0</td>\n",
              "      <td>4</td>\n",
              "      <td>2</td>\n",
              "      <td>2004</td>\n",
              "      <td>3</td>\n",
              "      <td>13</td>\n",
              "      <td>26</td>\n",
              "      <td>4</td>\n",
              "      <td>86</td>\n",
              "      <td>1</td>\n",
              "      <td>1</td>\n",
              "      <td>1</td>\n",
              "      <td>1</td>\n",
              "      <td>1</td>\n",
              "      <td>1</td>\n",
              "      <td>1.080259e+09</td>\n",
              "      <td>1</td>\n",
              "      <td>1</td>\n",
              "    </tr>\n",
              "    <tr>\n",
              "      <th>2</th>\n",
              "      <td>1139249</td>\n",
              "      <td>9.210340</td>\n",
              "      <td>434808</td>\n",
              "      <td>7009</td>\n",
              "      <td>121</td>\n",
              "      <td>3.0</td>\n",
              "      <td>2001</td>\n",
              "      <td>2838.0</td>\n",
              "      <td>1</td>\n",
              "      <td>336</td>\n",
              "      <td>111</td>\n",
              "      <td>0</td>\n",
              "      <td>0</td>\n",
              "      <td>0</td>\n",
              "      <td>0</td>\n",
              "      <td>39</td>\n",
              "      <td>32</td>\n",
              "      <td>3</td>\n",
              "      <td>3</td>\n",
              "      <td>0</td>\n",
              "      <td>6</td>\n",
              "      <td>1</td>\n",
              "      <td>0</td>\n",
              "      <td>0</td>\n",
              "      <td>0</td>\n",
              "      <td>0</td>\n",
              "      <td>0</td>\n",
              "      <td>0</td>\n",
              "      <td>0</td>\n",
              "      <td>0</td>\n",
              "      <td>0</td>\n",
              "      <td>4</td>\n",
              "      <td>0</td>\n",
              "      <td>0</td>\n",
              "      <td>0</td>\n",
              "      <td>0</td>\n",
              "      <td>0</td>\n",
              "      <td>3</td>\n",
              "      <td>1</td>\n",
              "      <td>1</td>\n",
              "      <td>3</td>\n",
              "      <td>0</td>\n",
              "      <td>0</td>\n",
              "      <td>0</td>\n",
              "      <td>0</td>\n",
              "      <td>0</td>\n",
              "      <td>0</td>\n",
              "      <td>0</td>\n",
              "      <td>0</td>\n",
              "      <td>0</td>\n",
              "      <td>0</td>\n",
              "      <td>0</td>\n",
              "      <td>2004</td>\n",
              "      <td>2</td>\n",
              "      <td>9</td>\n",
              "      <td>26</td>\n",
              "      <td>3</td>\n",
              "      <td>57</td>\n",
              "      <td>1</td>\n",
              "      <td>1</td>\n",
              "      <td>1</td>\n",
              "      <td>1</td>\n",
              "      <td>1</td>\n",
              "      <td>1</td>\n",
              "      <td>1.077754e+09</td>\n",
              "      <td>1</td>\n",
              "      <td>1</td>\n",
              "    </tr>\n",
              "  </tbody>\n",
              "</table>\n",
              "</div>\n",
              "      <button class=\"colab-df-convert\" onclick=\"convertToInteractive('df-7a6c864c-835d-4f8c-93b7-9678f584984c')\"\n",
              "              title=\"Convert this dataframe to an interactive table.\"\n",
              "              style=\"display:none;\">\n",
              "        \n",
              "  <svg xmlns=\"http://www.w3.org/2000/svg\" height=\"24px\"viewBox=\"0 0 24 24\"\n",
              "       width=\"24px\">\n",
              "    <path d=\"M0 0h24v24H0V0z\" fill=\"none\"/>\n",
              "    <path d=\"M18.56 5.44l.94 2.06.94-2.06 2.06-.94-2.06-.94-.94-2.06-.94 2.06-2.06.94zm-11 1L8.5 8.5l.94-2.06 2.06-.94-2.06-.94L8.5 2.5l-.94 2.06-2.06.94zm10 10l.94 2.06.94-2.06 2.06-.94-2.06-.94-.94-2.06-.94 2.06-2.06.94z\"/><path d=\"M17.41 7.96l-1.37-1.37c-.4-.4-.92-.59-1.43-.59-.52 0-1.04.2-1.43.59L10.3 9.45l-7.72 7.72c-.78.78-.78 2.05 0 2.83L4 21.41c.39.39.9.59 1.41.59.51 0 1.02-.2 1.41-.59l7.78-7.78 2.81-2.81c.8-.78.8-2.07 0-2.86zM5.41 20L4 18.59l7.72-7.72 1.47 1.35L5.41 20z\"/>\n",
              "  </svg>\n",
              "      </button>\n",
              "      \n",
              "  <style>\n",
              "    .colab-df-container {\n",
              "      display:flex;\n",
              "      flex-wrap:wrap;\n",
              "      gap: 12px;\n",
              "    }\n",
              "\n",
              "    .colab-df-convert {\n",
              "      background-color: #E8F0FE;\n",
              "      border: none;\n",
              "      border-radius: 50%;\n",
              "      cursor: pointer;\n",
              "      display: none;\n",
              "      fill: #1967D2;\n",
              "      height: 32px;\n",
              "      padding: 0 0 0 0;\n",
              "      width: 32px;\n",
              "    }\n",
              "\n",
              "    .colab-df-convert:hover {\n",
              "      background-color: #E2EBFA;\n",
              "      box-shadow: 0px 1px 2px rgba(60, 64, 67, 0.3), 0px 1px 3px 1px rgba(60, 64, 67, 0.15);\n",
              "      fill: #174EA6;\n",
              "    }\n",
              "\n",
              "    [theme=dark] .colab-df-convert {\n",
              "      background-color: #3B4455;\n",
              "      fill: #D2E3FC;\n",
              "    }\n",
              "\n",
              "    [theme=dark] .colab-df-convert:hover {\n",
              "      background-color: #434B5C;\n",
              "      box-shadow: 0px 1px 3px 1px rgba(0, 0, 0, 0.15);\n",
              "      filter: drop-shadow(0px 1px 2px rgba(0, 0, 0, 0.3));\n",
              "      fill: #FFFFFF;\n",
              "    }\n",
              "  </style>\n",
              "\n",
              "      <script>\n",
              "        const buttonEl =\n",
              "          document.querySelector('#df-7a6c864c-835d-4f8c-93b7-9678f584984c button.colab-df-convert');\n",
              "        buttonEl.style.display =\n",
              "          google.colab.kernel.accessAllowed ? 'block' : 'none';\n",
              "\n",
              "        async function convertToInteractive(key) {\n",
              "          const element = document.querySelector('#df-7a6c864c-835d-4f8c-93b7-9678f584984c');\n",
              "          const dataTable =\n",
              "            await google.colab.kernel.invokeFunction('convertToInteractive',\n",
              "                                                     [key], {});\n",
              "          if (!dataTable) return;\n",
              "\n",
              "          const docLinkHtml = 'Like what you see? Visit the ' +\n",
              "            '<a target=\"_blank\" href=https://colab.research.google.com/notebooks/data_table.ipynb>data table notebook</a>'\n",
              "            + ' to learn more about interactive tables.';\n",
              "          element.innerHTML = '';\n",
              "          dataTable['output_type'] = 'display_data';\n",
              "          await google.colab.output.renderOutput(dataTable, element);\n",
              "          const docLink = document.createElement('div');\n",
              "          docLink.innerHTML = docLinkHtml;\n",
              "          element.appendChild(docLink);\n",
              "        }\n",
              "      </script>\n",
              "    </div>\n",
              "  </div>\n",
              "  "
            ]
          },
          "metadata": {},
          "execution_count": 36
        }
      ]
    },
    {
      "cell_type": "code",
      "source": [
        "to['UsageBand'].head(3)"
      ],
      "metadata": {
        "colab": {
          "base_uri": "https://localhost:8080/"
        },
        "id": "wkQeuf7-jt4Z",
        "outputId": "0f9c8942-7958-4efb-c90c-aaa68a4df23c"
      },
      "execution_count": null,
      "outputs": [
        {
          "output_type": "execute_result",
          "data": {
            "text/plain": [
              "0    2\n",
              "1    2\n",
              "2    1\n",
              "Name: UsageBand, dtype: int8"
            ]
          },
          "metadata": {},
          "execution_count": 37
        }
      ]
    },
    {
      "cell_type": "code",
      "source": [
        "# view classes \n",
        "print(to.classes['ProductSize'])\n",
        "print(to.classes['Steering_Controls'])"
      ],
      "metadata": {
        "colab": {
          "base_uri": "https://localhost:8080/"
        },
        "id": "P4xdGTo0lDgy",
        "outputId": "4153f126-32ae-4ce0-df77-c81e6d1559a7"
      },
      "execution_count": null,
      "outputs": [
        {
          "output_type": "stream",
          "name": "stdout",
          "text": [
            "['#na#', 'Large', 'Large / Medium', 'Medium', 'Small', 'Mini', 'Compact']\n",
            "['#na#', 'Command Control', 'Conventional', 'Four Wheel Standard', 'No', 'Wheel']\n"
          ]
        }
      ]
    },
    {
      "cell_type": "markdown",
      "source": [
        "## 4) Export preprocessed data"
      ],
      "metadata": {
        "id": "K0jKXmWgY6wW"
      }
    },
    {
      "cell_type": "code",
      "source": [
        "# save preprocessed data\n",
        "save_pickle(path/'to.pkl', to)"
      ],
      "metadata": {
        "id": "rcFgnsskkzV2"
      },
      "execution_count": null,
      "outputs": []
    },
    {
      "cell_type": "code",
      "source": [
        "# load prepreocessed data\n",
        "to = load_pickle(path/'to.pkl')"
      ],
      "metadata": {
        "id": "k2MD3OawpZcr"
      },
      "execution_count": null,
      "outputs": []
    },
    {
      "cell_type": "markdown",
      "source": [
        "# Modeling"
      ],
      "metadata": {
        "id": "P3LEiKuaWpRu"
      }
    },
    {
      "cell_type": "markdown",
      "source": [
        "## 1) DecisionTreeRegressor"
      ],
      "metadata": {
        "id": "UAEFnsVtZFWS"
      }
    },
    {
      "cell_type": "code",
      "source": [
        "xs, y = to.train.xs, to.train.y\n",
        "valid_xs, valid_y = to.valid.xs, to.valid.y"
      ],
      "metadata": {
        "id": "wn4pjpg1qCm-"
      },
      "execution_count": null,
      "outputs": []
    },
    {
      "cell_type": "code",
      "source": [
        "model = DecisionTreeRegressor(max_leaf_nodes = 4)\n",
        "model.fit(xs, y)"
      ],
      "metadata": {
        "colab": {
          "base_uri": "https://localhost:8080/"
        },
        "id": "TiBjm6BhqVLS",
        "outputId": "9776a79b-f186-497c-ab18-cfb29a8f25de"
      },
      "execution_count": null,
      "outputs": [
        {
          "output_type": "execute_result",
          "data": {
            "text/plain": [
              "DecisionTreeRegressor(max_leaf_nodes=4)"
            ]
          },
          "metadata": {},
          "execution_count": 42
        }
      ]
    },
    {
      "cell_type": "markdown",
      "source": [
        "As max_leaf_nodes is set as 4, the model will stop at 4."
      ],
      "metadata": {
        "id": "EyjZHxCPrQdU"
      }
    },
    {
      "cell_type": "code",
      "source": [
        "draw_tree(model, xs, size = 10, leaves_parallel = True, precision = 2)"
      ],
      "metadata": {
        "colab": {
          "base_uri": "https://localhost:8080/",
          "height": 562
        },
        "id": "ZUcTmS7kqdc7",
        "outputId": "ac01fbb2-5fc5-4748-d9ca-7ad188291a9d"
      },
      "execution_count": null,
      "outputs": [
        {
          "output_type": "execute_result",
          "data": {
            "text/plain": [
              "<graphviz.files.Source at 0x7f3f7100a250>"
            ],
            "image/svg+xml": "<?xml version=\"1.0\" encoding=\"UTF-8\" standalone=\"no\"?>\n<!DOCTYPE svg PUBLIC \"-//W3C//DTD SVG 1.1//EN\"\n \"http://www.w3.org/Graphics/SVG/1.1/DTD/svg11.dtd\">\n<!-- Generated by graphviz version 2.40.1 (20161225.0304)\n -->\n<!-- Title: Tree Pages: 1 -->\n<svg width=\"670pt\" height=\"406pt\"\n viewBox=\"0.00 0.00 670.00 405.73\" xmlns=\"http://www.w3.org/2000/svg\" xmlns:xlink=\"http://www.w3.org/1999/xlink\">\n<g id=\"graph0\" class=\"graph\" transform=\"scale(1 1) rotate(0) translate(4 401.7339)\">\n<title>Tree</title>\n<polygon fill=\"#ffffff\" stroke=\"transparent\" points=\"-4,4 -4,-401.7339 666,-401.7339 666,4 -4,4\"/>\n<!-- 0 -->\n<g id=\"node1\" class=\"node\">\n<title>0</title>\n<path fill=\"#eda775\" stroke=\"#000000\" d=\"M569,-395C569,-395 433,-395 433,-395 427,-395 421,-389 421,-383 421,-383 421,-339 421,-339 421,-333 427,-327 433,-327 433,-327 569,-327 569,-327 575,-327 581,-333 581,-339 581,-339 581,-383 581,-383 581,-389 575,-395 569,-395\"/>\n<text text-anchor=\"start\" x=\"429\" y=\"-379.8\" font-family=\"Helvetica,sans-Serif\" font-size=\"14.00\" fill=\"#000000\">Coupler_System ≤ 0.5</text>\n<text text-anchor=\"start\" x=\"433\" y=\"-364.8\" font-family=\"Helvetica,sans-Serif\" font-size=\"14.00\" fill=\"#000000\">squared_error = 0.48</text>\n<text text-anchor=\"start\" x=\"440.5\" y=\"-349.8\" font-family=\"Helvetica,sans-Serif\" font-size=\"14.00\" fill=\"#000000\">samples = 404710</text>\n<text text-anchor=\"start\" x=\"461\" y=\"-334.8\" font-family=\"Helvetica,sans-Serif\" font-size=\"14.00\" fill=\"#000000\">value = 10.1</text>\n</g>\n<!-- 1 -->\n<g id=\"node2\" class=\"node\">\n<title>1</title>\n<path fill=\"#eb9d64\" stroke=\"#000000\" d=\"M395,-284C395,-284 267,-284 267,-284 261,-284 255,-278 255,-272 255,-272 255,-228 255,-228 255,-222 261,-216 267,-216 267,-216 395,-216 395,-216 401,-216 407,-222 407,-228 407,-228 407,-272 407,-272 407,-278 401,-284 395,-284\"/>\n<text text-anchor=\"start\" x=\"267.5\" y=\"-268.8\" font-family=\"Helvetica,sans-Serif\" font-size=\"14.00\" fill=\"#000000\">YearMade ≤ 1991.5</text>\n<text text-anchor=\"start\" x=\"263\" y=\"-253.8\" font-family=\"Helvetica,sans-Serif\" font-size=\"14.00\" fill=\"#000000\">squared_error = 0.42</text>\n<text text-anchor=\"start\" x=\"270.5\" y=\"-238.8\" font-family=\"Helvetica,sans-Serif\" font-size=\"14.00\" fill=\"#000000\">samples = 360847</text>\n<text text-anchor=\"start\" x=\"287\" y=\"-223.8\" font-family=\"Helvetica,sans-Serif\" font-size=\"14.00\" fill=\"#000000\">value = 10.21</text>\n</g>\n<!-- 0&#45;&gt;1 -->\n<g id=\"edge1\" class=\"edge\">\n<title>0&#45;&gt;1</title>\n<path fill=\"none\" stroke=\"#000000\" d=\"M448.6072,-326.7906C430.5871,-315.0245 410.2623,-301.7536 391.6412,-289.5951\"/>\n<polygon fill=\"#000000\" stroke=\"#000000\" points=\"393.5065,-286.633 383.2198,-284.0964 389.6794,-292.4943 393.5065,-286.633\"/>\n<text text-anchor=\"middle\" x=\"388.3569\" y=\"-304.8629\" font-family=\"Helvetica,sans-Serif\" font-size=\"14.00\" fill=\"#000000\">True</text>\n</g>\n<!-- 2 -->\n<g id=\"node7\" class=\"node\">\n<title>2</title>\n<path fill=\"#ffffff\" stroke=\"#000000\" d=\"M650,-54.5C650,-54.5 522,-54.5 522,-54.5 516,-54.5 510,-48.5 510,-42.5 510,-42.5 510,-13.5 510,-13.5 510,-7.5 516,-1.5 522,-1.5 522,-1.5 650,-1.5 650,-1.5 656,-1.5 662,-7.5 662,-13.5 662,-13.5 662,-42.5 662,-42.5 662,-48.5 656,-54.5 650,-54.5\"/>\n<text text-anchor=\"start\" x=\"518\" y=\"-39.3\" font-family=\"Helvetica,sans-Serif\" font-size=\"14.00\" fill=\"#000000\">squared_error = 0.12</text>\n<text text-anchor=\"start\" x=\"530\" y=\"-24.3\" font-family=\"Helvetica,sans-Serif\" font-size=\"14.00\" fill=\"#000000\">samples = 43863</text>\n<text text-anchor=\"start\" x=\"546\" y=\"-9.3\" font-family=\"Helvetica,sans-Serif\" font-size=\"14.00\" fill=\"#000000\">value = 9.21</text>\n</g>\n<!-- 0&#45;&gt;2 -->\n<g id=\"edge6\" class=\"edge\">\n<title>0&#45;&gt;2</title>\n<path fill=\"none\" stroke=\"#000000\" d=\"M509.697,-326.9281C525.8025,-263.8327 560.1332,-129.337 576.6894,-64.4755\"/>\n<polygon fill=\"#000000\" stroke=\"#000000\" points=\"580.1064,-65.2401 579.1885,-54.6851 573.3239,-63.5088 580.1064,-65.2401\"/>\n<text text-anchor=\"middle\" x=\"591.9448\" y=\"-72.4857\" font-family=\"Helvetica,sans-Serif\" font-size=\"14.00\" fill=\"#000000\">False</text>\n</g>\n<!-- 3 -->\n<g id=\"node3\" class=\"node\">\n<title>3</title>\n<path fill=\"#f0b48a\" stroke=\"#000000\" d=\"M140,-54.5C140,-54.5 12,-54.5 12,-54.5 6,-54.5 0,-48.5 0,-42.5 0,-42.5 0,-13.5 0,-13.5 0,-7.5 6,-1.5 12,-1.5 12,-1.5 140,-1.5 140,-1.5 146,-1.5 152,-7.5 152,-13.5 152,-13.5 152,-42.5 152,-42.5 152,-48.5 146,-54.5 140,-54.5\"/>\n<text text-anchor=\"start\" x=\"8\" y=\"-39.3\" font-family=\"Helvetica,sans-Serif\" font-size=\"14.00\" fill=\"#000000\">squared_error = 0.37</text>\n<text text-anchor=\"start\" x=\"15.5\" y=\"-24.3\" font-family=\"Helvetica,sans-Serif\" font-size=\"14.00\" fill=\"#000000\">samples = 155724</text>\n<text text-anchor=\"start\" x=\"36\" y=\"-9.3\" font-family=\"Helvetica,sans-Serif\" font-size=\"14.00\" fill=\"#000000\">value = 9.97</text>\n</g>\n<!-- 1&#45;&gt;3 -->\n<g id=\"edge2\" class=\"edge\">\n<title>1&#45;&gt;3</title>\n<path fill=\"none\" stroke=\"#000000\" d=\"M291.7151,-215.799C243.4114,-173.7464 161.9747,-102.8486 114.182,-61.2408\"/>\n<polygon fill=\"#000000\" stroke=\"#000000\" points=\"116.3649,-58.5006 106.5244,-54.5742 111.7685,-63.7802 116.3649,-58.5006\"/>\n</g>\n<!-- 4 -->\n<g id=\"node4\" class=\"node\">\n<title>4</title>\n<path fill=\"#e78a48\" stroke=\"#000000\" d=\"M395,-173C395,-173 267,-173 267,-173 261,-173 255,-167 255,-161 255,-161 255,-117 255,-117 255,-111 261,-105 267,-105 267,-105 395,-105 395,-105 401,-105 407,-111 407,-117 407,-117 407,-161 407,-161 407,-167 401,-173 395,-173\"/>\n<text text-anchor=\"start\" x=\"273.5\" y=\"-157.8\" font-family=\"Helvetica,sans-Serif\" font-size=\"14.00\" fill=\"#000000\">ProductSize ≤ 4.5</text>\n<text text-anchor=\"start\" x=\"263\" y=\"-142.8\" font-family=\"Helvetica,sans-Serif\" font-size=\"14.00\" fill=\"#000000\">squared_error = 0.37</text>\n<text text-anchor=\"start\" x=\"270.5\" y=\"-127.8\" font-family=\"Helvetica,sans-Serif\" font-size=\"14.00\" fill=\"#000000\">samples = 205123</text>\n<text text-anchor=\"start\" x=\"291\" y=\"-112.8\" font-family=\"Helvetica,sans-Serif\" font-size=\"14.00\" fill=\"#000000\">value = 10.4</text>\n</g>\n<!-- 1&#45;&gt;4 -->\n<g id=\"edge3\" class=\"edge\">\n<title>1&#45;&gt;4</title>\n<path fill=\"none\" stroke=\"#000000\" d=\"M331,-215.7906C331,-205.5568 331,-194.1846 331,-183.3961\"/>\n<polygon fill=\"#000000\" stroke=\"#000000\" points=\"334.5001,-183.2875 331,-173.2875 327.5001,-183.2875 334.5001,-183.2875\"/>\n</g>\n<!-- 5 -->\n<g id=\"node5\" class=\"node\">\n<title>5</title>\n<path fill=\"#e58139\" stroke=\"#000000\" d=\"M310,-54.5C310,-54.5 182,-54.5 182,-54.5 176,-54.5 170,-48.5 170,-42.5 170,-42.5 170,-13.5 170,-13.5 170,-7.5 176,-1.5 182,-1.5 182,-1.5 310,-1.5 310,-1.5 316,-1.5 322,-7.5 322,-13.5 322,-13.5 322,-42.5 322,-42.5 322,-48.5 316,-54.5 310,-54.5\"/>\n<text text-anchor=\"start\" x=\"178\" y=\"-39.3\" font-family=\"Helvetica,sans-Serif\" font-size=\"14.00\" fill=\"#000000\">squared_error = 0.31</text>\n<text text-anchor=\"start\" x=\"185.5\" y=\"-24.3\" font-family=\"Helvetica,sans-Serif\" font-size=\"14.00\" fill=\"#000000\">samples = 182403</text>\n<text text-anchor=\"start\" x=\"206\" y=\"-9.3\" font-family=\"Helvetica,sans-Serif\" font-size=\"14.00\" fill=\"#000000\">value = 10.5</text>\n</g>\n<!-- 4&#45;&gt;5 -->\n<g id=\"edge4\" class=\"edge\">\n<title>4&#45;&gt;5</title>\n<path fill=\"none\" stroke=\"#000000\" d=\"M304.8036,-104.7906C294.5432,-91.3917 282.7885,-76.0414 272.499,-62.6046\"/>\n<polygon fill=\"#000000\" stroke=\"#000000\" points=\"275.1668,-60.3316 266.3081,-54.52 269.6091,-64.5875 275.1668,-60.3316\"/>\n</g>\n<!-- 6 -->\n<g id=\"node6\" class=\"node\">\n<title>6</title>\n<path fill=\"#f7d6bf\" stroke=\"#000000\" d=\"M480,-54.5C480,-54.5 352,-54.5 352,-54.5 346,-54.5 340,-48.5 340,-42.5 340,-42.5 340,-13.5 340,-13.5 340,-7.5 346,-1.5 352,-1.5 352,-1.5 480,-1.5 480,-1.5 486,-1.5 492,-7.5 492,-13.5 492,-13.5 492,-42.5 492,-42.5 492,-48.5 486,-54.5 480,-54.5\"/>\n<text text-anchor=\"start\" x=\"348\" y=\"-39.3\" font-family=\"Helvetica,sans-Serif\" font-size=\"14.00\" fill=\"#000000\">squared_error = 0.17</text>\n<text text-anchor=\"start\" x=\"360\" y=\"-24.3\" font-family=\"Helvetica,sans-Serif\" font-size=\"14.00\" fill=\"#000000\">samples = 22720</text>\n<text text-anchor=\"start\" x=\"376\" y=\"-9.3\" font-family=\"Helvetica,sans-Serif\" font-size=\"14.00\" fill=\"#000000\">value = 9.62</text>\n</g>\n<!-- 4&#45;&gt;6 -->\n<g id=\"edge5\" class=\"edge\">\n<title>4&#45;&gt;6</title>\n<path fill=\"none\" stroke=\"#000000\" d=\"M357.1964,-104.7906C367.4568,-91.3917 379.2115,-76.0414 389.501,-62.6046\"/>\n<polygon fill=\"#000000\" stroke=\"#000000\" points=\"392.3909,-64.5875 395.6919,-54.52 386.8332,-60.3316 392.3909,-64.5875\"/>\n</g>\n</g>\n</svg>\n"
          },
          "metadata": {},
          "execution_count": 43
        }
      ]
    },
    {
      "cell_type": "code",
      "source": [
        "samp_idx = np.random.permutation(len(y))[:500]\n",
        "dtreeviz(model, xs.iloc[samp_idx], y.iloc[samp_idx], xs.columns, dep_var, \n",
        "         fontname = 'DejaVu Sans', scale = 1.6, label_fontsize= 10, \n",
        "         orientation = 'LR')"
      ],
      "metadata": {
        "colab": {
          "base_uri": "https://localhost:8080/",
          "height": 351
        },
        "id": "ZtXhdQ7Xq8g0",
        "outputId": "57c98f3c-7b5d-40a8-f615-4ed30ad59ce9"
      },
      "execution_count": null,
      "outputs": [
        {
          "output_type": "stream",
          "name": "stderr",
          "text": [
            "/usr/local/lib/python3.7/dist-packages/sklearn/base.py:451: UserWarning: X does not have valid feature names, but DecisionTreeRegressor was fitted with feature names\n",
            "  \"X does not have valid feature names, but\"\n"
          ]
        },
        {
          "output_type": "execute_result",
          "data": {
            "text/plain": [
              "<dtreeviz.trees.DTreeViz at 0x7f3f70171810>"
            ],
            "image/svg+xml": "<svg xmlns=\"http://www.w3.org/2000/svg\" xmlns:xlink=\"http://www.w3.org/1999/xlink\" height=\"294.40000000000003\" viewBox=\"0.0 0.0 865.6 294.40000000000003\" width=\"865.6\">\n<g class=\"graph\" id=\"graph0\" transform=\"scale(1.6 1.6) rotate(0) translate(4 180)\">\n<title>G</title>\n<polygon fill=\"#ffffff\" points=\"-4,4 -4,-180 537,-180 537,4 -4,4\" stroke=\"transparent\" />\n\n<g class=\"node\" id=\"node1\">\n<title>node4</title>\n<svg height=\"68px\" preserveAspectRatio=\"xMinYMin meet\" version=\"1.1\" viewBox=\"0 0 163.04125 90.073473\" width=\"123px\" x=\"319.5\" y=\"-99.5\">\n <defs>\n  <style type=\"text/css\">\n*{stroke-linecap:butt;stroke-linejoin:round;}\n  </style>\n </defs>\n <g id=\"figure_1\">\n  <g id=\"patch_1\">\n   <path d=\"M 0 90.073473  L 163.04125 90.073473  L 163.04125 -0  L 0 -0  z \" style=\"fill:#ffffff;\" />\n  </g>\n  <g id=\"axes_1\">\n   <g id=\"patch_2\">\n    <path d=\"M 17.18 61.652848  L 156.68 61.652848  L 156.68 1.856848  L 17.18 1.856848  z \" style=\"fill:#ffffff;\" />\n   </g>\n   <g id=\"PathCollection_1\">\n    <defs>\n     <path d=\"M 0 1.118034  C 0.296506 1.118034 0.580908 1.000231 0.790569 0.790569  C 1.000231 0.580908 1.118034 0.296506 1.118034 0  C 1.118034 -0.296506 1.000231 -0.580908 0.790569 -0.790569  C 0.580908 -1.000231 0.296506 -1.118034 0 -1.118034  C -0.296506 -1.118034 -0.580908 -1.000231 -0.790569 -0.790569  C -1.000231 -0.580908 -1.118034 -0.296506 -1.118034 0  C -1.118034 0.296506 -1.000231 0.580908 -0.790569 0.790569  C -0.580908 1.000231 -0.296506 1.118034 0 1.118034  z \" id=\"me60edb869e\" style=\"stroke:#4575b4;stroke-opacity:0.7;stroke-width:0.3;\" />\n    </defs>\n    <g clip-path=\"url(#p23f269ef86)\">\n     <use style=\"fill:#4575b4;fill-opacity:0.7;stroke:#4575b4;stroke-opacity:0.7;stroke-width:0.3;\" x=\"17.18\" y=\"33.506493\" xlink:href=\"#me60edb869e\" />\n     <use style=\"fill:#4575b4;fill-opacity:0.7;stroke:#4575b4;stroke-opacity:0.7;stroke-width:0.3;\" x=\"86.93\" y=\"23.023986\" xlink:href=\"#me60edb869e\" />\n     <use style=\"fill:#4575b4;fill-opacity:0.7;stroke:#4575b4;stroke-opacity:0.7;stroke-width:0.3;\" x=\"17.18\" y=\"40.104149\" xlink:href=\"#me60edb869e\" />\n     <use style=\"fill:#4575b4;fill-opacity:0.7;stroke:#4575b4;stroke-opacity:0.7;stroke-width:0.3;\" x=\"17.18\" y=\"29.326656\" xlink:href=\"#me60edb869e\" />\n     <use style=\"fill:#4575b4;fill-opacity:0.7;stroke:#4575b4;stroke-opacity:0.7;stroke-width:0.3;\" x=\"63.68\" y=\"24.41215\" xlink:href=\"#me60edb869e\" />\n     <use style=\"fill:#4575b4;fill-opacity:0.7;stroke:#4575b4;stroke-opacity:0.7;stroke-width:0.3;\" x=\"133.43\" y=\"53.50886\" xlink:href=\"#me60edb869e\" />\n     <use style=\"fill:#4575b4;fill-opacity:0.7;stroke:#4575b4;stroke-opacity:0.7;stroke-width:0.3;\" x=\"63.68\" y=\"22.857495\" xlink:href=\"#me60edb869e\" />\n     <use style=\"fill:#4575b4;fill-opacity:0.7;stroke:#4575b4;stroke-opacity:0.7;stroke-width:0.3;\" x=\"17.18\" y=\"25.146818\" xlink:href=\"#me60edb869e\" />\n     <use style=\"fill:#4575b4;fill-opacity:0.7;stroke:#4575b4;stroke-opacity:0.7;stroke-width:0.3;\" x=\"86.93\" y=\"28.637075\" xlink:href=\"#me60edb869e\" />\n     <use style=\"fill:#4575b4;fill-opacity:0.7;stroke:#4575b4;stroke-opacity:0.7;stroke-width:0.3;\" x=\"86.93\" y=\"30.535574\" xlink:href=\"#me60edb869e\" />\n     <use style=\"fill:#4575b4;fill-opacity:0.7;stroke:#4575b4;stroke-opacity:0.7;stroke-width:0.3;\" x=\"86.93\" y=\"20.817729\" xlink:href=\"#me60edb869e\" />\n     <use style=\"fill:#4575b4;fill-opacity:0.7;stroke:#4575b4;stroke-opacity:0.7;stroke-width:0.3;\" x=\"86.93\" y=\"23.361505\" xlink:href=\"#me60edb869e\" />\n     <use style=\"fill:#4575b4;fill-opacity:0.7;stroke:#4575b4;stroke-opacity:0.7;stroke-width:0.3;\" x=\"63.68\" y=\"18.186848\" xlink:href=\"#me60edb869e\" />\n     <use style=\"fill:#4575b4;fill-opacity:0.7;stroke:#4575b4;stroke-opacity:0.7;stroke-width:0.3;\" x=\"17.18\" y=\"41.396491\" xlink:href=\"#me60edb869e\" />\n     <use style=\"fill:#4575b4;fill-opacity:0.7;stroke:#4575b4;stroke-opacity:0.7;stroke-width:0.3;\" x=\"17.18\" y=\"31.300236\" xlink:href=\"#me60edb869e\" />\n     <use style=\"fill:#4575b4;fill-opacity:0.7;stroke:#4575b4;stroke-opacity:0.7;stroke-width:0.3;\" x=\"17.18\" y=\"44.283986\" xlink:href=\"#me60edb869e\" />\n     <use style=\"fill:#4575b4;fill-opacity:0.7;stroke:#4575b4;stroke-opacity:0.7;stroke-width:0.3;\" x=\"110.18\" y=\"40.955736\" xlink:href=\"#me60edb869e\" />\n     <use style=\"fill:#4575b4;fill-opacity:0.7;stroke:#4575b4;stroke-opacity:0.7;stroke-width:0.3;\" x=\"133.43\" y=\"58.338424\" xlink:href=\"#me60edb869e\" />\n     <use style=\"fill:#4575b4;fill-opacity:0.7;stroke:#4575b4;stroke-opacity:0.7;stroke-width:0.3;\" x=\"63.68\" y=\"46.490261\" xlink:href=\"#me60edb869e\" />\n     <use style=\"fill:#4575b4;fill-opacity:0.7;stroke:#4575b4;stroke-opacity:0.7;stroke-width:0.3;\" x=\"17.18\" y=\"30.287463\" xlink:href=\"#me60edb869e\" />\n     <use style=\"fill:#4575b4;fill-opacity:0.7;stroke:#4575b4;stroke-opacity:0.7;stroke-width:0.3;\" x=\"17.18\" y=\"38.509014\" xlink:href=\"#me60edb869e\" />\n     <use style=\"fill:#4575b4;fill-opacity:0.7;stroke:#4575b4;stroke-opacity:0.7;stroke-width:0.3;\" x=\"63.68\" y=\"21.422027\" xlink:href=\"#me60edb869e\" />\n     <use style=\"fill:#4575b4;fill-opacity:0.7;stroke:#4575b4;stroke-opacity:0.7;stroke-width:0.3;\" x=\"133.43\" y=\"39.692458\" xlink:href=\"#me60edb869e\" />\n     <use style=\"fill:#4575b4;fill-opacity:0.7;stroke:#4575b4;stroke-opacity:0.7;stroke-width:0.3;\" x=\"86.93\" y=\"37.395918\" xlink:href=\"#me60edb869e\" />\n     <use style=\"fill:#4575b4;fill-opacity:0.7;stroke:#4575b4;stroke-opacity:0.7;stroke-width:0.3;\" x=\"17.18\" y=\"43.770758\" xlink:href=\"#me60edb869e\" />\n     <use style=\"fill:#4575b4;fill-opacity:0.7;stroke:#4575b4;stroke-opacity:0.7;stroke-width:0.3;\" x=\"17.18\" y=\"42.310424\" xlink:href=\"#me60edb869e\" />\n     <use style=\"fill:#4575b4;fill-opacity:0.7;stroke:#4575b4;stroke-opacity:0.7;stroke-width:0.3;\" x=\"63.68\" y=\"29.326656\" xlink:href=\"#me60edb869e\" />\n     <use style=\"fill:#4575b4;fill-opacity:0.7;stroke:#4575b4;stroke-opacity:0.7;stroke-width:0.3;\" x=\"86.93\" y=\"30.535574\" xlink:href=\"#me60edb869e\" />\n     <use style=\"fill:#4575b4;fill-opacity:0.7;stroke:#4575b4;stroke-opacity:0.7;stroke-width:0.3;\" x=\"86.93\" y=\"36.007754\" xlink:href=\"#me60edb869e\" />\n     <use style=\"fill:#4575b4;fill-opacity:0.7;stroke:#4575b4;stroke-opacity:0.7;stroke-width:0.3;\" x=\"133.43\" y=\"40.955736\" xlink:href=\"#me60edb869e\" />\n     <use style=\"fill:#4575b4;fill-opacity:0.7;stroke:#4575b4;stroke-opacity:0.7;stroke-width:0.3;\" x=\"17.18\" y=\"21.731643\" xlink:href=\"#me60edb869e\" />\n     <use style=\"fill:#4575b4;fill-opacity:0.7;stroke:#4575b4;stroke-opacity:0.7;stroke-width:0.3;\" x=\"17.18\" y=\"34.101198\" xlink:href=\"#me60edb869e\" />\n     <use style=\"fill:#4575b4;fill-opacity:0.7;stroke:#4575b4;stroke-opacity:0.7;stroke-width:0.3;\" x=\"17.18\" y=\"42.310424\" xlink:href=\"#me60edb869e\" />\n     <use style=\"fill:#4575b4;fill-opacity:0.7;stroke:#4575b4;stroke-opacity:0.7;stroke-width:0.3;\" x=\"17.18\" y=\"40.52511\" xlink:href=\"#me60edb869e\" />\n     <use style=\"fill:#4575b4;fill-opacity:0.7;stroke:#4575b4;stroke-opacity:0.7;stroke-width:0.3;\" x=\"17.18\" y=\"48.991504\" xlink:href=\"#me60edb869e\" />\n     <use style=\"fill:#4575b4;fill-opacity:0.7;stroke:#4575b4;stroke-opacity:0.7;stroke-width:0.3;\" x=\"133.43\" y=\"56.254981\" xlink:href=\"#me60edb869e\" />\n     <use style=\"fill:#4575b4;fill-opacity:0.7;stroke:#4575b4;stroke-opacity:0.7;stroke-width:0.3;\" x=\"63.68\" y=\"24.775893\" xlink:href=\"#me60edb869e\" />\n     <use style=\"fill:#4575b4;fill-opacity:0.7;stroke:#4575b4;stroke-opacity:0.7;stroke-width:0.3;\" x=\"17.18\" y=\"47.699161\" xlink:href=\"#me60edb869e\" />\n     <use style=\"fill:#4575b4;fill-opacity:0.7;stroke:#4575b4;stroke-opacity:0.7;stroke-width:0.3;\" x=\"17.18\" y=\"44.283986\" xlink:href=\"#me60edb869e\" />\n     <use style=\"fill:#4575b4;fill-opacity:0.7;stroke:#4575b4;stroke-opacity:0.7;stroke-width:0.3;\" x=\"17.18\" y=\"34.715411\" xlink:href=\"#me60edb869e\" />\n     <use style=\"fill:#4575b4;fill-opacity:0.7;stroke:#4575b4;stroke-opacity:0.7;stroke-width:0.3;\" x=\"17.18\" y=\"33.506493\" xlink:href=\"#me60edb869e\" />\n     <use style=\"fill:#4575b4;fill-opacity:0.7;stroke:#4575b4;stroke-opacity:0.7;stroke-width:0.3;\" x=\"63.68\" y=\"25.146818\" xlink:href=\"#me60edb869e\" />\n     <use style=\"fill:#4575b4;fill-opacity:0.7;stroke:#4575b4;stroke-opacity:0.7;stroke-width:0.3;\" x=\"86.93\" y=\"23.361505\" xlink:href=\"#me60edb869e\" />\n     <use style=\"fill:#4575b4;fill-opacity:0.7;stroke:#4575b4;stroke-opacity:0.7;stroke-width:0.3;\" x=\"17.18\" y=\"32.930098\" xlink:href=\"#me60edb869e\" />\n     <use style=\"fill:#4575b4;fill-opacity:0.7;stroke:#4575b4;stroke-opacity:0.7;stroke-width:0.3;\" x=\"133.43\" y=\"45.354656\" xlink:href=\"#me60edb869e\" />\n     <use style=\"fill:#4575b4;fill-opacity:0.7;stroke:#4575b4;stroke-opacity:0.7;stroke-width:0.3;\" x=\"17.18\" y=\"38.895248\" xlink:href=\"#me60edb869e\" />\n     <use style=\"fill:#4575b4;fill-opacity:0.7;stroke:#4575b4;stroke-opacity:0.7;stroke-width:0.3;\" x=\"17.18\" y=\"31.041853\" xlink:href=\"#me60edb869e\" />\n     <use style=\"fill:#4575b4;fill-opacity:0.7;stroke:#4575b4;stroke-opacity:0.7;stroke-width:0.3;\" x=\"40.43\" y=\"25.146818\" xlink:href=\"#me60edb869e\" />\n     <use style=\"fill:#4575b4;fill-opacity:0.7;stroke:#4575b4;stroke-opacity:0.7;stroke-width:0.3;\" x=\"110.18\" y=\"36.007754\" xlink:href=\"#me60edb869e\" />\n     <use style=\"fill:#4575b4;fill-opacity:0.7;stroke:#4575b4;stroke-opacity:0.7;stroke-width:0.3;\" x=\"17.18\" y=\"37.039105\" xlink:href=\"#me60edb869e\" />\n     <use style=\"fill:#4575b4;fill-opacity:0.7;stroke:#4575b4;stroke-opacity:0.7;stroke-width:0.3;\" x=\"17.18\" y=\"21.117448\" xlink:href=\"#me60edb869e\" />\n     <use style=\"fill:#4575b4;fill-opacity:0.7;stroke:#4575b4;stroke-opacity:0.7;stroke-width:0.3;\" x=\"17.18\" y=\"8.438259\" xlink:href=\"#me60edb869e\" />\n     <use style=\"fill:#4575b4;fill-opacity:0.7;stroke:#4575b4;stroke-opacity:0.7;stroke-width:0.3;\" x=\"86.93\" y=\"20.232313\" xlink:href=\"#me60edb869e\" />\n     <use style=\"fill:#4575b4;fill-opacity:0.7;stroke:#4575b4;stroke-opacity:0.7;stroke-width:0.3;\" x=\"17.18\" y=\"36.345273\" xlink:href=\"#me60edb869e\" />\n     <use style=\"fill:#4575b4;fill-opacity:0.7;stroke:#4575b4;stroke-opacity:0.7;stroke-width:0.3;\" x=\"133.43\" y=\"44.283986\" xlink:href=\"#me60edb869e\" />\n     <use style=\"fill:#4575b4;fill-opacity:0.7;stroke:#4575b4;stroke-opacity:0.7;stroke-width:0.3;\" x=\"63.68\" y=\"18.844148\" xlink:href=\"#me60edb869e\" />\n     <use style=\"fill:#4575b4;fill-opacity:0.7;stroke:#4575b4;stroke-opacity:0.7;stroke-width:0.3;\" x=\"17.18\" y=\"31.300236\" xlink:href=\"#me60edb869e\" />\n     <use style=\"fill:#4575b4;fill-opacity:0.7;stroke:#4575b4;stroke-opacity:0.7;stroke-width:0.3;\" x=\"17.18\" y=\"43.770758\" xlink:href=\"#me60edb869e\" />\n     <use style=\"fill:#4575b4;fill-opacity:0.7;stroke:#4575b4;stroke-opacity:0.7;stroke-width:0.3;\" x=\"133.43\" y=\"36.688974\" xlink:href=\"#me60edb869e\" />\n     <use style=\"fill:#4575b4;fill-opacity:0.7;stroke:#4575b4;stroke-opacity:0.7;stroke-width:0.3;\" x=\"17.18\" y=\"34.101198\" xlink:href=\"#me60edb869e\" />\n     <use style=\"fill:#4575b4;fill-opacity:0.7;stroke:#4575b4;stroke-opacity:0.7;stroke-width:0.3;\" x=\"86.93\" y=\"13.623403\" xlink:href=\"#me60edb869e\" />\n     <use style=\"fill:#4575b4;fill-opacity:0.7;stroke:#4575b4;stroke-opacity:0.7;stroke-width:0.3;\" x=\"110.18\" y=\"31.300236\" xlink:href=\"#me60edb869e\" />\n     <use style=\"fill:#4575b4;fill-opacity:0.7;stroke:#4575b4;stroke-opacity:0.7;stroke-width:0.3;\" x=\"63.68\" y=\"20.232313\" xlink:href=\"#me60edb869e\" />\n     <use style=\"fill:#4575b4;fill-opacity:0.7;stroke:#4575b4;stroke-opacity:0.7;stroke-width:0.3;\" x=\"17.18\" y=\"43.026353\" xlink:href=\"#me60edb869e\" />\n     <use style=\"fill:#4575b4;fill-opacity:0.7;stroke:#4575b4;stroke-opacity:0.7;stroke-width:0.3;\" x=\"63.68\" y=\"41.396491\" xlink:href=\"#me60edb869e\" />\n     <use style=\"fill:#4575b4;fill-opacity:0.7;stroke:#4575b4;stroke-opacity:0.7;stroke-width:0.3;\" x=\"17.18\" y=\"42.077729\" xlink:href=\"#me60edb869e\" />\n     <use style=\"fill:#4575b4;fill-opacity:0.7;stroke:#4575b4;stroke-opacity:0.7;stroke-width:0.3;\" x=\"63.68\" y=\"31.041853\" xlink:href=\"#me60edb869e\" />\n     <use style=\"fill:#4575b4;fill-opacity:0.7;stroke:#4575b4;stroke-opacity:0.7;stroke-width:0.3;\" x=\"133.43\" y=\"49.672741\" xlink:href=\"#me60edb869e\" />\n     <use style=\"fill:#4575b4;fill-opacity:0.7;stroke:#4575b4;stroke-opacity:0.7;stroke-width:0.3;\" x=\"63.68\" y=\"22.046476\" xlink:href=\"#me60edb869e\" />\n     <use style=\"fill:#4575b4;fill-opacity:0.7;stroke:#4575b4;stroke-opacity:0.7;stroke-width:0.3;\" x=\"17.18\" y=\"53.50886\" xlink:href=\"#me60edb869e\" />\n     <use style=\"fill:#4575b4;fill-opacity:0.7;stroke:#4575b4;stroke-opacity:0.7;stroke-width:0.3;\" x=\"17.18\" y=\"37.395918\" xlink:href=\"#me60edb869e\" />\n     <use style=\"fill:#4575b4;fill-opacity:0.7;stroke:#4575b4;stroke-opacity:0.7;stroke-width:0.3;\" x=\"86.93\" y=\"36.345273\" xlink:href=\"#me60edb869e\" />\n     <use style=\"fill:#4575b4;fill-opacity:0.7;stroke:#4575b4;stroke-opacity:0.7;stroke-width:0.3;\" x=\"110.18\" y=\"27.120399\" xlink:href=\"#me60edb869e\" />\n     <use style=\"fill:#4575b4;fill-opacity:0.7;stroke:#4575b4;stroke-opacity:0.7;stroke-width:0.3;\" x=\"86.93\" y=\"21.422027\" xlink:href=\"#me60edb869e\" />\n     <use style=\"fill:#4575b4;fill-opacity:0.7;stroke:#4575b4;stroke-opacity:0.7;stroke-width:0.3;\" x=\"86.93\" y=\"14.664311\" xlink:href=\"#me60edb869e\" />\n     <use style=\"fill:#4575b4;fill-opacity:0.7;stroke:#4575b4;stroke-opacity:0.7;stroke-width:0.3;\" x=\"156.68\" y=\"53.50886\" xlink:href=\"#me60edb869e\" />\n     <use style=\"fill:#4575b4;fill-opacity:0.7;stroke:#4575b4;stroke-opacity:0.7;stroke-width:0.3;\" x=\"63.68\" y=\"18.186848\" xlink:href=\"#me60edb869e\" />\n     <use style=\"fill:#4575b4;fill-opacity:0.7;stroke:#4575b4;stroke-opacity:0.7;stroke-width:0.3;\" x=\"86.93\" y=\"38.130586\" xlink:href=\"#me60edb869e\" />\n     <use style=\"fill:#4575b4;fill-opacity:0.7;stroke:#4575b4;stroke-opacity:0.7;stroke-width:0.3;\" x=\"133.43\" y=\"56.254981\" xlink:href=\"#me60edb869e\" />\n     <use style=\"fill:#4575b4;fill-opacity:0.7;stroke:#4575b4;stroke-opacity:0.7;stroke-width:0.3;\" x=\"86.93\" y=\"18.844148\" xlink:href=\"#me60edb869e\" />\n     <use style=\"fill:#4575b4;fill-opacity:0.7;stroke:#4575b4;stroke-opacity:0.7;stroke-width:0.3;\" x=\"133.43\" y=\"58.338424\" xlink:href=\"#me60edb869e\" />\n     <use style=\"fill:#4575b4;fill-opacity:0.7;stroke:#4575b4;stroke-opacity:0.7;stroke-width:0.3;\" x=\"133.43\" y=\"53.50886\" xlink:href=\"#me60edb869e\" />\n     <use style=\"fill:#4575b4;fill-opacity:0.7;stroke:#4575b4;stroke-opacity:0.7;stroke-width:0.3;\" x=\"17.18\" y=\"40.52511\" xlink:href=\"#me60edb869e\" />\n     <use style=\"fill:#4575b4;fill-opacity:0.7;stroke:#4575b4;stroke-opacity:0.7;stroke-width:0.3;\" x=\"110.18\" y=\"23.705224\" xlink:href=\"#me60edb869e\" />\n     <use style=\"fill:#4575b4;fill-opacity:0.7;stroke:#4575b4;stroke-opacity:0.7;stroke-width:0.3;\" x=\"17.18\" y=\"41.396491\" xlink:href=\"#me60edb869e\" />\n     <use style=\"fill:#4575b4;fill-opacity:0.7;stroke:#4575b4;stroke-opacity:0.7;stroke-width:0.3;\" x=\"156.68\" y=\"54.20271\" xlink:href=\"#me60edb869e\" />\n     <use style=\"fill:#4575b4;fill-opacity:0.7;stroke:#4575b4;stroke-opacity:0.7;stroke-width:0.3;\" x=\"17.18\" y=\"21.888399\" xlink:href=\"#me60edb869e\" />\n     <use style=\"fill:#4575b4;fill-opacity:0.7;stroke:#4575b4;stroke-opacity:0.7;stroke-width:0.3;\" x=\"86.93\" y=\"20.966981\" xlink:href=\"#me60edb869e\" />\n     <use style=\"fill:#4575b4;fill-opacity:0.7;stroke:#4575b4;stroke-opacity:0.7;stroke-width:0.3;\" x=\"86.93\" y=\"56.254981\" xlink:href=\"#me60edb869e\" />\n     <use style=\"fill:#4575b4;fill-opacity:0.7;stroke:#4575b4;stroke-opacity:0.7;stroke-width:0.3;\" x=\"86.93\" y=\"15.428973\" xlink:href=\"#me60edb869e\" />\n     <use style=\"fill:#4575b4;fill-opacity:0.7;stroke:#4575b4;stroke-opacity:0.7;stroke-width:0.3;\" x=\"17.18\" y=\"32.370906\" xlink:href=\"#me60edb869e\" />\n     <use style=\"fill:#4575b4;fill-opacity:0.7;stroke:#4575b4;stroke-opacity:0.7;stroke-width:0.3;\" x=\"17.18\" y=\"47.084966\" xlink:href=\"#me60edb869e\" />\n     <use style=\"fill:#4575b4;fill-opacity:0.7;stroke:#4575b4;stroke-opacity:0.7;stroke-width:0.3;\" x=\"133.43\" y=\"50.379668\" xlink:href=\"#me60edb869e\" />\n     <use style=\"fill:#4575b4;fill-opacity:0.7;stroke:#4575b4;stroke-opacity:0.7;stroke-width:0.3;\" x=\"17.18\" y=\"31.827916\" xlink:href=\"#me60edb869e\" />\n     <use style=\"fill:#4575b4;fill-opacity:0.7;stroke:#4575b4;stroke-opacity:0.7;stroke-width:0.3;\" x=\"17.18\" y=\"22.366685\" xlink:href=\"#me60edb869e\" />\n     <use style=\"fill:#4575b4;fill-opacity:0.7;stroke:#4575b4;stroke-opacity:0.7;stroke-width:0.3;\" x=\"17.18\" y=\"38.895248\" xlink:href=\"#me60edb869e\" />\n     <use style=\"fill:#4575b4;fill-opacity:0.7;stroke:#4575b4;stroke-opacity:0.7;stroke-width:0.3;\" x=\"17.18\" y=\"43.271231\" xlink:href=\"#me60edb869e\" />\n     <use style=\"fill:#4575b4;fill-opacity:0.7;stroke:#4575b4;stroke-opacity:0.7;stroke-width:0.3;\" x=\"133.43\" y=\"59.474011\" xlink:href=\"#me60edb869e\" />\n     <use style=\"fill:#4575b4;fill-opacity:0.7;stroke:#4575b4;stroke-opacity:0.7;stroke-width:0.3;\" x=\"17.18\" y=\"35.350435\" xlink:href=\"#me60edb869e\" />\n     <use style=\"fill:#4575b4;fill-opacity:0.7;stroke:#4575b4;stroke-opacity:0.7;stroke-width:0.3;\" x=\"110.18\" y=\"29.326656\" xlink:href=\"#me60edb869e\" />\n     <use style=\"fill:#4575b4;fill-opacity:0.7;stroke:#4575b4;stroke-opacity:0.7;stroke-width:0.3;\" x=\"63.68\" y=\"25.911481\" xlink:href=\"#me60edb869e\" />\n     <use style=\"fill:#4575b4;fill-opacity:0.7;stroke:#4575b4;stroke-opacity:0.7;stroke-width:0.3;\" x=\"17.18\" y=\"29.800905\" xlink:href=\"#me60edb869e\" />\n     <use style=\"fill:#4575b4;fill-opacity:0.7;stroke:#4575b4;stroke-opacity:0.7;stroke-width:0.3;\" x=\"86.93\" y=\"13.92966\" xlink:href=\"#me60edb869e\" />\n     <use style=\"fill:#4575b4;fill-opacity:0.7;stroke:#4575b4;stroke-opacity:0.7;stroke-width:0.3;\" x=\"17.18\" y=\"33.506493\" xlink:href=\"#me60edb869e\" />\n     <use style=\"fill:#4575b4;fill-opacity:0.7;stroke:#4575b4;stroke-opacity:0.7;stroke-width:0.3;\" x=\"17.18\" y=\"32.930098\" xlink:href=\"#me60edb869e\" />\n     <use style=\"fill:#4575b4;fill-opacity:0.7;stroke:#4575b4;stroke-opacity:0.7;stroke-width:0.3;\" x=\"17.18\" y=\"40.104149\" xlink:href=\"#me60edb869e\" />\n     <use style=\"fill:#4575b4;fill-opacity:0.7;stroke:#4575b4;stroke-opacity:0.7;stroke-width:0.3;\" x=\"63.68\" y=\"26.107626\" xlink:href=\"#me60edb869e\" />\n     <use style=\"fill:#4575b4;fill-opacity:0.7;stroke:#4575b4;stroke-opacity:0.7;stroke-width:0.3;\" x=\"17.18\" y=\"30.535574\" xlink:href=\"#me60edb869e\" />\n     <use style=\"fill:#4575b4;fill-opacity:0.7;stroke:#4575b4;stroke-opacity:0.7;stroke-width:0.3;\" x=\"17.18\" y=\"40.52511\" xlink:href=\"#me60edb869e\" />\n     <use style=\"fill:#4575b4;fill-opacity:0.7;stroke:#4575b4;stroke-opacity:0.7;stroke-width:0.3;\" x=\"17.18\" y=\"37.759643\" xlink:href=\"#me60edb869e\" />\n     <use style=\"fill:#4575b4;fill-opacity:0.7;stroke:#4575b4;stroke-opacity:0.7;stroke-width:0.3;\" x=\"17.18\" y=\"43.770758\" xlink:href=\"#me60edb869e\" />\n     <use style=\"fill:#4575b4;fill-opacity:0.7;stroke:#4575b4;stroke-opacity:0.7;stroke-width:0.3;\" x=\"17.18\" y=\"38.509014\" xlink:href=\"#me60edb869e\" />\n     <use style=\"fill:#4575b4;fill-opacity:0.7;stroke:#4575b4;stroke-opacity:0.7;stroke-width:0.3;\" x=\"63.68\" y=\"35.350435\" xlink:href=\"#me60edb869e\" />\n     <use style=\"fill:#4575b4;fill-opacity:0.7;stroke:#4575b4;stroke-opacity:0.7;stroke-width:0.3;\" x=\"63.68\" y=\"25.146818\" xlink:href=\"#me60edb869e\" />\n     <use style=\"fill:#4575b4;fill-opacity:0.7;stroke:#4575b4;stroke-opacity:0.7;stroke-width:0.3;\" x=\"86.93\" y=\"38.130586\" xlink:href=\"#me60edb869e\" />\n     <use style=\"fill:#4575b4;fill-opacity:0.7;stroke:#4575b4;stroke-opacity:0.7;stroke-width:0.3;\" x=\"17.18\" y=\"35.350435\" xlink:href=\"#me60edb869e\" />\n     <use style=\"fill:#4575b4;fill-opacity:0.7;stroke:#4575b4;stroke-opacity:0.7;stroke-width:0.3;\" x=\"17.18\" y=\"23.361505\" xlink:href=\"#me60edb869e\" />\n     <use style=\"fill:#4575b4;fill-opacity:0.7;stroke:#4575b4;stroke-opacity:0.7;stroke-width:0.3;\" x=\"86.93\" y=\"43.271231\" xlink:href=\"#me60edb869e\" />\n     <use style=\"fill:#4575b4;fill-opacity:0.7;stroke:#4575b4;stroke-opacity:0.7;stroke-width:0.3;\" x=\"63.68\" y=\"22.366685\" xlink:href=\"#me60edb869e\" />\n     <use style=\"fill:#4575b4;fill-opacity:0.7;stroke:#4575b4;stroke-opacity:0.7;stroke-width:0.3;\" x=\"17.18\" y=\"16.937611\" xlink:href=\"#me60edb869e\" />\n     <use style=\"fill:#4575b4;fill-opacity:0.7;stroke:#4575b4;stroke-opacity:0.7;stroke-width:0.3;\" x=\"17.18\" y=\"43.271231\" xlink:href=\"#me60edb869e\" />\n     <use style=\"fill:#4575b4;fill-opacity:0.7;stroke:#4575b4;stroke-opacity:0.7;stroke-width:0.3;\" x=\"110.18\" y=\"44.283986\" xlink:href=\"#me60edb869e\" />\n     <use style=\"fill:#4575b4;fill-opacity:0.7;stroke:#4575b4;stroke-opacity:0.7;stroke-width:0.3;\" x=\"156.68\" y=\"51.878998\" xlink:href=\"#me60edb869e\" />\n     <use style=\"fill:#4575b4;fill-opacity:0.7;stroke:#4575b4;stroke-opacity:0.7;stroke-width:0.3;\" x=\"17.18\" y=\"43.770758\" xlink:href=\"#me60edb869e\" />\n     <use style=\"fill:#4575b4;fill-opacity:0.7;stroke:#4575b4;stroke-opacity:0.7;stroke-width:0.3;\" x=\"17.18\" y=\"46.490261\" xlink:href=\"#me60edb869e\" />\n     <use style=\"fill:#4575b4;fill-opacity:0.7;stroke:#4575b4;stroke-opacity:0.7;stroke-width:0.3;\" x=\"17.18\" y=\"45.913848\" xlink:href=\"#me60edb869e\" />\n     <use style=\"fill:#4575b4;fill-opacity:0.7;stroke:#4575b4;stroke-opacity:0.7;stroke-width:0.3;\" x=\"86.93\" y=\"38.130586\" xlink:href=\"#me60edb869e\" />\n     <use style=\"fill:#4575b4;fill-opacity:0.7;stroke:#4575b4;stroke-opacity:0.7;stroke-width:0.3;\" x=\"17.18\" y=\"51.878998\" xlink:href=\"#me60edb869e\" />\n     <use style=\"fill:#4575b4;fill-opacity:0.7;stroke:#4575b4;stroke-opacity:0.7;stroke-width:0.3;\" x=\"86.93\" y=\"14.988219\" xlink:href=\"#me60edb869e\" />\n     <use style=\"fill:#4575b4;fill-opacity:0.7;stroke:#4575b4;stroke-opacity:0.7;stroke-width:0.3;\" x=\"17.18\" y=\"39.692458\" xlink:href=\"#me60edb869e\" />\n     <use style=\"fill:#4575b4;fill-opacity:0.7;stroke:#4575b4;stroke-opacity:0.7;stroke-width:0.3;\" x=\"17.18\" y=\"36.688974\" xlink:href=\"#me60edb869e\" />\n     <use style=\"fill:#4575b4;fill-opacity:0.7;stroke:#4575b4;stroke-opacity:0.7;stroke-width:0.3;\" x=\"17.18\" y=\"12.163069\" xlink:href=\"#me60edb869e\" />\n     <use style=\"fill:#4575b4;fill-opacity:0.7;stroke:#4575b4;stroke-opacity:0.7;stroke-width:0.3;\" x=\"63.68\" y=\"14.771673\" xlink:href=\"#me60edb869e\" />\n     <use style=\"fill:#4575b4;fill-opacity:0.7;stroke:#4575b4;stroke-opacity:0.7;stroke-width:0.3;\" x=\"133.43\" y=\"38.895248\" xlink:href=\"#me60edb869e\" />\n     <use style=\"fill:#4575b4;fill-opacity:0.7;stroke:#4575b4;stroke-opacity:0.7;stroke-width:0.3;\" x=\"17.18\" y=\"48.991504\" xlink:href=\"#me60edb869e\" />\n     <use style=\"fill:#4575b4;fill-opacity:0.7;stroke:#4575b4;stroke-opacity:0.7;stroke-width:0.3;\" x=\"17.18\" y=\"22.046476\" xlink:href=\"#me60edb869e\" />\n     <use style=\"fill:#4575b4;fill-opacity:0.7;stroke:#4575b4;stroke-opacity:0.7;stroke-width:0.3;\" x=\"63.68\" y=\"33.506493\" xlink:href=\"#me60edb869e\" />\n     <use style=\"fill:#4575b4;fill-opacity:0.7;stroke:#4575b4;stroke-opacity:0.7;stroke-width:0.3;\" x=\"17.18\" y=\"34.101198\" xlink:href=\"#me60edb869e\" />\n     <use style=\"fill:#4575b4;fill-opacity:0.7;stroke:#4575b4;stroke-opacity:0.7;stroke-width:0.3;\" x=\"17.18\" y=\"34.405777\" xlink:href=\"#me60edb869e\" />\n     <use style=\"fill:#4575b4;fill-opacity:0.7;stroke:#4575b4;stroke-opacity:0.7;stroke-width:0.3;\" x=\"17.18\" y=\"37.395918\" xlink:href=\"#me60edb869e\" />\n     <use style=\"fill:#4575b4;fill-opacity:0.7;stroke:#4575b4;stroke-opacity:0.7;stroke-width:0.3;\" x=\"17.18\" y=\"39.289611\" xlink:href=\"#me60edb869e\" />\n     <use style=\"fill:#4575b4;fill-opacity:0.7;stroke:#4575b4;stroke-opacity:0.7;stroke-width:0.3;\" x=\"17.18\" y=\"37.395918\" xlink:href=\"#me60edb869e\" />\n     <use style=\"fill:#4575b4;fill-opacity:0.7;stroke:#4575b4;stroke-opacity:0.7;stroke-width:0.3;\" x=\"110.18\" y=\"27.120399\" xlink:href=\"#me60edb869e\" />\n     <use style=\"fill:#4575b4;fill-opacity:0.7;stroke:#4575b4;stroke-opacity:0.7;stroke-width:0.3;\" x=\"17.18\" y=\"34.715411\" xlink:href=\"#me60edb869e\" />\n     <use style=\"fill:#4575b4;fill-opacity:0.7;stroke:#4575b4;stroke-opacity:0.7;stroke-width:0.3;\" x=\"63.68\" y=\"34.715411\" xlink:href=\"#me60edb869e\" />\n     <use style=\"fill:#4575b4;fill-opacity:0.7;stroke:#4575b4;stroke-opacity:0.7;stroke-width:0.3;\" x=\"86.93\" y=\"38.130586\" xlink:href=\"#me60edb869e\" />\n     <use style=\"fill:#4575b4;fill-opacity:0.7;stroke:#4575b4;stroke-opacity:0.7;stroke-width:0.3;\" x=\"17.18\" y=\"46.490261\" xlink:href=\"#me60edb869e\" />\n     <use style=\"fill:#4575b4;fill-opacity:0.7;stroke:#4575b4;stroke-opacity:0.7;stroke-width:0.3;\" x=\"133.43\" y=\"36.007754\" xlink:href=\"#me60edb869e\" />\n     <use style=\"fill:#4575b4;fill-opacity:0.7;stroke:#4575b4;stroke-opacity:0.7;stroke-width:0.3;\" x=\"133.43\" y=\"49.672741\" xlink:href=\"#me60edb869e\" />\n     <use style=\"fill:#4575b4;fill-opacity:0.7;stroke:#4575b4;stroke-opacity:0.7;stroke-width:0.3;\" x=\"17.18\" y=\"32.370906\" xlink:href=\"#me60edb869e\" />\n     <use style=\"fill:#4575b4;fill-opacity:0.7;stroke:#4575b4;stroke-opacity:0.7;stroke-width:0.3;\" x=\"17.18\" y=\"35.350435\" xlink:href=\"#me60edb869e\" />\n     <use style=\"fill:#4575b4;fill-opacity:0.7;stroke:#4575b4;stroke-opacity:0.7;stroke-width:0.3;\" x=\"63.68\" y=\"23.361505\" xlink:href=\"#me60edb869e\" />\n     <use style=\"fill:#4575b4;fill-opacity:0.7;stroke:#4575b4;stroke-opacity:0.7;stroke-width:0.3;\" x=\"17.18\" y=\"42.310424\" xlink:href=\"#me60edb869e\" />\n     <use style=\"fill:#4575b4;fill-opacity:0.7;stroke:#4575b4;stroke-opacity:0.7;stroke-width:0.3;\" x=\"17.18\" y=\"27.541343\" xlink:href=\"#me60edb869e\" />\n     <use style=\"fill:#4575b4;fill-opacity:0.7;stroke:#4575b4;stroke-opacity:0.7;stroke-width:0.3;\" x=\"17.18\" y=\"30.787008\" xlink:href=\"#me60edb869e\" />\n     <use style=\"fill:#4575b4;fill-opacity:0.7;stroke:#4575b4;stroke-opacity:0.7;stroke-width:0.3;\" x=\"17.18\" y=\"29.326656\" xlink:href=\"#me60edb869e\" />\n     <use style=\"fill:#4575b4;fill-opacity:0.7;stroke:#4575b4;stroke-opacity:0.7;stroke-width:0.3;\" x=\"110.18\" y=\"40.955736\" xlink:href=\"#me60edb869e\" />\n     <use style=\"fill:#4575b4;fill-opacity:0.7;stroke:#4575b4;stroke-opacity:0.7;stroke-width:0.3;\" x=\"133.43\" y=\"59.474011\" xlink:href=\"#me60edb869e\" />\n     <use style=\"fill:#4575b4;fill-opacity:0.7;stroke:#4575b4;stroke-opacity:0.7;stroke-width:0.3;\" x=\"86.93\" y=\"19.387138\" xlink:href=\"#me60edb869e\" />\n     <use style=\"fill:#4575b4;fill-opacity:0.7;stroke:#4575b4;stroke-opacity:0.7;stroke-width:0.3;\" x=\"17.18\" y=\"19.525386\" xlink:href=\"#me60edb869e\" />\n     <use style=\"fill:#4575b4;fill-opacity:0.7;stroke:#4575b4;stroke-opacity:0.7;stroke-width:0.3;\" x=\"17.18\" y=\"48.334203\" xlink:href=\"#me60edb869e\" />\n     <use style=\"fill:#4575b4;fill-opacity:0.7;stroke:#4575b4;stroke-opacity:0.7;stroke-width:0.3;\" x=\"17.18\" y=\"33.506493\" xlink:href=\"#me60edb869e\" />\n     <use style=\"fill:#4575b4;fill-opacity:0.7;stroke:#4575b4;stroke-opacity:0.7;stroke-width:0.3;\" x=\"110.18\" y=\"14.136631\" xlink:href=\"#me60edb869e\" />\n     <use style=\"fill:#4575b4;fill-opacity:0.7;stroke:#4575b4;stroke-opacity:0.7;stroke-width:0.3;\" x=\"86.93\" y=\"17.551806\" xlink:href=\"#me60edb869e\" />\n     <use style=\"fill:#4575b4;fill-opacity:0.7;stroke:#4575b4;stroke-opacity:0.7;stroke-width:0.3;\" x=\"17.18\" y=\"33.506493\" xlink:href=\"#me60edb869e\" />\n     <use style=\"fill:#4575b4;fill-opacity:0.7;stroke:#4575b4;stroke-opacity:0.7;stroke-width:0.3;\" x=\"17.18\" y=\"28.191069\" xlink:href=\"#me60edb869e\" />\n     <use style=\"fill:#4575b4;fill-opacity:0.7;stroke:#4575b4;stroke-opacity:0.7;stroke-width:0.3;\" x=\"63.68\" y=\"21.731643\" xlink:href=\"#me60edb869e\" />\n     <use style=\"fill:#4575b4;fill-opacity:0.7;stroke:#4575b4;stroke-opacity:0.7;stroke-width:0.3;\" x=\"86.93\" y=\"18.844148\" xlink:href=\"#me60edb869e\" />\n     <use style=\"fill:#4575b4;fill-opacity:0.7;stroke:#4575b4;stroke-opacity:0.7;stroke-width:0.3;\" x=\"17.18\" y=\"45.913848\" xlink:href=\"#me60edb869e\" />\n     <use style=\"fill:#4575b4;fill-opacity:0.7;stroke:#4575b4;stroke-opacity:0.7;stroke-width:0.3;\" x=\"86.93\" y=\"27.120399\" xlink:href=\"#me60edb869e\" />\n     <use style=\"fill:#4575b4;fill-opacity:0.7;stroke:#4575b4;stroke-opacity:0.7;stroke-width:0.3;\" x=\"63.68\" y=\"42.310424\" xlink:href=\"#me60edb869e\" />\n     <use style=\"fill:#4575b4;fill-opacity:0.7;stroke:#4575b4;stroke-opacity:0.7;stroke-width:0.3;\" x=\"86.93\" y=\"27.120399\" xlink:href=\"#me60edb869e\" />\n     <use style=\"fill:#4575b4;fill-opacity:0.7;stroke:#4575b4;stroke-opacity:0.7;stroke-width:0.3;\" x=\"63.68\" y=\"10.721456\" xlink:href=\"#me60edb869e\" />\n     <use style=\"fill:#4575b4;fill-opacity:0.7;stroke:#4575b4;stroke-opacity:0.7;stroke-width:0.3;\" x=\"110.18\" y=\"50.379668\" xlink:href=\"#me60edb869e\" />\n     <use style=\"fill:#4575b4;fill-opacity:0.7;stroke:#4575b4;stroke-opacity:0.7;stroke-width:0.3;\" x=\"17.18\" y=\"33.506493\" xlink:href=\"#me60edb869e\" />\n     <use style=\"fill:#4575b4;fill-opacity:0.7;stroke:#4575b4;stroke-opacity:0.7;stroke-width:0.3;\" x=\"17.18\" y=\"34.715411\" xlink:href=\"#me60edb869e\" />\n     <use style=\"fill:#4575b4;fill-opacity:0.7;stroke:#4575b4;stroke-opacity:0.7;stroke-width:0.3;\" x=\"17.18\" y=\"42.310424\" xlink:href=\"#me60edb869e\" />\n     <use style=\"fill:#4575b4;fill-opacity:0.7;stroke:#4575b4;stroke-opacity:0.7;stroke-width:0.3;\" x=\"17.18\" y=\"40.104149\" xlink:href=\"#me60edb869e\" />\n     <use style=\"fill:#4575b4;fill-opacity:0.7;stroke:#4575b4;stroke-opacity:0.7;stroke-width:0.3;\" x=\"63.68\" y=\"25.146818\" xlink:href=\"#me60edb869e\" />\n     <use style=\"fill:#4575b4;fill-opacity:0.7;stroke:#4575b4;stroke-opacity:0.7;stroke-width:0.3;\" x=\"156.68\" y=\"57.267754\" xlink:href=\"#me60edb869e\" />\n     <use style=\"fill:#4575b4;fill-opacity:0.7;stroke:#4575b4;stroke-opacity:0.7;stroke-width:0.3;\" x=\"17.18\" y=\"48.991504\" xlink:href=\"#me60edb869e\" />\n     <use style=\"fill:#4575b4;fill-opacity:0.7;stroke:#4575b4;stroke-opacity:0.7;stroke-width:0.3;\" x=\"86.93\" y=\"12.163069\" xlink:href=\"#me60edb869e\" />\n     <use style=\"fill:#4575b4;fill-opacity:0.7;stroke:#4575b4;stroke-opacity:0.7;stroke-width:0.3;\" x=\"17.18\" y=\"57.267754\" xlink:href=\"#me60edb869e\" />\n     <use style=\"fill:#4575b4;fill-opacity:0.7;stroke:#4575b4;stroke-opacity:0.7;stroke-width:0.3;\" x=\"17.18\" y=\"43.770758\" xlink:href=\"#me60edb869e\" />\n     <use style=\"fill:#4575b4;fill-opacity:0.7;stroke:#4575b4;stroke-opacity:0.7;stroke-width:0.3;\" x=\"110.18\" y=\"31.827916\" xlink:href=\"#me60edb869e\" />\n     <use style=\"fill:#4575b4;fill-opacity:0.7;stroke:#4575b4;stroke-opacity:0.7;stroke-width:0.3;\" x=\"63.68\" y=\"28.191069\" xlink:href=\"#me60edb869e\" />\n     <use style=\"fill:#4575b4;fill-opacity:0.7;stroke:#4575b4;stroke-opacity:0.7;stroke-width:0.3;\" x=\"17.18\" y=\"30.787008\" xlink:href=\"#me60edb869e\" />\n     <use style=\"fill:#4575b4;fill-opacity:0.7;stroke:#4575b4;stroke-opacity:0.7;stroke-width:0.3;\" x=\"17.18\" y=\"42.310424\" xlink:href=\"#me60edb869e\" />\n     <use style=\"fill:#4575b4;fill-opacity:0.7;stroke:#4575b4;stroke-opacity:0.7;stroke-width:0.3;\" x=\"17.18\" y=\"24.055355\" xlink:href=\"#me60edb869e\" />\n     <use style=\"fill:#4575b4;fill-opacity:0.7;stroke:#4575b4;stroke-opacity:0.7;stroke-width:0.3;\" x=\"17.18\" y=\"36.345273\" xlink:href=\"#me60edb869e\" />\n     <use style=\"fill:#4575b4;fill-opacity:0.7;stroke:#4575b4;stroke-opacity:0.7;stroke-width:0.3;\" x=\"63.68\" y=\"39.289611\" xlink:href=\"#me60edb869e\" />\n     <use style=\"fill:#4575b4;fill-opacity:0.7;stroke:#4575b4;stroke-opacity:0.7;stroke-width:0.3;\" x=\"17.18\" y=\"40.52511\" xlink:href=\"#me60edb869e\" />\n     <use style=\"fill:#4575b4;fill-opacity:0.7;stroke:#4575b4;stroke-opacity:0.7;stroke-width:0.3;\" x=\"17.18\" y=\"22.692451\" xlink:href=\"#me60edb869e\" />\n     <use style=\"fill:#4575b4;fill-opacity:0.7;stroke:#4575b4;stroke-opacity:0.7;stroke-width:0.3;\" x=\"63.68\" y=\"31.827916\" xlink:href=\"#me60edb869e\" />\n     <use style=\"fill:#4575b4;fill-opacity:0.7;stroke:#4575b4;stroke-opacity:0.7;stroke-width:0.3;\" x=\"17.18\" y=\"38.130586\" xlink:href=\"#me60edb869e\" />\n     <use style=\"fill:#4575b4;fill-opacity:0.7;stroke:#4575b4;stroke-opacity:0.7;stroke-width:0.3;\" x=\"86.93\" y=\"26.708691\" xlink:href=\"#me60edb869e\" />\n     <use style=\"fill:#4575b4;fill-opacity:0.7;stroke:#4575b4;stroke-opacity:0.7;stroke-width:0.3;\" x=\"110.18\" y=\"34.715411\" xlink:href=\"#me60edb869e\" />\n     <use style=\"fill:#4575b4;fill-opacity:0.7;stroke:#4575b4;stroke-opacity:0.7;stroke-width:0.3;\" x=\"63.68\" y=\"33.801479\" xlink:href=\"#me60edb869e\" />\n     <use style=\"fill:#4575b4;fill-opacity:0.7;stroke:#4575b4;stroke-opacity:0.7;stroke-width:0.3;\" x=\"133.43\" y=\"49.672741\" xlink:href=\"#me60edb869e\" />\n     <use style=\"fill:#4575b4;fill-opacity:0.7;stroke:#4575b4;stroke-opacity:0.7;stroke-width:0.3;\" x=\"17.18\" y=\"42.784655\" xlink:href=\"#me60edb869e\" />\n     <use style=\"fill:#4575b4;fill-opacity:0.7;stroke:#4575b4;stroke-opacity:0.7;stroke-width:0.3;\" x=\"133.43\" y=\"46.490261\" xlink:href=\"#me60edb869e\" />\n     <use style=\"fill:#4575b4;fill-opacity:0.7;stroke:#4575b4;stroke-opacity:0.7;stroke-width:0.3;\" x=\"86.93\" y=\"22.528853\" xlink:href=\"#me60edb869e\" />\n     <use style=\"fill:#4575b4;fill-opacity:0.7;stroke:#4575b4;stroke-opacity:0.7;stroke-width:0.3;\" x=\"17.18\" y=\"44.283986\" xlink:href=\"#me60edb869e\" />\n     <use style=\"fill:#4575b4;fill-opacity:0.7;stroke:#4575b4;stroke-opacity:0.7;stroke-width:0.3;\" x=\"156.68\" y=\"26.91341\" xlink:href=\"#me60edb869e\" />\n     <use style=\"fill:#4575b4;fill-opacity:0.7;stroke:#4575b4;stroke-opacity:0.7;stroke-width:0.3;\" x=\"40.43\" y=\"24.775893\" xlink:href=\"#me60edb869e\" />\n     <use style=\"fill:#4575b4;fill-opacity:0.7;stroke:#4575b4;stroke-opacity:0.7;stroke-width:0.3;\" x=\"110.18\" y=\"22.110071\" xlink:href=\"#me60edb869e\" />\n     <use style=\"fill:#4575b4;fill-opacity:0.7;stroke:#4575b4;stroke-opacity:0.7;stroke-width:0.3;\" x=\"86.93\" y=\"16.342906\" xlink:href=\"#me60edb869e\" />\n     <use style=\"fill:#4575b4;fill-opacity:0.7;stroke:#4575b4;stroke-opacity:0.7;stroke-width:0.3;\" x=\"17.18\" y=\"30.535574\" xlink:href=\"#me60edb869e\" />\n     <use style=\"fill:#4575b4;fill-opacity:0.7;stroke:#4575b4;stroke-opacity:0.7;stroke-width:0.3;\" x=\"110.18\" y=\"33.21608\" xlink:href=\"#me60edb869e\" />\n     <use style=\"fill:#4575b4;fill-opacity:0.7;stroke:#4575b4;stroke-opacity:0.7;stroke-width:0.3;\" x=\"17.18\" y=\"26.708691\" xlink:href=\"#me60edb869e\" />\n     <use style=\"fill:#4575b4;fill-opacity:0.7;stroke:#4575b4;stroke-opacity:0.7;stroke-width:0.3;\" x=\"133.43\" y=\"36.688974\" xlink:href=\"#me60edb869e\" />\n     <use style=\"fill:#4575b4;fill-opacity:0.7;stroke:#4575b4;stroke-opacity:0.7;stroke-width:0.3;\" x=\"17.18\" y=\"46.490261\" xlink:href=\"#me60edb869e\" />\n     <use style=\"fill:#4575b4;fill-opacity:0.7;stroke:#4575b4;stroke-opacity:0.7;stroke-width:0.3;\" x=\"17.18\" y=\"45.354656\" xlink:href=\"#me60edb869e\" />\n     <use style=\"fill:#4575b4;fill-opacity:0.7;stroke:#4575b4;stroke-opacity:0.7;stroke-width:0.3;\" x=\"17.18\" y=\"45.354656\" xlink:href=\"#me60edb869e\" />\n     <use style=\"fill:#4575b4;fill-opacity:0.7;stroke:#4575b4;stroke-opacity:0.7;stroke-width:0.3;\" x=\"156.68\" y=\"49.672741\" xlink:href=\"#me60edb869e\" />\n     <use style=\"fill:#4575b4;fill-opacity:0.7;stroke:#4575b4;stroke-opacity:0.7;stroke-width:0.3;\" x=\"17.18\" y=\"38.895248\" xlink:href=\"#me60edb869e\" />\n     <use style=\"fill:#4575b4;fill-opacity:0.7;stroke:#4575b4;stroke-opacity:0.7;stroke-width:0.3;\" x=\"17.18\" y=\"11.700538\" xlink:href=\"#me60edb869e\" />\n     <use style=\"fill:#4575b4;fill-opacity:0.7;stroke:#4575b4;stroke-opacity:0.7;stroke-width:0.3;\" x=\"63.68\" y=\"15.207301\" xlink:href=\"#me60edb869e\" />\n     <use style=\"fill:#4575b4;fill-opacity:0.7;stroke:#4575b4;stroke-opacity:0.7;stroke-width:0.3;\" x=\"86.93\" y=\"31.300236\" xlink:href=\"#me60edb869e\" />\n     <use style=\"fill:#4575b4;fill-opacity:0.7;stroke:#4575b4;stroke-opacity:0.7;stroke-width:0.3;\" x=\"17.18\" y=\"40.52511\" xlink:href=\"#me60edb869e\" />\n     <use style=\"fill:#4575b4;fill-opacity:0.7;stroke:#4575b4;stroke-opacity:0.7;stroke-width:0.3;\" x=\"63.68\" y=\"31.827916\" xlink:href=\"#me60edb869e\" />\n     <use style=\"fill:#4575b4;fill-opacity:0.7;stroke:#4575b4;stroke-opacity:0.7;stroke-width:0.3;\" x=\"17.18\" y=\"37.395918\" xlink:href=\"#me60edb869e\" />\n     <use style=\"fill:#4575b4;fill-opacity:0.7;stroke:#4575b4;stroke-opacity:0.7;stroke-width:0.3;\" x=\"17.18\" y=\"36.688974\" xlink:href=\"#me60edb869e\" />\n     <use style=\"fill:#4575b4;fill-opacity:0.7;stroke:#4575b4;stroke-opacity:0.7;stroke-width:0.3;\" x=\"133.43\" y=\"40.104149\" xlink:href=\"#me60edb869e\" />\n     <use style=\"fill:#4575b4;fill-opacity:0.7;stroke:#4575b4;stroke-opacity:0.7;stroke-width:0.3;\" x=\"156.68\" y=\"52.676208\" xlink:href=\"#me60edb869e\" />\n     <use style=\"fill:#4575b4;fill-opacity:0.7;stroke:#4575b4;stroke-opacity:0.7;stroke-width:0.3;\" x=\"63.68\" y=\"22.528853\" xlink:href=\"#me60edb869e\" />\n     <use style=\"fill:#4575b4;fill-opacity:0.7;stroke:#4575b4;stroke-opacity:0.7;stroke-width:0.3;\" x=\"17.18\" y=\"31.300236\" xlink:href=\"#me60edb869e\" />\n     <use style=\"fill:#4575b4;fill-opacity:0.7;stroke:#4575b4;stroke-opacity:0.7;stroke-width:0.3;\" x=\"17.18\" y=\"27.971969\" xlink:href=\"#me60edb869e\" />\n     <use style=\"fill:#4575b4;fill-opacity:0.7;stroke:#4575b4;stroke-opacity:0.7;stroke-width:0.3;\" x=\"63.68\" y=\"34.715411\" xlink:href=\"#me60edb869e\" />\n     <use style=\"fill:#4575b4;fill-opacity:0.7;stroke:#4575b4;stroke-opacity:0.7;stroke-width:0.3;\" x=\"86.93\" y=\"27.120399\" xlink:href=\"#me60edb869e\" />\n     <use style=\"fill:#4575b4;fill-opacity:0.7;stroke:#4575b4;stroke-opacity:0.7;stroke-width:0.3;\" x=\"63.68\" y=\"25.146818\" xlink:href=\"#me60edb869e\" />\n     <use style=\"fill:#4575b4;fill-opacity:0.7;stroke:#4575b4;stroke-opacity:0.7;stroke-width:0.3;\" x=\"133.43\" y=\"52.676208\" xlink:href=\"#me60edb869e\" />\n     <use style=\"fill:#4575b4;fill-opacity:0.7;stroke:#4575b4;stroke-opacity:0.7;stroke-width:0.3;\" x=\"17.18\" y=\"41.396491\" xlink:href=\"#me60edb869e\" />\n     <use style=\"fill:#4575b4;fill-opacity:0.7;stroke:#4575b4;stroke-opacity:0.7;stroke-width:0.3;\" x=\"86.93\" y=\"18.978431\" xlink:href=\"#me60edb869e\" />\n     <use style=\"fill:#4575b4;fill-opacity:0.7;stroke:#4575b4;stroke-opacity:0.7;stroke-width:0.3;\" x=\"86.93\" y=\"10.377755\" xlink:href=\"#me60edb869e\" />\n     <use style=\"fill:#4575b4;fill-opacity:0.7;stroke:#4575b4;stroke-opacity:0.7;stroke-width:0.3;\" x=\"17.18\" y=\"45.354656\" xlink:href=\"#me60edb869e\" />\n     <use style=\"fill:#4575b4;fill-opacity:0.7;stroke:#4575b4;stroke-opacity:0.7;stroke-width:0.3;\" x=\"17.18\" y=\"21.117448\" xlink:href=\"#me60edb869e\" />\n     <use style=\"fill:#4575b4;fill-opacity:0.7;stroke:#4575b4;stroke-opacity:0.7;stroke-width:0.3;\" x=\"86.93\" y=\"16.342906\" xlink:href=\"#me60edb869e\" />\n     <use style=\"fill:#4575b4;fill-opacity:0.7;stroke:#4575b4;stroke-opacity:0.7;stroke-width:0.3;\" x=\"63.68\" y=\"21.117448\" xlink:href=\"#me60edb869e\" />\n     <use style=\"fill:#4575b4;fill-opacity:0.7;stroke:#4575b4;stroke-opacity:0.7;stroke-width:0.3;\" x=\"17.18\" y=\"15.207301\" xlink:href=\"#me60edb869e\" />\n     <use style=\"fill:#4575b4;fill-opacity:0.7;stroke:#4575b4;stroke-opacity:0.7;stroke-width:0.3;\" x=\"17.18\" y=\"35.350435\" xlink:href=\"#me60edb869e\" />\n     <use style=\"fill:#4575b4;fill-opacity:0.7;stroke:#4575b4;stroke-opacity:0.7;stroke-width:0.3;\" x=\"86.93\" y=\"16.342906\" xlink:href=\"#me60edb869e\" />\n    </g>\n   </g>\n   <g id=\"patch_3\">\n    <path d=\"M 121.805 61.652848  L 119.294 67.632448  L 124.316 67.632448  z \" style=\"fill:#444443;\" />\n   </g>\n   <g id=\"matplotlib.axis_1\">\n    <g id=\"xtick_1\">\n     <g id=\"line2d_1\">\n      <defs>\n       <path d=\"M 0 0  L 0 3.5  \" id=\"m81cc35b437\" style=\"stroke:#444443;stroke-width:0.3;\" />\n      </defs>\n      <g>\n       <use style=\"fill:#444443;stroke:#444443;stroke-width:0.3;\" x=\"17.18\" y=\"61.652848\" xlink:href=\"#m81cc35b437\" />\n      </g>\n     </g>\n     <g id=\"text_1\">\n      \n      <defs>\n       <path d=\"M 31.78125 66.40625  Q 24.171875 66.40625 20.328125 58.90625  Q 16.5 51.421875 16.5 36.375  Q 16.5 21.390625 20.328125 13.890625  Q 24.171875 6.390625 31.78125 6.390625  Q 39.453125 6.390625 43.28125 13.890625  Q 47.125 21.390625 47.125 36.375  Q 47.125 51.421875 43.28125 58.90625  Q 39.453125 66.40625 31.78125 66.40625  z M 31.78125 74.21875  Q 44.046875 74.21875 50.515625 64.515625  Q 56.984375 54.828125 56.984375 36.375  Q 56.984375 17.96875 50.515625 8.265625  Q 44.046875 -1.421875 31.78125 -1.421875  Q 19.53125 -1.421875 13.0625 8.265625  Q 6.59375 17.96875 6.59375 36.375  Q 6.59375 54.828125 13.0625 64.515625  Q 19.53125 74.21875 31.78125 74.21875  z \" id=\"DejaVuSans-48\" />\n       <path d=\"M 10.6875 12.40625  L 21 12.40625  L 21 0  L 10.6875 0  z \" id=\"DejaVuSans-46\" />\n      </defs>\n      <g style=\"fill:#444443;\" transform=\"translate(10.81875 74.731598)scale(0.08 -0.08)\">\n       <use xlink:href=\"#DejaVuSans-48\" />\n       <use x=\"63.623047\" xlink:href=\"#DejaVuSans-46\" />\n       <use x=\"95.410156\" xlink:href=\"#DejaVuSans-48\" />\n      </g>\n     </g>\n    </g>\n    <g id=\"xtick_2\">\n     <g id=\"line2d_2\">\n      <g>\n       <use style=\"fill:#444443;stroke:#444443;stroke-width:0.3;\" x=\"156.68\" y=\"61.652848\" xlink:href=\"#m81cc35b437\" />\n      </g>\n     </g>\n     <g id=\"text_2\">\n      \n      <defs>\n       <path d=\"M 33.015625 40.375  Q 26.375 40.375 22.484375 35.828125  Q 18.609375 31.296875 18.609375 23.390625  Q 18.609375 15.53125 22.484375 10.953125  Q 26.375 6.390625 33.015625 6.390625  Q 39.65625 6.390625 43.53125 10.953125  Q 47.40625 15.53125 47.40625 23.390625  Q 47.40625 31.296875 43.53125 35.828125  Q 39.65625 40.375 33.015625 40.375  z M 52.59375 71.296875  L 52.59375 62.3125  Q 48.875 64.0625 45.09375 64.984375  Q 41.3125 65.921875 37.59375 65.921875  Q 27.828125 65.921875 22.671875 59.328125  Q 17.53125 52.734375 16.796875 39.40625  Q 19.671875 43.65625 24.015625 45.921875  Q 28.375 48.1875 33.59375 48.1875  Q 44.578125 48.1875 50.953125 41.515625  Q 57.328125 34.859375 57.328125 23.390625  Q 57.328125 12.15625 50.6875 5.359375  Q 44.046875 -1.421875 33.015625 -1.421875  Q 20.359375 -1.421875 13.671875 8.265625  Q 6.984375 17.96875 6.984375 36.375  Q 6.984375 53.65625 15.1875 63.9375  Q 23.390625 74.21875 37.203125 74.21875  Q 40.921875 74.21875 44.703125 73.484375  Q 48.484375 72.75 52.59375 71.296875  z \" id=\"DejaVuSans-54\" />\n      </defs>\n      <g style=\"fill:#444443;\" transform=\"translate(150.31875 74.731598)scale(0.08 -0.08)\">\n       <use xlink:href=\"#DejaVuSans-54\" />\n       <use x=\"63.623047\" xlink:href=\"#DejaVuSans-46\" />\n       <use x=\"95.410156\" xlink:href=\"#DejaVuSans-48\" />\n      </g>\n     </g>\n    </g>\n    <g id=\"xtick_3\">\n     <g id=\"line2d_3\">\n      <g>\n       <use style=\"fill:#444443;stroke:#444443;stroke-width:0.3;\" x=\"121.805\" y=\"61.652848\" xlink:href=\"#m81cc35b437\" />\n      </g>\n     </g>\n     <g id=\"text_3\">\n      \n      <defs>\n       <path d=\"M 37.796875 64.3125  L 12.890625 25.390625  L 37.796875 25.390625  z M 35.203125 72.90625  L 47.609375 72.90625  L 47.609375 25.390625  L 58.015625 25.390625  L 58.015625 17.1875  L 47.609375 17.1875  L 47.609375 0  L 37.796875 0  L 37.796875 17.1875  L 4.890625 17.1875  L 4.890625 26.703125  z \" id=\"DejaVuSans-52\" />\n       <path d=\"M 10.796875 72.90625  L 49.515625 72.90625  L 49.515625 64.59375  L 19.828125 64.59375  L 19.828125 46.734375  Q 21.96875 47.46875 24.109375 47.828125  Q 26.265625 48.1875 28.421875 48.1875  Q 40.625 48.1875 47.75 41.5  Q 54.890625 34.8125 54.890625 23.390625  Q 54.890625 11.625 47.5625 5.09375  Q 40.234375 -1.421875 26.90625 -1.421875  Q 22.3125 -1.421875 17.546875 -0.640625  Q 12.796875 0.140625 7.71875 1.703125  L 7.71875 11.625  Q 12.109375 9.234375 16.796875 8.0625  Q 21.484375 6.890625 26.703125 6.890625  Q 35.15625 6.890625 40.078125 11.328125  Q 45.015625 15.765625 45.015625 23.390625  Q 45.015625 31 40.078125 35.4375  Q 35.15625 39.890625 26.703125 39.890625  Q 22.75 39.890625 18.8125 39.015625  Q 14.890625 38.140625 10.796875 36.28125  z \" id=\"DejaVuSans-53\" />\n      </defs>\n      <g style=\"fill:#444443;\" transform=\"translate(115.44375 74.731598)scale(0.08 -0.08)\">\n       <use xlink:href=\"#DejaVuSans-52\" />\n       <use x=\"63.623047\" xlink:href=\"#DejaVuSans-46\" />\n       <use x=\"95.410156\" xlink:href=\"#DejaVuSans-53\" />\n      </g>\n     </g>\n    </g>\n    <g id=\"text_4\">\n     \n     <defs>\n      <path d=\"M 19.671875 64.796875  L 19.671875 37.40625  L 32.078125 37.40625  Q 38.96875 37.40625 42.71875 40.96875  Q 46.484375 44.53125 46.484375 51.125  Q 46.484375 57.671875 42.71875 61.234375  Q 38.96875 64.796875 32.078125 64.796875  z M 9.8125 72.90625  L 32.078125 72.90625  Q 44.34375 72.90625 50.609375 67.359375  Q 56.890625 61.8125 56.890625 51.125  Q 56.890625 40.328125 50.609375 34.8125  Q 44.34375 29.296875 32.078125 29.296875  L 19.671875 29.296875  L 19.671875 0  L 9.8125 0  z \" id=\"DejaVuSans-80\" />\n      <path d=\"M 41.109375 46.296875  Q 39.59375 47.171875 37.8125 47.578125  Q 36.03125 48 33.890625 48  Q 26.265625 48 22.1875 43.046875  Q 18.109375 38.09375 18.109375 28.8125  L 18.109375 0  L 9.078125 0  L 9.078125 54.6875  L 18.109375 54.6875  L 18.109375 46.1875  Q 20.953125 51.171875 25.484375 53.578125  Q 30.03125 56 36.53125 56  Q 37.453125 56 38.578125 55.875  Q 39.703125 55.765625 41.0625 55.515625  z \" id=\"DejaVuSans-114\" />\n      <path d=\"M 30.609375 48.390625  Q 23.390625 48.390625 19.1875 42.75  Q 14.984375 37.109375 14.984375 27.296875  Q 14.984375 17.484375 19.15625 11.84375  Q 23.34375 6.203125 30.609375 6.203125  Q 37.796875 6.203125 41.984375 11.859375  Q 46.1875 17.53125 46.1875 27.296875  Q 46.1875 37.015625 41.984375 42.703125  Q 37.796875 48.390625 30.609375 48.390625  z M 30.609375 56  Q 42.328125 56 49.015625 48.375  Q 55.71875 40.765625 55.71875 27.296875  Q 55.71875 13.875 49.015625 6.21875  Q 42.328125 -1.421875 30.609375 -1.421875  Q 18.84375 -1.421875 12.171875 6.21875  Q 5.515625 13.875 5.515625 27.296875  Q 5.515625 40.765625 12.171875 48.375  Q 18.84375 56 30.609375 56  z \" id=\"DejaVuSans-111\" />\n      <path d=\"M 45.40625 46.390625  L 45.40625 75.984375  L 54.390625 75.984375  L 54.390625 0  L 45.40625 0  L 45.40625 8.203125  Q 42.578125 3.328125 38.25 0.953125  Q 33.9375 -1.421875 27.875 -1.421875  Q 17.96875 -1.421875 11.734375 6.484375  Q 5.515625 14.40625 5.515625 27.296875  Q 5.515625 40.1875 11.734375 48.09375  Q 17.96875 56 27.875 56  Q 33.9375 56 38.25 53.625  Q 42.578125 51.265625 45.40625 46.390625  z M 14.796875 27.296875  Q 14.796875 17.390625 18.875 11.75  Q 22.953125 6.109375 30.078125 6.109375  Q 37.203125 6.109375 41.296875 11.75  Q 45.40625 17.390625 45.40625 27.296875  Q 45.40625 37.203125 41.296875 42.84375  Q 37.203125 48.484375 30.078125 48.484375  Q 22.953125 48.484375 18.875 42.84375  Q 14.796875 37.203125 14.796875 27.296875  z \" id=\"DejaVuSans-100\" />\n      <path d=\"M 8.5 21.578125  L 8.5 54.6875  L 17.484375 54.6875  L 17.484375 21.921875  Q 17.484375 14.15625 20.5 10.265625  Q 23.53125 6.390625 29.59375 6.390625  Q 36.859375 6.390625 41.078125 11.03125  Q 45.3125 15.671875 45.3125 23.6875  L 45.3125 54.6875  L 54.296875 54.6875  L 54.296875 0  L 45.3125 0  L 45.3125 8.40625  Q 42.046875 3.421875 37.71875 1  Q 33.40625 -1.421875 27.6875 -1.421875  Q 18.265625 -1.421875 13.375 4.4375  Q 8.5 10.296875 8.5 21.578125  z M 31.109375 56  z \" id=\"DejaVuSans-117\" />\n      <path d=\"M 48.78125 52.59375  L 48.78125 44.1875  Q 44.96875 46.296875 41.140625 47.34375  Q 37.3125 48.390625 33.40625 48.390625  Q 24.65625 48.390625 19.8125 42.84375  Q 14.984375 37.3125 14.984375 27.296875  Q 14.984375 17.28125 19.8125 11.734375  Q 24.65625 6.203125 33.40625 6.203125  Q 37.3125 6.203125 41.140625 7.25  Q 44.96875 8.296875 48.78125 10.40625  L 48.78125 2.09375  Q 45.015625 0.34375 40.984375 -0.53125  Q 36.96875 -1.421875 32.421875 -1.421875  Q 20.0625 -1.421875 12.78125 6.34375  Q 5.515625 14.109375 5.515625 27.296875  Q 5.515625 40.671875 12.859375 48.328125  Q 20.21875 56 33.015625 56  Q 37.15625 56 41.109375 55.140625  Q 45.0625 54.296875 48.78125 52.59375  z \" id=\"DejaVuSans-99\" />\n      <path d=\"M 18.3125 70.21875  L 18.3125 54.6875  L 36.8125 54.6875  L 36.8125 47.703125  L 18.3125 47.703125  L 18.3125 18.015625  Q 18.3125 11.328125 20.140625 9.421875  Q 21.96875 7.515625 27.59375 7.515625  L 36.8125 7.515625  L 36.8125 0  L 27.59375 0  Q 17.1875 0 13.234375 3.875  Q 9.28125 7.765625 9.28125 18.015625  L 9.28125 47.703125  L 2.6875 47.703125  L 2.6875 54.6875  L 9.28125 54.6875  L 9.28125 70.21875  z \" id=\"DejaVuSans-116\" />\n      <path d=\"M 53.515625 70.515625  L 53.515625 60.890625  Q 47.90625 63.578125 42.921875 64.890625  Q 37.9375 66.21875 33.296875 66.21875  Q 25.25 66.21875 20.875 63.09375  Q 16.5 59.96875 16.5 54.203125  Q 16.5 49.359375 19.40625 46.890625  Q 22.3125 44.4375 30.421875 42.921875  L 36.375 41.703125  Q 47.40625 39.59375 52.65625 34.296875  Q 57.90625 29 57.90625 20.125  Q 57.90625 9.515625 50.796875 4.046875  Q 43.703125 -1.421875 29.984375 -1.421875  Q 24.8125 -1.421875 18.96875 -0.25  Q 13.140625 0.921875 6.890625 3.21875  L 6.890625 13.375  Q 12.890625 10.015625 18.65625 8.296875  Q 24.421875 6.59375 29.984375 6.59375  Q 38.421875 6.59375 43.015625 9.90625  Q 47.609375 13.234375 47.609375 19.390625  Q 47.609375 24.75 44.3125 27.78125  Q 41.015625 30.8125 33.5 32.328125  L 27.484375 33.5  Q 16.453125 35.6875 11.515625 40.375  Q 6.59375 45.0625 6.59375 53.421875  Q 6.59375 63.09375 13.40625 68.65625  Q 20.21875 74.21875 32.171875 74.21875  Q 37.3125 74.21875 42.625 73.28125  Q 47.953125 72.359375 53.515625 70.515625  z \" id=\"DejaVuSans-83\" />\n      <path d=\"M 9.421875 54.6875  L 18.40625 54.6875  L 18.40625 0  L 9.421875 0  z M 9.421875 75.984375  L 18.40625 75.984375  L 18.40625 64.59375  L 9.421875 64.59375  z \" id=\"DejaVuSans-105\" />\n      <path d=\"M 5.515625 54.6875  L 48.1875 54.6875  L 48.1875 46.484375  L 14.40625 7.171875  L 48.1875 7.171875  L 48.1875 0  L 4.296875 0  L 4.296875 8.203125  L 38.09375 47.515625  L 5.515625 47.515625  z \" id=\"DejaVuSans-122\" />\n      <path d=\"M 56.203125 29.59375  L 56.203125 25.203125  L 14.890625 25.203125  Q 15.484375 15.921875 20.484375 11.0625  Q 25.484375 6.203125 34.421875 6.203125  Q 39.59375 6.203125 44.453125 7.46875  Q 49.3125 8.734375 54.109375 11.28125  L 54.109375 2.78125  Q 49.265625 0.734375 44.1875 -0.34375  Q 39.109375 -1.421875 33.890625 -1.421875  Q 20.796875 -1.421875 13.15625 6.1875  Q 5.515625 13.8125 5.515625 26.8125  Q 5.515625 40.234375 12.765625 48.109375  Q 20.015625 56 32.328125 56  Q 43.359375 56 49.78125 48.890625  Q 56.203125 41.796875 56.203125 29.59375  z M 47.21875 32.234375  Q 47.125 39.59375 43.09375 43.984375  Q 39.0625 48.390625 32.421875 48.390625  Q 24.90625 48.390625 20.390625 44.140625  Q 15.875 39.890625 15.1875 32.171875  z \" id=\"DejaVuSans-101\" />\n     </defs>\n     <g style=\"fill:#444443;\" transform=\"translate(57.683906 87.993786)scale(0.1 -0.1)\">\n      <use xlink:href=\"#DejaVuSans-80\" />\n      <use x=\"58.552734\" xlink:href=\"#DejaVuSans-114\" />\n      <use x=\"97.416016\" xlink:href=\"#DejaVuSans-111\" />\n      <use x=\"158.597656\" xlink:href=\"#DejaVuSans-100\" />\n      <use x=\"222.074219\" xlink:href=\"#DejaVuSans-117\" />\n      <use x=\"285.453125\" xlink:href=\"#DejaVuSans-99\" />\n      <use x=\"340.433594\" xlink:href=\"#DejaVuSans-116\" />\n      <use x=\"379.642578\" xlink:href=\"#DejaVuSans-83\" />\n      <use x=\"443.119141\" xlink:href=\"#DejaVuSans-105\" />\n      <use x=\"470.902344\" xlink:href=\"#DejaVuSans-122\" />\n      <use x=\"523.392578\" xlink:href=\"#DejaVuSans-101\" />\n     </g>\n    </g>\n   </g>\n   <g id=\"matplotlib.axis_2\">\n    <g id=\"ytick_1\">\n     <g id=\"line2d_4\">\n      <defs>\n       <path d=\"M 0 0  L -3.5 0  \" id=\"m117b77032e\" style=\"stroke:#444443;stroke-width:0.3;\" />\n      </defs>\n      <g>\n       <use style=\"fill:#444443;stroke:#444443;stroke-width:0.3;\" x=\"17.18\" y=\"40.502584\" xlink:href=\"#m117b77032e\" />\n      </g>\n     </g>\n     <g id=\"text_5\">\n      \n      <defs>\n       <path d=\"M 12.40625 8.296875  L 28.515625 8.296875  L 28.515625 63.921875  L 10.984375 60.40625  L 10.984375 69.390625  L 28.421875 72.90625  L 38.28125 72.90625  L 38.28125 8.296875  L 54.390625 8.296875  L 54.390625 0  L 12.40625 0  z \" id=\"DejaVuSans-49\" />\n      </defs>\n      <g style=\"fill:#444443;\" transform=\"translate(0 43.541959)scale(0.08 -0.08)\">\n       <use xlink:href=\"#DejaVuSans-49\" />\n       <use x=\"63.623047\" xlink:href=\"#DejaVuSans-48\" />\n      </g>\n     </g>\n    </g>\n    <g id=\"ytick_2\">\n     <g id=\"line2d_5\">\n      <g>\n       <use style=\"fill:#444443;stroke:#444443;stroke-width:0.3;\" x=\"17.18\" y=\"3.039375\" xlink:href=\"#m117b77032e\" />\n      </g>\n     </g>\n     <g id=\"text_6\">\n      \n      <defs>\n       <path d=\"M 19.1875 8.296875  L 53.609375 8.296875  L 53.609375 0  L 7.328125 0  L 7.328125 8.296875  Q 12.9375 14.109375 22.625 23.890625  Q 32.328125 33.6875 34.8125 36.53125  Q 39.546875 41.84375 41.421875 45.53125  Q 43.3125 49.21875 43.3125 52.78125  Q 43.3125 58.59375 39.234375 62.25  Q 35.15625 65.921875 28.609375 65.921875  Q 23.96875 65.921875 18.8125 64.3125  Q 13.671875 62.703125 7.8125 59.421875  L 7.8125 69.390625  Q 13.765625 71.78125 18.9375 73  Q 24.125 74.21875 28.421875 74.21875  Q 39.75 74.21875 46.484375 68.546875  Q 53.21875 62.890625 53.21875 53.421875  Q 53.21875 48.921875 51.53125 44.890625  Q 49.859375 40.875 45.40625 35.40625  Q 44.1875 33.984375 37.640625 27.21875  Q 31.109375 20.453125 19.1875 8.296875  z \" id=\"DejaVuSans-50\" />\n      </defs>\n      <g style=\"fill:#444443;\" transform=\"translate(0 6.07875)scale(0.08 -0.08)\">\n       <use xlink:href=\"#DejaVuSans-49\" />\n       <use x=\"63.623047\" xlink:href=\"#DejaVuSans-50\" />\n      </g>\n     </g>\n    </g>\n   </g>\n   <g id=\"line2d_6\">\n    <path clip-path=\"url(#p23f269ef86)\" d=\"M 17.18 32.022704  L 121.805 32.022704  \" style=\"fill:none;stroke:#444443;stroke-dasharray:3.7,1.6;stroke-dashoffset:0;\" />\n   </g>\n   <g id=\"line2d_7\">\n    <path clip-path=\"url(#p23f269ef86)\" d=\"M 121.805 61.652848  L 121.805 1.856848  \" style=\"fill:none;stroke:#444443;stroke-dasharray:3.7,1.6;stroke-dashoffset:0;\" />\n   </g>\n   <g id=\"line2d_8\">\n    <path clip-path=\"url(#p23f269ef86)\" d=\"M 121.805 48.616988  L 156.68 48.616988  \" style=\"fill:none;stroke:#444443;stroke-dasharray:3.7,1.6;stroke-dashoffset:0;\" />\n   </g>\n   <g id=\"patch_4\">\n    <path d=\"M 17.18 61.652848  L 17.18 1.856848  \" style=\"fill:none;stroke:#000000;stroke-linecap:square;stroke-linejoin:miter;stroke-width:0.3;\" />\n   </g>\n   <g id=\"patch_5\">\n    <path d=\"M 17.18 61.652848  L 156.68 61.652848  \" style=\"fill:none;stroke:#000000;stroke-linecap:square;stroke-linejoin:miter;stroke-width:0.3;\" />\n   </g>\n  </g>\n </g>\n <defs>\n  <clipPath id=\"p23f269ef86\">\n   <rect height=\"59.796\" width=\"139.5\" x=\"17.18\" y=\"1.856848\" />\n  </clipPath>\n </defs>\n</svg></g>\n\n<g class=\"node\" id=\"node4\">\n<title>leaf5</title>\n<polygon fill=\"none\" points=\"533,-132 463,-132 463,-73 533,-73 533,-132\" stroke=\"#444443\" stroke-width=\"0\" />\n<svg height=\"51px\" preserveAspectRatio=\"xMinYMin meet\" version=\"1.1\" viewBox=\"0 0 82.810938 68.293293\" width=\"62px\" x=\"467\" y=\"-127.5\">\n <defs>\n  <style type=\"text/css\">\n*{stroke-linecap:butt;stroke-linejoin:round;}\n  </style>\n </defs>\n <g id=\"figure_1\">\n  <g id=\"patch_1\">\n   <path d=\"M 0 68.293293  L 82.810938 68.293293  L 82.810938 0  L 0 0  z \" style=\"fill:#ffffff;\" />\n  </g>\n  <g id=\"axes_1\">\n   <g id=\"patch_2\">\n    <path d=\"M 19.980469 45.667355  L 61.830469 45.667355  L 61.830469 2.179355  L 19.980469 2.179355  z \" style=\"fill:#ffffff;\" />\n   </g>\n   <g id=\"PathCollection_1\">\n    <defs>\n     <path d=\"M 0 1.118034  C 0.296506 1.118034 0.580908 1.000231 0.790569 0.790569  C 1.000231 0.580908 1.118034 0.296506 1.118034 0  C 1.118034 -0.296506 1.000231 -0.580908 0.790569 -0.790569  C 0.580908 -1.000231 0.296506 -1.118034 0 -1.118034  C -0.296506 -1.118034 -0.580908 -1.000231 -0.790569 -0.790569  C -1.000231 -0.580908 -1.118034 -0.296506 -1.118034 0  C -1.118034 0.296506 -1.000231 0.580908 -0.790569 0.790569  C -0.580908 1.000231 -0.296506 1.118034 0 1.118034  z \" id=\"m6648c37e5d\" style=\"stroke:#4575b4;stroke-opacity:0.7;stroke-width:0.3;\" />\n    </defs>\n    <g clip-path=\"url(#p3295381106)\">\n     <use style=\"fill:#4575b4;fill-opacity:0.7;stroke:#4575b4;stroke-opacity:0.7;stroke-width:0.3;\" x=\"46.395081\" y=\"25.197279\" xlink:href=\"#m6648c37e5d\" />\n     <use style=\"fill:#4575b4;fill-opacity:0.7;stroke:#4575b4;stroke-opacity:0.7;stroke-width:0.3;\" x=\"42.206504\" y=\"17.573637\" xlink:href=\"#m6648c37e5d\" />\n     <use style=\"fill:#4575b4;fill-opacity:0.7;stroke:#4575b4;stroke-opacity:0.7;stroke-width:0.3;\" x=\"44.6867\" y=\"29.995574\" xlink:href=\"#m6648c37e5d\" />\n     <use style=\"fill:#4575b4;fill-opacity:0.7;stroke:#4575b4;stroke-opacity:0.7;stroke-width:0.3;\" x=\"36.185437\" y=\"22.157397\" xlink:href=\"#m6648c37e5d\" />\n     <use style=\"fill:#4575b4;fill-opacity:0.7;stroke:#4575b4;stroke-opacity:0.7;stroke-width:0.3;\" x=\"43.177827\" y=\"18.583211\" xlink:href=\"#m6648c37e5d\" />\n     <use style=\"fill:#4575b4;fill-opacity:0.7;stroke:#4575b4;stroke-opacity:0.7;stroke-width:0.3;\" x=\"38.035083\" y=\"17.452553\" xlink:href=\"#m6648c37e5d\" />\n     <use style=\"fill:#4575b4;fill-opacity:0.7;stroke:#4575b4;stroke-opacity:0.7;stroke-width:0.3;\" x=\"39.746138\" y=\"19.117516\" xlink:href=\"#m6648c37e5d\" />\n     <use style=\"fill:#4575b4;fill-opacity:0.7;stroke:#4575b4;stroke-opacity:0.7;stroke-width:0.3;\" x=\"36.109793\" y=\"21.655884\" xlink:href=\"#m6648c37e5d\" />\n     <use style=\"fill:#4575b4;fill-opacity:0.7;stroke:#4575b4;stroke-opacity:0.7;stroke-width:0.3;\" x=\"36.558444\" y=\"23.036611\" xlink:href=\"#m6648c37e5d\" />\n     <use style=\"fill:#4575b4;fill-opacity:0.7;stroke:#4575b4;stroke-opacity:0.7;stroke-width:0.3;\" x=\"38.237237\" y=\"15.969087\" xlink:href=\"#m6648c37e5d\" />\n     <use style=\"fill:#4575b4;fill-opacity:0.7;stroke:#4575b4;stroke-opacity:0.7;stroke-width:0.3;\" x=\"44.590228\" y=\"17.819106\" xlink:href=\"#m6648c37e5d\" />\n     <use style=\"fill:#4575b4;fill-opacity:0.7;stroke:#4575b4;stroke-opacity:0.7;stroke-width:0.3;\" x=\"42.464459\" y=\"14.055719\" xlink:href=\"#m6648c37e5d\" />\n     <use style=\"fill:#4575b4;fill-opacity:0.7;stroke:#4575b4;stroke-opacity:0.7;stroke-width:0.3;\" x=\"44.412752\" y=\"30.935459\" xlink:href=\"#m6648c37e5d\" />\n     <use style=\"fill:#4575b4;fill-opacity:0.7;stroke:#4575b4;stroke-opacity:0.7;stroke-width:0.3;\" x=\"46.765381\" y=\"23.592728\" xlink:href=\"#m6648c37e5d\" />\n     <use style=\"fill:#4575b4;fill-opacity:0.7;stroke:#4575b4;stroke-opacity:0.7;stroke-width:0.3;\" x=\"43.043599\" y=\"33.035456\" xlink:href=\"#m6648c37e5d\" />\n     <use style=\"fill:#4575b4;fill-opacity:0.7;stroke:#4575b4;stroke-opacity:0.7;stroke-width:0.3;\" x=\"37.433618\" y=\"30.614911\" xlink:href=\"#m6648c37e5d\" />\n     <use style=\"fill:#4575b4;fill-opacity:0.7;stroke:#4575b4;stroke-opacity:0.7;stroke-width:0.3;\" x=\"34.13544\" y=\"34.640019\" xlink:href=\"#m6648c37e5d\" />\n     <use style=\"fill:#4575b4;fill-opacity:0.7;stroke:#4575b4;stroke-opacity:0.7;stroke-width:0.3;\" x=\"48.451324\" y=\"22.856166\" xlink:href=\"#m6648c37e5d\" />\n     <use style=\"fill:#4575b4;fill-opacity:0.7;stroke:#4575b4;stroke-opacity:0.7;stroke-width:0.3;\" x=\"44.659944\" y=\"28.835476\" xlink:href=\"#m6648c37e5d\" />\n     <use style=\"fill:#4575b4;fill-opacity:0.7;stroke:#4575b4;stroke-opacity:0.7;stroke-width:0.3;\" x=\"45.480089\" y=\"16.408577\" xlink:href=\"#m6648c37e5d\" />\n     <use style=\"fill:#4575b4;fill-opacity:0.7;stroke:#4575b4;stroke-opacity:0.7;stroke-width:0.3;\" x=\"39.083916\" y=\"28.025951\" xlink:href=\"#m6648c37e5d\" />\n     <use style=\"fill:#4575b4;fill-opacity:0.7;stroke:#4575b4;stroke-opacity:0.7;stroke-width:0.3;\" x=\"38.962677\" y=\"32.662199\" xlink:href=\"#m6648c37e5d\" />\n     <use style=\"fill:#4575b4;fill-opacity:0.7;stroke:#4575b4;stroke-opacity:0.7;stroke-width:0.3;\" x=\"36.264948\" y=\"31.600138\" xlink:href=\"#m6648c37e5d\" />\n     <use style=\"fill:#4575b4;fill-opacity:0.7;stroke:#4575b4;stroke-opacity:0.7;stroke-width:0.3;\" x=\"43.807869\" y=\"22.157397\" xlink:href=\"#m6648c37e5d\" />\n     <use style=\"fill:#4575b4;fill-opacity:0.7;stroke:#4575b4;stroke-opacity:0.7;stroke-width:0.3;\" x=\"42.641232\" y=\"23.036611\" xlink:href=\"#m6648c37e5d\" />\n     <use style=\"fill:#4575b4;fill-opacity:0.7;stroke:#4575b4;stroke-opacity:0.7;stroke-width:0.3;\" x=\"47.48962\" y=\"27.016378\" xlink:href=\"#m6648c37e5d\" />\n     <use style=\"fill:#4575b4;fill-opacity:0.7;stroke:#4575b4;stroke-opacity:0.7;stroke-width:0.3;\" x=\"34.473541\" y=\"16.633752\" xlink:href=\"#m6648c37e5d\" />\n     <use style=\"fill:#4575b4;fill-opacity:0.7;stroke:#4575b4;stroke-opacity:0.7;stroke-width:0.3;\" x=\"42.453914\" y=\"25.629792\" xlink:href=\"#m6648c37e5d\" />\n     <use style=\"fill:#4575b4;fill-opacity:0.7;stroke:#4575b4;stroke-opacity:0.7;stroke-width:0.3;\" x=\"42.267925\" y=\"31.600138\" xlink:href=\"#m6648c37e5d\" />\n     <use style=\"fill:#4575b4;fill-opacity:0.7;stroke:#4575b4;stroke-opacity:0.7;stroke-width:0.3;\" x=\"41.649566\" y=\"30.301728\" xlink:href=\"#m6648c37e5d\" />\n     <use style=\"fill:#4575b4;fill-opacity:0.7;stroke:#4575b4;stroke-opacity:0.7;stroke-width:0.3;\" x=\"36.605602\" y=\"36.459105\" xlink:href=\"#m6648c37e5d\" />\n     <use style=\"fill:#4575b4;fill-opacity:0.7;stroke:#4575b4;stroke-opacity:0.7;stroke-width:0.3;\" x=\"44.760099\" y=\"18.847752\" xlink:href=\"#m6648c37e5d\" />\n     <use style=\"fill:#4575b4;fill-opacity:0.7;stroke:#4575b4;stroke-opacity:0.7;stroke-width:0.3;\" x=\"38.617117\" y=\"35.519219\" xlink:href=\"#m6648c37e5d\" />\n     <use style=\"fill:#4575b4;fill-opacity:0.7;stroke:#4575b4;stroke-opacity:0.7;stroke-width:0.3;\" x=\"41.300214\" y=\"33.035456\" xlink:href=\"#m6648c37e5d\" />\n     <use style=\"fill:#4575b4;fill-opacity:0.7;stroke:#4575b4;stroke-opacity:0.7;stroke-width:0.3;\" x=\"39.32209\" y=\"26.076492\" xlink:href=\"#m6648c37e5d\" />\n     <use style=\"fill:#4575b4;fill-opacity:0.7;stroke:#4575b4;stroke-opacity:0.7;stroke-width:0.3;\" x=\"39.465849\" y=\"25.197279\" xlink:href=\"#m6648c37e5d\" />\n     <use style=\"fill:#4575b4;fill-opacity:0.7;stroke:#4575b4;stroke-opacity:0.7;stroke-width:0.3;\" x=\"45.530859\" y=\"19.117516\" xlink:href=\"#m6648c37e5d\" />\n     <use style=\"fill:#4575b4;fill-opacity:0.7;stroke:#4575b4;stroke-opacity:0.7;stroke-width:0.3;\" x=\"36.089398\" y=\"17.819106\" xlink:href=\"#m6648c37e5d\" />\n     <use style=\"fill:#4575b4;fill-opacity:0.7;stroke:#4575b4;stroke-opacity:0.7;stroke-width:0.3;\" x=\"39.559644\" y=\"24.778083\" xlink:href=\"#m6648c37e5d\" />\n     <use style=\"fill:#4575b4;fill-opacity:0.7;stroke:#4575b4;stroke-opacity:0.7;stroke-width:0.3;\" x=\"44.162623\" y=\"29.116374\" xlink:href=\"#m6648c37e5d\" />\n     <use style=\"fill:#4575b4;fill-opacity:0.7;stroke:#4575b4;stroke-opacity:0.7;stroke-width:0.3;\" x=\"42.191843\" y=\"23.404814\" xlink:href=\"#m6648c37e5d\" />\n     <use style=\"fill:#4575b4;fill-opacity:0.7;stroke:#4575b4;stroke-opacity:0.7;stroke-width:0.3;\" x=\"40.990737\" y=\"19.117516\" xlink:href=\"#m6648c37e5d\" />\n     <use style=\"fill:#4575b4;fill-opacity:0.7;stroke:#4575b4;stroke-opacity:0.7;stroke-width:0.3;\" x=\"41.703006\" y=\"27.016378\" xlink:href=\"#m6648c37e5d\" />\n     <use style=\"fill:#4575b4;fill-opacity:0.7;stroke:#4575b4;stroke-opacity:0.7;stroke-width:0.3;\" x=\"43.447837\" y=\"27.766451\" xlink:href=\"#m6648c37e5d\" />\n     <use style=\"fill:#4575b4;fill-opacity:0.7;stroke:#4575b4;stroke-opacity:0.7;stroke-width:0.3;\" x=\"41.045367\" y=\"16.187065\" xlink:href=\"#m6648c37e5d\" />\n     <use style=\"fill:#4575b4;fill-opacity:0.7;stroke:#4575b4;stroke-opacity:0.7;stroke-width:0.3;\" x=\"37.832301\" y=\"6.965836\" xlink:href=\"#m6648c37e5d\" />\n     <use style=\"fill:#4575b4;fill-opacity:0.7;stroke:#4575b4;stroke-opacity:0.7;stroke-width:0.3;\" x=\"41.968812\" y=\"15.54333\" xlink:href=\"#m6648c37e5d\" />\n     <use style=\"fill:#4575b4;fill-opacity:0.7;stroke:#4575b4;stroke-opacity:0.7;stroke-width:0.3;\" x=\"40.490653\" y=\"27.261846\" xlink:href=\"#m6648c37e5d\" />\n     <use style=\"fill:#4575b4;fill-opacity:0.7;stroke:#4575b4;stroke-opacity:0.7;stroke-width:0.3;\" x=\"42.907706\" y=\"14.533756\" xlink:href=\"#m6648c37e5d\" />\n     <use style=\"fill:#4575b4;fill-opacity:0.7;stroke:#4575b4;stroke-opacity:0.7;stroke-width:0.3;\" x=\"40.754321\" y=\"23.592728\" xlink:href=\"#m6648c37e5d\" />\n     <use style=\"fill:#4575b4;fill-opacity:0.7;stroke:#4575b4;stroke-opacity:0.7;stroke-width:0.3;\" x=\"41.186599\" y=\"32.662199\" xlink:href=\"#m6648c37e5d\" />\n     <use style=\"fill:#4575b4;fill-opacity:0.7;stroke:#4575b4;stroke-opacity:0.7;stroke-width:0.3;\" x=\"43.205815\" y=\"25.629792\" xlink:href=\"#m6648c37e5d\" />\n     <use style=\"fill:#4575b4;fill-opacity:0.7;stroke:#4575b4;stroke-opacity:0.7;stroke-width:0.3;\" x=\"42.083518\" y=\"10.73685\" xlink:href=\"#m6648c37e5d\" />\n     <use style=\"fill:#4575b4;fill-opacity:0.7;stroke:#4575b4;stroke-opacity:0.7;stroke-width:0.3;\" x=\"41.103039\" y=\"23.592728\" xlink:href=\"#m6648c37e5d\" />\n     <use style=\"fill:#4575b4;fill-opacity:0.7;stroke:#4575b4;stroke-opacity:0.7;stroke-width:0.3;\" x=\"44.577021\" y=\"15.54333\" xlink:href=\"#m6648c37e5d\" />\n     <use style=\"fill:#4575b4;fill-opacity:0.7;stroke:#4575b4;stroke-opacity:0.7;stroke-width:0.3;\" x=\"47.351344\" y=\"32.120814\" xlink:href=\"#m6648c37e5d\" />\n     <use style=\"fill:#4575b4;fill-opacity:0.7;stroke:#4575b4;stroke-opacity:0.7;stroke-width:0.3;\" x=\"41.531409\" y=\"30.935459\" xlink:href=\"#m6648c37e5d\" />\n     <use style=\"fill:#4575b4;fill-opacity:0.7;stroke:#4575b4;stroke-opacity:0.7;stroke-width:0.3;\" x=\"38.610534\" y=\"31.430905\" xlink:href=\"#m6648c37e5d\" />\n     <use style=\"fill:#4575b4;fill-opacity:0.7;stroke:#4575b4;stroke-opacity:0.7;stroke-width:0.3;\" x=\"41.546735\" y=\"23.404814\" xlink:href=\"#m6648c37e5d\" />\n     <use style=\"fill:#4575b4;fill-opacity:0.7;stroke:#4575b4;stroke-opacity:0.7;stroke-width:0.3;\" x=\"41.815819\" y=\"16.862721\" xlink:href=\"#m6648c37e5d\" />\n     <use style=\"fill:#4575b4;fill-opacity:0.7;stroke:#4575b4;stroke-opacity:0.7;stroke-width:0.3;\" x=\"40.351405\" y=\"39.744455\" xlink:href=\"#m6648c37e5d\" />\n     <use style=\"fill:#4575b4;fill-opacity:0.7;stroke:#4575b4;stroke-opacity:0.7;stroke-width:0.3;\" x=\"39.639691\" y=\"28.025951\" xlink:href=\"#m6648c37e5d\" />\n     <use style=\"fill:#4575b4;fill-opacity:0.7;stroke:#4575b4;stroke-opacity:0.7;stroke-width:0.3;\" x=\"43.334907\" y=\"27.261846\" xlink:href=\"#m6648c37e5d\" />\n     <use style=\"fill:#4575b4;fill-opacity:0.7;stroke:#4575b4;stroke-opacity:0.7;stroke-width:0.3;\" x=\"42.500784\" y=\"20.552847\" xlink:href=\"#m6648c37e5d\" />\n     <use style=\"fill:#4575b4;fill-opacity:0.7;stroke:#4575b4;stroke-opacity:0.7;stroke-width:0.3;\" x=\"49.625699\" y=\"16.408577\" xlink:href=\"#m6648c37e5d\" />\n     <use style=\"fill:#4575b4;fill-opacity:0.7;stroke:#4575b4;stroke-opacity:0.7;stroke-width:0.3;\" x=\"43.963335\" y=\"11.493874\" xlink:href=\"#m6648c37e5d\" />\n     <use style=\"fill:#4575b4;fill-opacity:0.7;stroke:#4575b4;stroke-opacity:0.7;stroke-width:0.3;\" x=\"41.985301\" y=\"14.055719\" xlink:href=\"#m6648c37e5d\" />\n     <use style=\"fill:#4575b4;fill-opacity:0.7;stroke:#4575b4;stroke-opacity:0.7;stroke-width:0.3;\" x=\"37.255071\" y=\"28.560256\" xlink:href=\"#m6648c37e5d\" />\n     <use style=\"fill:#4575b4;fill-opacity:0.7;stroke:#4575b4;stroke-opacity:0.7;stroke-width:0.3;\" x=\"43.832902\" y=\"14.533756\" xlink:href=\"#m6648c37e5d\" />\n     <use style=\"fill:#4575b4;fill-opacity:0.7;stroke:#4575b4;stroke-opacity:0.7;stroke-width:0.3;\" x=\"43.031743\" y=\"30.301728\" xlink:href=\"#m6648c37e5d\" />\n     <use style=\"fill:#4575b4;fill-opacity:0.7;stroke:#4575b4;stroke-opacity:0.7;stroke-width:0.3;\" x=\"39.943948\" y=\"18.069083\" xlink:href=\"#m6648c37e5d\" />\n     <use style=\"fill:#4575b4;fill-opacity:0.7;stroke:#4575b4;stroke-opacity:0.7;stroke-width:0.3;\" x=\"39.130143\" y=\"30.935459\" xlink:href=\"#m6648c37e5d\" />\n     <use style=\"fill:#4575b4;fill-opacity:0.7;stroke:#4575b4;stroke-opacity:0.7;stroke-width:0.3;\" x=\"43.703755\" y=\"16.747756\" xlink:href=\"#m6648c37e5d\" />\n     <use style=\"fill:#4575b4;fill-opacity:0.7;stroke:#4575b4;stroke-opacity:0.7;stroke-width:0.3;\" x=\"36.487563\" y=\"16.077634\" xlink:href=\"#m6648c37e5d\" />\n     <use style=\"fill:#4575b4;fill-opacity:0.7;stroke:#4575b4;stroke-opacity:0.7;stroke-width:0.3;\" x=\"42.763398\" y=\"41.741634\" xlink:href=\"#m6648c37e5d\" />\n     <use style=\"fill:#4575b4;fill-opacity:0.7;stroke:#4575b4;stroke-opacity:0.7;stroke-width:0.3;\" x=\"42.3108\" y=\"12.049992\" xlink:href=\"#m6648c37e5d\" />\n     <use style=\"fill:#4575b4;fill-opacity:0.7;stroke:#4575b4;stroke-opacity:0.7;stroke-width:0.3;\" x=\"42.771004\" y=\"24.371397\" xlink:href=\"#m6648c37e5d\" />\n     <use style=\"fill:#4575b4;fill-opacity:0.7;stroke:#4575b4;stroke-opacity:0.7;stroke-width:0.3;\" x=\"40.027691\" y=\"35.072532\" xlink:href=\"#m6648c37e5d\" />\n     <use style=\"fill:#4575b4;fill-opacity:0.7;stroke:#4575b4;stroke-opacity:0.7;stroke-width:0.3;\" x=\"42.764287\" y=\"23.976496\" xlink:href=\"#m6648c37e5d\" />\n     <use style=\"fill:#4575b4;fill-opacity:0.7;stroke:#4575b4;stroke-opacity:0.7;stroke-width:0.3;\" x=\"41.766201\" y=\"17.095601\" xlink:href=\"#m6648c37e5d\" />\n     <use style=\"fill:#4575b4;fill-opacity:0.7;stroke:#4575b4;stroke-opacity:0.7;stroke-width:0.3;\" x=\"41.70473\" y=\"29.116374\" xlink:href=\"#m6648c37e5d\" />\n     <use style=\"fill:#4575b4;fill-opacity:0.7;stroke:#4575b4;stroke-opacity:0.7;stroke-width:0.3;\" x=\"45.350336\" y=\"32.298906\" xlink:href=\"#m6648c37e5d\" />\n     <use style=\"fill:#4575b4;fill-opacity:0.7;stroke:#4575b4;stroke-opacity:0.7;stroke-width:0.3;\" x=\"36.141788\" y=\"26.538328\" xlink:href=\"#m6648c37e5d\" />\n     <use style=\"fill:#4575b4;fill-opacity:0.7;stroke:#4575b4;stroke-opacity:0.7;stroke-width:0.3;\" x=\"38.67205\" y=\"22.157397\" xlink:href=\"#m6648c37e5d\" />\n     <use style=\"fill:#4575b4;fill-opacity:0.7;stroke:#4575b4;stroke-opacity:0.7;stroke-width:0.3;\" x=\"43.124352\" y=\"19.673634\" xlink:href=\"#m6648c37e5d\" />\n     <use style=\"fill:#4575b4;fill-opacity:0.7;stroke:#4575b4;stroke-opacity:0.7;stroke-width:0.3;\" x=\"34.656351\" y=\"22.502306\" xlink:href=\"#m6648c37e5d\" />\n     <use style=\"fill:#4575b4;fill-opacity:0.7;stroke:#4575b4;stroke-opacity:0.7;stroke-width:0.3;\" x=\"42.168311\" y=\"10.959583\" xlink:href=\"#m6648c37e5d\" />\n     <use style=\"fill:#4575b4;fill-opacity:0.7;stroke:#4575b4;stroke-opacity:0.7;stroke-width:0.3;\" x=\"39.099255\" y=\"25.197279\" xlink:href=\"#m6648c37e5d\" />\n     <use style=\"fill:#4575b4;fill-opacity:0.7;stroke:#4575b4;stroke-opacity:0.7;stroke-width:0.3;\" x=\"43.671639\" y=\"24.778083\" xlink:href=\"#m6648c37e5d\" />\n     <use style=\"fill:#4575b4;fill-opacity:0.7;stroke:#4575b4;stroke-opacity:0.7;stroke-width:0.3;\" x=\"36.336902\" y=\"29.995574\" xlink:href=\"#m6648c37e5d\" />\n     <use style=\"fill:#4575b4;fill-opacity:0.7;stroke:#4575b4;stroke-opacity:0.7;stroke-width:0.3;\" x=\"42.663228\" y=\"19.816285\" xlink:href=\"#m6648c37e5d\" />\n     <use style=\"fill:#4575b4;fill-opacity:0.7;stroke:#4575b4;stroke-opacity:0.7;stroke-width:0.3;\" x=\"39.874412\" y=\"23.036611\" xlink:href=\"#m6648c37e5d\" />\n     <use style=\"fill:#4575b4;fill-opacity:0.7;stroke:#4575b4;stroke-opacity:0.7;stroke-width:0.3;\" x=\"41.548911\" y=\"30.301728\" xlink:href=\"#m6648c37e5d\" />\n     <use style=\"fill:#4575b4;fill-opacity:0.7;stroke:#4575b4;stroke-opacity:0.7;stroke-width:0.3;\" x=\"42.789433\" y=\"28.290479\" xlink:href=\"#m6648c37e5d\" />\n     <use style=\"fill:#4575b4;fill-opacity:0.7;stroke:#4575b4;stroke-opacity:0.7;stroke-width:0.3;\" x=\"43.709001\" y=\"32.662199\" xlink:href=\"#m6648c37e5d\" />\n     <use style=\"fill:#4575b4;fill-opacity:0.7;stroke:#4575b4;stroke-opacity:0.7;stroke-width:0.3;\" x=\"41.467414\" y=\"28.835476\" xlink:href=\"#m6648c37e5d\" />\n     <use style=\"fill:#4575b4;fill-opacity:0.7;stroke:#4575b4;stroke-opacity:0.7;stroke-width:0.3;\" x=\"37.509537\" y=\"26.538328\" xlink:href=\"#m6648c37e5d\" />\n     <use style=\"fill:#4575b4;fill-opacity:0.7;stroke:#4575b4;stroke-opacity:0.7;stroke-width:0.3;\" x=\"43.894615\" y=\"19.117516\" xlink:href=\"#m6648c37e5d\" />\n     <use style=\"fill:#4575b4;fill-opacity:0.7;stroke:#4575b4;stroke-opacity:0.7;stroke-width:0.3;\" x=\"42.566584\" y=\"28.560256\" xlink:href=\"#m6648c37e5d\" />\n     <use style=\"fill:#4575b4;fill-opacity:0.7;stroke:#4575b4;stroke-opacity:0.7;stroke-width:0.3;\" x=\"38.360357\" y=\"26.538328\" xlink:href=\"#m6648c37e5d\" />\n     <use style=\"fill:#4575b4;fill-opacity:0.7;stroke:#4575b4;stroke-opacity:0.7;stroke-width:0.3;\" x=\"43.103675\" y=\"17.819106\" xlink:href=\"#m6648c37e5d\" />\n     <use style=\"fill:#4575b4;fill-opacity:0.7;stroke:#4575b4;stroke-opacity:0.7;stroke-width:0.3;\" x=\"41.431258\" y=\"32.298906\" xlink:href=\"#m6648c37e5d\" />\n     <use style=\"fill:#4575b4;fill-opacity:0.7;stroke:#4575b4;stroke-opacity:0.7;stroke-width:0.3;\" x=\"42.494907\" y=\"17.095601\" xlink:href=\"#m6648c37e5d\" />\n     <use style=\"fill:#4575b4;fill-opacity:0.7;stroke:#4575b4;stroke-opacity:0.7;stroke-width:0.3;\" x=\"48.698351\" y=\"13.147183\" xlink:href=\"#m6648c37e5d\" />\n     <use style=\"fill:#4575b4;fill-opacity:0.7;stroke:#4575b4;stroke-opacity:0.7;stroke-width:0.3;\" x=\"36.010987\" y=\"32.298906\" xlink:href=\"#m6648c37e5d\" />\n     <use style=\"fill:#4575b4;fill-opacity:0.7;stroke:#4575b4;stroke-opacity:0.7;stroke-width:0.3;\" x=\"39.55264\" y=\"33.035456\" xlink:href=\"#m6648c37e5d\" />\n     <use style=\"fill:#4575b4;fill-opacity:0.7;stroke:#4575b4;stroke-opacity:0.7;stroke-width:0.3;\" x=\"36.271992\" y=\"32.662199\" xlink:href=\"#m6648c37e5d\" />\n     <use style=\"fill:#4575b4;fill-opacity:0.7;stroke:#4575b4;stroke-opacity:0.7;stroke-width:0.3;\" x=\"42.943198\" y=\"34.640019\" xlink:href=\"#m6648c37e5d\" />\n     <use style=\"fill:#4575b4;fill-opacity:0.7;stroke:#4575b4;stroke-opacity:0.7;stroke-width:0.3;\" x=\"41.360985\" y=\"34.22081\" xlink:href=\"#m6648c37e5d\" />\n     <use style=\"fill:#4575b4;fill-opacity:0.7;stroke:#4575b4;stroke-opacity:0.7;stroke-width:0.3;\" x=\"39.277182\" y=\"28.560256\" xlink:href=\"#m6648c37e5d\" />\n     <use style=\"fill:#4575b4;fill-opacity:0.7;stroke:#4575b4;stroke-opacity:0.7;stroke-width:0.3;\" x=\"45.109356\" y=\"38.559101\" xlink:href=\"#m6648c37e5d\" />\n     <use style=\"fill:#4575b4;fill-opacity:0.7;stroke:#4575b4;stroke-opacity:0.7;stroke-width:0.3;\" x=\"41.864453\" y=\"11.729443\" xlink:href=\"#m6648c37e5d\" />\n     <use style=\"fill:#4575b4;fill-opacity:0.7;stroke:#4575b4;stroke-opacity:0.7;stroke-width:0.3;\" x=\"37.269418\" y=\"29.696163\" xlink:href=\"#m6648c37e5d\" />\n     <use style=\"fill:#4575b4;fill-opacity:0.7;stroke:#4575b4;stroke-opacity:0.7;stroke-width:0.3;\" x=\"48.169883\" y=\"27.51181\" xlink:href=\"#m6648c37e5d\" />\n     <use style=\"fill:#4575b4;fill-opacity:0.7;stroke:#4575b4;stroke-opacity:0.7;stroke-width:0.3;\" x=\"48.510901\" y=\"9.674788\" xlink:href=\"#m6648c37e5d\" />\n     <use style=\"fill:#4575b4;fill-opacity:0.7;stroke:#4575b4;stroke-opacity:0.7;stroke-width:0.3;\" x=\"37.76965\" y=\"11.571955\" xlink:href=\"#m6648c37e5d\" />\n     <use style=\"fill:#4575b4;fill-opacity:0.7;stroke:#4575b4;stroke-opacity:0.7;stroke-width:0.3;\" x=\"39.297634\" y=\"36.459105\" xlink:href=\"#m6648c37e5d\" />\n     <use style=\"fill:#4575b4;fill-opacity:0.7;stroke:#4575b4;stroke-opacity:0.7;stroke-width:0.3;\" x=\"34.09482\" y=\"16.862721\" xlink:href=\"#m6648c37e5d\" />\n     <use style=\"fill:#4575b4;fill-opacity:0.7;stroke:#4575b4;stroke-opacity:0.7;stroke-width:0.3;\" x=\"45.516927\" y=\"25.197279\" xlink:href=\"#m6648c37e5d\" />\n     <use style=\"fill:#4575b4;fill-opacity:0.7;stroke:#4575b4;stroke-opacity:0.7;stroke-width:0.3;\" x=\"42.970706\" y=\"25.629792\" xlink:href=\"#m6648c37e5d\" />\n     <use style=\"fill:#4575b4;fill-opacity:0.7;stroke:#4575b4;stroke-opacity:0.7;stroke-width:0.3;\" x=\"40.477986\" y=\"25.851304\" xlink:href=\"#m6648c37e5d\" />\n     <use style=\"fill:#4575b4;fill-opacity:0.7;stroke:#4575b4;stroke-opacity:0.7;stroke-width:0.3;\" x=\"40.872097\" y=\"28.025951\" xlink:href=\"#m6648c37e5d\" />\n     <use style=\"fill:#4575b4;fill-opacity:0.7;stroke:#4575b4;stroke-opacity:0.7;stroke-width:0.3;\" x=\"45.439505\" y=\"29.403183\" xlink:href=\"#m6648c37e5d\" />\n     <use style=\"fill:#4575b4;fill-opacity:0.7;stroke:#4575b4;stroke-opacity:0.7;stroke-width:0.3;\" x=\"45.31808\" y=\"28.025951\" xlink:href=\"#m6648c37e5d\" />\n     <use style=\"fill:#4575b4;fill-opacity:0.7;stroke:#4575b4;stroke-opacity:0.7;stroke-width:0.3;\" x=\"42.004673\" y=\"20.552847\" xlink:href=\"#m6648c37e5d\" />\n     <use style=\"fill:#4575b4;fill-opacity:0.7;stroke:#4575b4;stroke-opacity:0.7;stroke-width:0.3;\" x=\"41.166678\" y=\"26.076492\" xlink:href=\"#m6648c37e5d\" />\n     <use style=\"fill:#4575b4;fill-opacity:0.7;stroke:#4575b4;stroke-opacity:0.7;stroke-width:0.3;\" x=\"37.631435\" y=\"26.076492\" xlink:href=\"#m6648c37e5d\" />\n     <use style=\"fill:#4575b4;fill-opacity:0.7;stroke:#4575b4;stroke-opacity:0.7;stroke-width:0.3;\" x=\"44.052701\" y=\"28.560256\" xlink:href=\"#m6648c37e5d\" />\n     <use style=\"fill:#4575b4;fill-opacity:0.7;stroke:#4575b4;stroke-opacity:0.7;stroke-width:0.3;\" x=\"31.954243\" y=\"34.640019\" xlink:href=\"#m6648c37e5d\" />\n     <use style=\"fill:#4575b4;fill-opacity:0.7;stroke:#4575b4;stroke-opacity:0.7;stroke-width:0.3;\" x=\"37.589348\" y=\"24.371397\" xlink:href=\"#m6648c37e5d\" />\n     <use style=\"fill:#4575b4;fill-opacity:0.7;stroke:#4575b4;stroke-opacity:0.7;stroke-width:0.3;\" x=\"44.100514\" y=\"26.538328\" xlink:href=\"#m6648c37e5d\" />\n     <use style=\"fill:#4575b4;fill-opacity:0.7;stroke:#4575b4;stroke-opacity:0.7;stroke-width:0.3;\" x=\"46.205437\" y=\"17.819106\" xlink:href=\"#m6648c37e5d\" />\n     <use style=\"fill:#4575b4;fill-opacity:0.7;stroke:#4575b4;stroke-opacity:0.7;stroke-width:0.3;\" x=\"44.152811\" y=\"31.600138\" xlink:href=\"#m6648c37e5d\" />\n     <use style=\"fill:#4575b4;fill-opacity:0.7;stroke:#4575b4;stroke-opacity:0.7;stroke-width:0.3;\" x=\"40.386666\" y=\"20.858988\" xlink:href=\"#m6648c37e5d\" />\n     <use style=\"fill:#4575b4;fill-opacity:0.7;stroke:#4575b4;stroke-opacity:0.7;stroke-width:0.3;\" x=\"40.616187\" y=\"23.219471\" xlink:href=\"#m6648c37e5d\" />\n     <use style=\"fill:#4575b4;fill-opacity:0.7;stroke:#4575b4;stroke-opacity:0.7;stroke-width:0.3;\" x=\"39.408897\" y=\"22.157397\" xlink:href=\"#m6648c37e5d\" />\n     <use style=\"fill:#4575b4;fill-opacity:0.7;stroke:#4575b4;stroke-opacity:0.7;stroke-width:0.3;\" x=\"40.649027\" y=\"30.614911\" xlink:href=\"#m6648c37e5d\" />\n     <use style=\"fill:#4575b4;fill-opacity:0.7;stroke:#4575b4;stroke-opacity:0.7;stroke-width:0.3;\" x=\"43.839718\" y=\"14.928657\" xlink:href=\"#m6648c37e5d\" />\n     <use style=\"fill:#4575b4;fill-opacity:0.7;stroke:#4575b4;stroke-opacity:0.7;stroke-width:0.3;\" x=\"44.503841\" y=\"15.029201\" xlink:href=\"#m6648c37e5d\" />\n     <use style=\"fill:#4575b4;fill-opacity:0.7;stroke:#4575b4;stroke-opacity:0.7;stroke-width:0.3;\" x=\"43.007491\" y=\"35.981068\" xlink:href=\"#m6648c37e5d\" />\n     <use style=\"fill:#4575b4;fill-opacity:0.7;stroke:#4575b4;stroke-opacity:0.7;stroke-width:0.3;\" x=\"38.767723\" y=\"25.197279\" xlink:href=\"#m6648c37e5d\" />\n     <use style=\"fill:#4575b4;fill-opacity:0.7;stroke:#4575b4;stroke-opacity:0.7;stroke-width:0.3;\" x=\"41.410056\" y=\"11.110107\" xlink:href=\"#m6648c37e5d\" />\n     <use style=\"fill:#4575b4;fill-opacity:0.7;stroke:#4575b4;stroke-opacity:0.7;stroke-width:0.3;\" x=\"37.622643\" y=\"13.59387\" xlink:href=\"#m6648c37e5d\" />\n     <use style=\"fill:#4575b4;fill-opacity:0.7;stroke:#4575b4;stroke-opacity:0.7;stroke-width:0.3;\" x=\"41.379155\" y=\"25.197279\" xlink:href=\"#m6648c37e5d\" />\n     <use style=\"fill:#4575b4;fill-opacity:0.7;stroke:#4575b4;stroke-opacity:0.7;stroke-width:0.3;\" x=\"37.525277\" y=\"21.331516\" xlink:href=\"#m6648c37e5d\" />\n     <use style=\"fill:#4575b4;fill-opacity:0.7;stroke:#4575b4;stroke-opacity:0.7;stroke-width:0.3;\" x=\"40.751091\" y=\"16.633752\" xlink:href=\"#m6648c37e5d\" />\n     <use style=\"fill:#4575b4;fill-opacity:0.7;stroke:#4575b4;stroke-opacity:0.7;stroke-width:0.3;\" x=\"38.639329\" y=\"14.533756\" xlink:href=\"#m6648c37e5d\" />\n     <use style=\"fill:#4575b4;fill-opacity:0.7;stroke:#4575b4;stroke-opacity:0.7;stroke-width:0.3;\" x=\"36.688778\" y=\"34.22081\" xlink:href=\"#m6648c37e5d\" />\n     <use style=\"fill:#4575b4;fill-opacity:0.7;stroke:#4575b4;stroke-opacity:0.7;stroke-width:0.3;\" x=\"41.823284\" y=\"20.552847\" xlink:href=\"#m6648c37e5d\" />\n     <use style=\"fill:#4575b4;fill-opacity:0.7;stroke:#4575b4;stroke-opacity:0.7;stroke-width:0.3;\" x=\"42.51762\" y=\"31.600138\" xlink:href=\"#m6648c37e5d\" />\n     <use style=\"fill:#4575b4;fill-opacity:0.7;stroke:#4575b4;stroke-opacity:0.7;stroke-width:0.3;\" x=\"39.959981\" y=\"20.552847\" xlink:href=\"#m6648c37e5d\" />\n     <use style=\"fill:#4575b4;fill-opacity:0.7;stroke:#4575b4;stroke-opacity:0.7;stroke-width:0.3;\" x=\"41.183564\" y=\"8.626343\" xlink:href=\"#m6648c37e5d\" />\n     <use style=\"fill:#4575b4;fill-opacity:0.7;stroke:#4575b4;stroke-opacity:0.7;stroke-width:0.3;\" x=\"36.966554\" y=\"37.468679\" xlink:href=\"#m6648c37e5d\" />\n     <use style=\"fill:#4575b4;fill-opacity:0.7;stroke:#4575b4;stroke-opacity:0.7;stroke-width:0.3;\" x=\"43.316785\" y=\"25.197279\" xlink:href=\"#m6648c37e5d\" />\n     <use style=\"fill:#4575b4;fill-opacity:0.7;stroke:#4575b4;stroke-opacity:0.7;stroke-width:0.3;\" x=\"41.110077\" y=\"26.076492\" xlink:href=\"#m6648c37e5d\" />\n     <use style=\"fill:#4575b4;fill-opacity:0.7;stroke:#4575b4;stroke-opacity:0.7;stroke-width:0.3;\" x=\"45.030533\" y=\"31.600138\" xlink:href=\"#m6648c37e5d\" />\n     <use style=\"fill:#4575b4;fill-opacity:0.7;stroke:#4575b4;stroke-opacity:0.7;stroke-width:0.3;\" x=\"40.743091\" y=\"29.995574\" xlink:href=\"#m6648c37e5d\" />\n     <use style=\"fill:#4575b4;fill-opacity:0.7;stroke:#4575b4;stroke-opacity:0.7;stroke-width:0.3;\" x=\"40.689337\" y=\"19.117516\" xlink:href=\"#m6648c37e5d\" />\n     <use style=\"fill:#4575b4;fill-opacity:0.7;stroke:#4575b4;stroke-opacity:0.7;stroke-width:0.3;\" x=\"37.446444\" y=\"36.459105\" xlink:href=\"#m6648c37e5d\" />\n     <use style=\"fill:#4575b4;fill-opacity:0.7;stroke:#4575b4;stroke-opacity:0.7;stroke-width:0.3;\" x=\"37.021447\" y=\"9.674788\" xlink:href=\"#m6648c37e5d\" />\n     <use style=\"fill:#4575b4;fill-opacity:0.7;stroke:#4575b4;stroke-opacity:0.7;stroke-width:0.3;\" x=\"39.687977\" y=\"42.478196\" xlink:href=\"#m6648c37e5d\" />\n     <use style=\"fill:#4575b4;fill-opacity:0.7;stroke:#4575b4;stroke-opacity:0.7;stroke-width:0.3;\" x=\"47.786726\" y=\"32.662199\" xlink:href=\"#m6648c37e5d\" />\n     <use style=\"fill:#4575b4;fill-opacity:0.7;stroke:#4575b4;stroke-opacity:0.7;stroke-width:0.3;\" x=\"42.628169\" y=\"23.976496\" xlink:href=\"#m6648c37e5d\" />\n     <use style=\"fill:#4575b4;fill-opacity:0.7;stroke:#4575b4;stroke-opacity:0.7;stroke-width:0.3;\" x=\"39.926074\" y=\"21.331516\" xlink:href=\"#m6648c37e5d\" />\n     <use style=\"fill:#4575b4;fill-opacity:0.7;stroke:#4575b4;stroke-opacity:0.7;stroke-width:0.3;\" x=\"37.115621\" y=\"23.219471\" xlink:href=\"#m6648c37e5d\" />\n     <use style=\"fill:#4575b4;fill-opacity:0.7;stroke:#4575b4;stroke-opacity:0.7;stroke-width:0.3;\" x=\"39.342435\" y=\"31.600138\" xlink:href=\"#m6648c37e5d\" />\n     <use style=\"fill:#4575b4;fill-opacity:0.7;stroke:#4575b4;stroke-opacity:0.7;stroke-width:0.3;\" x=\"44.0366\" y=\"18.323724\" xlink:href=\"#m6648c37e5d\" />\n     <use style=\"fill:#4575b4;fill-opacity:0.7;stroke:#4575b4;stroke-opacity:0.7;stroke-width:0.3;\" x=\"36.567411\" y=\"27.261846\" xlink:href=\"#m6648c37e5d\" />\n     <use style=\"fill:#4575b4;fill-opacity:0.7;stroke:#4575b4;stroke-opacity:0.7;stroke-width:0.3;\" x=\"41.204235\" y=\"29.403183\" xlink:href=\"#m6648c37e5d\" />\n     <use style=\"fill:#4575b4;fill-opacity:0.7;stroke:#4575b4;stroke-opacity:0.7;stroke-width:0.3;\" x=\"44.773214\" y=\"30.301728\" xlink:href=\"#m6648c37e5d\" />\n     <use style=\"fill:#4575b4;fill-opacity:0.7;stroke:#4575b4;stroke-opacity:0.7;stroke-width:0.3;\" x=\"45.615571\" y=\"17.332521\" xlink:href=\"#m6648c37e5d\" />\n     <use style=\"fill:#4575b4;fill-opacity:0.7;stroke:#4575b4;stroke-opacity:0.7;stroke-width:0.3;\" x=\"43.048643\" y=\"23.976496\" xlink:href=\"#m6648c37e5d\" />\n     <use style=\"fill:#4575b4;fill-opacity:0.7;stroke:#4575b4;stroke-opacity:0.7;stroke-width:0.3;\" x=\"42.675102\" y=\"28.560256\" xlink:href=\"#m6648c37e5d\" />\n     <use style=\"fill:#4575b4;fill-opacity:0.7;stroke:#4575b4;stroke-opacity:0.7;stroke-width:0.3;\" x=\"36.573423\" y=\"20.253423\" xlink:href=\"#m6648c37e5d\" />\n     <use style=\"fill:#4575b4;fill-opacity:0.7;stroke:#4575b4;stroke-opacity:0.7;stroke-width:0.3;\" x=\"44.199379\" y=\"26.076492\" xlink:href=\"#m6648c37e5d\" />\n     <use style=\"fill:#4575b4;fill-opacity:0.7;stroke:#4575b4;stroke-opacity:0.7;stroke-width:0.3;\" x=\"42.093183\" y=\"25.411814\" xlink:href=\"#m6648c37e5d\" />\n     <use style=\"fill:#4575b4;fill-opacity:0.7;stroke:#4575b4;stroke-opacity:0.7;stroke-width:0.3;\" x=\"44.581464\" y=\"31.945033\" xlink:href=\"#m6648c37e5d\" />\n     <use style=\"fill:#4575b4;fill-opacity:0.7;stroke:#4575b4;stroke-opacity:0.7;stroke-width:0.3;\" x=\"42.594223\" y=\"17.213541\" xlink:href=\"#m6648c37e5d\" />\n     <use style=\"fill:#4575b4;fill-opacity:0.7;stroke:#4575b4;stroke-opacity:0.7;stroke-width:0.3;\" x=\"45.079615\" y=\"33.035456\" xlink:href=\"#m6648c37e5d\" />\n     <use style=\"fill:#4575b4;fill-opacity:0.7;stroke:#4575b4;stroke-opacity:0.7;stroke-width:0.3;\" x=\"40.37564\" y=\"18.847752\" xlink:href=\"#m6648c37e5d\" />\n     <use style=\"fill:#4575b4;fill-opacity:0.7;stroke:#4575b4;stroke-opacity:0.7;stroke-width:0.3;\" x=\"45.131955\" y=\"16.908972\" xlink:href=\"#m6648c37e5d\" />\n     <use style=\"fill:#4575b4;fill-opacity:0.7;stroke:#4575b4;stroke-opacity:0.7;stroke-width:0.3;\" x=\"37.137233\" y=\"12.71467\" xlink:href=\"#m6648c37e5d\" />\n     <use style=\"fill:#4575b4;fill-opacity:0.7;stroke:#4575b4;stroke-opacity:0.7;stroke-width:0.3;\" x=\"33.069783\" y=\"23.036611\" xlink:href=\"#m6648c37e5d\" />\n     <use style=\"fill:#4575b4;fill-opacity:0.7;stroke:#4575b4;stroke-opacity:0.7;stroke-width:0.3;\" x=\"37.74747\" y=\"24.98607\" xlink:href=\"#m6648c37e5d\" />\n     <use style=\"fill:#4575b4;fill-opacity:0.7;stroke:#4575b4;stroke-opacity:0.7;stroke-width:0.3;\" x=\"37.833935\" y=\"20.253423\" xlink:href=\"#m6648c37e5d\" />\n     <use style=\"fill:#4575b4;fill-opacity:0.7;stroke:#4575b4;stroke-opacity:0.7;stroke-width:0.3;\" x=\"40.538197\" y=\"34.640019\" xlink:href=\"#m6648c37e5d\" />\n     <use style=\"fill:#4575b4;fill-opacity:0.7;stroke:#4575b4;stroke-opacity:0.7;stroke-width:0.3;\" x=\"37.794825\" y=\"33.814125\" xlink:href=\"#m6648c37e5d\" />\n     <use style=\"fill:#4575b4;fill-opacity:0.7;stroke:#4575b4;stroke-opacity:0.7;stroke-width:0.3;\" x=\"37.981013\" y=\"33.814125\" xlink:href=\"#m6648c37e5d\" />\n     <use style=\"fill:#4575b4;fill-opacity:0.7;stroke:#4575b4;stroke-opacity:0.7;stroke-width:0.3;\" x=\"48.916324\" y=\"29.116374\" xlink:href=\"#m6648c37e5d\" />\n     <use style=\"fill:#4575b4;fill-opacity:0.7;stroke:#4575b4;stroke-opacity:0.7;stroke-width:0.3;\" x=\"37.46369\" y=\"9.338402\" xlink:href=\"#m6648c37e5d\" />\n     <use style=\"fill:#4575b4;fill-opacity:0.7;stroke:#4575b4;stroke-opacity:0.7;stroke-width:0.3;\" x=\"41.118874\" y=\"11.888776\" xlink:href=\"#m6648c37e5d\" />\n     <use style=\"fill:#4575b4;fill-opacity:0.7;stroke:#4575b4;stroke-opacity:0.7;stroke-width:0.3;\" x=\"39.175823\" y=\"23.592728\" xlink:href=\"#m6648c37e5d\" />\n     <use style=\"fill:#4575b4;fill-opacity:0.7;stroke:#4575b4;stroke-opacity:0.7;stroke-width:0.3;\" x=\"46.352252\" y=\"30.301728\" xlink:href=\"#m6648c37e5d\" />\n     <use style=\"fill:#4575b4;fill-opacity:0.7;stroke:#4575b4;stroke-opacity:0.7;stroke-width:0.3;\" x=\"50.331079\" y=\"23.976496\" xlink:href=\"#m6648c37e5d\" />\n     <use style=\"fill:#4575b4;fill-opacity:0.7;stroke:#4575b4;stroke-opacity:0.7;stroke-width:0.3;\" x=\"38.994954\" y=\"28.025951\" xlink:href=\"#m6648c37e5d\" />\n     <use style=\"fill:#4575b4;fill-opacity:0.7;stroke:#4575b4;stroke-opacity:0.7;stroke-width:0.3;\" x=\"45.199582\" y=\"27.51181\" xlink:href=\"#m6648c37e5d\" />\n     <use style=\"fill:#4575b4;fill-opacity:0.7;stroke:#4575b4;stroke-opacity:0.7;stroke-width:0.3;\" x=\"39.402002\" y=\"17.213541\" xlink:href=\"#m6648c37e5d\" />\n     <use style=\"fill:#4575b4;fill-opacity:0.7;stroke:#4575b4;stroke-opacity:0.7;stroke-width:0.3;\" x=\"43.061201\" y=\"23.592728\" xlink:href=\"#m6648c37e5d\" />\n     <use style=\"fill:#4575b4;fill-opacity:0.7;stroke:#4575b4;stroke-opacity:0.7;stroke-width:0.3;\" x=\"41.968772\" y=\"21.17217\" xlink:href=\"#m6648c37e5d\" />\n     <use style=\"fill:#4575b4;fill-opacity:0.7;stroke:#4575b4;stroke-opacity:0.7;stroke-width:0.3;\" x=\"35.6551\" y=\"26.076492\" xlink:href=\"#m6648c37e5d\" />\n     <use style=\"fill:#4575b4;fill-opacity:0.7;stroke:#4575b4;stroke-opacity:0.7;stroke-width:0.3;\" x=\"37.493951\" y=\"20.552847\" xlink:href=\"#m6648c37e5d\" />\n     <use style=\"fill:#4575b4;fill-opacity:0.7;stroke:#4575b4;stroke-opacity:0.7;stroke-width:0.3;\" x=\"42.712284\" y=\"19.117516\" xlink:href=\"#m6648c37e5d\" />\n     <use style=\"fill:#4575b4;fill-opacity:0.7;stroke:#4575b4;stroke-opacity:0.7;stroke-width:0.3;\" x=\"42.342933\" y=\"30.935459\" xlink:href=\"#m6648c37e5d\" />\n     <use style=\"fill:#4575b4;fill-opacity:0.7;stroke:#4575b4;stroke-opacity:0.7;stroke-width:0.3;\" x=\"42.868747\" y=\"14.631416\" xlink:href=\"#m6648c37e5d\" />\n     <use style=\"fill:#4575b4;fill-opacity:0.7;stroke:#4575b4;stroke-opacity:0.7;stroke-width:0.3;\" x=\"47.375615\" y=\"8.376379\" xlink:href=\"#m6648c37e5d\" />\n     <use style=\"fill:#4575b4;fill-opacity:0.7;stroke:#4575b4;stroke-opacity:0.7;stroke-width:0.3;\" x=\"41.364811\" y=\"33.814125\" xlink:href=\"#m6648c37e5d\" />\n     <use style=\"fill:#4575b4;fill-opacity:0.7;stroke:#4575b4;stroke-opacity:0.7;stroke-width:0.3;\" x=\"42.295485\" y=\"16.187065\" xlink:href=\"#m6648c37e5d\" />\n     <use style=\"fill:#4575b4;fill-opacity:0.7;stroke:#4575b4;stroke-opacity:0.7;stroke-width:0.3;\" x=\"42.811895\" y=\"12.71467\" xlink:href=\"#m6648c37e5d\" />\n     <use style=\"fill:#4575b4;fill-opacity:0.7;stroke:#4575b4;stroke-opacity:0.7;stroke-width:0.3;\" x=\"43.134448\" y=\"16.187065\" xlink:href=\"#m6648c37e5d\" />\n     <use style=\"fill:#4575b4;fill-opacity:0.7;stroke:#4575b4;stroke-opacity:0.7;stroke-width:0.3;\" x=\"36.835163\" y=\"11.888776\" xlink:href=\"#m6648c37e5d\" />\n     <use style=\"fill:#4575b4;fill-opacity:0.7;stroke:#4575b4;stroke-opacity:0.7;stroke-width:0.3;\" x=\"37.980577\" y=\"26.538328\" xlink:href=\"#m6648c37e5d\" />\n     <use style=\"fill:#4575b4;fill-opacity:0.7;stroke:#4575b4;stroke-opacity:0.7;stroke-width:0.3;\" x=\"39.051815\" y=\"12.71467\" xlink:href=\"#m6648c37e5d\" />\n    </g>\n   </g>\n   <g id=\"matplotlib.axis_1\" />\n   <g id=\"matplotlib.axis_2\">\n    <g id=\"ytick_1\">\n     <g id=\"line2d_1\">\n      <defs>\n       <path d=\"M 0 0  L -3.5 0  \" id=\"m8ff54ae349\" style=\"stroke:#444443;stroke-width:0.3;\" />\n      </defs>\n      <g>\n       <use style=\"fill:#444443;stroke:#444443;stroke-width:0.3;\" x=\"19.980469\" y=\"30.285345\" xlink:href=\"#m8ff54ae349\" />\n      </g>\n     </g>\n     <g id=\"text_1\">\n      \n      <defs>\n       <path d=\"M 12.40625 8.296875  L 28.515625 8.296875  L 28.515625 63.921875  L 10.984375 60.40625  L 10.984375 69.390625  L 28.421875 72.90625  L 38.28125 72.90625  L 38.28125 8.296875  L 54.390625 8.296875  L 54.390625 0  L 12.40625 0  z \" id=\"DejaVuSans-49\" />\n       <path d=\"M 31.78125 66.40625  Q 24.171875 66.40625 20.328125 58.90625  Q 16.5 51.421875 16.5 36.375  Q 16.5 21.390625 20.328125 13.890625  Q 24.171875 6.390625 31.78125 6.390625  Q 39.453125 6.390625 43.28125 13.890625  Q 47.125 21.390625 47.125 36.375  Q 47.125 51.421875 43.28125 58.90625  Q 39.453125 66.40625 31.78125 66.40625  z M 31.78125 74.21875  Q 44.046875 74.21875 50.515625 64.515625  Q 56.984375 54.828125 56.984375 36.375  Q 56.984375 17.96875 50.515625 8.265625  Q 44.046875 -1.421875 31.78125 -1.421875  Q 19.53125 -1.421875 13.0625 8.265625  Q 6.59375 17.96875 6.59375 36.375  Q 6.59375 54.828125 13.0625 64.515625  Q 19.53125 74.21875 31.78125 74.21875  z \" id=\"DejaVuSans-48\" />\n      </defs>\n      <g style=\"fill:#444443;\" transform=\"translate(2.800469 33.32472)scale(0.08 -0.08)\">\n       <use xlink:href=\"#DejaVuSans-49\" />\n       <use x=\"63.623047\" xlink:href=\"#DejaVuSans-48\" />\n      </g>\n     </g>\n    </g>\n    <g id=\"ytick_2\">\n     <g id=\"line2d_2\">\n      <g>\n       <use style=\"fill:#444443;stroke:#444443;stroke-width:0.3;\" x=\"19.980469\" y=\"3.039375\" xlink:href=\"#m8ff54ae349\" />\n      </g>\n     </g>\n     <g id=\"text_2\">\n      \n      <defs>\n       <path d=\"M 19.1875 8.296875  L 53.609375 8.296875  L 53.609375 0  L 7.328125 0  L 7.328125 8.296875  Q 12.9375 14.109375 22.625 23.890625  Q 32.328125 33.6875 34.8125 36.53125  Q 39.546875 41.84375 41.421875 45.53125  Q 43.3125 49.21875 43.3125 52.78125  Q 43.3125 58.59375 39.234375 62.25  Q 35.15625 65.921875 28.609375 65.921875  Q 23.96875 65.921875 18.8125 64.3125  Q 13.671875 62.703125 7.8125 59.421875  L 7.8125 69.390625  Q 13.765625 71.78125 18.9375 73  Q 24.125 74.21875 28.421875 74.21875  Q 39.75 74.21875 46.484375 68.546875  Q 53.21875 62.890625 53.21875 53.421875  Q 53.21875 48.921875 51.53125 44.890625  Q 49.859375 40.875 45.40625 35.40625  Q 44.1875 33.984375 37.640625 27.21875  Q 31.109375 20.453125 19.1875 8.296875  z \" id=\"DejaVuSans-50\" />\n      </defs>\n      <g style=\"fill:#444443;\" transform=\"translate(2.800469 6.07875)scale(0.08 -0.08)\">\n       <use xlink:href=\"#DejaVuSans-49\" />\n       <use x=\"63.623047\" xlink:href=\"#DejaVuSans-50\" />\n      </g>\n     </g>\n    </g>\n   </g>\n   <g id=\"line2d_3\">\n    <path clip-path=\"url(#p3295381106)\" d=\"M 19.980469 24.11816  L 83.810938 24.11816  \" style=\"fill:none;stroke:#444443;stroke-dasharray:3.7,1.6;stroke-dashoffset:0;\" />\n   </g>\n   <g id=\"patch_3\">\n    <path d=\"M 19.980469 45.667355  L 19.980469 2.179355  \" style=\"fill:none;stroke:#000000;stroke-linecap:square;stroke-linejoin:miter;stroke-width:0.3;\" />\n   </g>\n   <g id=\"text_3\">\n    \n    <defs>\n     <path d=\"M 53.515625 70.515625  L 53.515625 60.890625  Q 47.90625 63.578125 42.921875 64.890625  Q 37.9375 66.21875 33.296875 66.21875  Q 25.25 66.21875 20.875 63.09375  Q 16.5 59.96875 16.5 54.203125  Q 16.5 49.359375 19.40625 46.890625  Q 22.3125 44.4375 30.421875 42.921875  L 36.375 41.703125  Q 47.40625 39.59375 52.65625 34.296875  Q 57.90625 29 57.90625 20.125  Q 57.90625 9.515625 50.796875 4.046875  Q 43.703125 -1.421875 29.984375 -1.421875  Q 24.8125 -1.421875 18.96875 -0.25  Q 13.140625 0.921875 6.890625 3.21875  L 6.890625 13.375  Q 12.890625 10.015625 18.65625 8.296875  Q 24.421875 6.59375 29.984375 6.59375  Q 38.421875 6.59375 43.015625 9.90625  Q 47.609375 13.234375 47.609375 19.390625  Q 47.609375 24.75 44.3125 27.78125  Q 41.015625 30.8125 33.5 32.328125  L 27.484375 33.5  Q 16.453125 35.6875 11.515625 40.375  Q 6.59375 45.0625 6.59375 53.421875  Q 6.59375 63.09375 13.40625 68.65625  Q 20.21875 74.21875 32.171875 74.21875  Q 37.3125 74.21875 42.625 73.28125  Q 47.953125 72.359375 53.515625 70.515625  z \" id=\"DejaVuSans-83\" />\n     <path d=\"M 34.28125 27.484375  Q 23.390625 27.484375 19.1875 25  Q 14.984375 22.515625 14.984375 16.5  Q 14.984375 11.71875 18.140625 8.90625  Q 21.296875 6.109375 26.703125 6.109375  Q 34.1875 6.109375 38.703125 11.40625  Q 43.21875 16.703125 43.21875 25.484375  L 43.21875 27.484375  z M 52.203125 31.203125  L 52.203125 0  L 43.21875 0  L 43.21875 8.296875  Q 40.140625 3.328125 35.546875 0.953125  Q 30.953125 -1.421875 24.3125 -1.421875  Q 15.921875 -1.421875 10.953125 3.296875  Q 6 8.015625 6 15.921875  Q 6 25.140625 12.171875 29.828125  Q 18.359375 34.515625 30.609375 34.515625  L 43.21875 34.515625  L 43.21875 35.40625  Q 43.21875 41.609375 39.140625 45  Q 35.0625 48.390625 27.6875 48.390625  Q 23 48.390625 18.546875 47.265625  Q 14.109375 46.140625 10.015625 43.890625  L 10.015625 52.203125  Q 14.9375 54.109375 19.578125 55.046875  Q 24.21875 56 28.609375 56  Q 40.484375 56 46.34375 49.84375  Q 52.203125 43.703125 52.203125 31.203125  z \" id=\"DejaVuSans-97\" />\n     <path d=\"M 9.421875 75.984375  L 18.40625 75.984375  L 18.40625 0  L 9.421875 0  z \" id=\"DejaVuSans-108\" />\n     <path d=\"M 56.203125 29.59375  L 56.203125 25.203125  L 14.890625 25.203125  Q 15.484375 15.921875 20.484375 11.0625  Q 25.484375 6.203125 34.421875 6.203125  Q 39.59375 6.203125 44.453125 7.46875  Q 49.3125 8.734375 54.109375 11.28125  L 54.109375 2.78125  Q 49.265625 0.734375 44.1875 -0.34375  Q 39.109375 -1.421875 33.890625 -1.421875  Q 20.796875 -1.421875 13.15625 6.1875  Q 5.515625 13.8125 5.515625 26.8125  Q 5.515625 40.234375 12.765625 48.109375  Q 20.015625 56 32.328125 56  Q 43.359375 56 49.78125 48.890625  Q 56.203125 41.796875 56.203125 29.59375  z M 47.21875 32.234375  Q 47.125 39.59375 43.09375 43.984375  Q 39.0625 48.390625 32.421875 48.390625  Q 24.90625 48.390625 20.390625 44.140625  Q 15.875 39.890625 15.1875 32.171875  z \" id=\"DejaVuSans-101\" />\n     <path d=\"M 19.671875 64.796875  L 19.671875 37.40625  L 32.078125 37.40625  Q 38.96875 37.40625 42.71875 40.96875  Q 46.484375 44.53125 46.484375 51.125  Q 46.484375 57.671875 42.71875 61.234375  Q 38.96875 64.796875 32.078125 64.796875  z M 9.8125 72.90625  L 32.078125 72.90625  Q 44.34375 72.90625 50.609375 67.359375  Q 56.890625 61.8125 56.890625 51.125  Q 56.890625 40.328125 50.609375 34.8125  Q 44.34375 29.296875 32.078125 29.296875  L 19.671875 29.296875  L 19.671875 0  L 9.8125 0  z \" id=\"DejaVuSans-80\" />\n     <path d=\"M 41.109375 46.296875  Q 39.59375 47.171875 37.8125 47.578125  Q 36.03125 48 33.890625 48  Q 26.265625 48 22.1875 43.046875  Q 18.109375 38.09375 18.109375 28.8125  L 18.109375 0  L 9.078125 0  L 9.078125 54.6875  L 18.109375 54.6875  L 18.109375 46.1875  Q 20.953125 51.171875 25.484375 53.578125  Q 30.03125 56 36.53125 56  Q 37.453125 56 38.578125 55.875  Q 39.703125 55.765625 41.0625 55.515625  z \" id=\"DejaVuSans-114\" />\n     <path d=\"M 9.421875 54.6875  L 18.40625 54.6875  L 18.40625 0  L 9.421875 0  z M 9.421875 75.984375  L 18.40625 75.984375  L 18.40625 64.59375  L 9.421875 64.59375  z \" id=\"DejaVuSans-105\" />\n     <path d=\"M 48.78125 52.59375  L 48.78125 44.1875  Q 44.96875 46.296875 41.140625 47.34375  Q 37.3125 48.390625 33.40625 48.390625  Q 24.65625 48.390625 19.8125 42.84375  Q 14.984375 37.3125 14.984375 27.296875  Q 14.984375 17.28125 19.8125 11.734375  Q 24.65625 6.203125 33.40625 6.203125  Q 37.3125 6.203125 41.140625 7.25  Q 44.96875 8.296875 48.78125 10.40625  L 48.78125 2.09375  Q 45.015625 0.34375 40.984375 -0.53125  Q 36.96875 -1.421875 32.421875 -1.421875  Q 20.0625 -1.421875 12.78125 6.34375  Q 5.515625 14.109375 5.515625 27.296875  Q 5.515625 40.671875 12.859375 48.328125  Q 20.21875 56 33.015625 56  Q 37.15625 56 41.109375 55.140625  Q 45.0625 54.296875 48.78125 52.59375  z \" id=\"DejaVuSans-99\" />\n     <path d=\"M 10.59375 45.40625  L 73.1875 45.40625  L 73.1875 37.203125  L 10.59375 37.203125  z M 10.59375 25.484375  L 73.1875 25.484375  L 73.1875 17.1875  L 10.59375 17.1875  z \" id=\"DejaVuSans-61\" />\n     <path d=\"M 10.6875 12.40625  L 21 12.40625  L 21 0  L 10.6875 0  z \" id=\"DejaVuSans-46\" />\n     <path d=\"M 37.796875 64.3125  L 12.890625 25.390625  L 37.796875 25.390625  z M 35.203125 72.90625  L 47.609375 72.90625  L 47.609375 25.390625  L 58.015625 25.390625  L 58.015625 17.1875  L 47.609375 17.1875  L 47.609375 0  L 37.796875 0  L 37.796875 17.1875  L 4.890625 17.1875  L 4.890625 26.703125  z \" id=\"DejaVuSans-52\" />\n     <path d=\"M 10.796875 72.90625  L 49.515625 72.90625  L 49.515625 64.59375  L 19.828125 64.59375  L 19.828125 46.734375  Q 21.96875 47.46875 24.109375 47.828125  Q 26.265625 48.1875 28.421875 48.1875  Q 40.625 48.1875 47.75 41.5  Q 54.890625 34.8125 54.890625 23.390625  Q 54.890625 11.625 47.5625 5.09375  Q 40.234375 -1.421875 26.90625 -1.421875  Q 22.3125 -1.421875 17.546875 -0.640625  Q 12.796875 0.140625 7.71875 1.703125  L 7.71875 11.625  Q 12.109375 9.234375 16.796875 8.0625  Q 21.484375 6.890625 26.703125 6.890625  Q 35.15625 6.890625 40.078125 11.328125  Q 45.015625 15.765625 45.015625 23.390625  Q 45.015625 31 40.078125 35.4375  Q 35.15625 39.890625 26.703125 39.890625  Q 22.75 39.890625 18.8125 39.015625  Q 14.890625 38.140625 10.796875 36.28125  z \" id=\"DejaVuSans-53\" />\n    </defs>\n    <g style=\"fill:#444443;\" transform=\"translate(0 55.015793)scale(0.1 -0.1)\">\n     <use xlink:href=\"#DejaVuSans-83\" />\n     <use x=\"63.476562\" xlink:href=\"#DejaVuSans-97\" />\n     <use x=\"124.755859\" xlink:href=\"#DejaVuSans-108\" />\n     <use x=\"152.539062\" xlink:href=\"#DejaVuSans-101\" />\n     <use x=\"214.0625\" xlink:href=\"#DejaVuSans-80\" />\n     <use x=\"272.615234\" xlink:href=\"#DejaVuSans-114\" />\n     <use x=\"313.728516\" xlink:href=\"#DejaVuSans-105\" />\n     <use x=\"341.511719\" xlink:href=\"#DejaVuSans-99\" />\n     <use x=\"396.492188\" xlink:href=\"#DejaVuSans-101\" />\n     <use x=\"458.015625\" xlink:href=\"#DejaVuSans-61\" />\n     <use x=\"541.804688\" xlink:href=\"#DejaVuSans-49\" />\n     <use x=\"605.427734\" xlink:href=\"#DejaVuSans-48\" />\n     <use x=\"669.050781\" xlink:href=\"#DejaVuSans-46\" />\n     <use x=\"700.837891\" xlink:href=\"#DejaVuSans-52\" />\n     <use x=\"764.460938\" xlink:href=\"#DejaVuSans-53\" />\n    </g>\n    \n    <defs>\n     <path d=\"M 54.890625 33.015625  L 54.890625 0  L 45.90625 0  L 45.90625 32.71875  Q 45.90625 40.484375 42.875 44.328125  Q 39.84375 48.1875 33.796875 48.1875  Q 26.515625 48.1875 22.3125 43.546875  Q 18.109375 38.921875 18.109375 30.90625  L 18.109375 0  L 9.078125 0  L 9.078125 54.6875  L 18.109375 54.6875  L 18.109375 46.1875  Q 21.34375 51.125 25.703125 53.5625  Q 30.078125 56 35.796875 56  Q 45.21875 56 50.046875 50.171875  Q 54.890625 44.34375 54.890625 33.015625  z \" id=\"DejaVuSans-110\" />\n    </defs>\n    <g style=\"fill:#444443;\" transform=\"translate(24.503125 66.213605)scale(0.1 -0.1)\">\n     <use xlink:href=\"#DejaVuSans-110\" />\n     <use x=\"63.378906\" xlink:href=\"#DejaVuSans-61\" />\n     <use x=\"147.167969\" xlink:href=\"#DejaVuSans-50\" />\n     <use x=\"210.791016\" xlink:href=\"#DejaVuSans-49\" />\n     <use x=\"274.414062\" xlink:href=\"#DejaVuSans-50\" />\n    </g>\n   </g>\n  </g>\n </g>\n <defs>\n  <clipPath id=\"p3295381106\">\n   <rect height=\"43.488\" width=\"41.85\" x=\"19.980469\" y=\"2.179355\" />\n  </clipPath>\n </defs>\n</svg></g>\n\n<g class=\"edge\" id=\"edge1\">\n<title>node4-&gt;leaf5</title>\n<path d=\"M446.1208,-86.1636C450.548,-87.5577 454.9224,-88.9351 459.1416,-90.2638\" fill=\"none\" stroke=\"#444443\" stroke-width=\".3\" />\n<polygon fill=\"#444443\" points=\"458.7341,-91.6031 462.9699,-91.4692 459.5751,-88.9324 458.7341,-91.6031\" stroke=\"#444443\" stroke-width=\".3\" />\n</g>\n\n<g class=\"node\" id=\"node5\">\n<title>leaf6</title>\n<polygon fill=\"none\" points=\"530.5,-59 465.5,-59 465.5,0 530.5,0 530.5,-59\" stroke=\"#444443\" stroke-width=\"0\" />\n<svg height=\"51px\" preserveAspectRatio=\"xMinYMin meet\" version=\"1.1\" viewBox=\"0 0 76.829219 68.293293\" width=\"57px\" x=\"470\" y=\"-54.5\">\n <defs>\n  <style type=\"text/css\">\n*{stroke-linecap:butt;stroke-linejoin:round;}\n  </style>\n </defs>\n <g id=\"figure_1\">\n  <g id=\"patch_1\">\n   <path d=\"M -0 68.293293  L 76.829219 68.293293  L 76.829219 0  L -0 0  z \" style=\"fill:#ffffff;\" />\n  </g>\n  <g id=\"axes_1\">\n   <g id=\"patch_2\">\n    <path d=\"M 17.18 45.667355  L 59.03 45.667355  L 59.03 2.179355  L 17.18 2.179355  z \" style=\"fill:#ffffff;\" />\n   </g>\n   <g id=\"PathCollection_1\">\n    <defs>\n     <path d=\"M 0 1.118034  C 0.296506 1.118034 0.580908 1.000231 0.790569 0.790569  C 1.000231 0.580908 1.118034 0.296506 1.118034 0  C 1.118034 -0.296506 1.000231 -0.580908 0.790569 -0.790569  C 0.580908 -1.000231 0.296506 -1.118034 0 -1.118034  C -0.296506 -1.118034 -0.580908 -1.000231 -0.790569 -0.790569  C -1.000231 -0.580908 -1.118034 -0.296506 -1.118034 0  C -1.118034 0.296506 -1.000231 0.580908 -0.790569 0.790569  C -0.580908 1.000231 -0.296506 1.118034 0 1.118034  z \" id=\"md2a448a21f\" style=\"stroke:#4575b4;stroke-opacity:0.7;stroke-width:0.3;\" />\n    </defs>\n    <g clip-path=\"url(#pb64c5818da)\">\n     <use style=\"fill:#4575b4;fill-opacity:0.7;stroke:#4575b4;stroke-opacity:0.7;stroke-width:0.3;\" x=\"36.044519\" y=\"39.744455\" xlink:href=\"#md2a448a21f\" />\n     <use style=\"fill:#4575b4;fill-opacity:0.7;stroke:#4575b4;stroke-opacity:0.7;stroke-width:0.3;\" x=\"45.992217\" y=\"43.256865\" xlink:href=\"#md2a448a21f\" />\n     <use style=\"fill:#4575b4;fill-opacity:0.7;stroke:#4575b4;stroke-opacity:0.7;stroke-width:0.3;\" x=\"45.762572\" y=\"29.696163\" xlink:href=\"#md2a448a21f\" />\n     <use style=\"fill:#4575b4;fill-opacity:0.7;stroke:#4575b4;stroke-opacity:0.7;stroke-width:0.3;\" x=\"35.828325\" y=\"30.614911\" xlink:href=\"#md2a448a21f\" />\n     <use style=\"fill:#4575b4;fill-opacity:0.7;stroke:#4575b4;stroke-opacity:0.7;stroke-width:0.3;\" x=\"36.169788\" y=\"41.741634\" xlink:href=\"#md2a448a21f\" />\n     <use style=\"fill:#4575b4;fill-opacity:0.7;stroke:#4575b4;stroke-opacity:0.7;stroke-width:0.3;\" x=\"35.331562\" y=\"33.814125\" xlink:href=\"#md2a448a21f\" />\n     <use style=\"fill:#4575b4;fill-opacity:0.7;stroke:#4575b4;stroke-opacity:0.7;stroke-width:0.3;\" x=\"36.703217\" y=\"33.035456\" xlink:href=\"#md2a448a21f\" />\n     <use style=\"fill:#4575b4;fill-opacity:0.7;stroke:#4575b4;stroke-opacity:0.7;stroke-width:0.3;\" x=\"37.35287\" y=\"27.51181\" xlink:href=\"#md2a448a21f\" />\n     <use style=\"fill:#4575b4;fill-opacity:0.7;stroke:#4575b4;stroke-opacity:0.7;stroke-width:0.3;\" x=\"35.867214\" y=\"36.954551\" xlink:href=\"#md2a448a21f\" />\n     <use style=\"fill:#4575b4;fill-opacity:0.7;stroke:#4575b4;stroke-opacity:0.7;stroke-width:0.3;\" x=\"42.127753\" y=\"39.744455\" xlink:href=\"#md2a448a21f\" />\n     <use style=\"fill:#4575b4;fill-opacity:0.7;stroke:#4575b4;stroke-opacity:0.7;stroke-width:0.3;\" x=\"39.624115\" y=\"41.741634\" xlink:href=\"#md2a448a21f\" />\n     <use style=\"fill:#4575b4;fill-opacity:0.7;stroke:#4575b4;stroke-opacity:0.7;stroke-width:0.3;\" x=\"40.327968\" y=\"43.256865\" xlink:href=\"#md2a448a21f\" />\n     <use style=\"fill:#4575b4;fill-opacity:0.7;stroke:#4575b4;stroke-opacity:0.7;stroke-width:0.3;\" x=\"32.654743\" y=\"39.744455\" xlink:href=\"#md2a448a21f\" />\n     <use style=\"fill:#4575b4;fill-opacity:0.7;stroke:#4575b4;stroke-opacity:0.7;stroke-width:0.3;\" x=\"35.823813\" y=\"40.249073\" xlink:href=\"#md2a448a21f\" />\n     <use style=\"fill:#4575b4;fill-opacity:0.7;stroke:#4575b4;stroke-opacity:0.7;stroke-width:0.3;\" x=\"40.052715\" y=\"37.468679\" xlink:href=\"#md2a448a21f\" />\n     <use style=\"fill:#4575b4;fill-opacity:0.7;stroke:#4575b4;stroke-opacity:0.7;stroke-width:0.3;\" x=\"35.228671\" y=\"44.082746\" xlink:href=\"#md2a448a21f\" />\n     <use style=\"fill:#4575b4;fill-opacity:0.7;stroke:#4575b4;stroke-opacity:0.7;stroke-width:0.3;\" x=\"38.659182\" y=\"38.559101\" xlink:href=\"#md2a448a21f\" />\n     <use style=\"fill:#4575b4;fill-opacity:0.7;stroke:#4575b4;stroke-opacity:0.7;stroke-width:0.3;\" x=\"35.225398\" y=\"29.116374\" xlink:href=\"#md2a448a21f\" />\n     <use style=\"fill:#4575b4;fill-opacity:0.7;stroke:#4575b4;stroke-opacity:0.7;stroke-width:0.3;\" x=\"44.929898\" y=\"27.016378\" xlink:href=\"#md2a448a21f\" />\n     <use style=\"fill:#4575b4;fill-opacity:0.7;stroke:#4575b4;stroke-opacity:0.7;stroke-width:0.3;\" x=\"38.755811\" y=\"36.954551\" xlink:href=\"#md2a448a21f\" />\n     <use style=\"fill:#4575b4;fill-opacity:0.7;stroke:#4575b4;stroke-opacity:0.7;stroke-width:0.3;\" x=\"39.02194\" y=\"44.082746\" xlink:href=\"#md2a448a21f\" />\n     <use style=\"fill:#4575b4;fill-opacity:0.7;stroke:#4575b4;stroke-opacity:0.7;stroke-width:0.3;\" x=\"34.400491\" y=\"42.478196\" xlink:href=\"#md2a448a21f\" />\n     <use style=\"fill:#4575b4;fill-opacity:0.7;stroke:#4575b4;stroke-opacity:0.7;stroke-width:0.3;\" x=\"39.856468\" y=\"36.954551\" xlink:href=\"#md2a448a21f\" />\n     <use style=\"fill:#4575b4;fill-opacity:0.7;stroke:#4575b4;stroke-opacity:0.7;stroke-width:0.3;\" x=\"37.288372\" y=\"34.640019\" xlink:href=\"#md2a448a21f\" />\n     <use style=\"fill:#4575b4;fill-opacity:0.7;stroke:#4575b4;stroke-opacity:0.7;stroke-width:0.3;\" x=\"34.464417\" y=\"20.40231\" xlink:href=\"#md2a448a21f\" />\n     <use style=\"fill:#4575b4;fill-opacity:0.7;stroke:#4575b4;stroke-opacity:0.7;stroke-width:0.3;\" x=\"32.641826\" y=\"27.51181\" xlink:href=\"#md2a448a21f\" />\n     <use style=\"fill:#4575b4;fill-opacity:0.7;stroke:#4575b4;stroke-opacity:0.7;stroke-width:0.3;\" x=\"29.424101\" y=\"36.954551\" xlink:href=\"#md2a448a21f\" />\n     <use style=\"fill:#4575b4;fill-opacity:0.7;stroke:#4575b4;stroke-opacity:0.7;stroke-width:0.3;\" x=\"34.895773\" y=\"29.995574\" xlink:href=\"#md2a448a21f\" />\n     <use style=\"fill:#4575b4;fill-opacity:0.7;stroke:#4575b4;stroke-opacity:0.7;stroke-width:0.3;\" x=\"37.811486\" y=\"39.13889\" xlink:href=\"#md2a448a21f\" />\n     <use style=\"fill:#4575b4;fill-opacity:0.7;stroke:#4575b4;stroke-opacity:0.7;stroke-width:0.3;\" x=\"36.021268\" y=\"39.13889\" xlink:href=\"#md2a448a21f\" />\n    </g>\n   </g>\n   <g id=\"matplotlib.axis_1\" />\n   <g id=\"matplotlib.axis_2\">\n    <g id=\"ytick_1\">\n     <g id=\"line2d_1\">\n      <defs>\n       <path d=\"M 0 0  L -3.5 0  \" id=\"m94ec15127e\" style=\"stroke:#444443;stroke-width:0.3;\" />\n      </defs>\n      <g>\n       <use style=\"fill:#444443;stroke:#444443;stroke-width:0.3;\" x=\"17.18\" y=\"30.285345\" xlink:href=\"#m94ec15127e\" />\n      </g>\n     </g>\n     <g id=\"text_1\">\n      \n      <defs>\n       <path d=\"M 12.40625 8.296875  L 28.515625 8.296875  L 28.515625 63.921875  L 10.984375 60.40625  L 10.984375 69.390625  L 28.421875 72.90625  L 38.28125 72.90625  L 38.28125 8.296875  L 54.390625 8.296875  L 54.390625 0  L 12.40625 0  z \" id=\"DejaVuSans-49\" />\n       <path d=\"M 31.78125 66.40625  Q 24.171875 66.40625 20.328125 58.90625  Q 16.5 51.421875 16.5 36.375  Q 16.5 21.390625 20.328125 13.890625  Q 24.171875 6.390625 31.78125 6.390625  Q 39.453125 6.390625 43.28125 13.890625  Q 47.125 21.390625 47.125 36.375  Q 47.125 51.421875 43.28125 58.90625  Q 39.453125 66.40625 31.78125 66.40625  z M 31.78125 74.21875  Q 44.046875 74.21875 50.515625 64.515625  Q 56.984375 54.828125 56.984375 36.375  Q 56.984375 17.96875 50.515625 8.265625  Q 44.046875 -1.421875 31.78125 -1.421875  Q 19.53125 -1.421875 13.0625 8.265625  Q 6.59375 17.96875 6.59375 36.375  Q 6.59375 54.828125 13.0625 64.515625  Q 19.53125 74.21875 31.78125 74.21875  z \" id=\"DejaVuSans-48\" />\n      </defs>\n      <g style=\"fill:#444443;\" transform=\"translate(0 33.32472)scale(0.08 -0.08)\">\n       <use xlink:href=\"#DejaVuSans-49\" />\n       <use x=\"63.623047\" xlink:href=\"#DejaVuSans-48\" />\n      </g>\n     </g>\n    </g>\n    <g id=\"ytick_2\">\n     <g id=\"line2d_2\">\n      <g>\n       <use style=\"fill:#444443;stroke:#444443;stroke-width:0.3;\" x=\"17.18\" y=\"3.039375\" xlink:href=\"#m94ec15127e\" />\n      </g>\n     </g>\n     <g id=\"text_2\">\n      \n      <defs>\n       <path d=\"M 19.1875 8.296875  L 53.609375 8.296875  L 53.609375 0  L 7.328125 0  L 7.328125 8.296875  Q 12.9375 14.109375 22.625 23.890625  Q 32.328125 33.6875 34.8125 36.53125  Q 39.546875 41.84375 41.421875 45.53125  Q 43.3125 49.21875 43.3125 52.78125  Q 43.3125 58.59375 39.234375 62.25  Q 35.15625 65.921875 28.609375 65.921875  Q 23.96875 65.921875 18.8125 64.3125  Q 13.671875 62.703125 7.8125 59.421875  L 7.8125 69.390625  Q 13.765625 71.78125 18.9375 73  Q 24.125 74.21875 28.421875 74.21875  Q 39.75 74.21875 46.484375 68.546875  Q 53.21875 62.890625 53.21875 53.421875  Q 53.21875 48.921875 51.53125 44.890625  Q 49.859375 40.875 45.40625 35.40625  Q 44.1875 33.984375 37.640625 27.21875  Q 31.109375 20.453125 19.1875 8.296875  z \" id=\"DejaVuSans-50\" />\n      </defs>\n      <g style=\"fill:#444443;\" transform=\"translate(0 6.07875)scale(0.08 -0.08)\">\n       <use xlink:href=\"#DejaVuSans-49\" />\n       <use x=\"63.623047\" xlink:href=\"#DejaVuSans-50\" />\n      </g>\n     </g>\n    </g>\n   </g>\n   <g id=\"line2d_3\">\n    <path clip-path=\"url(#pb64c5818da)\" d=\"M 17.18 36.18673  L 77.829219 36.18673  \" style=\"fill:none;stroke:#444443;stroke-dasharray:3.7,1.6;stroke-dashoffset:0;\" />\n   </g>\n   <g id=\"patch_3\">\n    <path d=\"M 17.18 45.667355  L 17.18 2.179355  \" style=\"fill:none;stroke:#000000;stroke-linecap:square;stroke-linejoin:miter;stroke-width:0.3;\" />\n   </g>\n   <g id=\"text_3\">\n    \n    <defs>\n     <path d=\"M 53.515625 70.515625  L 53.515625 60.890625  Q 47.90625 63.578125 42.921875 64.890625  Q 37.9375 66.21875 33.296875 66.21875  Q 25.25 66.21875 20.875 63.09375  Q 16.5 59.96875 16.5 54.203125  Q 16.5 49.359375 19.40625 46.890625  Q 22.3125 44.4375 30.421875 42.921875  L 36.375 41.703125  Q 47.40625 39.59375 52.65625 34.296875  Q 57.90625 29 57.90625 20.125  Q 57.90625 9.515625 50.796875 4.046875  Q 43.703125 -1.421875 29.984375 -1.421875  Q 24.8125 -1.421875 18.96875 -0.25  Q 13.140625 0.921875 6.890625 3.21875  L 6.890625 13.375  Q 12.890625 10.015625 18.65625 8.296875  Q 24.421875 6.59375 29.984375 6.59375  Q 38.421875 6.59375 43.015625 9.90625  Q 47.609375 13.234375 47.609375 19.390625  Q 47.609375 24.75 44.3125 27.78125  Q 41.015625 30.8125 33.5 32.328125  L 27.484375 33.5  Q 16.453125 35.6875 11.515625 40.375  Q 6.59375 45.0625 6.59375 53.421875  Q 6.59375 63.09375 13.40625 68.65625  Q 20.21875 74.21875 32.171875 74.21875  Q 37.3125 74.21875 42.625 73.28125  Q 47.953125 72.359375 53.515625 70.515625  z \" id=\"DejaVuSans-83\" />\n     <path d=\"M 34.28125 27.484375  Q 23.390625 27.484375 19.1875 25  Q 14.984375 22.515625 14.984375 16.5  Q 14.984375 11.71875 18.140625 8.90625  Q 21.296875 6.109375 26.703125 6.109375  Q 34.1875 6.109375 38.703125 11.40625  Q 43.21875 16.703125 43.21875 25.484375  L 43.21875 27.484375  z M 52.203125 31.203125  L 52.203125 0  L 43.21875 0  L 43.21875 8.296875  Q 40.140625 3.328125 35.546875 0.953125  Q 30.953125 -1.421875 24.3125 -1.421875  Q 15.921875 -1.421875 10.953125 3.296875  Q 6 8.015625 6 15.921875  Q 6 25.140625 12.171875 29.828125  Q 18.359375 34.515625 30.609375 34.515625  L 43.21875 34.515625  L 43.21875 35.40625  Q 43.21875 41.609375 39.140625 45  Q 35.0625 48.390625 27.6875 48.390625  Q 23 48.390625 18.546875 47.265625  Q 14.109375 46.140625 10.015625 43.890625  L 10.015625 52.203125  Q 14.9375 54.109375 19.578125 55.046875  Q 24.21875 56 28.609375 56  Q 40.484375 56 46.34375 49.84375  Q 52.203125 43.703125 52.203125 31.203125  z \" id=\"DejaVuSans-97\" />\n     <path d=\"M 9.421875 75.984375  L 18.40625 75.984375  L 18.40625 0  L 9.421875 0  z \" id=\"DejaVuSans-108\" />\n     <path d=\"M 56.203125 29.59375  L 56.203125 25.203125  L 14.890625 25.203125  Q 15.484375 15.921875 20.484375 11.0625  Q 25.484375 6.203125 34.421875 6.203125  Q 39.59375 6.203125 44.453125 7.46875  Q 49.3125 8.734375 54.109375 11.28125  L 54.109375 2.78125  Q 49.265625 0.734375 44.1875 -0.34375  Q 39.109375 -1.421875 33.890625 -1.421875  Q 20.796875 -1.421875 13.15625 6.1875  Q 5.515625 13.8125 5.515625 26.8125  Q 5.515625 40.234375 12.765625 48.109375  Q 20.015625 56 32.328125 56  Q 43.359375 56 49.78125 48.890625  Q 56.203125 41.796875 56.203125 29.59375  z M 47.21875 32.234375  Q 47.125 39.59375 43.09375 43.984375  Q 39.0625 48.390625 32.421875 48.390625  Q 24.90625 48.390625 20.390625 44.140625  Q 15.875 39.890625 15.1875 32.171875  z \" id=\"DejaVuSans-101\" />\n     <path d=\"M 19.671875 64.796875  L 19.671875 37.40625  L 32.078125 37.40625  Q 38.96875 37.40625 42.71875 40.96875  Q 46.484375 44.53125 46.484375 51.125  Q 46.484375 57.671875 42.71875 61.234375  Q 38.96875 64.796875 32.078125 64.796875  z M 9.8125 72.90625  L 32.078125 72.90625  Q 44.34375 72.90625 50.609375 67.359375  Q 56.890625 61.8125 56.890625 51.125  Q 56.890625 40.328125 50.609375 34.8125  Q 44.34375 29.296875 32.078125 29.296875  L 19.671875 29.296875  L 19.671875 0  L 9.8125 0  z \" id=\"DejaVuSans-80\" />\n     <path d=\"M 41.109375 46.296875  Q 39.59375 47.171875 37.8125 47.578125  Q 36.03125 48 33.890625 48  Q 26.265625 48 22.1875 43.046875  Q 18.109375 38.09375 18.109375 28.8125  L 18.109375 0  L 9.078125 0  L 9.078125 54.6875  L 18.109375 54.6875  L 18.109375 46.1875  Q 20.953125 51.171875 25.484375 53.578125  Q 30.03125 56 36.53125 56  Q 37.453125 56 38.578125 55.875  Q 39.703125 55.765625 41.0625 55.515625  z \" id=\"DejaVuSans-114\" />\n     <path d=\"M 9.421875 54.6875  L 18.40625 54.6875  L 18.40625 0  L 9.421875 0  z M 9.421875 75.984375  L 18.40625 75.984375  L 18.40625 64.59375  L 9.421875 64.59375  z \" id=\"DejaVuSans-105\" />\n     <path d=\"M 48.78125 52.59375  L 48.78125 44.1875  Q 44.96875 46.296875 41.140625 47.34375  Q 37.3125 48.390625 33.40625 48.390625  Q 24.65625 48.390625 19.8125 42.84375  Q 14.984375 37.3125 14.984375 27.296875  Q 14.984375 17.28125 19.8125 11.734375  Q 24.65625 6.203125 33.40625 6.203125  Q 37.3125 6.203125 41.140625 7.25  Q 44.96875 8.296875 48.78125 10.40625  L 48.78125 2.09375  Q 45.015625 0.34375 40.984375 -0.53125  Q 36.96875 -1.421875 32.421875 -1.421875  Q 20.0625 -1.421875 12.78125 6.34375  Q 5.515625 14.109375 5.515625 27.296875  Q 5.515625 40.671875 12.859375 48.328125  Q 20.21875 56 33.015625 56  Q 37.15625 56 41.109375 55.140625  Q 45.0625 54.296875 48.78125 52.59375  z \" id=\"DejaVuSans-99\" />\n     <path d=\"M 10.59375 45.40625  L 73.1875 45.40625  L 73.1875 37.203125  L 10.59375 37.203125  z M 10.59375 25.484375  L 73.1875 25.484375  L 73.1875 17.1875  L 10.59375 17.1875  z \" id=\"DejaVuSans-61\" />\n     <path d=\"M 10.984375 1.515625  L 10.984375 10.5  Q 14.703125 8.734375 18.5 7.8125  Q 22.3125 6.890625 25.984375 6.890625  Q 35.75 6.890625 40.890625 13.453125  Q 46.046875 20.015625 46.78125 33.40625  Q 43.953125 29.203125 39.59375 26.953125  Q 35.25 24.703125 29.984375 24.703125  Q 19.046875 24.703125 12.671875 31.3125  Q 6.296875 37.9375 6.296875 49.421875  Q 6.296875 60.640625 12.9375 67.421875  Q 19.578125 74.21875 30.609375 74.21875  Q 43.265625 74.21875 49.921875 64.515625  Q 56.59375 54.828125 56.59375 36.375  Q 56.59375 19.140625 48.40625 8.859375  Q 40.234375 -1.421875 26.421875 -1.421875  Q 22.703125 -1.421875 18.890625 -0.6875  Q 15.09375 0.046875 10.984375 1.515625  z M 30.609375 32.421875  Q 37.25 32.421875 41.125 36.953125  Q 45.015625 41.5 45.015625 49.421875  Q 45.015625 57.28125 41.125 61.84375  Q 37.25 66.40625 30.609375 66.40625  Q 23.96875 66.40625 20.09375 61.84375  Q 16.21875 57.28125 16.21875 49.421875  Q 16.21875 41.5 20.09375 36.953125  Q 23.96875 32.421875 30.609375 32.421875  z \" id=\"DejaVuSans-57\" />\n     <path d=\"M 10.6875 12.40625  L 21 12.40625  L 21 0  L 10.6875 0  z \" id=\"DejaVuSans-46\" />\n     <path d=\"M 10.796875 72.90625  L 49.515625 72.90625  L 49.515625 64.59375  L 19.828125 64.59375  L 19.828125 46.734375  Q 21.96875 47.46875 24.109375 47.828125  Q 26.265625 48.1875 28.421875 48.1875  Q 40.625 48.1875 47.75 41.5  Q 54.890625 34.8125 54.890625 23.390625  Q 54.890625 11.625 47.5625 5.09375  Q 40.234375 -1.421875 26.90625 -1.421875  Q 22.3125 -1.421875 17.546875 -0.640625  Q 12.796875 0.140625 7.71875 1.703125  L 7.71875 11.625  Q 12.109375 9.234375 16.796875 8.0625  Q 21.484375 6.890625 26.703125 6.890625  Q 35.15625 6.890625 40.078125 11.328125  Q 45.015625 15.765625 45.015625 23.390625  Q 45.015625 31 40.078125 35.4375  Q 35.15625 39.890625 26.703125 39.890625  Q 22.75 39.890625 18.8125 39.015625  Q 14.890625 38.140625 10.796875 36.28125  z \" id=\"DejaVuSans-53\" />\n     <path d=\"M 8.203125 72.90625  L 55.078125 72.90625  L 55.078125 68.703125  L 28.609375 0  L 18.3125 0  L 43.21875 64.59375  L 8.203125 64.59375  z \" id=\"DejaVuSans-55\" />\n    </defs>\n    <g style=\"fill:#444443;\" transform=\"translate(0.380781 55.015793)scale(0.1 -0.1)\">\n     <use xlink:href=\"#DejaVuSans-83\" />\n     <use x=\"63.476562\" xlink:href=\"#DejaVuSans-97\" />\n     <use x=\"124.755859\" xlink:href=\"#DejaVuSans-108\" />\n     <use x=\"152.539062\" xlink:href=\"#DejaVuSans-101\" />\n     <use x=\"214.0625\" xlink:href=\"#DejaVuSans-80\" />\n     <use x=\"272.615234\" xlink:href=\"#DejaVuSans-114\" />\n     <use x=\"313.728516\" xlink:href=\"#DejaVuSans-105\" />\n     <use x=\"341.511719\" xlink:href=\"#DejaVuSans-99\" />\n     <use x=\"396.492188\" xlink:href=\"#DejaVuSans-101\" />\n     <use x=\"458.015625\" xlink:href=\"#DejaVuSans-61\" />\n     <use x=\"541.804688\" xlink:href=\"#DejaVuSans-57\" />\n     <use x=\"605.427734\" xlink:href=\"#DejaVuSans-46\" />\n     <use x=\"637.214844\" xlink:href=\"#DejaVuSans-53\" />\n     <use x=\"700.837891\" xlink:href=\"#DejaVuSans-55\" />\n    </g>\n    \n    <defs>\n     <path d=\"M 54.890625 33.015625  L 54.890625 0  L 45.90625 0  L 45.90625 32.71875  Q 45.90625 40.484375 42.875 44.328125  Q 39.84375 48.1875 33.796875 48.1875  Q 26.515625 48.1875 22.3125 43.546875  Q 18.109375 38.921875 18.109375 30.90625  L 18.109375 0  L 9.078125 0  L 9.078125 54.6875  L 18.109375 54.6875  L 18.109375 46.1875  Q 21.34375 51.125 25.703125 53.5625  Q 30.078125 56 35.796875 56  Q 45.21875 56 50.046875 50.171875  Q 54.890625 44.34375 54.890625 33.015625  z \" id=\"DejaVuSans-110\" />\n     <path d=\"M 40.578125 39.3125  Q 47.65625 37.796875 51.625 33  Q 55.609375 28.21875 55.609375 21.1875  Q 55.609375 10.40625 48.1875 4.484375  Q 40.765625 -1.421875 27.09375 -1.421875  Q 22.515625 -1.421875 17.65625 -0.515625  Q 12.796875 0.390625 7.625 2.203125  L 7.625 11.71875  Q 11.71875 9.328125 16.59375 8.109375  Q 21.484375 6.890625 26.8125 6.890625  Q 36.078125 6.890625 40.9375 10.546875  Q 45.796875 14.203125 45.796875 21.1875  Q 45.796875 27.640625 41.28125 31.265625  Q 36.765625 34.90625 28.71875 34.90625  L 20.21875 34.90625  L 20.21875 43.015625  L 29.109375 43.015625  Q 36.375 43.015625 40.234375 45.921875  Q 44.09375 48.828125 44.09375 54.296875  Q 44.09375 59.90625 40.109375 62.90625  Q 36.140625 65.921875 28.71875 65.921875  Q 24.65625 65.921875 20.015625 65.03125  Q 15.375 64.15625 9.8125 62.3125  L 9.8125 71.09375  Q 15.4375 72.65625 20.34375 73.4375  Q 25.25 74.21875 29.59375 74.21875  Q 40.828125 74.21875 47.359375 69.109375  Q 53.90625 64.015625 53.90625 55.328125  Q 53.90625 49.265625 50.4375 45.09375  Q 46.96875 40.921875 40.578125 39.3125  z \" id=\"DejaVuSans-51\" />\n    </defs>\n    <g style=\"fill:#444443;\" transform=\"translate(24.883906 66.213605)scale(0.1 -0.1)\">\n     <use xlink:href=\"#DejaVuSans-110\" />\n     <use x=\"63.378906\" xlink:href=\"#DejaVuSans-61\" />\n     <use x=\"147.167969\" xlink:href=\"#DejaVuSans-51\" />\n     <use x=\"210.791016\" xlink:href=\"#DejaVuSans-48\" />\n    </g>\n   </g>\n  </g>\n </g>\n <defs>\n  <clipPath id=\"pb64c5818da\">\n   <rect height=\"43.488\" width=\"41.85\" x=\"17.18\" y=\"2.179355\" />\n  </clipPath>\n </defs>\n</svg></g>\n\n<g class=\"edge\" id=\"edge2\">\n<title>node4-&gt;leaf6</title>\n<path d=\"M446.1208,-45.3949C451.2954,-43.8095 456.398,-42.2462 461.2649,-40.755\" fill=\"none\" stroke=\"#444443\" stroke-width=\".3\" />\n<polygon fill=\"#444443\" points=\"461.8797,-42.031 465.2941,-39.5205 461.0594,-39.3538 461.8797,-42.031\" stroke=\"#444443\" stroke-width=\".3\" />\n</g>\n\n<g class=\"node\" id=\"node2\">\n<title>node1</title>\n<svg height=\"68px\" preserveAspectRatio=\"xMinYMin meet\" version=\"1.1\" viewBox=\"0 0 166.86 90.073473\" width=\"125px\" x=\"169.5\" y=\"-148.5\">\n <defs>\n  <style type=\"text/css\">\n*{stroke-linecap:butt;stroke-linejoin:round;}\n  </style>\n </defs>\n <g id=\"figure_1\">\n  <g id=\"patch_1\">\n   <path d=\"M 0 90.073473  L 166.86 90.073473  L 166.86 -0  L 0 -0  z \" style=\"fill:#ffffff;\" />\n  </g>\n  <g id=\"axes_1\">\n   <g id=\"patch_2\">\n    <path d=\"M 17.18 61.652848  L 156.68 61.652848  L 156.68 1.856848  L 17.18 1.856848  z \" style=\"fill:#ffffff;\" />\n   </g>\n   <g id=\"PathCollection_1\">\n    <defs>\n     <path d=\"M 0 1.118034  C 0.296506 1.118034 0.580908 1.000231 0.790569 0.790569  C 1.000231 0.580908 1.118034 0.296506 1.118034 0  C 1.118034 -0.296506 1.000231 -0.580908 0.790569 -0.790569  C 0.580908 -1.000231 0.296506 -1.118034 0 -1.118034  C -0.296506 -1.118034 -0.580908 -1.000231 -0.790569 -0.790569  C -1.000231 -0.580908 -1.118034 -0.296506 -1.118034 0  C -1.118034 0.296506 -1.000231 0.580908 -0.790569 0.790569  C -0.580908 1.000231 -0.296506 1.118034 0 1.118034  z \" id=\"m13a244f415\" style=\"stroke:#4575b4;stroke-opacity:0.7;stroke-width:0.3;\" />\n    </defs>\n    <g clip-path=\"url(#pcca8a14f3d)\">\n     <use style=\"fill:#4575b4;fill-opacity:0.7;stroke:#4575b4;stroke-opacity:0.7;stroke-width:0.3;\" x=\"155.296071\" y=\"33.506493\" xlink:href=\"#m13a244f415\" />\n     <use style=\"fill:#4575b4;fill-opacity:0.7;stroke:#4575b4;stroke-opacity:0.7;stroke-width:0.3;\" x=\"155.849643\" y=\"23.023986\" xlink:href=\"#m13a244f415\" />\n     <use style=\"fill:#4575b4;fill-opacity:0.7;stroke:#4575b4;stroke-opacity:0.7;stroke-width:0.3;\" x=\"153.77375\" y=\"23.023986\" xlink:href=\"#m13a244f415\" />\n     <use style=\"fill:#4575b4;fill-opacity:0.7;stroke:#4575b4;stroke-opacity:0.7;stroke-width:0.3;\" x=\"155.434464\" y=\"40.104149\" xlink:href=\"#m13a244f415\" />\n     <use style=\"fill:#4575b4;fill-opacity:0.7;stroke:#4575b4;stroke-opacity:0.7;stroke-width:0.3;\" x=\"17.18\" y=\"56.254981\" xlink:href=\"#m13a244f415\" />\n     <use style=\"fill:#4575b4;fill-opacity:0.7;stroke:#4575b4;stroke-opacity:0.7;stroke-width:0.3;\" x=\"152.528214\" y=\"29.800905\" xlink:href=\"#m13a244f415\" />\n     <use style=\"fill:#4575b4;fill-opacity:0.7;stroke:#4575b4;stroke-opacity:0.7;stroke-width:0.3;\" x=\"154.465714\" y=\"29.326656\" xlink:href=\"#m13a244f415\" />\n     <use style=\"fill:#4575b4;fill-opacity:0.7;stroke:#4575b4;stroke-opacity:0.7;stroke-width:0.3;\" x=\"153.496964\" y=\"34.715411\" xlink:href=\"#m13a244f415\" />\n     <use style=\"fill:#4575b4;fill-opacity:0.7;stroke:#4575b4;stroke-opacity:0.7;stroke-width:0.3;\" x=\"151.697857\" y=\"35.350435\" xlink:href=\"#m13a244f415\" />\n     <use style=\"fill:#4575b4;fill-opacity:0.7;stroke:#4575b4;stroke-opacity:0.7;stroke-width:0.3;\" x=\"17.18\" y=\"38.130586\" xlink:href=\"#m13a244f415\" />\n     <use style=\"fill:#4575b4;fill-opacity:0.7;stroke:#4575b4;stroke-opacity:0.7;stroke-width:0.3;\" x=\"155.71125\" y=\"24.41215\" xlink:href=\"#m13a244f415\" />\n     <use style=\"fill:#4575b4;fill-opacity:0.7;stroke:#4575b4;stroke-opacity:0.7;stroke-width:0.3;\" x=\"156.264821\" y=\"53.50886\" xlink:href=\"#m13a244f415\" />\n     <use style=\"fill:#4575b4;fill-opacity:0.7;stroke:#4575b4;stroke-opacity:0.7;stroke-width:0.3;\" x=\"156.403214\" y=\"22.857495\" xlink:href=\"#m13a244f415\" />\n     <use style=\"fill:#4575b4;fill-opacity:0.7;stroke:#4575b4;stroke-opacity:0.7;stroke-width:0.3;\" x=\"154.604107\" y=\"25.146818\" xlink:href=\"#m13a244f415\" />\n     <use style=\"fill:#4575b4;fill-opacity:0.7;stroke:#4575b4;stroke-opacity:0.7;stroke-width:0.3;\" x=\"155.988036\" y=\"28.637075\" xlink:href=\"#m13a244f415\" />\n     <use style=\"fill:#4575b4;fill-opacity:0.7;stroke:#4575b4;stroke-opacity:0.7;stroke-width:0.3;\" x=\"155.71125\" y=\"30.535574\" xlink:href=\"#m13a244f415\" />\n     <use style=\"fill:#4575b4;fill-opacity:0.7;stroke:#4575b4;stroke-opacity:0.7;stroke-width:0.3;\" x=\"153.496964\" y=\"48.991504\" xlink:href=\"#m13a244f415\" />\n     <use style=\"fill:#4575b4;fill-opacity:0.7;stroke:#4575b4;stroke-opacity:0.7;stroke-width:0.3;\" x=\"153.912143\" y=\"39.897178\" xlink:href=\"#m13a244f415\" />\n     <use style=\"fill:#4575b4;fill-opacity:0.7;stroke:#4575b4;stroke-opacity:0.7;stroke-width:0.3;\" x=\"155.157679\" y=\"20.817729\" xlink:href=\"#m13a244f415\" />\n     <use style=\"fill:#4575b4;fill-opacity:0.7;stroke:#4575b4;stroke-opacity:0.7;stroke-width:0.3;\" x=\"151.421071\" y=\"44.283986\" xlink:href=\"#m13a244f415\" />\n     <use style=\"fill:#4575b4;fill-opacity:0.7;stroke:#4575b4;stroke-opacity:0.7;stroke-width:0.3;\" x=\"154.327321\" y=\"29.326656\" xlink:href=\"#m13a244f415\" />\n     <use style=\"fill:#4575b4;fill-opacity:0.7;stroke:#4575b4;stroke-opacity:0.7;stroke-width:0.3;\" x=\"155.849643\" y=\"23.361505\" xlink:href=\"#m13a244f415\" />\n     <use style=\"fill:#4575b4;fill-opacity:0.7;stroke:#4575b4;stroke-opacity:0.7;stroke-width:0.3;\" x=\"155.988036\" y=\"18.186848\" xlink:href=\"#m13a244f415\" />\n     <use style=\"fill:#4575b4;fill-opacity:0.7;stroke:#4575b4;stroke-opacity:0.7;stroke-width:0.3;\" x=\"155.296071\" y=\"41.396491\" xlink:href=\"#m13a244f415\" />\n     <use style=\"fill:#4575b4;fill-opacity:0.7;stroke:#4575b4;stroke-opacity:0.7;stroke-width:0.3;\" x=\"152.251429\" y=\"36.007754\" xlink:href=\"#m13a244f415\" />\n     <use style=\"fill:#4575b4;fill-opacity:0.7;stroke:#4575b4;stroke-opacity:0.7;stroke-width:0.3;\" x=\"155.434464\" y=\"31.300236\" xlink:href=\"#m13a244f415\" />\n     <use style=\"fill:#4575b4;fill-opacity:0.7;stroke:#4575b4;stroke-opacity:0.7;stroke-width:0.3;\" x=\"154.188929\" y=\"34.101198\" xlink:href=\"#m13a244f415\" />\n     <use style=\"fill:#4575b4;fill-opacity:0.7;stroke:#4575b4;stroke-opacity:0.7;stroke-width:0.3;\" x=\"154.604107\" y=\"44.283986\" xlink:href=\"#m13a244f415\" />\n     <use style=\"fill:#4575b4;fill-opacity:0.7;stroke:#4575b4;stroke-opacity:0.7;stroke-width:0.3;\" x=\"151.282679\" y=\"34.715411\" xlink:href=\"#m13a244f415\" />\n     <use style=\"fill:#4575b4;fill-opacity:0.7;stroke:#4575b4;stroke-opacity:0.7;stroke-width:0.3;\" x=\"154.327321\" y=\"28.864125\" xlink:href=\"#m13a244f415\" />\n     <use style=\"fill:#4575b4;fill-opacity:0.7;stroke:#4575b4;stroke-opacity:0.7;stroke-width:0.3;\" x=\"155.157679\" y=\"40.955736\" xlink:href=\"#m13a244f415\" />\n     <use style=\"fill:#4575b4;fill-opacity:0.7;stroke:#4575b4;stroke-opacity:0.7;stroke-width:0.3;\" x=\"151.144286\" y=\"57.795434\" xlink:href=\"#m13a244f415\" />\n     <use style=\"fill:#4575b4;fill-opacity:0.7;stroke:#4575b4;stroke-opacity:0.7;stroke-width:0.3;\" x=\"155.572857\" y=\"58.338424\" xlink:href=\"#m13a244f415\" />\n     <use style=\"fill:#4575b4;fill-opacity:0.7;stroke:#4575b4;stroke-opacity:0.7;stroke-width:0.3;\" x=\"154.188929\" y=\"53.50886\" xlink:href=\"#m13a244f415\" />\n     <use style=\"fill:#4575b4;fill-opacity:0.7;stroke:#4575b4;stroke-opacity:0.7;stroke-width:0.3;\" x=\"155.019286\" y=\"46.490261\" xlink:href=\"#m13a244f415\" />\n     <use style=\"fill:#4575b4;fill-opacity:0.7;stroke:#4575b4;stroke-opacity:0.7;stroke-width:0.3;\" x=\"156.264821\" y=\"30.287463\" xlink:href=\"#m13a244f415\" />\n     <use style=\"fill:#4575b4;fill-opacity:0.7;stroke:#4575b4;stroke-opacity:0.7;stroke-width:0.3;\" x=\"155.71125\" y=\"38.509014\" xlink:href=\"#m13a244f415\" />\n     <use style=\"fill:#4575b4;fill-opacity:0.7;stroke:#4575b4;stroke-opacity:0.7;stroke-width:0.3;\" x=\"155.988036\" y=\"21.422027\" xlink:href=\"#m13a244f415\" />\n     <use style=\"fill:#4575b4;fill-opacity:0.7;stroke:#4575b4;stroke-opacity:0.7;stroke-width:0.3;\" x=\"154.880893\" y=\"39.692458\" xlink:href=\"#m13a244f415\" />\n     <use style=\"fill:#4575b4;fill-opacity:0.7;stroke:#4575b4;stroke-opacity:0.7;stroke-width:0.3;\" x=\"155.296071\" y=\"37.395918\" xlink:href=\"#m13a244f415\" />\n     <use style=\"fill:#4575b4;fill-opacity:0.7;stroke:#4575b4;stroke-opacity:0.7;stroke-width:0.3;\" x=\"17.18\" y=\"51.114336\" xlink:href=\"#m13a244f415\" />\n     <use style=\"fill:#4575b4;fill-opacity:0.7;stroke:#4575b4;stroke-opacity:0.7;stroke-width:0.3;\" x=\"155.157679\" y=\"43.770758\" xlink:href=\"#m13a244f415\" />\n     <use style=\"fill:#4575b4;fill-opacity:0.7;stroke:#4575b4;stroke-opacity:0.7;stroke-width:0.3;\" x=\"154.880893\" y=\"42.310424\" xlink:href=\"#m13a244f415\" />\n     <use style=\"fill:#4575b4;fill-opacity:0.7;stroke:#4575b4;stroke-opacity:0.7;stroke-width:0.3;\" x=\"153.912143\" y=\"43.770758\" xlink:href=\"#m13a244f415\" />\n     <use style=\"fill:#4575b4;fill-opacity:0.7;stroke:#4575b4;stroke-opacity:0.7;stroke-width:0.3;\" x=\"156.126429\" y=\"29.326656\" xlink:href=\"#m13a244f415\" />\n     <use style=\"fill:#4575b4;fill-opacity:0.7;stroke:#4575b4;stroke-opacity:0.7;stroke-width:0.3;\" x=\"154.465714\" y=\"30.535574\" xlink:href=\"#m13a244f415\" />\n     <use style=\"fill:#4575b4;fill-opacity:0.7;stroke:#4575b4;stroke-opacity:0.7;stroke-width:0.3;\" x=\"17.18\" y=\"28.191069\" xlink:href=\"#m13a244f415\" />\n     <use style=\"fill:#4575b4;fill-opacity:0.7;stroke:#4575b4;stroke-opacity:0.7;stroke-width:0.3;\" x=\"154.604107\" y=\"36.007754\" xlink:href=\"#m13a244f415\" />\n     <use style=\"fill:#4575b4;fill-opacity:0.7;stroke:#4575b4;stroke-opacity:0.7;stroke-width:0.3;\" x=\"156.264821\" y=\"40.955736\" xlink:href=\"#m13a244f415\" />\n     <use style=\"fill:#4575b4;fill-opacity:0.7;stroke:#4575b4;stroke-opacity:0.7;stroke-width:0.3;\" x=\"155.296071\" y=\"21.731643\" xlink:href=\"#m13a244f415\" />\n     <use style=\"fill:#4575b4;fill-opacity:0.7;stroke:#4575b4;stroke-opacity:0.7;stroke-width:0.3;\" x=\"153.77375\" y=\"21.731643\" xlink:href=\"#m13a244f415\" />\n     <use style=\"fill:#4575b4;fill-opacity:0.7;stroke:#4575b4;stroke-opacity:0.7;stroke-width:0.3;\" x=\"152.666607\" y=\"34.101198\" xlink:href=\"#m13a244f415\" />\n     <use style=\"fill:#4575b4;fill-opacity:0.7;stroke:#4575b4;stroke-opacity:0.7;stroke-width:0.3;\" x=\"155.434464\" y=\"34.101198\" xlink:href=\"#m13a244f415\" />\n     <use style=\"fill:#4575b4;fill-opacity:0.7;stroke:#4575b4;stroke-opacity:0.7;stroke-width:0.3;\" x=\"155.296071\" y=\"42.310424\" xlink:href=\"#m13a244f415\" />\n     <use style=\"fill:#4575b4;fill-opacity:0.7;stroke:#4575b4;stroke-opacity:0.7;stroke-width:0.3;\" x=\"154.188929\" y=\"42.784655\" xlink:href=\"#m13a244f415\" />\n     <use style=\"fill:#4575b4;fill-opacity:0.7;stroke:#4575b4;stroke-opacity:0.7;stroke-width:0.3;\" x=\"153.358571\" y=\"42.310424\" xlink:href=\"#m13a244f415\" />\n     <use style=\"fill:#4575b4;fill-opacity:0.7;stroke:#4575b4;stroke-opacity:0.7;stroke-width:0.3;\" x=\"17.18\" y=\"37.759643\" xlink:href=\"#m13a244f415\" />\n     <use style=\"fill:#4575b4;fill-opacity:0.7;stroke:#4575b4;stroke-opacity:0.7;stroke-width:0.3;\" x=\"154.050536\" y=\"18.058103\" xlink:href=\"#m13a244f415\" />\n     <use style=\"fill:#4575b4;fill-opacity:0.7;stroke:#4575b4;stroke-opacity:0.7;stroke-width:0.3;\" x=\"155.157679\" y=\"40.52511\" xlink:href=\"#m13a244f415\" />\n     <use style=\"fill:#4575b4;fill-opacity:0.7;stroke:#4575b4;stroke-opacity:0.7;stroke-width:0.3;\" x=\"154.7425\" y=\"48.991504\" xlink:href=\"#m13a244f415\" />\n     <use style=\"fill:#4575b4;fill-opacity:0.7;stroke:#4575b4;stroke-opacity:0.7;stroke-width:0.3;\" x=\"155.572857\" y=\"56.254981\" xlink:href=\"#m13a244f415\" />\n     <use style=\"fill:#4575b4;fill-opacity:0.7;stroke:#4575b4;stroke-opacity:0.7;stroke-width:0.3;\" x=\"152.666607\" y=\"46.490261\" xlink:href=\"#m13a244f415\" />\n     <use style=\"fill:#4575b4;fill-opacity:0.7;stroke:#4575b4;stroke-opacity:0.7;stroke-width:0.3;\" x=\"155.157679\" y=\"24.775893\" xlink:href=\"#m13a244f415\" />\n     <use style=\"fill:#4575b4;fill-opacity:0.7;stroke:#4575b4;stroke-opacity:0.7;stroke-width:0.3;\" x=\"154.604107\" y=\"47.699161\" xlink:href=\"#m13a244f415\" />\n     <use style=\"fill:#4575b4;fill-opacity:0.7;stroke:#4575b4;stroke-opacity:0.7;stroke-width:0.3;\" x=\"155.157679\" y=\"44.283986\" xlink:href=\"#m13a244f415\" />\n     <use style=\"fill:#4575b4;fill-opacity:0.7;stroke:#4575b4;stroke-opacity:0.7;stroke-width:0.3;\" x=\"152.389821\" y=\"36.007754\" xlink:href=\"#m13a244f415\" />\n     <use style=\"fill:#4575b4;fill-opacity:0.7;stroke:#4575b4;stroke-opacity:0.7;stroke-width:0.3;\" x=\"17.18\" y=\"40.52511\" xlink:href=\"#m13a244f415\" />\n     <use style=\"fill:#4575b4;fill-opacity:0.7;stroke:#4575b4;stroke-opacity:0.7;stroke-width:0.3;\" x=\"152.528214\" y=\"41.396491\" xlink:href=\"#m13a244f415\" />\n     <use style=\"fill:#4575b4;fill-opacity:0.7;stroke:#4575b4;stroke-opacity:0.7;stroke-width:0.3;\" x=\"17.18\" y=\"36.688974\" xlink:href=\"#m13a244f415\" />\n     <use style=\"fill:#4575b4;fill-opacity:0.7;stroke:#4575b4;stroke-opacity:0.7;stroke-width:0.3;\" x=\"155.988036\" y=\"34.715411\" xlink:href=\"#m13a244f415\" />\n     <use style=\"fill:#4575b4;fill-opacity:0.7;stroke:#4575b4;stroke-opacity:0.7;stroke-width:0.3;\" x=\"153.496964\" y=\"25.911481\" xlink:href=\"#m13a244f415\" />\n     <use style=\"fill:#4575b4;fill-opacity:0.7;stroke:#4575b4;stroke-opacity:0.7;stroke-width:0.3;\" x=\"153.635357\" y=\"33.506493\" xlink:href=\"#m13a244f415\" />\n     <use style=\"fill:#4575b4;fill-opacity:0.7;stroke:#4575b4;stroke-opacity:0.7;stroke-width:0.3;\" x=\"155.019286\" y=\"33.506493\" xlink:href=\"#m13a244f415\" />\n     <use style=\"fill:#4575b4;fill-opacity:0.7;stroke:#4575b4;stroke-opacity:0.7;stroke-width:0.3;\" x=\"154.7425\" y=\"25.146818\" xlink:href=\"#m13a244f415\" />\n     <use style=\"fill:#4575b4;fill-opacity:0.7;stroke:#4575b4;stroke-opacity:0.7;stroke-width:0.3;\" x=\"156.403214\" y=\"23.361505\" xlink:href=\"#m13a244f415\" />\n     <use style=\"fill:#4575b4;fill-opacity:0.7;stroke:#4575b4;stroke-opacity:0.7;stroke-width:0.3;\" x=\"152.389821\" y=\"19.387138\" xlink:href=\"#m13a244f415\" />\n     <use style=\"fill:#4575b4;fill-opacity:0.7;stroke:#4575b4;stroke-opacity:0.7;stroke-width:0.3;\" x=\"156.264821\" y=\"32.930098\" xlink:href=\"#m13a244f415\" />\n     <use style=\"fill:#4575b4;fill-opacity:0.7;stroke:#4575b4;stroke-opacity:0.7;stroke-width:0.3;\" x=\"153.912143\" y=\"20.966981\" xlink:href=\"#m13a244f415\" />\n     <use style=\"fill:#4575b4;fill-opacity:0.7;stroke:#4575b4;stroke-opacity:0.7;stroke-width:0.3;\" x=\"151.974643\" y=\"45.913848\" xlink:href=\"#m13a244f415\" />\n     <use style=\"fill:#4575b4;fill-opacity:0.7;stroke:#4575b4;stroke-opacity:0.7;stroke-width:0.3;\" x=\"156.126429\" y=\"45.354656\" xlink:href=\"#m13a244f415\" />\n     <use style=\"fill:#4575b4;fill-opacity:0.7;stroke:#4575b4;stroke-opacity:0.7;stroke-width:0.3;\" x=\"155.988036\" y=\"38.895248\" xlink:href=\"#m13a244f415\" />\n     <use style=\"fill:#4575b4;fill-opacity:0.7;stroke:#4575b4;stroke-opacity:0.7;stroke-width:0.3;\" x=\"155.572857\" y=\"31.041853\" xlink:href=\"#m13a244f415\" />\n     <use style=\"fill:#4575b4;fill-opacity:0.7;stroke:#4575b4;stroke-opacity:0.7;stroke-width:0.3;\" x=\"155.849643\" y=\"25.146818\" xlink:href=\"#m13a244f415\" />\n     <use style=\"fill:#4575b4;fill-opacity:0.7;stroke:#4575b4;stroke-opacity:0.7;stroke-width:0.3;\" x=\"154.7425\" y=\"36.007754\" xlink:href=\"#m13a244f415\" />\n     <use style=\"fill:#4575b4;fill-opacity:0.7;stroke:#4575b4;stroke-opacity:0.7;stroke-width:0.3;\" x=\"152.666607\" y=\"33.506493\" xlink:href=\"#m13a244f415\" />\n     <use style=\"fill:#4575b4;fill-opacity:0.7;stroke:#4575b4;stroke-opacity:0.7;stroke-width:0.3;\" x=\"156.403214\" y=\"37.039105\" xlink:href=\"#m13a244f415\" />\n     <use style=\"fill:#4575b4;fill-opacity:0.7;stroke:#4575b4;stroke-opacity:0.7;stroke-width:0.3;\" x=\"152.666607\" y=\"51.878998\" xlink:href=\"#m13a244f415\" />\n     <use style=\"fill:#4575b4;fill-opacity:0.7;stroke:#4575b4;stroke-opacity:0.7;stroke-width:0.3;\" x=\"153.635357\" y=\"32.930098\" xlink:href=\"#m13a244f415\" />\n     <use style=\"fill:#4575b4;fill-opacity:0.7;stroke:#4575b4;stroke-opacity:0.7;stroke-width:0.3;\" x=\"152.943393\" y=\"29.800905\" xlink:href=\"#m13a244f415\" />\n     <use style=\"fill:#4575b4;fill-opacity:0.7;stroke:#4575b4;stroke-opacity:0.7;stroke-width:0.3;\" x=\"155.019286\" y=\"21.117448\" xlink:href=\"#m13a244f415\" />\n     <use style=\"fill:#4575b4;fill-opacity:0.7;stroke:#4575b4;stroke-opacity:0.7;stroke-width:0.3;\" x=\"17.18\" y=\"50.379668\" xlink:href=\"#m13a244f415\" />\n     <use style=\"fill:#4575b4;fill-opacity:0.7;stroke:#4575b4;stroke-opacity:0.7;stroke-width:0.3;\" x=\"155.71125\" y=\"8.438259\" xlink:href=\"#m13a244f415\" />\n     <use style=\"fill:#4575b4;fill-opacity:0.7;stroke:#4575b4;stroke-opacity:0.7;stroke-width:0.3;\" x=\"17.18\" y=\"57.267754\" xlink:href=\"#m13a244f415\" />\n     <use style=\"fill:#4575b4;fill-opacity:0.7;stroke:#4575b4;stroke-opacity:0.7;stroke-width:0.3;\" x=\"153.635357\" y=\"48.013994\" xlink:href=\"#m13a244f415\" />\n     <use style=\"fill:#4575b4;fill-opacity:0.7;stroke:#4575b4;stroke-opacity:0.7;stroke-width:0.3;\" x=\"153.912143\" y=\"22.528853\" xlink:href=\"#m13a244f415\" />\n     <use style=\"fill:#4575b4;fill-opacity:0.7;stroke:#4575b4;stroke-opacity:0.7;stroke-width:0.3;\" x=\"154.880893\" y=\"20.232313\" xlink:href=\"#m13a244f415\" />\n     <use style=\"fill:#4575b4;fill-opacity:0.7;stroke:#4575b4;stroke-opacity:0.7;stroke-width:0.3;\" x=\"155.157679\" y=\"36.345273\" xlink:href=\"#m13a244f415\" />\n     <use style=\"fill:#4575b4;fill-opacity:0.7;stroke:#4575b4;stroke-opacity:0.7;stroke-width:0.3;\" x=\"17.18\" y=\"55.294174\" xlink:href=\"#m13a244f415\" />\n     <use style=\"fill:#4575b4;fill-opacity:0.7;stroke:#4575b4;stroke-opacity:0.7;stroke-width:0.3;\" x=\"17.18\" y=\"42.310424\" xlink:href=\"#m13a244f415\" />\n     <use style=\"fill:#4575b4;fill-opacity:0.7;stroke:#4575b4;stroke-opacity:0.7;stroke-width:0.3;\" x=\"154.188929\" y=\"55.294174\" xlink:href=\"#m13a244f415\" />\n     <use style=\"fill:#4575b4;fill-opacity:0.7;stroke:#4575b4;stroke-opacity:0.7;stroke-width:0.3;\" x=\"156.264821\" y=\"44.283986\" xlink:href=\"#m13a244f415\" />\n     <use style=\"fill:#4575b4;fill-opacity:0.7;stroke:#4575b4;stroke-opacity:0.7;stroke-width:0.3;\" x=\"155.572857\" y=\"18.844148\" xlink:href=\"#m13a244f415\" />\n     <use style=\"fill:#4575b4;fill-opacity:0.7;stroke:#4575b4;stroke-opacity:0.7;stroke-width:0.3;\" x=\"156.264821\" y=\"31.300236\" xlink:href=\"#m13a244f415\" />\n     <use style=\"fill:#4575b4;fill-opacity:0.7;stroke:#4575b4;stroke-opacity:0.7;stroke-width:0.3;\" x=\"17.18\" y=\"25.146818\" xlink:href=\"#m13a244f415\" />\n     <use style=\"fill:#4575b4;fill-opacity:0.7;stroke:#4575b4;stroke-opacity:0.7;stroke-width:0.3;\" x=\"153.77375\" y=\"22.366685\" xlink:href=\"#m13a244f415\" />\n     <use style=\"fill:#4575b4;fill-opacity:0.7;stroke:#4575b4;stroke-opacity:0.7;stroke-width:0.3;\" x=\"156.126429\" y=\"43.770758\" xlink:href=\"#m13a244f415\" />\n     <use style=\"fill:#4575b4;fill-opacity:0.7;stroke:#4575b4;stroke-opacity:0.7;stroke-width:0.3;\" x=\"154.188929\" y=\"18.058103\" xlink:href=\"#m13a244f415\" />\n     <use style=\"fill:#4575b4;fill-opacity:0.7;stroke:#4575b4;stroke-opacity:0.7;stroke-width:0.3;\" x=\"155.71125\" y=\"36.688974\" xlink:href=\"#m13a244f415\" />\n     <use style=\"fill:#4575b4;fill-opacity:0.7;stroke:#4575b4;stroke-opacity:0.7;stroke-width:0.3;\" x=\"156.403214\" y=\"34.101198\" xlink:href=\"#m13a244f415\" />\n     <use style=\"fill:#4575b4;fill-opacity:0.7;stroke:#4575b4;stroke-opacity:0.7;stroke-width:0.3;\" x=\"156.264821\" y=\"13.623403\" xlink:href=\"#m13a244f415\" />\n     <use style=\"fill:#4575b4;fill-opacity:0.7;stroke:#4575b4;stroke-opacity:0.7;stroke-width:0.3;\" x=\"154.604107\" y=\"31.300236\" xlink:href=\"#m13a244f415\" />\n     <use style=\"fill:#4575b4;fill-opacity:0.7;stroke:#4575b4;stroke-opacity:0.7;stroke-width:0.3;\" x=\"155.296071\" y=\"20.232313\" xlink:href=\"#m13a244f415\" />\n     <use style=\"fill:#4575b4;fill-opacity:0.7;stroke:#4575b4;stroke-opacity:0.7;stroke-width:0.3;\" x=\"154.604107\" y=\"43.026353\" xlink:href=\"#m13a244f415\" />\n     <use style=\"fill:#4575b4;fill-opacity:0.7;stroke:#4575b4;stroke-opacity:0.7;stroke-width:0.3;\" x=\"153.358571\" y=\"51.114336\" xlink:href=\"#m13a244f415\" />\n     <use style=\"fill:#4575b4;fill-opacity:0.7;stroke:#4575b4;stroke-opacity:0.7;stroke-width:0.3;\" x=\"155.157679\" y=\"41.396491\" xlink:href=\"#m13a244f415\" />\n     <use style=\"fill:#4575b4;fill-opacity:0.7;stroke:#4575b4;stroke-opacity:0.7;stroke-width:0.3;\" x=\"155.157679\" y=\"42.077729\" xlink:href=\"#m13a244f415\" />\n     <use style=\"fill:#4575b4;fill-opacity:0.7;stroke:#4575b4;stroke-opacity:0.7;stroke-width:0.3;\" x=\"152.666607\" y=\"39.289611\" xlink:href=\"#m13a244f415\" />\n     <use style=\"fill:#4575b4;fill-opacity:0.7;stroke:#4575b4;stroke-opacity:0.7;stroke-width:0.3;\" x=\"153.358571\" y=\"28.412741\" xlink:href=\"#m13a244f415\" />\n     <use style=\"fill:#4575b4;fill-opacity:0.7;stroke:#4575b4;stroke-opacity:0.7;stroke-width:0.3;\" x=\"154.188929\" y=\"26.708691\" xlink:href=\"#m13a244f415\" />\n     <use style=\"fill:#4575b4;fill-opacity:0.7;stroke:#4575b4;stroke-opacity:0.7;stroke-width:0.3;\" x=\"154.604107\" y=\"31.041853\" xlink:href=\"#m13a244f415\" />\n     <use style=\"fill:#4575b4;fill-opacity:0.7;stroke:#4575b4;stroke-opacity:0.7;stroke-width:0.3;\" x=\"154.188929\" y=\"33.506493\" xlink:href=\"#m13a244f415\" />\n     <use style=\"fill:#4575b4;fill-opacity:0.7;stroke:#4575b4;stroke-opacity:0.7;stroke-width:0.3;\" x=\"152.805\" y=\"29.800905\" xlink:href=\"#m13a244f415\" />\n     <use style=\"fill:#4575b4;fill-opacity:0.7;stroke:#4575b4;stroke-opacity:0.7;stroke-width:0.3;\" x=\"156.264821\" y=\"49.672741\" xlink:href=\"#m13a244f415\" />\n     <use style=\"fill:#4575b4;fill-opacity:0.7;stroke:#4575b4;stroke-opacity:0.7;stroke-width:0.3;\" x=\"155.849643\" y=\"22.046476\" xlink:href=\"#m13a244f415\" />\n     <use style=\"fill:#4575b4;fill-opacity:0.7;stroke:#4575b4;stroke-opacity:0.7;stroke-width:0.3;\" x=\"155.572857\" y=\"53.50886\" xlink:href=\"#m13a244f415\" />\n     <use style=\"fill:#4575b4;fill-opacity:0.7;stroke:#4575b4;stroke-opacity:0.7;stroke-width:0.3;\" x=\"154.880893\" y=\"37.395918\" xlink:href=\"#m13a244f415\" />\n     <use style=\"fill:#4575b4;fill-opacity:0.7;stroke:#4575b4;stroke-opacity:0.7;stroke-width:0.3;\" x=\"152.528214\" y=\"51.114336\" xlink:href=\"#m13a244f415\" />\n     <use style=\"fill:#4575b4;fill-opacity:0.7;stroke:#4575b4;stroke-opacity:0.7;stroke-width:0.3;\" x=\"152.251429\" y=\"44.283986\" xlink:href=\"#m13a244f415\" />\n     <use style=\"fill:#4575b4;fill-opacity:0.7;stroke:#4575b4;stroke-opacity:0.7;stroke-width:0.3;\" x=\"155.019286\" y=\"36.345273\" xlink:href=\"#m13a244f415\" />\n     <use style=\"fill:#4575b4;fill-opacity:0.7;stroke:#4575b4;stroke-opacity:0.7;stroke-width:0.3;\" x=\"155.71125\" y=\"27.120399\" xlink:href=\"#m13a244f415\" />\n     <use style=\"fill:#4575b4;fill-opacity:0.7;stroke:#4575b4;stroke-opacity:0.7;stroke-width:0.3;\" x=\"17.18\" y=\"21.576192\" xlink:href=\"#m13a244f415\" />\n     <use style=\"fill:#4575b4;fill-opacity:0.7;stroke:#4575b4;stroke-opacity:0.7;stroke-width:0.3;\" x=\"155.434464\" y=\"21.422027\" xlink:href=\"#m13a244f415\" />\n     <use style=\"fill:#4575b4;fill-opacity:0.7;stroke:#4575b4;stroke-opacity:0.7;stroke-width:0.3;\" x=\"155.157679\" y=\"14.664311\" xlink:href=\"#m13a244f415\" />\n     <use style=\"fill:#4575b4;fill-opacity:0.7;stroke:#4575b4;stroke-opacity:0.7;stroke-width:0.3;\" x=\"153.358571\" y=\"53.087917\" xlink:href=\"#m13a244f415\" />\n     <use style=\"fill:#4575b4;fill-opacity:0.7;stroke:#4575b4;stroke-opacity:0.7;stroke-width:0.3;\" x=\"155.71125\" y=\"53.50886\" xlink:href=\"#m13a244f415\" />\n     <use style=\"fill:#4575b4;fill-opacity:0.7;stroke:#4575b4;stroke-opacity:0.7;stroke-width:0.3;\" x=\"153.912143\" y=\"35.350435\" xlink:href=\"#m13a244f415\" />\n     <use style=\"fill:#4575b4;fill-opacity:0.7;stroke:#4575b4;stroke-opacity:0.7;stroke-width:0.3;\" x=\"156.264821\" y=\"18.186848\" xlink:href=\"#m13a244f415\" />\n     <use style=\"fill:#4575b4;fill-opacity:0.7;stroke:#4575b4;stroke-opacity:0.7;stroke-width:0.3;\" x=\"154.880893\" y=\"38.130586\" xlink:href=\"#m13a244f415\" />\n     <use style=\"fill:#4575b4;fill-opacity:0.7;stroke:#4575b4;stroke-opacity:0.7;stroke-width:0.3;\" x=\"17.18\" y=\"47.699161\" xlink:href=\"#m13a244f415\" />\n     <use style=\"fill:#4575b4;fill-opacity:0.7;stroke:#4575b4;stroke-opacity:0.7;stroke-width:0.3;\" x=\"155.572857\" y=\"56.254981\" xlink:href=\"#m13a244f415\" />\n     <use style=\"fill:#4575b4;fill-opacity:0.7;stroke:#4575b4;stroke-opacity:0.7;stroke-width:0.3;\" x=\"154.327321\" y=\"47.084966\" xlink:href=\"#m13a244f415\" />\n     <use style=\"fill:#4575b4;fill-opacity:0.7;stroke:#4575b4;stroke-opacity:0.7;stroke-width:0.3;\" x=\"152.943393\" y=\"55.294174\" xlink:href=\"#m13a244f415\" />\n     <use style=\"fill:#4575b4;fill-opacity:0.7;stroke:#4575b4;stroke-opacity:0.7;stroke-width:0.3;\" x=\"156.403214\" y=\"18.844148\" xlink:href=\"#m13a244f415\" />\n     <use style=\"fill:#4575b4;fill-opacity:0.7;stroke:#4575b4;stroke-opacity:0.7;stroke-width:0.3;\" x=\"153.635357\" y=\"24.41215\" xlink:href=\"#m13a244f415\" />\n     <use style=\"fill:#4575b4;fill-opacity:0.7;stroke:#4575b4;stroke-opacity:0.7;stroke-width:0.3;\" x=\"153.496964\" y=\"30.787008\" xlink:href=\"#m13a244f415\" />\n     <use style=\"fill:#4575b4;fill-opacity:0.7;stroke:#4575b4;stroke-opacity:0.7;stroke-width:0.3;\" x=\"17.18\" y=\"58.338424\" xlink:href=\"#m13a244f415\" />\n     <use style=\"fill:#4575b4;fill-opacity:0.7;stroke:#4575b4;stroke-opacity:0.7;stroke-width:0.3;\" x=\"17.18\" y=\"55.294174\" xlink:href=\"#m13a244f415\" />\n     <use style=\"fill:#4575b4;fill-opacity:0.7;stroke:#4575b4;stroke-opacity:0.7;stroke-width:0.3;\" x=\"153.635357\" y=\"19.387138\" xlink:href=\"#m13a244f415\" />\n     <use style=\"fill:#4575b4;fill-opacity:0.7;stroke:#4575b4;stroke-opacity:0.7;stroke-width:0.3;\" x=\"154.050536\" y=\"36.688974\" xlink:href=\"#m13a244f415\" />\n     <use style=\"fill:#4575b4;fill-opacity:0.7;stroke:#4575b4;stroke-opacity:0.7;stroke-width:0.3;\" x=\"155.434464\" y=\"58.338424\" xlink:href=\"#m13a244f415\" />\n     <use style=\"fill:#4575b4;fill-opacity:0.7;stroke:#4575b4;stroke-opacity:0.7;stroke-width:0.3;\" x=\"155.849643\" y=\"53.50886\" xlink:href=\"#m13a244f415\" />\n     <use style=\"fill:#4575b4;fill-opacity:0.7;stroke:#4575b4;stroke-opacity:0.7;stroke-width:0.3;\" x=\"154.050536\" y=\"25.525246\" xlink:href=\"#m13a244f415\" />\n     <use style=\"fill:#4575b4;fill-opacity:0.7;stroke:#4575b4;stroke-opacity:0.7;stroke-width:0.3;\" x=\"153.358571\" y=\"33.801479\" xlink:href=\"#m13a244f415\" />\n     <use style=\"fill:#4575b4;fill-opacity:0.7;stroke:#4575b4;stroke-opacity:0.7;stroke-width:0.3;\" x=\"153.77375\" y=\"23.023986\" xlink:href=\"#m13a244f415\" />\n     <use style=\"fill:#4575b4;fill-opacity:0.7;stroke:#4575b4;stroke-opacity:0.7;stroke-width:0.3;\" x=\"152.805\" y=\"50.379668\" xlink:href=\"#m13a244f415\" />\n     <use style=\"fill:#4575b4;fill-opacity:0.7;stroke:#4575b4;stroke-opacity:0.7;stroke-width:0.3;\" x=\"156.264821\" y=\"40.52511\" xlink:href=\"#m13a244f415\" />\n     <use style=\"fill:#4575b4;fill-opacity:0.7;stroke:#4575b4;stroke-opacity:0.7;stroke-width:0.3;\" x=\"156.541607\" y=\"23.705224\" xlink:href=\"#m13a244f415\" />\n     <use style=\"fill:#4575b4;fill-opacity:0.7;stroke:#4575b4;stroke-opacity:0.7;stroke-width:0.3;\" x=\"17.18\" y=\"44.283986\" xlink:href=\"#m13a244f415\" />\n     <use style=\"fill:#4575b4;fill-opacity:0.7;stroke:#4575b4;stroke-opacity:0.7;stroke-width:0.3;\" x=\"153.496964\" y=\"25.911481\" xlink:href=\"#m13a244f415\" />\n     <use style=\"fill:#4575b4;fill-opacity:0.7;stroke:#4575b4;stroke-opacity:0.7;stroke-width:0.3;\" x=\"154.604107\" y=\"41.396491\" xlink:href=\"#m13a244f415\" />\n     <use style=\"fill:#4575b4;fill-opacity:0.7;stroke:#4575b4;stroke-opacity:0.7;stroke-width:0.3;\" x=\"153.358571\" y=\"59.474011\" xlink:href=\"#m13a244f415\" />\n     <use style=\"fill:#4575b4;fill-opacity:0.7;stroke:#4575b4;stroke-opacity:0.7;stroke-width:0.3;\" x=\"151.144286\" y=\"51.114336\" xlink:href=\"#m13a244f415\" />\n     <use style=\"fill:#4575b4;fill-opacity:0.7;stroke:#4575b4;stroke-opacity:0.7;stroke-width:0.3;\" x=\"154.188929\" y=\"37.039105\" xlink:href=\"#m13a244f415\" />\n     <use style=\"fill:#4575b4;fill-opacity:0.7;stroke:#4575b4;stroke-opacity:0.7;stroke-width:0.3;\" x=\"155.296071\" y=\"54.20271\" xlink:href=\"#m13a244f415\" />\n     <use style=\"fill:#4575b4;fill-opacity:0.7;stroke:#4575b4;stroke-opacity:0.7;stroke-width:0.3;\" x=\"151.282679\" y=\"52.676208\" xlink:href=\"#m13a244f415\" />\n     <use style=\"fill:#4575b4;fill-opacity:0.7;stroke:#4575b4;stroke-opacity:0.7;stroke-width:0.3;\" x=\"156.541607\" y=\"21.888399\" xlink:href=\"#m13a244f415\" />\n     <use style=\"fill:#4575b4;fill-opacity:0.7;stroke:#4575b4;stroke-opacity:0.7;stroke-width:0.3;\" x=\"152.528214\" y=\"38.895248\" xlink:href=\"#m13a244f415\" />\n     <use style=\"fill:#4575b4;fill-opacity:0.7;stroke:#4575b4;stroke-opacity:0.7;stroke-width:0.3;\" x=\"155.572857\" y=\"20.966981\" xlink:href=\"#m13a244f415\" />\n     <use style=\"fill:#4575b4;fill-opacity:0.7;stroke:#4575b4;stroke-opacity:0.7;stroke-width:0.3;\" x=\"154.880893\" y=\"56.254981\" xlink:href=\"#m13a244f415\" />\n     <use style=\"fill:#4575b4;fill-opacity:0.7;stroke:#4575b4;stroke-opacity:0.7;stroke-width:0.3;\" x=\"152.666607\" y=\"47.699161\" xlink:href=\"#m13a244f415\" />\n     <use style=\"fill:#4575b4;fill-opacity:0.7;stroke:#4575b4;stroke-opacity:0.7;stroke-width:0.3;\" x=\"155.157679\" y=\"15.428973\" xlink:href=\"#m13a244f415\" />\n     <use style=\"fill:#4575b4;fill-opacity:0.7;stroke:#4575b4;stroke-opacity:0.7;stroke-width:0.3;\" x=\"155.434464\" y=\"32.370906\" xlink:href=\"#m13a244f415\" />\n     <use style=\"fill:#4575b4;fill-opacity:0.7;stroke:#4575b4;stroke-opacity:0.7;stroke-width:0.3;\" x=\"154.050536\" y=\"34.715411\" xlink:href=\"#m13a244f415\" />\n     <use style=\"fill:#4575b4;fill-opacity:0.7;stroke:#4575b4;stroke-opacity:0.7;stroke-width:0.3;\" x=\"151.421071\" y=\"47.699161\" xlink:href=\"#m13a244f415\" />\n     <use style=\"fill:#4575b4;fill-opacity:0.7;stroke:#4575b4;stroke-opacity:0.7;stroke-width:0.3;\" x=\"155.296071\" y=\"47.084966\" xlink:href=\"#m13a244f415\" />\n     <use style=\"fill:#4575b4;fill-opacity:0.7;stroke:#4575b4;stroke-opacity:0.7;stroke-width:0.3;\" x=\"155.157679\" y=\"50.379668\" xlink:href=\"#m13a244f415\" />\n     <use style=\"fill:#4575b4;fill-opacity:0.7;stroke:#4575b4;stroke-opacity:0.7;stroke-width:0.3;\" x=\"154.188929\" y=\"41.396491\" xlink:href=\"#m13a244f415\" />\n     <use style=\"fill:#4575b4;fill-opacity:0.7;stroke:#4575b4;stroke-opacity:0.7;stroke-width:0.3;\" x=\"156.264821\" y=\"31.827916\" xlink:href=\"#m13a244f415\" />\n     <use style=\"fill:#4575b4;fill-opacity:0.7;stroke:#4575b4;stroke-opacity:0.7;stroke-width:0.3;\" x=\"17.18\" y=\"59.01148\" xlink:href=\"#m13a244f415\" />\n     <use style=\"fill:#4575b4;fill-opacity:0.7;stroke:#4575b4;stroke-opacity:0.7;stroke-width:0.3;\" x=\"155.71125\" y=\"22.366685\" xlink:href=\"#m13a244f415\" />\n     <use style=\"fill:#4575b4;fill-opacity:0.7;stroke:#4575b4;stroke-opacity:0.7;stroke-width:0.3;\" x=\"155.296071\" y=\"38.895248\" xlink:href=\"#m13a244f415\" />\n     <use style=\"fill:#4575b4;fill-opacity:0.7;stroke:#4575b4;stroke-opacity:0.7;stroke-width:0.3;\" x=\"154.188929\" y=\"31.827916\" xlink:href=\"#m13a244f415\" />\n     <use style=\"fill:#4575b4;fill-opacity:0.7;stroke:#4575b4;stroke-opacity:0.7;stroke-width:0.3;\" x=\"17.18\" y=\"32.930098\" xlink:href=\"#m13a244f415\" />\n     <use style=\"fill:#4575b4;fill-opacity:0.7;stroke:#4575b4;stroke-opacity:0.7;stroke-width:0.3;\" x=\"152.251429\" y=\"53.50886\" xlink:href=\"#m13a244f415\" />\n     <use style=\"fill:#4575b4;fill-opacity:0.7;stroke:#4575b4;stroke-opacity:0.7;stroke-width:0.3;\" x=\"155.157679\" y=\"43.271231\" xlink:href=\"#m13a244f415\" />\n     <use style=\"fill:#4575b4;fill-opacity:0.7;stroke:#4575b4;stroke-opacity:0.7;stroke-width:0.3;\" x=\"153.912143\" y=\"20.522743\" xlink:href=\"#m13a244f415\" />\n     <use style=\"fill:#4575b4;fill-opacity:0.7;stroke:#4575b4;stroke-opacity:0.7;stroke-width:0.3;\" x=\"156.126429\" y=\"59.474011\" xlink:href=\"#m13a244f415\" />\n     <use style=\"fill:#4575b4;fill-opacity:0.7;stroke:#4575b4;stroke-opacity:0.7;stroke-width:0.3;\" x=\"153.912143\" y=\"38.509014\" xlink:href=\"#m13a244f415\" />\n     <use style=\"fill:#4575b4;fill-opacity:0.7;stroke:#4575b4;stroke-opacity:0.7;stroke-width:0.3;\" x=\"155.434464\" y=\"35.350435\" xlink:href=\"#m13a244f415\" />\n     <use style=\"fill:#4575b4;fill-opacity:0.7;stroke:#4575b4;stroke-opacity:0.7;stroke-width:0.3;\" x=\"155.157679\" y=\"29.326656\" xlink:href=\"#m13a244f415\" />\n     <use style=\"fill:#4575b4;fill-opacity:0.7;stroke:#4575b4;stroke-opacity:0.7;stroke-width:0.3;\" x=\"151.697857\" y=\"58.338424\" xlink:href=\"#m13a244f415\" />\n     <use style=\"fill:#4575b4;fill-opacity:0.7;stroke:#4575b4;stroke-opacity:0.7;stroke-width:0.3;\" x=\"155.434464\" y=\"25.911481\" xlink:href=\"#m13a244f415\" />\n     <use style=\"fill:#4575b4;fill-opacity:0.7;stroke:#4575b4;stroke-opacity:0.7;stroke-width:0.3;\" x=\"154.050536\" y=\"21.731643\" xlink:href=\"#m13a244f415\" />\n     <use style=\"fill:#4575b4;fill-opacity:0.7;stroke:#4575b4;stroke-opacity:0.7;stroke-width:0.3;\" x=\"151.282679\" y=\"45.354656\" xlink:href=\"#m13a244f415\" />\n     <use style=\"fill:#4575b4;fill-opacity:0.7;stroke:#4575b4;stroke-opacity:0.7;stroke-width:0.3;\" x=\"156.264821\" y=\"29.800905\" xlink:href=\"#m13a244f415\" />\n     <use style=\"fill:#4575b4;fill-opacity:0.7;stroke:#4575b4;stroke-opacity:0.7;stroke-width:0.3;\" x=\"156.403214\" y=\"13.92966\" xlink:href=\"#m13a244f415\" />\n     <use style=\"fill:#4575b4;fill-opacity:0.7;stroke:#4575b4;stroke-opacity:0.7;stroke-width:0.3;\" x=\"156.264821\" y=\"33.506493\" xlink:href=\"#m13a244f415\" />\n     <use style=\"fill:#4575b4;fill-opacity:0.7;stroke:#4575b4;stroke-opacity:0.7;stroke-width:0.3;\" x=\"17.18\" y=\"54.380259\" xlink:href=\"#m13a244f415\" />\n     <use style=\"fill:#4575b4;fill-opacity:0.7;stroke:#4575b4;stroke-opacity:0.7;stroke-width:0.3;\" x=\"151.144286\" y=\"34.715411\" xlink:href=\"#m13a244f415\" />\n     <use style=\"fill:#4575b4;fill-opacity:0.7;stroke:#4575b4;stroke-opacity:0.7;stroke-width:0.3;\" x=\"156.264821\" y=\"32.930098\" xlink:href=\"#m13a244f415\" />\n     <use style=\"fill:#4575b4;fill-opacity:0.7;stroke:#4575b4;stroke-opacity:0.7;stroke-width:0.3;\" x=\"17.18\" y=\"53.50886\" xlink:href=\"#m13a244f415\" />\n     <use style=\"fill:#4575b4;fill-opacity:0.7;stroke:#4575b4;stroke-opacity:0.7;stroke-width:0.3;\" x=\"155.71125\" y=\"40.104149\" xlink:href=\"#m13a244f415\" />\n     <use style=\"fill:#4575b4;fill-opacity:0.7;stroke:#4575b4;stroke-opacity:0.7;stroke-width:0.3;\" x=\"152.113036\" y=\"57.267754\" xlink:href=\"#m13a244f415\" />\n     <use style=\"fill:#4575b4;fill-opacity:0.7;stroke:#4575b4;stroke-opacity:0.7;stroke-width:0.3;\" x=\"156.126429\" y=\"26.107626\" xlink:href=\"#m13a244f415\" />\n     <use style=\"fill:#4575b4;fill-opacity:0.7;stroke:#4575b4;stroke-opacity:0.7;stroke-width:0.3;\" x=\"156.264821\" y=\"30.535574\" xlink:href=\"#m13a244f415\" />\n     <use style=\"fill:#4575b4;fill-opacity:0.7;stroke:#4575b4;stroke-opacity:0.7;stroke-width:0.3;\" x=\"156.126429\" y=\"40.52511\" xlink:href=\"#m13a244f415\" />\n     <use style=\"fill:#4575b4;fill-opacity:0.7;stroke:#4575b4;stroke-opacity:0.7;stroke-width:0.3;\" x=\"155.572857\" y=\"37.759643\" xlink:href=\"#m13a244f415\" />\n     <use style=\"fill:#4575b4;fill-opacity:0.7;stroke:#4575b4;stroke-opacity:0.7;stroke-width:0.3;\" x=\"155.157679\" y=\"43.770758\" xlink:href=\"#m13a244f415\" />\n     <use style=\"fill:#4575b4;fill-opacity:0.7;stroke:#4575b4;stroke-opacity:0.7;stroke-width:0.3;\" x=\"17.18\" y=\"43.770758\" xlink:href=\"#m13a244f415\" />\n     <use style=\"fill:#4575b4;fill-opacity:0.7;stroke:#4575b4;stroke-opacity:0.7;stroke-width:0.3;\" x=\"152.528214\" y=\"48.991504\" xlink:href=\"#m13a244f415\" />\n     <use style=\"fill:#4575b4;fill-opacity:0.7;stroke:#4575b4;stroke-opacity:0.7;stroke-width:0.3;\" x=\"155.296071\" y=\"38.509014\" xlink:href=\"#m13a244f415\" />\n     <use style=\"fill:#4575b4;fill-opacity:0.7;stroke:#4575b4;stroke-opacity:0.7;stroke-width:0.3;\" x=\"155.988036\" y=\"35.350435\" xlink:href=\"#m13a244f415\" />\n     <use style=\"fill:#4575b4;fill-opacity:0.7;stroke:#4575b4;stroke-opacity:0.7;stroke-width:0.3;\" x=\"153.912143\" y=\"25.146818\" xlink:href=\"#m13a244f415\" />\n     <use style=\"fill:#4575b4;fill-opacity:0.7;stroke:#4575b4;stroke-opacity:0.7;stroke-width:0.3;\" x=\"154.188929\" y=\"38.895248\" xlink:href=\"#m13a244f415\" />\n     <use style=\"fill:#4575b4;fill-opacity:0.7;stroke:#4575b4;stroke-opacity:0.7;stroke-width:0.3;\" x=\"155.71125\" y=\"25.146818\" xlink:href=\"#m13a244f415\" />\n     <use style=\"fill:#4575b4;fill-opacity:0.7;stroke:#4575b4;stroke-opacity:0.7;stroke-width:0.3;\" x=\"155.296071\" y=\"38.130586\" xlink:href=\"#m13a244f415\" />\n     <use style=\"fill:#4575b4;fill-opacity:0.7;stroke:#4575b4;stroke-opacity:0.7;stroke-width:0.3;\" x=\"154.7425\" y=\"35.350435\" xlink:href=\"#m13a244f415\" />\n     <use style=\"fill:#4575b4;fill-opacity:0.7;stroke:#4575b4;stroke-opacity:0.7;stroke-width:0.3;\" x=\"155.157679\" y=\"23.361505\" xlink:href=\"#m13a244f415\" />\n     <use style=\"fill:#4575b4;fill-opacity:0.7;stroke:#4575b4;stroke-opacity:0.7;stroke-width:0.3;\" x=\"153.358571\" y=\"23.361505\" xlink:href=\"#m13a244f415\" />\n     <use style=\"fill:#4575b4;fill-opacity:0.7;stroke:#4575b4;stroke-opacity:0.7;stroke-width:0.3;\" x=\"152.389821\" y=\"38.130586\" xlink:href=\"#m13a244f415\" />\n     <use style=\"fill:#4575b4;fill-opacity:0.7;stroke:#4575b4;stroke-opacity:0.7;stroke-width:0.3;\" x=\"154.604107\" y=\"43.271231\" xlink:href=\"#m13a244f415\" />\n     <use style=\"fill:#4575b4;fill-opacity:0.7;stroke:#4575b4;stroke-opacity:0.7;stroke-width:0.3;\" x=\"154.7425\" y=\"22.366685\" xlink:href=\"#m13a244f415\" />\n     <use style=\"fill:#4575b4;fill-opacity:0.7;stroke:#4575b4;stroke-opacity:0.7;stroke-width:0.3;\" x=\"152.528214\" y=\"18.978431\" xlink:href=\"#m13a244f415\" />\n     <use style=\"fill:#4575b4;fill-opacity:0.7;stroke:#4575b4;stroke-opacity:0.7;stroke-width:0.3;\" x=\"17.18\" y=\"40.52511\" xlink:href=\"#m13a244f415\" />\n     <use style=\"fill:#4575b4;fill-opacity:0.7;stroke:#4575b4;stroke-opacity:0.7;stroke-width:0.3;\" x=\"155.988036\" y=\"16.937611\" xlink:href=\"#m13a244f415\" />\n     <use style=\"fill:#4575b4;fill-opacity:0.7;stroke:#4575b4;stroke-opacity:0.7;stroke-width:0.3;\" x=\"154.465714\" y=\"43.271231\" xlink:href=\"#m13a244f415\" />\n     <use style=\"fill:#4575b4;fill-opacity:0.7;stroke:#4575b4;stroke-opacity:0.7;stroke-width:0.3;\" x=\"152.113036\" y=\"51.878998\" xlink:href=\"#m13a244f415\" />\n     <use style=\"fill:#4575b4;fill-opacity:0.7;stroke:#4575b4;stroke-opacity:0.7;stroke-width:0.3;\" x=\"155.296071\" y=\"44.283986\" xlink:href=\"#m13a244f415\" />\n     <use style=\"fill:#4575b4;fill-opacity:0.7;stroke:#4575b4;stroke-opacity:0.7;stroke-width:0.3;\" x=\"154.188929\" y=\"49.672741\" xlink:href=\"#m13a244f415\" />\n     <use style=\"fill:#4575b4;fill-opacity:0.7;stroke:#4575b4;stroke-opacity:0.7;stroke-width:0.3;\" x=\"155.71125\" y=\"51.878998\" xlink:href=\"#m13a244f415\" />\n     <use style=\"fill:#4575b4;fill-opacity:0.7;stroke:#4575b4;stroke-opacity:0.7;stroke-width:0.3;\" x=\"156.126429\" y=\"43.770758\" xlink:href=\"#m13a244f415\" />\n     <use style=\"fill:#4575b4;fill-opacity:0.7;stroke:#4575b4;stroke-opacity:0.7;stroke-width:0.3;\" x=\"153.220179\" y=\"21.731643\" xlink:href=\"#m13a244f415\" />\n     <use style=\"fill:#4575b4;fill-opacity:0.7;stroke:#4575b4;stroke-opacity:0.7;stroke-width:0.3;\" x=\"155.296071\" y=\"46.490261\" xlink:href=\"#m13a244f415\" />\n     <use style=\"fill:#4575b4;fill-opacity:0.7;stroke:#4575b4;stroke-opacity:0.7;stroke-width:0.3;\" x=\"151.974643\" y=\"55.294174\" xlink:href=\"#m13a244f415\" />\n     <use style=\"fill:#4575b4;fill-opacity:0.7;stroke:#4575b4;stroke-opacity:0.7;stroke-width:0.3;\" x=\"152.251429\" y=\"36.007754\" xlink:href=\"#m13a244f415\" />\n     <use style=\"fill:#4575b4;fill-opacity:0.7;stroke:#4575b4;stroke-opacity:0.7;stroke-width:0.3;\" x=\"155.296071\" y=\"45.913848\" xlink:href=\"#m13a244f415\" />\n     <use style=\"fill:#4575b4;fill-opacity:0.7;stroke:#4575b4;stroke-opacity:0.7;stroke-width:0.3;\" x=\"152.528214\" y=\"20.232313\" xlink:href=\"#m13a244f415\" />\n     <use style=\"fill:#4575b4;fill-opacity:0.7;stroke:#4575b4;stroke-opacity:0.7;stroke-width:0.3;\" x=\"153.912143\" y=\"26.708691\" xlink:href=\"#m13a244f415\" />\n     <use style=\"fill:#4575b4;fill-opacity:0.7;stroke:#4575b4;stroke-opacity:0.7;stroke-width:0.3;\" x=\"155.434464\" y=\"38.130586\" xlink:href=\"#m13a244f415\" />\n     <use style=\"fill:#4575b4;fill-opacity:0.7;stroke:#4575b4;stroke-opacity:0.7;stroke-width:0.3;\" x=\"17.18\" y=\"48.334203\" xlink:href=\"#m13a244f415\" />\n     <use style=\"fill:#4575b4;fill-opacity:0.7;stroke:#4575b4;stroke-opacity:0.7;stroke-width:0.3;\" x=\"154.880893\" y=\"51.878998\" xlink:href=\"#m13a244f415\" />\n     <use style=\"fill:#4575b4;fill-opacity:0.7;stroke:#4575b4;stroke-opacity:0.7;stroke-width:0.3;\" x=\"17.18\" y=\"33.506493\" xlink:href=\"#m13a244f415\" />\n     <use style=\"fill:#4575b4;fill-opacity:0.7;stroke:#4575b4;stroke-opacity:0.7;stroke-width:0.3;\" x=\"17.18\" y=\"51.878998\" xlink:href=\"#m13a244f415\" />\n     <use style=\"fill:#4575b4;fill-opacity:0.7;stroke:#4575b4;stroke-opacity:0.7;stroke-width:0.3;\" x=\"154.604107\" y=\"14.988219\" xlink:href=\"#m13a244f415\" />\n     <use style=\"fill:#4575b4;fill-opacity:0.7;stroke:#4575b4;stroke-opacity:0.7;stroke-width:0.3;\" x=\"155.572857\" y=\"39.692458\" xlink:href=\"#m13a244f415\" />\n     <use style=\"fill:#4575b4;fill-opacity:0.7;stroke:#4575b4;stroke-opacity:0.7;stroke-width:0.3;\" x=\"155.572857\" y=\"36.688974\" xlink:href=\"#m13a244f415\" />\n     <use style=\"fill:#4575b4;fill-opacity:0.7;stroke:#4575b4;stroke-opacity:0.7;stroke-width:0.3;\" x=\"153.912143\" y=\"33.506493\" xlink:href=\"#m13a244f415\" />\n     <use style=\"fill:#4575b4;fill-opacity:0.7;stroke:#4575b4;stroke-opacity:0.7;stroke-width:0.3;\" x=\"152.943393\" y=\"40.52511\" xlink:href=\"#m13a244f415\" />\n     <use style=\"fill:#4575b4;fill-opacity:0.7;stroke:#4575b4;stroke-opacity:0.7;stroke-width:0.3;\" x=\"153.635357\" y=\"32.097446\" xlink:href=\"#m13a244f415\" />\n     <use style=\"fill:#4575b4;fill-opacity:0.7;stroke:#4575b4;stroke-opacity:0.7;stroke-width:0.3;\" x=\"154.880893\" y=\"12.163069\" xlink:href=\"#m13a244f415\" />\n     <use style=\"fill:#4575b4;fill-opacity:0.7;stroke:#4575b4;stroke-opacity:0.7;stroke-width:0.3;\" x=\"156.403214\" y=\"14.771673\" xlink:href=\"#m13a244f415\" />\n     <use style=\"fill:#4575b4;fill-opacity:0.7;stroke:#4575b4;stroke-opacity:0.7;stroke-width:0.3;\" x=\"154.880893\" y=\"38.895248\" xlink:href=\"#m13a244f415\" />\n     <use style=\"fill:#4575b4;fill-opacity:0.7;stroke:#4575b4;stroke-opacity:0.7;stroke-width:0.3;\" x=\"155.019286\" y=\"48.991504\" xlink:href=\"#m13a244f415\" />\n     <use style=\"fill:#4575b4;fill-opacity:0.7;stroke:#4575b4;stroke-opacity:0.7;stroke-width:0.3;\" x=\"156.126429\" y=\"22.046476\" xlink:href=\"#m13a244f415\" />\n     <use style=\"fill:#4575b4;fill-opacity:0.7;stroke:#4575b4;stroke-opacity:0.7;stroke-width:0.3;\" x=\"155.019286\" y=\"33.506493\" xlink:href=\"#m13a244f415\" />\n     <use style=\"fill:#4575b4;fill-opacity:0.7;stroke:#4575b4;stroke-opacity:0.7;stroke-width:0.3;\" x=\"153.912143\" y=\"58.338424\" xlink:href=\"#m13a244f415\" />\n     <use style=\"fill:#4575b4;fill-opacity:0.7;stroke:#4575b4;stroke-opacity:0.7;stroke-width:0.3;\" x=\"151.282679\" y=\"40.955736\" xlink:href=\"#m13a244f415\" />\n     <use style=\"fill:#4575b4;fill-opacity:0.7;stroke:#4575b4;stroke-opacity:0.7;stroke-width:0.3;\" x=\"155.71125\" y=\"34.101198\" xlink:href=\"#m13a244f415\" />\n     <use style=\"fill:#4575b4;fill-opacity:0.7;stroke:#4575b4;stroke-opacity:0.7;stroke-width:0.3;\" x=\"155.019286\" y=\"34.405777\" xlink:href=\"#m13a244f415\" />\n     <use style=\"fill:#4575b4;fill-opacity:0.7;stroke:#4575b4;stroke-opacity:0.7;stroke-width:0.3;\" x=\"155.157679\" y=\"37.395918\" xlink:href=\"#m13a244f415\" />\n     <use style=\"fill:#4575b4;fill-opacity:0.7;stroke:#4575b4;stroke-opacity:0.7;stroke-width:0.3;\" x=\"17.18\" y=\"45.913848\" xlink:href=\"#m13a244f415\" />\n     <use style=\"fill:#4575b4;fill-opacity:0.7;stroke:#4575b4;stroke-opacity:0.7;stroke-width:0.3;\" x=\"155.296071\" y=\"39.289611\" xlink:href=\"#m13a244f415\" />\n     <use style=\"fill:#4575b4;fill-opacity:0.7;stroke:#4575b4;stroke-opacity:0.7;stroke-width:0.3;\" x=\"17.18\" y=\"51.114336\" xlink:href=\"#m13a244f415\" />\n     <use style=\"fill:#4575b4;fill-opacity:0.7;stroke:#4575b4;stroke-opacity:0.7;stroke-width:0.3;\" x=\"17.18\" y=\"30.287463\" xlink:href=\"#m13a244f415\" />\n     <use style=\"fill:#4575b4;fill-opacity:0.7;stroke:#4575b4;stroke-opacity:0.7;stroke-width:0.3;\" x=\"155.434464\" y=\"37.395918\" xlink:href=\"#m13a244f415\" />\n     <use style=\"fill:#4575b4;fill-opacity:0.7;stroke:#4575b4;stroke-opacity:0.7;stroke-width:0.3;\" x=\"155.572857\" y=\"27.120399\" xlink:href=\"#m13a244f415\" />\n     <use style=\"fill:#4575b4;fill-opacity:0.7;stroke:#4575b4;stroke-opacity:0.7;stroke-width:0.3;\" x=\"156.264821\" y=\"34.715411\" xlink:href=\"#m13a244f415\" />\n     <use style=\"fill:#4575b4;fill-opacity:0.7;stroke:#4575b4;stroke-opacity:0.7;stroke-width:0.3;\" x=\"17.18\" y=\"38.895248\" xlink:href=\"#m13a244f415\" />\n     <use style=\"fill:#4575b4;fill-opacity:0.7;stroke:#4575b4;stroke-opacity:0.7;stroke-width:0.3;\" x=\"153.496964\" y=\"51.878998\" xlink:href=\"#m13a244f415\" />\n     <use style=\"fill:#4575b4;fill-opacity:0.7;stroke:#4575b4;stroke-opacity:0.7;stroke-width:0.3;\" x=\"155.434464\" y=\"34.715411\" xlink:href=\"#m13a244f415\" />\n     <use style=\"fill:#4575b4;fill-opacity:0.7;stroke:#4575b4;stroke-opacity:0.7;stroke-width:0.3;\" x=\"153.358571\" y=\"43.271231\" xlink:href=\"#m13a244f415\" />\n     <use style=\"fill:#4575b4;fill-opacity:0.7;stroke:#4575b4;stroke-opacity:0.7;stroke-width:0.3;\" x=\"155.988036\" y=\"38.130586\" xlink:href=\"#m13a244f415\" />\n     <use style=\"fill:#4575b4;fill-opacity:0.7;stroke:#4575b4;stroke-opacity:0.7;stroke-width:0.3;\" x=\"155.434464\" y=\"46.490261\" xlink:href=\"#m13a244f415\" />\n     <use style=\"fill:#4575b4;fill-opacity:0.7;stroke:#4575b4;stroke-opacity:0.7;stroke-width:0.3;\" x=\"156.126429\" y=\"36.007754\" xlink:href=\"#m13a244f415\" />\n     <use style=\"fill:#4575b4;fill-opacity:0.7;stroke:#4575b4;stroke-opacity:0.7;stroke-width:0.3;\" x=\"155.434464\" y=\"49.672741\" xlink:href=\"#m13a244f415\" />\n     <use style=\"fill:#4575b4;fill-opacity:0.7;stroke:#4575b4;stroke-opacity:0.7;stroke-width:0.3;\" x=\"153.912143\" y=\"41.847893\" xlink:href=\"#m13a244f415\" />\n     <use style=\"fill:#4575b4;fill-opacity:0.7;stroke:#4575b4;stroke-opacity:0.7;stroke-width:0.3;\" x=\"156.403214\" y=\"32.370906\" xlink:href=\"#m13a244f415\" />\n     <use style=\"fill:#4575b4;fill-opacity:0.7;stroke:#4575b4;stroke-opacity:0.7;stroke-width:0.3;\" x=\"153.77375\" y=\"38.509014\" xlink:href=\"#m13a244f415\" />\n     <use style=\"fill:#4575b4;fill-opacity:0.7;stroke:#4575b4;stroke-opacity:0.7;stroke-width:0.3;\" x=\"153.912143\" y=\"31.300236\" xlink:href=\"#m13a244f415\" />\n     <use style=\"fill:#4575b4;fill-opacity:0.7;stroke:#4575b4;stroke-opacity:0.7;stroke-width:0.3;\" x=\"155.157679\" y=\"35.350435\" xlink:href=\"#m13a244f415\" />\n     <use style=\"fill:#4575b4;fill-opacity:0.7;stroke:#4575b4;stroke-opacity:0.7;stroke-width:0.3;\" x=\"152.666607\" y=\"45.354656\" xlink:href=\"#m13a244f415\" />\n     <use style=\"fill:#4575b4;fill-opacity:0.7;stroke:#4575b4;stroke-opacity:0.7;stroke-width:0.3;\" x=\"156.264821\" y=\"23.361505\" xlink:href=\"#m13a244f415\" />\n     <use style=\"fill:#4575b4;fill-opacity:0.7;stroke:#4575b4;stroke-opacity:0.7;stroke-width:0.3;\" x=\"155.157679\" y=\"42.310424\" xlink:href=\"#m13a244f415\" />\n     <use style=\"fill:#4575b4;fill-opacity:0.7;stroke:#4575b4;stroke-opacity:0.7;stroke-width:0.3;\" x=\"17.18\" y=\"58.897616\" xlink:href=\"#m13a244f415\" />\n     <use style=\"fill:#4575b4;fill-opacity:0.7;stroke:#4575b4;stroke-opacity:0.7;stroke-width:0.3;\" x=\"155.019286\" y=\"27.541343\" xlink:href=\"#m13a244f415\" />\n     <use style=\"fill:#4575b4;fill-opacity:0.7;stroke:#4575b4;stroke-opacity:0.7;stroke-width:0.3;\" x=\"152.943393\" y=\"42.310424\" xlink:href=\"#m13a244f415\" />\n     <use style=\"fill:#4575b4;fill-opacity:0.7;stroke:#4575b4;stroke-opacity:0.7;stroke-width:0.3;\" x=\"153.77375\" y=\"40.52511\" xlink:href=\"#m13a244f415\" />\n     <use style=\"fill:#4575b4;fill-opacity:0.7;stroke:#4575b4;stroke-opacity:0.7;stroke-width:0.3;\" x=\"155.019286\" y=\"30.787008\" xlink:href=\"#m13a244f415\" />\n     <use style=\"fill:#4575b4;fill-opacity:0.7;stroke:#4575b4;stroke-opacity:0.7;stroke-width:0.3;\" x=\"153.635357\" y=\"26.107626\" xlink:href=\"#m13a244f415\" />\n     <use style=\"fill:#4575b4;fill-opacity:0.7;stroke:#4575b4;stroke-opacity:0.7;stroke-width:0.3;\" x=\"152.528214\" y=\"20.232313\" xlink:href=\"#m13a244f415\" />\n     <use style=\"fill:#4575b4;fill-opacity:0.7;stroke:#4575b4;stroke-opacity:0.7;stroke-width:0.3;\" x=\"155.157679\" y=\"29.326656\" xlink:href=\"#m13a244f415\" />\n     <use style=\"fill:#4575b4;fill-opacity:0.7;stroke:#4575b4;stroke-opacity:0.7;stroke-width:0.3;\" x=\"153.912143\" y=\"49.329023\" xlink:href=\"#m13a244f415\" />\n     <use style=\"fill:#4575b4;fill-opacity:0.7;stroke:#4575b4;stroke-opacity:0.7;stroke-width:0.3;\" x=\"153.358571\" y=\"50.379668\" xlink:href=\"#m13a244f415\" />\n     <use style=\"fill:#4575b4;fill-opacity:0.7;stroke:#4575b4;stroke-opacity:0.7;stroke-width:0.3;\" x=\"154.050536\" y=\"43.770758\" xlink:href=\"#m13a244f415\" />\n     <use style=\"fill:#4575b4;fill-opacity:0.7;stroke:#4575b4;stroke-opacity:0.7;stroke-width:0.3;\" x=\"153.912143\" y=\"32.930098\" xlink:href=\"#m13a244f415\" />\n     <use style=\"fill:#4575b4;fill-opacity:0.7;stroke:#4575b4;stroke-opacity:0.7;stroke-width:0.3;\" x=\"155.71125\" y=\"40.955736\" xlink:href=\"#m13a244f415\" />\n     <use style=\"fill:#4575b4;fill-opacity:0.7;stroke:#4575b4;stroke-opacity:0.7;stroke-width:0.3;\" x=\"153.358571\" y=\"44.283986\" xlink:href=\"#m13a244f415\" />\n     <use style=\"fill:#4575b4;fill-opacity:0.7;stroke:#4575b4;stroke-opacity:0.7;stroke-width:0.3;\" x=\"154.880893\" y=\"59.474011\" xlink:href=\"#m13a244f415\" />\n     <use style=\"fill:#4575b4;fill-opacity:0.7;stroke:#4575b4;stroke-opacity:0.7;stroke-width:0.3;\" x=\"154.604107\" y=\"19.387138\" xlink:href=\"#m13a244f415\" />\n     <use style=\"fill:#4575b4;fill-opacity:0.7;stroke:#4575b4;stroke-opacity:0.7;stroke-width:0.3;\" x=\"153.496964\" y=\"40.52511\" xlink:href=\"#m13a244f415\" />\n     <use style=\"fill:#4575b4;fill-opacity:0.7;stroke:#4575b4;stroke-opacity:0.7;stroke-width:0.3;\" x=\"156.541607\" y=\"19.525386\" xlink:href=\"#m13a244f415\" />\n     <use style=\"fill:#4575b4;fill-opacity:0.7;stroke:#4575b4;stroke-opacity:0.7;stroke-width:0.3;\" x=\"154.465714\" y=\"48.334203\" xlink:href=\"#m13a244f415\" />\n     <use style=\"fill:#4575b4;fill-opacity:0.7;stroke:#4575b4;stroke-opacity:0.7;stroke-width:0.3;\" x=\"156.126429\" y=\"33.506493\" xlink:href=\"#m13a244f415\" />\n     <use style=\"fill:#4575b4;fill-opacity:0.7;stroke:#4575b4;stroke-opacity:0.7;stroke-width:0.3;\" x=\"156.403214\" y=\"14.136631\" xlink:href=\"#m13a244f415\" />\n     <use style=\"fill:#4575b4;fill-opacity:0.7;stroke:#4575b4;stroke-opacity:0.7;stroke-width:0.3;\" x=\"153.635357\" y=\"30.787008\" xlink:href=\"#m13a244f415\" />\n     <use style=\"fill:#4575b4;fill-opacity:0.7;stroke:#4575b4;stroke-opacity:0.7;stroke-width:0.3;\" x=\"153.635357\" y=\"29.326656\" xlink:href=\"#m13a244f415\" />\n     <use style=\"fill:#4575b4;fill-opacity:0.7;stroke:#4575b4;stroke-opacity:0.7;stroke-width:0.3;\" x=\"156.403214\" y=\"17.551806\" xlink:href=\"#m13a244f415\" />\n     <use style=\"fill:#4575b4;fill-opacity:0.7;stroke:#4575b4;stroke-opacity:0.7;stroke-width:0.3;\" x=\"153.358571\" y=\"47.699161\" xlink:href=\"#m13a244f415\" />\n     <use style=\"fill:#4575b4;fill-opacity:0.7;stroke:#4575b4;stroke-opacity:0.7;stroke-width:0.3;\" x=\"155.157679\" y=\"33.506493\" xlink:href=\"#m13a244f415\" />\n     <use style=\"fill:#4575b4;fill-opacity:0.7;stroke:#4575b4;stroke-opacity:0.7;stroke-width:0.3;\" x=\"17.18\" y=\"39.692458\" xlink:href=\"#m13a244f415\" />\n     <use style=\"fill:#4575b4;fill-opacity:0.7;stroke:#4575b4;stroke-opacity:0.7;stroke-width:0.3;\" x=\"156.126429\" y=\"28.191069\" xlink:href=\"#m13a244f415\" />\n     <use style=\"fill:#4575b4;fill-opacity:0.7;stroke:#4575b4;stroke-opacity:0.7;stroke-width:0.3;\" x=\"155.434464\" y=\"21.731643\" xlink:href=\"#m13a244f415\" />\n     <use style=\"fill:#4575b4;fill-opacity:0.7;stroke:#4575b4;stroke-opacity:0.7;stroke-width:0.3;\" x=\"156.264821\" y=\"18.844148\" xlink:href=\"#m13a244f415\" />\n     <use style=\"fill:#4575b4;fill-opacity:0.7;stroke:#4575b4;stroke-opacity:0.7;stroke-width:0.3;\" x=\"17.18\" y=\"30.787008\" xlink:href=\"#m13a244f415\" />\n     <use style=\"fill:#4575b4;fill-opacity:0.7;stroke:#4575b4;stroke-opacity:0.7;stroke-width:0.3;\" x=\"154.188929\" y=\"25.146818\" xlink:href=\"#m13a244f415\" />\n     <use style=\"fill:#4575b4;fill-opacity:0.7;stroke:#4575b4;stroke-opacity:0.7;stroke-width:0.3;\" x=\"151.697857\" y=\"51.878998\" xlink:href=\"#m13a244f415\" />\n     <use style=\"fill:#4575b4;fill-opacity:0.7;stroke:#4575b4;stroke-opacity:0.7;stroke-width:0.3;\" x=\"17.18\" y=\"33.506493\" xlink:href=\"#m13a244f415\" />\n     <use style=\"fill:#4575b4;fill-opacity:0.7;stroke:#4575b4;stroke-opacity:0.7;stroke-width:0.3;\" x=\"155.572857\" y=\"45.913848\" xlink:href=\"#m13a244f415\" />\n     <use style=\"fill:#4575b4;fill-opacity:0.7;stroke:#4575b4;stroke-opacity:0.7;stroke-width:0.3;\" x=\"154.7425\" y=\"27.120399\" xlink:href=\"#m13a244f415\" />\n     <use style=\"fill:#4575b4;fill-opacity:0.7;stroke:#4575b4;stroke-opacity:0.7;stroke-width:0.3;\" x=\"153.496964\" y=\"42.784655\" xlink:href=\"#m13a244f415\" />\n     <use style=\"fill:#4575b4;fill-opacity:0.7;stroke:#4575b4;stroke-opacity:0.7;stroke-width:0.3;\" x=\"17.18\" y=\"17.058835\" xlink:href=\"#m13a244f415\" />\n     <use style=\"fill:#4575b4;fill-opacity:0.7;stroke:#4575b4;stroke-opacity:0.7;stroke-width:0.3;\" x=\"154.604107\" y=\"42.310424\" xlink:href=\"#m13a244f415\" />\n     <use style=\"fill:#4575b4;fill-opacity:0.7;stroke:#4575b4;stroke-opacity:0.7;stroke-width:0.3;\" x=\"152.805\" y=\"46.490261\" xlink:href=\"#m13a244f415\" />\n     <use style=\"fill:#4575b4;fill-opacity:0.7;stroke:#4575b4;stroke-opacity:0.7;stroke-width:0.3;\" x=\"155.157679\" y=\"27.120399\" xlink:href=\"#m13a244f415\" />\n     <use style=\"fill:#4575b4;fill-opacity:0.7;stroke:#4575b4;stroke-opacity:0.7;stroke-width:0.3;\" x=\"156.126429\" y=\"10.721456\" xlink:href=\"#m13a244f415\" />\n     <use style=\"fill:#4575b4;fill-opacity:0.7;stroke:#4575b4;stroke-opacity:0.7;stroke-width:0.3;\" x=\"151.83625\" y=\"59.474011\" xlink:href=\"#m13a244f415\" />\n     <use style=\"fill:#4575b4;fill-opacity:0.7;stroke:#4575b4;stroke-opacity:0.7;stroke-width:0.3;\" x=\"153.77375\" y=\"27.541343\" xlink:href=\"#m13a244f415\" />\n     <use style=\"fill:#4575b4;fill-opacity:0.7;stroke:#4575b4;stroke-opacity:0.7;stroke-width:0.3;\" x=\"17.18\" y=\"36.345273\" xlink:href=\"#m13a244f415\" />\n     <use style=\"fill:#4575b4;fill-opacity:0.7;stroke:#4575b4;stroke-opacity:0.7;stroke-width:0.3;\" x=\"152.113036\" y=\"36.345273\" xlink:href=\"#m13a244f415\" />\n     <use style=\"fill:#4575b4;fill-opacity:0.7;stroke:#4575b4;stroke-opacity:0.7;stroke-width:0.3;\" x=\"154.7425\" y=\"50.379668\" xlink:href=\"#m13a244f415\" />\n     <use style=\"fill:#4575b4;fill-opacity:0.7;stroke:#4575b4;stroke-opacity:0.7;stroke-width:0.3;\" x=\"156.264821\" y=\"33.506493\" xlink:href=\"#m13a244f415\" />\n     <use style=\"fill:#4575b4;fill-opacity:0.7;stroke:#4575b4;stroke-opacity:0.7;stroke-width:0.3;\" x=\"154.880893\" y=\"34.715411\" xlink:href=\"#m13a244f415\" />\n     <use style=\"fill:#4575b4;fill-opacity:0.7;stroke:#4575b4;stroke-opacity:0.7;stroke-width:0.3;\" x=\"153.496964\" y=\"31.300236\" xlink:href=\"#m13a244f415\" />\n     <use style=\"fill:#4575b4;fill-opacity:0.7;stroke:#4575b4;stroke-opacity:0.7;stroke-width:0.3;\" x=\"151.421071\" y=\"48.334203\" xlink:href=\"#m13a244f415\" />\n     <use style=\"fill:#4575b4;fill-opacity:0.7;stroke:#4575b4;stroke-opacity:0.7;stroke-width:0.3;\" x=\"154.327321\" y=\"25.525246\" xlink:href=\"#m13a244f415\" />\n     <use style=\"fill:#4575b4;fill-opacity:0.7;stroke:#4575b4;stroke-opacity:0.7;stroke-width:0.3;\" x=\"155.296071\" y=\"42.310424\" xlink:href=\"#m13a244f415\" />\n     <use style=\"fill:#4575b4;fill-opacity:0.7;stroke:#4575b4;stroke-opacity:0.7;stroke-width:0.3;\" x=\"155.572857\" y=\"40.104149\" xlink:href=\"#m13a244f415\" />\n     <use style=\"fill:#4575b4;fill-opacity:0.7;stroke:#4575b4;stroke-opacity:0.7;stroke-width:0.3;\" x=\"154.604107\" y=\"25.146818\" xlink:href=\"#m13a244f415\" />\n     <use style=\"fill:#4575b4;fill-opacity:0.7;stroke:#4575b4;stroke-opacity:0.7;stroke-width:0.3;\" x=\"151.559464\" y=\"48.991504\" xlink:href=\"#m13a244f415\" />\n     <use style=\"fill:#4575b4;fill-opacity:0.7;stroke:#4575b4;stroke-opacity:0.7;stroke-width:0.3;\" x=\"17.18\" y=\"47.084966\" xlink:href=\"#m13a244f415\" />\n     <use style=\"fill:#4575b4;fill-opacity:0.7;stroke:#4575b4;stroke-opacity:0.7;stroke-width:0.3;\" x=\"155.988036\" y=\"57.267754\" xlink:href=\"#m13a244f415\" />\n     <use style=\"fill:#4575b4;fill-opacity:0.7;stroke:#4575b4;stroke-opacity:0.7;stroke-width:0.3;\" x=\"154.188929\" y=\"55.294174\" xlink:href=\"#m13a244f415\" />\n     <use style=\"fill:#4575b4;fill-opacity:0.7;stroke:#4575b4;stroke-opacity:0.7;stroke-width:0.3;\" x=\"153.77375\" y=\"41.396491\" xlink:href=\"#m13a244f415\" />\n     <use style=\"fill:#4575b4;fill-opacity:0.7;stroke:#4575b4;stroke-opacity:0.7;stroke-width:0.3;\" x=\"154.880893\" y=\"48.991504\" xlink:href=\"#m13a244f415\" />\n     <use style=\"fill:#4575b4;fill-opacity:0.7;stroke:#4575b4;stroke-opacity:0.7;stroke-width:0.3;\" x=\"156.541607\" y=\"12.163069\" xlink:href=\"#m13a244f415\" />\n     <use style=\"fill:#4575b4;fill-opacity:0.7;stroke:#4575b4;stroke-opacity:0.7;stroke-width:0.3;\" x=\"153.912143\" y=\"40.52511\" xlink:href=\"#m13a244f415\" />\n     <use style=\"fill:#4575b4;fill-opacity:0.7;stroke:#4575b4;stroke-opacity:0.7;stroke-width:0.3;\" x=\"155.296071\" y=\"57.267754\" xlink:href=\"#m13a244f415\" />\n     <use style=\"fill:#4575b4;fill-opacity:0.7;stroke:#4575b4;stroke-opacity:0.7;stroke-width:0.3;\" x=\"155.988036\" y=\"43.770758\" xlink:href=\"#m13a244f415\" />\n     <use style=\"fill:#4575b4;fill-opacity:0.7;stroke:#4575b4;stroke-opacity:0.7;stroke-width:0.3;\" x=\"155.296071\" y=\"31.827916\" xlink:href=\"#m13a244f415\" />\n     <use style=\"fill:#4575b4;fill-opacity:0.7;stroke:#4575b4;stroke-opacity:0.7;stroke-width:0.3;\" x=\"152.666607\" y=\"16.342906\" xlink:href=\"#m13a244f415\" />\n     <use style=\"fill:#4575b4;fill-opacity:0.7;stroke:#4575b4;stroke-opacity:0.7;stroke-width:0.3;\" x=\"17.18\" y=\"40.104149\" xlink:href=\"#m13a244f415\" />\n     <use style=\"fill:#4575b4;fill-opacity:0.7;stroke:#4575b4;stroke-opacity:0.7;stroke-width:0.3;\" x=\"155.019286\" y=\"28.191069\" xlink:href=\"#m13a244f415\" />\n     <use style=\"fill:#4575b4;fill-opacity:0.7;stroke:#4575b4;stroke-opacity:0.7;stroke-width:0.3;\" x=\"155.71125\" y=\"30.787008\" xlink:href=\"#m13a244f415\" />\n     <use style=\"fill:#4575b4;fill-opacity:0.7;stroke:#4575b4;stroke-opacity:0.7;stroke-width:0.3;\" x=\"155.019286\" y=\"42.310424\" xlink:href=\"#m13a244f415\" />\n     <use style=\"fill:#4575b4;fill-opacity:0.7;stroke:#4575b4;stroke-opacity:0.7;stroke-width:0.3;\" x=\"153.635357\" y=\"26.708691\" xlink:href=\"#m13a244f415\" />\n     <use style=\"fill:#4575b4;fill-opacity:0.7;stroke:#4575b4;stroke-opacity:0.7;stroke-width:0.3;\" x=\"156.403214\" y=\"24.055355\" xlink:href=\"#m13a244f415\" />\n     <use style=\"fill:#4575b4;fill-opacity:0.7;stroke:#4575b4;stroke-opacity:0.7;stroke-width:0.3;\" x=\"17.18\" y=\"28.412741\" xlink:href=\"#m13a244f415\" />\n     <use style=\"fill:#4575b4;fill-opacity:0.7;stroke:#4575b4;stroke-opacity:0.7;stroke-width:0.3;\" x=\"155.988036\" y=\"36.345273\" xlink:href=\"#m13a244f415\" />\n     <use style=\"fill:#4575b4;fill-opacity:0.7;stroke:#4575b4;stroke-opacity:0.7;stroke-width:0.3;\" x=\"156.403214\" y=\"39.289611\" xlink:href=\"#m13a244f415\" />\n     <use style=\"fill:#4575b4;fill-opacity:0.7;stroke:#4575b4;stroke-opacity:0.7;stroke-width:0.3;\" x=\"155.296071\" y=\"40.52511\" xlink:href=\"#m13a244f415\" />\n     <use style=\"fill:#4575b4;fill-opacity:0.7;stroke:#4575b4;stroke-opacity:0.7;stroke-width:0.3;\" x=\"154.604107\" y=\"22.692451\" xlink:href=\"#m13a244f415\" />\n     <use style=\"fill:#4575b4;fill-opacity:0.7;stroke:#4575b4;stroke-opacity:0.7;stroke-width:0.3;\" x=\"154.188929\" y=\"56.254981\" xlink:href=\"#m13a244f415\" />\n     <use style=\"fill:#4575b4;fill-opacity:0.7;stroke:#4575b4;stroke-opacity:0.7;stroke-width:0.3;\" x=\"17.18\" y=\"25.525246\" xlink:href=\"#m13a244f415\" />\n     <use style=\"fill:#4575b4;fill-opacity:0.7;stroke:#4575b4;stroke-opacity:0.7;stroke-width:0.3;\" x=\"154.465714\" y=\"31.827916\" xlink:href=\"#m13a244f415\" />\n     <use style=\"fill:#4575b4;fill-opacity:0.7;stroke:#4575b4;stroke-opacity:0.7;stroke-width:0.3;\" x=\"17.18\" y=\"54.380259\" xlink:href=\"#m13a244f415\" />\n     <use style=\"fill:#4575b4;fill-opacity:0.7;stroke:#4575b4;stroke-opacity:0.7;stroke-width:0.3;\" x=\"155.988036\" y=\"38.130586\" xlink:href=\"#m13a244f415\" />\n     <use style=\"fill:#4575b4;fill-opacity:0.7;stroke:#4575b4;stroke-opacity:0.7;stroke-width:0.3;\" x=\"153.77375\" y=\"48.334203\" xlink:href=\"#m13a244f415\" />\n     <use style=\"fill:#4575b4;fill-opacity:0.7;stroke:#4575b4;stroke-opacity:0.7;stroke-width:0.3;\" x=\"154.327321\" y=\"34.715411\" xlink:href=\"#m13a244f415\" />\n     <use style=\"fill:#4575b4;fill-opacity:0.7;stroke:#4575b4;stroke-opacity:0.7;stroke-width:0.3;\" x=\"155.157679\" y=\"26.708691\" xlink:href=\"#m13a244f415\" />\n     <use style=\"fill:#4575b4;fill-opacity:0.7;stroke:#4575b4;stroke-opacity:0.7;stroke-width:0.3;\" x=\"17.18\" y=\"38.895248\" xlink:href=\"#m13a244f415\" />\n     <use style=\"fill:#4575b4;fill-opacity:0.7;stroke:#4575b4;stroke-opacity:0.7;stroke-width:0.3;\" x=\"156.403214\" y=\"34.715411\" xlink:href=\"#m13a244f415\" />\n     <use style=\"fill:#4575b4;fill-opacity:0.7;stroke:#4575b4;stroke-opacity:0.7;stroke-width:0.3;\" x=\"154.7425\" y=\"33.801479\" xlink:href=\"#m13a244f415\" />\n     <use style=\"fill:#4575b4;fill-opacity:0.7;stroke:#4575b4;stroke-opacity:0.7;stroke-width:0.3;\" x=\"156.264821\" y=\"49.672741\" xlink:href=\"#m13a244f415\" />\n     <use style=\"fill:#4575b4;fill-opacity:0.7;stroke:#4575b4;stroke-opacity:0.7;stroke-width:0.3;\" x=\"155.019286\" y=\"42.784655\" xlink:href=\"#m13a244f415\" />\n     <use style=\"fill:#4575b4;fill-opacity:0.7;stroke:#4575b4;stroke-opacity:0.7;stroke-width:0.3;\" x=\"156.264821\" y=\"46.490261\" xlink:href=\"#m13a244f415\" />\n     <use style=\"fill:#4575b4;fill-opacity:0.7;stroke:#4575b4;stroke-opacity:0.7;stroke-width:0.3;\" x=\"156.541607\" y=\"22.528853\" xlink:href=\"#m13a244f415\" />\n     <use style=\"fill:#4575b4;fill-opacity:0.7;stroke:#4575b4;stroke-opacity:0.7;stroke-width:0.3;\" x=\"17.18\" y=\"38.130586\" xlink:href=\"#m13a244f415\" />\n     <use style=\"fill:#4575b4;fill-opacity:0.7;stroke:#4575b4;stroke-opacity:0.7;stroke-width:0.3;\" x=\"17.18\" y=\"53.50886\" xlink:href=\"#m13a244f415\" />\n     <use style=\"fill:#4575b4;fill-opacity:0.7;stroke:#4575b4;stroke-opacity:0.7;stroke-width:0.3;\" x=\"155.019286\" y=\"44.283986\" xlink:href=\"#m13a244f415\" />\n     <use style=\"fill:#4575b4;fill-opacity:0.7;stroke:#4575b4;stroke-opacity:0.7;stroke-width:0.3;\" x=\"155.572857\" y=\"26.91341\" xlink:href=\"#m13a244f415\" />\n     <use style=\"fill:#4575b4;fill-opacity:0.7;stroke:#4575b4;stroke-opacity:0.7;stroke-width:0.3;\" x=\"154.465714\" y=\"24.775893\" xlink:href=\"#m13a244f415\" />\n     <use style=\"fill:#4575b4;fill-opacity:0.7;stroke:#4575b4;stroke-opacity:0.7;stroke-width:0.3;\" x=\"153.77375\" y=\"48.991504\" xlink:href=\"#m13a244f415\" />\n     <use style=\"fill:#4575b4;fill-opacity:0.7;stroke:#4575b4;stroke-opacity:0.7;stroke-width:0.3;\" x=\"154.327321\" y=\"25.911481\" xlink:href=\"#m13a244f415\" />\n     <use style=\"fill:#4575b4;fill-opacity:0.7;stroke:#4575b4;stroke-opacity:0.7;stroke-width:0.3;\" x=\"156.264821\" y=\"22.110071\" xlink:href=\"#m13a244f415\" />\n     <use style=\"fill:#4575b4;fill-opacity:0.7;stroke:#4575b4;stroke-opacity:0.7;stroke-width:0.3;\" x=\"17.18\" y=\"47.699161\" xlink:href=\"#m13a244f415\" />\n     <use style=\"fill:#4575b4;fill-opacity:0.7;stroke:#4575b4;stroke-opacity:0.7;stroke-width:0.3;\" x=\"154.880893\" y=\"16.342906\" xlink:href=\"#m13a244f415\" />\n     <use style=\"fill:#4575b4;fill-opacity:0.7;stroke:#4575b4;stroke-opacity:0.7;stroke-width:0.3;\" x=\"154.465714\" y=\"30.535574\" xlink:href=\"#m13a244f415\" />\n     <use style=\"fill:#4575b4;fill-opacity:0.7;stroke:#4575b4;stroke-opacity:0.7;stroke-width:0.3;\" x=\"154.604107\" y=\"33.21608\" xlink:href=\"#m13a244f415\" />\n     <use style=\"fill:#4575b4;fill-opacity:0.7;stroke:#4575b4;stroke-opacity:0.7;stroke-width:0.3;\" x=\"155.572857\" y=\"26.708691\" xlink:href=\"#m13a244f415\" />\n     <use style=\"fill:#4575b4;fill-opacity:0.7;stroke:#4575b4;stroke-opacity:0.7;stroke-width:0.3;\" x=\"154.050536\" y=\"43.770758\" xlink:href=\"#m13a244f415\" />\n     <use style=\"fill:#4575b4;fill-opacity:0.7;stroke:#4575b4;stroke-opacity:0.7;stroke-width:0.3;\" x=\"155.019286\" y=\"36.688974\" xlink:href=\"#m13a244f415\" />\n     <use style=\"fill:#4575b4;fill-opacity:0.7;stroke:#4575b4;stroke-opacity:0.7;stroke-width:0.3;\" x=\"155.157679\" y=\"46.490261\" xlink:href=\"#m13a244f415\" />\n     <use style=\"fill:#4575b4;fill-opacity:0.7;stroke:#4575b4;stroke-opacity:0.7;stroke-width:0.3;\" x=\"154.188929\" y=\"42.310424\" xlink:href=\"#m13a244f415\" />\n     <use style=\"fill:#4575b4;fill-opacity:0.7;stroke:#4575b4;stroke-opacity:0.7;stroke-width:0.3;\" x=\"151.83625\" y=\"43.770758\" xlink:href=\"#m13a244f415\" />\n     <use style=\"fill:#4575b4;fill-opacity:0.7;stroke:#4575b4;stroke-opacity:0.7;stroke-width:0.3;\" x=\"155.157679\" y=\"45.354656\" xlink:href=\"#m13a244f415\" />\n     <use style=\"fill:#4575b4;fill-opacity:0.7;stroke:#4575b4;stroke-opacity:0.7;stroke-width:0.3;\" x=\"151.974643\" y=\"37.395918\" xlink:href=\"#m13a244f415\" />\n     <use style=\"fill:#4575b4;fill-opacity:0.7;stroke:#4575b4;stroke-opacity:0.7;stroke-width:0.3;\" x=\"154.7425\" y=\"45.354656\" xlink:href=\"#m13a244f415\" />\n     <use style=\"fill:#4575b4;fill-opacity:0.7;stroke:#4575b4;stroke-opacity:0.7;stroke-width:0.3;\" x=\"153.635357\" y=\"28.864125\" xlink:href=\"#m13a244f415\" />\n     <use style=\"fill:#4575b4;fill-opacity:0.7;stroke:#4575b4;stroke-opacity:0.7;stroke-width:0.3;\" x=\"156.126429\" y=\"49.672741\" xlink:href=\"#m13a244f415\" />\n     <use style=\"fill:#4575b4;fill-opacity:0.7;stroke:#4575b4;stroke-opacity:0.7;stroke-width:0.3;\" x=\"156.264821\" y=\"38.895248\" xlink:href=\"#m13a244f415\" />\n     <use style=\"fill:#4575b4;fill-opacity:0.7;stroke:#4575b4;stroke-opacity:0.7;stroke-width:0.3;\" x=\"153.358571\" y=\"37.395918\" xlink:href=\"#m13a244f415\" />\n     <use style=\"fill:#4575b4;fill-opacity:0.7;stroke:#4575b4;stroke-opacity:0.7;stroke-width:0.3;\" x=\"153.912143\" y=\"44.283986\" xlink:href=\"#m13a244f415\" />\n     <use style=\"fill:#4575b4;fill-opacity:0.7;stroke:#4575b4;stroke-opacity:0.7;stroke-width:0.3;\" x=\"153.912143\" y=\"33.801479\" xlink:href=\"#m13a244f415\" />\n     <use style=\"fill:#4575b4;fill-opacity:0.7;stroke:#4575b4;stroke-opacity:0.7;stroke-width:0.3;\" x=\"155.849643\" y=\"11.700538\" xlink:href=\"#m13a244f415\" />\n     <use style=\"fill:#4575b4;fill-opacity:0.7;stroke:#4575b4;stroke-opacity:0.7;stroke-width:0.3;\" x=\"156.403214\" y=\"15.207301\" xlink:href=\"#m13a244f415\" />\n     <use style=\"fill:#4575b4;fill-opacity:0.7;stroke:#4575b4;stroke-opacity:0.7;stroke-width:0.3;\" x=\"151.83625\" y=\"43.770758\" xlink:href=\"#m13a244f415\" />\n     <use style=\"fill:#4575b4;fill-opacity:0.7;stroke:#4575b4;stroke-opacity:0.7;stroke-width:0.3;\" x=\"153.496964\" y=\"34.872149\" xlink:href=\"#m13a244f415\" />\n     <use style=\"fill:#4575b4;fill-opacity:0.7;stroke:#4575b4;stroke-opacity:0.7;stroke-width:0.3;\" x=\"153.77375\" y=\"45.354656\" xlink:href=\"#m13a244f415\" />\n     <use style=\"fill:#4575b4;fill-opacity:0.7;stroke:#4575b4;stroke-opacity:0.7;stroke-width:0.3;\" x=\"154.188929\" y=\"13.123876\" xlink:href=\"#m13a244f415\" />\n     <use style=\"fill:#4575b4;fill-opacity:0.7;stroke:#4575b4;stroke-opacity:0.7;stroke-width:0.3;\" x=\"155.434464\" y=\"31.300236\" xlink:href=\"#m13a244f415\" />\n     <use style=\"fill:#4575b4;fill-opacity:0.7;stroke:#4575b4;stroke-opacity:0.7;stroke-width:0.3;\" x=\"156.126429\" y=\"40.52511\" xlink:href=\"#m13a244f415\" />\n     <use style=\"fill:#4575b4;fill-opacity:0.7;stroke:#4575b4;stroke-opacity:0.7;stroke-width:0.3;\" x=\"155.572857\" y=\"31.827916\" xlink:href=\"#m13a244f415\" />\n     <use style=\"fill:#4575b4;fill-opacity:0.7;stroke:#4575b4;stroke-opacity:0.7;stroke-width:0.3;\" x=\"154.050536\" y=\"42.784655\" xlink:href=\"#m13a244f415\" />\n     <use style=\"fill:#4575b4;fill-opacity:0.7;stroke:#4575b4;stroke-opacity:0.7;stroke-width:0.3;\" x=\"155.296071\" y=\"37.395918\" xlink:href=\"#m13a244f415\" />\n     <use style=\"fill:#4575b4;fill-opacity:0.7;stroke:#4575b4;stroke-opacity:0.7;stroke-width:0.3;\" x=\"153.081786\" y=\"58.897616\" xlink:href=\"#m13a244f415\" />\n     <use style=\"fill:#4575b4;fill-opacity:0.7;stroke:#4575b4;stroke-opacity:0.7;stroke-width:0.3;\" x=\"155.988036\" y=\"36.688974\" xlink:href=\"#m13a244f415\" />\n     <use style=\"fill:#4575b4;fill-opacity:0.7;stroke:#4575b4;stroke-opacity:0.7;stroke-width:0.3;\" x=\"153.635357\" y=\"23.361505\" xlink:href=\"#m13a244f415\" />\n     <use style=\"fill:#4575b4;fill-opacity:0.7;stroke:#4575b4;stroke-opacity:0.7;stroke-width:0.3;\" x=\"17.18\" y=\"20.232313\" xlink:href=\"#m13a244f415\" />\n     <use style=\"fill:#4575b4;fill-opacity:0.7;stroke:#4575b4;stroke-opacity:0.7;stroke-width:0.3;\" x=\"156.126429\" y=\"40.104149\" xlink:href=\"#m13a244f415\" />\n     <use style=\"fill:#4575b4;fill-opacity:0.7;stroke:#4575b4;stroke-opacity:0.7;stroke-width:0.3;\" x=\"155.572857\" y=\"52.676208\" xlink:href=\"#m13a244f415\" />\n     <use style=\"fill:#4575b4;fill-opacity:0.7;stroke:#4575b4;stroke-opacity:0.7;stroke-width:0.3;\" x=\"154.880893\" y=\"22.528853\" xlink:href=\"#m13a244f415\" />\n     <use style=\"fill:#4575b4;fill-opacity:0.7;stroke:#4575b4;stroke-opacity:0.7;stroke-width:0.3;\" x=\"156.264821\" y=\"31.300236\" xlink:href=\"#m13a244f415\" />\n     <use style=\"fill:#4575b4;fill-opacity:0.7;stroke:#4575b4;stroke-opacity:0.7;stroke-width:0.3;\" x=\"17.18\" y=\"34.715411\" xlink:href=\"#m13a244f415\" />\n     <use style=\"fill:#4575b4;fill-opacity:0.7;stroke:#4575b4;stroke-opacity:0.7;stroke-width:0.3;\" x=\"155.019286\" y=\"27.971969\" xlink:href=\"#m13a244f415\" />\n     <use style=\"fill:#4575b4;fill-opacity:0.7;stroke:#4575b4;stroke-opacity:0.7;stroke-width:0.3;\" x=\"154.604107\" y=\"34.715411\" xlink:href=\"#m13a244f415\" />\n     <use style=\"fill:#4575b4;fill-opacity:0.7;stroke:#4575b4;stroke-opacity:0.7;stroke-width:0.3;\" x=\"154.465714\" y=\"27.120399\" xlink:href=\"#m13a244f415\" />\n     <use style=\"fill:#4575b4;fill-opacity:0.7;stroke:#4575b4;stroke-opacity:0.7;stroke-width:0.3;\" x=\"154.880893\" y=\"25.146818\" xlink:href=\"#m13a244f415\" />\n     <use style=\"fill:#4575b4;fill-opacity:0.7;stroke:#4575b4;stroke-opacity:0.7;stroke-width:0.3;\" x=\"156.403214\" y=\"52.676208\" xlink:href=\"#m13a244f415\" />\n     <use style=\"fill:#4575b4;fill-opacity:0.7;stroke:#4575b4;stroke-opacity:0.7;stroke-width:0.3;\" x=\"154.604107\" y=\"41.396491\" xlink:href=\"#m13a244f415\" />\n     <use style=\"fill:#4575b4;fill-opacity:0.7;stroke:#4575b4;stroke-opacity:0.7;stroke-width:0.3;\" x=\"155.296071\" y=\"18.978431\" xlink:href=\"#m13a244f415\" />\n     <use style=\"fill:#4575b4;fill-opacity:0.7;stroke:#4575b4;stroke-opacity:0.7;stroke-width:0.3;\" x=\"153.77375\" y=\"27.120399\" xlink:href=\"#m13a244f415\" />\n     <use style=\"fill:#4575b4;fill-opacity:0.7;stroke:#4575b4;stroke-opacity:0.7;stroke-width:0.3;\" x=\"156.126429\" y=\"10.377755\" xlink:href=\"#m13a244f415\" />\n     <use style=\"fill:#4575b4;fill-opacity:0.7;stroke:#4575b4;stroke-opacity:0.7;stroke-width:0.3;\" x=\"154.880893\" y=\"45.354656\" xlink:href=\"#m13a244f415\" />\n     <use style=\"fill:#4575b4;fill-opacity:0.7;stroke:#4575b4;stroke-opacity:0.7;stroke-width:0.3;\" x=\"152.666607\" y=\"28.412741\" xlink:href=\"#m13a244f415\" />\n     <use style=\"fill:#4575b4;fill-opacity:0.7;stroke:#4575b4;stroke-opacity:0.7;stroke-width:0.3;\" x=\"156.403214\" y=\"21.117448\" xlink:href=\"#m13a244f415\" />\n     <use style=\"fill:#4575b4;fill-opacity:0.7;stroke:#4575b4;stroke-opacity:0.7;stroke-width:0.3;\" x=\"155.572857\" y=\"16.342906\" xlink:href=\"#m13a244f415\" />\n     <use style=\"fill:#4575b4;fill-opacity:0.7;stroke:#4575b4;stroke-opacity:0.7;stroke-width:0.3;\" x=\"155.296071\" y=\"21.117448\" xlink:href=\"#m13a244f415\" />\n     <use style=\"fill:#4575b4;fill-opacity:0.7;stroke:#4575b4;stroke-opacity:0.7;stroke-width:0.3;\" x=\"152.805\" y=\"46.490261\" xlink:href=\"#m13a244f415\" />\n     <use style=\"fill:#4575b4;fill-opacity:0.7;stroke:#4575b4;stroke-opacity:0.7;stroke-width:0.3;\" x=\"153.496964\" y=\"46.490261\" xlink:href=\"#m13a244f415\" />\n     <use style=\"fill:#4575b4;fill-opacity:0.7;stroke:#4575b4;stroke-opacity:0.7;stroke-width:0.3;\" x=\"156.403214\" y=\"15.207301\" xlink:href=\"#m13a244f415\" />\n     <use style=\"fill:#4575b4;fill-opacity:0.7;stroke:#4575b4;stroke-opacity:0.7;stroke-width:0.3;\" x=\"155.572857\" y=\"35.350435\" xlink:href=\"#m13a244f415\" />\n     <use style=\"fill:#4575b4;fill-opacity:0.7;stroke:#4575b4;stroke-opacity:0.7;stroke-width:0.3;\" x=\"17.18\" y=\"50.379668\" xlink:href=\"#m13a244f415\" />\n     <use style=\"fill:#4575b4;fill-opacity:0.7;stroke:#4575b4;stroke-opacity:0.7;stroke-width:0.3;\" x=\"152.805\" y=\"54.380259\" xlink:href=\"#m13a244f415\" />\n     <use style=\"fill:#4575b4;fill-opacity:0.7;stroke:#4575b4;stroke-opacity:0.7;stroke-width:0.3;\" x=\"155.849643\" y=\"16.342906\" xlink:href=\"#m13a244f415\" />\n    </g>\n   </g>\n   <g id=\"patch_3\">\n    <path d=\"M 154.396518 61.652848  L 151.885518 67.632448  L 156.907518 67.632448  z \" style=\"fill:#444443;\" />\n   </g>\n   <g id=\"matplotlib.axis_1\">\n    <g id=\"xtick_1\">\n     <g id=\"line2d_1\">\n      <defs>\n       <path d=\"M 0 0  L 0 3.5  \" id=\"m3a09f10b04\" style=\"stroke:#444443;stroke-width:0.3;\" />\n      </defs>\n      <g>\n       <use style=\"fill:#444443;stroke:#444443;stroke-width:0.3;\" x=\"17.18\" y=\"61.652848\" xlink:href=\"#m3a09f10b04\" />\n      </g>\n     </g>\n     <g id=\"text_1\">\n      \n      <defs>\n       <path d=\"M 12.40625 8.296875  L 28.515625 8.296875  L 28.515625 63.921875  L 10.984375 60.40625  L 10.984375 69.390625  L 28.421875 72.90625  L 38.28125 72.90625  L 38.28125 8.296875  L 54.390625 8.296875  L 54.390625 0  L 12.40625 0  z \" id=\"DejaVuSans-49\" />\n       <path d=\"M 31.78125 66.40625  Q 24.171875 66.40625 20.328125 58.90625  Q 16.5 51.421875 16.5 36.375  Q 16.5 21.390625 20.328125 13.890625  Q 24.171875 6.390625 31.78125 6.390625  Q 39.453125 6.390625 43.28125 13.890625  Q 47.125 21.390625 47.125 36.375  Q 47.125 51.421875 43.28125 58.90625  Q 39.453125 66.40625 31.78125 66.40625  z M 31.78125 74.21875  Q 44.046875 74.21875 50.515625 64.515625  Q 56.984375 54.828125 56.984375 36.375  Q 56.984375 17.96875 50.515625 8.265625  Q 44.046875 -1.421875 31.78125 -1.421875  Q 19.53125 -1.421875 13.0625 8.265625  Q 6.59375 17.96875 6.59375 36.375  Q 6.59375 54.828125 13.0625 64.515625  Q 19.53125 74.21875 31.78125 74.21875  z \" id=\"DejaVuSans-48\" />\n      </defs>\n      <g style=\"fill:#444443;\" transform=\"translate(7 74.731598)scale(0.08 -0.08)\">\n       <use xlink:href=\"#DejaVuSans-49\" />\n       <use x=\"63.623047\" xlink:href=\"#DejaVuSans-48\" />\n       <use x=\"127.246094\" xlink:href=\"#DejaVuSans-48\" />\n       <use x=\"190.869141\" xlink:href=\"#DejaVuSans-48\" />\n      </g>\n     </g>\n    </g>\n    <g id=\"xtick_2\">\n     <g id=\"line2d_2\">\n      <g>\n       <use style=\"fill:#444443;stroke:#444443;stroke-width:0.3;\" x=\"156.68\" y=\"61.652848\" xlink:href=\"#m3a09f10b04\" />\n      </g>\n     </g>\n     <g id=\"text_2\">\n      \n      <defs>\n       <path d=\"M 19.1875 8.296875  L 53.609375 8.296875  L 53.609375 0  L 7.328125 0  L 7.328125 8.296875  Q 12.9375 14.109375 22.625 23.890625  Q 32.328125 33.6875 34.8125 36.53125  Q 39.546875 41.84375 41.421875 45.53125  Q 43.3125 49.21875 43.3125 52.78125  Q 43.3125 58.59375 39.234375 62.25  Q 35.15625 65.921875 28.609375 65.921875  Q 23.96875 65.921875 18.8125 64.3125  Q 13.671875 62.703125 7.8125 59.421875  L 7.8125 69.390625  Q 13.765625 71.78125 18.9375 73  Q 24.125 74.21875 28.421875 74.21875  Q 39.75 74.21875 46.484375 68.546875  Q 53.21875 62.890625 53.21875 53.421875  Q 53.21875 48.921875 51.53125 44.890625  Q 49.859375 40.875 45.40625 35.40625  Q 44.1875 33.984375 37.640625 27.21875  Q 31.109375 20.453125 19.1875 8.296875  z \" id=\"DejaVuSans-50\" />\n       <path d=\"M 31.78125 34.625  Q 24.75 34.625 20.71875 30.859375  Q 16.703125 27.09375 16.703125 20.515625  Q 16.703125 13.921875 20.71875 10.15625  Q 24.75 6.390625 31.78125 6.390625  Q 38.8125 6.390625 42.859375 10.171875  Q 46.921875 13.96875 46.921875 20.515625  Q 46.921875 27.09375 42.890625 30.859375  Q 38.875 34.625 31.78125 34.625  z M 21.921875 38.8125  Q 15.578125 40.375 12.03125 44.71875  Q 8.5 49.078125 8.5 55.328125  Q 8.5 64.0625 14.71875 69.140625  Q 20.953125 74.21875 31.78125 74.21875  Q 42.671875 74.21875 48.875 69.140625  Q 55.078125 64.0625 55.078125 55.328125  Q 55.078125 49.078125 51.53125 44.71875  Q 48 40.375 41.703125 38.8125  Q 48.828125 37.15625 52.796875 32.3125  Q 56.78125 27.484375 56.78125 20.515625  Q 56.78125 9.90625 50.3125 4.234375  Q 43.84375 -1.421875 31.78125 -1.421875  Q 19.734375 -1.421875 13.25 4.234375  Q 6.78125 9.90625 6.78125 20.515625  Q 6.78125 27.484375 10.78125 32.3125  Q 14.796875 37.15625 21.921875 38.8125  z M 18.3125 54.390625  Q 18.3125 48.734375 21.84375 45.5625  Q 25.390625 42.390625 31.78125 42.390625  Q 38.140625 42.390625 41.71875 45.5625  Q 45.3125 48.734375 45.3125 54.390625  Q 45.3125 60.0625 41.71875 63.234375  Q 38.140625 66.40625 31.78125 66.40625  Q 25.390625 66.40625 21.84375 63.234375  Q 18.3125 60.0625 18.3125 54.390625  z \" id=\"DejaVuSans-56\" />\n      </defs>\n      <g style=\"fill:#444443;\" transform=\"translate(146.5 74.731598)scale(0.08 -0.08)\">\n       <use xlink:href=\"#DejaVuSans-50\" />\n       <use x=\"63.623047\" xlink:href=\"#DejaVuSans-48\" />\n       <use x=\"127.246094\" xlink:href=\"#DejaVuSans-48\" />\n       <use x=\"190.869141\" xlink:href=\"#DejaVuSans-56\" />\n      </g>\n     </g>\n    </g>\n    <g id=\"text_3\">\n     \n     <defs>\n      <path d=\"M -0.203125 72.90625  L 10.40625 72.90625  L 30.609375 42.921875  L 50.6875 72.90625  L 61.28125 72.90625  L 35.5 34.71875  L 35.5 0  L 25.59375 0  L 25.59375 34.71875  z \" id=\"DejaVuSans-89\" />\n      <path d=\"M 56.203125 29.59375  L 56.203125 25.203125  L 14.890625 25.203125  Q 15.484375 15.921875 20.484375 11.0625  Q 25.484375 6.203125 34.421875 6.203125  Q 39.59375 6.203125 44.453125 7.46875  Q 49.3125 8.734375 54.109375 11.28125  L 54.109375 2.78125  Q 49.265625 0.734375 44.1875 -0.34375  Q 39.109375 -1.421875 33.890625 -1.421875  Q 20.796875 -1.421875 13.15625 6.1875  Q 5.515625 13.8125 5.515625 26.8125  Q 5.515625 40.234375 12.765625 48.109375  Q 20.015625 56 32.328125 56  Q 43.359375 56 49.78125 48.890625  Q 56.203125 41.796875 56.203125 29.59375  z M 47.21875 32.234375  Q 47.125 39.59375 43.09375 43.984375  Q 39.0625 48.390625 32.421875 48.390625  Q 24.90625 48.390625 20.390625 44.140625  Q 15.875 39.890625 15.1875 32.171875  z \" id=\"DejaVuSans-101\" />\n      <path d=\"M 34.28125 27.484375  Q 23.390625 27.484375 19.1875 25  Q 14.984375 22.515625 14.984375 16.5  Q 14.984375 11.71875 18.140625 8.90625  Q 21.296875 6.109375 26.703125 6.109375  Q 34.1875 6.109375 38.703125 11.40625  Q 43.21875 16.703125 43.21875 25.484375  L 43.21875 27.484375  z M 52.203125 31.203125  L 52.203125 0  L 43.21875 0  L 43.21875 8.296875  Q 40.140625 3.328125 35.546875 0.953125  Q 30.953125 -1.421875 24.3125 -1.421875  Q 15.921875 -1.421875 10.953125 3.296875  Q 6 8.015625 6 15.921875  Q 6 25.140625 12.171875 29.828125  Q 18.359375 34.515625 30.609375 34.515625  L 43.21875 34.515625  L 43.21875 35.40625  Q 43.21875 41.609375 39.140625 45  Q 35.0625 48.390625 27.6875 48.390625  Q 23 48.390625 18.546875 47.265625  Q 14.109375 46.140625 10.015625 43.890625  L 10.015625 52.203125  Q 14.9375 54.109375 19.578125 55.046875  Q 24.21875 56 28.609375 56  Q 40.484375 56 46.34375 49.84375  Q 52.203125 43.703125 52.203125 31.203125  z \" id=\"DejaVuSans-97\" />\n      <path d=\"M 41.109375 46.296875  Q 39.59375 47.171875 37.8125 47.578125  Q 36.03125 48 33.890625 48  Q 26.265625 48 22.1875 43.046875  Q 18.109375 38.09375 18.109375 28.8125  L 18.109375 0  L 9.078125 0  L 9.078125 54.6875  L 18.109375 54.6875  L 18.109375 46.1875  Q 20.953125 51.171875 25.484375 53.578125  Q 30.03125 56 36.53125 56  Q 37.453125 56 38.578125 55.875  Q 39.703125 55.765625 41.0625 55.515625  z \" id=\"DejaVuSans-114\" />\n      <path d=\"M 9.8125 72.90625  L 24.515625 72.90625  L 43.109375 23.296875  L 61.8125 72.90625  L 76.515625 72.90625  L 76.515625 0  L 66.890625 0  L 66.890625 64.015625  L 48.09375 14.015625  L 38.1875 14.015625  L 19.390625 64.015625  L 19.390625 0  L 9.8125 0  z \" id=\"DejaVuSans-77\" />\n      <path d=\"M 45.40625 46.390625  L 45.40625 75.984375  L 54.390625 75.984375  L 54.390625 0  L 45.40625 0  L 45.40625 8.203125  Q 42.578125 3.328125 38.25 0.953125  Q 33.9375 -1.421875 27.875 -1.421875  Q 17.96875 -1.421875 11.734375 6.484375  Q 5.515625 14.40625 5.515625 27.296875  Q 5.515625 40.1875 11.734375 48.09375  Q 17.96875 56 27.875 56  Q 33.9375 56 38.25 53.625  Q 42.578125 51.265625 45.40625 46.390625  z M 14.796875 27.296875  Q 14.796875 17.390625 18.875 11.75  Q 22.953125 6.109375 30.078125 6.109375  Q 37.203125 6.109375 41.296875 11.75  Q 45.40625 17.390625 45.40625 27.296875  Q 45.40625 37.203125 41.296875 42.84375  Q 37.203125 48.484375 30.078125 48.484375  Q 22.953125 48.484375 18.875 42.84375  Q 14.796875 37.203125 14.796875 27.296875  z \" id=\"DejaVuSans-100\" />\n     </defs>\n     <g style=\"fill:#444443;\" transform=\"translate(62.713594 87.993786)scale(0.1 -0.1)\">\n      <use xlink:href=\"#DejaVuSans-89\" />\n      <use x=\"47.833984\" xlink:href=\"#DejaVuSans-101\" />\n      <use x=\"109.357422\" xlink:href=\"#DejaVuSans-97\" />\n      <use x=\"170.636719\" xlink:href=\"#DejaVuSans-114\" />\n      <use x=\"211.75\" xlink:href=\"#DejaVuSans-77\" />\n      <use x=\"298.029297\" xlink:href=\"#DejaVuSans-97\" />\n      <use x=\"359.308594\" xlink:href=\"#DejaVuSans-100\" />\n      <use x=\"422.785156\" xlink:href=\"#DejaVuSans-101\" />\n     </g>\n    </g>\n   </g>\n   <g id=\"matplotlib.axis_2\">\n    <g id=\"ytick_1\">\n     <g id=\"line2d_3\">\n      <defs>\n       <path d=\"M 0 0  L -3.5 0  \" id=\"me617ec56f0\" style=\"stroke:#444443;stroke-width:0.3;\" />\n      </defs>\n      <g>\n       <use style=\"fill:#444443;stroke:#444443;stroke-width:0.3;\" x=\"17.18\" y=\"40.502584\" xlink:href=\"#me617ec56f0\" />\n      </g>\n     </g>\n     <g id=\"text_4\">\n      \n      <g style=\"fill:#444443;\" transform=\"translate(0 43.541959)scale(0.08 -0.08)\">\n       <use xlink:href=\"#DejaVuSans-49\" />\n       <use x=\"63.623047\" xlink:href=\"#DejaVuSans-48\" />\n      </g>\n     </g>\n    </g>\n    <g id=\"ytick_2\">\n     <g id=\"line2d_4\">\n      <g>\n       <use style=\"fill:#444443;stroke:#444443;stroke-width:0.3;\" x=\"17.18\" y=\"3.039375\" xlink:href=\"#me617ec56f0\" />\n      </g>\n     </g>\n     <g id=\"text_5\">\n      \n      <g style=\"fill:#444443;\" transform=\"translate(0 6.07875)scale(0.08 -0.08)\">\n       <use xlink:href=\"#DejaVuSans-49\" />\n       <use x=\"63.623047\" xlink:href=\"#DejaVuSans-50\" />\n      </g>\n     </g>\n    </g>\n   </g>\n   <g id=\"line2d_5\">\n    <path clip-path=\"url(#pcca8a14f3d)\" d=\"M 17.18 39.138536  L 154.396518 39.138536  \" style=\"fill:none;stroke:#444443;stroke-dasharray:3.7,1.6;stroke-dashoffset:0;\" />\n   </g>\n   <g id=\"line2d_6\">\n    <path clip-path=\"url(#pcca8a14f3d)\" d=\"M 154.396518 61.652848  L 154.396518 1.856848  \" style=\"fill:none;stroke:#444443;stroke-dasharray:3.7,1.6;stroke-dashoffset:0;\" />\n   </g>\n   <g id=\"line2d_7\">\n    <path clip-path=\"url(#pcca8a14f3d)\" d=\"M 154.396518 34.079851  L 156.68 34.079851  \" style=\"fill:none;stroke:#444443;stroke-dasharray:3.7,1.6;stroke-dashoffset:0;\" />\n   </g>\n   <g id=\"patch_4\">\n    <path d=\"M 17.18 61.652848  L 17.18 1.856848  \" style=\"fill:none;stroke:#000000;stroke-linecap:square;stroke-linejoin:miter;stroke-width:0.3;\" />\n   </g>\n   <g id=\"patch_5\">\n    <path d=\"M 17.18 61.652848  L 156.68 61.652848  \" style=\"fill:none;stroke:#000000;stroke-linecap:square;stroke-linejoin:miter;stroke-width:0.3;\" />\n   </g>\n  </g>\n </g>\n <defs>\n  <clipPath id=\"pcca8a14f3d\">\n   <rect height=\"59.796\" width=\"139.5\" x=\"17.18\" y=\"1.856848\" />\n  </clipPath>\n </defs>\n</svg></g>\n\n<g class=\"edge\" id=\"edge5\">\n<title>node1-&gt;node4</title>\n<path d=\"M298.1555,-92.5797C302.4269,-91.1751 306.733,-89.759 311.0169,-88.3502\" fill=\"none\" stroke=\"#444443\" stroke-width=\".3\" />\n<polygon fill=\"#444443\" points=\"311.5807,-89.6386 314.9432,-87.059 310.706,-86.9787 311.5807,-89.6386\" stroke=\"#444443\" stroke-width=\".3\" />\n</g>\n\n<g class=\"node\" id=\"node6\">\n<title>leaf3</title>\n<polygon fill=\"none\" points=\"415.5,-176 345.5,-176 345.5,-117 415.5,-117 415.5,-176\" stroke=\"#444443\" stroke-width=\"0\" />\n<svg height=\"51px\" preserveAspectRatio=\"xMinYMin meet\" version=\"1.1\" viewBox=\"0 0 82.810938 68.293293\" width=\"62px\" x=\"349.5\" y=\"-171.5\">\n <defs>\n  <style type=\"text/css\">\n*{stroke-linecap:butt;stroke-linejoin:round;}\n  </style>\n </defs>\n <g id=\"figure_1\">\n  <g id=\"patch_1\">\n   <path d=\"M 0 68.293293  L 82.810938 68.293293  L 82.810938 0  L 0 0  z \" style=\"fill:#ffffff;\" />\n  </g>\n  <g id=\"axes_1\">\n   <g id=\"patch_2\">\n    <path d=\"M 19.980469 45.667355  L 61.830469 45.667355  L 61.830469 2.179355  L 19.980469 2.179355  z \" style=\"fill:#ffffff;\" />\n   </g>\n   <g id=\"PathCollection_1\">\n    <defs>\n     <path d=\"M 0 1.118034  C 0.296506 1.118034 0.580908 1.000231 0.790569 0.790569  C 1.000231 0.580908 1.118034 0.296506 1.118034 0  C 1.118034 -0.296506 1.000231 -0.580908 0.790569 -0.790569  C 0.580908 -1.000231 0.296506 -1.118034 0 -1.118034  C -0.296506 -1.118034 -0.580908 -1.000231 -0.790569 -0.790569  C -1.000231 -0.580908 -1.118034 -0.296506 -1.118034 0  C -1.118034 0.296506 -1.000231 0.580908 -0.790569 0.790569  C -0.580908 1.000231 -0.296506 1.118034 0 1.118034  z \" id=\"m5ccbd44989\" style=\"stroke:#4575b4;stroke-opacity:0.7;stroke-width:0.3;\" />\n    </defs>\n    <g clip-path=\"url(#p3db2e48be4)\">\n     <use style=\"fill:#4575b4;fill-opacity:0.7;stroke:#4575b4;stroke-opacity:0.7;stroke-width:0.3;\" x=\"46.065431\" y=\"17.573637\" xlink:href=\"#m5ccbd44989\" />\n     <use style=\"fill:#4575b4;fill-opacity:0.7;stroke:#4575b4;stroke-opacity:0.7;stroke-width:0.3;\" x=\"42.261581\" y=\"41.741634\" xlink:href=\"#m5ccbd44989\" />\n     <use style=\"fill:#4575b4;fill-opacity:0.7;stroke:#4575b4;stroke-opacity:0.7;stroke-width:0.3;\" x=\"43.124346\" y=\"22.502306\" xlink:href=\"#m5ccbd44989\" />\n     <use style=\"fill:#4575b4;fill-opacity:0.7;stroke:#4575b4;stroke-opacity:0.7;stroke-width:0.3;\" x=\"42.063533\" y=\"26.076492\" xlink:href=\"#m5ccbd44989\" />\n     <use style=\"fill:#4575b4;fill-opacity:0.7;stroke:#4575b4;stroke-opacity:0.7;stroke-width:0.3;\" x=\"42.133441\" y=\"26.538328\" xlink:href=\"#m5ccbd44989\" />\n     <use style=\"fill:#4575b4;fill-opacity:0.7;stroke:#4575b4;stroke-opacity:0.7;stroke-width:0.3;\" x=\"43.265378\" y=\"28.560256\" xlink:href=\"#m5ccbd44989\" />\n     <use style=\"fill:#4575b4;fill-opacity:0.7;stroke:#4575b4;stroke-opacity:0.7;stroke-width:0.3;\" x=\"41.391519\" y=\"36.459105\" xlink:href=\"#m5ccbd44989\" />\n     <use style=\"fill:#4575b4;fill-opacity:0.7;stroke:#4575b4;stroke-opacity:0.7;stroke-width:0.3;\" x=\"42.154276\" y=\"29.84505\" xlink:href=\"#m5ccbd44989\" />\n     <use style=\"fill:#4575b4;fill-opacity:0.7;stroke:#4575b4;stroke-opacity:0.7;stroke-width:0.3;\" x=\"43.871474\" y=\"33.035456\" xlink:href=\"#m5ccbd44989\" />\n     <use style=\"fill:#4575b4;fill-opacity:0.7;stroke:#4575b4;stroke-opacity:0.7;stroke-width:0.3;\" x=\"40.372446\" y=\"22.157397\" xlink:href=\"#m5ccbd44989\" />\n     <use style=\"fill:#4575b4;fill-opacity:0.7;stroke:#4575b4;stroke-opacity:0.7;stroke-width:0.3;\" x=\"43.439763\" y=\"27.016378\" xlink:href=\"#m5ccbd44989\" />\n     <use style=\"fill:#4575b4;fill-opacity:0.7;stroke:#4575b4;stroke-opacity:0.7;stroke-width:0.3;\" x=\"34.598969\" y=\"25.629792\" xlink:href=\"#m5ccbd44989\" />\n     <use style=\"fill:#4575b4;fill-opacity:0.7;stroke:#4575b4;stroke-opacity:0.7;stroke-width:0.3;\" x=\"38.724417\" y=\"26.076492\" xlink:href=\"#m5ccbd44989\" />\n     <use style=\"fill:#4575b4;fill-opacity:0.7;stroke:#4575b4;stroke-opacity:0.7;stroke-width:0.3;\" x=\"39.332766\" y=\"21.821011\" xlink:href=\"#m5ccbd44989\" />\n     <use style=\"fill:#4575b4;fill-opacity:0.7;stroke:#4575b4;stroke-opacity:0.7;stroke-width:0.3;\" x=\"42.098575\" y=\"42.861963\" xlink:href=\"#m5ccbd44989\" />\n     <use style=\"fill:#4575b4;fill-opacity:0.7;stroke:#4575b4;stroke-opacity:0.7;stroke-width:0.3;\" x=\"37.595667\" y=\"39.744455\" xlink:href=\"#m5ccbd44989\" />\n     <use style=\"fill:#4575b4;fill-opacity:0.7;stroke:#4575b4;stroke-opacity:0.7;stroke-width:0.3;\" x=\"36.29381\" y=\"38.002983\" xlink:href=\"#m5ccbd44989\" />\n     <use style=\"fill:#4575b4;fill-opacity:0.7;stroke:#4575b4;stroke-opacity:0.7;stroke-width:0.3;\" x=\"44.877852\" y=\"32.662199\" xlink:href=\"#m5ccbd44989\" />\n     <use style=\"fill:#4575b4;fill-opacity:0.7;stroke:#4575b4;stroke-opacity:0.7;stroke-width:0.3;\" x=\"31.713126\" y=\"21.331516\" xlink:href=\"#m5ccbd44989\" />\n     <use style=\"fill:#4575b4;fill-opacity:0.7;stroke:#4575b4;stroke-opacity:0.7;stroke-width:0.3;\" x=\"38.848841\" y=\"16.633752\" xlink:href=\"#m5ccbd44989\" />\n     <use style=\"fill:#4575b4;fill-opacity:0.7;stroke:#4575b4;stroke-opacity:0.7;stroke-width:0.3;\" x=\"41.764439\" y=\"25.629792\" xlink:href=\"#m5ccbd44989\" />\n     <use style=\"fill:#4575b4;fill-opacity:0.7;stroke:#4575b4;stroke-opacity:0.7;stroke-width:0.3;\" x=\"38.98869\" y=\"31.945033\" xlink:href=\"#m5ccbd44989\" />\n     <use style=\"fill:#4575b4;fill-opacity:0.7;stroke:#4575b4;stroke-opacity:0.7;stroke-width:0.3;\" x=\"42.113031\" y=\"31.600138\" xlink:href=\"#m5ccbd44989\" />\n     <use style=\"fill:#4575b4;fill-opacity:0.7;stroke:#4575b4;stroke-opacity:0.7;stroke-width:0.3;\" x=\"45.196574\" y=\"28.290479\" xlink:href=\"#m5ccbd44989\" />\n     <use style=\"fill:#4575b4;fill-opacity:0.7;stroke:#4575b4;stroke-opacity:0.7;stroke-width:0.3;\" x=\"40.418896\" y=\"13.962087\" xlink:href=\"#m5ccbd44989\" />\n     <use style=\"fill:#4575b4;fill-opacity:0.7;stroke:#4575b4;stroke-opacity:0.7;stroke-width:0.3;\" x=\"41.004372\" y=\"34.640019\" xlink:href=\"#m5ccbd44989\" />\n     <use style=\"fill:#4575b4;fill-opacity:0.7;stroke:#4575b4;stroke-opacity:0.7;stroke-width:0.3;\" x=\"36.913157\" y=\"27.016378\" xlink:href=\"#m5ccbd44989\" />\n     <use style=\"fill:#4575b4;fill-opacity:0.7;stroke:#4575b4;stroke-opacity:0.7;stroke-width:0.3;\" x=\"38.151549\" y=\"30.301728\" xlink:href=\"#m5ccbd44989\" />\n     <use style=\"fill:#4575b4;fill-opacity:0.7;stroke:#4575b4;stroke-opacity:0.7;stroke-width:0.3;\" x=\"40.895163\" y=\"30.935459\" xlink:href=\"#m5ccbd44989\" />\n     <use style=\"fill:#4575b4;fill-opacity:0.7;stroke:#4575b4;stroke-opacity:0.7;stroke-width:0.3;\" x=\"36.081524\" y=\"27.51181\" xlink:href=\"#m5ccbd44989\" />\n     <use style=\"fill:#4575b4;fill-opacity:0.7;stroke:#4575b4;stroke-opacity:0.7;stroke-width:0.3;\" x=\"38.669091\" y=\"19.673634\" xlink:href=\"#m5ccbd44989\" />\n     <use style=\"fill:#4575b4;fill-opacity:0.7;stroke:#4575b4;stroke-opacity:0.7;stroke-width:0.3;\" x=\"38.704618\" y=\"25.197279\" xlink:href=\"#m5ccbd44989\" />\n     <use style=\"fill:#4575b4;fill-opacity:0.7;stroke:#4575b4;stroke-opacity:0.7;stroke-width:0.3;\" x=\"42.978542\" y=\"14.928657\" xlink:href=\"#m5ccbd44989\" />\n     <use style=\"fill:#4575b4;fill-opacity:0.7;stroke:#4575b4;stroke-opacity:0.7;stroke-width:0.3;\" x=\"41.499566\" y=\"16.077634\" xlink:href=\"#m5ccbd44989\" />\n     <use style=\"fill:#4575b4;fill-opacity:0.7;stroke:#4575b4;stroke-opacity:0.7;stroke-width:0.3;\" x=\"37.632471\" y=\"34.22081\" xlink:href=\"#m5ccbd44989\" />\n     <use style=\"fill:#4575b4;fill-opacity:0.7;stroke:#4575b4;stroke-opacity:0.7;stroke-width:0.3;\" x=\"41.528466\" y=\"25.197279\" xlink:href=\"#m5ccbd44989\" />\n     <use style=\"fill:#4575b4;fill-opacity:0.7;stroke:#4575b4;stroke-opacity:0.7;stroke-width:0.3;\" x=\"36.179792\" y=\"38.559101\" xlink:href=\"#m5ccbd44989\" />\n     <use style=\"fill:#4575b4;fill-opacity:0.7;stroke:#4575b4;stroke-opacity:0.7;stroke-width:0.3;\" x=\"47.487289\" y=\"24.778083\" xlink:href=\"#m5ccbd44989\" />\n     <use style=\"fill:#4575b4;fill-opacity:0.7;stroke:#4575b4;stroke-opacity:0.7;stroke-width:0.3;\" x=\"37.95919\" y=\"22.502306\" xlink:href=\"#m5ccbd44989\" />\n     <use style=\"fill:#4575b4;fill-opacity:0.7;stroke:#4575b4;stroke-opacity:0.7;stroke-width:0.3;\" x=\"35.247766\" y=\"37.468679\" xlink:href=\"#m5ccbd44989\" />\n     <use style=\"fill:#4575b4;fill-opacity:0.7;stroke:#4575b4;stroke-opacity:0.7;stroke-width:0.3;\" x=\"41.903826\" y=\"42.478196\" xlink:href=\"#m5ccbd44989\" />\n     <use style=\"fill:#4575b4;fill-opacity:0.7;stroke:#4575b4;stroke-opacity:0.7;stroke-width:0.3;\" x=\"43.839297\" y=\"35.748189\" xlink:href=\"#m5ccbd44989\" />\n     <use style=\"fill:#4575b4;fill-opacity:0.7;stroke:#4575b4;stroke-opacity:0.7;stroke-width:0.3;\" x=\"36.361807\" y=\"17.213541\" xlink:href=\"#m5ccbd44989\" />\n     <use style=\"fill:#4575b4;fill-opacity:0.7;stroke:#4575b4;stroke-opacity:0.7;stroke-width:0.3;\" x=\"44.175945\" y=\"41.042865\" xlink:href=\"#m5ccbd44989\" />\n     <use style=\"fill:#4575b4;fill-opacity:0.7;stroke:#4575b4;stroke-opacity:0.7;stroke-width:0.3;\" x=\"35.13951\" y=\"31.600138\" xlink:href=\"#m5ccbd44989\" />\n     <use style=\"fill:#4575b4;fill-opacity:0.7;stroke:#4575b4;stroke-opacity:0.7;stroke-width:0.3;\" x=\"41.444414\" y=\"41.042865\" xlink:href=\"#m5ccbd44989\" />\n     <use style=\"fill:#4575b4;fill-opacity:0.7;stroke:#4575b4;stroke-opacity:0.7;stroke-width:0.3;\" x=\"41.703619\" y=\"19.117516\" xlink:href=\"#m5ccbd44989\" />\n     <use style=\"fill:#4575b4;fill-opacity:0.7;stroke:#4575b4;stroke-opacity:0.7;stroke-width:0.3;\" x=\"41.692111\" y=\"17.095601\" xlink:href=\"#m5ccbd44989\" />\n     <use style=\"fill:#4575b4;fill-opacity:0.7;stroke:#4575b4;stroke-opacity:0.7;stroke-width:0.3;\" x=\"32.535851\" y=\"13.962087\" xlink:href=\"#m5ccbd44989\" />\n     <use style=\"fill:#4575b4;fill-opacity:0.7;stroke:#4575b4;stroke-opacity:0.7;stroke-width:0.3;\" x=\"45.298912\" y=\"38.002983\" xlink:href=\"#m5ccbd44989\" />\n     <use style=\"fill:#4575b4;fill-opacity:0.7;stroke:#4575b4;stroke-opacity:0.7;stroke-width:0.3;\" x=\"35.525191\" y=\"29.403183\" xlink:href=\"#m5ccbd44989\" />\n     <use style=\"fill:#4575b4;fill-opacity:0.7;stroke:#4575b4;stroke-opacity:0.7;stroke-width:0.3;\" x=\"45.721395\" y=\"21.492732\" xlink:href=\"#m5ccbd44989\" />\n     <use style=\"fill:#4575b4;fill-opacity:0.7;stroke:#4575b4;stroke-opacity:0.7;stroke-width:0.3;\" x=\"39.501478\" y=\"20.253423\" xlink:href=\"#m5ccbd44989\" />\n     <use style=\"fill:#4575b4;fill-opacity:0.7;stroke:#4575b4;stroke-opacity:0.7;stroke-width:0.3;\" x=\"43.988023\" y=\"25.197279\" xlink:href=\"#m5ccbd44989\" />\n     <use style=\"fill:#4575b4;fill-opacity:0.7;stroke:#4575b4;stroke-opacity:0.7;stroke-width:0.3;\" x=\"43.867119\" y=\"22.502306\" xlink:href=\"#m5ccbd44989\" />\n     <use style=\"fill:#4575b4;fill-opacity:0.7;stroke:#4575b4;stroke-opacity:0.7;stroke-width:0.3;\" x=\"44.157411\" y=\"38.002983\" xlink:href=\"#m5ccbd44989\" />\n     <use style=\"fill:#4575b4;fill-opacity:0.7;stroke:#4575b4;stroke-opacity:0.7;stroke-width:0.3;\" x=\"41.01058\" y=\"33.035456\" xlink:href=\"#m5ccbd44989\" />\n     <use style=\"fill:#4575b4;fill-opacity:0.7;stroke:#4575b4;stroke-opacity:0.7;stroke-width:0.3;\" x=\"40.663709\" y=\"16.520697\" xlink:href=\"#m5ccbd44989\" />\n     <use style=\"fill:#4575b4;fill-opacity:0.7;stroke:#4575b4;stroke-opacity:0.7;stroke-width:0.3;\" x=\"47.633408\" y=\"39.438314\" xlink:href=\"#m5ccbd44989\" />\n     <use style=\"fill:#4575b4;fill-opacity:0.7;stroke:#4575b4;stroke-opacity:0.7;stroke-width:0.3;\" x=\"35.53351\" y=\"26.538328\" xlink:href=\"#m5ccbd44989\" />\n     <use style=\"fill:#4575b4;fill-opacity:0.7;stroke:#4575b4;stroke-opacity:0.7;stroke-width:0.3;\" x=\"42.345286\" y=\"35.519219\" xlink:href=\"#m5ccbd44989\" />\n     <use style=\"fill:#4575b4;fill-opacity:0.7;stroke:#4575b4;stroke-opacity:0.7;stroke-width:0.3;\" x=\"43.727204\" y=\"35.072532\" xlink:href=\"#m5ccbd44989\" />\n     <use style=\"fill:#4575b4;fill-opacity:0.7;stroke:#4575b4;stroke-opacity:0.7;stroke-width:0.3;\" x=\"40.250844\" y=\"41.042865\" xlink:href=\"#m5ccbd44989\" />\n     <use style=\"fill:#4575b4;fill-opacity:0.7;stroke:#4575b4;stroke-opacity:0.7;stroke-width:0.3;\" x=\"35.414783\" y=\"18.583211\" xlink:href=\"#m5ccbd44989\" />\n     <use style=\"fill:#4575b4;fill-opacity:0.7;stroke:#4575b4;stroke-opacity:0.7;stroke-width:0.3;\" x=\"43.511992\" y=\"23.219471\" xlink:href=\"#m5ccbd44989\" />\n     <use style=\"fill:#4575b4;fill-opacity:0.7;stroke:#4575b4;stroke-opacity:0.7;stroke-width:0.3;\" x=\"40.474133\" y=\"43.256865\" xlink:href=\"#m5ccbd44989\" />\n     <use style=\"fill:#4575b4;fill-opacity:0.7;stroke:#4575b4;stroke-opacity:0.7;stroke-width:0.3;\" x=\"39.75938\" y=\"41.042865\" xlink:href=\"#m5ccbd44989\" />\n     <use style=\"fill:#4575b4;fill-opacity:0.7;stroke:#4575b4;stroke-opacity:0.7;stroke-width:0.3;\" x=\"43.876252\" y=\"14.928657\" xlink:href=\"#m5ccbd44989\" />\n     <use style=\"fill:#4575b4;fill-opacity:0.7;stroke:#4575b4;stroke-opacity:0.7;stroke-width:0.3;\" x=\"39.074577\" y=\"27.51181\" xlink:href=\"#m5ccbd44989\" />\n     <use style=\"fill:#4575b4;fill-opacity:0.7;stroke:#4575b4;stroke-opacity:0.7;stroke-width:0.3;\" x=\"44.545454\" y=\"19.392736\" xlink:href=\"#m5ccbd44989\" />\n     <use style=\"fill:#4575b4;fill-opacity:0.7;stroke:#4575b4;stroke-opacity:0.7;stroke-width:0.3;\" x=\"43.417231\" y=\"25.411814\" xlink:href=\"#m5ccbd44989\" />\n     <use style=\"fill:#4575b4;fill-opacity:0.7;stroke:#4575b4;stroke-opacity:0.7;stroke-width:0.3;\" x=\"38.277431\" y=\"17.573637\" xlink:href=\"#m5ccbd44989\" />\n     <use style=\"fill:#4575b4;fill-opacity:0.7;stroke:#4575b4;stroke-opacity:0.7;stroke-width:0.3;\" x=\"40.148649\" y=\"37.468679\" xlink:href=\"#m5ccbd44989\" />\n     <use style=\"fill:#4575b4;fill-opacity:0.7;stroke:#4575b4;stroke-opacity:0.7;stroke-width:0.3;\" x=\"39.419688\" y=\"33.035456\" xlink:href=\"#m5ccbd44989\" />\n     <use style=\"fill:#4575b4;fill-opacity:0.7;stroke:#4575b4;stroke-opacity:0.7;stroke-width:0.3;\" x=\"38.27158\" y=\"19.673634\" xlink:href=\"#m5ccbd44989\" />\n     <use style=\"fill:#4575b4;fill-opacity:0.7;stroke:#4575b4;stroke-opacity:0.7;stroke-width:0.3;\" x=\"37.365562\" y=\"44.082746\" xlink:href=\"#m5ccbd44989\" />\n     <use style=\"fill:#4575b4;fill-opacity:0.7;stroke:#4575b4;stroke-opacity:0.7;stroke-width:0.3;\" x=\"38.700592\" y=\"38.002983\" xlink:href=\"#m5ccbd44989\" />\n     <use style=\"fill:#4575b4;fill-opacity:0.7;stroke:#4575b4;stroke-opacity:0.7;stroke-width:0.3;\" x=\"38.918448\" y=\"27.766451\" xlink:href=\"#m5ccbd44989\" />\n     <use style=\"fill:#4575b4;fill-opacity:0.7;stroke:#4575b4;stroke-opacity:0.7;stroke-width:0.3;\" x=\"39.435915\" y=\"39.13889\" xlink:href=\"#m5ccbd44989\" />\n     <use style=\"fill:#4575b4;fill-opacity:0.7;stroke:#4575b4;stroke-opacity:0.7;stroke-width:0.3;\" x=\"34.380034\" y=\"29.116374\" xlink:href=\"#m5ccbd44989\" />\n     <use style=\"fill:#4575b4;fill-opacity:0.7;stroke:#4575b4;stroke-opacity:0.7;stroke-width:0.3;\" x=\"43.250056\" y=\"35.519219\" xlink:href=\"#m5ccbd44989\" />\n     <use style=\"fill:#4575b4;fill-opacity:0.7;stroke:#4575b4;stroke-opacity:0.7;stroke-width:0.3;\" x=\"40.040416\" y=\"26.076492\" xlink:href=\"#m5ccbd44989\" />\n     <use style=\"fill:#4575b4;fill-opacity:0.7;stroke:#4575b4;stroke-opacity:0.7;stroke-width:0.3;\" x=\"37.531364\" y=\"35.519219\" xlink:href=\"#m5ccbd44989\" />\n     <use style=\"fill:#4575b4;fill-opacity:0.7;stroke:#4575b4;stroke-opacity:0.7;stroke-width:0.3;\" x=\"40.19228\" y=\"30.935459\" xlink:href=\"#m5ccbd44989\" />\n     <use style=\"fill:#4575b4;fill-opacity:0.7;stroke:#4575b4;stroke-opacity:0.7;stroke-width:0.3;\" x=\"42.778858\" y=\"43.74636\" xlink:href=\"#m5ccbd44989\" />\n     <use style=\"fill:#4575b4;fill-opacity:0.7;stroke:#4575b4;stroke-opacity:0.7;stroke-width:0.3;\" x=\"43.752386\" y=\"23.976496\" xlink:href=\"#m5ccbd44989\" />\n     <use style=\"fill:#4575b4;fill-opacity:0.7;stroke:#4575b4;stroke-opacity:0.7;stroke-width:0.3;\" x=\"36.573327\" y=\"24.778083\" xlink:href=\"#m5ccbd44989\" />\n     <use style=\"fill:#4575b4;fill-opacity:0.7;stroke:#4575b4;stroke-opacity:0.7;stroke-width:0.3;\" x=\"43.733124\" y=\"39.744455\" xlink:href=\"#m5ccbd44989\" />\n     <use style=\"fill:#4575b4;fill-opacity:0.7;stroke:#4575b4;stroke-opacity:0.7;stroke-width:0.3;\" x=\"44.284284\" y=\"15.754552\" xlink:href=\"#m5ccbd44989\" />\n     <use style=\"fill:#4575b4;fill-opacity:0.7;stroke:#4575b4;stroke-opacity:0.7;stroke-width:0.3;\" x=\"40.157036\" y=\"28.835476\" xlink:href=\"#m5ccbd44989\" />\n     <use style=\"fill:#4575b4;fill-opacity:0.7;stroke:#4575b4;stroke-opacity:0.7;stroke-width:0.3;\" x=\"33.574112\" y=\"43.256865\" xlink:href=\"#m5ccbd44989\" />\n     <use style=\"fill:#4575b4;fill-opacity:0.7;stroke:#4575b4;stroke-opacity:0.7;stroke-width:0.3;\" x=\"39.395138\" y=\"16.633752\" xlink:href=\"#m5ccbd44989\" />\n     <use style=\"fill:#4575b4;fill-opacity:0.7;stroke:#4575b4;stroke-opacity:0.7;stroke-width:0.3;\" x=\"38.906791\" y=\"33.814125\" xlink:href=\"#m5ccbd44989\" />\n     <use style=\"fill:#4575b4;fill-opacity:0.7;stroke:#4575b4;stroke-opacity:0.7;stroke-width:0.3;\" x=\"42.15168\" y=\"40.3782\" xlink:href=\"#m5ccbd44989\" />\n     <use style=\"fill:#4575b4;fill-opacity:0.7;stroke:#4575b4;stroke-opacity:0.7;stroke-width:0.3;\" x=\"40.715011\" y=\"26.076492\" xlink:href=\"#m5ccbd44989\" />\n     <use style=\"fill:#4575b4;fill-opacity:0.7;stroke:#4575b4;stroke-opacity:0.7;stroke-width:0.3;\" x=\"44.613754\" y=\"39.744455\" xlink:href=\"#m5ccbd44989\" />\n     <use style=\"fill:#4575b4;fill-opacity:0.7;stroke:#4575b4;stroke-opacity:0.7;stroke-width:0.3;\" x=\"43.211191\" y=\"42.478196\" xlink:href=\"#m5ccbd44989\" />\n     <use style=\"fill:#4575b4;fill-opacity:0.7;stroke:#4575b4;stroke-opacity:0.7;stroke-width:0.3;\" x=\"35.221378\" y=\"32.662199\" xlink:href=\"#m5ccbd44989\" />\n     <use style=\"fill:#4575b4;fill-opacity:0.7;stroke:#4575b4;stroke-opacity:0.7;stroke-width:0.3;\" x=\"38.587863\" y=\"36.459105\" xlink:href=\"#m5ccbd44989\" />\n     <use style=\"fill:#4575b4;fill-opacity:0.7;stroke:#4575b4;stroke-opacity:0.7;stroke-width:0.3;\" x=\"37.984957\" y=\"19.117516\" xlink:href=\"#m5ccbd44989\" />\n     <use style=\"fill:#4575b4;fill-opacity:0.7;stroke:#4575b4;stroke-opacity:0.7;stroke-width:0.3;\" x=\"44.90404\" y=\"29.116374\" xlink:href=\"#m5ccbd44989\" />\n     <use style=\"fill:#4575b4;fill-opacity:0.7;stroke:#4575b4;stroke-opacity:0.7;stroke-width:0.3;\" x=\"45.659888\" y=\"17.819106\" xlink:href=\"#m5ccbd44989\" />\n     <use style=\"fill:#4575b4;fill-opacity:0.7;stroke:#4575b4;stroke-opacity:0.7;stroke-width:0.3;\" x=\"41.241307\" y=\"28.560256\" xlink:href=\"#m5ccbd44989\" />\n     <use style=\"fill:#4575b4;fill-opacity:0.7;stroke:#4575b4;stroke-opacity:0.7;stroke-width:0.3;\" x=\"42.005082\" y=\"14.631416\" xlink:href=\"#m5ccbd44989\" />\n     <use style=\"fill:#4575b4;fill-opacity:0.7;stroke:#4575b4;stroke-opacity:0.7;stroke-width:0.3;\" x=\"44.497259\" y=\"30.301728\" xlink:href=\"#m5ccbd44989\" />\n     <use style=\"fill:#4575b4;fill-opacity:0.7;stroke:#4575b4;stroke-opacity:0.7;stroke-width:0.3;\" x=\"39.23407\" y=\"38.559101\" xlink:href=\"#m5ccbd44989\" />\n     <use style=\"fill:#4575b4;fill-opacity:0.7;stroke:#4575b4;stroke-opacity:0.7;stroke-width:0.3;\" x=\"41.967727\" y=\"36.954551\" xlink:href=\"#m5ccbd44989\" />\n     <use style=\"fill:#4575b4;fill-opacity:0.7;stroke:#4575b4;stroke-opacity:0.7;stroke-width:0.3;\" x=\"39.783727\" y=\"16.633752\" xlink:href=\"#m5ccbd44989\" />\n     <use style=\"fill:#4575b4;fill-opacity:0.7;stroke:#4575b4;stroke-opacity:0.7;stroke-width:0.3;\" x=\"44.364306\" y=\"41.042865\" xlink:href=\"#m5ccbd44989\" />\n     <use style=\"fill:#4575b4;fill-opacity:0.7;stroke:#4575b4;stroke-opacity:0.7;stroke-width:0.3;\" x=\"38.173879\" y=\"27.016378\" xlink:href=\"#m5ccbd44989\" />\n     <use style=\"fill:#4575b4;fill-opacity:0.7;stroke:#4575b4;stroke-opacity:0.7;stroke-width:0.3;\" x=\"39.613382\" y=\"15.54333\" xlink:href=\"#m5ccbd44989\" />\n     <use style=\"fill:#4575b4;fill-opacity:0.7;stroke:#4575b4;stroke-opacity:0.7;stroke-width:0.3;\" x=\"40.916983\" y=\"20.253423\" xlink:href=\"#m5ccbd44989\" />\n     <use style=\"fill:#4575b4;fill-opacity:0.7;stroke:#4575b4;stroke-opacity:0.7;stroke-width:0.3;\" x=\"41.827322\" y=\"35.981068\" xlink:href=\"#m5ccbd44989\" />\n     <use style=\"fill:#4575b4;fill-opacity:0.7;stroke:#4575b4;stroke-opacity:0.7;stroke-width:0.3;\" x=\"50.52506\" y=\"25.197279\" xlink:href=\"#m5ccbd44989\" />\n     <use style=\"fill:#4575b4;fill-opacity:0.7;stroke:#4575b4;stroke-opacity:0.7;stroke-width:0.3;\" x=\"49.738778\" y=\"38.559101\" xlink:href=\"#m5ccbd44989\" />\n     <use style=\"fill:#4575b4;fill-opacity:0.7;stroke:#4575b4;stroke-opacity:0.7;stroke-width:0.3;\" x=\"40.565387\" y=\"25.197279\" xlink:href=\"#m5ccbd44989\" />\n     <use style=\"fill:#4575b4;fill-opacity:0.7;stroke:#4575b4;stroke-opacity:0.7;stroke-width:0.3;\" x=\"44.205513\" y=\"30.301728\" xlink:href=\"#m5ccbd44989\" />\n     <use style=\"fill:#4575b4;fill-opacity:0.7;stroke:#4575b4;stroke-opacity:0.7;stroke-width:0.3;\" x=\"37.834573\" y=\"24.172518\" xlink:href=\"#m5ccbd44989\" />\n     <use style=\"fill:#4575b4;fill-opacity:0.7;stroke:#4575b4;stroke-opacity:0.7;stroke-width:0.3;\" x=\"39.81899\" y=\"43.256865\" xlink:href=\"#m5ccbd44989\" />\n     <use style=\"fill:#4575b4;fill-opacity:0.7;stroke:#4575b4;stroke-opacity:0.7;stroke-width:0.3;\" x=\"43.121974\" y=\"30.614911\" xlink:href=\"#m5ccbd44989\" />\n     <use style=\"fill:#4575b4;fill-opacity:0.7;stroke:#4575b4;stroke-opacity:0.7;stroke-width:0.3;\" x=\"42.238507\" y=\"34.22081\" xlink:href=\"#m5ccbd44989\" />\n     <use style=\"fill:#4575b4;fill-opacity:0.7;stroke:#4575b4;stroke-opacity:0.7;stroke-width:0.3;\" x=\"39.983571\" y=\"38.002983\" xlink:href=\"#m5ccbd44989\" />\n     <use style=\"fill:#4575b4;fill-opacity:0.7;stroke:#4575b4;stroke-opacity:0.7;stroke-width:0.3;\" x=\"37.776373\" y=\"22.856166\" xlink:href=\"#m5ccbd44989\" />\n     <use style=\"fill:#4575b4;fill-opacity:0.7;stroke:#4575b4;stroke-opacity:0.7;stroke-width:0.3;\" x=\"46.050234\" y=\"29.116374\" xlink:href=\"#m5ccbd44989\" />\n     <use style=\"fill:#4575b4;fill-opacity:0.7;stroke:#4575b4;stroke-opacity:0.7;stroke-width:0.3;\" x=\"39.71812\" y=\"38.559101\" xlink:href=\"#m5ccbd44989\" />\n     <use style=\"fill:#4575b4;fill-opacity:0.7;stroke:#4575b4;stroke-opacity:0.7;stroke-width:0.3;\" x=\"44.485252\" y=\"32.298906\" xlink:href=\"#m5ccbd44989\" />\n     <use style=\"fill:#4575b4;fill-opacity:0.7;stroke:#4575b4;stroke-opacity:0.7;stroke-width:0.3;\" x=\"45.640309\" y=\"31.263752\" xlink:href=\"#m5ccbd44989\" />\n     <use style=\"fill:#4575b4;fill-opacity:0.7;stroke:#4575b4;stroke-opacity:0.7;stroke-width:0.3;\" x=\"36.903957\" y=\"28.835476\" xlink:href=\"#m5ccbd44989\" />\n     <use style=\"fill:#4575b4;fill-opacity:0.7;stroke:#4575b4;stroke-opacity:0.7;stroke-width:0.3;\" x=\"42.339257\" y=\"23.592728\" xlink:href=\"#m5ccbd44989\" />\n     <use style=\"fill:#4575b4;fill-opacity:0.7;stroke:#4575b4;stroke-opacity:0.7;stroke-width:0.3;\" x=\"38.146431\" y=\"33.814125\" xlink:href=\"#m5ccbd44989\" />\n     <use style=\"fill:#4575b4;fill-opacity:0.7;stroke:#4575b4;stroke-opacity:0.7;stroke-width:0.3;\" x=\"45.425139\" y=\"43.66355\" xlink:href=\"#m5ccbd44989\" />\n     <use style=\"fill:#4575b4;fill-opacity:0.7;stroke:#4575b4;stroke-opacity:0.7;stroke-width:0.3;\" x=\"45.541016\" y=\"31.600138\" xlink:href=\"#m5ccbd44989\" />\n     <use style=\"fill:#4575b4;fill-opacity:0.7;stroke:#4575b4;stroke-opacity:0.7;stroke-width:0.3;\" x=\"37.932076\" y=\"30.301728\" xlink:href=\"#m5ccbd44989\" />\n     <use style=\"fill:#4575b4;fill-opacity:0.7;stroke:#4575b4;stroke-opacity:0.7;stroke-width:0.3;\" x=\"37.461308\" y=\"19.816285\" xlink:href=\"#m5ccbd44989\" />\n     <use style=\"fill:#4575b4;fill-opacity:0.7;stroke:#4575b4;stroke-opacity:0.7;stroke-width:0.3;\" x=\"41.595958\" y=\"15.54333\" xlink:href=\"#m5ccbd44989\" />\n     <use style=\"fill:#4575b4;fill-opacity:0.7;stroke:#4575b4;stroke-opacity:0.7;stroke-width:0.3;\" x=\"38.474708\" y=\"36.704574\" xlink:href=\"#m5ccbd44989\" />\n     <use style=\"fill:#4575b4;fill-opacity:0.7;stroke:#4575b4;stroke-opacity:0.7;stroke-width:0.3;\" x=\"36.829114\" y=\"37.468679\" xlink:href=\"#m5ccbd44989\" />\n     <use style=\"fill:#4575b4;fill-opacity:0.7;stroke:#4575b4;stroke-opacity:0.7;stroke-width:0.3;\" x=\"39.973151\" y=\"32.662199\" xlink:href=\"#m5ccbd44989\" />\n     <use style=\"fill:#4575b4;fill-opacity:0.7;stroke:#4575b4;stroke-opacity:0.7;stroke-width:0.3;\" x=\"43.151479\" y=\"24.778083\" xlink:href=\"#m5ccbd44989\" />\n     <use style=\"fill:#4575b4;fill-opacity:0.7;stroke:#4575b4;stroke-opacity:0.7;stroke-width:0.3;\" x=\"39.485992\" y=\"33.035456\" xlink:href=\"#m5ccbd44989\" />\n     <use style=\"fill:#4575b4;fill-opacity:0.7;stroke:#4575b4;stroke-opacity:0.7;stroke-width:0.3;\" x=\"41.913608\" y=\"30.301728\" xlink:href=\"#m5ccbd44989\" />\n     <use style=\"fill:#4575b4;fill-opacity:0.7;stroke:#4575b4;stroke-opacity:0.7;stroke-width:0.3;\" x=\"40.395888\" y=\"23.219471\" xlink:href=\"#m5ccbd44989\" />\n     <use style=\"fill:#4575b4;fill-opacity:0.7;stroke:#4575b4;stroke-opacity:0.7;stroke-width:0.3;\" x=\"38.094252\" y=\"22.157397\" xlink:href=\"#m5ccbd44989\" />\n     <use style=\"fill:#4575b4;fill-opacity:0.7;stroke:#4575b4;stroke-opacity:0.7;stroke-width:0.3;\" x=\"44.844332\" y=\"35.519219\" xlink:href=\"#m5ccbd44989\" />\n     <use style=\"fill:#4575b4;fill-opacity:0.7;stroke:#4575b4;stroke-opacity:0.7;stroke-width:0.3;\" x=\"33.351624\" y=\"29.696163\" xlink:href=\"#m5ccbd44989\" />\n     <use style=\"fill:#4575b4;fill-opacity:0.7;stroke:#4575b4;stroke-opacity:0.7;stroke-width:0.3;\" x=\"34.622226\" y=\"23.219471\" xlink:href=\"#m5ccbd44989\" />\n     <use style=\"fill:#4575b4;fill-opacity:0.7;stroke:#4575b4;stroke-opacity:0.7;stroke-width:0.3;\" x=\"44.870503\" y=\"19.117516\" xlink:href=\"#m5ccbd44989\" />\n     <use style=\"fill:#4575b4;fill-opacity:0.7;stroke:#4575b4;stroke-opacity:0.7;stroke-width:0.3;\" x=\"36.587558\" y=\"38.559101\" xlink:href=\"#m5ccbd44989\" />\n     <use style=\"fill:#4575b4;fill-opacity:0.7;stroke:#4575b4;stroke-opacity:0.7;stroke-width:0.3;\" x=\"37.305052\" y=\"25.197279\" xlink:href=\"#m5ccbd44989\" />\n     <use style=\"fill:#4575b4;fill-opacity:0.7;stroke:#4575b4;stroke-opacity:0.7;stroke-width:0.3;\" x=\"40.186647\" y=\"31.945033\" xlink:href=\"#m5ccbd44989\" />\n     <use style=\"fill:#4575b4;fill-opacity:0.7;stroke:#4575b4;stroke-opacity:0.7;stroke-width:0.3;\" x=\"37.486829\" y=\"13.235346\" xlink:href=\"#m5ccbd44989\" />\n     <use style=\"fill:#4575b4;fill-opacity:0.7;stroke:#4575b4;stroke-opacity:0.7;stroke-width:0.3;\" x=\"38.587354\" y=\"34.640019\" xlink:href=\"#m5ccbd44989\" />\n     <use style=\"fill:#4575b4;fill-opacity:0.7;stroke:#4575b4;stroke-opacity:0.7;stroke-width:0.3;\" x=\"43.730632\" y=\"44.082746\" xlink:href=\"#m5ccbd44989\" />\n     <use style=\"fill:#4575b4;fill-opacity:0.7;stroke:#4575b4;stroke-opacity:0.7;stroke-width:0.3;\" x=\"37.723202\" y=\"20.858988\" xlink:href=\"#m5ccbd44989\" />\n     <use style=\"fill:#4575b4;fill-opacity:0.7;stroke:#4575b4;stroke-opacity:0.7;stroke-width:0.3;\" x=\"43.960265\" y=\"27.261846\" xlink:href=\"#m5ccbd44989\" />\n     <use style=\"fill:#4575b4;fill-opacity:0.7;stroke:#4575b4;stroke-opacity:0.7;stroke-width:0.3;\" x=\"41.515762\" y=\"27.261846\" xlink:href=\"#m5ccbd44989\" />\n     <use style=\"fill:#4575b4;fill-opacity:0.7;stroke:#4575b4;stroke-opacity:0.7;stroke-width:0.3;\" x=\"35.917532\" y=\"23.592728\" xlink:href=\"#m5ccbd44989\" />\n     <use style=\"fill:#4575b4;fill-opacity:0.7;stroke:#4575b4;stroke-opacity:0.7;stroke-width:0.3;\" x=\"39.696596\" y=\"35.981068\" xlink:href=\"#m5ccbd44989\" />\n     <use style=\"fill:#4575b4;fill-opacity:0.7;stroke:#4575b4;stroke-opacity:0.7;stroke-width:0.3;\" x=\"37.3279\" y=\"19.392736\" xlink:href=\"#m5ccbd44989\" />\n     <use style=\"fill:#4575b4;fill-opacity:0.7;stroke:#4575b4;stroke-opacity:0.7;stroke-width:0.3;\" x=\"35.523768\" y=\"36.459105\" xlink:href=\"#m5ccbd44989\" />\n     <use style=\"fill:#4575b4;fill-opacity:0.7;stroke:#4575b4;stroke-opacity:0.7;stroke-width:0.3;\" x=\"37.94996\" y=\"35.072532\" xlink:href=\"#m5ccbd44989\" />\n     <use style=\"fill:#4575b4;fill-opacity:0.7;stroke:#4575b4;stroke-opacity:0.7;stroke-width:0.3;\" x=\"43.049545\" y=\"41.042865\" xlink:href=\"#m5ccbd44989\" />\n     <use style=\"fill:#4575b4;fill-opacity:0.7;stroke:#4575b4;stroke-opacity:0.7;stroke-width:0.3;\" x=\"42.227676\" y=\"30.935459\" xlink:href=\"#m5ccbd44989\" />\n     <use style=\"fill:#4575b4;fill-opacity:0.7;stroke:#4575b4;stroke-opacity:0.7;stroke-width:0.3;\" x=\"40.607364\" y=\"30.301728\" xlink:href=\"#m5ccbd44989\" />\n     <use style=\"fill:#4575b4;fill-opacity:0.7;stroke:#4575b4;stroke-opacity:0.7;stroke-width:0.3;\" x=\"46.404882\" y=\"12.71467\" xlink:href=\"#m5ccbd44989\" />\n     <use style=\"fill:#4575b4;fill-opacity:0.7;stroke:#4575b4;stroke-opacity:0.7;stroke-width:0.3;\" x=\"35.896354\" y=\"29.995574\" xlink:href=\"#m5ccbd44989\" />\n     <use style=\"fill:#4575b4;fill-opacity:0.7;stroke:#4575b4;stroke-opacity:0.7;stroke-width:0.3;\" x=\"40.508908\" y=\"20.253423\" xlink:href=\"#m5ccbd44989\" />\n     <use style=\"fill:#4575b4;fill-opacity:0.7;stroke:#4575b4;stroke-opacity:0.7;stroke-width:0.3;\" x=\"44.523067\" y=\"21.492732\" xlink:href=\"#m5ccbd44989\" />\n     <use style=\"fill:#4575b4;fill-opacity:0.7;stroke:#4575b4;stroke-opacity:0.7;stroke-width:0.3;\" x=\"41.426883\" y=\"41.741634\" xlink:href=\"#m5ccbd44989\" />\n     <use style=\"fill:#4575b4;fill-opacity:0.7;stroke:#4575b4;stroke-opacity:0.7;stroke-width:0.3;\" x=\"45.682624\" y=\"19.392736\" xlink:href=\"#m5ccbd44989\" />\n     <use style=\"fill:#4575b4;fill-opacity:0.7;stroke:#4575b4;stroke-opacity:0.7;stroke-width:0.3;\" x=\"42.556664\" y=\"40.3782\" xlink:href=\"#m5ccbd44989\" />\n     <use style=\"fill:#4575b4;fill-opacity:0.7;stroke:#4575b4;stroke-opacity:0.7;stroke-width:0.3;\" x=\"38.719285\" y=\"35.981068\" xlink:href=\"#m5ccbd44989\" />\n     <use style=\"fill:#4575b4;fill-opacity:0.7;stroke:#4575b4;stroke-opacity:0.7;stroke-width:0.3;\" x=\"44.540469\" y=\"26.076492\" xlink:href=\"#m5ccbd44989\" />\n     <use style=\"fill:#4575b4;fill-opacity:0.7;stroke:#4575b4;stroke-opacity:0.7;stroke-width:0.3;\" x=\"42.147547\" y=\"29.116374\" xlink:href=\"#m5ccbd44989\" />\n     <use style=\"fill:#4575b4;fill-opacity:0.7;stroke:#4575b4;stroke-opacity:0.7;stroke-width:0.3;\" x=\"40.916135\" y=\"28.560256\" xlink:href=\"#m5ccbd44989\" />\n     <use style=\"fill:#4575b4;fill-opacity:0.7;stroke:#4575b4;stroke-opacity:0.7;stroke-width:0.3;\" x=\"42.671218\" y=\"39.744455\" xlink:href=\"#m5ccbd44989\" />\n     <use style=\"fill:#4575b4;fill-opacity:0.7;stroke:#4575b4;stroke-opacity:0.7;stroke-width:0.3;\" x=\"38.428555\" y=\"36.459105\" xlink:href=\"#m5ccbd44989\" />\n     <use style=\"fill:#4575b4;fill-opacity:0.7;stroke:#4575b4;stroke-opacity:0.7;stroke-width:0.3;\" x=\"40.541146\" y=\"19.673634\" xlink:href=\"#m5ccbd44989\" />\n     <use style=\"fill:#4575b4;fill-opacity:0.7;stroke:#4575b4;stroke-opacity:0.7;stroke-width:0.3;\" x=\"38.748933\" y=\"35.519219\" xlink:href=\"#m5ccbd44989\" />\n     <use style=\"fill:#4575b4;fill-opacity:0.7;stroke:#4575b4;stroke-opacity:0.7;stroke-width:0.3;\" x=\"39.806836\" y=\"32.662199\" xlink:href=\"#m5ccbd44989\" />\n     <use style=\"fill:#4575b4;fill-opacity:0.7;stroke:#4575b4;stroke-opacity:0.7;stroke-width:0.3;\" x=\"40.10472\" y=\"31.600138\" xlink:href=\"#m5ccbd44989\" />\n     <use style=\"fill:#4575b4;fill-opacity:0.7;stroke:#4575b4;stroke-opacity:0.7;stroke-width:0.3;\" x=\"40.219984\" y=\"32.662199\" xlink:href=\"#m5ccbd44989\" />\n     <use style=\"fill:#4575b4;fill-opacity:0.7;stroke:#4575b4;stroke-opacity:0.7;stroke-width:0.3;\" x=\"38.732389\" y=\"28.025951\" xlink:href=\"#m5ccbd44989\" />\n     <use style=\"fill:#4575b4;fill-opacity:0.7;stroke:#4575b4;stroke-opacity:0.7;stroke-width:0.3;\" x=\"40.652718\" y=\"21.821011\" xlink:href=\"#m5ccbd44989\" />\n     <use style=\"fill:#4575b4;fill-opacity:0.7;stroke:#4575b4;stroke-opacity:0.7;stroke-width:0.3;\" x=\"39.649846\" y=\"28.025951\" xlink:href=\"#m5ccbd44989\" />\n     <use style=\"fill:#4575b4;fill-opacity:0.7;stroke:#4575b4;stroke-opacity:0.7;stroke-width:0.3;\" x=\"50.124109\" y=\"33.035456\" xlink:href=\"#m5ccbd44989\" />\n     <use style=\"fill:#4575b4;fill-opacity:0.7;stroke:#4575b4;stroke-opacity:0.7;stroke-width:0.3;\" x=\"38.604352\" y=\"25.411814\" xlink:href=\"#m5ccbd44989\" />\n     <use style=\"fill:#4575b4;fill-opacity:0.7;stroke:#4575b4;stroke-opacity:0.7;stroke-width:0.3;\" x=\"40.036356\" y=\"32.662199\" xlink:href=\"#m5ccbd44989\" />\n     <use style=\"fill:#4575b4;fill-opacity:0.7;stroke:#4575b4;stroke-opacity:0.7;stroke-width:0.3;\" x=\"38.781594\" y=\"26.190483\" xlink:href=\"#m5ccbd44989\" />\n     <use style=\"fill:#4575b4;fill-opacity:0.7;stroke:#4575b4;stroke-opacity:0.7;stroke-width:0.3;\" x=\"39.489331\" y=\"33.814125\" xlink:href=\"#m5ccbd44989\" />\n     <use style=\"fill:#4575b4;fill-opacity:0.7;stroke:#4575b4;stroke-opacity:0.7;stroke-width:0.3;\" x=\"34.54494\" y=\"10.373557\" xlink:href=\"#m5ccbd44989\" />\n     <use style=\"fill:#4575b4;fill-opacity:0.7;stroke:#4575b4;stroke-opacity:0.7;stroke-width:0.3;\" x=\"37.987863\" y=\"31.945033\" xlink:href=\"#m5ccbd44989\" />\n     <use style=\"fill:#4575b4;fill-opacity:0.7;stroke:#4575b4;stroke-opacity:0.7;stroke-width:0.3;\" x=\"36.085829\" y=\"43.66355\" xlink:href=\"#m5ccbd44989\" />\n     <use style=\"fill:#4575b4;fill-opacity:0.7;stroke:#4575b4;stroke-opacity:0.7;stroke-width:0.3;\" x=\"46.040081\" y=\"17.819106\" xlink:href=\"#m5ccbd44989\" />\n     <use style=\"fill:#4575b4;fill-opacity:0.7;stroke:#4575b4;stroke-opacity:0.7;stroke-width:0.3;\" x=\"39.989398\" y=\"15.54333\" xlink:href=\"#m5ccbd44989\" />\n     <use style=\"fill:#4575b4;fill-opacity:0.7;stroke:#4575b4;stroke-opacity:0.7;stroke-width:0.3;\" x=\"36.76967\" y=\"26.076492\" xlink:href=\"#m5ccbd44989\" />\n     <use style=\"fill:#4575b4;fill-opacity:0.7;stroke:#4575b4;stroke-opacity:0.7;stroke-width:0.3;\" x=\"48.342175\" y=\"20.552847\" xlink:href=\"#m5ccbd44989\" />\n     <use style=\"fill:#4575b4;fill-opacity:0.7;stroke:#4575b4;stroke-opacity:0.7;stroke-width:0.3;\" x=\"40.753023\" y=\"21.492732\" xlink:href=\"#m5ccbd44989\" />\n     <use style=\"fill:#4575b4;fill-opacity:0.7;stroke:#4575b4;stroke-opacity:0.7;stroke-width:0.3;\" x=\"37.617754\" y=\"34.640019\" xlink:href=\"#m5ccbd44989\" />\n     <use style=\"fill:#4575b4;fill-opacity:0.7;stroke:#4575b4;stroke-opacity:0.7;stroke-width:0.3;\" x=\"40.965202\" y=\"34.640019\" xlink:href=\"#m5ccbd44989\" />\n     <use style=\"fill:#4575b4;fill-opacity:0.7;stroke:#4575b4;stroke-opacity:0.7;stroke-width:0.3;\" x=\"39.942675\" y=\"37.468679\" xlink:href=\"#m5ccbd44989\" />\n     <use style=\"fill:#4575b4;fill-opacity:0.7;stroke:#4575b4;stroke-opacity:0.7;stroke-width:0.3;\" x=\"31.422628\" y=\"40.3782\" xlink:href=\"#m5ccbd44989\" />\n    </g>\n   </g>\n   <g id=\"matplotlib.axis_1\" />\n   <g id=\"matplotlib.axis_2\">\n    <g id=\"ytick_1\">\n     <g id=\"line2d_1\">\n      <defs>\n       <path d=\"M 0 0  L -3.5 0  \" id=\"m8fa5d31815\" style=\"stroke:#444443;stroke-width:0.3;\" />\n      </defs>\n      <g>\n       <use style=\"fill:#444443;stroke:#444443;stroke-width:0.3;\" x=\"19.980469\" y=\"30.285345\" xlink:href=\"#m8fa5d31815\" />\n      </g>\n     </g>\n     <g id=\"text_1\">\n      \n      <defs>\n       <path d=\"M 12.40625 8.296875  L 28.515625 8.296875  L 28.515625 63.921875  L 10.984375 60.40625  L 10.984375 69.390625  L 28.421875 72.90625  L 38.28125 72.90625  L 38.28125 8.296875  L 54.390625 8.296875  L 54.390625 0  L 12.40625 0  z \" id=\"DejaVuSans-49\" />\n       <path d=\"M 31.78125 66.40625  Q 24.171875 66.40625 20.328125 58.90625  Q 16.5 51.421875 16.5 36.375  Q 16.5 21.390625 20.328125 13.890625  Q 24.171875 6.390625 31.78125 6.390625  Q 39.453125 6.390625 43.28125 13.890625  Q 47.125 21.390625 47.125 36.375  Q 47.125 51.421875 43.28125 58.90625  Q 39.453125 66.40625 31.78125 66.40625  z M 31.78125 74.21875  Q 44.046875 74.21875 50.515625 64.515625  Q 56.984375 54.828125 56.984375 36.375  Q 56.984375 17.96875 50.515625 8.265625  Q 44.046875 -1.421875 31.78125 -1.421875  Q 19.53125 -1.421875 13.0625 8.265625  Q 6.59375 17.96875 6.59375 36.375  Q 6.59375 54.828125 13.0625 64.515625  Q 19.53125 74.21875 31.78125 74.21875  z \" id=\"DejaVuSans-48\" />\n      </defs>\n      <g style=\"fill:#444443;\" transform=\"translate(2.800469 33.32472)scale(0.08 -0.08)\">\n       <use xlink:href=\"#DejaVuSans-49\" />\n       <use x=\"63.623047\" xlink:href=\"#DejaVuSans-48\" />\n      </g>\n     </g>\n    </g>\n    <g id=\"ytick_2\">\n     <g id=\"line2d_2\">\n      <g>\n       <use style=\"fill:#444443;stroke:#444443;stroke-width:0.3;\" x=\"19.980469\" y=\"3.039375\" xlink:href=\"#m8fa5d31815\" />\n      </g>\n     </g>\n     <g id=\"text_2\">\n      \n      <defs>\n       <path d=\"M 19.1875 8.296875  L 53.609375 8.296875  L 53.609375 0  L 7.328125 0  L 7.328125 8.296875  Q 12.9375 14.109375 22.625 23.890625  Q 32.328125 33.6875 34.8125 36.53125  Q 39.546875 41.84375 41.421875 45.53125  Q 43.3125 49.21875 43.3125 52.78125  Q 43.3125 58.59375 39.234375 62.25  Q 35.15625 65.921875 28.609375 65.921875  Q 23.96875 65.921875 18.8125 64.3125  Q 13.671875 62.703125 7.8125 59.421875  L 7.8125 69.390625  Q 13.765625 71.78125 18.9375 73  Q 24.125 74.21875 28.421875 74.21875  Q 39.75 74.21875 46.484375 68.546875  Q 53.21875 62.890625 53.21875 53.421875  Q 53.21875 48.921875 51.53125 44.890625  Q 49.859375 40.875 45.40625 35.40625  Q 44.1875 33.984375 37.640625 27.21875  Q 31.109375 20.453125 19.1875 8.296875  z \" id=\"DejaVuSans-50\" />\n      </defs>\n      <g style=\"fill:#444443;\" transform=\"translate(2.800469 6.07875)scale(0.08 -0.08)\">\n       <use xlink:href=\"#DejaVuSans-49\" />\n       <use x=\"63.623047\" xlink:href=\"#DejaVuSans-50\" />\n      </g>\n     </g>\n    </g>\n   </g>\n   <g id=\"line2d_3\">\n    <path clip-path=\"url(#p3db2e48be4)\" d=\"M 19.980469 29.29331  L 83.810938 29.29331  \" style=\"fill:none;stroke:#444443;stroke-dasharray:3.7,1.6;stroke-dashoffset:0;\" />\n   </g>\n   <g id=\"patch_3\">\n    <path d=\"M 19.980469 45.667355  L 19.980469 2.179355  \" style=\"fill:none;stroke:#000000;stroke-linecap:square;stroke-linejoin:miter;stroke-width:0.3;\" />\n   </g>\n   <g id=\"text_3\">\n    \n    <defs>\n     <path d=\"M 53.515625 70.515625  L 53.515625 60.890625  Q 47.90625 63.578125 42.921875 64.890625  Q 37.9375 66.21875 33.296875 66.21875  Q 25.25 66.21875 20.875 63.09375  Q 16.5 59.96875 16.5 54.203125  Q 16.5 49.359375 19.40625 46.890625  Q 22.3125 44.4375 30.421875 42.921875  L 36.375 41.703125  Q 47.40625 39.59375 52.65625 34.296875  Q 57.90625 29 57.90625 20.125  Q 57.90625 9.515625 50.796875 4.046875  Q 43.703125 -1.421875 29.984375 -1.421875  Q 24.8125 -1.421875 18.96875 -0.25  Q 13.140625 0.921875 6.890625 3.21875  L 6.890625 13.375  Q 12.890625 10.015625 18.65625 8.296875  Q 24.421875 6.59375 29.984375 6.59375  Q 38.421875 6.59375 43.015625 9.90625  Q 47.609375 13.234375 47.609375 19.390625  Q 47.609375 24.75 44.3125 27.78125  Q 41.015625 30.8125 33.5 32.328125  L 27.484375 33.5  Q 16.453125 35.6875 11.515625 40.375  Q 6.59375 45.0625 6.59375 53.421875  Q 6.59375 63.09375 13.40625 68.65625  Q 20.21875 74.21875 32.171875 74.21875  Q 37.3125 74.21875 42.625 73.28125  Q 47.953125 72.359375 53.515625 70.515625  z \" id=\"DejaVuSans-83\" />\n     <path d=\"M 34.28125 27.484375  Q 23.390625 27.484375 19.1875 25  Q 14.984375 22.515625 14.984375 16.5  Q 14.984375 11.71875 18.140625 8.90625  Q 21.296875 6.109375 26.703125 6.109375  Q 34.1875 6.109375 38.703125 11.40625  Q 43.21875 16.703125 43.21875 25.484375  L 43.21875 27.484375  z M 52.203125 31.203125  L 52.203125 0  L 43.21875 0  L 43.21875 8.296875  Q 40.140625 3.328125 35.546875 0.953125  Q 30.953125 -1.421875 24.3125 -1.421875  Q 15.921875 -1.421875 10.953125 3.296875  Q 6 8.015625 6 15.921875  Q 6 25.140625 12.171875 29.828125  Q 18.359375 34.515625 30.609375 34.515625  L 43.21875 34.515625  L 43.21875 35.40625  Q 43.21875 41.609375 39.140625 45  Q 35.0625 48.390625 27.6875 48.390625  Q 23 48.390625 18.546875 47.265625  Q 14.109375 46.140625 10.015625 43.890625  L 10.015625 52.203125  Q 14.9375 54.109375 19.578125 55.046875  Q 24.21875 56 28.609375 56  Q 40.484375 56 46.34375 49.84375  Q 52.203125 43.703125 52.203125 31.203125  z \" id=\"DejaVuSans-97\" />\n     <path d=\"M 9.421875 75.984375  L 18.40625 75.984375  L 18.40625 0  L 9.421875 0  z \" id=\"DejaVuSans-108\" />\n     <path d=\"M 56.203125 29.59375  L 56.203125 25.203125  L 14.890625 25.203125  Q 15.484375 15.921875 20.484375 11.0625  Q 25.484375 6.203125 34.421875 6.203125  Q 39.59375 6.203125 44.453125 7.46875  Q 49.3125 8.734375 54.109375 11.28125  L 54.109375 2.78125  Q 49.265625 0.734375 44.1875 -0.34375  Q 39.109375 -1.421875 33.890625 -1.421875  Q 20.796875 -1.421875 13.15625 6.1875  Q 5.515625 13.8125 5.515625 26.8125  Q 5.515625 40.234375 12.765625 48.109375  Q 20.015625 56 32.328125 56  Q 43.359375 56 49.78125 48.890625  Q 56.203125 41.796875 56.203125 29.59375  z M 47.21875 32.234375  Q 47.125 39.59375 43.09375 43.984375  Q 39.0625 48.390625 32.421875 48.390625  Q 24.90625 48.390625 20.390625 44.140625  Q 15.875 39.890625 15.1875 32.171875  z \" id=\"DejaVuSans-101\" />\n     <path d=\"M 19.671875 64.796875  L 19.671875 37.40625  L 32.078125 37.40625  Q 38.96875 37.40625 42.71875 40.96875  Q 46.484375 44.53125 46.484375 51.125  Q 46.484375 57.671875 42.71875 61.234375  Q 38.96875 64.796875 32.078125 64.796875  z M 9.8125 72.90625  L 32.078125 72.90625  Q 44.34375 72.90625 50.609375 67.359375  Q 56.890625 61.8125 56.890625 51.125  Q 56.890625 40.328125 50.609375 34.8125  Q 44.34375 29.296875 32.078125 29.296875  L 19.671875 29.296875  L 19.671875 0  L 9.8125 0  z \" id=\"DejaVuSans-80\" />\n     <path d=\"M 41.109375 46.296875  Q 39.59375 47.171875 37.8125 47.578125  Q 36.03125 48 33.890625 48  Q 26.265625 48 22.1875 43.046875  Q 18.109375 38.09375 18.109375 28.8125  L 18.109375 0  L 9.078125 0  L 9.078125 54.6875  L 18.109375 54.6875  L 18.109375 46.1875  Q 20.953125 51.171875 25.484375 53.578125  Q 30.03125 56 36.53125 56  Q 37.453125 56 38.578125 55.875  Q 39.703125 55.765625 41.0625 55.515625  z \" id=\"DejaVuSans-114\" />\n     <path d=\"M 9.421875 54.6875  L 18.40625 54.6875  L 18.40625 0  L 9.421875 0  z M 9.421875 75.984375  L 18.40625 75.984375  L 18.40625 64.59375  L 9.421875 64.59375  z \" id=\"DejaVuSans-105\" />\n     <path d=\"M 48.78125 52.59375  L 48.78125 44.1875  Q 44.96875 46.296875 41.140625 47.34375  Q 37.3125 48.390625 33.40625 48.390625  Q 24.65625 48.390625 19.8125 42.84375  Q 14.984375 37.3125 14.984375 27.296875  Q 14.984375 17.28125 19.8125 11.734375  Q 24.65625 6.203125 33.40625 6.203125  Q 37.3125 6.203125 41.140625 7.25  Q 44.96875 8.296875 48.78125 10.40625  L 48.78125 2.09375  Q 45.015625 0.34375 40.984375 -0.53125  Q 36.96875 -1.421875 32.421875 -1.421875  Q 20.0625 -1.421875 12.78125 6.34375  Q 5.515625 14.109375 5.515625 27.296875  Q 5.515625 40.671875 12.859375 48.328125  Q 20.21875 56 33.015625 56  Q 37.15625 56 41.109375 55.140625  Q 45.0625 54.296875 48.78125 52.59375  z \" id=\"DejaVuSans-99\" />\n     <path d=\"M 10.59375 45.40625  L 73.1875 45.40625  L 73.1875 37.203125  L 10.59375 37.203125  z M 10.59375 25.484375  L 73.1875 25.484375  L 73.1875 17.1875  L 10.59375 17.1875  z \" id=\"DejaVuSans-61\" />\n     <path d=\"M 10.6875 12.40625  L 21 12.40625  L 21 0  L 10.6875 0  z \" id=\"DejaVuSans-46\" />\n     <path d=\"M 8.203125 72.90625  L 55.078125 72.90625  L 55.078125 68.703125  L 28.609375 0  L 18.3125 0  L 43.21875 64.59375  L 8.203125 64.59375  z \" id=\"DejaVuSans-55\" />\n    </defs>\n    <g style=\"fill:#444443;\" transform=\"translate(0 55.015793)scale(0.1 -0.1)\">\n     <use xlink:href=\"#DejaVuSans-83\" />\n     <use x=\"63.476562\" xlink:href=\"#DejaVuSans-97\" />\n     <use x=\"124.755859\" xlink:href=\"#DejaVuSans-108\" />\n     <use x=\"152.539062\" xlink:href=\"#DejaVuSans-101\" />\n     <use x=\"214.0625\" xlink:href=\"#DejaVuSans-80\" />\n     <use x=\"272.615234\" xlink:href=\"#DejaVuSans-114\" />\n     <use x=\"313.728516\" xlink:href=\"#DejaVuSans-105\" />\n     <use x=\"341.511719\" xlink:href=\"#DejaVuSans-99\" />\n     <use x=\"396.492188\" xlink:href=\"#DejaVuSans-101\" />\n     <use x=\"458.015625\" xlink:href=\"#DejaVuSans-61\" />\n     <use x=\"541.804688\" xlink:href=\"#DejaVuSans-49\" />\n     <use x=\"605.427734\" xlink:href=\"#DejaVuSans-48\" />\n     <use x=\"669.050781\" xlink:href=\"#DejaVuSans-46\" />\n     <use x=\"700.837891\" xlink:href=\"#DejaVuSans-48\" />\n     <use x=\"764.460938\" xlink:href=\"#DejaVuSans-55\" />\n    </g>\n    \n    <defs>\n     <path d=\"M 54.890625 33.015625  L 54.890625 0  L 45.90625 0  L 45.90625 32.71875  Q 45.90625 40.484375 42.875 44.328125  Q 39.84375 48.1875 33.796875 48.1875  Q 26.515625 48.1875 22.3125 43.546875  Q 18.109375 38.921875 18.109375 30.90625  L 18.109375 0  L 9.078125 0  L 9.078125 54.6875  L 18.109375 54.6875  L 18.109375 46.1875  Q 21.34375 51.125 25.703125 53.5625  Q 30.078125 56 35.796875 56  Q 45.21875 56 50.046875 50.171875  Q 54.890625 44.34375 54.890625 33.015625  z \" id=\"DejaVuSans-110\" />\n    </defs>\n    <g style=\"fill:#444443;\" transform=\"translate(24.503125 66.213605)scale(0.1 -0.1)\">\n     <use xlink:href=\"#DejaVuSans-110\" />\n     <use x=\"63.378906\" xlink:href=\"#DejaVuSans-61\" />\n     <use x=\"147.167969\" xlink:href=\"#DejaVuSans-50\" />\n     <use x=\"210.791016\" xlink:href=\"#DejaVuSans-48\" />\n     <use x=\"274.414062\" xlink:href=\"#DejaVuSans-50\" />\n    </g>\n   </g>\n  </g>\n </g>\n <defs>\n  <clipPath id=\"p3db2e48be4\">\n   <rect height=\"43.488\" width=\"41.85\" x=\"19.980469\" y=\"2.179355\" />\n  </clipPath>\n </defs>\n</svg></g>\n\n<g class=\"edge\" id=\"edge4\">\n<title>node1-&gt;leaf3</title>\n<path d=\"M298.1555,-128.8153C312.9018,-131.9823 328.0626,-135.2383 341.2924,-138.0796\" fill=\"none\" stroke=\"#444443\" stroke-width=\".3\" />\n<polygon fill=\"#444443\" points=\"341.1287,-139.4763 345.3336,-138.9475 341.7167,-136.7387 341.1287,-139.4763\" stroke=\"#444443\" stroke-width=\".3\" />\n</g>\n\n<g class=\"node\" id=\"node7\">\n<title>leaf2</title>\n<polygon fill=\"none\" points=\"264,-63 199,-63 199,-4 264,-4 264,-63\" stroke=\"#444443\" stroke-width=\"0\" />\n<svg height=\"51px\" preserveAspectRatio=\"xMinYMin meet\" version=\"1.1\" viewBox=\"0 0 76.829219 68.293293\" width=\"57px\" x=\"203.5\" y=\"-58.5\">\n <defs>\n  <style type=\"text/css\">\n*{stroke-linecap:butt;stroke-linejoin:round;}\n  </style>\n </defs>\n <g id=\"figure_1\">\n  <g id=\"patch_1\">\n   <path d=\"M -0 68.293293  L 76.829219 68.293293  L 76.829219 0  L -0 0  z \" style=\"fill:#ffffff;\" />\n  </g>\n  <g id=\"axes_1\">\n   <g id=\"patch_2\">\n    <path d=\"M 17.18 45.667355  L 59.03 45.667355  L 59.03 2.179355  L 17.18 2.179355  z \" style=\"fill:#ffffff;\" />\n   </g>\n   <g id=\"PathCollection_1\">\n    <defs>\n     <path d=\"M 0 1.118034  C 0.296506 1.118034 0.580908 1.000231 0.790569 0.790569  C 1.000231 0.580908 1.118034 0.296506 1.118034 0  C 1.118034 -0.296506 1.000231 -0.580908 0.790569 -0.790569  C 0.580908 -1.000231 0.296506 -1.118034 0 -1.118034  C -0.296506 -1.118034 -0.580908 -1.000231 -0.790569 -0.790569  C -1.000231 -0.580908 -1.118034 -0.296506 -1.118034 0  C -1.118034 0.296506 -1.000231 0.580908 -0.790569 0.790569  C -0.580908 1.000231 -0.296506 1.118034 0 1.118034  z \" id=\"m5f60c3d328\" style=\"stroke:#4575b4;stroke-opacity:0.7;stroke-width:0.3;\" />\n    </defs>\n    <g clip-path=\"url(#p41d00e95ee)\">\n     <use style=\"fill:#4575b4;fill-opacity:0.7;stroke:#4575b4;stroke-opacity:0.7;stroke-width:0.3;\" x=\"34.187763\" y=\"41.042865\" xlink:href=\"#m5f60c3d328\" />\n     <use style=\"fill:#4575b4;fill-opacity:0.7;stroke:#4575b4;stroke-opacity:0.7;stroke-width:0.3;\" x=\"39.796123\" y=\"33.814125\" xlink:href=\"#m5f60c3d328\" />\n     <use style=\"fill:#4575b4;fill-opacity:0.7;stroke:#4575b4;stroke-opacity:0.7;stroke-width:0.3;\" x=\"35.911827\" y=\"39.13889\" xlink:href=\"#m5f60c3d328\" />\n     <use style=\"fill:#4575b4;fill-opacity:0.7;stroke:#4575b4;stroke-opacity:0.7;stroke-width:0.3;\" x=\"38.434804\" y=\"48.001841\" xlink:href=\"#m5f60c3d328\" />\n     <use style=\"fill:#4575b4;fill-opacity:0.7;stroke:#4575b4;stroke-opacity:0.7;stroke-width:0.3;\" x=\"34.419059\" y=\"49.187195\" xlink:href=\"#m5f60c3d328\" />\n     <use style=\"fill:#4575b4;fill-opacity:0.7;stroke:#4575b4;stroke-opacity:0.7;stroke-width:0.3;\" x=\"34.878303\" y=\"45.423795\" xlink:href=\"#m5f60c3d328\" />\n     <use style=\"fill:#4575b4;fill-opacity:0.7;stroke:#4575b4;stroke-opacity:0.7;stroke-width:0.3;\" x=\"43.074229\" y=\"41.042865\" xlink:href=\"#m5f60c3d328\" />\n     <use style=\"fill:#4575b4;fill-opacity:0.7;stroke:#4575b4;stroke-opacity:0.7;stroke-width:0.3;\" x=\"33.322641\" y=\"44.082746\" xlink:href=\"#m5f60c3d328\" />\n     <use style=\"fill:#4575b4;fill-opacity:0.7;stroke:#4575b4;stroke-opacity:0.7;stroke-width:0.3;\" x=\"36.484403\" y=\"46.911419\" xlink:href=\"#m5f60c3d328\" />\n     <use style=\"fill:#4575b4;fill-opacity:0.7;stroke:#4575b4;stroke-opacity:0.7;stroke-width:0.3;\" x=\"41.033805\" y=\"43.256865\" xlink:href=\"#m5f60c3d328\" />\n     <use style=\"fill:#4575b4;fill-opacity:0.7;stroke:#4575b4;stroke-opacity:0.7;stroke-width:0.3;\" x=\"40.314109\" y=\"33.814125\" xlink:href=\"#m5f60c3d328\" />\n     <use style=\"fill:#4575b4;fill-opacity:0.7;stroke:#4575b4;stroke-opacity:0.7;stroke-width:0.3;\" x=\"41.779841\" y=\"38.559101\" xlink:href=\"#m5f60c3d328\" />\n     <use style=\"fill:#4575b4;fill-opacity:0.7;stroke:#4575b4;stroke-opacity:0.7;stroke-width:0.3;\" x=\"39.562291\" y=\"37.468679\" xlink:href=\"#m5f60c3d328\" />\n     <use style=\"fill:#4575b4;fill-opacity:0.7;stroke:#4575b4;stroke-opacity:0.7;stroke-width:0.3;\" x=\"30.177769\" y=\"35.519219\" xlink:href=\"#m5f60c3d328\" />\n     <use style=\"fill:#4575b4;fill-opacity:0.7;stroke:#4575b4;stroke-opacity:0.7;stroke-width:0.3;\" x=\"31.127075\" y=\"38.002983\" xlink:href=\"#m5f60c3d328\" />\n     <use style=\"fill:#4575b4;fill-opacity:0.7;stroke:#4575b4;stroke-opacity:0.7;stroke-width:0.3;\" x=\"39.349069\" y=\"33.814125\" xlink:href=\"#m5f60c3d328\" />\n     <use style=\"fill:#4575b4;fill-opacity:0.7;stroke:#4575b4;stroke-opacity:0.7;stroke-width:0.3;\" x=\"40.289687\" y=\"37.679901\" xlink:href=\"#m5f60c3d328\" />\n     <use style=\"fill:#4575b4;fill-opacity:0.7;stroke:#4575b4;stroke-opacity:0.7;stroke-width:0.3;\" x=\"36.179463\" y=\"38.559101\" xlink:href=\"#m5f60c3d328\" />\n     <use style=\"fill:#4575b4;fill-opacity:0.7;stroke:#4575b4;stroke-opacity:0.7;stroke-width:0.3;\" x=\"35.415075\" y=\"42.478196\" xlink:href=\"#m5f60c3d328\" />\n     <use style=\"fill:#4575b4;fill-opacity:0.7;stroke:#4575b4;stroke-opacity:0.7;stroke-width:0.3;\" x=\"40.560998\" y=\"44.96196\" xlink:href=\"#m5f60c3d328\" />\n     <use style=\"fill:#4575b4;fill-opacity:0.7;stroke:#4575b4;stroke-opacity:0.7;stroke-width:0.3;\" x=\"34.980728\" y=\"39.744455\" xlink:href=\"#m5f60c3d328\" />\n     <use style=\"fill:#4575b4;fill-opacity:0.7;stroke:#4575b4;stroke-opacity:0.7;stroke-width:0.3;\" x=\"37.222109\" y=\"44.082746\" xlink:href=\"#m5f60c3d328\" />\n     <use style=\"fill:#4575b4;fill-opacity:0.7;stroke:#4575b4;stroke-opacity:0.7;stroke-width:0.3;\" x=\"39.003885\" y=\"42.478196\" xlink:href=\"#m5f60c3d328\" />\n     <use style=\"fill:#4575b4;fill-opacity:0.7;stroke:#4575b4;stroke-opacity:0.7;stroke-width:0.3;\" x=\"40.826088\" y=\"43.256865\" xlink:href=\"#m5f60c3d328\" />\n     <use style=\"fill:#4575b4;fill-opacity:0.7;stroke:#4575b4;stroke-opacity:0.7;stroke-width:0.3;\" x=\"36.746116\" y=\"44.082746\" xlink:href=\"#m5f60c3d328\" />\n     <use style=\"fill:#4575b4;fill-opacity:0.7;stroke:#4575b4;stroke-opacity:0.7;stroke-width:0.3;\" x=\"37.287529\" y=\"38.559101\" xlink:href=\"#m5f60c3d328\" />\n     <use style=\"fill:#4575b4;fill-opacity:0.7;stroke:#4575b4;stroke-opacity:0.7;stroke-width:0.3;\" x=\"37.545659\" y=\"48.001841\" xlink:href=\"#m5f60c3d328\" />\n     <use style=\"fill:#4575b4;fill-opacity:0.7;stroke:#4575b4;stroke-opacity:0.7;stroke-width:0.3;\" x=\"42.454534\" y=\"49.187195\" xlink:href=\"#m5f60c3d328\" />\n     <use style=\"fill:#4575b4;fill-opacity:0.7;stroke:#4575b4;stroke-opacity:0.7;stroke-width:0.3;\" x=\"35.256847\" y=\"42.478196\" xlink:href=\"#m5f60c3d328\" />\n     <use style=\"fill:#4575b4;fill-opacity:0.7;stroke:#4575b4;stroke-opacity:0.7;stroke-width:0.3;\" x=\"39.780147\" y=\"40.3782\" xlink:href=\"#m5f60c3d328\" />\n     <use style=\"fill:#4575b4;fill-opacity:0.7;stroke:#4575b4;stroke-opacity:0.7;stroke-width:0.3;\" x=\"39.298851\" y=\"43.256865\" xlink:href=\"#m5f60c3d328\" />\n     <use style=\"fill:#4575b4;fill-opacity:0.7;stroke:#4575b4;stroke-opacity:0.7;stroke-width:0.3;\" x=\"36.449792\" y=\"48.001841\" xlink:href=\"#m5f60c3d328\" />\n     <use style=\"fill:#4575b4;fill-opacity:0.7;stroke:#4575b4;stroke-opacity:0.7;stroke-width:0.3;\" x=\"35.165787\" y=\"44.96196\" xlink:href=\"#m5f60c3d328\" />\n     <use style=\"fill:#4575b4;fill-opacity:0.7;stroke:#4575b4;stroke-opacity:0.7;stroke-width:0.3;\" x=\"36.738714\" y=\"38.002983\" xlink:href=\"#m5f60c3d328\" />\n     <use style=\"fill:#4575b4;fill-opacity:0.7;stroke:#4575b4;stroke-opacity:0.7;stroke-width:0.3;\" x=\"36.886431\" y=\"46.911419\" xlink:href=\"#m5f60c3d328\" />\n     <use style=\"fill:#4575b4;fill-opacity:0.7;stroke:#4575b4;stroke-opacity:0.7;stroke-width:0.3;\" x=\"33.703401\" y=\"39.744455\" xlink:href=\"#m5f60c3d328\" />\n     <use style=\"fill:#4575b4;fill-opacity:0.7;stroke:#4575b4;stroke-opacity:0.7;stroke-width:0.3;\" x=\"43.69013\" y=\"40.3782\" xlink:href=\"#m5f60c3d328\" />\n     <use style=\"fill:#4575b4;fill-opacity:0.7;stroke:#4575b4;stroke-opacity:0.7;stroke-width:0.3;\" x=\"33.100161\" y=\"44.082746\" xlink:href=\"#m5f60c3d328\" />\n     <use style=\"fill:#4575b4;fill-opacity:0.7;stroke:#4575b4;stroke-opacity:0.7;stroke-width:0.3;\" x=\"32.047988\" y=\"44.082746\" xlink:href=\"#m5f60c3d328\" />\n     <use style=\"fill:#4575b4;fill-opacity:0.7;stroke:#4575b4;stroke-opacity:0.7;stroke-width:0.3;\" x=\"36.852244\" y=\"42.861963\" xlink:href=\"#m5f60c3d328\" />\n     <use style=\"fill:#4575b4;fill-opacity:0.7;stroke:#4575b4;stroke-opacity:0.7;stroke-width:0.3;\" x=\"37.746632\" y=\"36.459105\" xlink:href=\"#m5f60c3d328\" />\n     <use style=\"fill:#4575b4;fill-opacity:0.7;stroke:#4575b4;stroke-opacity:0.7;stroke-width:0.3;\" x=\"36.673722\" y=\"44.082746\" xlink:href=\"#m5f60c3d328\" />\n     <use style=\"fill:#4575b4;fill-opacity:0.7;stroke:#4575b4;stroke-opacity:0.7;stroke-width:0.3;\" x=\"41.740213\" y=\"45.901845\" xlink:href=\"#m5f60c3d328\" />\n     <use style=\"fill:#4575b4;fill-opacity:0.7;stroke:#4575b4;stroke-opacity:0.7;stroke-width:0.3;\" x=\"33.004573\" y=\"44.082746\" xlink:href=\"#m5f60c3d328\" />\n     <use style=\"fill:#4575b4;fill-opacity:0.7;stroke:#4575b4;stroke-opacity:0.7;stroke-width:0.3;\" x=\"34.737516\" y=\"37.468679\" xlink:href=\"#m5f60c3d328\" />\n     <use style=\"fill:#4575b4;fill-opacity:0.7;stroke:#4575b4;stroke-opacity:0.7;stroke-width:0.3;\" x=\"39.196065\" y=\"37.468679\" xlink:href=\"#m5f60c3d328\" />\n     <use style=\"fill:#4575b4;fill-opacity:0.7;stroke:#4575b4;stroke-opacity:0.7;stroke-width:0.3;\" x=\"37.47184\" y=\"33.814125\" xlink:href=\"#m5f60c3d328\" />\n     <use style=\"fill:#4575b4;fill-opacity:0.7;stroke:#4575b4;stroke-opacity:0.7;stroke-width:0.3;\" x=\"38.806089\" y=\"38.002983\" xlink:href=\"#m5f60c3d328\" />\n     <use style=\"fill:#4575b4;fill-opacity:0.7;stroke:#4575b4;stroke-opacity:0.7;stroke-width:0.3;\" x=\"36.28193\" y=\"41.042865\" xlink:href=\"#m5f60c3d328\" />\n     <use style=\"fill:#4575b4;fill-opacity:0.7;stroke:#4575b4;stroke-opacity:0.7;stroke-width:0.3;\" x=\"36.315741\" y=\"37.468679\" xlink:href=\"#m5f60c3d328\" />\n     <use style=\"fill:#4575b4;fill-opacity:0.7;stroke:#4575b4;stroke-opacity:0.7;stroke-width:0.3;\" x=\"37.610934\" y=\"42.861963\" xlink:href=\"#m5f60c3d328\" />\n     <use style=\"fill:#4575b4;fill-opacity:0.7;stroke:#4575b4;stroke-opacity:0.7;stroke-width:0.3;\" x=\"42.740068\" y=\"41.741634\" xlink:href=\"#m5f60c3d328\" />\n     <use style=\"fill:#4575b4;fill-opacity:0.7;stroke:#4575b4;stroke-opacity:0.7;stroke-width:0.3;\" x=\"27.705927\" y=\"45.708604\" xlink:href=\"#m5f60c3d328\" />\n     <use style=\"fill:#4575b4;fill-opacity:0.7;stroke:#4575b4;stroke-opacity:0.7;stroke-width:0.3;\" x=\"34.908691\" y=\"42.478196\" xlink:href=\"#m5f60c3d328\" />\n     <use style=\"fill:#4575b4;fill-opacity:0.7;stroke:#4575b4;stroke-opacity:0.7;stroke-width:0.3;\" x=\"39.241881\" y=\"42.478196\" xlink:href=\"#m5f60c3d328\" />\n     <use style=\"fill:#4575b4;fill-opacity:0.7;stroke:#4575b4;stroke-opacity:0.7;stroke-width:0.3;\" x=\"35.013558\" y=\"44.082746\" xlink:href=\"#m5f60c3d328\" />\n    </g>\n   </g>\n   <g id=\"matplotlib.axis_1\" />\n   <g id=\"matplotlib.axis_2\">\n    <g id=\"ytick_1\">\n     <g id=\"line2d_1\">\n      <defs>\n       <path d=\"M 0 0  L -3.5 0  \" id=\"m8299a06ec2\" style=\"stroke:#444443;stroke-width:0.3;\" />\n      </defs>\n      <g>\n       <use style=\"fill:#444443;stroke:#444443;stroke-width:0.3;\" x=\"17.18\" y=\"30.285345\" xlink:href=\"#m8299a06ec2\" />\n      </g>\n     </g>\n     <g id=\"text_1\">\n      \n      <defs>\n       <path d=\"M 12.40625 8.296875  L 28.515625 8.296875  L 28.515625 63.921875  L 10.984375 60.40625  L 10.984375 69.390625  L 28.421875 72.90625  L 38.28125 72.90625  L 38.28125 8.296875  L 54.390625 8.296875  L 54.390625 0  L 12.40625 0  z \" id=\"DejaVuSans-49\" />\n       <path d=\"M 31.78125 66.40625  Q 24.171875 66.40625 20.328125 58.90625  Q 16.5 51.421875 16.5 36.375  Q 16.5 21.390625 20.328125 13.890625  Q 24.171875 6.390625 31.78125 6.390625  Q 39.453125 6.390625 43.28125 13.890625  Q 47.125 21.390625 47.125 36.375  Q 47.125 51.421875 43.28125 58.90625  Q 39.453125 66.40625 31.78125 66.40625  z M 31.78125 74.21875  Q 44.046875 74.21875 50.515625 64.515625  Q 56.984375 54.828125 56.984375 36.375  Q 56.984375 17.96875 50.515625 8.265625  Q 44.046875 -1.421875 31.78125 -1.421875  Q 19.53125 -1.421875 13.0625 8.265625  Q 6.59375 17.96875 6.59375 36.375  Q 6.59375 54.828125 13.0625 64.515625  Q 19.53125 74.21875 31.78125 74.21875  z \" id=\"DejaVuSans-48\" />\n      </defs>\n      <g style=\"fill:#444443;\" transform=\"translate(0 33.32472)scale(0.08 -0.08)\">\n       <use xlink:href=\"#DejaVuSans-49\" />\n       <use x=\"63.623047\" xlink:href=\"#DejaVuSans-48\" />\n      </g>\n     </g>\n    </g>\n    <g id=\"ytick_2\">\n     <g id=\"line2d_2\">\n      <g>\n       <use style=\"fill:#444443;stroke:#444443;stroke-width:0.3;\" x=\"17.18\" y=\"3.039375\" xlink:href=\"#m8299a06ec2\" />\n      </g>\n     </g>\n     <g id=\"text_2\">\n      \n      <defs>\n       <path d=\"M 19.1875 8.296875  L 53.609375 8.296875  L 53.609375 0  L 7.328125 0  L 7.328125 8.296875  Q 12.9375 14.109375 22.625 23.890625  Q 32.328125 33.6875 34.8125 36.53125  Q 39.546875 41.84375 41.421875 45.53125  Q 43.3125 49.21875 43.3125 52.78125  Q 43.3125 58.59375 39.234375 62.25  Q 35.15625 65.921875 28.609375 65.921875  Q 23.96875 65.921875 18.8125 64.3125  Q 13.671875 62.703125 7.8125 59.421875  L 7.8125 69.390625  Q 13.765625 71.78125 18.9375 73  Q 24.125 74.21875 28.421875 74.21875  Q 39.75 74.21875 46.484375 68.546875  Q 53.21875 62.890625 53.21875 53.421875  Q 53.21875 48.921875 51.53125 44.890625  Q 49.859375 40.875 45.40625 35.40625  Q 44.1875 33.984375 37.640625 27.21875  Q 31.109375 20.453125 19.1875 8.296875  z \" id=\"DejaVuSans-50\" />\n      </defs>\n      <g style=\"fill:#444443;\" transform=\"translate(0 6.07875)scale(0.08 -0.08)\">\n       <use xlink:href=\"#DejaVuSans-49\" />\n       <use x=\"63.623047\" xlink:href=\"#DejaVuSans-50\" />\n      </g>\n     </g>\n    </g>\n   </g>\n   <g id=\"line2d_3\">\n    <path clip-path=\"url(#p41d00e95ee)\" d=\"M 17.18 41.65069  L 77.829219 41.65069  \" style=\"fill:none;stroke:#444443;stroke-dasharray:3.7,1.6;stroke-dashoffset:0;\" />\n   </g>\n   <g id=\"patch_3\">\n    <path d=\"M 17.18 45.667355  L 17.18 2.179355  \" style=\"fill:none;stroke:#000000;stroke-linecap:square;stroke-linejoin:miter;stroke-width:0.3;\" />\n   </g>\n   <g id=\"text_3\">\n    \n    <defs>\n     <path d=\"M 53.515625 70.515625  L 53.515625 60.890625  Q 47.90625 63.578125 42.921875 64.890625  Q 37.9375 66.21875 33.296875 66.21875  Q 25.25 66.21875 20.875 63.09375  Q 16.5 59.96875 16.5 54.203125  Q 16.5 49.359375 19.40625 46.890625  Q 22.3125 44.4375 30.421875 42.921875  L 36.375 41.703125  Q 47.40625 39.59375 52.65625 34.296875  Q 57.90625 29 57.90625 20.125  Q 57.90625 9.515625 50.796875 4.046875  Q 43.703125 -1.421875 29.984375 -1.421875  Q 24.8125 -1.421875 18.96875 -0.25  Q 13.140625 0.921875 6.890625 3.21875  L 6.890625 13.375  Q 12.890625 10.015625 18.65625 8.296875  Q 24.421875 6.59375 29.984375 6.59375  Q 38.421875 6.59375 43.015625 9.90625  Q 47.609375 13.234375 47.609375 19.390625  Q 47.609375 24.75 44.3125 27.78125  Q 41.015625 30.8125 33.5 32.328125  L 27.484375 33.5  Q 16.453125 35.6875 11.515625 40.375  Q 6.59375 45.0625 6.59375 53.421875  Q 6.59375 63.09375 13.40625 68.65625  Q 20.21875 74.21875 32.171875 74.21875  Q 37.3125 74.21875 42.625 73.28125  Q 47.953125 72.359375 53.515625 70.515625  z \" id=\"DejaVuSans-83\" />\n     <path d=\"M 34.28125 27.484375  Q 23.390625 27.484375 19.1875 25  Q 14.984375 22.515625 14.984375 16.5  Q 14.984375 11.71875 18.140625 8.90625  Q 21.296875 6.109375 26.703125 6.109375  Q 34.1875 6.109375 38.703125 11.40625  Q 43.21875 16.703125 43.21875 25.484375  L 43.21875 27.484375  z M 52.203125 31.203125  L 52.203125 0  L 43.21875 0  L 43.21875 8.296875  Q 40.140625 3.328125 35.546875 0.953125  Q 30.953125 -1.421875 24.3125 -1.421875  Q 15.921875 -1.421875 10.953125 3.296875  Q 6 8.015625 6 15.921875  Q 6 25.140625 12.171875 29.828125  Q 18.359375 34.515625 30.609375 34.515625  L 43.21875 34.515625  L 43.21875 35.40625  Q 43.21875 41.609375 39.140625 45  Q 35.0625 48.390625 27.6875 48.390625  Q 23 48.390625 18.546875 47.265625  Q 14.109375 46.140625 10.015625 43.890625  L 10.015625 52.203125  Q 14.9375 54.109375 19.578125 55.046875  Q 24.21875 56 28.609375 56  Q 40.484375 56 46.34375 49.84375  Q 52.203125 43.703125 52.203125 31.203125  z \" id=\"DejaVuSans-97\" />\n     <path d=\"M 9.421875 75.984375  L 18.40625 75.984375  L 18.40625 0  L 9.421875 0  z \" id=\"DejaVuSans-108\" />\n     <path d=\"M 56.203125 29.59375  L 56.203125 25.203125  L 14.890625 25.203125  Q 15.484375 15.921875 20.484375 11.0625  Q 25.484375 6.203125 34.421875 6.203125  Q 39.59375 6.203125 44.453125 7.46875  Q 49.3125 8.734375 54.109375 11.28125  L 54.109375 2.78125  Q 49.265625 0.734375 44.1875 -0.34375  Q 39.109375 -1.421875 33.890625 -1.421875  Q 20.796875 -1.421875 13.15625 6.1875  Q 5.515625 13.8125 5.515625 26.8125  Q 5.515625 40.234375 12.765625 48.109375  Q 20.015625 56 32.328125 56  Q 43.359375 56 49.78125 48.890625  Q 56.203125 41.796875 56.203125 29.59375  z M 47.21875 32.234375  Q 47.125 39.59375 43.09375 43.984375  Q 39.0625 48.390625 32.421875 48.390625  Q 24.90625 48.390625 20.390625 44.140625  Q 15.875 39.890625 15.1875 32.171875  z \" id=\"DejaVuSans-101\" />\n     <path d=\"M 19.671875 64.796875  L 19.671875 37.40625  L 32.078125 37.40625  Q 38.96875 37.40625 42.71875 40.96875  Q 46.484375 44.53125 46.484375 51.125  Q 46.484375 57.671875 42.71875 61.234375  Q 38.96875 64.796875 32.078125 64.796875  z M 9.8125 72.90625  L 32.078125 72.90625  Q 44.34375 72.90625 50.609375 67.359375  Q 56.890625 61.8125 56.890625 51.125  Q 56.890625 40.328125 50.609375 34.8125  Q 44.34375 29.296875 32.078125 29.296875  L 19.671875 29.296875  L 19.671875 0  L 9.8125 0  z \" id=\"DejaVuSans-80\" />\n     <path d=\"M 41.109375 46.296875  Q 39.59375 47.171875 37.8125 47.578125  Q 36.03125 48 33.890625 48  Q 26.265625 48 22.1875 43.046875  Q 18.109375 38.09375 18.109375 28.8125  L 18.109375 0  L 9.078125 0  L 9.078125 54.6875  L 18.109375 54.6875  L 18.109375 46.1875  Q 20.953125 51.171875 25.484375 53.578125  Q 30.03125 56 36.53125 56  Q 37.453125 56 38.578125 55.875  Q 39.703125 55.765625 41.0625 55.515625  z \" id=\"DejaVuSans-114\" />\n     <path d=\"M 9.421875 54.6875  L 18.40625 54.6875  L 18.40625 0  L 9.421875 0  z M 9.421875 75.984375  L 18.40625 75.984375  L 18.40625 64.59375  L 9.421875 64.59375  z \" id=\"DejaVuSans-105\" />\n     <path d=\"M 48.78125 52.59375  L 48.78125 44.1875  Q 44.96875 46.296875 41.140625 47.34375  Q 37.3125 48.390625 33.40625 48.390625  Q 24.65625 48.390625 19.8125 42.84375  Q 14.984375 37.3125 14.984375 27.296875  Q 14.984375 17.28125 19.8125 11.734375  Q 24.65625 6.203125 33.40625 6.203125  Q 37.3125 6.203125 41.140625 7.25  Q 44.96875 8.296875 48.78125 10.40625  L 48.78125 2.09375  Q 45.015625 0.34375 40.984375 -0.53125  Q 36.96875 -1.421875 32.421875 -1.421875  Q 20.0625 -1.421875 12.78125 6.34375  Q 5.515625 14.109375 5.515625 27.296875  Q 5.515625 40.671875 12.859375 48.328125  Q 20.21875 56 33.015625 56  Q 37.15625 56 41.109375 55.140625  Q 45.0625 54.296875 48.78125 52.59375  z \" id=\"DejaVuSans-99\" />\n     <path d=\"M 10.59375 45.40625  L 73.1875 45.40625  L 73.1875 37.203125  L 10.59375 37.203125  z M 10.59375 25.484375  L 73.1875 25.484375  L 73.1875 17.1875  L 10.59375 17.1875  z \" id=\"DejaVuSans-61\" />\n     <path d=\"M 10.984375 1.515625  L 10.984375 10.5  Q 14.703125 8.734375 18.5 7.8125  Q 22.3125 6.890625 25.984375 6.890625  Q 35.75 6.890625 40.890625 13.453125  Q 46.046875 20.015625 46.78125 33.40625  Q 43.953125 29.203125 39.59375 26.953125  Q 35.25 24.703125 29.984375 24.703125  Q 19.046875 24.703125 12.671875 31.3125  Q 6.296875 37.9375 6.296875 49.421875  Q 6.296875 60.640625 12.9375 67.421875  Q 19.578125 74.21875 30.609375 74.21875  Q 43.265625 74.21875 49.921875 64.515625  Q 56.59375 54.828125 56.59375 36.375  Q 56.59375 19.140625 48.40625 8.859375  Q 40.234375 -1.421875 26.421875 -1.421875  Q 22.703125 -1.421875 18.890625 -0.6875  Q 15.09375 0.046875 10.984375 1.515625  z M 30.609375 32.421875  Q 37.25 32.421875 41.125 36.953125  Q 45.015625 41.5 45.015625 49.421875  Q 45.015625 57.28125 41.125 61.84375  Q 37.25 66.40625 30.609375 66.40625  Q 23.96875 66.40625 20.09375 61.84375  Q 16.21875 57.28125 16.21875 49.421875  Q 16.21875 41.5 20.09375 36.953125  Q 23.96875 32.421875 30.609375 32.421875  z \" id=\"DejaVuSans-57\" />\n     <path d=\"M 10.6875 12.40625  L 21 12.40625  L 21 0  L 10.6875 0  z \" id=\"DejaVuSans-46\" />\n     <path d=\"M 8.203125 72.90625  L 55.078125 72.90625  L 55.078125 68.703125  L 28.609375 0  L 18.3125 0  L 43.21875 64.59375  L 8.203125 64.59375  z \" id=\"DejaVuSans-55\" />\n    </defs>\n    <g style=\"fill:#444443;\" transform=\"translate(0.380781 55.015793)scale(0.1 -0.1)\">\n     <use xlink:href=\"#DejaVuSans-83\" />\n     <use x=\"63.476562\" xlink:href=\"#DejaVuSans-97\" />\n     <use x=\"124.755859\" xlink:href=\"#DejaVuSans-108\" />\n     <use x=\"152.539062\" xlink:href=\"#DejaVuSans-101\" />\n     <use x=\"214.0625\" xlink:href=\"#DejaVuSans-80\" />\n     <use x=\"272.615234\" xlink:href=\"#DejaVuSans-114\" />\n     <use x=\"313.728516\" xlink:href=\"#DejaVuSans-105\" />\n     <use x=\"341.511719\" xlink:href=\"#DejaVuSans-99\" />\n     <use x=\"396.492188\" xlink:href=\"#DejaVuSans-101\" />\n     <use x=\"458.015625\" xlink:href=\"#DejaVuSans-61\" />\n     <use x=\"541.804688\" xlink:href=\"#DejaVuSans-57\" />\n     <use x=\"605.427734\" xlink:href=\"#DejaVuSans-46\" />\n     <use x=\"637.214844\" xlink:href=\"#DejaVuSans-49\" />\n     <use x=\"700.837891\" xlink:href=\"#DejaVuSans-55\" />\n    </g>\n    \n    <defs>\n     <path d=\"M 54.890625 33.015625  L 54.890625 0  L 45.90625 0  L 45.90625 32.71875  Q 45.90625 40.484375 42.875 44.328125  Q 39.84375 48.1875 33.796875 48.1875  Q 26.515625 48.1875 22.3125 43.546875  Q 18.109375 38.921875 18.109375 30.90625  L 18.109375 0  L 9.078125 0  L 9.078125 54.6875  L 18.109375 54.6875  L 18.109375 46.1875  Q 21.34375 51.125 25.703125 53.5625  Q 30.078125 56 35.796875 56  Q 45.21875 56 50.046875 50.171875  Q 54.890625 44.34375 54.890625 33.015625  z \" id=\"DejaVuSans-110\" />\n     <path d=\"M 10.796875 72.90625  L 49.515625 72.90625  L 49.515625 64.59375  L 19.828125 64.59375  L 19.828125 46.734375  Q 21.96875 47.46875 24.109375 47.828125  Q 26.265625 48.1875 28.421875 48.1875  Q 40.625 48.1875 47.75 41.5  Q 54.890625 34.8125 54.890625 23.390625  Q 54.890625 11.625 47.5625 5.09375  Q 40.234375 -1.421875 26.90625 -1.421875  Q 22.3125 -1.421875 17.546875 -0.640625  Q 12.796875 0.140625 7.71875 1.703125  L 7.71875 11.625  Q 12.109375 9.234375 16.796875 8.0625  Q 21.484375 6.890625 26.703125 6.890625  Q 35.15625 6.890625 40.078125 11.328125  Q 45.015625 15.765625 45.015625 23.390625  Q 45.015625 31 40.078125 35.4375  Q 35.15625 39.890625 26.703125 39.890625  Q 22.75 39.890625 18.8125 39.015625  Q 14.890625 38.140625 10.796875 36.28125  z \" id=\"DejaVuSans-53\" />\n     <path d=\"M 33.015625 40.375  Q 26.375 40.375 22.484375 35.828125  Q 18.609375 31.296875 18.609375 23.390625  Q 18.609375 15.53125 22.484375 10.953125  Q 26.375 6.390625 33.015625 6.390625  Q 39.65625 6.390625 43.53125 10.953125  Q 47.40625 15.53125 47.40625 23.390625  Q 47.40625 31.296875 43.53125 35.828125  Q 39.65625 40.375 33.015625 40.375  z M 52.59375 71.296875  L 52.59375 62.3125  Q 48.875 64.0625 45.09375 64.984375  Q 41.3125 65.921875 37.59375 65.921875  Q 27.828125 65.921875 22.671875 59.328125  Q 17.53125 52.734375 16.796875 39.40625  Q 19.671875 43.65625 24.015625 45.921875  Q 28.375 48.1875 33.59375 48.1875  Q 44.578125 48.1875 50.953125 41.515625  Q 57.328125 34.859375 57.328125 23.390625  Q 57.328125 12.15625 50.6875 5.359375  Q 44.046875 -1.421875 33.015625 -1.421875  Q 20.359375 -1.421875 13.671875 8.265625  Q 6.984375 17.96875 6.984375 36.375  Q 6.984375 53.65625 15.1875 63.9375  Q 23.390625 74.21875 37.203125 74.21875  Q 40.921875 74.21875 44.703125 73.484375  Q 48.484375 72.75 52.59375 71.296875  z \" id=\"DejaVuSans-54\" />\n    </defs>\n    <g style=\"fill:#444443;\" transform=\"translate(24.883906 66.213605)scale(0.1 -0.1)\">\n     <use xlink:href=\"#DejaVuSans-110\" />\n     <use x=\"63.378906\" xlink:href=\"#DejaVuSans-61\" />\n     <use x=\"147.167969\" xlink:href=\"#DejaVuSans-53\" />\n     <use x=\"210.791016\" xlink:href=\"#DejaVuSans-54\" />\n    </g>\n   </g>\n  </g>\n </g>\n <defs>\n  <clipPath id=\"p41d00e95ee\">\n   <rect height=\"43.488\" width=\"41.85\" x=\"17.18\" y=\"2.179355\" />\n  </clipPath>\n </defs>\n</svg></g>\n\n\n<g class=\"node\" id=\"node3\">\n<title>node0</title>\n<svg height=\"68px\" preserveAspectRatio=\"xMinYMin meet\" version=\"1.1\" viewBox=\"0 0 176.719375 90.351598\" width=\"132px\" x=\"4\" y=\"-107.5\">\n <defs>\n  <style type=\"text/css\">\n*{stroke-linecap:butt;stroke-linejoin:round;}\n  </style>\n </defs>\n <g id=\"figure_1\">\n  <g id=\"patch_1\">\n   <path d=\"M 0 90.351598  L 176.719375 90.351598  L 176.719375 0  L 0 0  z \" style=\"fill:#ffffff;\" />\n  </g>\n  <g id=\"axes_1\">\n   <g id=\"patch_2\">\n    <path d=\"M 30.858125 61.652848  L 170.358125 61.652848  L 170.358125 1.856848  L 30.858125 1.856848  z \" style=\"fill:#ffffff;\" />\n   </g>\n   <g id=\"PathCollection_1\">\n    <defs>\n     <path d=\"M 0 1.118034  C 0.296506 1.118034 0.580908 1.000231 0.790569 0.790569  C 1.000231 0.580908 1.118034 0.296506 1.118034 0  C 1.118034 -0.296506 1.000231 -0.580908 0.790569 -0.790569  C 0.580908 -1.000231 0.296506 -1.118034 0 -1.118034  C -0.296506 -1.118034 -0.580908 -1.000231 -0.790569 -0.790569  C -1.000231 -0.580908 -1.118034 -0.296506 -1.118034 0  C -1.118034 0.296506 -1.000231 0.580908 -0.790569 0.790569  C -0.580908 1.000231 -0.296506 1.118034 0 1.118034  z \" id=\"md3330f725d\" style=\"stroke:#4575b4;stroke-opacity:0.7;stroke-width:0.3;\" />\n    </defs>\n    <g clip-path=\"url(#pb02e398fa9)\">\n     <use style=\"fill:#4575b4;fill-opacity:0.7;stroke:#4575b4;stroke-opacity:0.7;stroke-width:0.3;\" x=\"30.858125\" y=\"33.506493\" xlink:href=\"#md3330f725d\" />\n     <use style=\"fill:#4575b4;fill-opacity:0.7;stroke:#4575b4;stroke-opacity:0.7;stroke-width:0.3;\" x=\"30.858125\" y=\"23.023986\" xlink:href=\"#md3330f725d\" />\n     <use style=\"fill:#4575b4;fill-opacity:0.7;stroke:#4575b4;stroke-opacity:0.7;stroke-width:0.3;\" x=\"30.858125\" y=\"23.023986\" xlink:href=\"#md3330f725d\" />\n     <use style=\"fill:#4575b4;fill-opacity:0.7;stroke:#4575b4;stroke-opacity:0.7;stroke-width:0.3;\" x=\"30.858125\" y=\"40.104149\" xlink:href=\"#md3330f725d\" />\n     <use style=\"fill:#4575b4;fill-opacity:0.7;stroke:#4575b4;stroke-opacity:0.7;stroke-width:0.3;\" x=\"30.858125\" y=\"56.254981\" xlink:href=\"#md3330f725d\" />\n     <use style=\"fill:#4575b4;fill-opacity:0.7;stroke:#4575b4;stroke-opacity:0.7;stroke-width:0.3;\" x=\"30.858125\" y=\"29.800905\" xlink:href=\"#md3330f725d\" />\n     <use style=\"fill:#4575b4;fill-opacity:0.7;stroke:#4575b4;stroke-opacity:0.7;stroke-width:0.3;\" x=\"30.858125\" y=\"29.326656\" xlink:href=\"#md3330f725d\" />\n     <use style=\"fill:#4575b4;fill-opacity:0.7;stroke:#4575b4;stroke-opacity:0.7;stroke-width:0.3;\" x=\"30.858125\" y=\"34.715411\" xlink:href=\"#md3330f725d\" />\n     <use style=\"fill:#4575b4;fill-opacity:0.7;stroke:#4575b4;stroke-opacity:0.7;stroke-width:0.3;\" x=\"30.858125\" y=\"35.350435\" xlink:href=\"#md3330f725d\" />\n     <use style=\"fill:#4575b4;fill-opacity:0.7;stroke:#4575b4;stroke-opacity:0.7;stroke-width:0.3;\" x=\"30.858125\" y=\"38.130586\" xlink:href=\"#md3330f725d\" />\n     <use style=\"fill:#4575b4;fill-opacity:0.7;stroke:#4575b4;stroke-opacity:0.7;stroke-width:0.3;\" x=\"30.858125\" y=\"24.41215\" xlink:href=\"#md3330f725d\" />\n     <use style=\"fill:#4575b4;fill-opacity:0.7;stroke:#4575b4;stroke-opacity:0.7;stroke-width:0.3;\" x=\"30.858125\" y=\"53.50886\" xlink:href=\"#md3330f725d\" />\n     <use style=\"fill:#4575b4;fill-opacity:0.7;stroke:#4575b4;stroke-opacity:0.7;stroke-width:0.3;\" x=\"100.608125\" y=\"55.294174\" xlink:href=\"#md3330f725d\" />\n     <use style=\"fill:#4575b4;fill-opacity:0.7;stroke:#4575b4;stroke-opacity:0.7;stroke-width:0.3;\" x=\"30.858125\" y=\"22.857495\" xlink:href=\"#md3330f725d\" />\n     <use style=\"fill:#4575b4;fill-opacity:0.7;stroke:#4575b4;stroke-opacity:0.7;stroke-width:0.3;\" x=\"30.858125\" y=\"25.146818\" xlink:href=\"#md3330f725d\" />\n     <use style=\"fill:#4575b4;fill-opacity:0.7;stroke:#4575b4;stroke-opacity:0.7;stroke-width:0.3;\" x=\"30.858125\" y=\"28.637075\" xlink:href=\"#md3330f725d\" />\n     <use style=\"fill:#4575b4;fill-opacity:0.7;stroke:#4575b4;stroke-opacity:0.7;stroke-width:0.3;\" x=\"30.858125\" y=\"30.535574\" xlink:href=\"#md3330f725d\" />\n     <use style=\"fill:#4575b4;fill-opacity:0.7;stroke:#4575b4;stroke-opacity:0.7;stroke-width:0.3;\" x=\"100.608125\" y=\"45.354656\" xlink:href=\"#md3330f725d\" />\n     <use style=\"fill:#4575b4;fill-opacity:0.7;stroke:#4575b4;stroke-opacity:0.7;stroke-width:0.3;\" x=\"30.858125\" y=\"48.991504\" xlink:href=\"#md3330f725d\" />\n     <use style=\"fill:#4575b4;fill-opacity:0.7;stroke:#4575b4;stroke-opacity:0.7;stroke-width:0.3;\" x=\"30.858125\" y=\"39.897178\" xlink:href=\"#md3330f725d\" />\n     <use style=\"fill:#4575b4;fill-opacity:0.7;stroke:#4575b4;stroke-opacity:0.7;stroke-width:0.3;\" x=\"30.858125\" y=\"20.817729\" xlink:href=\"#md3330f725d\" />\n     <use style=\"fill:#4575b4;fill-opacity:0.7;stroke:#4575b4;stroke-opacity:0.7;stroke-width:0.3;\" x=\"30.858125\" y=\"44.283986\" xlink:href=\"#md3330f725d\" />\n     <use style=\"fill:#4575b4;fill-opacity:0.7;stroke:#4575b4;stroke-opacity:0.7;stroke-width:0.3;\" x=\"30.858125\" y=\"29.326656\" xlink:href=\"#md3330f725d\" />\n     <use style=\"fill:#4575b4;fill-opacity:0.7;stroke:#4575b4;stroke-opacity:0.7;stroke-width:0.3;\" x=\"30.858125\" y=\"23.361505\" xlink:href=\"#md3330f725d\" />\n     <use style=\"fill:#4575b4;fill-opacity:0.7;stroke:#4575b4;stroke-opacity:0.7;stroke-width:0.3;\" x=\"30.858125\" y=\"18.186848\" xlink:href=\"#md3330f725d\" />\n     <use style=\"fill:#4575b4;fill-opacity:0.7;stroke:#4575b4;stroke-opacity:0.7;stroke-width:0.3;\" x=\"30.858125\" y=\"41.396491\" xlink:href=\"#md3330f725d\" />\n     <use style=\"fill:#4575b4;fill-opacity:0.7;stroke:#4575b4;stroke-opacity:0.7;stroke-width:0.3;\" x=\"100.608125\" y=\"52.676208\" xlink:href=\"#md3330f725d\" />\n     <use style=\"fill:#4575b4;fill-opacity:0.7;stroke:#4575b4;stroke-opacity:0.7;stroke-width:0.3;\" x=\"100.608125\" y=\"64.862766\" xlink:href=\"#md3330f725d\" />\n     <use style=\"fill:#4575b4;fill-opacity:0.7;stroke:#4575b4;stroke-opacity:0.7;stroke-width:0.3;\" x=\"30.858125\" y=\"36.007754\" xlink:href=\"#md3330f725d\" />\n     <use style=\"fill:#4575b4;fill-opacity:0.7;stroke:#4575b4;stroke-opacity:0.7;stroke-width:0.3;\" x=\"30.858125\" y=\"31.300236\" xlink:href=\"#md3330f725d\" />\n     <use style=\"fill:#4575b4;fill-opacity:0.7;stroke:#4575b4;stroke-opacity:0.7;stroke-width:0.3;\" x=\"30.858125\" y=\"34.101198\" xlink:href=\"#md3330f725d\" />\n     <use style=\"fill:#4575b4;fill-opacity:0.7;stroke:#4575b4;stroke-opacity:0.7;stroke-width:0.3;\" x=\"100.608125\" y=\"66.492628\" xlink:href=\"#md3330f725d\" />\n     <use style=\"fill:#4575b4;fill-opacity:0.7;stroke:#4575b4;stroke-opacity:0.7;stroke-width:0.3;\" x=\"30.858125\" y=\"44.283986\" xlink:href=\"#md3330f725d\" />\n     <use style=\"fill:#4575b4;fill-opacity:0.7;stroke:#4575b4;stroke-opacity:0.7;stroke-width:0.3;\" x=\"30.858125\" y=\"34.715411\" xlink:href=\"#md3330f725d\" />\n     <use style=\"fill:#4575b4;fill-opacity:0.7;stroke:#4575b4;stroke-opacity:0.7;stroke-width:0.3;\" x=\"30.858125\" y=\"28.864125\" xlink:href=\"#md3330f725d\" />\n     <use style=\"fill:#4575b4;fill-opacity:0.7;stroke:#4575b4;stroke-opacity:0.7;stroke-width:0.3;\" x=\"100.608125\" y=\"61.317953\" xlink:href=\"#md3330f725d\" />\n     <use style=\"fill:#4575b4;fill-opacity:0.7;stroke:#4575b4;stroke-opacity:0.7;stroke-width:0.3;\" x=\"30.858125\" y=\"40.955736\" xlink:href=\"#md3330f725d\" />\n     <use style=\"fill:#4575b4;fill-opacity:0.7;stroke:#4575b4;stroke-opacity:0.7;stroke-width:0.3;\" x=\"170.358125\" y=\"55.294174\" xlink:href=\"#md3330f725d\" />\n     <use style=\"fill:#4575b4;fill-opacity:0.7;stroke:#4575b4;stroke-opacity:0.7;stroke-width:0.3;\" x=\"100.608125\" y=\"59.474011\" xlink:href=\"#md3330f725d\" />\n     <use style=\"fill:#4575b4;fill-opacity:0.7;stroke:#4575b4;stroke-opacity:0.7;stroke-width:0.3;\" x=\"30.858125\" y=\"57.795434\" xlink:href=\"#md3330f725d\" />\n     <use style=\"fill:#4575b4;fill-opacity:0.7;stroke:#4575b4;stroke-opacity:0.7;stroke-width:0.3;\" x=\"30.858125\" y=\"58.338424\" xlink:href=\"#md3330f725d\" />\n     <use style=\"fill:#4575b4;fill-opacity:0.7;stroke:#4575b4;stroke-opacity:0.7;stroke-width:0.3;\" x=\"30.858125\" y=\"53.50886\" xlink:href=\"#md3330f725d\" />\n     <use style=\"fill:#4575b4;fill-opacity:0.7;stroke:#4575b4;stroke-opacity:0.7;stroke-width:0.3;\" x=\"30.858125\" y=\"46.490261\" xlink:href=\"#md3330f725d\" />\n     <use style=\"fill:#4575b4;fill-opacity:0.7;stroke:#4575b4;stroke-opacity:0.7;stroke-width:0.3;\" x=\"30.858125\" y=\"30.287463\" xlink:href=\"#md3330f725d\" />\n     <use style=\"fill:#4575b4;fill-opacity:0.7;stroke:#4575b4;stroke-opacity:0.7;stroke-width:0.3;\" x=\"30.858125\" y=\"38.509014\" xlink:href=\"#md3330f725d\" />\n     <use style=\"fill:#4575b4;fill-opacity:0.7;stroke:#4575b4;stroke-opacity:0.7;stroke-width:0.3;\" x=\"30.858125\" y=\"21.422027\" xlink:href=\"#md3330f725d\" />\n     <use style=\"fill:#4575b4;fill-opacity:0.7;stroke:#4575b4;stroke-opacity:0.7;stroke-width:0.3;\" x=\"30.858125\" y=\"39.692458\" xlink:href=\"#md3330f725d\" />\n     <use style=\"fill:#4575b4;fill-opacity:0.7;stroke:#4575b4;stroke-opacity:0.7;stroke-width:0.3;\" x=\"30.858125\" y=\"37.395918\" xlink:href=\"#md3330f725d\" />\n     <use style=\"fill:#4575b4;fill-opacity:0.7;stroke:#4575b4;stroke-opacity:0.7;stroke-width:0.3;\" x=\"100.608125\" y=\"63.363435\" xlink:href=\"#md3330f725d\" />\n     <use style=\"fill:#4575b4;fill-opacity:0.7;stroke:#4575b4;stroke-opacity:0.7;stroke-width:0.3;\" x=\"30.858125\" y=\"51.114336\" xlink:href=\"#md3330f725d\" />\n     <use style=\"fill:#4575b4;fill-opacity:0.7;stroke:#4575b4;stroke-opacity:0.7;stroke-width:0.3;\" x=\"30.858125\" y=\"43.770758\" xlink:href=\"#md3330f725d\" />\n     <use style=\"fill:#4575b4;fill-opacity:0.7;stroke:#4575b4;stroke-opacity:0.7;stroke-width:0.3;\" x=\"100.608125\" y=\"58.338424\" xlink:href=\"#md3330f725d\" />\n     <use style=\"fill:#4575b4;fill-opacity:0.7;stroke:#4575b4;stroke-opacity:0.7;stroke-width:0.3;\" x=\"30.858125\" y=\"42.310424\" xlink:href=\"#md3330f725d\" />\n     <use style=\"fill:#4575b4;fill-opacity:0.7;stroke:#4575b4;stroke-opacity:0.7;stroke-width:0.3;\" x=\"30.858125\" y=\"43.770758\" xlink:href=\"#md3330f725d\" />\n     <use style=\"fill:#4575b4;fill-opacity:0.7;stroke:#4575b4;stroke-opacity:0.7;stroke-width:0.3;\" x=\"30.858125\" y=\"29.326656\" xlink:href=\"#md3330f725d\" />\n     <use style=\"fill:#4575b4;fill-opacity:0.7;stroke:#4575b4;stroke-opacity:0.7;stroke-width:0.3;\" x=\"30.858125\" y=\"30.535574\" xlink:href=\"#md3330f725d\" />\n     <use style=\"fill:#4575b4;fill-opacity:0.7;stroke:#4575b4;stroke-opacity:0.7;stroke-width:0.3;\" x=\"30.858125\" y=\"28.191069\" xlink:href=\"#md3330f725d\" />\n     <use style=\"fill:#4575b4;fill-opacity:0.7;stroke:#4575b4;stroke-opacity:0.7;stroke-width:0.3;\" x=\"170.358125\" y=\"45.354656\" xlink:href=\"#md3330f725d\" />\n     <use style=\"fill:#4575b4;fill-opacity:0.7;stroke:#4575b4;stroke-opacity:0.7;stroke-width:0.3;\" x=\"30.858125\" y=\"36.007754\" xlink:href=\"#md3330f725d\" />\n     <use style=\"fill:#4575b4;fill-opacity:0.7;stroke:#4575b4;stroke-opacity:0.7;stroke-width:0.3;\" x=\"30.858125\" y=\"40.955736\" xlink:href=\"#md3330f725d\" />\n     <use style=\"fill:#4575b4;fill-opacity:0.7;stroke:#4575b4;stroke-opacity:0.7;stroke-width:0.3;\" x=\"30.858125\" y=\"21.731643\" xlink:href=\"#md3330f725d\" />\n     <use style=\"fill:#4575b4;fill-opacity:0.7;stroke:#4575b4;stroke-opacity:0.7;stroke-width:0.3;\" x=\"30.858125\" y=\"21.731643\" xlink:href=\"#md3330f725d\" />\n     <use style=\"fill:#4575b4;fill-opacity:0.7;stroke:#4575b4;stroke-opacity:0.7;stroke-width:0.3;\" x=\"30.858125\" y=\"34.101198\" xlink:href=\"#md3330f725d\" />\n     <use style=\"fill:#4575b4;fill-opacity:0.7;stroke:#4575b4;stroke-opacity:0.7;stroke-width:0.3;\" x=\"30.858125\" y=\"34.101198\" xlink:href=\"#md3330f725d\" />\n     <use style=\"fill:#4575b4;fill-opacity:0.7;stroke:#4575b4;stroke-opacity:0.7;stroke-width:0.3;\" x=\"100.608125\" y=\"51.878998\" xlink:href=\"#md3330f725d\" />\n     <use style=\"fill:#4575b4;fill-opacity:0.7;stroke:#4575b4;stroke-opacity:0.7;stroke-width:0.3;\" x=\"30.858125\" y=\"42.310424\" xlink:href=\"#md3330f725d\" />\n     <use style=\"fill:#4575b4;fill-opacity:0.7;stroke:#4575b4;stroke-opacity:0.7;stroke-width:0.3;\" x=\"30.858125\" y=\"42.784655\" xlink:href=\"#md3330f725d\" />\n     <use style=\"fill:#4575b4;fill-opacity:0.7;stroke:#4575b4;stroke-opacity:0.7;stroke-width:0.3;\" x=\"30.858125\" y=\"42.310424\" xlink:href=\"#md3330f725d\" />\n     <use style=\"fill:#4575b4;fill-opacity:0.7;stroke:#4575b4;stroke-opacity:0.7;stroke-width:0.3;\" x=\"100.608125\" y=\"50.379668\" xlink:href=\"#md3330f725d\" />\n     <use style=\"fill:#4575b4;fill-opacity:0.7;stroke:#4575b4;stroke-opacity:0.7;stroke-width:0.3;\" x=\"30.858125\" y=\"37.759643\" xlink:href=\"#md3330f725d\" />\n     <use style=\"fill:#4575b4;fill-opacity:0.7;stroke:#4575b4;stroke-opacity:0.7;stroke-width:0.3;\" x=\"30.858125\" y=\"18.058103\" xlink:href=\"#md3330f725d\" />\n     <use style=\"fill:#4575b4;fill-opacity:0.7;stroke:#4575b4;stroke-opacity:0.7;stroke-width:0.3;\" x=\"30.858125\" y=\"40.52511\" xlink:href=\"#md3330f725d\" />\n     <use style=\"fill:#4575b4;fill-opacity:0.7;stroke:#4575b4;stroke-opacity:0.7;stroke-width:0.3;\" x=\"30.858125\" y=\"48.991504\" xlink:href=\"#md3330f725d\" />\n     <use style=\"fill:#4575b4;fill-opacity:0.7;stroke:#4575b4;stroke-opacity:0.7;stroke-width:0.3;\" x=\"30.858125\" y=\"56.254981\" xlink:href=\"#md3330f725d\" />\n     <use style=\"fill:#4575b4;fill-opacity:0.7;stroke:#4575b4;stroke-opacity:0.7;stroke-width:0.3;\" x=\"30.858125\" y=\"46.490261\" xlink:href=\"#md3330f725d\" />\n     <use style=\"fill:#4575b4;fill-opacity:0.7;stroke:#4575b4;stroke-opacity:0.7;stroke-width:0.3;\" x=\"30.858125\" y=\"24.775893\" xlink:href=\"#md3330f725d\" />\n     <use style=\"fill:#4575b4;fill-opacity:0.7;stroke:#4575b4;stroke-opacity:0.7;stroke-width:0.3;\" x=\"30.858125\" y=\"47.699161\" xlink:href=\"#md3330f725d\" />\n     <use style=\"fill:#4575b4;fill-opacity:0.7;stroke:#4575b4;stroke-opacity:0.7;stroke-width:0.3;\" x=\"30.858125\" y=\"44.283986\" xlink:href=\"#md3330f725d\" />\n     <use style=\"fill:#4575b4;fill-opacity:0.7;stroke:#4575b4;stroke-opacity:0.7;stroke-width:0.3;\" x=\"30.858125\" y=\"36.007754\" xlink:href=\"#md3330f725d\" />\n     <use style=\"fill:#4575b4;fill-opacity:0.7;stroke:#4575b4;stroke-opacity:0.7;stroke-width:0.3;\" x=\"30.858125\" y=\"40.52511\" xlink:href=\"#md3330f725d\" />\n     <use style=\"fill:#4575b4;fill-opacity:0.7;stroke:#4575b4;stroke-opacity:0.7;stroke-width:0.3;\" x=\"30.858125\" y=\"41.396491\" xlink:href=\"#md3330f725d\" />\n     <use style=\"fill:#4575b4;fill-opacity:0.7;stroke:#4575b4;stroke-opacity:0.7;stroke-width:0.3;\" x=\"30.858125\" y=\"36.688974\" xlink:href=\"#md3330f725d\" />\n     <use style=\"fill:#4575b4;fill-opacity:0.7;stroke:#4575b4;stroke-opacity:0.7;stroke-width:0.3;\" x=\"100.608125\" y=\"47.699161\" xlink:href=\"#md3330f725d\" />\n     <use style=\"fill:#4575b4;fill-opacity:0.7;stroke:#4575b4;stroke-opacity:0.7;stroke-width:0.3;\" x=\"100.608125\" y=\"51.114336\" xlink:href=\"#md3330f725d\" />\n     <use style=\"fill:#4575b4;fill-opacity:0.7;stroke:#4575b4;stroke-opacity:0.7;stroke-width:0.3;\" x=\"30.858125\" y=\"34.715411\" xlink:href=\"#md3330f725d\" />\n     <use style=\"fill:#4575b4;fill-opacity:0.7;stroke:#4575b4;stroke-opacity:0.7;stroke-width:0.3;\" x=\"100.608125\" y=\"45.354656\" xlink:href=\"#md3330f725d\" />\n     <use style=\"fill:#4575b4;fill-opacity:0.7;stroke:#4575b4;stroke-opacity:0.7;stroke-width:0.3;\" x=\"30.858125\" y=\"25.911481\" xlink:href=\"#md3330f725d\" />\n     <use style=\"fill:#4575b4;fill-opacity:0.7;stroke:#4575b4;stroke-opacity:0.7;stroke-width:0.3;\" x=\"30.858125\" y=\"33.506493\" xlink:href=\"#md3330f725d\" />\n     <use style=\"fill:#4575b4;fill-opacity:0.7;stroke:#4575b4;stroke-opacity:0.7;stroke-width:0.3;\" x=\"30.858125\" y=\"33.506493\" xlink:href=\"#md3330f725d\" />\n     <use style=\"fill:#4575b4;fill-opacity:0.7;stroke:#4575b4;stroke-opacity:0.7;stroke-width:0.3;\" x=\"30.858125\" y=\"25.146818\" xlink:href=\"#md3330f725d\" />\n     <use style=\"fill:#4575b4;fill-opacity:0.7;stroke:#4575b4;stroke-opacity:0.7;stroke-width:0.3;\" x=\"30.858125\" y=\"23.361505\" xlink:href=\"#md3330f725d\" />\n     <use style=\"fill:#4575b4;fill-opacity:0.7;stroke:#4575b4;stroke-opacity:0.7;stroke-width:0.3;\" x=\"30.858125\" y=\"19.387138\" xlink:href=\"#md3330f725d\" />\n     <use style=\"fill:#4575b4;fill-opacity:0.7;stroke:#4575b4;stroke-opacity:0.7;stroke-width:0.3;\" x=\"30.858125\" y=\"32.930098\" xlink:href=\"#md3330f725d\" />\n     <use style=\"fill:#4575b4;fill-opacity:0.7;stroke:#4575b4;stroke-opacity:0.7;stroke-width:0.3;\" x=\"30.858125\" y=\"20.966981\" xlink:href=\"#md3330f725d\" />\n     <use style=\"fill:#4575b4;fill-opacity:0.7;stroke:#4575b4;stroke-opacity:0.7;stroke-width:0.3;\" x=\"30.858125\" y=\"45.913848\" xlink:href=\"#md3330f725d\" />\n     <use style=\"fill:#4575b4;fill-opacity:0.7;stroke:#4575b4;stroke-opacity:0.7;stroke-width:0.3;\" x=\"30.858125\" y=\"45.354656\" xlink:href=\"#md3330f725d\" />\n     <use style=\"fill:#4575b4;fill-opacity:0.7;stroke:#4575b4;stroke-opacity:0.7;stroke-width:0.3;\" x=\"30.858125\" y=\"38.895248\" xlink:href=\"#md3330f725d\" />\n     <use style=\"fill:#4575b4;fill-opacity:0.7;stroke:#4575b4;stroke-opacity:0.7;stroke-width:0.3;\" x=\"30.858125\" y=\"31.041853\" xlink:href=\"#md3330f725d\" />\n     <use style=\"fill:#4575b4;fill-opacity:0.7;stroke:#4575b4;stroke-opacity:0.7;stroke-width:0.3;\" x=\"30.858125\" y=\"25.146818\" xlink:href=\"#md3330f725d\" />\n     <use style=\"fill:#4575b4;fill-opacity:0.7;stroke:#4575b4;stroke-opacity:0.7;stroke-width:0.3;\" x=\"30.858125\" y=\"36.007754\" xlink:href=\"#md3330f725d\" />\n     <use style=\"fill:#4575b4;fill-opacity:0.7;stroke:#4575b4;stroke-opacity:0.7;stroke-width:0.3;\" x=\"30.858125\" y=\"33.506493\" xlink:href=\"#md3330f725d\" />\n     <use style=\"fill:#4575b4;fill-opacity:0.7;stroke:#4575b4;stroke-opacity:0.7;stroke-width:0.3;\" x=\"100.608125\" y=\"50.670098\" xlink:href=\"#md3330f725d\" />\n     <use style=\"fill:#4575b4;fill-opacity:0.7;stroke:#4575b4;stroke-opacity:0.7;stroke-width:0.3;\" x=\"30.858125\" y=\"37.039105\" xlink:href=\"#md3330f725d\" />\n     <use style=\"fill:#4575b4;fill-opacity:0.7;stroke:#4575b4;stroke-opacity:0.7;stroke-width:0.3;\" x=\"30.858125\" y=\"51.878998\" xlink:href=\"#md3330f725d\" />\n     <use style=\"fill:#4575b4;fill-opacity:0.7;stroke:#4575b4;stroke-opacity:0.7;stroke-width:0.3;\" x=\"30.858125\" y=\"32.930098\" xlink:href=\"#md3330f725d\" />\n     <use style=\"fill:#4575b4;fill-opacity:0.7;stroke:#4575b4;stroke-opacity:0.7;stroke-width:0.3;\" x=\"30.858125\" y=\"29.800905\" xlink:href=\"#md3330f725d\" />\n     <use style=\"fill:#4575b4;fill-opacity:0.7;stroke:#4575b4;stroke-opacity:0.7;stroke-width:0.3;\" x=\"30.858125\" y=\"21.117448\" xlink:href=\"#md3330f725d\" />\n     <use style=\"fill:#4575b4;fill-opacity:0.7;stroke:#4575b4;stroke-opacity:0.7;stroke-width:0.3;\" x=\"30.858125\" y=\"50.379668\" xlink:href=\"#md3330f725d\" />\n     <use style=\"fill:#4575b4;fill-opacity:0.7;stroke:#4575b4;stroke-opacity:0.7;stroke-width:0.3;\" x=\"30.858125\" y=\"8.438259\" xlink:href=\"#md3330f725d\" />\n     <use style=\"fill:#4575b4;fill-opacity:0.7;stroke:#4575b4;stroke-opacity:0.7;stroke-width:0.3;\" x=\"30.858125\" y=\"57.267754\" xlink:href=\"#md3330f725d\" />\n     <use style=\"fill:#4575b4;fill-opacity:0.7;stroke:#4575b4;stroke-opacity:0.7;stroke-width:0.3;\" x=\"30.858125\" y=\"48.013994\" xlink:href=\"#md3330f725d\" />\n     <use style=\"fill:#4575b4;fill-opacity:0.7;stroke:#4575b4;stroke-opacity:0.7;stroke-width:0.3;\" x=\"30.858125\" y=\"22.528853\" xlink:href=\"#md3330f725d\" />\n     <use style=\"fill:#4575b4;fill-opacity:0.7;stroke:#4575b4;stroke-opacity:0.7;stroke-width:0.3;\" x=\"30.858125\" y=\"20.232313\" xlink:href=\"#md3330f725d\" />\n     <use style=\"fill:#4575b4;fill-opacity:0.7;stroke:#4575b4;stroke-opacity:0.7;stroke-width:0.3;\" x=\"30.858125\" y=\"36.345273\" xlink:href=\"#md3330f725d\" />\n     <use style=\"fill:#4575b4;fill-opacity:0.7;stroke:#4575b4;stroke-opacity:0.7;stroke-width:0.3;\" x=\"30.858125\" y=\"55.294174\" xlink:href=\"#md3330f725d\" />\n     <use style=\"fill:#4575b4;fill-opacity:0.7;stroke:#4575b4;stroke-opacity:0.7;stroke-width:0.3;\" x=\"30.858125\" y=\"42.310424\" xlink:href=\"#md3330f725d\" />\n     <use style=\"fill:#4575b4;fill-opacity:0.7;stroke:#4575b4;stroke-opacity:0.7;stroke-width:0.3;\" x=\"30.858125\" y=\"55.294174\" xlink:href=\"#md3330f725d\" />\n     <use style=\"fill:#4575b4;fill-opacity:0.7;stroke:#4575b4;stroke-opacity:0.7;stroke-width:0.3;\" x=\"100.608125\" y=\"51.878998\" xlink:href=\"#md3330f725d\" />\n     <use style=\"fill:#4575b4;fill-opacity:0.7;stroke:#4575b4;stroke-opacity:0.7;stroke-width:0.3;\" x=\"30.858125\" y=\"44.283986\" xlink:href=\"#md3330f725d\" />\n     <use style=\"fill:#4575b4;fill-opacity:0.7;stroke:#4575b4;stroke-opacity:0.7;stroke-width:0.3;\" x=\"30.858125\" y=\"18.844148\" xlink:href=\"#md3330f725d\" />\n     <use style=\"fill:#4575b4;fill-opacity:0.7;stroke:#4575b4;stroke-opacity:0.7;stroke-width:0.3;\" x=\"30.858125\" y=\"31.300236\" xlink:href=\"#md3330f725d\" />\n     <use style=\"fill:#4575b4;fill-opacity:0.7;stroke:#4575b4;stroke-opacity:0.7;stroke-width:0.3;\" x=\"100.608125\" y=\"57.267754\" xlink:href=\"#md3330f725d\" />\n     <use style=\"fill:#4575b4;fill-opacity:0.7;stroke:#4575b4;stroke-opacity:0.7;stroke-width:0.3;\" x=\"30.858125\" y=\"25.146818\" xlink:href=\"#md3330f725d\" />\n     <use style=\"fill:#4575b4;fill-opacity:0.7;stroke:#4575b4;stroke-opacity:0.7;stroke-width:0.3;\" x=\"30.858125\" y=\"22.366685\" xlink:href=\"#md3330f725d\" />\n     <use style=\"fill:#4575b4;fill-opacity:0.7;stroke:#4575b4;stroke-opacity:0.7;stroke-width:0.3;\" x=\"100.608125\" y=\"60.682929\" xlink:href=\"#md3330f725d\" />\n     <use style=\"fill:#4575b4;fill-opacity:0.7;stroke:#4575b4;stroke-opacity:0.7;stroke-width:0.3;\" x=\"30.858125\" y=\"43.770758\" xlink:href=\"#md3330f725d\" />\n     <use style=\"fill:#4575b4;fill-opacity:0.7;stroke:#4575b4;stroke-opacity:0.7;stroke-width:0.3;\" x=\"30.858125\" y=\"18.058103\" xlink:href=\"#md3330f725d\" />\n     <use style=\"fill:#4575b4;fill-opacity:0.7;stroke:#4575b4;stroke-opacity:0.7;stroke-width:0.3;\" x=\"30.858125\" y=\"36.688974\" xlink:href=\"#md3330f725d\" />\n     <use style=\"fill:#4575b4;fill-opacity:0.7;stroke:#4575b4;stroke-opacity:0.7;stroke-width:0.3;\" x=\"30.858125\" y=\"34.101198\" xlink:href=\"#md3330f725d\" />\n     <use style=\"fill:#4575b4;fill-opacity:0.7;stroke:#4575b4;stroke-opacity:0.7;stroke-width:0.3;\" x=\"30.858125\" y=\"13.623403\" xlink:href=\"#md3330f725d\" />\n     <use style=\"fill:#4575b4;fill-opacity:0.7;stroke:#4575b4;stroke-opacity:0.7;stroke-width:0.3;\" x=\"30.858125\" y=\"31.300236\" xlink:href=\"#md3330f725d\" />\n     <use style=\"fill:#4575b4;fill-opacity:0.7;stroke:#4575b4;stroke-opacity:0.7;stroke-width:0.3;\" x=\"30.858125\" y=\"20.232313\" xlink:href=\"#md3330f725d\" />\n     <use style=\"fill:#4575b4;fill-opacity:0.7;stroke:#4575b4;stroke-opacity:0.7;stroke-width:0.3;\" x=\"30.858125\" y=\"43.026353\" xlink:href=\"#md3330f725d\" />\n     <use style=\"fill:#4575b4;fill-opacity:0.7;stroke:#4575b4;stroke-opacity:0.7;stroke-width:0.3;\" x=\"30.858125\" y=\"51.114336\" xlink:href=\"#md3330f725d\" />\n     <use style=\"fill:#4575b4;fill-opacity:0.7;stroke:#4575b4;stroke-opacity:0.7;stroke-width:0.3;\" x=\"30.858125\" y=\"41.396491\" xlink:href=\"#md3330f725d\" />\n     <use style=\"fill:#4575b4;fill-opacity:0.7;stroke:#4575b4;stroke-opacity:0.7;stroke-width:0.3;\" x=\"30.858125\" y=\"42.077729\" xlink:href=\"#md3330f725d\" />\n     <use style=\"fill:#4575b4;fill-opacity:0.7;stroke:#4575b4;stroke-opacity:0.7;stroke-width:0.3;\" x=\"30.858125\" y=\"39.289611\" xlink:href=\"#md3330f725d\" />\n     <use style=\"fill:#4575b4;fill-opacity:0.7;stroke:#4575b4;stroke-opacity:0.7;stroke-width:0.3;\" x=\"30.858125\" y=\"28.412741\" xlink:href=\"#md3330f725d\" />\n     <use style=\"fill:#4575b4;fill-opacity:0.7;stroke:#4575b4;stroke-opacity:0.7;stroke-width:0.3;\" x=\"30.858125\" y=\"26.708691\" xlink:href=\"#md3330f725d\" />\n     <use style=\"fill:#4575b4;fill-opacity:0.7;stroke:#4575b4;stroke-opacity:0.7;stroke-width:0.3;\" x=\"30.858125\" y=\"31.041853\" xlink:href=\"#md3330f725d\" />\n     <use style=\"fill:#4575b4;fill-opacity:0.7;stroke:#4575b4;stroke-opacity:0.7;stroke-width:0.3;\" x=\"30.858125\" y=\"33.506493\" xlink:href=\"#md3330f725d\" />\n     <use style=\"fill:#4575b4;fill-opacity:0.7;stroke:#4575b4;stroke-opacity:0.7;stroke-width:0.3;\" x=\"30.858125\" y=\"29.800905\" xlink:href=\"#md3330f725d\" />\n     <use style=\"fill:#4575b4;fill-opacity:0.7;stroke:#4575b4;stroke-opacity:0.7;stroke-width:0.3;\" x=\"100.608125\" y=\"53.50886\" xlink:href=\"#md3330f725d\" />\n     <use style=\"fill:#4575b4;fill-opacity:0.7;stroke:#4575b4;stroke-opacity:0.7;stroke-width:0.3;\" x=\"30.858125\" y=\"49.672741\" xlink:href=\"#md3330f725d\" />\n     <use style=\"fill:#4575b4;fill-opacity:0.7;stroke:#4575b4;stroke-opacity:0.7;stroke-width:0.3;\" x=\"30.858125\" y=\"22.046476\" xlink:href=\"#md3330f725d\" />\n     <use style=\"fill:#4575b4;fill-opacity:0.7;stroke:#4575b4;stroke-opacity:0.7;stroke-width:0.3;\" x=\"30.858125\" y=\"53.50886\" xlink:href=\"#md3330f725d\" />\n     <use style=\"fill:#4575b4;fill-opacity:0.7;stroke:#4575b4;stroke-opacity:0.7;stroke-width:0.3;\" x=\"30.858125\" y=\"37.395918\" xlink:href=\"#md3330f725d\" />\n     <use style=\"fill:#4575b4;fill-opacity:0.7;stroke:#4575b4;stroke-opacity:0.7;stroke-width:0.3;\" x=\"30.858125\" y=\"51.114336\" xlink:href=\"#md3330f725d\" />\n     <use style=\"fill:#4575b4;fill-opacity:0.7;stroke:#4575b4;stroke-opacity:0.7;stroke-width:0.3;\" x=\"30.858125\" y=\"44.283986\" xlink:href=\"#md3330f725d\" />\n     <use style=\"fill:#4575b4;fill-opacity:0.7;stroke:#4575b4;stroke-opacity:0.7;stroke-width:0.3;\" x=\"30.858125\" y=\"36.345273\" xlink:href=\"#md3330f725d\" />\n     <use style=\"fill:#4575b4;fill-opacity:0.7;stroke:#4575b4;stroke-opacity:0.7;stroke-width:0.3;\" x=\"30.858125\" y=\"27.120399\" xlink:href=\"#md3330f725d\" />\n     <use style=\"fill:#4575b4;fill-opacity:0.7;stroke:#4575b4;stroke-opacity:0.7;stroke-width:0.3;\" x=\"100.608125\" y=\"59.474011\" xlink:href=\"#md3330f725d\" />\n     <use style=\"fill:#4575b4;fill-opacity:0.7;stroke:#4575b4;stroke-opacity:0.7;stroke-width:0.3;\" x=\"30.858125\" y=\"21.576192\" xlink:href=\"#md3330f725d\" />\n     <use style=\"fill:#4575b4;fill-opacity:0.7;stroke:#4575b4;stroke-opacity:0.7;stroke-width:0.3;\" x=\"30.858125\" y=\"21.422027\" xlink:href=\"#md3330f725d\" />\n     <use style=\"fill:#4575b4;fill-opacity:0.7;stroke:#4575b4;stroke-opacity:0.7;stroke-width:0.3;\" x=\"100.608125\" y=\"57.267754\" xlink:href=\"#md3330f725d\" />\n     <use style=\"fill:#4575b4;fill-opacity:0.7;stroke:#4575b4;stroke-opacity:0.7;stroke-width:0.3;\" x=\"30.858125\" y=\"14.664311\" xlink:href=\"#md3330f725d\" />\n     <use style=\"fill:#4575b4;fill-opacity:0.7;stroke:#4575b4;stroke-opacity:0.7;stroke-width:0.3;\" x=\"30.858125\" y=\"53.087917\" xlink:href=\"#md3330f725d\" />\n     <use style=\"fill:#4575b4;fill-opacity:0.7;stroke:#4575b4;stroke-opacity:0.7;stroke-width:0.3;\" x=\"30.858125\" y=\"53.50886\" xlink:href=\"#md3330f725d\" />\n     <use style=\"fill:#4575b4;fill-opacity:0.7;stroke:#4575b4;stroke-opacity:0.7;stroke-width:0.3;\" x=\"100.608125\" y=\"58.338424\" xlink:href=\"#md3330f725d\" />\n     <use style=\"fill:#4575b4;fill-opacity:0.7;stroke:#4575b4;stroke-opacity:0.7;stroke-width:0.3;\" x=\"30.858125\" y=\"35.350435\" xlink:href=\"#md3330f725d\" />\n     <use style=\"fill:#4575b4;fill-opacity:0.7;stroke:#4575b4;stroke-opacity:0.7;stroke-width:0.3;\" x=\"30.858125\" y=\"18.186848\" xlink:href=\"#md3330f725d\" />\n     <use style=\"fill:#4575b4;fill-opacity:0.7;stroke:#4575b4;stroke-opacity:0.7;stroke-width:0.3;\" x=\"100.608125\" y=\"59.474011\" xlink:href=\"#md3330f725d\" />\n     <use style=\"fill:#4575b4;fill-opacity:0.7;stroke:#4575b4;stroke-opacity:0.7;stroke-width:0.3;\" x=\"30.858125\" y=\"38.130586\" xlink:href=\"#md3330f725d\" />\n     <use style=\"fill:#4575b4;fill-opacity:0.7;stroke:#4575b4;stroke-opacity:0.7;stroke-width:0.3;\" x=\"30.858125\" y=\"47.699161\" xlink:href=\"#md3330f725d\" />\n     <use style=\"fill:#4575b4;fill-opacity:0.7;stroke:#4575b4;stroke-opacity:0.7;stroke-width:0.3;\" x=\"30.858125\" y=\"56.254981\" xlink:href=\"#md3330f725d\" />\n     <use style=\"fill:#4575b4;fill-opacity:0.7;stroke:#4575b4;stroke-opacity:0.7;stroke-width:0.3;\" x=\"30.858125\" y=\"47.084966\" xlink:href=\"#md3330f725d\" />\n     <use style=\"fill:#4575b4;fill-opacity:0.7;stroke:#4575b4;stroke-opacity:0.7;stroke-width:0.3;\" x=\"30.858125\" y=\"55.294174\" xlink:href=\"#md3330f725d\" />\n     <use style=\"fill:#4575b4;fill-opacity:0.7;stroke:#4575b4;stroke-opacity:0.7;stroke-width:0.3;\" x=\"30.858125\" y=\"18.844148\" xlink:href=\"#md3330f725d\" />\n     <use style=\"fill:#4575b4;fill-opacity:0.7;stroke:#4575b4;stroke-opacity:0.7;stroke-width:0.3;\" x=\"30.858125\" y=\"24.41215\" xlink:href=\"#md3330f725d\" />\n     <use style=\"fill:#4575b4;fill-opacity:0.7;stroke:#4575b4;stroke-opacity:0.7;stroke-width:0.3;\" x=\"30.858125\" y=\"30.787008\" xlink:href=\"#md3330f725d\" />\n     <use style=\"fill:#4575b4;fill-opacity:0.7;stroke:#4575b4;stroke-opacity:0.7;stroke-width:0.3;\" x=\"30.858125\" y=\"58.338424\" xlink:href=\"#md3330f725d\" />\n     <use style=\"fill:#4575b4;fill-opacity:0.7;stroke:#4575b4;stroke-opacity:0.7;stroke-width:0.3;\" x=\"30.858125\" y=\"55.294174\" xlink:href=\"#md3330f725d\" />\n     <use style=\"fill:#4575b4;fill-opacity:0.7;stroke:#4575b4;stroke-opacity:0.7;stroke-width:0.3;\" x=\"30.858125\" y=\"19.387138\" xlink:href=\"#md3330f725d\" />\n     <use style=\"fill:#4575b4;fill-opacity:0.7;stroke:#4575b4;stroke-opacity:0.7;stroke-width:0.3;\" x=\"100.608125\" y=\"51.878998\" xlink:href=\"#md3330f725d\" />\n     <use style=\"fill:#4575b4;fill-opacity:0.7;stroke:#4575b4;stroke-opacity:0.7;stroke-width:0.3;\" x=\"100.608125\" y=\"64.862766\" xlink:href=\"#md3330f725d\" />\n     <use style=\"fill:#4575b4;fill-opacity:0.7;stroke:#4575b4;stroke-opacity:0.7;stroke-width:0.3;\" x=\"30.858125\" y=\"36.688974\" xlink:href=\"#md3330f725d\" />\n     <use style=\"fill:#4575b4;fill-opacity:0.7;stroke:#4575b4;stroke-opacity:0.7;stroke-width:0.3;\" x=\"30.858125\" y=\"58.338424\" xlink:href=\"#md3330f725d\" />\n     <use style=\"fill:#4575b4;fill-opacity:0.7;stroke:#4575b4;stroke-opacity:0.7;stroke-width:0.3;\" x=\"30.858125\" y=\"53.50886\" xlink:href=\"#md3330f725d\" />\n     <use style=\"fill:#4575b4;fill-opacity:0.7;stroke:#4575b4;stroke-opacity:0.7;stroke-width:0.3;\" x=\"30.858125\" y=\"25.525246\" xlink:href=\"#md3330f725d\" />\n     <use style=\"fill:#4575b4;fill-opacity:0.7;stroke:#4575b4;stroke-opacity:0.7;stroke-width:0.3;\" x=\"30.858125\" y=\"33.801479\" xlink:href=\"#md3330f725d\" />\n     <use style=\"fill:#4575b4;fill-opacity:0.7;stroke:#4575b4;stroke-opacity:0.7;stroke-width:0.3;\" x=\"30.858125\" y=\"23.023986\" xlink:href=\"#md3330f725d\" />\n     <use style=\"fill:#4575b4;fill-opacity:0.7;stroke:#4575b4;stroke-opacity:0.7;stroke-width:0.3;\" x=\"30.858125\" y=\"50.379668\" xlink:href=\"#md3330f725d\" />\n     <use style=\"fill:#4575b4;fill-opacity:0.7;stroke:#4575b4;stroke-opacity:0.7;stroke-width:0.3;\" x=\"30.858125\" y=\"40.52511\" xlink:href=\"#md3330f725d\" />\n     <use style=\"fill:#4575b4;fill-opacity:0.7;stroke:#4575b4;stroke-opacity:0.7;stroke-width:0.3;\" x=\"100.608125\" y=\"66.492628\" xlink:href=\"#md3330f725d\" />\n     <use style=\"fill:#4575b4;fill-opacity:0.7;stroke:#4575b4;stroke-opacity:0.7;stroke-width:0.3;\" x=\"30.858125\" y=\"23.705224\" xlink:href=\"#md3330f725d\" />\n     <use style=\"fill:#4575b4;fill-opacity:0.7;stroke:#4575b4;stroke-opacity:0.7;stroke-width:0.3;\" x=\"30.858125\" y=\"44.283986\" xlink:href=\"#md3330f725d\" />\n     <use style=\"fill:#4575b4;fill-opacity:0.7;stroke:#4575b4;stroke-opacity:0.7;stroke-width:0.3;\" x=\"30.858125\" y=\"25.911481\" xlink:href=\"#md3330f725d\" />\n     <use style=\"fill:#4575b4;fill-opacity:0.7;stroke:#4575b4;stroke-opacity:0.7;stroke-width:0.3;\" x=\"30.858125\" y=\"41.396491\" xlink:href=\"#md3330f725d\" />\n     <use style=\"fill:#4575b4;fill-opacity:0.7;stroke:#4575b4;stroke-opacity:0.7;stroke-width:0.3;\" x=\"30.858125\" y=\"59.474011\" xlink:href=\"#md3330f725d\" />\n     <use style=\"fill:#4575b4;fill-opacity:0.7;stroke:#4575b4;stroke-opacity:0.7;stroke-width:0.3;\" x=\"30.858125\" y=\"51.114336\" xlink:href=\"#md3330f725d\" />\n     <use style=\"fill:#4575b4;fill-opacity:0.7;stroke:#4575b4;stroke-opacity:0.7;stroke-width:0.3;\" x=\"30.858125\" y=\"37.039105\" xlink:href=\"#md3330f725d\" />\n     <use style=\"fill:#4575b4;fill-opacity:0.7;stroke:#4575b4;stroke-opacity:0.7;stroke-width:0.3;\" x=\"30.858125\" y=\"54.20271\" xlink:href=\"#md3330f725d\" />\n     <use style=\"fill:#4575b4;fill-opacity:0.7;stroke:#4575b4;stroke-opacity:0.7;stroke-width:0.3;\" x=\"30.858125\" y=\"52.676208\" xlink:href=\"#md3330f725d\" />\n     <use style=\"fill:#4575b4;fill-opacity:0.7;stroke:#4575b4;stroke-opacity:0.7;stroke-width:0.3;\" x=\"30.858125\" y=\"21.888399\" xlink:href=\"#md3330f725d\" />\n     <use style=\"fill:#4575b4;fill-opacity:0.7;stroke:#4575b4;stroke-opacity:0.7;stroke-width:0.3;\" x=\"30.858125\" y=\"38.895248\" xlink:href=\"#md3330f725d\" />\n     <use style=\"fill:#4575b4;fill-opacity:0.7;stroke:#4575b4;stroke-opacity:0.7;stroke-width:0.3;\" x=\"100.608125\" y=\"57.267754\" xlink:href=\"#md3330f725d\" />\n     <use style=\"fill:#4575b4;fill-opacity:0.7;stroke:#4575b4;stroke-opacity:0.7;stroke-width:0.3;\" x=\"30.858125\" y=\"20.966981\" xlink:href=\"#md3330f725d\" />\n     <use style=\"fill:#4575b4;fill-opacity:0.7;stroke:#4575b4;stroke-opacity:0.7;stroke-width:0.3;\" x=\"30.858125\" y=\"56.254981\" xlink:href=\"#md3330f725d\" />\n     <use style=\"fill:#4575b4;fill-opacity:0.7;stroke:#4575b4;stroke-opacity:0.7;stroke-width:0.3;\" x=\"30.858125\" y=\"47.699161\" xlink:href=\"#md3330f725d\" />\n     <use style=\"fill:#4575b4;fill-opacity:0.7;stroke:#4575b4;stroke-opacity:0.7;stroke-width:0.3;\" x=\"30.858125\" y=\"15.428973\" xlink:href=\"#md3330f725d\" />\n     <use style=\"fill:#4575b4;fill-opacity:0.7;stroke:#4575b4;stroke-opacity:0.7;stroke-width:0.3;\" x=\"30.858125\" y=\"32.370906\" xlink:href=\"#md3330f725d\" />\n     <use style=\"fill:#4575b4;fill-opacity:0.7;stroke:#4575b4;stroke-opacity:0.7;stroke-width:0.3;\" x=\"30.858125\" y=\"34.715411\" xlink:href=\"#md3330f725d\" />\n     <use style=\"fill:#4575b4;fill-opacity:0.7;stroke:#4575b4;stroke-opacity:0.7;stroke-width:0.3;\" x=\"30.858125\" y=\"47.699161\" xlink:href=\"#md3330f725d\" />\n     <use style=\"fill:#4575b4;fill-opacity:0.7;stroke:#4575b4;stroke-opacity:0.7;stroke-width:0.3;\" x=\"30.858125\" y=\"47.084966\" xlink:href=\"#md3330f725d\" />\n     <use style=\"fill:#4575b4;fill-opacity:0.7;stroke:#4575b4;stroke-opacity:0.7;stroke-width:0.3;\" x=\"30.858125\" y=\"50.379668\" xlink:href=\"#md3330f725d\" />\n     <use style=\"fill:#4575b4;fill-opacity:0.7;stroke:#4575b4;stroke-opacity:0.7;stroke-width:0.3;\" x=\"30.858125\" y=\"41.396491\" xlink:href=\"#md3330f725d\" />\n     <use style=\"fill:#4575b4;fill-opacity:0.7;stroke:#4575b4;stroke-opacity:0.7;stroke-width:0.3;\" x=\"30.858125\" y=\"31.827916\" xlink:href=\"#md3330f725d\" />\n     <use style=\"fill:#4575b4;fill-opacity:0.7;stroke:#4575b4;stroke-opacity:0.7;stroke-width:0.3;\" x=\"30.858125\" y=\"59.01148\" xlink:href=\"#md3330f725d\" />\n     <use style=\"fill:#4575b4;fill-opacity:0.7;stroke:#4575b4;stroke-opacity:0.7;stroke-width:0.3;\" x=\"30.858125\" y=\"22.366685\" xlink:href=\"#md3330f725d\" />\n     <use style=\"fill:#4575b4;fill-opacity:0.7;stroke:#4575b4;stroke-opacity:0.7;stroke-width:0.3;\" x=\"100.608125\" y=\"54.380259\" xlink:href=\"#md3330f725d\" />\n     <use style=\"fill:#4575b4;fill-opacity:0.7;stroke:#4575b4;stroke-opacity:0.7;stroke-width:0.3;\" x=\"30.858125\" y=\"38.895248\" xlink:href=\"#md3330f725d\" />\n     <use style=\"fill:#4575b4;fill-opacity:0.7;stroke:#4575b4;stroke-opacity:0.7;stroke-width:0.3;\" x=\"30.858125\" y=\"31.827916\" xlink:href=\"#md3330f725d\" />\n     <use style=\"fill:#4575b4;fill-opacity:0.7;stroke:#4575b4;stroke-opacity:0.7;stroke-width:0.3;\" x=\"30.858125\" y=\"32.930098\" xlink:href=\"#md3330f725d\" />\n     <use style=\"fill:#4575b4;fill-opacity:0.7;stroke:#4575b4;stroke-opacity:0.7;stroke-width:0.3;\" x=\"30.858125\" y=\"53.50886\" xlink:href=\"#md3330f725d\" />\n     <use style=\"fill:#4575b4;fill-opacity:0.7;stroke:#4575b4;stroke-opacity:0.7;stroke-width:0.3;\" x=\"30.858125\" y=\"43.271231\" xlink:href=\"#md3330f725d\" />\n     <use style=\"fill:#4575b4;fill-opacity:0.7;stroke:#4575b4;stroke-opacity:0.7;stroke-width:0.3;\" x=\"30.858125\" y=\"20.522743\" xlink:href=\"#md3330f725d\" />\n     <use style=\"fill:#4575b4;fill-opacity:0.7;stroke:#4575b4;stroke-opacity:0.7;stroke-width:0.3;\" x=\"30.858125\" y=\"59.474011\" xlink:href=\"#md3330f725d\" />\n     <use style=\"fill:#4575b4;fill-opacity:0.7;stroke:#4575b4;stroke-opacity:0.7;stroke-width:0.3;\" x=\"30.858125\" y=\"38.509014\" xlink:href=\"#md3330f725d\" />\n     <use style=\"fill:#4575b4;fill-opacity:0.7;stroke:#4575b4;stroke-opacity:0.7;stroke-width:0.3;\" x=\"30.858125\" y=\"35.350435\" xlink:href=\"#md3330f725d\" />\n     <use style=\"fill:#4575b4;fill-opacity:0.7;stroke:#4575b4;stroke-opacity:0.7;stroke-width:0.3;\" x=\"30.858125\" y=\"29.326656\" xlink:href=\"#md3330f725d\" />\n     <use style=\"fill:#4575b4;fill-opacity:0.7;stroke:#4575b4;stroke-opacity:0.7;stroke-width:0.3;\" x=\"30.858125\" y=\"58.338424\" xlink:href=\"#md3330f725d\" />\n     <use style=\"fill:#4575b4;fill-opacity:0.7;stroke:#4575b4;stroke-opacity:0.7;stroke-width:0.3;\" x=\"30.858125\" y=\"25.911481\" xlink:href=\"#md3330f725d\" />\n     <use style=\"fill:#4575b4;fill-opacity:0.7;stroke:#4575b4;stroke-opacity:0.7;stroke-width:0.3;\" x=\"30.858125\" y=\"21.731643\" xlink:href=\"#md3330f725d\" />\n     <use style=\"fill:#4575b4;fill-opacity:0.7;stroke:#4575b4;stroke-opacity:0.7;stroke-width:0.3;\" x=\"30.858125\" y=\"45.354656\" xlink:href=\"#md3330f725d\" />\n     <use style=\"fill:#4575b4;fill-opacity:0.7;stroke:#4575b4;stroke-opacity:0.7;stroke-width:0.3;\" x=\"30.858125\" y=\"29.800905\" xlink:href=\"#md3330f725d\" />\n     <use style=\"fill:#4575b4;fill-opacity:0.7;stroke:#4575b4;stroke-opacity:0.7;stroke-width:0.3;\" x=\"30.858125\" y=\"13.92966\" xlink:href=\"#md3330f725d\" />\n     <use style=\"fill:#4575b4;fill-opacity:0.7;stroke:#4575b4;stroke-opacity:0.7;stroke-width:0.3;\" x=\"30.858125\" y=\"33.506493\" xlink:href=\"#md3330f725d\" />\n     <use style=\"fill:#4575b4;fill-opacity:0.7;stroke:#4575b4;stroke-opacity:0.7;stroke-width:0.3;\" x=\"30.858125\" y=\"54.380259\" xlink:href=\"#md3330f725d\" />\n     <use style=\"fill:#4575b4;fill-opacity:0.7;stroke:#4575b4;stroke-opacity:0.7;stroke-width:0.3;\" x=\"30.858125\" y=\"34.715411\" xlink:href=\"#md3330f725d\" />\n     <use style=\"fill:#4575b4;fill-opacity:0.7;stroke:#4575b4;stroke-opacity:0.7;stroke-width:0.3;\" x=\"30.858125\" y=\"32.930098\" xlink:href=\"#md3330f725d\" />\n     <use style=\"fill:#4575b4;fill-opacity:0.7;stroke:#4575b4;stroke-opacity:0.7;stroke-width:0.3;\" x=\"30.858125\" y=\"53.50886\" xlink:href=\"#md3330f725d\" />\n     <use style=\"fill:#4575b4;fill-opacity:0.7;stroke:#4575b4;stroke-opacity:0.7;stroke-width:0.3;\" x=\"30.858125\" y=\"40.104149\" xlink:href=\"#md3330f725d\" />\n     <use style=\"fill:#4575b4;fill-opacity:0.7;stroke:#4575b4;stroke-opacity:0.7;stroke-width:0.3;\" x=\"30.858125\" y=\"57.267754\" xlink:href=\"#md3330f725d\" />\n     <use style=\"fill:#4575b4;fill-opacity:0.7;stroke:#4575b4;stroke-opacity:0.7;stroke-width:0.3;\" x=\"30.858125\" y=\"26.107626\" xlink:href=\"#md3330f725d\" />\n     <use style=\"fill:#4575b4;fill-opacity:0.7;stroke:#4575b4;stroke-opacity:0.7;stroke-width:0.3;\" x=\"30.858125\" y=\"30.535574\" xlink:href=\"#md3330f725d\" />\n     <use style=\"fill:#4575b4;fill-opacity:0.7;stroke:#4575b4;stroke-opacity:0.7;stroke-width:0.3;\" x=\"30.858125\" y=\"40.52511\" xlink:href=\"#md3330f725d\" />\n     <use style=\"fill:#4575b4;fill-opacity:0.7;stroke:#4575b4;stroke-opacity:0.7;stroke-width:0.3;\" x=\"30.858125\" y=\"37.759643\" xlink:href=\"#md3330f725d\" />\n     <use style=\"fill:#4575b4;fill-opacity:0.7;stroke:#4575b4;stroke-opacity:0.7;stroke-width:0.3;\" x=\"100.608125\" y=\"58.338424\" xlink:href=\"#md3330f725d\" />\n     <use style=\"fill:#4575b4;fill-opacity:0.7;stroke:#4575b4;stroke-opacity:0.7;stroke-width:0.3;\" x=\"30.858125\" y=\"43.770758\" xlink:href=\"#md3330f725d\" />\n     <use style=\"fill:#4575b4;fill-opacity:0.7;stroke:#4575b4;stroke-opacity:0.7;stroke-width:0.3;\" x=\"30.858125\" y=\"43.770758\" xlink:href=\"#md3330f725d\" />\n     <use style=\"fill:#4575b4;fill-opacity:0.7;stroke:#4575b4;stroke-opacity:0.7;stroke-width:0.3;\" x=\"30.858125\" y=\"48.991504\" xlink:href=\"#md3330f725d\" />\n     <use style=\"fill:#4575b4;fill-opacity:0.7;stroke:#4575b4;stroke-opacity:0.7;stroke-width:0.3;\" x=\"30.858125\" y=\"38.509014\" xlink:href=\"#md3330f725d\" />\n     <use style=\"fill:#4575b4;fill-opacity:0.7;stroke:#4575b4;stroke-opacity:0.7;stroke-width:0.3;\" x=\"30.858125\" y=\"35.350435\" xlink:href=\"#md3330f725d\" />\n     <use style=\"fill:#4575b4;fill-opacity:0.7;stroke:#4575b4;stroke-opacity:0.7;stroke-width:0.3;\" x=\"30.858125\" y=\"25.146818\" xlink:href=\"#md3330f725d\" />\n     <use style=\"fill:#4575b4;fill-opacity:0.7;stroke:#4575b4;stroke-opacity:0.7;stroke-width:0.3;\" x=\"100.608125\" y=\"64.862766\" xlink:href=\"#md3330f725d\" />\n     <use style=\"fill:#4575b4;fill-opacity:0.7;stroke:#4575b4;stroke-opacity:0.7;stroke-width:0.3;\" x=\"100.608125\" y=\"60.682929\" xlink:href=\"#md3330f725d\" />\n     <use style=\"fill:#4575b4;fill-opacity:0.7;stroke:#4575b4;stroke-opacity:0.7;stroke-width:0.3;\" x=\"30.858125\" y=\"38.895248\" xlink:href=\"#md3330f725d\" />\n     <use style=\"fill:#4575b4;fill-opacity:0.7;stroke:#4575b4;stroke-opacity:0.7;stroke-width:0.3;\" x=\"30.858125\" y=\"25.146818\" xlink:href=\"#md3330f725d\" />\n     <use style=\"fill:#4575b4;fill-opacity:0.7;stroke:#4575b4;stroke-opacity:0.7;stroke-width:0.3;\" x=\"30.858125\" y=\"38.130586\" xlink:href=\"#md3330f725d\" />\n     <use style=\"fill:#4575b4;fill-opacity:0.7;stroke:#4575b4;stroke-opacity:0.7;stroke-width:0.3;\" x=\"30.858125\" y=\"35.350435\" xlink:href=\"#md3330f725d\" />\n     <use style=\"fill:#4575b4;fill-opacity:0.7;stroke:#4575b4;stroke-opacity:0.7;stroke-width:0.3;\" x=\"30.858125\" y=\"23.361505\" xlink:href=\"#md3330f725d\" />\n     <use style=\"fill:#4575b4;fill-opacity:0.7;stroke:#4575b4;stroke-opacity:0.7;stroke-width:0.3;\" x=\"30.858125\" y=\"23.361505\" xlink:href=\"#md3330f725d\" />\n     <use style=\"fill:#4575b4;fill-opacity:0.7;stroke:#4575b4;stroke-opacity:0.7;stroke-width:0.3;\" x=\"30.858125\" y=\"38.130586\" xlink:href=\"#md3330f725d\" />\n     <use style=\"fill:#4575b4;fill-opacity:0.7;stroke:#4575b4;stroke-opacity:0.7;stroke-width:0.3;\" x=\"30.858125\" y=\"43.271231\" xlink:href=\"#md3330f725d\" />\n     <use style=\"fill:#4575b4;fill-opacity:0.7;stroke:#4575b4;stroke-opacity:0.7;stroke-width:0.3;\" x=\"30.858125\" y=\"22.366685\" xlink:href=\"#md3330f725d\" />\n     <use style=\"fill:#4575b4;fill-opacity:0.7;stroke:#4575b4;stroke-opacity:0.7;stroke-width:0.3;\" x=\"30.858125\" y=\"18.978431\" xlink:href=\"#md3330f725d\" />\n     <use style=\"fill:#4575b4;fill-opacity:0.7;stroke:#4575b4;stroke-opacity:0.7;stroke-width:0.3;\" x=\"30.858125\" y=\"40.52511\" xlink:href=\"#md3330f725d\" />\n     <use style=\"fill:#4575b4;fill-opacity:0.7;stroke:#4575b4;stroke-opacity:0.7;stroke-width:0.3;\" x=\"100.608125\" y=\"51.114336\" xlink:href=\"#md3330f725d\" />\n     <use style=\"fill:#4575b4;fill-opacity:0.7;stroke:#4575b4;stroke-opacity:0.7;stroke-width:0.3;\" x=\"30.858125\" y=\"16.937611\" xlink:href=\"#md3330f725d\" />\n     <use style=\"fill:#4575b4;fill-opacity:0.7;stroke:#4575b4;stroke-opacity:0.7;stroke-width:0.3;\" x=\"30.858125\" y=\"43.271231\" xlink:href=\"#md3330f725d\" />\n     <use style=\"fill:#4575b4;fill-opacity:0.7;stroke:#4575b4;stroke-opacity:0.7;stroke-width:0.3;\" x=\"30.858125\" y=\"51.878998\" xlink:href=\"#md3330f725d\" />\n     <use style=\"fill:#4575b4;fill-opacity:0.7;stroke:#4575b4;stroke-opacity:0.7;stroke-width:0.3;\" x=\"30.858125\" y=\"44.283986\" xlink:href=\"#md3330f725d\" />\n     <use style=\"fill:#4575b4;fill-opacity:0.7;stroke:#4575b4;stroke-opacity:0.7;stroke-width:0.3;\" x=\"30.858125\" y=\"49.672741\" xlink:href=\"#md3330f725d\" />\n     <use style=\"fill:#4575b4;fill-opacity:0.7;stroke:#4575b4;stroke-opacity:0.7;stroke-width:0.3;\" x=\"30.858125\" y=\"51.878998\" xlink:href=\"#md3330f725d\" />\n     <use style=\"fill:#4575b4;fill-opacity:0.7;stroke:#4575b4;stroke-opacity:0.7;stroke-width:0.3;\" x=\"100.608125\" y=\"63.363435\" xlink:href=\"#md3330f725d\" />\n     <use style=\"fill:#4575b4;fill-opacity:0.7;stroke:#4575b4;stroke-opacity:0.7;stroke-width:0.3;\" x=\"30.858125\" y=\"43.770758\" xlink:href=\"#md3330f725d\" />\n     <use style=\"fill:#4575b4;fill-opacity:0.7;stroke:#4575b4;stroke-opacity:0.7;stroke-width:0.3;\" x=\"30.858125\" y=\"21.731643\" xlink:href=\"#md3330f725d\" />\n     <use style=\"fill:#4575b4;fill-opacity:0.7;stroke:#4575b4;stroke-opacity:0.7;stroke-width:0.3;\" x=\"30.858125\" y=\"46.490261\" xlink:href=\"#md3330f725d\" />\n     <use style=\"fill:#4575b4;fill-opacity:0.7;stroke:#4575b4;stroke-opacity:0.7;stroke-width:0.3;\" x=\"30.858125\" y=\"55.294174\" xlink:href=\"#md3330f725d\" />\n     <use style=\"fill:#4575b4;fill-opacity:0.7;stroke:#4575b4;stroke-opacity:0.7;stroke-width:0.3;\" x=\"30.858125\" y=\"36.007754\" xlink:href=\"#md3330f725d\" />\n     <use style=\"fill:#4575b4;fill-opacity:0.7;stroke:#4575b4;stroke-opacity:0.7;stroke-width:0.3;\" x=\"30.858125\" y=\"45.913848\" xlink:href=\"#md3330f725d\" />\n     <use style=\"fill:#4575b4;fill-opacity:0.7;stroke:#4575b4;stroke-opacity:0.7;stroke-width:0.3;\" x=\"30.858125\" y=\"20.232313\" xlink:href=\"#md3330f725d\" />\n     <use style=\"fill:#4575b4;fill-opacity:0.7;stroke:#4575b4;stroke-opacity:0.7;stroke-width:0.3;\" x=\"30.858125\" y=\"26.708691\" xlink:href=\"#md3330f725d\" />\n     <use style=\"fill:#4575b4;fill-opacity:0.7;stroke:#4575b4;stroke-opacity:0.7;stroke-width:0.3;\" x=\"30.858125\" y=\"38.130586\" xlink:href=\"#md3330f725d\" />\n     <use style=\"fill:#4575b4;fill-opacity:0.7;stroke:#4575b4;stroke-opacity:0.7;stroke-width:0.3;\" x=\"30.858125\" y=\"48.334203\" xlink:href=\"#md3330f725d\" />\n     <use style=\"fill:#4575b4;fill-opacity:0.7;stroke:#4575b4;stroke-opacity:0.7;stroke-width:0.3;\" x=\"30.858125\" y=\"51.878998\" xlink:href=\"#md3330f725d\" />\n     <use style=\"fill:#4575b4;fill-opacity:0.7;stroke:#4575b4;stroke-opacity:0.7;stroke-width:0.3;\" x=\"30.858125\" y=\"33.506493\" xlink:href=\"#md3330f725d\" />\n     <use style=\"fill:#4575b4;fill-opacity:0.7;stroke:#4575b4;stroke-opacity:0.7;stroke-width:0.3;\" x=\"30.858125\" y=\"51.878998\" xlink:href=\"#md3330f725d\" />\n     <use style=\"fill:#4575b4;fill-opacity:0.7;stroke:#4575b4;stroke-opacity:0.7;stroke-width:0.3;\" x=\"30.858125\" y=\"14.988219\" xlink:href=\"#md3330f725d\" />\n     <use style=\"fill:#4575b4;fill-opacity:0.7;stroke:#4575b4;stroke-opacity:0.7;stroke-width:0.3;\" x=\"30.858125\" y=\"39.692458\" xlink:href=\"#md3330f725d\" />\n     <use style=\"fill:#4575b4;fill-opacity:0.7;stroke:#4575b4;stroke-opacity:0.7;stroke-width:0.3;\" x=\"30.858125\" y=\"36.688974\" xlink:href=\"#md3330f725d\" />\n     <use style=\"fill:#4575b4;fill-opacity:0.7;stroke:#4575b4;stroke-opacity:0.7;stroke-width:0.3;\" x=\"30.858125\" y=\"33.506493\" xlink:href=\"#md3330f725d\" />\n     <use style=\"fill:#4575b4;fill-opacity:0.7;stroke:#4575b4;stroke-opacity:0.7;stroke-width:0.3;\" x=\"30.858125\" y=\"40.52511\" xlink:href=\"#md3330f725d\" />\n     <use style=\"fill:#4575b4;fill-opacity:0.7;stroke:#4575b4;stroke-opacity:0.7;stroke-width:0.3;\" x=\"30.858125\" y=\"32.097446\" xlink:href=\"#md3330f725d\" />\n     <use style=\"fill:#4575b4;fill-opacity:0.7;stroke:#4575b4;stroke-opacity:0.7;stroke-width:0.3;\" x=\"30.858125\" y=\"12.163069\" xlink:href=\"#md3330f725d\" />\n     <use style=\"fill:#4575b4;fill-opacity:0.7;stroke:#4575b4;stroke-opacity:0.7;stroke-width:0.3;\" x=\"30.858125\" y=\"14.771673\" xlink:href=\"#md3330f725d\" />\n     <use style=\"fill:#4575b4;fill-opacity:0.7;stroke:#4575b4;stroke-opacity:0.7;stroke-width:0.3;\" x=\"30.858125\" y=\"38.895248\" xlink:href=\"#md3330f725d\" />\n     <use style=\"fill:#4575b4;fill-opacity:0.7;stroke:#4575b4;stroke-opacity:0.7;stroke-width:0.3;\" x=\"30.858125\" y=\"48.991504\" xlink:href=\"#md3330f725d\" />\n     <use style=\"fill:#4575b4;fill-opacity:0.7;stroke:#4575b4;stroke-opacity:0.7;stroke-width:0.3;\" x=\"30.858125\" y=\"22.046476\" xlink:href=\"#md3330f725d\" />\n     <use style=\"fill:#4575b4;fill-opacity:0.7;stroke:#4575b4;stroke-opacity:0.7;stroke-width:0.3;\" x=\"100.608125\" y=\"53.50886\" xlink:href=\"#md3330f725d\" />\n     <use style=\"fill:#4575b4;fill-opacity:0.7;stroke:#4575b4;stroke-opacity:0.7;stroke-width:0.3;\" x=\"30.858125\" y=\"33.506493\" xlink:href=\"#md3330f725d\" />\n     <use style=\"fill:#4575b4;fill-opacity:0.7;stroke:#4575b4;stroke-opacity:0.7;stroke-width:0.3;\" x=\"30.858125\" y=\"58.338424\" xlink:href=\"#md3330f725d\" />\n     <use style=\"fill:#4575b4;fill-opacity:0.7;stroke:#4575b4;stroke-opacity:0.7;stroke-width:0.3;\" x=\"30.858125\" y=\"40.955736\" xlink:href=\"#md3330f725d\" />\n     <use style=\"fill:#4575b4;fill-opacity:0.7;stroke:#4575b4;stroke-opacity:0.7;stroke-width:0.3;\" x=\"30.858125\" y=\"34.101198\" xlink:href=\"#md3330f725d\" />\n     <use style=\"fill:#4575b4;fill-opacity:0.7;stroke:#4575b4;stroke-opacity:0.7;stroke-width:0.3;\" x=\"30.858125\" y=\"34.405777\" xlink:href=\"#md3330f725d\" />\n     <use style=\"fill:#4575b4;fill-opacity:0.7;stroke:#4575b4;stroke-opacity:0.7;stroke-width:0.3;\" x=\"30.858125\" y=\"37.395918\" xlink:href=\"#md3330f725d\" />\n     <use style=\"fill:#4575b4;fill-opacity:0.7;stroke:#4575b4;stroke-opacity:0.7;stroke-width:0.3;\" x=\"30.858125\" y=\"45.913848\" xlink:href=\"#md3330f725d\" />\n     <use style=\"fill:#4575b4;fill-opacity:0.7;stroke:#4575b4;stroke-opacity:0.7;stroke-width:0.3;\" x=\"30.858125\" y=\"39.289611\" xlink:href=\"#md3330f725d\" />\n     <use style=\"fill:#4575b4;fill-opacity:0.7;stroke:#4575b4;stroke-opacity:0.7;stroke-width:0.3;\" x=\"30.858125\" y=\"51.114336\" xlink:href=\"#md3330f725d\" />\n     <use style=\"fill:#4575b4;fill-opacity:0.7;stroke:#4575b4;stroke-opacity:0.7;stroke-width:0.3;\" x=\"30.858125\" y=\"30.287463\" xlink:href=\"#md3330f725d\" />\n     <use style=\"fill:#4575b4;fill-opacity:0.7;stroke:#4575b4;stroke-opacity:0.7;stroke-width:0.3;\" x=\"30.858125\" y=\"37.395918\" xlink:href=\"#md3330f725d\" />\n     <use style=\"fill:#4575b4;fill-opacity:0.7;stroke:#4575b4;stroke-opacity:0.7;stroke-width:0.3;\" x=\"30.858125\" y=\"27.120399\" xlink:href=\"#md3330f725d\" />\n     <use style=\"fill:#4575b4;fill-opacity:0.7;stroke:#4575b4;stroke-opacity:0.7;stroke-width:0.3;\" x=\"100.608125\" y=\"54.380259\" xlink:href=\"#md3330f725d\" />\n     <use style=\"fill:#4575b4;fill-opacity:0.7;stroke:#4575b4;stroke-opacity:0.7;stroke-width:0.3;\" x=\"30.858125\" y=\"34.715411\" xlink:href=\"#md3330f725d\" />\n     <use style=\"fill:#4575b4;fill-opacity:0.7;stroke:#4575b4;stroke-opacity:0.7;stroke-width:0.3;\" x=\"30.858125\" y=\"38.895248\" xlink:href=\"#md3330f725d\" />\n     <use style=\"fill:#4575b4;fill-opacity:0.7;stroke:#4575b4;stroke-opacity:0.7;stroke-width:0.3;\" x=\"30.858125\" y=\"51.878998\" xlink:href=\"#md3330f725d\" />\n     <use style=\"fill:#4575b4;fill-opacity:0.7;stroke:#4575b4;stroke-opacity:0.7;stroke-width:0.3;\" x=\"30.858125\" y=\"34.715411\" xlink:href=\"#md3330f725d\" />\n     <use style=\"fill:#4575b4;fill-opacity:0.7;stroke:#4575b4;stroke-opacity:0.7;stroke-width:0.3;\" x=\"30.858125\" y=\"43.271231\" xlink:href=\"#md3330f725d\" />\n     <use style=\"fill:#4575b4;fill-opacity:0.7;stroke:#4575b4;stroke-opacity:0.7;stroke-width:0.3;\" x=\"30.858125\" y=\"38.130586\" xlink:href=\"#md3330f725d\" />\n     <use style=\"fill:#4575b4;fill-opacity:0.7;stroke:#4575b4;stroke-opacity:0.7;stroke-width:0.3;\" x=\"30.858125\" y=\"46.490261\" xlink:href=\"#md3330f725d\" />\n     <use style=\"fill:#4575b4;fill-opacity:0.7;stroke:#4575b4;stroke-opacity:0.7;stroke-width:0.3;\" x=\"30.858125\" y=\"36.007754\" xlink:href=\"#md3330f725d\" />\n     <use style=\"fill:#4575b4;fill-opacity:0.7;stroke:#4575b4;stroke-opacity:0.7;stroke-width:0.3;\" x=\"30.858125\" y=\"49.672741\" xlink:href=\"#md3330f725d\" />\n     <use style=\"fill:#4575b4;fill-opacity:0.7;stroke:#4575b4;stroke-opacity:0.7;stroke-width:0.3;\" x=\"30.858125\" y=\"41.847893\" xlink:href=\"#md3330f725d\" />\n     <use style=\"fill:#4575b4;fill-opacity:0.7;stroke:#4575b4;stroke-opacity:0.7;stroke-width:0.3;\" x=\"30.858125\" y=\"32.370906\" xlink:href=\"#md3330f725d\" />\n     <use style=\"fill:#4575b4;fill-opacity:0.7;stroke:#4575b4;stroke-opacity:0.7;stroke-width:0.3;\" x=\"30.858125\" y=\"38.509014\" xlink:href=\"#md3330f725d\" />\n     <use style=\"fill:#4575b4;fill-opacity:0.7;stroke:#4575b4;stroke-opacity:0.7;stroke-width:0.3;\" x=\"30.858125\" y=\"31.300236\" xlink:href=\"#md3330f725d\" />\n     <use style=\"fill:#4575b4;fill-opacity:0.7;stroke:#4575b4;stroke-opacity:0.7;stroke-width:0.3;\" x=\"30.858125\" y=\"35.350435\" xlink:href=\"#md3330f725d\" />\n     <use style=\"fill:#4575b4;fill-opacity:0.7;stroke:#4575b4;stroke-opacity:0.7;stroke-width:0.3;\" x=\"30.858125\" y=\"45.354656\" xlink:href=\"#md3330f725d\" />\n     <use style=\"fill:#4575b4;fill-opacity:0.7;stroke:#4575b4;stroke-opacity:0.7;stroke-width:0.3;\" x=\"30.858125\" y=\"23.361505\" xlink:href=\"#md3330f725d\" />\n     <use style=\"fill:#4575b4;fill-opacity:0.7;stroke:#4575b4;stroke-opacity:0.7;stroke-width:0.3;\" x=\"100.608125\" y=\"59.474011\" xlink:href=\"#md3330f725d\" />\n     <use style=\"fill:#4575b4;fill-opacity:0.7;stroke:#4575b4;stroke-opacity:0.7;stroke-width:0.3;\" x=\"100.608125\" y=\"59.474011\" xlink:href=\"#md3330f725d\" />\n     <use style=\"fill:#4575b4;fill-opacity:0.7;stroke:#4575b4;stroke-opacity:0.7;stroke-width:0.3;\" x=\"30.858125\" y=\"42.310424\" xlink:href=\"#md3330f725d\" />\n     <use style=\"fill:#4575b4;fill-opacity:0.7;stroke:#4575b4;stroke-opacity:0.7;stroke-width:0.3;\" x=\"30.858125\" y=\"58.897616\" xlink:href=\"#md3330f725d\" />\n     <use style=\"fill:#4575b4;fill-opacity:0.7;stroke:#4575b4;stroke-opacity:0.7;stroke-width:0.3;\" x=\"30.858125\" y=\"27.541343\" xlink:href=\"#md3330f725d\" />\n     <use style=\"fill:#4575b4;fill-opacity:0.7;stroke:#4575b4;stroke-opacity:0.7;stroke-width:0.3;\" x=\"30.858125\" y=\"42.310424\" xlink:href=\"#md3330f725d\" />\n     <use style=\"fill:#4575b4;fill-opacity:0.7;stroke:#4575b4;stroke-opacity:0.7;stroke-width:0.3;\" x=\"30.858125\" y=\"40.52511\" xlink:href=\"#md3330f725d\" />\n     <use style=\"fill:#4575b4;fill-opacity:0.7;stroke:#4575b4;stroke-opacity:0.7;stroke-width:0.3;\" x=\"30.858125\" y=\"30.787008\" xlink:href=\"#md3330f725d\" />\n     <use style=\"fill:#4575b4;fill-opacity:0.7;stroke:#4575b4;stroke-opacity:0.7;stroke-width:0.3;\" x=\"30.858125\" y=\"26.107626\" xlink:href=\"#md3330f725d\" />\n     <use style=\"fill:#4575b4;fill-opacity:0.7;stroke:#4575b4;stroke-opacity:0.7;stroke-width:0.3;\" x=\"170.358125\" y=\"57.795434\" xlink:href=\"#md3330f725d\" />\n     <use style=\"fill:#4575b4;fill-opacity:0.7;stroke:#4575b4;stroke-opacity:0.7;stroke-width:0.3;\" x=\"100.608125\" y=\"48.991504\" xlink:href=\"#md3330f725d\" />\n     <use style=\"fill:#4575b4;fill-opacity:0.7;stroke:#4575b4;stroke-opacity:0.7;stroke-width:0.3;\" x=\"30.858125\" y=\"20.232313\" xlink:href=\"#md3330f725d\" />\n     <use style=\"fill:#4575b4;fill-opacity:0.7;stroke:#4575b4;stroke-opacity:0.7;stroke-width:0.3;\" x=\"30.858125\" y=\"29.326656\" xlink:href=\"#md3330f725d\" />\n     <use style=\"fill:#4575b4;fill-opacity:0.7;stroke:#4575b4;stroke-opacity:0.7;stroke-width:0.3;\" x=\"30.858125\" y=\"49.329023\" xlink:href=\"#md3330f725d\" />\n     <use style=\"fill:#4575b4;fill-opacity:0.7;stroke:#4575b4;stroke-opacity:0.7;stroke-width:0.3;\" x=\"30.858125\" y=\"50.379668\" xlink:href=\"#md3330f725d\" />\n     <use style=\"fill:#4575b4;fill-opacity:0.7;stroke:#4575b4;stroke-opacity:0.7;stroke-width:0.3;\" x=\"30.858125\" y=\"43.770758\" xlink:href=\"#md3330f725d\" />\n     <use style=\"fill:#4575b4;fill-opacity:0.7;stroke:#4575b4;stroke-opacity:0.7;stroke-width:0.3;\" x=\"30.858125\" y=\"32.930098\" xlink:href=\"#md3330f725d\" />\n     <use style=\"fill:#4575b4;fill-opacity:0.7;stroke:#4575b4;stroke-opacity:0.7;stroke-width:0.3;\" x=\"30.858125\" y=\"40.955736\" xlink:href=\"#md3330f725d\" />\n     <use style=\"fill:#4575b4;fill-opacity:0.7;stroke:#4575b4;stroke-opacity:0.7;stroke-width:0.3;\" x=\"30.858125\" y=\"44.283986\" xlink:href=\"#md3330f725d\" />\n     <use style=\"fill:#4575b4;fill-opacity:0.7;stroke:#4575b4;stroke-opacity:0.7;stroke-width:0.3;\" x=\"30.858125\" y=\"59.474011\" xlink:href=\"#md3330f725d\" />\n     <use style=\"fill:#4575b4;fill-opacity:0.7;stroke:#4575b4;stroke-opacity:0.7;stroke-width:0.3;\" x=\"30.858125\" y=\"19.387138\" xlink:href=\"#md3330f725d\" />\n     <use style=\"fill:#4575b4;fill-opacity:0.7;stroke:#4575b4;stroke-opacity:0.7;stroke-width:0.3;\" x=\"30.858125\" y=\"40.52511\" xlink:href=\"#md3330f725d\" />\n     <use style=\"fill:#4575b4;fill-opacity:0.7;stroke:#4575b4;stroke-opacity:0.7;stroke-width:0.3;\" x=\"30.858125\" y=\"19.525386\" xlink:href=\"#md3330f725d\" />\n     <use style=\"fill:#4575b4;fill-opacity:0.7;stroke:#4575b4;stroke-opacity:0.7;stroke-width:0.3;\" x=\"30.858125\" y=\"48.334203\" xlink:href=\"#md3330f725d\" />\n     <use style=\"fill:#4575b4;fill-opacity:0.7;stroke:#4575b4;stroke-opacity:0.7;stroke-width:0.3;\" x=\"30.858125\" y=\"33.506493\" xlink:href=\"#md3330f725d\" />\n     <use style=\"fill:#4575b4;fill-opacity:0.7;stroke:#4575b4;stroke-opacity:0.7;stroke-width:0.3;\" x=\"30.858125\" y=\"14.136631\" xlink:href=\"#md3330f725d\" />\n     <use style=\"fill:#4575b4;fill-opacity:0.7;stroke:#4575b4;stroke-opacity:0.7;stroke-width:0.3;\" x=\"100.608125\" y=\"59.474011\" xlink:href=\"#md3330f725d\" />\n     <use style=\"fill:#4575b4;fill-opacity:0.7;stroke:#4575b4;stroke-opacity:0.7;stroke-width:0.3;\" x=\"30.858125\" y=\"30.787008\" xlink:href=\"#md3330f725d\" />\n     <use style=\"fill:#4575b4;fill-opacity:0.7;stroke:#4575b4;stroke-opacity:0.7;stroke-width:0.3;\" x=\"30.858125\" y=\"29.326656\" xlink:href=\"#md3330f725d\" />\n     <use style=\"fill:#4575b4;fill-opacity:0.7;stroke:#4575b4;stroke-opacity:0.7;stroke-width:0.3;\" x=\"30.858125\" y=\"17.551806\" xlink:href=\"#md3330f725d\" />\n     <use style=\"fill:#4575b4;fill-opacity:0.7;stroke:#4575b4;stroke-opacity:0.7;stroke-width:0.3;\" x=\"30.858125\" y=\"47.699161\" xlink:href=\"#md3330f725d\" />\n     <use style=\"fill:#4575b4;fill-opacity:0.7;stroke:#4575b4;stroke-opacity:0.7;stroke-width:0.3;\" x=\"30.858125\" y=\"33.506493\" xlink:href=\"#md3330f725d\" />\n     <use style=\"fill:#4575b4;fill-opacity:0.7;stroke:#4575b4;stroke-opacity:0.7;stroke-width:0.3;\" x=\"100.608125\" y=\"61.975271\" xlink:href=\"#md3330f725d\" />\n     <use style=\"fill:#4575b4;fill-opacity:0.7;stroke:#4575b4;stroke-opacity:0.7;stroke-width:0.3;\" x=\"30.858125\" y=\"39.692458\" xlink:href=\"#md3330f725d\" />\n     <use style=\"fill:#4575b4;fill-opacity:0.7;stroke:#4575b4;stroke-opacity:0.7;stroke-width:0.3;\" x=\"30.858125\" y=\"28.191069\" xlink:href=\"#md3330f725d\" />\n     <use style=\"fill:#4575b4;fill-opacity:0.7;stroke:#4575b4;stroke-opacity:0.7;stroke-width:0.3;\" x=\"30.858125\" y=\"21.731643\" xlink:href=\"#md3330f725d\" />\n     <use style=\"fill:#4575b4;fill-opacity:0.7;stroke:#4575b4;stroke-opacity:0.7;stroke-width:0.3;\" x=\"170.358125\" y=\"59.474011\" xlink:href=\"#md3330f725d\" />\n     <use style=\"fill:#4575b4;fill-opacity:0.7;stroke:#4575b4;stroke-opacity:0.7;stroke-width:0.3;\" x=\"100.608125\" y=\"50.379668\" xlink:href=\"#md3330f725d\" />\n     <use style=\"fill:#4575b4;fill-opacity:0.7;stroke:#4575b4;stroke-opacity:0.7;stroke-width:0.3;\" x=\"30.858125\" y=\"18.844148\" xlink:href=\"#md3330f725d\" />\n     <use style=\"fill:#4575b4;fill-opacity:0.7;stroke:#4575b4;stroke-opacity:0.7;stroke-width:0.3;\" x=\"30.858125\" y=\"30.787008\" xlink:href=\"#md3330f725d\" />\n     <use style=\"fill:#4575b4;fill-opacity:0.7;stroke:#4575b4;stroke-opacity:0.7;stroke-width:0.3;\" x=\"30.858125\" y=\"25.146818\" xlink:href=\"#md3330f725d\" />\n     <use style=\"fill:#4575b4;fill-opacity:0.7;stroke:#4575b4;stroke-opacity:0.7;stroke-width:0.3;\" x=\"30.858125\" y=\"51.878998\" xlink:href=\"#md3330f725d\" />\n     <use style=\"fill:#4575b4;fill-opacity:0.7;stroke:#4575b4;stroke-opacity:0.7;stroke-width:0.3;\" x=\"30.858125\" y=\"33.506493\" xlink:href=\"#md3330f725d\" />\n     <use style=\"fill:#4575b4;fill-opacity:0.7;stroke:#4575b4;stroke-opacity:0.7;stroke-width:0.3;\" x=\"30.858125\" y=\"45.913848\" xlink:href=\"#md3330f725d\" />\n     <use style=\"fill:#4575b4;fill-opacity:0.7;stroke:#4575b4;stroke-opacity:0.7;stroke-width:0.3;\" x=\"30.858125\" y=\"27.120399\" xlink:href=\"#md3330f725d\" />\n     <use style=\"fill:#4575b4;fill-opacity:0.7;stroke:#4575b4;stroke-opacity:0.7;stroke-width:0.3;\" x=\"30.858125\" y=\"42.784655\" xlink:href=\"#md3330f725d\" />\n     <use style=\"fill:#4575b4;fill-opacity:0.7;stroke:#4575b4;stroke-opacity:0.7;stroke-width:0.3;\" x=\"30.858125\" y=\"17.058835\" xlink:href=\"#md3330f725d\" />\n     <use style=\"fill:#4575b4;fill-opacity:0.7;stroke:#4575b4;stroke-opacity:0.7;stroke-width:0.3;\" x=\"30.858125\" y=\"42.310424\" xlink:href=\"#md3330f725d\" />\n     <use style=\"fill:#4575b4;fill-opacity:0.7;stroke:#4575b4;stroke-opacity:0.7;stroke-width:0.3;\" x=\"30.858125\" y=\"46.490261\" xlink:href=\"#md3330f725d\" />\n     <use style=\"fill:#4575b4;fill-opacity:0.7;stroke:#4575b4;stroke-opacity:0.7;stroke-width:0.3;\" x=\"30.858125\" y=\"27.120399\" xlink:href=\"#md3330f725d\" />\n     <use style=\"fill:#4575b4;fill-opacity:0.7;stroke:#4575b4;stroke-opacity:0.7;stroke-width:0.3;\" x=\"30.858125\" y=\"10.721456\" xlink:href=\"#md3330f725d\" />\n     <use style=\"fill:#4575b4;fill-opacity:0.7;stroke:#4575b4;stroke-opacity:0.7;stroke-width:0.3;\" x=\"30.858125\" y=\"59.474011\" xlink:href=\"#md3330f725d\" />\n     <use style=\"fill:#4575b4;fill-opacity:0.7;stroke:#4575b4;stroke-opacity:0.7;stroke-width:0.3;\" x=\"30.858125\" y=\"27.541343\" xlink:href=\"#md3330f725d\" />\n     <use style=\"fill:#4575b4;fill-opacity:0.7;stroke:#4575b4;stroke-opacity:0.7;stroke-width:0.3;\" x=\"30.858125\" y=\"36.345273\" xlink:href=\"#md3330f725d\" />\n     <use style=\"fill:#4575b4;fill-opacity:0.7;stroke:#4575b4;stroke-opacity:0.7;stroke-width:0.3;\" x=\"30.858125\" y=\"36.345273\" xlink:href=\"#md3330f725d\" />\n     <use style=\"fill:#4575b4;fill-opacity:0.7;stroke:#4575b4;stroke-opacity:0.7;stroke-width:0.3;\" x=\"30.858125\" y=\"50.379668\" xlink:href=\"#md3330f725d\" />\n     <use style=\"fill:#4575b4;fill-opacity:0.7;stroke:#4575b4;stroke-opacity:0.7;stroke-width:0.3;\" x=\"30.858125\" y=\"33.506493\" xlink:href=\"#md3330f725d\" />\n     <use style=\"fill:#4575b4;fill-opacity:0.7;stroke:#4575b4;stroke-opacity:0.7;stroke-width:0.3;\" x=\"30.858125\" y=\"34.715411\" xlink:href=\"#md3330f725d\" />\n     <use style=\"fill:#4575b4;fill-opacity:0.7;stroke:#4575b4;stroke-opacity:0.7;stroke-width:0.3;\" x=\"30.858125\" y=\"31.300236\" xlink:href=\"#md3330f725d\" />\n     <use style=\"fill:#4575b4;fill-opacity:0.7;stroke:#4575b4;stroke-opacity:0.7;stroke-width:0.3;\" x=\"30.858125\" y=\"48.334203\" xlink:href=\"#md3330f725d\" />\n     <use style=\"fill:#4575b4;fill-opacity:0.7;stroke:#4575b4;stroke-opacity:0.7;stroke-width:0.3;\" x=\"30.858125\" y=\"25.525246\" xlink:href=\"#md3330f725d\" />\n     <use style=\"fill:#4575b4;fill-opacity:0.7;stroke:#4575b4;stroke-opacity:0.7;stroke-width:0.3;\" x=\"30.858125\" y=\"42.310424\" xlink:href=\"#md3330f725d\" />\n     <use style=\"fill:#4575b4;fill-opacity:0.7;stroke:#4575b4;stroke-opacity:0.7;stroke-width:0.3;\" x=\"30.858125\" y=\"40.104149\" xlink:href=\"#md3330f725d\" />\n     <use style=\"fill:#4575b4;fill-opacity:0.7;stroke:#4575b4;stroke-opacity:0.7;stroke-width:0.3;\" x=\"30.858125\" y=\"25.146818\" xlink:href=\"#md3330f725d\" />\n     <use style=\"fill:#4575b4;fill-opacity:0.7;stroke:#4575b4;stroke-opacity:0.7;stroke-width:0.3;\" x=\"30.858125\" y=\"48.991504\" xlink:href=\"#md3330f725d\" />\n     <use style=\"fill:#4575b4;fill-opacity:0.7;stroke:#4575b4;stroke-opacity:0.7;stroke-width:0.3;\" x=\"30.858125\" y=\"47.084966\" xlink:href=\"#md3330f725d\" />\n     <use style=\"fill:#4575b4;fill-opacity:0.7;stroke:#4575b4;stroke-opacity:0.7;stroke-width:0.3;\" x=\"30.858125\" y=\"57.267754\" xlink:href=\"#md3330f725d\" />\n     <use style=\"fill:#4575b4;fill-opacity:0.7;stroke:#4575b4;stroke-opacity:0.7;stroke-width:0.3;\" x=\"30.858125\" y=\"55.294174\" xlink:href=\"#md3330f725d\" />\n     <use style=\"fill:#4575b4;fill-opacity:0.7;stroke:#4575b4;stroke-opacity:0.7;stroke-width:0.3;\" x=\"100.608125\" y=\"50.379668\" xlink:href=\"#md3330f725d\" />\n     <use style=\"fill:#4575b4;fill-opacity:0.7;stroke:#4575b4;stroke-opacity:0.7;stroke-width:0.3;\" x=\"30.858125\" y=\"41.396491\" xlink:href=\"#md3330f725d\" />\n     <use style=\"fill:#4575b4;fill-opacity:0.7;stroke:#4575b4;stroke-opacity:0.7;stroke-width:0.3;\" x=\"30.858125\" y=\"48.991504\" xlink:href=\"#md3330f725d\" />\n     <use style=\"fill:#4575b4;fill-opacity:0.7;stroke:#4575b4;stroke-opacity:0.7;stroke-width:0.3;\" x=\"30.858125\" y=\"12.163069\" xlink:href=\"#md3330f725d\" />\n     <use style=\"fill:#4575b4;fill-opacity:0.7;stroke:#4575b4;stroke-opacity:0.7;stroke-width:0.3;\" x=\"30.858125\" y=\"40.52511\" xlink:href=\"#md3330f725d\" />\n     <use style=\"fill:#4575b4;fill-opacity:0.7;stroke:#4575b4;stroke-opacity:0.7;stroke-width:0.3;\" x=\"30.858125\" y=\"57.267754\" xlink:href=\"#md3330f725d\" />\n     <use style=\"fill:#4575b4;fill-opacity:0.7;stroke:#4575b4;stroke-opacity:0.7;stroke-width:0.3;\" x=\"30.858125\" y=\"43.770758\" xlink:href=\"#md3330f725d\" />\n     <use style=\"fill:#4575b4;fill-opacity:0.7;stroke:#4575b4;stroke-opacity:0.7;stroke-width:0.3;\" x=\"30.858125\" y=\"31.827916\" xlink:href=\"#md3330f725d\" />\n     <use style=\"fill:#4575b4;fill-opacity:0.7;stroke:#4575b4;stroke-opacity:0.7;stroke-width:0.3;\" x=\"30.858125\" y=\"16.342906\" xlink:href=\"#md3330f725d\" />\n     <use style=\"fill:#4575b4;fill-opacity:0.7;stroke:#4575b4;stroke-opacity:0.7;stroke-width:0.3;\" x=\"30.858125\" y=\"40.104149\" xlink:href=\"#md3330f725d\" />\n     <use style=\"fill:#4575b4;fill-opacity:0.7;stroke:#4575b4;stroke-opacity:0.7;stroke-width:0.3;\" x=\"30.858125\" y=\"28.191069\" xlink:href=\"#md3330f725d\" />\n     <use style=\"fill:#4575b4;fill-opacity:0.7;stroke:#4575b4;stroke-opacity:0.7;stroke-width:0.3;\" x=\"30.858125\" y=\"30.787008\" xlink:href=\"#md3330f725d\" />\n     <use style=\"fill:#4575b4;fill-opacity:0.7;stroke:#4575b4;stroke-opacity:0.7;stroke-width:0.3;\" x=\"30.858125\" y=\"42.310424\" xlink:href=\"#md3330f725d\" />\n     <use style=\"fill:#4575b4;fill-opacity:0.7;stroke:#4575b4;stroke-opacity:0.7;stroke-width:0.3;\" x=\"30.858125\" y=\"26.708691\" xlink:href=\"#md3330f725d\" />\n     <use style=\"fill:#4575b4;fill-opacity:0.7;stroke:#4575b4;stroke-opacity:0.7;stroke-width:0.3;\" x=\"30.858125\" y=\"24.055355\" xlink:href=\"#md3330f725d\" />\n     <use style=\"fill:#4575b4;fill-opacity:0.7;stroke:#4575b4;stroke-opacity:0.7;stroke-width:0.3;\" x=\"30.858125\" y=\"28.412741\" xlink:href=\"#md3330f725d\" />\n     <use style=\"fill:#4575b4;fill-opacity:0.7;stroke:#4575b4;stroke-opacity:0.7;stroke-width:0.3;\" x=\"30.858125\" y=\"36.345273\" xlink:href=\"#md3330f725d\" />\n     <use style=\"fill:#4575b4;fill-opacity:0.7;stroke:#4575b4;stroke-opacity:0.7;stroke-width:0.3;\" x=\"30.858125\" y=\"39.289611\" xlink:href=\"#md3330f725d\" />\n     <use style=\"fill:#4575b4;fill-opacity:0.7;stroke:#4575b4;stroke-opacity:0.7;stroke-width:0.3;\" x=\"30.858125\" y=\"40.52511\" xlink:href=\"#md3330f725d\" />\n     <use style=\"fill:#4575b4;fill-opacity:0.7;stroke:#4575b4;stroke-opacity:0.7;stroke-width:0.3;\" x=\"30.858125\" y=\"22.692451\" xlink:href=\"#md3330f725d\" />\n     <use style=\"fill:#4575b4;fill-opacity:0.7;stroke:#4575b4;stroke-opacity:0.7;stroke-width:0.3;\" x=\"30.858125\" y=\"56.254981\" xlink:href=\"#md3330f725d\" />\n     <use style=\"fill:#4575b4;fill-opacity:0.7;stroke:#4575b4;stroke-opacity:0.7;stroke-width:0.3;\" x=\"100.608125\" y=\"45.354656\" xlink:href=\"#md3330f725d\" />\n     <use style=\"fill:#4575b4;fill-opacity:0.7;stroke:#4575b4;stroke-opacity:0.7;stroke-width:0.3;\" x=\"30.858125\" y=\"25.525246\" xlink:href=\"#md3330f725d\" />\n     <use style=\"fill:#4575b4;fill-opacity:0.7;stroke:#4575b4;stroke-opacity:0.7;stroke-width:0.3;\" x=\"30.858125\" y=\"31.827916\" xlink:href=\"#md3330f725d\" />\n     <use style=\"fill:#4575b4;fill-opacity:0.7;stroke:#4575b4;stroke-opacity:0.7;stroke-width:0.3;\" x=\"30.858125\" y=\"54.380259\" xlink:href=\"#md3330f725d\" />\n     <use style=\"fill:#4575b4;fill-opacity:0.7;stroke:#4575b4;stroke-opacity:0.7;stroke-width:0.3;\" x=\"30.858125\" y=\"38.130586\" xlink:href=\"#md3330f725d\" />\n     <use style=\"fill:#4575b4;fill-opacity:0.7;stroke:#4575b4;stroke-opacity:0.7;stroke-width:0.3;\" x=\"30.858125\" y=\"48.334203\" xlink:href=\"#md3330f725d\" />\n     <use style=\"fill:#4575b4;fill-opacity:0.7;stroke:#4575b4;stroke-opacity:0.7;stroke-width:0.3;\" x=\"30.858125\" y=\"34.715411\" xlink:href=\"#md3330f725d\" />\n     <use style=\"fill:#4575b4;fill-opacity:0.7;stroke:#4575b4;stroke-opacity:0.7;stroke-width:0.3;\" x=\"30.858125\" y=\"26.708691\" xlink:href=\"#md3330f725d\" />\n     <use style=\"fill:#4575b4;fill-opacity:0.7;stroke:#4575b4;stroke-opacity:0.7;stroke-width:0.3;\" x=\"100.608125\" y=\"51.114336\" xlink:href=\"#md3330f725d\" />\n     <use style=\"fill:#4575b4;fill-opacity:0.7;stroke:#4575b4;stroke-opacity:0.7;stroke-width:0.3;\" x=\"30.858125\" y=\"38.895248\" xlink:href=\"#md3330f725d\" />\n     <use style=\"fill:#4575b4;fill-opacity:0.7;stroke:#4575b4;stroke-opacity:0.7;stroke-width:0.3;\" x=\"100.608125\" y=\"55.294174\" xlink:href=\"#md3330f725d\" />\n     <use style=\"fill:#4575b4;fill-opacity:0.7;stroke:#4575b4;stroke-opacity:0.7;stroke-width:0.3;\" x=\"30.858125\" y=\"34.715411\" xlink:href=\"#md3330f725d\" />\n     <use style=\"fill:#4575b4;fill-opacity:0.7;stroke:#4575b4;stroke-opacity:0.7;stroke-width:0.3;\" x=\"30.858125\" y=\"33.801479\" xlink:href=\"#md3330f725d\" />\n     <use style=\"fill:#4575b4;fill-opacity:0.7;stroke:#4575b4;stroke-opacity:0.7;stroke-width:0.3;\" x=\"100.608125\" y=\"50.379668\" xlink:href=\"#md3330f725d\" />\n     <use style=\"fill:#4575b4;fill-opacity:0.7;stroke:#4575b4;stroke-opacity:0.7;stroke-width:0.3;\" x=\"100.608125\" y=\"57.795434\" xlink:href=\"#md3330f725d\" />\n     <use style=\"fill:#4575b4;fill-opacity:0.7;stroke:#4575b4;stroke-opacity:0.7;stroke-width:0.3;\" x=\"30.858125\" y=\"49.672741\" xlink:href=\"#md3330f725d\" />\n     <use style=\"fill:#4575b4;fill-opacity:0.7;stroke:#4575b4;stroke-opacity:0.7;stroke-width:0.3;\" x=\"30.858125\" y=\"42.784655\" xlink:href=\"#md3330f725d\" />\n     <use style=\"fill:#4575b4;fill-opacity:0.7;stroke:#4575b4;stroke-opacity:0.7;stroke-width:0.3;\" x=\"30.858125\" y=\"46.490261\" xlink:href=\"#md3330f725d\" />\n     <use style=\"fill:#4575b4;fill-opacity:0.7;stroke:#4575b4;stroke-opacity:0.7;stroke-width:0.3;\" x=\"30.858125\" y=\"22.528853\" xlink:href=\"#md3330f725d\" />\n     <use style=\"fill:#4575b4;fill-opacity:0.7;stroke:#4575b4;stroke-opacity:0.7;stroke-width:0.3;\" x=\"30.858125\" y=\"38.130586\" xlink:href=\"#md3330f725d\" />\n     <use style=\"fill:#4575b4;fill-opacity:0.7;stroke:#4575b4;stroke-opacity:0.7;stroke-width:0.3;\" x=\"30.858125\" y=\"53.50886\" xlink:href=\"#md3330f725d\" />\n     <use style=\"fill:#4575b4;fill-opacity:0.7;stroke:#4575b4;stroke-opacity:0.7;stroke-width:0.3;\" x=\"30.858125\" y=\"44.283986\" xlink:href=\"#md3330f725d\" />\n     <use style=\"fill:#4575b4;fill-opacity:0.7;stroke:#4575b4;stroke-opacity:0.7;stroke-width:0.3;\" x=\"30.858125\" y=\"26.91341\" xlink:href=\"#md3330f725d\" />\n     <use style=\"fill:#4575b4;fill-opacity:0.7;stroke:#4575b4;stroke-opacity:0.7;stroke-width:0.3;\" x=\"30.858125\" y=\"24.775893\" xlink:href=\"#md3330f725d\" />\n     <use style=\"fill:#4575b4;fill-opacity:0.7;stroke:#4575b4;stroke-opacity:0.7;stroke-width:0.3;\" x=\"30.858125\" y=\"48.991504\" xlink:href=\"#md3330f725d\" />\n     <use style=\"fill:#4575b4;fill-opacity:0.7;stroke:#4575b4;stroke-opacity:0.7;stroke-width:0.3;\" x=\"30.858125\" y=\"25.911481\" xlink:href=\"#md3330f725d\" />\n     <use style=\"fill:#4575b4;fill-opacity:0.7;stroke:#4575b4;stroke-opacity:0.7;stroke-width:0.3;\" x=\"30.858125\" y=\"22.110071\" xlink:href=\"#md3330f725d\" />\n     <use style=\"fill:#4575b4;fill-opacity:0.7;stroke:#4575b4;stroke-opacity:0.7;stroke-width:0.3;\" x=\"30.858125\" y=\"47.699161\" xlink:href=\"#md3330f725d\" />\n     <use style=\"fill:#4575b4;fill-opacity:0.7;stroke:#4575b4;stroke-opacity:0.7;stroke-width:0.3;\" x=\"30.858125\" y=\"16.342906\" xlink:href=\"#md3330f725d\" />\n     <use style=\"fill:#4575b4;fill-opacity:0.7;stroke:#4575b4;stroke-opacity:0.7;stroke-width:0.3;\" x=\"30.858125\" y=\"30.535574\" xlink:href=\"#md3330f725d\" />\n     <use style=\"fill:#4575b4;fill-opacity:0.7;stroke:#4575b4;stroke-opacity:0.7;stroke-width:0.3;\" x=\"30.858125\" y=\"33.21608\" xlink:href=\"#md3330f725d\" />\n     <use style=\"fill:#4575b4;fill-opacity:0.7;stroke:#4575b4;stroke-opacity:0.7;stroke-width:0.3;\" x=\"30.858125\" y=\"26.708691\" xlink:href=\"#md3330f725d\" />\n     <use style=\"fill:#4575b4;fill-opacity:0.7;stroke:#4575b4;stroke-opacity:0.7;stroke-width:0.3;\" x=\"30.858125\" y=\"43.770758\" xlink:href=\"#md3330f725d\" />\n     <use style=\"fill:#4575b4;fill-opacity:0.7;stroke:#4575b4;stroke-opacity:0.7;stroke-width:0.3;\" x=\"30.858125\" y=\"36.688974\" xlink:href=\"#md3330f725d\" />\n     <use style=\"fill:#4575b4;fill-opacity:0.7;stroke:#4575b4;stroke-opacity:0.7;stroke-width:0.3;\" x=\"30.858125\" y=\"46.490261\" xlink:href=\"#md3330f725d\" />\n     <use style=\"fill:#4575b4;fill-opacity:0.7;stroke:#4575b4;stroke-opacity:0.7;stroke-width:0.3;\" x=\"30.858125\" y=\"42.310424\" xlink:href=\"#md3330f725d\" />\n     <use style=\"fill:#4575b4;fill-opacity:0.7;stroke:#4575b4;stroke-opacity:0.7;stroke-width:0.3;\" x=\"30.858125\" y=\"43.770758\" xlink:href=\"#md3330f725d\" />\n     <use style=\"fill:#4575b4;fill-opacity:0.7;stroke:#4575b4;stroke-opacity:0.7;stroke-width:0.3;\" x=\"30.858125\" y=\"45.354656\" xlink:href=\"#md3330f725d\" />\n     <use style=\"fill:#4575b4;fill-opacity:0.7;stroke:#4575b4;stroke-opacity:0.7;stroke-width:0.3;\" x=\"30.858125\" y=\"37.395918\" xlink:href=\"#md3330f725d\" />\n     <use style=\"fill:#4575b4;fill-opacity:0.7;stroke:#4575b4;stroke-opacity:0.7;stroke-width:0.3;\" x=\"30.858125\" y=\"45.354656\" xlink:href=\"#md3330f725d\" />\n     <use style=\"fill:#4575b4;fill-opacity:0.7;stroke:#4575b4;stroke-opacity:0.7;stroke-width:0.3;\" x=\"30.858125\" y=\"28.864125\" xlink:href=\"#md3330f725d\" />\n     <use style=\"fill:#4575b4;fill-opacity:0.7;stroke:#4575b4;stroke-opacity:0.7;stroke-width:0.3;\" x=\"30.858125\" y=\"49.672741\" xlink:href=\"#md3330f725d\" />\n     <use style=\"fill:#4575b4;fill-opacity:0.7;stroke:#4575b4;stroke-opacity:0.7;stroke-width:0.3;\" x=\"30.858125\" y=\"38.895248\" xlink:href=\"#md3330f725d\" />\n     <use style=\"fill:#4575b4;fill-opacity:0.7;stroke:#4575b4;stroke-opacity:0.7;stroke-width:0.3;\" x=\"30.858125\" y=\"37.395918\" xlink:href=\"#md3330f725d\" />\n     <use style=\"fill:#4575b4;fill-opacity:0.7;stroke:#4575b4;stroke-opacity:0.7;stroke-width:0.3;\" x=\"30.858125\" y=\"44.283986\" xlink:href=\"#md3330f725d\" />\n     <use style=\"fill:#4575b4;fill-opacity:0.7;stroke:#4575b4;stroke-opacity:0.7;stroke-width:0.3;\" x=\"30.858125\" y=\"33.801479\" xlink:href=\"#md3330f725d\" />\n     <use style=\"fill:#4575b4;fill-opacity:0.7;stroke:#4575b4;stroke-opacity:0.7;stroke-width:0.3;\" x=\"30.858125\" y=\"11.700538\" xlink:href=\"#md3330f725d\" />\n     <use style=\"fill:#4575b4;fill-opacity:0.7;stroke:#4575b4;stroke-opacity:0.7;stroke-width:0.3;\" x=\"30.858125\" y=\"15.207301\" xlink:href=\"#md3330f725d\" />\n     <use style=\"fill:#4575b4;fill-opacity:0.7;stroke:#4575b4;stroke-opacity:0.7;stroke-width:0.3;\" x=\"30.858125\" y=\"43.770758\" xlink:href=\"#md3330f725d\" />\n     <use style=\"fill:#4575b4;fill-opacity:0.7;stroke:#4575b4;stroke-opacity:0.7;stroke-width:0.3;\" x=\"30.858125\" y=\"34.872149\" xlink:href=\"#md3330f725d\" />\n     <use style=\"fill:#4575b4;fill-opacity:0.7;stroke:#4575b4;stroke-opacity:0.7;stroke-width:0.3;\" x=\"30.858125\" y=\"45.354656\" xlink:href=\"#md3330f725d\" />\n     <use style=\"fill:#4575b4;fill-opacity:0.7;stroke:#4575b4;stroke-opacity:0.7;stroke-width:0.3;\" x=\"30.858125\" y=\"13.123876\" xlink:href=\"#md3330f725d\" />\n     <use style=\"fill:#4575b4;fill-opacity:0.7;stroke:#4575b4;stroke-opacity:0.7;stroke-width:0.3;\" x=\"30.858125\" y=\"31.300236\" xlink:href=\"#md3330f725d\" />\n     <use style=\"fill:#4575b4;fill-opacity:0.7;stroke:#4575b4;stroke-opacity:0.7;stroke-width:0.3;\" x=\"30.858125\" y=\"40.52511\" xlink:href=\"#md3330f725d\" />\n     <use style=\"fill:#4575b4;fill-opacity:0.7;stroke:#4575b4;stroke-opacity:0.7;stroke-width:0.3;\" x=\"30.858125\" y=\"31.827916\" xlink:href=\"#md3330f725d\" />\n     <use style=\"fill:#4575b4;fill-opacity:0.7;stroke:#4575b4;stroke-opacity:0.7;stroke-width:0.3;\" x=\"30.858125\" y=\"42.784655\" xlink:href=\"#md3330f725d\" />\n     <use style=\"fill:#4575b4;fill-opacity:0.7;stroke:#4575b4;stroke-opacity:0.7;stroke-width:0.3;\" x=\"30.858125\" y=\"37.395918\" xlink:href=\"#md3330f725d\" />\n     <use style=\"fill:#4575b4;fill-opacity:0.7;stroke:#4575b4;stroke-opacity:0.7;stroke-width:0.3;\" x=\"30.858125\" y=\"58.897616\" xlink:href=\"#md3330f725d\" />\n     <use style=\"fill:#4575b4;fill-opacity:0.7;stroke:#4575b4;stroke-opacity:0.7;stroke-width:0.3;\" x=\"30.858125\" y=\"36.688974\" xlink:href=\"#md3330f725d\" />\n     <use style=\"fill:#4575b4;fill-opacity:0.7;stroke:#4575b4;stroke-opacity:0.7;stroke-width:0.3;\" x=\"30.858125\" y=\"23.361505\" xlink:href=\"#md3330f725d\" />\n     <use style=\"fill:#4575b4;fill-opacity:0.7;stroke:#4575b4;stroke-opacity:0.7;stroke-width:0.3;\" x=\"30.858125\" y=\"20.232313\" xlink:href=\"#md3330f725d\" />\n     <use style=\"fill:#4575b4;fill-opacity:0.7;stroke:#4575b4;stroke-opacity:0.7;stroke-width:0.3;\" x=\"30.858125\" y=\"40.104149\" xlink:href=\"#md3330f725d\" />\n     <use style=\"fill:#4575b4;fill-opacity:0.7;stroke:#4575b4;stroke-opacity:0.7;stroke-width:0.3;\" x=\"100.608125\" y=\"56.254981\" xlink:href=\"#md3330f725d\" />\n     <use style=\"fill:#4575b4;fill-opacity:0.7;stroke:#4575b4;stroke-opacity:0.7;stroke-width:0.3;\" x=\"30.858125\" y=\"52.676208\" xlink:href=\"#md3330f725d\" />\n     <use style=\"fill:#4575b4;fill-opacity:0.7;stroke:#4575b4;stroke-opacity:0.7;stroke-width:0.3;\" x=\"30.858125\" y=\"22.528853\" xlink:href=\"#md3330f725d\" />\n     <use style=\"fill:#4575b4;fill-opacity:0.7;stroke:#4575b4;stroke-opacity:0.7;stroke-width:0.3;\" x=\"30.858125\" y=\"31.300236\" xlink:href=\"#md3330f725d\" />\n     <use style=\"fill:#4575b4;fill-opacity:0.7;stroke:#4575b4;stroke-opacity:0.7;stroke-width:0.3;\" x=\"30.858125\" y=\"34.715411\" xlink:href=\"#md3330f725d\" />\n     <use style=\"fill:#4575b4;fill-opacity:0.7;stroke:#4575b4;stroke-opacity:0.7;stroke-width:0.3;\" x=\"30.858125\" y=\"27.971969\" xlink:href=\"#md3330f725d\" />\n     <use style=\"fill:#4575b4;fill-opacity:0.7;stroke:#4575b4;stroke-opacity:0.7;stroke-width:0.3;\" x=\"100.608125\" y=\"61.709564\" xlink:href=\"#md3330f725d\" />\n     <use style=\"fill:#4575b4;fill-opacity:0.7;stroke:#4575b4;stroke-opacity:0.7;stroke-width:0.3;\" x=\"30.858125\" y=\"34.715411\" xlink:href=\"#md3330f725d\" />\n     <use style=\"fill:#4575b4;fill-opacity:0.7;stroke:#4575b4;stroke-opacity:0.7;stroke-width:0.3;\" x=\"30.858125\" y=\"27.120399\" xlink:href=\"#md3330f725d\" />\n     <use style=\"fill:#4575b4;fill-opacity:0.7;stroke:#4575b4;stroke-opacity:0.7;stroke-width:0.3;\" x=\"30.858125\" y=\"25.146818\" xlink:href=\"#md3330f725d\" />\n     <use style=\"fill:#4575b4;fill-opacity:0.7;stroke:#4575b4;stroke-opacity:0.7;stroke-width:0.3;\" x=\"30.858125\" y=\"52.676208\" xlink:href=\"#md3330f725d\" />\n     <use style=\"fill:#4575b4;fill-opacity:0.7;stroke:#4575b4;stroke-opacity:0.7;stroke-width:0.3;\" x=\"30.858125\" y=\"41.396491\" xlink:href=\"#md3330f725d\" />\n     <use style=\"fill:#4575b4;fill-opacity:0.7;stroke:#4575b4;stroke-opacity:0.7;stroke-width:0.3;\" x=\"30.858125\" y=\"18.978431\" xlink:href=\"#md3330f725d\" />\n     <use style=\"fill:#4575b4;fill-opacity:0.7;stroke:#4575b4;stroke-opacity:0.7;stroke-width:0.3;\" x=\"30.858125\" y=\"27.120399\" xlink:href=\"#md3330f725d\" />\n     <use style=\"fill:#4575b4;fill-opacity:0.7;stroke:#4575b4;stroke-opacity:0.7;stroke-width:0.3;\" x=\"30.858125\" y=\"10.377755\" xlink:href=\"#md3330f725d\" />\n     <use style=\"fill:#4575b4;fill-opacity:0.7;stroke:#4575b4;stroke-opacity:0.7;stroke-width:0.3;\" x=\"30.858125\" y=\"45.354656\" xlink:href=\"#md3330f725d\" />\n     <use style=\"fill:#4575b4;fill-opacity:0.7;stroke:#4575b4;stroke-opacity:0.7;stroke-width:0.3;\" x=\"30.858125\" y=\"28.412741\" xlink:href=\"#md3330f725d\" />\n     <use style=\"fill:#4575b4;fill-opacity:0.7;stroke:#4575b4;stroke-opacity:0.7;stroke-width:0.3;\" x=\"100.608125\" y=\"57.267754\" xlink:href=\"#md3330f725d\" />\n     <use style=\"fill:#4575b4;fill-opacity:0.7;stroke:#4575b4;stroke-opacity:0.7;stroke-width:0.3;\" x=\"30.858125\" y=\"21.117448\" xlink:href=\"#md3330f725d\" />\n     <use style=\"fill:#4575b4;fill-opacity:0.7;stroke:#4575b4;stroke-opacity:0.7;stroke-width:0.3;\" x=\"30.858125\" y=\"16.342906\" xlink:href=\"#md3330f725d\" />\n     <use style=\"fill:#4575b4;fill-opacity:0.7;stroke:#4575b4;stroke-opacity:0.7;stroke-width:0.3;\" x=\"30.858125\" y=\"21.117448\" xlink:href=\"#md3330f725d\" />\n     <use style=\"fill:#4575b4;fill-opacity:0.7;stroke:#4575b4;stroke-opacity:0.7;stroke-width:0.3;\" x=\"30.858125\" y=\"46.490261\" xlink:href=\"#md3330f725d\" />\n     <use style=\"fill:#4575b4;fill-opacity:0.7;stroke:#4575b4;stroke-opacity:0.7;stroke-width:0.3;\" x=\"30.858125\" y=\"46.490261\" xlink:href=\"#md3330f725d\" />\n     <use style=\"fill:#4575b4;fill-opacity:0.7;stroke:#4575b4;stroke-opacity:0.7;stroke-width:0.3;\" x=\"30.858125\" y=\"15.207301\" xlink:href=\"#md3330f725d\" />\n     <use style=\"fill:#4575b4;fill-opacity:0.7;stroke:#4575b4;stroke-opacity:0.7;stroke-width:0.3;\" x=\"30.858125\" y=\"35.350435\" xlink:href=\"#md3330f725d\" />\n     <use style=\"fill:#4575b4;fill-opacity:0.7;stroke:#4575b4;stroke-opacity:0.7;stroke-width:0.3;\" x=\"30.858125\" y=\"50.379668\" xlink:href=\"#md3330f725d\" />\n     <use style=\"fill:#4575b4;fill-opacity:0.7;stroke:#4575b4;stroke-opacity:0.7;stroke-width:0.3;\" x=\"30.858125\" y=\"54.380259\" xlink:href=\"#md3330f725d\" />\n     <use style=\"fill:#4575b4;fill-opacity:0.7;stroke:#4575b4;stroke-opacity:0.7;stroke-width:0.3;\" x=\"100.608125\" y=\"57.267754\" xlink:href=\"#md3330f725d\" />\n     <use style=\"fill:#4575b4;fill-opacity:0.7;stroke:#4575b4;stroke-opacity:0.7;stroke-width:0.3;\" x=\"100.608125\" y=\"59.474011\" xlink:href=\"#md3330f725d\" />\n     <use style=\"fill:#4575b4;fill-opacity:0.7;stroke:#4575b4;stroke-opacity:0.7;stroke-width:0.3;\" x=\"30.858125\" y=\"16.342906\" xlink:href=\"#md3330f725d\" />\n    </g>\n   </g>\n   <g id=\"patch_3\">\n    <path d=\"M 65.733125 61.652848  L 63.222125 67.632448  L 68.244125 67.632448  z \" style=\"fill:#444443;\" />\n   </g>\n   <g id=\"matplotlib.axis_1\">\n    <g id=\"xtick_1\">\n     <g id=\"line2d_1\">\n      <defs>\n       <path d=\"M 0 0  L 0 3.5  \" id=\"m83257342dd\" style=\"stroke:#444443;stroke-width:0.3;\" />\n      </defs>\n      <g>\n       <use style=\"fill:#444443;stroke:#444443;stroke-width:0.3;\" x=\"30.858125\" y=\"61.652848\" xlink:href=\"#m83257342dd\" />\n      </g>\n     </g>\n     <g id=\"text_1\">\n      \n      <defs>\n       <path d=\"M 31.78125 66.40625  Q 24.171875 66.40625 20.328125 58.90625  Q 16.5 51.421875 16.5 36.375  Q 16.5 21.390625 20.328125 13.890625  Q 24.171875 6.390625 31.78125 6.390625  Q 39.453125 6.390625 43.28125 13.890625  Q 47.125 21.390625 47.125 36.375  Q 47.125 51.421875 43.28125 58.90625  Q 39.453125 66.40625 31.78125 66.40625  z M 31.78125 74.21875  Q 44.046875 74.21875 50.515625 64.515625  Q 56.984375 54.828125 56.984375 36.375  Q 56.984375 17.96875 50.515625 8.265625  Q 44.046875 -1.421875 31.78125 -1.421875  Q 19.53125 -1.421875 13.0625 8.265625  Q 6.59375 17.96875 6.59375 36.375  Q 6.59375 54.828125 13.0625 64.515625  Q 19.53125 74.21875 31.78125 74.21875  z \" id=\"DejaVuSans-48\" />\n       <path d=\"M 10.6875 12.40625  L 21 12.40625  L 21 0  L 10.6875 0  z \" id=\"DejaVuSans-46\" />\n      </defs>\n      <g style=\"fill:#444443;\" transform=\"translate(24.496875 74.731598)scale(0.08 -0.08)\">\n       <use xlink:href=\"#DejaVuSans-48\" />\n       <use x=\"63.623047\" xlink:href=\"#DejaVuSans-46\" />\n       <use x=\"95.410156\" xlink:href=\"#DejaVuSans-48\" />\n      </g>\n     </g>\n    </g>\n    <g id=\"xtick_2\">\n     <g id=\"line2d_2\">\n      <g>\n       <use style=\"fill:#444443;stroke:#444443;stroke-width:0.3;\" x=\"170.358125\" y=\"61.652848\" xlink:href=\"#m83257342dd\" />\n      </g>\n     </g>\n     <g id=\"text_2\">\n      \n      <defs>\n       <path d=\"M 19.1875 8.296875  L 53.609375 8.296875  L 53.609375 0  L 7.328125 0  L 7.328125 8.296875  Q 12.9375 14.109375 22.625 23.890625  Q 32.328125 33.6875 34.8125 36.53125  Q 39.546875 41.84375 41.421875 45.53125  Q 43.3125 49.21875 43.3125 52.78125  Q 43.3125 58.59375 39.234375 62.25  Q 35.15625 65.921875 28.609375 65.921875  Q 23.96875 65.921875 18.8125 64.3125  Q 13.671875 62.703125 7.8125 59.421875  L 7.8125 69.390625  Q 13.765625 71.78125 18.9375 73  Q 24.125 74.21875 28.421875 74.21875  Q 39.75 74.21875 46.484375 68.546875  Q 53.21875 62.890625 53.21875 53.421875  Q 53.21875 48.921875 51.53125 44.890625  Q 49.859375 40.875 45.40625 35.40625  Q 44.1875 33.984375 37.640625 27.21875  Q 31.109375 20.453125 19.1875 8.296875  z \" id=\"DejaVuSans-50\" />\n      </defs>\n      <g style=\"fill:#444443;\" transform=\"translate(163.996875 74.731598)scale(0.08 -0.08)\">\n       <use xlink:href=\"#DejaVuSans-50\" />\n       <use x=\"63.623047\" xlink:href=\"#DejaVuSans-46\" />\n       <use x=\"95.410156\" xlink:href=\"#DejaVuSans-48\" />\n      </g>\n     </g>\n    </g>\n    <g id=\"xtick_3\">\n     <g id=\"line2d_3\">\n      <g>\n       <use style=\"fill:#444443;stroke:#444443;stroke-width:0.3;\" x=\"65.733125\" y=\"61.652848\" xlink:href=\"#m83257342dd\" />\n      </g>\n     </g>\n     <g id=\"text_3\">\n      \n      <defs>\n       <path d=\"M 10.796875 72.90625  L 49.515625 72.90625  L 49.515625 64.59375  L 19.828125 64.59375  L 19.828125 46.734375  Q 21.96875 47.46875 24.109375 47.828125  Q 26.265625 48.1875 28.421875 48.1875  Q 40.625 48.1875 47.75 41.5  Q 54.890625 34.8125 54.890625 23.390625  Q 54.890625 11.625 47.5625 5.09375  Q 40.234375 -1.421875 26.90625 -1.421875  Q 22.3125 -1.421875 17.546875 -0.640625  Q 12.796875 0.140625 7.71875 1.703125  L 7.71875 11.625  Q 12.109375 9.234375 16.796875 8.0625  Q 21.484375 6.890625 26.703125 6.890625  Q 35.15625 6.890625 40.078125 11.328125  Q 45.015625 15.765625 45.015625 23.390625  Q 45.015625 31 40.078125 35.4375  Q 35.15625 39.890625 26.703125 39.890625  Q 22.75 39.890625 18.8125 39.015625  Q 14.890625 38.140625 10.796875 36.28125  z \" id=\"DejaVuSans-53\" />\n      </defs>\n      <g style=\"fill:#444443;\" transform=\"translate(59.371875 74.731598)scale(0.08 -0.08)\">\n       <use xlink:href=\"#DejaVuSans-48\" />\n       <use x=\"63.623047\" xlink:href=\"#DejaVuSans-46\" />\n       <use x=\"95.410156\" xlink:href=\"#DejaVuSans-53\" />\n      </g>\n     </g>\n    </g>\n    <g id=\"text_4\">\n     \n     <defs>\n      <path d=\"M 64.40625 67.28125  L 64.40625 56.890625  Q 59.421875 61.53125 53.78125 63.8125  Q 48.140625 66.109375 41.796875 66.109375  Q 29.296875 66.109375 22.65625 58.46875  Q 16.015625 50.828125 16.015625 36.375  Q 16.015625 21.96875 22.65625 14.328125  Q 29.296875 6.6875 41.796875 6.6875  Q 48.140625 6.6875 53.78125 8.984375  Q 59.421875 11.28125 64.40625 15.921875  L 64.40625 5.609375  Q 59.234375 2.09375 53.4375 0.328125  Q 47.65625 -1.421875 41.21875 -1.421875  Q 24.65625 -1.421875 15.125 8.703125  Q 5.609375 18.84375 5.609375 36.375  Q 5.609375 53.953125 15.125 64.078125  Q 24.65625 74.21875 41.21875 74.21875  Q 47.75 74.21875 53.53125 72.484375  Q 59.328125 70.75 64.40625 67.28125  z \" id=\"DejaVuSans-67\" />\n      <path d=\"M 30.609375 48.390625  Q 23.390625 48.390625 19.1875 42.75  Q 14.984375 37.109375 14.984375 27.296875  Q 14.984375 17.484375 19.15625 11.84375  Q 23.34375 6.203125 30.609375 6.203125  Q 37.796875 6.203125 41.984375 11.859375  Q 46.1875 17.53125 46.1875 27.296875  Q 46.1875 37.015625 41.984375 42.703125  Q 37.796875 48.390625 30.609375 48.390625  z M 30.609375 56  Q 42.328125 56 49.015625 48.375  Q 55.71875 40.765625 55.71875 27.296875  Q 55.71875 13.875 49.015625 6.21875  Q 42.328125 -1.421875 30.609375 -1.421875  Q 18.84375 -1.421875 12.171875 6.21875  Q 5.515625 13.875 5.515625 27.296875  Q 5.515625 40.765625 12.171875 48.375  Q 18.84375 56 30.609375 56  z \" id=\"DejaVuSans-111\" />\n      <path d=\"M 8.5 21.578125  L 8.5 54.6875  L 17.484375 54.6875  L 17.484375 21.921875  Q 17.484375 14.15625 20.5 10.265625  Q 23.53125 6.390625 29.59375 6.390625  Q 36.859375 6.390625 41.078125 11.03125  Q 45.3125 15.671875 45.3125 23.6875  L 45.3125 54.6875  L 54.296875 54.6875  L 54.296875 0  L 45.3125 0  L 45.3125 8.40625  Q 42.046875 3.421875 37.71875 1  Q 33.40625 -1.421875 27.6875 -1.421875  Q 18.265625 -1.421875 13.375 4.4375  Q 8.5 10.296875 8.5 21.578125  z M 31.109375 56  z \" id=\"DejaVuSans-117\" />\n      <path d=\"M 18.109375 8.203125  L 18.109375 -20.796875  L 9.078125 -20.796875  L 9.078125 54.6875  L 18.109375 54.6875  L 18.109375 46.390625  Q 20.953125 51.265625 25.265625 53.625  Q 29.59375 56 35.59375 56  Q 45.5625 56 51.78125 48.09375  Q 58.015625 40.1875 58.015625 27.296875  Q 58.015625 14.40625 51.78125 6.484375  Q 45.5625 -1.421875 35.59375 -1.421875  Q 29.59375 -1.421875 25.265625 0.953125  Q 20.953125 3.328125 18.109375 8.203125  z M 48.6875 27.296875  Q 48.6875 37.203125 44.609375 42.84375  Q 40.53125 48.484375 33.40625 48.484375  Q 26.265625 48.484375 22.1875 42.84375  Q 18.109375 37.203125 18.109375 27.296875  Q 18.109375 17.390625 22.1875 11.75  Q 26.265625 6.109375 33.40625 6.109375  Q 40.53125 6.109375 44.609375 11.75  Q 48.6875 17.390625 48.6875 27.296875  z \" id=\"DejaVuSans-112\" />\n      <path d=\"M 9.421875 75.984375  L 18.40625 75.984375  L 18.40625 0  L 9.421875 0  z \" id=\"DejaVuSans-108\" />\n      <path d=\"M 56.203125 29.59375  L 56.203125 25.203125  L 14.890625 25.203125  Q 15.484375 15.921875 20.484375 11.0625  Q 25.484375 6.203125 34.421875 6.203125  Q 39.59375 6.203125 44.453125 7.46875  Q 49.3125 8.734375 54.109375 11.28125  L 54.109375 2.78125  Q 49.265625 0.734375 44.1875 -0.34375  Q 39.109375 -1.421875 33.890625 -1.421875  Q 20.796875 -1.421875 13.15625 6.1875  Q 5.515625 13.8125 5.515625 26.8125  Q 5.515625 40.234375 12.765625 48.109375  Q 20.015625 56 32.328125 56  Q 43.359375 56 49.78125 48.890625  Q 56.203125 41.796875 56.203125 29.59375  z M 47.21875 32.234375  Q 47.125 39.59375 43.09375 43.984375  Q 39.0625 48.390625 32.421875 48.390625  Q 24.90625 48.390625 20.390625 44.140625  Q 15.875 39.890625 15.1875 32.171875  z \" id=\"DejaVuSans-101\" />\n      <path d=\"M 41.109375 46.296875  Q 39.59375 47.171875 37.8125 47.578125  Q 36.03125 48 33.890625 48  Q 26.265625 48 22.1875 43.046875  Q 18.109375 38.09375 18.109375 28.8125  L 18.109375 0  L 9.078125 0  L 9.078125 54.6875  L 18.109375 54.6875  L 18.109375 46.1875  Q 20.953125 51.171875 25.484375 53.578125  Q 30.03125 56 36.53125 56  Q 37.453125 56 38.578125 55.875  Q 39.703125 55.765625 41.0625 55.515625  z \" id=\"DejaVuSans-114\" />\n      <path d=\"M 50.984375 -16.609375  L 50.984375 -23.578125  L -0.984375 -23.578125  L -0.984375 -16.609375  z \" id=\"DejaVuSans-95\" />\n      <path d=\"M 53.515625 70.515625  L 53.515625 60.890625  Q 47.90625 63.578125 42.921875 64.890625  Q 37.9375 66.21875 33.296875 66.21875  Q 25.25 66.21875 20.875 63.09375  Q 16.5 59.96875 16.5 54.203125  Q 16.5 49.359375 19.40625 46.890625  Q 22.3125 44.4375 30.421875 42.921875  L 36.375 41.703125  Q 47.40625 39.59375 52.65625 34.296875  Q 57.90625 29 57.90625 20.125  Q 57.90625 9.515625 50.796875 4.046875  Q 43.703125 -1.421875 29.984375 -1.421875  Q 24.8125 -1.421875 18.96875 -0.25  Q 13.140625 0.921875 6.890625 3.21875  L 6.890625 13.375  Q 12.890625 10.015625 18.65625 8.296875  Q 24.421875 6.59375 29.984375 6.59375  Q 38.421875 6.59375 43.015625 9.90625  Q 47.609375 13.234375 47.609375 19.390625  Q 47.609375 24.75 44.3125 27.78125  Q 41.015625 30.8125 33.5 32.328125  L 27.484375 33.5  Q 16.453125 35.6875 11.515625 40.375  Q 6.59375 45.0625 6.59375 53.421875  Q 6.59375 63.09375 13.40625 68.65625  Q 20.21875 74.21875 32.171875 74.21875  Q 37.3125 74.21875 42.625 73.28125  Q 47.953125 72.359375 53.515625 70.515625  z \" id=\"DejaVuSans-83\" />\n      <path d=\"M 32.171875 -5.078125  Q 28.375 -14.84375 24.75 -17.8125  Q 21.140625 -20.796875 15.09375 -20.796875  L 7.90625 -20.796875  L 7.90625 -13.28125  L 13.1875 -13.28125  Q 16.890625 -13.28125 18.9375 -11.515625  Q 21 -9.765625 23.484375 -3.21875  L 25.09375 0.875  L 2.984375 54.6875  L 12.5 54.6875  L 29.59375 11.921875  L 46.6875 54.6875  L 56.203125 54.6875  z \" id=\"DejaVuSans-121\" />\n      <path d=\"M 44.28125 53.078125  L 44.28125 44.578125  Q 40.484375 46.53125 36.375 47.5  Q 32.28125 48.484375 27.875 48.484375  Q 21.1875 48.484375 17.84375 46.4375  Q 14.5 44.390625 14.5 40.28125  Q 14.5 37.15625 16.890625 35.375  Q 19.28125 33.59375 26.515625 31.984375  L 29.59375 31.296875  Q 39.15625 29.25 43.1875 25.515625  Q 47.21875 21.78125 47.21875 15.09375  Q 47.21875 7.46875 41.1875 3.015625  Q 35.15625 -1.421875 24.609375 -1.421875  Q 20.21875 -1.421875 15.453125 -0.5625  Q 10.6875 0.296875 5.421875 2  L 5.421875 11.28125  Q 10.40625 8.6875 15.234375 7.390625  Q 20.0625 6.109375 24.8125 6.109375  Q 31.15625 6.109375 34.5625 8.28125  Q 37.984375 10.453125 37.984375 14.40625  Q 37.984375 18.0625 35.515625 20.015625  Q 33.0625 21.96875 24.703125 23.78125  L 21.578125 24.515625  Q 13.234375 26.265625 9.515625 29.90625  Q 5.8125 33.546875 5.8125 39.890625  Q 5.8125 47.609375 11.28125 51.796875  Q 16.75 56 26.8125 56  Q 31.78125 56 36.171875 55.265625  Q 40.578125 54.546875 44.28125 53.078125  z \" id=\"DejaVuSans-115\" />\n      <path d=\"M 18.3125 70.21875  L 18.3125 54.6875  L 36.8125 54.6875  L 36.8125 47.703125  L 18.3125 47.703125  L 18.3125 18.015625  Q 18.3125 11.328125 20.140625 9.421875  Q 21.96875 7.515625 27.59375 7.515625  L 36.8125 7.515625  L 36.8125 0  L 27.59375 0  Q 17.1875 0 13.234375 3.875  Q 9.28125 7.765625 9.28125 18.015625  L 9.28125 47.703125  L 2.6875 47.703125  L 2.6875 54.6875  L 9.28125 54.6875  L 9.28125 70.21875  z \" id=\"DejaVuSans-116\" />\n      <path d=\"M 52 44.1875  Q 55.375 50.25 60.0625 53.125  Q 64.75 56 71.09375 56  Q 79.640625 56 84.28125 50.015625  Q 88.921875 44.046875 88.921875 33.015625  L 88.921875 0  L 79.890625 0  L 79.890625 32.71875  Q 79.890625 40.578125 77.09375 44.375  Q 74.3125 48.1875 68.609375 48.1875  Q 61.625 48.1875 57.5625 43.546875  Q 53.515625 38.921875 53.515625 30.90625  L 53.515625 0  L 44.484375 0  L 44.484375 32.71875  Q 44.484375 40.625 41.703125 44.40625  Q 38.921875 48.1875 33.109375 48.1875  Q 26.21875 48.1875 22.15625 43.53125  Q 18.109375 38.875 18.109375 30.90625  L 18.109375 0  L 9.078125 0  L 9.078125 54.6875  L 18.109375 54.6875  L 18.109375 46.1875  Q 21.1875 51.21875 25.484375 53.609375  Q 29.78125 56 35.6875 56  Q 41.65625 56 45.828125 52.96875  Q 50 49.953125 52 44.1875  z \" id=\"DejaVuSans-109\" />\n     </defs>\n     <g style=\"fill:#444443;\" transform=\"translate(60.047969 87.993786)scale(0.1 -0.1)\">\n      <use xlink:href=\"#DejaVuSans-67\" />\n      <use x=\"69.824219\" xlink:href=\"#DejaVuSans-111\" />\n      <use x=\"131.005859\" xlink:href=\"#DejaVuSans-117\" />\n      <use x=\"194.384766\" xlink:href=\"#DejaVuSans-112\" />\n      <use x=\"257.861328\" xlink:href=\"#DejaVuSans-108\" />\n      <use x=\"285.644531\" xlink:href=\"#DejaVuSans-101\" />\n      <use x=\"347.167969\" xlink:href=\"#DejaVuSans-114\" />\n      <use x=\"388.28125\" xlink:href=\"#DejaVuSans-95\" />\n      <use x=\"438.28125\" xlink:href=\"#DejaVuSans-83\" />\n      <use x=\"501.757812\" xlink:href=\"#DejaVuSans-121\" />\n      <use x=\"560.9375\" xlink:href=\"#DejaVuSans-115\" />\n      <use x=\"613.037109\" xlink:href=\"#DejaVuSans-116\" />\n      <use x=\"652.246094\" xlink:href=\"#DejaVuSans-101\" />\n      <use x=\"713.769531\" xlink:href=\"#DejaVuSans-109\" />\n     </g>\n    </g>\n   </g>\n   <g id=\"matplotlib.axis_2\">\n    <g id=\"ytick_1\">\n     <g id=\"line2d_4\">\n      <defs>\n       <path d=\"M 0 0  L -3.5 0  \" id=\"mee9018cba8\" style=\"stroke:#444443;stroke-width:0.3;\" />\n      </defs>\n      <g>\n       <use style=\"fill:#444443;stroke:#444443;stroke-width:0.3;\" x=\"30.858125\" y=\"40.502584\" xlink:href=\"#mee9018cba8\" />\n      </g>\n     </g>\n     <g id=\"text_5\">\n      \n      <defs>\n       <path d=\"M 12.40625 8.296875  L 28.515625 8.296875  L 28.515625 63.921875  L 10.984375 60.40625  L 10.984375 69.390625  L 28.421875 72.90625  L 38.28125 72.90625  L 38.28125 8.296875  L 54.390625 8.296875  L 54.390625 0  L 12.40625 0  z \" id=\"DejaVuSans-49\" />\n      </defs>\n      <g style=\"fill:#444443;\" transform=\"translate(13.678125 43.541959)scale(0.08 -0.08)\">\n       <use xlink:href=\"#DejaVuSans-49\" />\n       <use x=\"63.623047\" xlink:href=\"#DejaVuSans-48\" />\n      </g>\n     </g>\n    </g>\n    <g id=\"ytick_2\">\n     <g id=\"line2d_5\">\n      <g>\n       <use style=\"fill:#444443;stroke:#444443;stroke-width:0.3;\" x=\"30.858125\" y=\"3.039375\" xlink:href=\"#mee9018cba8\" />\n      </g>\n     </g>\n     <g id=\"text_6\">\n      \n      <g style=\"fill:#444443;\" transform=\"translate(13.678125 6.07875)scale(0.08 -0.08)\">\n       <use xlink:href=\"#DejaVuSans-49\" />\n       <use x=\"63.623047\" xlink:href=\"#DejaVuSans-50\" />\n      </g>\n     </g>\n    </g>\n    <g id=\"text_7\">\n     \n     <defs>\n      <path d=\"M 34.28125 27.484375  Q 23.390625 27.484375 19.1875 25  Q 14.984375 22.515625 14.984375 16.5  Q 14.984375 11.71875 18.140625 8.90625  Q 21.296875 6.109375 26.703125 6.109375  Q 34.1875 6.109375 38.703125 11.40625  Q 43.21875 16.703125 43.21875 25.484375  L 43.21875 27.484375  z M 52.203125 31.203125  L 52.203125 0  L 43.21875 0  L 43.21875 8.296875  Q 40.140625 3.328125 35.546875 0.953125  Q 30.953125 -1.421875 24.3125 -1.421875  Q 15.921875 -1.421875 10.953125 3.296875  Q 6 8.015625 6 15.921875  Q 6 25.140625 12.171875 29.828125  Q 18.359375 34.515625 30.609375 34.515625  L 43.21875 34.515625  L 43.21875 35.40625  Q 43.21875 41.609375 39.140625 45  Q 35.0625 48.390625 27.6875 48.390625  Q 23 48.390625 18.546875 47.265625  Q 14.109375 46.140625 10.015625 43.890625  L 10.015625 52.203125  Q 14.9375 54.109375 19.578125 55.046875  Q 24.21875 56 28.609375 56  Q 40.484375 56 46.34375 49.84375  Q 52.203125 43.703125 52.203125 31.203125  z \" id=\"DejaVuSans-97\" />\n      <path d=\"M 19.671875 64.796875  L 19.671875 37.40625  L 32.078125 37.40625  Q 38.96875 37.40625 42.71875 40.96875  Q 46.484375 44.53125 46.484375 51.125  Q 46.484375 57.671875 42.71875 61.234375  Q 38.96875 64.796875 32.078125 64.796875  z M 9.8125 72.90625  L 32.078125 72.90625  Q 44.34375 72.90625 50.609375 67.359375  Q 56.890625 61.8125 56.890625 51.125  Q 56.890625 40.328125 50.609375 34.8125  Q 44.34375 29.296875 32.078125 29.296875  L 19.671875 29.296875  L 19.671875 0  L 9.8125 0  z \" id=\"DejaVuSans-80\" />\n      <path d=\"M 9.421875 54.6875  L 18.40625 54.6875  L 18.40625 0  L 9.421875 0  z M 9.421875 75.984375  L 18.40625 75.984375  L 18.40625 64.59375  L 9.421875 64.59375  z \" id=\"DejaVuSans-105\" />\n      <path d=\"M 48.78125 52.59375  L 48.78125 44.1875  Q 44.96875 46.296875 41.140625 47.34375  Q 37.3125 48.390625 33.40625 48.390625  Q 24.65625 48.390625 19.8125 42.84375  Q 14.984375 37.3125 14.984375 27.296875  Q 14.984375 17.28125 19.8125 11.734375  Q 24.65625 6.203125 33.40625 6.203125  Q 37.3125 6.203125 41.140625 7.25  Q 44.96875 8.296875 48.78125 10.40625  L 48.78125 2.09375  Q 45.015625 0.34375 40.984375 -0.53125  Q 36.96875 -1.421875 32.421875 -1.421875  Q 20.0625 -1.421875 12.78125 6.34375  Q 5.515625 14.109375 5.515625 27.296875  Q 5.515625 40.671875 12.859375 48.328125  Q 20.21875 56 33.015625 56  Q 37.15625 56 41.109375 55.140625  Q 45.0625 54.296875 48.78125 52.59375  z \" id=\"DejaVuSans-99\" />\n     </defs>\n     <g style=\"fill:#444443;\" transform=\"translate(7.598437 54.656411)rotate(-90)scale(0.1 -0.1)\">\n      <use xlink:href=\"#DejaVuSans-83\" />\n      <use x=\"63.476562\" xlink:href=\"#DejaVuSans-97\" />\n      <use x=\"124.755859\" xlink:href=\"#DejaVuSans-108\" />\n      <use x=\"152.539062\" xlink:href=\"#DejaVuSans-101\" />\n      <use x=\"214.0625\" xlink:href=\"#DejaVuSans-80\" />\n      <use x=\"272.615234\" xlink:href=\"#DejaVuSans-114\" />\n      <use x=\"313.728516\" xlink:href=\"#DejaVuSans-105\" />\n      <use x=\"341.511719\" xlink:href=\"#DejaVuSans-99\" />\n      <use x=\"396.492188\" xlink:href=\"#DejaVuSans-101\" />\n     </g>\n    </g>\n   </g>\n   <g id=\"line2d_6\">\n    <path clip-path=\"url(#pb02e398fa9)\" d=\"M 30.858125 36.381322  L 65.733125 36.381322  \" style=\"fill:none;stroke:#444443;stroke-dasharray:3.7,1.6;stroke-dashoffset:0;\" />\n   </g>\n   <g id=\"line2d_7\">\n    <path clip-path=\"url(#pb02e398fa9)\" d=\"M 65.733125 61.652848  L 65.733125 1.856848  \" style=\"fill:none;stroke:#444443;stroke-dasharray:3.7,1.6;stroke-dashoffset:0;\" />\n   </g>\n   <g id=\"line2d_8\">\n    <path clip-path=\"url(#pb02e398fa9)\" d=\"M 65.733125 56.129934  L 170.358125 56.129934  \" style=\"fill:none;stroke:#444443;stroke-dasharray:3.7,1.6;stroke-dashoffset:0;\" />\n   </g>\n   <g id=\"patch_4\">\n    <path d=\"M 30.858125 61.652848  L 30.858125 1.856848  \" style=\"fill:none;stroke:#000000;stroke-linecap:square;stroke-linejoin:miter;stroke-width:0.3;\" />\n   </g>\n   <g id=\"patch_5\">\n    <path d=\"M 30.858125 61.652848  L 170.358125 61.652848  \" style=\"fill:none;stroke:#000000;stroke-linecap:square;stroke-linejoin:miter;stroke-width:0.3;\" />\n   </g>\n  </g>\n </g>\n <defs>\n  <clipPath id=\"pb02e398fa9\">\n   <rect height=\"59.796\" width=\"139.5\" x=\"30.858125\" y=\"1.856848\" />\n  </clipPath>\n </defs>\n</svg></g>\n\n<g class=\"edge\" id=\"edge7\">\n<title>node0-&gt;node1</title>\n<path d=\"M140.3664,-91.3639C147.1241,-93.0795 153.9804,-94.8201 160.7418,-96.5366\" fill=\"none\" stroke=\"#444443\" stroke-width=\".3\" />\n<polygon fill=\"#444443\" points=\"160.7162,-97.9745 164.9377,-97.6018 161.4052,-95.2605 160.7162,-97.9745\" stroke=\"#444443\" stroke-width=\".3\" />\n<text fill=\"#000000\" font-family=\"Times,serif\" font-size=\"14.00\" text-anchor=\"start\" x=\"148.5\" y=\"-98.3\">&#8804;</text>\n</g>\n\n<g class=\"edge\" id=\"edge8\">\n<title>node0-&gt;leaf2</title>\n<path d=\"M140.3664,-56.0718C159.1731,-51.4138 178.7438,-46.5665 194.9064,-42.5634\" fill=\"none\" stroke=\"#444443\" stroke-width=\".3\" />\n<polygon fill=\"#444443\" points=\"195.3935,-43.8852 198.9395,-41.5645 194.7202,-41.1673 195.3935,-43.8852\" stroke=\"#444443\" stroke-width=\".3\" />\n<text fill=\"#000000\" font-family=\"Times,serif\" font-size=\"14.00\" text-anchor=\"start\" x=\"148\" y=\"-57.3\">&gt;</text>\n</g>\n\n\n</g>\n</svg>"
          },
          "metadata": {},
          "execution_count": 44
        }
      ]
    },
    {
      "cell_type": "code",
      "source": [
        "model = DecisionTreeRegressor()\n",
        "model.fit(xs, y)"
      ],
      "metadata": {
        "colab": {
          "base_uri": "https://localhost:8080/"
        },
        "id": "wI7KhvrkzZjx",
        "outputId": "fb51ec74-b097-412b-fef7-c9cfe595731b"
      },
      "execution_count": null,
      "outputs": [
        {
          "output_type": "execute_result",
          "data": {
            "text/plain": [
              "DecisionTreeRegressor()"
            ]
          },
          "metadata": {},
          "execution_count": 45
        }
      ]
    },
    {
      "cell_type": "code",
      "source": [
        "def rmse(model, xs, y):\n",
        "  y_pred = model.predict(xs)\n",
        "  mse = mean_squared_error(y, y_pred)\n",
        "  return round(np.sqrt(mse), 6)"
      ],
      "metadata": {
        "id": "VJ0cla-utWIm"
      },
      "execution_count": null,
      "outputs": []
    },
    {
      "cell_type": "code",
      "source": [
        "rmse(model, valid_xs, valid_y)"
      ],
      "metadata": {
        "id": "DLpnf1mDw9VZ",
        "colab": {
          "base_uri": "https://localhost:8080/"
        },
        "outputId": "2dcdf825-354a-4011-c730-0d24365ccebd"
      },
      "execution_count": null,
      "outputs": [
        {
          "output_type": "execute_result",
          "data": {
            "text/plain": [
              "0.332039"
            ]
          },
          "metadata": {},
          "execution_count": 47
        }
      ]
    },
    {
      "cell_type": "markdown",
      "source": [
        "## 2) RandomForestRegressor\n",
        "\n",
        "Random Forest selects feature columns at random and creates multiple independnent trees.\n",
        "\n",
        "The random forest algorithm is an extension of the bagging method as it utilizes both bagging and feature randomness to create an uncorrelated forest of decision trees. Feature randomness, also known as feature bagging or “the random subspace method”, generates a random subset of features, which ensures low correlation among decision trees. This is a key difference between decision trees and random forests. While decision trees consider all the possible feature splits, random forests only select a subset of those features.\n"
      ],
      "metadata": {
        "id": "htrAjPNzup1l"
      }
    },
    {
      "cell_type": "code",
      "source": [
        "def rf(xs, y, n_estimators = 40, max_samples = 200_000, \n",
        "       max_features = 0.5, min_samples_leaf = 5, **kwargs):\n",
        "  return RandomForestRegressor(n_jobs = -1, n_estimators=n_estimators,\n",
        "                               max_samples= max_samples, max_features = max_features,\n",
        "                               min_samples_leaf = min_samples_leaf, oob_score = True).fit(xs, y)\n"
      ],
      "metadata": {
        "id": "y4YfwrEvtM1A"
      },
      "execution_count": null,
      "outputs": []
    },
    {
      "cell_type": "code",
      "source": [
        "rf_model = rf(xs, y)"
      ],
      "metadata": {
        "id": "9yyxIP4KuiVN"
      },
      "execution_count": null,
      "outputs": []
    },
    {
      "cell_type": "code",
      "source": [
        "rmse(rf_model, valid_xs, valid_y)"
      ],
      "metadata": {
        "colab": {
          "base_uri": "https://localhost:8080/"
        },
        "id": "XQcABN_awvAj",
        "outputId": "9939e983-61ba-47b1-8bed-ab7225bb8810"
      },
      "execution_count": null,
      "outputs": [
        {
          "output_type": "execute_result",
          "data": {
            "text/plain": [
              "0.233348"
            ]
          },
          "metadata": {},
          "execution_count": 50
        }
      ]
    },
    {
      "cell_type": "code",
      "source": [
        "#| output: false\n",
        "preds = np.stack([t.predict(valid_xs) for t in rf_model.estimators_])"
      ],
      "metadata": {
        "colab": {
          "base_uri": "https://localhost:8080/"
        },
        "id": "4BuDZjLDxFby",
        "outputId": "ac02dc9a-4f8e-4c9f-8f30-883a2856320d"
      },
      "execution_count": null,
      "outputs": [
        {
          "output_type": "stream",
          "name": "stderr",
          "text": [
            "/usr/local/lib/python3.7/dist-packages/sklearn/base.py:444: UserWarning: X has feature names, but DecisionTreeRegressor was fitted without feature names\n",
            "  f\"X has feature names, but {self.__class__.__name__} was fitted without\"\n",
            "/usr/local/lib/python3.7/dist-packages/sklearn/base.py:444: UserWarning: X has feature names, but DecisionTreeRegressor was fitted without feature names\n",
            "  f\"X has feature names, but {self.__class__.__name__} was fitted without\"\n",
            "/usr/local/lib/python3.7/dist-packages/sklearn/base.py:444: UserWarning: X has feature names, but DecisionTreeRegressor was fitted without feature names\n",
            "  f\"X has feature names, but {self.__class__.__name__} was fitted without\"\n",
            "/usr/local/lib/python3.7/dist-packages/sklearn/base.py:444: UserWarning: X has feature names, but DecisionTreeRegressor was fitted without feature names\n",
            "  f\"X has feature names, but {self.__class__.__name__} was fitted without\"\n",
            "/usr/local/lib/python3.7/dist-packages/sklearn/base.py:444: UserWarning: X has feature names, but DecisionTreeRegressor was fitted without feature names\n",
            "  f\"X has feature names, but {self.__class__.__name__} was fitted without\"\n",
            "/usr/local/lib/python3.7/dist-packages/sklearn/base.py:444: UserWarning: X has feature names, but DecisionTreeRegressor was fitted without feature names\n",
            "  f\"X has feature names, but {self.__class__.__name__} was fitted without\"\n",
            "/usr/local/lib/python3.7/dist-packages/sklearn/base.py:444: UserWarning: X has feature names, but DecisionTreeRegressor was fitted without feature names\n",
            "  f\"X has feature names, but {self.__class__.__name__} was fitted without\"\n",
            "/usr/local/lib/python3.7/dist-packages/sklearn/base.py:444: UserWarning: X has feature names, but DecisionTreeRegressor was fitted without feature names\n",
            "  f\"X has feature names, but {self.__class__.__name__} was fitted without\"\n",
            "/usr/local/lib/python3.7/dist-packages/sklearn/base.py:444: UserWarning: X has feature names, but DecisionTreeRegressor was fitted without feature names\n",
            "  f\"X has feature names, but {self.__class__.__name__} was fitted without\"\n",
            "/usr/local/lib/python3.7/dist-packages/sklearn/base.py:444: UserWarning: X has feature names, but DecisionTreeRegressor was fitted without feature names\n",
            "  f\"X has feature names, but {self.__class__.__name__} was fitted without\"\n",
            "/usr/local/lib/python3.7/dist-packages/sklearn/base.py:444: UserWarning: X has feature names, but DecisionTreeRegressor was fitted without feature names\n",
            "  f\"X has feature names, but {self.__class__.__name__} was fitted without\"\n",
            "/usr/local/lib/python3.7/dist-packages/sklearn/base.py:444: UserWarning: X has feature names, but DecisionTreeRegressor was fitted without feature names\n",
            "  f\"X has feature names, but {self.__class__.__name__} was fitted without\"\n",
            "/usr/local/lib/python3.7/dist-packages/sklearn/base.py:444: UserWarning: X has feature names, but DecisionTreeRegressor was fitted without feature names\n",
            "  f\"X has feature names, but {self.__class__.__name__} was fitted without\"\n",
            "/usr/local/lib/python3.7/dist-packages/sklearn/base.py:444: UserWarning: X has feature names, but DecisionTreeRegressor was fitted without feature names\n",
            "  f\"X has feature names, but {self.__class__.__name__} was fitted without\"\n",
            "/usr/local/lib/python3.7/dist-packages/sklearn/base.py:444: UserWarning: X has feature names, but DecisionTreeRegressor was fitted without feature names\n",
            "  f\"X has feature names, but {self.__class__.__name__} was fitted without\"\n",
            "/usr/local/lib/python3.7/dist-packages/sklearn/base.py:444: UserWarning: X has feature names, but DecisionTreeRegressor was fitted without feature names\n",
            "  f\"X has feature names, but {self.__class__.__name__} was fitted without\"\n",
            "/usr/local/lib/python3.7/dist-packages/sklearn/base.py:444: UserWarning: X has feature names, but DecisionTreeRegressor was fitted without feature names\n",
            "  f\"X has feature names, but {self.__class__.__name__} was fitted without\"\n",
            "/usr/local/lib/python3.7/dist-packages/sklearn/base.py:444: UserWarning: X has feature names, but DecisionTreeRegressor was fitted without feature names\n",
            "  f\"X has feature names, but {self.__class__.__name__} was fitted without\"\n",
            "/usr/local/lib/python3.7/dist-packages/sklearn/base.py:444: UserWarning: X has feature names, but DecisionTreeRegressor was fitted without feature names\n",
            "  f\"X has feature names, but {self.__class__.__name__} was fitted without\"\n",
            "/usr/local/lib/python3.7/dist-packages/sklearn/base.py:444: UserWarning: X has feature names, but DecisionTreeRegressor was fitted without feature names\n",
            "  f\"X has feature names, but {self.__class__.__name__} was fitted without\"\n",
            "/usr/local/lib/python3.7/dist-packages/sklearn/base.py:444: UserWarning: X has feature names, but DecisionTreeRegressor was fitted without feature names\n",
            "  f\"X has feature names, but {self.__class__.__name__} was fitted without\"\n",
            "/usr/local/lib/python3.7/dist-packages/sklearn/base.py:444: UserWarning: X has feature names, but DecisionTreeRegressor was fitted without feature names\n",
            "  f\"X has feature names, but {self.__class__.__name__} was fitted without\"\n",
            "/usr/local/lib/python3.7/dist-packages/sklearn/base.py:444: UserWarning: X has feature names, but DecisionTreeRegressor was fitted without feature names\n",
            "  f\"X has feature names, but {self.__class__.__name__} was fitted without\"\n",
            "/usr/local/lib/python3.7/dist-packages/sklearn/base.py:444: UserWarning: X has feature names, but DecisionTreeRegressor was fitted without feature names\n",
            "  f\"X has feature names, but {self.__class__.__name__} was fitted without\"\n",
            "/usr/local/lib/python3.7/dist-packages/sklearn/base.py:444: UserWarning: X has feature names, but DecisionTreeRegressor was fitted without feature names\n",
            "  f\"X has feature names, but {self.__class__.__name__} was fitted without\"\n",
            "/usr/local/lib/python3.7/dist-packages/sklearn/base.py:444: UserWarning: X has feature names, but DecisionTreeRegressor was fitted without feature names\n",
            "  f\"X has feature names, but {self.__class__.__name__} was fitted without\"\n",
            "/usr/local/lib/python3.7/dist-packages/sklearn/base.py:444: UserWarning: X has feature names, but DecisionTreeRegressor was fitted without feature names\n",
            "  f\"X has feature names, but {self.__class__.__name__} was fitted without\"\n",
            "/usr/local/lib/python3.7/dist-packages/sklearn/base.py:444: UserWarning: X has feature names, but DecisionTreeRegressor was fitted without feature names\n",
            "  f\"X has feature names, but {self.__class__.__name__} was fitted without\"\n",
            "/usr/local/lib/python3.7/dist-packages/sklearn/base.py:444: UserWarning: X has feature names, but DecisionTreeRegressor was fitted without feature names\n",
            "  f\"X has feature names, but {self.__class__.__name__} was fitted without\"\n",
            "/usr/local/lib/python3.7/dist-packages/sklearn/base.py:444: UserWarning: X has feature names, but DecisionTreeRegressor was fitted without feature names\n",
            "  f\"X has feature names, but {self.__class__.__name__} was fitted without\"\n",
            "/usr/local/lib/python3.7/dist-packages/sklearn/base.py:444: UserWarning: X has feature names, but DecisionTreeRegressor was fitted without feature names\n",
            "  f\"X has feature names, but {self.__class__.__name__} was fitted without\"\n",
            "/usr/local/lib/python3.7/dist-packages/sklearn/base.py:444: UserWarning: X has feature names, but DecisionTreeRegressor was fitted without feature names\n",
            "  f\"X has feature names, but {self.__class__.__name__} was fitted without\"\n",
            "/usr/local/lib/python3.7/dist-packages/sklearn/base.py:444: UserWarning: X has feature names, but DecisionTreeRegressor was fitted without feature names\n",
            "  f\"X has feature names, but {self.__class__.__name__} was fitted without\"\n",
            "/usr/local/lib/python3.7/dist-packages/sklearn/base.py:444: UserWarning: X has feature names, but DecisionTreeRegressor was fitted without feature names\n",
            "  f\"X has feature names, but {self.__class__.__name__} was fitted without\"\n",
            "/usr/local/lib/python3.7/dist-packages/sklearn/base.py:444: UserWarning: X has feature names, but DecisionTreeRegressor was fitted without feature names\n",
            "  f\"X has feature names, but {self.__class__.__name__} was fitted without\"\n",
            "/usr/local/lib/python3.7/dist-packages/sklearn/base.py:444: UserWarning: X has feature names, but DecisionTreeRegressor was fitted without feature names\n",
            "  f\"X has feature names, but {self.__class__.__name__} was fitted without\"\n",
            "/usr/local/lib/python3.7/dist-packages/sklearn/base.py:444: UserWarning: X has feature names, but DecisionTreeRegressor was fitted without feature names\n",
            "  f\"X has feature names, but {self.__class__.__name__} was fitted without\"\n",
            "/usr/local/lib/python3.7/dist-packages/sklearn/base.py:444: UserWarning: X has feature names, but DecisionTreeRegressor was fitted without feature names\n",
            "  f\"X has feature names, but {self.__class__.__name__} was fitted without\"\n",
            "/usr/local/lib/python3.7/dist-packages/sklearn/base.py:444: UserWarning: X has feature names, but DecisionTreeRegressor was fitted without feature names\n",
            "  f\"X has feature names, but {self.__class__.__name__} was fitted without\"\n",
            "/usr/local/lib/python3.7/dist-packages/sklearn/base.py:444: UserWarning: X has feature names, but DecisionTreeRegressor was fitted without feature names\n",
            "  f\"X has feature names, but {self.__class__.__name__} was fitted without\"\n"
          ]
        }
      ]
    },
    {
      "cell_type": "code",
      "source": [
        "preds.shape"
      ],
      "metadata": {
        "colab": {
          "base_uri": "https://localhost:8080/"
        },
        "id": "QJFKhGqb4MVY",
        "outputId": "0c9bbc0f-8bb2-4861-fed1-80eaa57337cf"
      },
      "execution_count": null,
      "outputs": [
        {
          "output_type": "execute_result",
          "data": {
            "text/plain": [
              "(40, 7988)"
            ]
          },
          "metadata": {},
          "execution_count": 52
        }
      ]
    },
    {
      "cell_type": "code",
      "source": [
        "len(valid_xs)"
      ],
      "metadata": {
        "colab": {
          "base_uri": "https://localhost:8080/"
        },
        "id": "ZkvbP8Rn9vH0",
        "outputId": "787748c0-ba19-4c90-ffca-9bbe30e7a46d"
      },
      "execution_count": null,
      "outputs": [
        {
          "output_type": "execute_result",
          "data": {
            "text/plain": [
              "7988"
            ]
          },
          "metadata": {},
          "execution_count": 53
        }
      ]
    },
    {
      "cell_type": "markdown",
      "source": [
        "40 estimators made prediction on test set (valid_xs) which is totaled 7,988 data."
      ],
      "metadata": {
        "id": "nsrVX1-e9uWE"
      }
    },
    {
      "cell_type": "code",
      "source": [
        "len(preds.mean(0))"
      ],
      "metadata": {
        "colab": {
          "base_uri": "https://localhost:8080/"
        },
        "id": "57l9XhSv9WRy",
        "outputId": "f4468bc8-e728-4457-88a9-fde3f94f6333"
      },
      "execution_count": null,
      "outputs": [
        {
          "output_type": "execute_result",
          "data": {
            "text/plain": [
              "7988"
            ]
          },
          "metadata": {},
          "execution_count": 54
        }
      ]
    },
    {
      "cell_type": "code",
      "source": [
        "estimators_avg = preds.mean(0)\n",
        "np.sqrt(mean_squared_error(valid_y, estimators_avg))"
      ],
      "metadata": {
        "colab": {
          "base_uri": "https://localhost:8080/"
        },
        "id": "_SCnSmGB9qqy",
        "outputId": "7b99f9ac-a309-4de3-a62f-1a2e65b59fd0"
      },
      "execution_count": null,
      "outputs": [
        {
          "output_type": "execute_result",
          "data": {
            "text/plain": [
              "0.2333481180438798"
            ]
          },
          "metadata": {},
          "execution_count": 55
        }
      ]
    },
    {
      "cell_type": "markdown",
      "source": [
        "More Estimators -> Better Accruacy "
      ],
      "metadata": {
        "id": "kzhbAe7A-76y"
      }
    },
    {
      "cell_type": "code",
      "source": [
        "plt.plot([np.sqrt(mean_squared_error(valid_y, preds[:i+1].mean(0))) \\\n",
        "          for i in range(40)])\n",
        "plt.show()"
      ],
      "metadata": {
        "colab": {
          "base_uri": "https://localhost:8080/",
          "height": 268
        },
        "id": "ThvDPmwD-lR8",
        "outputId": "715bb873-8f9f-4a18-ba51-7c51290e2c19"
      },
      "execution_count": null,
      "outputs": [
        {
          "output_type": "display_data",
          "data": {
            "text/plain": [
              "<Figure size 432x288 with 1 Axes>"
            ],
            "image/png": "[encoded data removed]"
          },
          "metadata": {
            "needs_background": "light"
          }
        }
      ]
    },
    {
      "cell_type": "markdown",
      "source": [
        "# Model interpretation\n",
        "\n",
        "Let's see what's going on inside the model"
      ],
      "metadata": {
        "id": "RKbk7jVhCoU5"
      }
    },
    {
      "cell_type": "markdown",
      "source": [
        "## 1) Standard Deviation of Prediction \n",
        "\n",
        "trees = estimators"
      ],
      "metadata": {
        "id": "AwBaUNPlGfQW"
      }
    },
    {
      "cell_type": "code",
      "source": [
        "# calculate the standard deviation of 7988 predicted values of all 40 estimators.\n",
        "preds_std = preds.std(0)\n",
        "preds_std.shape"
      ],
      "metadata": {
        "id": "WQymwO09AMsN",
        "colab": {
          "base_uri": "https://localhost:8080/"
        },
        "outputId": "599b0416-0e85-4a90-bf13-610d307cb32d"
      },
      "execution_count": null,
      "outputs": [
        {
          "output_type": "execute_result",
          "data": {
            "text/plain": [
              "(7988,)"
            ]
          },
          "metadata": {},
          "execution_count": 57
        }
      ]
    },
    {
      "cell_type": "code",
      "source": [
        "# how much variation there was in predictions\n",
        "# the lower std predictions have, the more agreed estimators \n",
        "# for first 5 predictions\n",
        "preds_std[:5] "
      ],
      "metadata": {
        "colab": {
          "base_uri": "https://localhost:8080/"
        },
        "id": "F2kvK35lEk1a",
        "outputId": "f24d95a1-48a1-47b6-f6d7-f4037bf52333"
      },
      "execution_count": null,
      "outputs": [
        {
          "output_type": "execute_result",
          "data": {
            "text/plain": [
              "array([0.25817049, 0.12401786, 0.09668753, 0.23126715, 0.12708752])"
            ]
          },
          "metadata": {},
          "execution_count": 58
        }
      ]
    },
    {
      "cell_type": "markdown",
      "source": [
        "As you can see above, 40 estimators make predictions most closely on the third test data out of the first five test data."
      ],
      "metadata": {
        "id": "l7G3shLKFXtJ"
      }
    },
    {
      "cell_type": "markdown",
      "source": [
        "## 2) Narrowing down features"
      ],
      "metadata": {
        "id": "2sFySPCoGdcR"
      }
    },
    {
      "cell_type": "markdown",
      "source": [
        "Keeping only important features"
      ],
      "metadata": {
        "id": "kpqPgIq_kbWV"
      }
    },
    {
      "cell_type": "markdown",
      "source": [
        "#### feature_importances_"
      ],
      "metadata": {
        "id": "1xeJNzxklSiV"
      }
    },
    {
      "cell_type": "code",
      "source": [
        "len(rf_model.feature_importances_)"
      ],
      "metadata": {
        "colab": {
          "base_uri": "https://localhost:8080/"
        },
        "id": "bPpDb58EIPcn",
        "outputId": "0c7d5523-c5f9-4607-9063-497e46e0c57b"
      },
      "execution_count": null,
      "outputs": [
        {
          "output_type": "execute_result",
          "data": {
            "text/plain": [
              "66"
            ]
          },
          "metadata": {},
          "execution_count": 59
        }
      ]
    },
    {
      "cell_type": "code",
      "source": [
        "len(xs.columns)"
      ],
      "metadata": {
        "colab": {
          "base_uri": "https://localhost:8080/"
        },
        "id": "QeVyHZ8FIbhK",
        "outputId": "2073ecc8-d88b-4fcf-a988-59bcd86f567f"
      },
      "execution_count": null,
      "outputs": [
        {
          "output_type": "execute_result",
          "data": {
            "text/plain": [
              "66"
            ]
          },
          "metadata": {},
          "execution_count": 60
        }
      ]
    },
    {
      "cell_type": "code",
      "source": [
        "def rf_feat_importance(m, df):\n",
        "  return pd.DataFrame({'cols': df.columns, 'imp': m.feature_importances_}\n",
        "                      ).sort_values('imp', ascending = False)"
      ],
      "metadata": {
        "id": "nWYW8BkeFVKf"
      },
      "execution_count": null,
      "outputs": []
    },
    {
      "cell_type": "code",
      "source": [
        "fi = rf_feat_importance(rf_model, xs)\n",
        "fi[:10]"
      ],
      "metadata": {
        "colab": {
          "base_uri": "https://localhost:8080/",
          "height": 363
        },
        "id": "HPWJoYJQIHGY",
        "outputId": "a65c167b-de20-44bd-fde7-01a123911af9"
      },
      "execution_count": null,
      "outputs": [
        {
          "output_type": "execute_result",
          "data": {
            "text/plain": [
              "                  cols       imp\n",
              "57            YearMade  0.181706\n",
              "6          ProductSize  0.122101\n",
              "30      Coupler_System  0.120868\n",
              "7   fiProductClassDesc  0.066674\n",
              "54             ModelID  0.058850\n",
              "31      Grouser_Tracks  0.050997\n",
              "65         saleElapsed  0.050438\n",
              "3      fiSecondaryDesc  0.041468\n",
              "32     Hydraulics_Flow  0.032451\n",
              "1          fiModelDesc  0.031696"
            ],
            "text/html": [
              "\n",
              "  <div id=\"df-1e46671c-e14b-4e41-a119-522abde73d65\">\n",
              "    <div class=\"colab-df-container\">\n",
              "      <div>\n",
              "<style scoped>\n",
              "    .dataframe tbody tr th:only-of-type {\n",
              "        vertical-align: middle;\n",
              "    }\n",
              "\n",
              "    .dataframe tbody tr th {\n",
              "        vertical-align: top;\n",
              "    }\n",
              "\n",
              "    .dataframe thead th {\n",
              "        text-align: right;\n",
              "    }\n",
              "</style>\n",
              "<table border=\"1\" class=\"dataframe\">\n",
              "  <thead>\n",
              "    <tr style=\"text-align: right;\">\n",
              "      <th></th>\n",
              "      <th>cols</th>\n",
              "      <th>imp</th>\n",
              "    </tr>\n",
              "  </thead>\n",
              "  <tbody>\n",
              "    <tr>\n",
              "      <th>57</th>\n",
              "      <td>YearMade</td>\n",
              "      <td>0.181706</td>\n",
              "    </tr>\n",
              "    <tr>\n",
              "      <th>6</th>\n",
              "      <td>ProductSize</td>\n",
              "      <td>0.122101</td>\n",
              "    </tr>\n",
              "    <tr>\n",
              "      <th>30</th>\n",
              "      <td>Coupler_System</td>\n",
              "      <td>0.120868</td>\n",
              "    </tr>\n",
              "    <tr>\n",
              "      <th>7</th>\n",
              "      <td>fiProductClassDesc</td>\n",
              "      <td>0.066674</td>\n",
              "    </tr>\n",
              "    <tr>\n",
              "      <th>54</th>\n",
              "      <td>ModelID</td>\n",
              "      <td>0.058850</td>\n",
              "    </tr>\n",
              "    <tr>\n",
              "      <th>31</th>\n",
              "      <td>Grouser_Tracks</td>\n",
              "      <td>0.050997</td>\n",
              "    </tr>\n",
              "    <tr>\n",
              "      <th>65</th>\n",
              "      <td>saleElapsed</td>\n",
              "      <td>0.050438</td>\n",
              "    </tr>\n",
              "    <tr>\n",
              "      <th>3</th>\n",
              "      <td>fiSecondaryDesc</td>\n",
              "      <td>0.041468</td>\n",
              "    </tr>\n",
              "    <tr>\n",
              "      <th>32</th>\n",
              "      <td>Hydraulics_Flow</td>\n",
              "      <td>0.032451</td>\n",
              "    </tr>\n",
              "    <tr>\n",
              "      <th>1</th>\n",
              "      <td>fiModelDesc</td>\n",
              "      <td>0.031696</td>\n",
              "    </tr>\n",
              "  </tbody>\n",
              "</table>\n",
              "</div>\n",
              "      <button class=\"colab-df-convert\" onclick=\"convertToInteractive('df-1e46671c-e14b-4e41-a119-522abde73d65')\"\n",
              "              title=\"Convert this dataframe to an interactive table.\"\n",
              "              style=\"display:none;\">\n",
              "        \n",
              "  <svg xmlns=\"http://www.w3.org/2000/svg\" height=\"24px\"viewBox=\"0 0 24 24\"\n",
              "       width=\"24px\">\n",
              "    <path d=\"M0 0h24v24H0V0z\" fill=\"none\"/>\n",
              "    <path d=\"M18.56 5.44l.94 2.06.94-2.06 2.06-.94-2.06-.94-.94-2.06-.94 2.06-2.06.94zm-11 1L8.5 8.5l.94-2.06 2.06-.94-2.06-.94L8.5 2.5l-.94 2.06-2.06.94zm10 10l.94 2.06.94-2.06 2.06-.94-2.06-.94-.94-2.06-.94 2.06-2.06.94z\"/><path d=\"M17.41 7.96l-1.37-1.37c-.4-.4-.92-.59-1.43-.59-.52 0-1.04.2-1.43.59L10.3 9.45l-7.72 7.72c-.78.78-.78 2.05 0 2.83L4 21.41c.39.39.9.59 1.41.59.51 0 1.02-.2 1.41-.59l7.78-7.78 2.81-2.81c.8-.78.8-2.07 0-2.86zM5.41 20L4 18.59l7.72-7.72 1.47 1.35L5.41 20z\"/>\n",
              "  </svg>\n",
              "      </button>\n",
              "      \n",
              "  <style>\n",
              "    .colab-df-container {\n",
              "      display:flex;\n",
              "      flex-wrap:wrap;\n",
              "      gap: 12px;\n",
              "    }\n",
              "\n",
              "    .colab-df-convert {\n",
              "      background-color: #E8F0FE;\n",
              "      border: none;\n",
              "      border-radius: 50%;\n",
              "      cursor: pointer;\n",
              "      display: none;\n",
              "      fill: #1967D2;\n",
              "      height: 32px;\n",
              "      padding: 0 0 0 0;\n",
              "      width: 32px;\n",
              "    }\n",
              "\n",
              "    .colab-df-convert:hover {\n",
              "      background-color: #E2EBFA;\n",
              "      box-shadow: 0px 1px 2px rgba(60, 64, 67, 0.3), 0px 1px 3px 1px rgba(60, 64, 67, 0.15);\n",
              "      fill: #174EA6;\n",
              "    }\n",
              "\n",
              "    [theme=dark] .colab-df-convert {\n",
              "      background-color: #3B4455;\n",
              "      fill: #D2E3FC;\n",
              "    }\n",
              "\n",
              "    [theme=dark] .colab-df-convert:hover {\n",
              "      background-color: #434B5C;\n",
              "      box-shadow: 0px 1px 3px 1px rgba(0, 0, 0, 0.15);\n",
              "      filter: drop-shadow(0px 1px 2px rgba(0, 0, 0, 0.3));\n",
              "      fill: #FFFFFF;\n",
              "    }\n",
              "  </style>\n",
              "\n",
              "      <script>\n",
              "        const buttonEl =\n",
              "          document.querySelector('#df-1e46671c-e14b-4e41-a119-522abde73d65 button.colab-df-convert');\n",
              "        buttonEl.style.display =\n",
              "          google.colab.kernel.accessAllowed ? 'block' : 'none';\n",
              "\n",
              "        async function convertToInteractive(key) {\n",
              "          const element = document.querySelector('#df-1e46671c-e14b-4e41-a119-522abde73d65');\n",
              "          const dataTable =\n",
              "            await google.colab.kernel.invokeFunction('convertToInteractive',\n",
              "                                                     [key], {});\n",
              "          if (!dataTable) return;\n",
              "\n",
              "          const docLinkHtml = 'Like what you see? Visit the ' +\n",
              "            '<a target=\"_blank\" href=https://colab.research.google.com/notebooks/data_table.ipynb>data table notebook</a>'\n",
              "            + ' to learn more about interactive tables.';\n",
              "          element.innerHTML = '';\n",
              "          dataTable['output_type'] = 'display_data';\n",
              "          await google.colab.output.renderOutput(dataTable, element);\n",
              "          const docLink = document.createElement('div');\n",
              "          docLink.innerHTML = docLinkHtml;\n",
              "          element.appendChild(docLink);\n",
              "        }\n",
              "      </script>\n",
              "    </div>\n",
              "  </div>\n",
              "  "
            ]
          },
          "metadata": {},
          "execution_count": 62
        }
      ]
    },
    {
      "cell_type": "markdown",
      "source": [
        "The most importance feature is YearMade, ProductSize, and Coupler_System in this order."
      ],
      "metadata": {
        "id": "r_4UOxbmK-8I"
      }
    },
    {
      "cell_type": "code",
      "source": [
        "# plot feature importance\n",
        "def plot_fi(fi):\n",
        "  return fi.plot('cols', 'imp', 'barh', figsize = (12,7), legend = False)\n"
      ],
      "metadata": {
        "id": "-4R2TfGOIion"
      },
      "execution_count": null,
      "outputs": []
    },
    {
      "cell_type": "code",
      "source": [
        "# the 30 most import features\n",
        "plot_fi(fi[:30])\n",
        "plt.show()"
      ],
      "metadata": {
        "colab": {
          "base_uri": "https://localhost:8080/",
          "height": 431
        },
        "id": "aossJ26fLbUt",
        "outputId": "51771ad2-b368-4816-e10c-6f7c0d6f3f4f"
      },
      "execution_count": null,
      "outputs": [
        {
          "output_type": "display_data",
          "data": {
            "text/plain": [
              "<Figure size 864x504 with 1 Axes>"
            ],
            "image/png": "[encoded data removed]"
          },
          "metadata": {
            "needs_background": "light"
          }
        }
      ]
    },
    {
      "cell_type": "markdown",
      "source": [
        "You can keep only important features for modeling and exclude the others."
      ],
      "metadata": {
        "id": "Mj_JwTo0MFjM"
      }
    },
    {
      "cell_type": "code",
      "source": [
        "# keep the features above 0.005\n",
        "to_keep = fi[fi.imp > 0.005].cols\n",
        "len(to_keep)"
      ],
      "metadata": {
        "colab": {
          "base_uri": "https://localhost:8080/"
        },
        "id": "WbQ3TC7jLdfl",
        "outputId": "6cf89a1c-735c-4aeb-f390-39515bdfe722"
      },
      "execution_count": null,
      "outputs": [
        {
          "output_type": "execute_result",
          "data": {
            "text/plain": [
              "21"
            ]
          },
          "metadata": {},
          "execution_count": 65
        }
      ]
    },
    {
      "cell_type": "markdown",
      "source": [
        "The number of features to keep is 21 in total."
      ],
      "metadata": {
        "id": "YiA11yB1MeSs"
      }
    },
    {
      "cell_type": "code",
      "source": [
        "# select the features above from training and test set\n",
        "xs_imp = xs[to_keep]\n",
        "valid_xs_imp = valid_xs[to_keep]"
      ],
      "metadata": {
        "id": "E0fQAIFZMc8t"
      },
      "execution_count": null,
      "outputs": []
    },
    {
      "cell_type": "code",
      "source": [
        "rf_model2 = rf(xs_imp, y)"
      ],
      "metadata": {
        "id": "5mV1nhWhM9Sk"
      },
      "execution_count": null,
      "outputs": []
    },
    {
      "cell_type": "code",
      "source": [
        "# veiw root mean squared error of training set and test set\n",
        "print('model trained with all features: ',rmse(rf_model, xs, y), rmse(rf_model, valid_xs, valid_y))\n",
        "print('model trained with important features (> 0.005): ',rmse(rf_model2, xs_imp, y), rmse(rf_model2, valid_xs_imp, valid_y))"
      ],
      "metadata": {
        "colab": {
          "base_uri": "https://localhost:8080/"
        },
        "id": "zcYUsyUJNteA",
        "outputId": "aec4de90-4844-42e1-b4b0-9034ffc669b1"
      },
      "execution_count": null,
      "outputs": [
        {
          "output_type": "stream",
          "name": "stdout",
          "text": [
            "model trained with all features:  0.171179 0.233348\n",
            "model trained with important features (> 0.005):  0.181401 0.233\n"
          ]
        }
      ]
    },
    {
      "cell_type": "code",
      "source": [
        "# plot feature importance again\n",
        "plot_fi(rf_feat_importance(rf_model2, xs_imp))\n",
        "plt.show()"
      ],
      "metadata": {
        "colab": {
          "base_uri": "https://localhost:8080/",
          "height": 431
        },
        "id": "VJIlFIzTOIvS",
        "outputId": "88f82e47-766a-4ec5-d4fd-0704c969e554"
      },
      "execution_count": null,
      "outputs": [
        {
          "output_type": "display_data",
          "data": {
            "text/plain": [
              "<Figure size 864x504 with 1 Axes>"
            ],
            "image/png": "[encoded data removed]"
          },
          "metadata": {
            "needs_background": "light"
          }
        }
      ]
    },
    {
      "cell_type": "markdown",
      "source": [
        "### Removing similar features"
      ],
      "metadata": {
        "id": "rXldypkrj9rM"
      }
    },
    {
      "cell_type": "markdown",
      "source": [
        "#### Hierarchical Clustering"
      ],
      "metadata": {
        "id": "NoPv8-TQkhIO"
      }
    },
    {
      "cell_type": "code",
      "source": [
        "# plot hierarchical clustering of the current features\n",
        "cluster_columns(xs_imp)"
      ],
      "metadata": {
        "colab": {
          "base_uri": "https://localhost:8080/",
          "height": 377
        },
        "id": "ctytSKTTPN_f",
        "outputId": "5f26803b-1e7d-4017-d4d8-67bdf085bfed"
      },
      "execution_count": null,
      "outputs": [
        {
          "output_type": "display_data",
          "data": {
            "text/plain": [
              "<Figure size 720x432 with 1 Axes>"
            ],
            "image/png": "[encoded data removed]"
          },
          "metadata": {
            "needs_background": "light"
          }
        }
      ]
    },
    {
      "cell_type": "code",
      "source": [
        "help(cluster_columns)"
      ],
      "metadata": {
        "colab": {
          "base_uri": "https://localhost:8080/"
        },
        "id": "j4yxtc1tPmJo",
        "outputId": "9cdb6b83-800d-4a92-ea2a-9d18cf131313"
      },
      "execution_count": null,
      "outputs": [
        {
          "output_type": "stream",
          "name": "stdout",
          "text": [
            "Help on function cluster_columns in module fastbook:\n",
            "\n",
            "cluster_columns(df, figsize=(10, 6), font_size=12)\n",
            "\n"
          ]
        }
      ]
    },
    {
      "cell_type": "markdown",
      "source": [
        "The closeness of features in the hierarchical clustering indicate similarity. \n",
        "\n",
        "\n",
        "*   e.g. 'saleYear' and 'saleElapsed' are very similar.\n",
        "\n",
        "*   e.g. 'ProductGroup' and 'ProductGroupDesc' are very similar.\n",
        "\n",
        "\n",
        "\n",
        "\n",
        "You can leave one among similar features and see what happens."
      ],
      "metadata": {
        "id": "ozPdAPc3P71F"
      }
    },
    {
      "cell_type": "markdown",
      "source": [
        "#### Out-of-bag score\n",
        "\n",
        "The estimators or trees are to be trained with bootstrap samples. On average, for each tree, 63% of training data are sampled, but 37% are not sampled and constitutes the OOB instances. \n",
        "\n",
        "After modelings, you can have all trees predict target value with OOB instances and calculate how accurate the predictions were.\n",
        "\n",
        "Note that in scikit-learn, the OOB score corresponds to accuracy score(= Jaccard score) for classifiers and R-squared for regressors. "
      ],
      "metadata": {
        "id": "z7IR7v46kriF"
      }
    },
    {
      "cell_type": "code",
      "source": [
        "def get_oob(df):\n",
        "  m = RandomForestRegressor(n_estimators = 40, min_samples_leaf = 15,\n",
        "                            max_samples= 50000, max_features = 0.5, n_jobs =-1, oob_score = True)\n",
        "  m.fit(df, y)\n",
        "  return m.oob_score_"
      ],
      "metadata": {
        "id": "K4xXbNOoPpJa"
      },
      "execution_count": null,
      "outputs": []
    },
    {
      "cell_type": "code",
      "source": [
        "# get oob score you can get when modeling with xs_imp data\n",
        "oob_imp = get_oob(xs_imp)\n",
        "oob_imp"
      ],
      "metadata": {
        "colab": {
          "base_uri": "https://localhost:8080/"
        },
        "id": "b6PoRO0pnwV5",
        "outputId": "f0a889a1-5279-4471-cd88-86493cafa998"
      },
      "execution_count": null,
      "outputs": [
        {
          "output_type": "execute_result",
          "data": {
            "text/plain": [
              "0.8774838816831307"
            ]
          },
          "metadata": {},
          "execution_count": 73
        }
      ]
    },
    {
      "cell_type": "code",
      "source": [
        "# get oob score you can get when modeling with xs_imp data of which a specific column is excluded\n",
        "{c: get_oob(xs_imp.drop(c, axis = 1)) for c in (\n",
        "    'saleYear', 'saleElapsed', 'ProductGroupDesc', 'ProductGroup',\n",
        "    'fiModelDesc', 'fiBaseModel', 'Hydraulics_Flow', 'Grouser_Tracks', 'Coupler_System')}"
      ],
      "metadata": {
        "colab": {
          "base_uri": "https://localhost:8080/"
        },
        "id": "V1oZReyzSP4R",
        "outputId": "154df65b-eacf-49e7-8bbe-e2515f605bdf"
      },
      "execution_count": null,
      "outputs": [
        {
          "output_type": "execute_result",
          "data": {
            "text/plain": [
              "{'saleYear': 0.877351078378158,\n",
              " 'saleElapsed': 0.8727584484103961,\n",
              " 'ProductGroupDesc': 0.8774738944813094,\n",
              " 'ProductGroup': 0.8769752835363005,\n",
              " 'fiModelDesc': 0.876230057681684,\n",
              " 'fiBaseModel': 0.8768737625163588,\n",
              " 'Hydraulics_Flow': 0.8778174083053714,\n",
              " 'Grouser_Tracks': 0.8782897291146706,\n",
              " 'Coupler_System': 0.8776340745126187}"
            ]
          },
          "metadata": {},
          "execution_count": 74
        }
      ]
    },
    {
      "cell_type": "markdown",
      "source": [
        "When dropping 'saleYear' column, the OOB score was 0.877409944961358 while dropping 'saleElapsed', the score got lower, 0.8717764835938129. Therefore, it's reasonable to keep 'saleElapsed' over 'saleYear'.\n",
        "\n",
        "According to this logic, decide which columns to keep and drop."
      ],
      "metadata": {
        "id": "Y_mBixprqkIC"
      }
    },
    {
      "cell_type": "code",
      "source": [
        "col_to_drop = ['saleYear', 'ProductGroupDesc', 'fiBaseModel', 'Coupler_System']"
      ],
      "metadata": {
        "id": "NKsfXQXVeT1C"
      },
      "execution_count": null,
      "outputs": []
    },
    {
      "cell_type": "code",
      "source": [
        "# get oob score when modeling without above features\n",
        "get_oob(xs_imp.drop(col_to_drop, axis = 1))"
      ],
      "metadata": {
        "colab": {
          "base_uri": "https://localhost:8080/"
        },
        "id": "D-FErnjDsfXx",
        "outputId": "62a66ffe-d446-4f0c-de9b-fcbed415ccc0"
      },
      "execution_count": null,
      "outputs": [
        {
          "output_type": "execute_result",
          "data": {
            "text/plain": [
              "0.8745264084310532"
            ]
          },
          "metadata": {},
          "execution_count": 76
        }
      ]
    },
    {
      "cell_type": "markdown",
      "source": [
        "With less features, it is easy to maintain."
      ],
      "metadata": {
        "id": "UmLqxN3mQyZA"
      }
    },
    {
      "cell_type": "code",
      "source": [
        "xs_final = xs_imp.drop(col_to_drop, axis =1)\n",
        "valid_xs_final = valid_xs_imp.drop(col_to_drop, axis =1)"
      ],
      "metadata": {
        "id": "JT1pcTlgsvbM"
      },
      "execution_count": null,
      "outputs": []
    },
    {
      "cell_type": "code",
      "source": [
        "save_pickle(path/'xs_final.pkl', xs_final)\n",
        "save_pickle(path/'valid_xs_final.pkl', valid_xs_final)"
      ],
      "metadata": {
        "id": "XyQQSiXWRGTc"
      },
      "execution_count": null,
      "outputs": []
    },
    {
      "cell_type": "code",
      "source": [
        "m = rf(xs_final, y)\n",
        "rmse(m, xs_final, y), rmse(m, valid_xs_final, valid_y)"
      ],
      "metadata": {
        "colab": {
          "base_uri": "https://localhost:8080/"
        },
        "id": "PoWbkipSRPz4",
        "outputId": "ecff7b3a-0d36-44ca-b23a-25722d71810d"
      },
      "execution_count": null,
      "outputs": [
        {
          "output_type": "execute_result",
          "data": {
            "text/plain": [
              "(0.183044, 0.232327)"
            ]
          },
          "metadata": {},
          "execution_count": 79
        }
      ]
    },
    {
      "cell_type": "code",
      "source": [
        "to.classes['ProductSize']"
      ],
      "metadata": {
        "colab": {
          "base_uri": "https://localhost:8080/"
        },
        "id": "wdxHj5-YSjXJ",
        "outputId": "7384d6a8-d01a-47c1-8975-c8e5f91930b0"
      },
      "execution_count": null,
      "outputs": [
        {
          "output_type": "execute_result",
          "data": {
            "text/plain": [
              "['#na#', 'Large', 'Large / Medium', 'Medium', 'Small', 'Mini', 'Compact']"
            ]
          },
          "metadata": {},
          "execution_count": 80
        }
      ]
    },
    {
      "cell_type": "code",
      "source": [
        "p = valid_xs_final['ProductSize'].value_counts(sort=False).plot.barh()\n",
        "c = to.classes['ProductSize']\n",
        "plt.yticks(range(len(c)), c)\n",
        "plt.show()"
      ],
      "metadata": {
        "colab": {
          "base_uri": "https://localhost:8080/",
          "height": 268
        },
        "id": "KcKyUt6NSs1q",
        "outputId": "0452d720-5f87-40da-98a8-d1a148a4dea3"
      },
      "execution_count": null,
      "outputs": [
        {
          "output_type": "display_data",
          "data": {
            "text/plain": [
              "<Figure size 432x288 with 1 Axes>"
            ],
            "image/png": "[encoded data removed]"
          },
          "metadata": {
            "needs_background": "light"
          }
        }
      ]
    },
    {
      "cell_type": "code",
      "source": [
        "ax = valid_xs_final['YearMade'].hist()"
      ],
      "metadata": {
        "colab": {
          "base_uri": "https://localhost:8080/",
          "height": 268
        },
        "id": "9WmPxDG2VBts",
        "outputId": "21e293bc-f7d4-45de-9579-78fcf979b236"
      },
      "execution_count": null,
      "outputs": [
        {
          "output_type": "display_data",
          "data": {
            "text/plain": [
              "<Figure size 432x288 with 1 Axes>"
            ],
            "image/png": "[encoded data removed]"
          },
          "metadata": {
            "needs_background": "light"
          }
        }
      ]
    },
    {
      "cell_type": "markdown",
      "source": [
        "### Partial Dependence\n",
        "\n",
        "It is to see the impact when model keeps everything and change one feature to a particular value.\n",
        "\n",
        "e.g. For predicting a house price, when you solely change the city into London, see how much that affects prediction value in the current model built.  "
      ],
      "metadata": {
        "id": "X1_kjXGKVVcq"
      }
    },
    {
      "cell_type": "code",
      "source": [
        "from sklearn.inspection import PartialDependenceDisplay"
      ],
      "metadata": {
        "id": "dlPUeGtRVRbl"
      },
      "execution_count": null,
      "outputs": []
    },
    {
      "cell_type": "code",
      "source": [
        "fig, ax = plt.subplots(figsize = (12, 4))\n",
        "PartialDependenceDisplay.from_estimator(m, valid_xs_final, ['YearMade', 'ProductSize'],\n",
        "                        grid_resolution = 20, ax = ax)\n",
        "plt.show()"
      ],
      "metadata": {
        "colab": {
          "base_uri": "https://localhost:8080/",
          "height": 287
        },
        "id": "JfTY9sKoWdU8",
        "outputId": "bc5b11b6-ef72-42f0-fa26-b2add5baa559"
      },
      "execution_count": null,
      "outputs": [
        {
          "output_type": "display_data",
          "data": {
            "text/plain": [
              "<Figure size 864x288 with 3 Axes>"
            ],
            "image/png": "[encoded data removed]"
          },
          "metadata": {
            "needs_background": "light"
          }
        }
      ]
    },
    {
      "cell_type": "markdown",
      "source": [
        "You can see the price goes up drastically when the bulldozars are made in years near 2000.\n",
        "\n",
        "Also, when it comes to 'Product Size', 'mini' and 'compact' have much less impact than the other size type. "
      ],
      "metadata": {
        "id": "diNl0iE9ZPsT"
      }
    },
    {
      "cell_type": "markdown",
      "source": [
        "### Treeinterpreter\n",
        "\n",
        "The treeinterpreter is one such library which can help us finding out contribution of individual feature on particular prediction for tree based models of scikit-learn.\n",
        "\n",
        "The treeinterpreter is based on a concept that when making a particular prediction decision tree or random forest follows a particular path to come to that prediction. Each node in the decision tree represent some feature and makes decisions based on the feature value in the sample. The treeinterpreter divides prediction region space into regions the same as the number of leaves present in that tree. At each internal node in a tree, the prediction value will be the average of all possible predictions in data from the path going through that node. We'll have the average value for the root node as well this way which will be the average of all predictions. This way we'll have some prediction value at each node in the tree. **The treeinterpreter uses these values to find out the contributions of each feature in prediction by finding out the difference in prediction by a particular node and the node in the path before it.** It follows the same process for the random forest where there is more than one tree and the final prediction is taken based on an average of all trees predictions.\n",
        "\n"
      ],
      "metadata": {
        "id": "u4mz0TVDl8j6"
      }
    },
    {
      "cell_type": "code",
      "source": [
        "import warnings\n",
        "warnings.simplefilter('ignore', FutureWarning)\n",
        "\n",
        "from treeinterpreter import treeinterpreter\n",
        "from waterfall_chart import plot as waterfall"
      ],
      "metadata": {
        "id": "qoqbKnnmWmJC"
      },
      "execution_count": null,
      "outputs": []
    },
    {
      "cell_type": "code",
      "source": [
        "row = valid_xs_final.iloc[:5]\n",
        "row"
      ],
      "metadata": {
        "colab": {
          "base_uri": "https://localhost:8080/",
          "height": 270
        },
        "id": "lKnz5CqTd-i1",
        "outputId": "1d10bac3-1a97-45f5-9db1-356835e29996"
      },
      "execution_count": null,
      "outputs": [
        {
          "output_type": "execute_result",
          "data": {
            "text/plain": [
              "       YearMade  ProductSize  fiProductClassDesc  ModelID  Grouser_Tracks  \\\n",
              "22915      1000            3                  48     4124               0   \n",
              "22916      2006            0                   2    24808               0   \n",
              "22917      2006            0                  41     9580               2   \n",
              "22918      2003            0                  44     6270               2   \n",
              "22919      2007            0                   1    17976               0   \n",
              "\n",
              "        saleElapsed  fiSecondaryDesc  Hydraulics_Flow  fiModelDesc  Enclosure  \\\n",
              "22915  1.317600e+09               43                0         2301          1   \n",
              "22916  1.317859e+09               50                0          278          6   \n",
              "22917  1.317859e+09                0                3         4514          6   \n",
              "22918  1.317859e+09                0                3         4213          6   \n",
              "22919  1.317859e+09               21                0         4647          6   \n",
              "\n",
              "       SalesID  MachineID  fiModelDescriptor  ProductGroup  Hydraulics  \\\n",
              "22915  1218822    1024652                  0             5           1   \n",
              "22916  1218823    1067601                 17             1           0   \n",
              "22917  1218824    1010582                  0             3           4   \n",
              "22918  1218825    1026609                  0             3           4   \n",
              "22919  1218826    1032638                  0             1           0   \n",
              "\n",
              "       Drive_System  Tire_Size  \n",
              "22915             0          0  \n",
              "22916             2          0  \n",
              "22917             0          0  \n",
              "22918             0          0  \n",
              "22919             2          0  "
            ],
            "text/html": [
              "\n",
              "  <div id=\"df-7c1532a0-be8d-46d8-8ced-dd56137db329\">\n",
              "    <div class=\"colab-df-container\">\n",
              "      <div>\n",
              "<style scoped>\n",
              "    .dataframe tbody tr th:only-of-type {\n",
              "        vertical-align: middle;\n",
              "    }\n",
              "\n",
              "    .dataframe tbody tr th {\n",
              "        vertical-align: top;\n",
              "    }\n",
              "\n",
              "    .dataframe thead th {\n",
              "        text-align: right;\n",
              "    }\n",
              "</style>\n",
              "<table border=\"1\" class=\"dataframe\">\n",
              "  <thead>\n",
              "    <tr style=\"text-align: right;\">\n",
              "      <th></th>\n",
              "      <th>YearMade</th>\n",
              "      <th>ProductSize</th>\n",
              "      <th>fiProductClassDesc</th>\n",
              "      <th>ModelID</th>\n",
              "      <th>Grouser_Tracks</th>\n",
              "      <th>saleElapsed</th>\n",
              "      <th>fiSecondaryDesc</th>\n",
              "      <th>Hydraulics_Flow</th>\n",
              "      <th>fiModelDesc</th>\n",
              "      <th>Enclosure</th>\n",
              "      <th>SalesID</th>\n",
              "      <th>MachineID</th>\n",
              "      <th>fiModelDescriptor</th>\n",
              "      <th>ProductGroup</th>\n",
              "      <th>Hydraulics</th>\n",
              "      <th>Drive_System</th>\n",
              "      <th>Tire_Size</th>\n",
              "    </tr>\n",
              "  </thead>\n",
              "  <tbody>\n",
              "    <tr>\n",
              "      <th>22915</th>\n",
              "      <td>1000</td>\n",
              "      <td>3</td>\n",
              "      <td>48</td>\n",
              "      <td>4124</td>\n",
              "      <td>0</td>\n",
              "      <td>1.317600e+09</td>\n",
              "      <td>43</td>\n",
              "      <td>0</td>\n",
              "      <td>2301</td>\n",
              "      <td>1</td>\n",
              "      <td>1218822</td>\n",
              "      <td>1024652</td>\n",
              "      <td>0</td>\n",
              "      <td>5</td>\n",
              "      <td>1</td>\n",
              "      <td>0</td>\n",
              "      <td>0</td>\n",
              "    </tr>\n",
              "    <tr>\n",
              "      <th>22916</th>\n",
              "      <td>2006</td>\n",
              "      <td>0</td>\n",
              "      <td>2</td>\n",
              "      <td>24808</td>\n",
              "      <td>0</td>\n",
              "      <td>1.317859e+09</td>\n",
              "      <td>50</td>\n",
              "      <td>0</td>\n",
              "      <td>278</td>\n",
              "      <td>6</td>\n",
              "      <td>1218823</td>\n",
              "      <td>1067601</td>\n",
              "      <td>17</td>\n",
              "      <td>1</td>\n",
              "      <td>0</td>\n",
              "      <td>2</td>\n",
              "      <td>0</td>\n",
              "    </tr>\n",
              "    <tr>\n",
              "      <th>22917</th>\n",
              "      <td>2006</td>\n",
              "      <td>0</td>\n",
              "      <td>41</td>\n",
              "      <td>9580</td>\n",
              "      <td>2</td>\n",
              "      <td>1.317859e+09</td>\n",
              "      <td>0</td>\n",
              "      <td>3</td>\n",
              "      <td>4514</td>\n",
              "      <td>6</td>\n",
              "      <td>1218824</td>\n",
              "      <td>1010582</td>\n",
              "      <td>0</td>\n",
              "      <td>3</td>\n",
              "      <td>4</td>\n",
              "      <td>0</td>\n",
              "      <td>0</td>\n",
              "    </tr>\n",
              "    <tr>\n",
              "      <th>22918</th>\n",
              "      <td>2003</td>\n",
              "      <td>0</td>\n",
              "      <td>44</td>\n",
              "      <td>6270</td>\n",
              "      <td>2</td>\n",
              "      <td>1.317859e+09</td>\n",
              "      <td>0</td>\n",
              "      <td>3</td>\n",
              "      <td>4213</td>\n",
              "      <td>6</td>\n",
              "      <td>1218825</td>\n",
              "      <td>1026609</td>\n",
              "      <td>0</td>\n",
              "      <td>3</td>\n",
              "      <td>4</td>\n",
              "      <td>0</td>\n",
              "      <td>0</td>\n",
              "    </tr>\n",
              "    <tr>\n",
              "      <th>22919</th>\n",
              "      <td>2007</td>\n",
              "      <td>0</td>\n",
              "      <td>1</td>\n",
              "      <td>17976</td>\n",
              "      <td>0</td>\n",
              "      <td>1.317859e+09</td>\n",
              "      <td>21</td>\n",
              "      <td>0</td>\n",
              "      <td>4647</td>\n",
              "      <td>6</td>\n",
              "      <td>1218826</td>\n",
              "      <td>1032638</td>\n",
              "      <td>0</td>\n",
              "      <td>1</td>\n",
              "      <td>0</td>\n",
              "      <td>2</td>\n",
              "      <td>0</td>\n",
              "    </tr>\n",
              "  </tbody>\n",
              "</table>\n",
              "</div>\n",
              "      <button class=\"colab-df-convert\" onclick=\"convertToInteractive('df-7c1532a0-be8d-46d8-8ced-dd56137db329')\"\n",
              "              title=\"Convert this dataframe to an interactive table.\"\n",
              "              style=\"display:none;\">\n",
              "        \n",
              "  <svg xmlns=\"http://www.w3.org/2000/svg\" height=\"24px\"viewBox=\"0 0 24 24\"\n",
              "       width=\"24px\">\n",
              "    <path d=\"M0 0h24v24H0V0z\" fill=\"none\"/>\n",
              "    <path d=\"M18.56 5.44l.94 2.06.94-2.06 2.06-.94-2.06-.94-.94-2.06-.94 2.06-2.06.94zm-11 1L8.5 8.5l.94-2.06 2.06-.94-2.06-.94L8.5 2.5l-.94 2.06-2.06.94zm10 10l.94 2.06.94-2.06 2.06-.94-2.06-.94-.94-2.06-.94 2.06-2.06.94z\"/><path d=\"M17.41 7.96l-1.37-1.37c-.4-.4-.92-.59-1.43-.59-.52 0-1.04.2-1.43.59L10.3 9.45l-7.72 7.72c-.78.78-.78 2.05 0 2.83L4 21.41c.39.39.9.59 1.41.59.51 0 1.02-.2 1.41-.59l7.78-7.78 2.81-2.81c.8-.78.8-2.07 0-2.86zM5.41 20L4 18.59l7.72-7.72 1.47 1.35L5.41 20z\"/>\n",
              "  </svg>\n",
              "      </button>\n",
              "      \n",
              "  <style>\n",
              "    .colab-df-container {\n",
              "      display:flex;\n",
              "      flex-wrap:wrap;\n",
              "      gap: 12px;\n",
              "    }\n",
              "\n",
              "    .colab-df-convert {\n",
              "      background-color: #E8F0FE;\n",
              "      border: none;\n",
              "      border-radius: 50%;\n",
              "      cursor: pointer;\n",
              "      display: none;\n",
              "      fill: #1967D2;\n",
              "      height: 32px;\n",
              "      padding: 0 0 0 0;\n",
              "      width: 32px;\n",
              "    }\n",
              "\n",
              "    .colab-df-convert:hover {\n",
              "      background-color: #E2EBFA;\n",
              "      box-shadow: 0px 1px 2px rgba(60, 64, 67, 0.3), 0px 1px 3px 1px rgba(60, 64, 67, 0.15);\n",
              "      fill: #174EA6;\n",
              "    }\n",
              "\n",
              "    [theme=dark] .colab-df-convert {\n",
              "      background-color: #3B4455;\n",
              "      fill: #D2E3FC;\n",
              "    }\n",
              "\n",
              "    [theme=dark] .colab-df-convert:hover {\n",
              "      background-color: #434B5C;\n",
              "      box-shadow: 0px 1px 3px 1px rgba(0, 0, 0, 0.15);\n",
              "      filter: drop-shadow(0px 1px 2px rgba(0, 0, 0, 0.3));\n",
              "      fill: #FFFFFF;\n",
              "    }\n",
              "  </style>\n",
              "\n",
              "      <script>\n",
              "        const buttonEl =\n",
              "          document.querySelector('#df-7c1532a0-be8d-46d8-8ced-dd56137db329 button.colab-df-convert');\n",
              "        buttonEl.style.display =\n",
              "          google.colab.kernel.accessAllowed ? 'block' : 'none';\n",
              "\n",
              "        async function convertToInteractive(key) {\n",
              "          const element = document.querySelector('#df-7c1532a0-be8d-46d8-8ced-dd56137db329');\n",
              "          const dataTable =\n",
              "            await google.colab.kernel.invokeFunction('convertToInteractive',\n",
              "                                                     [key], {});\n",
              "          if (!dataTable) return;\n",
              "\n",
              "          const docLinkHtml = 'Like what you see? Visit the ' +\n",
              "            '<a target=\"_blank\" href=https://colab.research.google.com/notebooks/data_table.ipynb>data table notebook</a>'\n",
              "            + ' to learn more about interactive tables.';\n",
              "          element.innerHTML = '';\n",
              "          dataTable['output_type'] = 'display_data';\n",
              "          await google.colab.output.renderOutput(dataTable, element);\n",
              "          const docLink = document.createElement('div');\n",
              "          docLink.innerHTML = docLinkHtml;\n",
              "          element.appendChild(docLink);\n",
              "        }\n",
              "      </script>\n",
              "    </div>\n",
              "  </div>\n",
              "  "
            ]
          },
          "metadata": {},
          "execution_count": 86
        }
      ]
    },
    {
      "cell_type": "code",
      "source": [
        "prediction, bias, contributions = treeinterpreter.predict(m, row.values)"
      ],
      "metadata": {
        "id": "bFCyKNW8eEgb"
      },
      "execution_count": null,
      "outputs": []
    },
    {
      "cell_type": "markdown",
      "source": [
        "The treeinterpreter has a single method named predict() which takes as input model instance and dataset for which we need explanations. It returns three arrays as output.\n",
        "\n",
        "- The first array is **predictions for a number of samples passed to the method.**\n",
        "- The second array is **bias or base value for each sample of data to which individual feature contribution will be added to generate a final prediction.**\n",
        "- The third array is of size (#samples x #no_of_features) as it has the contribution of each feature for each sample which gets added to base/bias value to generate predictions.\n"
      ],
      "metadata": {
        "id": "VitJ645aluYR"
      }
    },
    {
      "cell_type": "code",
      "source": [
        "len(prediction)"
      ],
      "metadata": {
        "colab": {
          "base_uri": "https://localhost:8080/"
        },
        "id": "Q2n8Ljxgem_b",
        "outputId": "bb719469-2203-48e8-f836-9bd57c071d02"
      },
      "execution_count": null,
      "outputs": [
        {
          "output_type": "execute_result",
          "data": {
            "text/plain": [
              "5"
            ]
          },
          "metadata": {},
          "execution_count": 88
        }
      ]
    },
    {
      "cell_type": "code",
      "source": [
        "row.shape"
      ],
      "metadata": {
        "colab": {
          "base_uri": "https://localhost:8080/"
        },
        "id": "oHqvc1Dtg3ks",
        "outputId": "2cc19160-6b35-46de-f34e-a5b336e9eeed"
      },
      "execution_count": null,
      "outputs": [
        {
          "output_type": "execute_result",
          "data": {
            "text/plain": [
              "(5, 17)"
            ]
          },
          "metadata": {},
          "execution_count": 89
        }
      ]
    },
    {
      "cell_type": "code",
      "source": [
        "contributions.shape"
      ],
      "metadata": {
        "colab": {
          "base_uri": "https://localhost:8080/"
        },
        "id": "Djl0ppmugvo6",
        "outputId": "0e8537bd-ff91-4186-f303-16b6cc5a915e"
      },
      "execution_count": null,
      "outputs": [
        {
          "output_type": "execute_result",
          "data": {
            "text/plain": [
              "(5, 17)"
            ]
          },
          "metadata": {},
          "execution_count": 90
        }
      ]
    },
    {
      "cell_type": "code",
      "source": [
        "prediction[0], bias[0], contributions[0].sum()"
      ],
      "metadata": {
        "colab": {
          "base_uri": "https://localhost:8080/"
        },
        "id": "Z7uKs70_eJ1j",
        "outputId": "fb755d15-5c47-41e6-8905-768e0ad64065"
      },
      "execution_count": null,
      "outputs": [
        {
          "output_type": "execute_result",
          "data": {
            "text/plain": [
              "(array([9.98861227]), 10.104382193832395, -0.11576992063270237)"
            ]
          },
          "metadata": {},
          "execution_count": 91
        }
      ]
    },
    {
      "cell_type": "code",
      "source": [
        "y.mean()"
      ],
      "metadata": {
        "colab": {
          "base_uri": "https://localhost:8080/"
        },
        "id": "_6ZTVt38ssIu",
        "outputId": "3bce0e1d-85eb-4870-f957-0e63c6b1c518"
      },
      "execution_count": null,
      "outputs": [
        {
          "output_type": "execute_result",
          "data": {
            "text/plain": [
              "10.104347"
            ]
          },
          "metadata": {},
          "execution_count": 92
        }
      ]
    },
    {
      "cell_type": "code",
      "source": [
        "round(bias[0] + contributions[0].sum(), 14) == prediction[0][0]"
      ],
      "metadata": {
        "colab": {
          "base_uri": "https://localhost:8080/"
        },
        "id": "gshn_mZboac1",
        "outputId": "c3a3ca09-a663-47e8-a9d4-4b64b8859837"
      },
      "execution_count": null,
      "outputs": [
        {
          "output_type": "execute_result",
          "data": {
            "text/plain": [
              "True"
            ]
          },
          "metadata": {},
          "execution_count": 93
        }
      ]
    },
    {
      "cell_type": "markdown",
      "source": [
        "adding contribution to bias equals prediction."
      ],
      "metadata": {
        "id": "vTEnwJ4zqNaG"
      }
    },
    {
      "cell_type": "code",
      "source": [
        "# view the contributions of the features of which score is above 0.08\n",
        "# the contribution on 1st bulldozer price.\n",
        "waterfall(valid_xs_final.columns, contributions[0], threshold = 0.08, \n",
        "          rotation_value =45, formatting = '{:,.3f}')"
      ],
      "metadata": {
        "colab": {
          "base_uri": "https://localhost:8080/",
          "height": 311
        },
        "id": "OE3PwxGUeSpe",
        "outputId": "ba0a6c85-948c-456c-d687-18bd132c5cef"
      },
      "execution_count": null,
      "outputs": [
        {
          "output_type": "execute_result",
          "data": {
            "text/plain": [
              "<module 'matplotlib.pyplot' from '/usr/local/lib/python3.7/dist-packages/matplotlib/pyplot.py'>"
            ]
          },
          "metadata": {},
          "execution_count": 94
        },
        {
          "output_type": "display_data",
          "data": {
            "text/plain": [
              "<Figure size 432x288 with 1 Axes>"
            ],
            "image/png": "[encoded data removed]"
          },
          "metadata": {
            "needs_background": "light"
          }
        }
      ]
    },
    {
      "cell_type": "markdown",
      "source": [
        "For the first dataset, the model predicted the price, 9.98861227, and this prediction is the result of reflecting all features' impact (saved in contribution array) on bias (or base value).\n",
        "\n",
        "In the plot above, the features with red bar give negative impact and ones with green positive impact.\n",
        "Finally, the score on blue bar is the sum of all features' contribution.\n"
      ],
      "metadata": {
        "id": "Dzvp9KygkDYd"
      }
    },
    {
      "cell_type": "code",
      "source": [
        "valid_xs_final.head(1)"
      ],
      "metadata": {
        "colab": {
          "base_uri": "https://localhost:8080/",
          "height": 145
        },
        "id": "GamE1xrOhG48",
        "outputId": "80e91abd-0992-4075-9ce1-ed7e5f559c68"
      },
      "execution_count": null,
      "outputs": [
        {
          "output_type": "execute_result",
          "data": {
            "text/plain": [
              "       YearMade  ProductSize  fiProductClassDesc  ModelID  Grouser_Tracks  \\\n",
              "22915      1000            3                  48     4124               0   \n",
              "\n",
              "        saleElapsed  fiSecondaryDesc  Hydraulics_Flow  fiModelDesc  Enclosure  \\\n",
              "22915  1.317600e+09               43                0         2301          1   \n",
              "\n",
              "       SalesID  MachineID  fiModelDescriptor  ProductGroup  Hydraulics  \\\n",
              "22915  1218822    1024652                  0             5           1   \n",
              "\n",
              "       Drive_System  Tire_Size  \n",
              "22915             0          0  "
            ],
            "text/html": [
              "\n",
              "  <div id=\"df-601e1071-73cd-43f7-90df-53b2a636a753\">\n",
              "    <div class=\"colab-df-container\">\n",
              "      <div>\n",
              "<style scoped>\n",
              "    .dataframe tbody tr th:only-of-type {\n",
              "        vertical-align: middle;\n",
              "    }\n",
              "\n",
              "    .dataframe tbody tr th {\n",
              "        vertical-align: top;\n",
              "    }\n",
              "\n",
              "    .dataframe thead th {\n",
              "        text-align: right;\n",
              "    }\n",
              "</style>\n",
              "<table border=\"1\" class=\"dataframe\">\n",
              "  <thead>\n",
              "    <tr style=\"text-align: right;\">\n",
              "      <th></th>\n",
              "      <th>YearMade</th>\n",
              "      <th>ProductSize</th>\n",
              "      <th>fiProductClassDesc</th>\n",
              "      <th>ModelID</th>\n",
              "      <th>Grouser_Tracks</th>\n",
              "      <th>saleElapsed</th>\n",
              "      <th>fiSecondaryDesc</th>\n",
              "      <th>Hydraulics_Flow</th>\n",
              "      <th>fiModelDesc</th>\n",
              "      <th>Enclosure</th>\n",
              "      <th>SalesID</th>\n",
              "      <th>MachineID</th>\n",
              "      <th>fiModelDescriptor</th>\n",
              "      <th>ProductGroup</th>\n",
              "      <th>Hydraulics</th>\n",
              "      <th>Drive_System</th>\n",
              "      <th>Tire_Size</th>\n",
              "    </tr>\n",
              "  </thead>\n",
              "  <tbody>\n",
              "    <tr>\n",
              "      <th>22915</th>\n",
              "      <td>1000</td>\n",
              "      <td>3</td>\n",
              "      <td>48</td>\n",
              "      <td>4124</td>\n",
              "      <td>0</td>\n",
              "      <td>1.317600e+09</td>\n",
              "      <td>43</td>\n",
              "      <td>0</td>\n",
              "      <td>2301</td>\n",
              "      <td>1</td>\n",
              "      <td>1218822</td>\n",
              "      <td>1024652</td>\n",
              "      <td>0</td>\n",
              "      <td>5</td>\n",
              "      <td>1</td>\n",
              "      <td>0</td>\n",
              "      <td>0</td>\n",
              "    </tr>\n",
              "  </tbody>\n",
              "</table>\n",
              "</div>\n",
              "      <button class=\"colab-df-convert\" onclick=\"convertToInteractive('df-601e1071-73cd-43f7-90df-53b2a636a753')\"\n",
              "              title=\"Convert this dataframe to an interactive table.\"\n",
              "              style=\"display:none;\">\n",
              "        \n",
              "  <svg xmlns=\"http://www.w3.org/2000/svg\" height=\"24px\"viewBox=\"0 0 24 24\"\n",
              "       width=\"24px\">\n",
              "    <path d=\"M0 0h24v24H0V0z\" fill=\"none\"/>\n",
              "    <path d=\"M18.56 5.44l.94 2.06.94-2.06 2.06-.94-2.06-.94-.94-2.06-.94 2.06-2.06.94zm-11 1L8.5 8.5l.94-2.06 2.06-.94-2.06-.94L8.5 2.5l-.94 2.06-2.06.94zm10 10l.94 2.06.94-2.06 2.06-.94-2.06-.94-.94-2.06-.94 2.06-2.06.94z\"/><path d=\"M17.41 7.96l-1.37-1.37c-.4-.4-.92-.59-1.43-.59-.52 0-1.04.2-1.43.59L10.3 9.45l-7.72 7.72c-.78.78-.78 2.05 0 2.83L4 21.41c.39.39.9.59 1.41.59.51 0 1.02-.2 1.41-.59l7.78-7.78 2.81-2.81c.8-.78.8-2.07 0-2.86zM5.41 20L4 18.59l7.72-7.72 1.47 1.35L5.41 20z\"/>\n",
              "  </svg>\n",
              "      </button>\n",
              "      \n",
              "  <style>\n",
              "    .colab-df-container {\n",
              "      display:flex;\n",
              "      flex-wrap:wrap;\n",
              "      gap: 12px;\n",
              "    }\n",
              "\n",
              "    .colab-df-convert {\n",
              "      background-color: #E8F0FE;\n",
              "      border: none;\n",
              "      border-radius: 50%;\n",
              "      cursor: pointer;\n",
              "      display: none;\n",
              "      fill: #1967D2;\n",
              "      height: 32px;\n",
              "      padding: 0 0 0 0;\n",
              "      width: 32px;\n",
              "    }\n",
              "\n",
              "    .colab-df-convert:hover {\n",
              "      background-color: #E2EBFA;\n",
              "      box-shadow: 0px 1px 2px rgba(60, 64, 67, 0.3), 0px 1px 3px 1px rgba(60, 64, 67, 0.15);\n",
              "      fill: #174EA6;\n",
              "    }\n",
              "\n",
              "    [theme=dark] .colab-df-convert {\n",
              "      background-color: #3B4455;\n",
              "      fill: #D2E3FC;\n",
              "    }\n",
              "\n",
              "    [theme=dark] .colab-df-convert:hover {\n",
              "      background-color: #434B5C;\n",
              "      box-shadow: 0px 1px 3px 1px rgba(0, 0, 0, 0.15);\n",
              "      filter: drop-shadow(0px 1px 2px rgba(0, 0, 0, 0.3));\n",
              "      fill: #FFFFFF;\n",
              "    }\n",
              "  </style>\n",
              "\n",
              "      <script>\n",
              "        const buttonEl =\n",
              "          document.querySelector('#df-601e1071-73cd-43f7-90df-53b2a636a753 button.colab-df-convert');\n",
              "        buttonEl.style.display =\n",
              "          google.colab.kernel.accessAllowed ? 'block' : 'none';\n",
              "\n",
              "        async function convertToInteractive(key) {\n",
              "          const element = document.querySelector('#df-601e1071-73cd-43f7-90df-53b2a636a753');\n",
              "          const dataTable =\n",
              "            await google.colab.kernel.invokeFunction('convertToInteractive',\n",
              "                                                     [key], {});\n",
              "          if (!dataTable) return;\n",
              "\n",
              "          const docLinkHtml = 'Like what you see? Visit the ' +\n",
              "            '<a target=\"_blank\" href=https://colab.research.google.com/notebooks/data_table.ipynb>data table notebook</a>'\n",
              "            + ' to learn more about interactive tables.';\n",
              "          element.innerHTML = '';\n",
              "          dataTable['output_type'] = 'display_data';\n",
              "          await google.colab.output.renderOutput(dataTable, element);\n",
              "          const docLink = document.createElement('div');\n",
              "          docLink.innerHTML = docLinkHtml;\n",
              "          element.appendChild(docLink);\n",
              "        }\n",
              "      </script>\n",
              "    </div>\n",
              "  </div>\n",
              "  "
            ]
          },
          "metadata": {},
          "execution_count": 95
        }
      ]
    },
    {
      "cell_type": "markdown",
      "source": [
        "# Neural Network"
      ],
      "metadata": {
        "id": "rBjTjc8EtN5Y"
      }
    },
    {
      "cell_type": "code",
      "source": [
        "xs_final.shape"
      ],
      "metadata": {
        "colab": {
          "base_uri": "https://localhost:8080/"
        },
        "id": "kfe7D02M0l9v",
        "outputId": "99d4e691-8e8f-4fe0-c098-7c51f589ec23"
      },
      "execution_count": null,
      "outputs": [
        {
          "output_type": "execute_result",
          "data": {
            "text/plain": [
              "(404710, 17)"
            ]
          },
          "metadata": {},
          "execution_count": 96
        }
      ]
    },
    {
      "cell_type": "code",
      "source": [
        "time_vars = ['SalesID', 'MachineID']\n",
        "xs_final_time = xs_final.drop(time_vars, axis = 1)\n",
        "valid_xs_time = valid_xs_final.drop(time_vars, axis = 1)"
      ],
      "metadata": {
        "id": "RKdAE16px2S3"
      },
      "execution_count": null,
      "outputs": []
    },
    {
      "cell_type": "code",
      "source": [
        "xs_final_time.shape"
      ],
      "metadata": {
        "colab": {
          "base_uri": "https://localhost:8080/"
        },
        "id": "50sc4YrvBSnb",
        "outputId": "e0135f4c-46f9-47cb-8e45-7bfa48602a73"
      },
      "execution_count": null,
      "outputs": [
        {
          "output_type": "execute_result",
          "data": {
            "text/plain": [
              "(404710, 15)"
            ]
          },
          "metadata": {},
          "execution_count": 98
        }
      ]
    },
    {
      "cell_type": "code",
      "source": [
        "m = rf(xs_final_time, y)\n",
        "rmse(m, valid_xs_time, valid_y)"
      ],
      "metadata": {
        "colab": {
          "base_uri": "https://localhost:8080/"
        },
        "id": "XiTypqBuBYib",
        "outputId": "5f9403c5-2d16-498c-8b2c-4cdf801c8432"
      },
      "execution_count": null,
      "outputs": [
        {
          "output_type": "execute_result",
          "data": {
            "text/plain": [
              "0.229144"
            ]
          },
          "metadata": {},
          "execution_count": 99
        }
      ]
    },
    {
      "cell_type": "code",
      "source": [
        "filt = xs['saleYear'] > 2004\n",
        "xs_filt = xs_final_time[filt]\n",
        "y_filt = y[filt]"
      ],
      "metadata": {
        "id": "Kq51ZKT4ELpl"
      },
      "execution_count": null,
      "outputs": []
    },
    {
      "cell_type": "code",
      "source": [
        "# redo the preprocessing above\n",
        "df_nn = pd.read_csv(path/'TrainAndValid.csv', low_memory = False)\n",
        "df_nn['ProductSize'] = df_nn['ProductSize'].astype('category')\n",
        "df_nn['ProductSize'].cat.set_categories(sizes, ordered = True, inplace = True)\n",
        "df_nn[dep_var] = np.log(df_nn[dep_var])\n",
        "df_nn = add_datepart(df_nn, 'saledate')"
      ],
      "metadata": {
        "id": "jfuxx_DTi-Cl"
      },
      "execution_count": null,
      "outputs": []
    },
    {
      "cell_type": "code",
      "source": [
        "xs_filt2 = xs_filt.drop('fiModelDescriptor', axis = 1)\n",
        "valid_xs_time2 = valid_xs_final.drop('fiModelDescriptor', axis = 1)"
      ],
      "metadata": {
        "id": "EGULkEhwCRqo"
      },
      "execution_count": null,
      "outputs": []
    },
    {
      "cell_type": "code",
      "source": [
        "m2 = rf(xs_filt2, y_filt)\n",
        "rmse(m2, xs_filt2, y_filt)"
      ],
      "metadata": {
        "colab": {
          "base_uri": "https://localhost:8080/"
        },
        "id": "-ecIZEfMCmOY",
        "outputId": "b7dc8a86-748c-4517-860e-fe42d96f04db"
      },
      "execution_count": null,
      "outputs": [
        {
          "output_type": "execute_result",
          "data": {
            "text/plain": [
              "0.176935"
            ]
          },
          "metadata": {},
          "execution_count": 103
        }
      ]
    },
    {
      "cell_type": "code",
      "source": [
        "list(xs_filt2.columns)"
      ],
      "metadata": {
        "colab": {
          "base_uri": "https://localhost:8080/"
        },
        "id": "pWpvCW3tgACS",
        "outputId": "eb12fa7f-faf0-4a13-ed95-6e1b6f85cb2b"
      },
      "execution_count": null,
      "outputs": [
        {
          "output_type": "execute_result",
          "data": {
            "text/plain": [
              "['YearMade',\n",
              " 'ProductSize',\n",
              " 'fiProductClassDesc',\n",
              " 'ModelID',\n",
              " 'Grouser_Tracks',\n",
              " 'saleElapsed',\n",
              " 'fiSecondaryDesc',\n",
              " 'Hydraulics_Flow',\n",
              " 'fiModelDesc',\n",
              " 'Enclosure',\n",
              " 'ProductGroup',\n",
              " 'Hydraulics',\n",
              " 'Drive_System',\n",
              " 'Tire_Size']"
            ]
          },
          "metadata": {},
          "execution_count": 104
        }
      ]
    },
    {
      "cell_type": "code",
      "source": [
        "# select only necessary columns for deep learning\n",
        "df_nn_final = df_nn[list(xs_filt2.columns) + [dep_var]]"
      ],
      "metadata": {
        "id": "oU3kiOEhBpeO"
      },
      "execution_count": null,
      "outputs": []
    },
    {
      "cell_type": "code",
      "source": [
        "df_nn_final.shape"
      ],
      "metadata": {
        "id": "nU0TzihMyfJN",
        "colab": {
          "base_uri": "https://localhost:8080/"
        },
        "outputId": "48aed775-1fd1-46d2-8f06-9f0458df1318"
      },
      "execution_count": null,
      "outputs": [
        {
          "output_type": "execute_result",
          "data": {
            "text/plain": [
              "(412698, 15)"
            ]
          },
          "metadata": {},
          "execution_count": 106
        }
      ]
    },
    {
      "cell_type": "code",
      "source": [
        "cont_nn, cat_nn = cont_cat_split(df_nn_final, max_card =9000, dep_var = dep_var) "
      ],
      "metadata": {
        "id": "-OtmLwnrB8NM"
      },
      "execution_count": null,
      "outputs": []
    },
    {
      "cell_type": "code",
      "source": [
        "cont_nn"
      ],
      "metadata": {
        "colab": {
          "base_uri": "https://localhost:8080/"
        },
        "id": "GeLPU7OGCO3g",
        "outputId": "800fb67d-532d-4417-f4bf-271b6049b98c"
      },
      "execution_count": null,
      "outputs": [
        {
          "output_type": "execute_result",
          "data": {
            "text/plain": [
              "['saleElapsed']"
            ]
          },
          "metadata": {},
          "execution_count": 108
        }
      ]
    },
    {
      "cell_type": "code",
      "source": [
        "cat_nn"
      ],
      "metadata": {
        "colab": {
          "base_uri": "https://localhost:8080/"
        },
        "id": "1dWkUVNGCPfy",
        "outputId": "219537a6-0f34-489c-cc85-80c71e77026c"
      },
      "execution_count": null,
      "outputs": [
        {
          "output_type": "execute_result",
          "data": {
            "text/plain": [
              "['YearMade',\n",
              " 'ProductSize',\n",
              " 'fiProductClassDesc',\n",
              " 'ModelID',\n",
              " 'Grouser_Tracks',\n",
              " 'fiSecondaryDesc',\n",
              " 'Hydraulics_Flow',\n",
              " 'fiModelDesc',\n",
              " 'Enclosure',\n",
              " 'ProductGroup',\n",
              " 'Hydraulics',\n",
              " 'Drive_System',\n",
              " 'Tire_Size']"
            ]
          },
          "metadata": {},
          "execution_count": 109
        }
      ]
    },
    {
      "cell_type": "code",
      "source": [
        "procs_nn = [Categorify, FillMissing, Normalize]\n",
        "to_nn = TabularPandas(df_nn_final, procs_nn, cat_nn, cont_nn,\n",
        "                      splits=splits, y_names=dep_var)"
      ],
      "metadata": {
        "id": "TJYuMF1TGw3q"
      },
      "execution_count": null,
      "outputs": []
    },
    {
      "cell_type": "code",
      "source": [
        "dls = to_nn.dataloaders(1024)"
      ],
      "metadata": {
        "id": "8EbF8zH0HKxG"
      },
      "execution_count": null,
      "outputs": []
    },
    {
      "cell_type": "code",
      "source": [
        "y = to_nn.train.y\n",
        "y.min(), y.max()"
      ],
      "metadata": {
        "colab": {
          "base_uri": "https://localhost:8080/"
        },
        "id": "bpxEr9cSHWEf",
        "outputId": "24fee51a-7e18-422d-920c-df4108a8fcdd"
      },
      "execution_count": null,
      "outputs": [
        {
          "output_type": "execute_result",
          "data": {
            "text/plain": [
              "(8.465899, 11.863583)"
            ]
          },
          "metadata": {},
          "execution_count": 112
        }
      ]
    },
    {
      "cell_type": "code",
      "source": [
        "# 2 layers: 1 layer with 500 neurons, 1 layer with 250 neurons\n",
        "# 1 output\n",
        "# mse_loss as this is the prediction on continuous value (regression)\n",
        "learn = tabular_learner(dls, y_range = (8, 12), layers = [500, 250],\n",
        "                        n_out = 1, loss_func = F.mse_loss)"
      ],
      "metadata": {
        "id": "A5EImPUNHc-I"
      },
      "execution_count": null,
      "outputs": []
    },
    {
      "cell_type": "code",
      "source": [
        "# find the perfect learning rate\n",
        "learn.lr_find()"
      ],
      "metadata": {
        "colab": {
          "base_uri": "https://localhost:8080/",
          "height": 307
        },
        "id": "_tCbMiAcHttT",
        "outputId": "b2a80788-547c-4494-88d0-f62e8469eb97"
      },
      "execution_count": null,
      "outputs": [
        {
          "output_type": "display_data",
          "data": {
            "text/plain": [
              "<IPython.core.display.HTML object>"
            ],
            "text/html": [
              "\n",
              "<style>\n",
              "    /* Turns off some styling */\n",
              "    progress {\n",
              "        /* gets rid of default border in Firefox and Opera. */\n",
              "        border: none;\n",
              "        /* Needs to be in here for Safari polyfill so background images work as expected. */\n",
              "        background-size: auto;\n",
              "    }\n",
              "    progress:not([value]), progress:not([value])::-webkit-progress-bar {\n",
              "        background: repeating-linear-gradient(45deg, #7e7e7e, #7e7e7e 10px, #5c5c5c 10px, #5c5c5c 20px);\n",
              "    }\n",
              "    .progress-bar-interrupted, .progress-bar-interrupted::-webkit-progress-bar {\n",
              "        background: #F44336;\n",
              "    }\n",
              "</style>\n"
            ]
          },
          "metadata": {}
        },
        {
          "output_type": "display_data",
          "data": {
            "text/plain": [
              "<IPython.core.display.HTML object>"
            ],
            "text/html": []
          },
          "metadata": {}
        },
        {
          "output_type": "execute_result",
          "data": {
            "text/plain": [
              "SuggestedLRs(valley=0.00019054606673307717)"
            ]
          },
          "metadata": {},
          "execution_count": 114
        },
        {
          "output_type": "display_data",
          "data": {
            "text/plain": [
              "<Figure size 432x288 with 1 Axes>"
            ],
            "image/png": "[encoded data removed]"
          },
          "metadata": {
            "needs_background": "light"
          }
        }
      ]
    },
    {
      "cell_type": "code",
      "source": [
        "learn.fit_one_cycle(5, 1e-2)"
      ],
      "metadata": {
        "colab": {
          "base_uri": "https://localhost:8080/",
          "height": 206
        },
        "id": "HSCsY4YZIZJg",
        "outputId": "65231eb9-f3f2-4629-f436-c24b36a10fa5"
      },
      "execution_count": null,
      "outputs": [
        {
          "output_type": "display_data",
          "data": {
            "text/plain": [
              "<IPython.core.display.HTML object>"
            ],
            "text/html": [
              "\n",
              "<style>\n",
              "    /* Turns off some styling */\n",
              "    progress {\n",
              "        /* gets rid of default border in Firefox and Opera. */\n",
              "        border: none;\n",
              "        /* Needs to be in here for Safari polyfill so background images work as expected. */\n",
              "        background-size: auto;\n",
              "    }\n",
              "    progress:not([value]), progress:not([value])::-webkit-progress-bar {\n",
              "        background: repeating-linear-gradient(45deg, #7e7e7e, #7e7e7e 10px, #5c5c5c 10px, #5c5c5c 20px);\n",
              "    }\n",
              "    .progress-bar-interrupted, .progress-bar-interrupted::-webkit-progress-bar {\n",
              "        background: #F44336;\n",
              "    }\n",
              "</style>\n"
            ]
          },
          "metadata": {}
        },
        {
          "output_type": "display_data",
          "data": {
            "text/plain": [
              "<IPython.core.display.HTML object>"
            ],
            "text/html": [
              "<table border=\"1\" class=\"dataframe\">\n",
              "  <thead>\n",
              "    <tr style=\"text-align: left;\">\n",
              "      <th>epoch</th>\n",
              "      <th>train_loss</th>\n",
              "      <th>valid_loss</th>\n",
              "      <th>time</th>\n",
              "    </tr>\n",
              "  </thead>\n",
              "  <tbody>\n",
              "    <tr>\n",
              "      <td>0</td>\n",
              "      <td>0.063065</td>\n",
              "      <td>0.066051</td>\n",
              "      <td>00:04</td>\n",
              "    </tr>\n",
              "    <tr>\n",
              "      <td>1</td>\n",
              "      <td>0.054389</td>\n",
              "      <td>0.054652</td>\n",
              "      <td>00:04</td>\n",
              "    </tr>\n",
              "    <tr>\n",
              "      <td>2</td>\n",
              "      <td>0.047541</td>\n",
              "      <td>0.059708</td>\n",
              "      <td>00:04</td>\n",
              "    </tr>\n",
              "    <tr>\n",
              "      <td>3</td>\n",
              "      <td>0.043461</td>\n",
              "      <td>0.050605</td>\n",
              "      <td>00:04</td>\n",
              "    </tr>\n",
              "    <tr>\n",
              "      <td>4</td>\n",
              "      <td>0.040285</td>\n",
              "      <td>0.049978</td>\n",
              "      <td>00:04</td>\n",
              "    </tr>\n",
              "  </tbody>\n",
              "</table>"
            ]
          },
          "metadata": {}
        }
      ]
    },
    {
      "cell_type": "code",
      "source": [
        "# final result\n",
        "preds, targets = learn.get_preds()\n",
        "np.sqrt(mean_squared_error(preds, targets))"
      ],
      "metadata": {
        "colab": {
          "base_uri": "https://localhost:8080/",
          "height": 35
        },
        "id": "jXKd_uJkIl4E",
        "outputId": "c195ff3b-565c-42e9-9041-b0b804390a64"
      },
      "execution_count": null,
      "outputs": [
        {
          "output_type": "display_data",
          "data": {
            "text/plain": [
              "<IPython.core.display.HTML object>"
            ],
            "text/html": [
              "\n",
              "<style>\n",
              "    /* Turns off some styling */\n",
              "    progress {\n",
              "        /* gets rid of default border in Firefox and Opera. */\n",
              "        border: none;\n",
              "        /* Needs to be in here for Safari polyfill so background images work as expected. */\n",
              "        background-size: auto;\n",
              "    }\n",
              "    progress:not([value]), progress:not([value])::-webkit-progress-bar {\n",
              "        background: repeating-linear-gradient(45deg, #7e7e7e, #7e7e7e 10px, #5c5c5c 10px, #5c5c5c 20px);\n",
              "    }\n",
              "    .progress-bar-interrupted, .progress-bar-interrupted::-webkit-progress-bar {\n",
              "        background: #F44336;\n",
              "    }\n",
              "</style>\n"
            ]
          },
          "metadata": {}
        },
        {
          "output_type": "display_data",
          "data": {
            "text/plain": [
              "<IPython.core.display.HTML object>"
            ],
            "text/html": []
          },
          "metadata": {}
        },
        {
          "output_type": "execute_result",
          "data": {
            "text/plain": [
              "0.22355674"
            ]
          },
          "metadata": {},
          "execution_count": 116
        }
      ]
    },
    {
      "cell_type": "code",
      "source": [
        "# view predictions vs actual\n",
        "pd.DataFrame({'preds': preds[:10].flatten().tolist(), \n",
        "              'actual': targets[:10].flatten().tolist(),\n",
        "              'diff': (preds[:10] - targets[:10]).flatten().tolist()})"
      ],
      "metadata": {
        "colab": {
          "base_uri": "https://localhost:8080/",
          "height": 363
        },
        "id": "evSa0nXZIx7x",
        "outputId": "fb7314e0-8b78-4fb4-bf75-2a8538597fdc"
      },
      "execution_count": null,
      "outputs": [
        {
          "output_type": "execute_result",
          "data": {
            "text/plain": [
              "       preds     actual      diff\n",
              "0  10.220573  10.043249  0.177324\n",
              "1  10.051466  10.085809 -0.034343\n",
              "2   9.408136   9.392662  0.015474\n",
              "3   9.014004   8.853665  0.160338\n",
              "4  10.156481  10.126631  0.029850\n",
              "5  10.593889  10.518673  0.075216\n",
              "6   9.700245   9.581903  0.118341\n",
              "7   9.700245   9.472705  0.227540\n",
              "8  10.347047  10.275051  0.071996\n",
              "9  11.067547  11.082143 -0.014596"
            ],
            "text/html": [
              "\n",
              "  <div id=\"df-b5e3562e-cb10-48b5-9232-1ffd7f7b8687\">\n",
              "    <div class=\"colab-df-container\">\n",
              "      <div>\n",
              "<style scoped>\n",
              "    .dataframe tbody tr th:only-of-type {\n",
              "        vertical-align: middle;\n",
              "    }\n",
              "\n",
              "    .dataframe tbody tr th {\n",
              "        vertical-align: top;\n",
              "    }\n",
              "\n",
              "    .dataframe thead th {\n",
              "        text-align: right;\n",
              "    }\n",
              "</style>\n",
              "<table border=\"1\" class=\"dataframe\">\n",
              "  <thead>\n",
              "    <tr style=\"text-align: right;\">\n",
              "      <th></th>\n",
              "      <th>preds</th>\n",
              "      <th>actual</th>\n",
              "      <th>diff</th>\n",
              "    </tr>\n",
              "  </thead>\n",
              "  <tbody>\n",
              "    <tr>\n",
              "      <th>0</th>\n",
              "      <td>10.220573</td>\n",
              "      <td>10.043249</td>\n",
              "      <td>0.177324</td>\n",
              "    </tr>\n",
              "    <tr>\n",
              "      <th>1</th>\n",
              "      <td>10.051466</td>\n",
              "      <td>10.085809</td>\n",
              "      <td>-0.034343</td>\n",
              "    </tr>\n",
              "    <tr>\n",
              "      <th>2</th>\n",
              "      <td>9.408136</td>\n",
              "      <td>9.392662</td>\n",
              "      <td>0.015474</td>\n",
              "    </tr>\n",
              "    <tr>\n",
              "      <th>3</th>\n",
              "      <td>9.014004</td>\n",
              "      <td>8.853665</td>\n",
              "      <td>0.160338</td>\n",
              "    </tr>\n",
              "    <tr>\n",
              "      <th>4</th>\n",
              "      <td>10.156481</td>\n",
              "      <td>10.126631</td>\n",
              "      <td>0.029850</td>\n",
              "    </tr>\n",
              "    <tr>\n",
              "      <th>5</th>\n",
              "      <td>10.593889</td>\n",
              "      <td>10.518673</td>\n",
              "      <td>0.075216</td>\n",
              "    </tr>\n",
              "    <tr>\n",
              "      <th>6</th>\n",
              "      <td>9.700245</td>\n",
              "      <td>9.581903</td>\n",
              "      <td>0.118341</td>\n",
              "    </tr>\n",
              "    <tr>\n",
              "      <th>7</th>\n",
              "      <td>9.700245</td>\n",
              "      <td>9.472705</td>\n",
              "      <td>0.227540</td>\n",
              "    </tr>\n",
              "    <tr>\n",
              "      <th>8</th>\n",
              "      <td>10.347047</td>\n",
              "      <td>10.275051</td>\n",
              "      <td>0.071996</td>\n",
              "    </tr>\n",
              "    <tr>\n",
              "      <th>9</th>\n",
              "      <td>11.067547</td>\n",
              "      <td>11.082143</td>\n",
              "      <td>-0.014596</td>\n",
              "    </tr>\n",
              "  </tbody>\n",
              "</table>\n",
              "</div>\n",
              "      <button class=\"colab-df-convert\" onclick=\"convertToInteractive('df-b5e3562e-cb10-48b5-9232-1ffd7f7b8687')\"\n",
              "              title=\"Convert this dataframe to an interactive table.\"\n",
              "              style=\"display:none;\">\n",
              "        \n",
              "  <svg xmlns=\"http://www.w3.org/2000/svg\" height=\"24px\"viewBox=\"0 0 24 24\"\n",
              "       width=\"24px\">\n",
              "    <path d=\"M0 0h24v24H0V0z\" fill=\"none\"/>\n",
              "    <path d=\"M18.56 5.44l.94 2.06.94-2.06 2.06-.94-2.06-.94-.94-2.06-.94 2.06-2.06.94zm-11 1L8.5 8.5l.94-2.06 2.06-.94-2.06-.94L8.5 2.5l-.94 2.06-2.06.94zm10 10l.94 2.06.94-2.06 2.06-.94-2.06-.94-.94-2.06-.94 2.06-2.06.94z\"/><path d=\"M17.41 7.96l-1.37-1.37c-.4-.4-.92-.59-1.43-.59-.52 0-1.04.2-1.43.59L10.3 9.45l-7.72 7.72c-.78.78-.78 2.05 0 2.83L4 21.41c.39.39.9.59 1.41.59.51 0 1.02-.2 1.41-.59l7.78-7.78 2.81-2.81c.8-.78.8-2.07 0-2.86zM5.41 20L4 18.59l7.72-7.72 1.47 1.35L5.41 20z\"/>\n",
              "  </svg>\n",
              "      </button>\n",
              "      \n",
              "  <style>\n",
              "    .colab-df-container {\n",
              "      display:flex;\n",
              "      flex-wrap:wrap;\n",
              "      gap: 12px;\n",
              "    }\n",
              "\n",
              "    .colab-df-convert {\n",
              "      background-color: #E8F0FE;\n",
              "      border: none;\n",
              "      border-radius: 50%;\n",
              "      cursor: pointer;\n",
              "      display: none;\n",
              "      fill: #1967D2;\n",
              "      height: 32px;\n",
              "      padding: 0 0 0 0;\n",
              "      width: 32px;\n",
              "    }\n",
              "\n",
              "    .colab-df-convert:hover {\n",
              "      background-color: #E2EBFA;\n",
              "      box-shadow: 0px 1px 2px rgba(60, 64, 67, 0.3), 0px 1px 3px 1px rgba(60, 64, 67, 0.15);\n",
              "      fill: #174EA6;\n",
              "    }\n",
              "\n",
              "    [theme=dark] .colab-df-convert {\n",
              "      background-color: #3B4455;\n",
              "      fill: #D2E3FC;\n",
              "    }\n",
              "\n",
              "    [theme=dark] .colab-df-convert:hover {\n",
              "      background-color: #434B5C;\n",
              "      box-shadow: 0px 1px 3px 1px rgba(0, 0, 0, 0.15);\n",
              "      filter: drop-shadow(0px 1px 2px rgba(0, 0, 0, 0.3));\n",
              "      fill: #FFFFFF;\n",
              "    }\n",
              "  </style>\n",
              "\n",
              "      <script>\n",
              "        const buttonEl =\n",
              "          document.querySelector('#df-b5e3562e-cb10-48b5-9232-1ffd7f7b8687 button.colab-df-convert');\n",
              "        buttonEl.style.display =\n",
              "          google.colab.kernel.accessAllowed ? 'block' : 'none';\n",
              "\n",
              "        async function convertToInteractive(key) {\n",
              "          const element = document.querySelector('#df-b5e3562e-cb10-48b5-9232-1ffd7f7b8687');\n",
              "          const dataTable =\n",
              "            await google.colab.kernel.invokeFunction('convertToInteractive',\n",
              "                                                     [key], {});\n",
              "          if (!dataTable) return;\n",
              "\n",
              "          const docLinkHtml = 'Like what you see? Visit the ' +\n",
              "            '<a target=\"_blank\" href=https://colab.research.google.com/notebooks/data_table.ipynb>data table notebook</a>'\n",
              "            + ' to learn more about interactive tables.';\n",
              "          element.innerHTML = '';\n",
              "          dataTable['output_type'] = 'display_data';\n",
              "          await google.colab.output.renderOutput(dataTable, element);\n",
              "          const docLink = document.createElement('div');\n",
              "          docLink.innerHTML = docLinkHtml;\n",
              "          element.appendChild(docLink);\n",
              "        }\n",
              "      </script>\n",
              "    </div>\n",
              "  </div>\n",
              "  "
            ]
          },
          "metadata": {},
          "execution_count": 117
        }
      ]
    },
    {
      "cell_type": "markdown",
      "source": [
        "## Export Model & Test "
      ],
      "metadata": {
        "id": "Xfz3QfpPlz0s"
      }
    },
    {
      "cell_type": "code",
      "source": [
        "# export model\n",
        "learn.export()"
      ],
      "metadata": {
        "id": "Z1MAUptbLgtM"
      },
      "execution_count": null,
      "outputs": []
    },
    {
      "cell_type": "code",
      "source": [
        "test = pd.read_csv(path/'Test.csv', low_memory = False)"
      ],
      "metadata": {
        "id": "x2H5YQgjjzNG"
      },
      "execution_count": null,
      "outputs": []
    },
    {
      "cell_type": "code",
      "source": [
        "test.head()"
      ],
      "metadata": {
        "colab": {
          "base_uri": "https://localhost:8080/",
          "height": 426
        },
        "id": "K36mmH_Lj2p6",
        "outputId": "9822999c-36ac-4c02-b69b-cd124254403b"
      },
      "execution_count": null,
      "outputs": [
        {
          "output_type": "execute_result",
          "data": {
            "text/plain": [
              "   SalesID  MachineID  ModelID  datasource  auctioneerID  YearMade  \\\n",
              "0  1227829    1006309     3168         121             3      1999   \n",
              "1  1227844    1022817     7271         121             3      1000   \n",
              "2  1227847    1031560    22805         121             3      2004   \n",
              "3  1227848      56204     1269         121             3      2006   \n",
              "4  1227863    1053887    22312         121             3      2005   \n",
              "\n",
              "   MachineHoursCurrentMeter UsageBand        saledate fiModelDesc fiBaseModel  \\\n",
              "0                    3688.0       Low   5/3/2012 0:00        580G         580   \n",
              "1                   28555.0      High  5/10/2012 0:00         936         936   \n",
              "2                    6038.0    Medium  5/10/2012 0:00    EC210BLC       EC210   \n",
              "3                    8940.0      High  5/10/2012 0:00       330CL         330   \n",
              "4                    2286.0       Low  5/10/2012 0:00        650K         650   \n",
              "\n",
              "  fiSecondaryDesc fiModelSeries fiModelDescriptor     ProductSize  \\\n",
              "0               G           NaN               NaN             NaN   \n",
              "1             NaN           NaN               NaN          Medium   \n",
              "2               B           NaN                LC  Large / Medium   \n",
              "3               C           NaN                 L  Large / Medium   \n",
              "4               K           NaN               NaN             NaN   \n",
              "\n",
              "                                        fiProductClassDesc       state  \\\n",
              "0  Backhoe Loader - 14.0 to 15.0 Ft Standard Digging Depth     Wyoming   \n",
              "1                 Wheel Loader - 135.0 to 150.0 Horsepower    Virginia   \n",
              "2    Hydraulic Excavator, Track - 21.0 to 24.0 Metric Tons  New Jersey   \n",
              "3    Hydraulic Excavator, Track - 33.0 to 40.0 Metric Tons  New Jersey   \n",
              "4      Track Type Tractor, Dozer - 20.0 to 75.0 Horsepower     Florida   \n",
              "\n",
              "  ProductGroup     ProductGroupDesc     Drive_System   Enclosure Forks  \\\n",
              "0           BL      Backhoe Loaders  Two Wheel Drive       OROPS   Yes   \n",
              "1           WL         Wheel Loader              NaN       EROPS   Yes   \n",
              "2          TEX     Track Excavators              NaN  EROPS w AC   NaN   \n",
              "3          TEX     Track Excavators              NaN  EROPS w AC   NaN   \n",
              "4          TTT  Track Type Tractors              NaN       OROPS   NaN   \n",
              "\n",
              "              Pad_Type         Ride_Control     Stick Transmission  \\\n",
              "0  None or Unspecified                   No  Standard     Standard   \n",
              "1                  NaN  None or Unspecified       NaN          NaN   \n",
              "2                  NaN                  NaN       NaN          NaN   \n",
              "3                  NaN                  NaN       NaN          NaN   \n",
              "4                  NaN                  NaN       NaN  Hydrostatic   \n",
              "\n",
              "          Turbocharged Blade_Extension Blade_Width Enclosure_Type  \\\n",
              "0  None or Unspecified             NaN         NaN            NaN   \n",
              "1                  NaN             NaN         NaN            NaN   \n",
              "2                  NaN             NaN         NaN            NaN   \n",
              "3                  NaN             NaN         NaN            NaN   \n",
              "4                  NaN             NaN         NaN            NaN   \n",
              "\n",
              "  Engine_Horsepower Hydraulics Pushblock               Ripper Scarifier  \\\n",
              "0               NaN        NaN       NaN                  NaN       NaN   \n",
              "1               NaN    2 Valve       NaN                  NaN       NaN   \n",
              "2               NaN  Auxiliary       NaN                  NaN       NaN   \n",
              "3               NaN   Standard       NaN                  NaN       NaN   \n",
              "4               NaN    2 Valve       NaN  None or Unspecified       NaN   \n",
              "\n",
              "  Tip_Control Tire_Size              Coupler Coupler_System Grouser_Tracks  \\\n",
              "0         NaN       NaN                  NaN            NaN            NaN   \n",
              "1         NaN      20.5  None or Unspecified            NaN            NaN   \n",
              "2         NaN       NaN  None or Unspecified            NaN            NaN   \n",
              "3         NaN       NaN  None or Unspecified            NaN            NaN   \n",
              "4         NaN       NaN                  NaN            NaN            NaN   \n",
              "\n",
              "  Hydraulics_Flow Track_Type Undercarriage_Pad_Width         Stick_Length  \\\n",
              "0             NaN        NaN                     NaN                  NaN   \n",
              "1             NaN        NaN                     NaN                  NaN   \n",
              "2             NaN      Steel     None or Unspecified                9' 6\"   \n",
              "3             NaN      Steel     None or Unspecified  None or Unspecified   \n",
              "4             NaN        NaN                     NaN                  NaN   \n",
              "\n",
              "    Thumb      Pattern_Changer Grouser_Type     Backhoe_Mounting Blade_Type  \\\n",
              "0     NaN                  NaN          NaN                  NaN        NaN   \n",
              "1     NaN                  NaN          NaN                  NaN        NaN   \n",
              "2  Manual  None or Unspecified       Double                  NaN        NaN   \n",
              "3  Manual                  Yes       Triple                  NaN        NaN   \n",
              "4     NaN                  NaN          NaN  None or Unspecified        PAT   \n",
              "\n",
              "       Travel_Controls Differential_Type Steering_Controls  \n",
              "0                  NaN               NaN               NaN  \n",
              "1                  NaN          Standard      Conventional  \n",
              "2                  NaN               NaN               NaN  \n",
              "3                  NaN               NaN               NaN  \n",
              "4  None or Unspecified               NaN               NaN  "
            ],
            "text/html": [
              "\n",
              "  <div id=\"df-b3c32d21-1e9b-440a-ad69-8bc119f62e90\">\n",
              "    <div class=\"colab-df-container\">\n",
              "      <div>\n",
              "<style scoped>\n",
              "    .dataframe tbody tr th:only-of-type {\n",
              "        vertical-align: middle;\n",
              "    }\n",
              "\n",
              "    .dataframe tbody tr th {\n",
              "        vertical-align: top;\n",
              "    }\n",
              "\n",
              "    .dataframe thead th {\n",
              "        text-align: right;\n",
              "    }\n",
              "</style>\n",
              "<table border=\"1\" class=\"dataframe\">\n",
              "  <thead>\n",
              "    <tr style=\"text-align: right;\">\n",
              "      <th></th>\n",
              "      <th>SalesID</th>\n",
              "      <th>MachineID</th>\n",
              "      <th>ModelID</th>\n",
              "      <th>datasource</th>\n",
              "      <th>auctioneerID</th>\n",
              "      <th>YearMade</th>\n",
              "      <th>MachineHoursCurrentMeter</th>\n",
              "      <th>UsageBand</th>\n",
              "      <th>saledate</th>\n",
              "      <th>fiModelDesc</th>\n",
              "      <th>fiBaseModel</th>\n",
              "      <th>fiSecondaryDesc</th>\n",
              "      <th>fiModelSeries</th>\n",
              "      <th>fiModelDescriptor</th>\n",
              "      <th>ProductSize</th>\n",
              "      <th>fiProductClassDesc</th>\n",
              "      <th>state</th>\n",
              "      <th>ProductGroup</th>\n",
              "      <th>ProductGroupDesc</th>\n",
              "      <th>Drive_System</th>\n",
              "      <th>Enclosure</th>\n",
              "      <th>Forks</th>\n",
              "      <th>Pad_Type</th>\n",
              "      <th>Ride_Control</th>\n",
              "      <th>Stick</th>\n",
              "      <th>Transmission</th>\n",
              "      <th>Turbocharged</th>\n",
              "      <th>Blade_Extension</th>\n",
              "      <th>Blade_Width</th>\n",
              "      <th>Enclosure_Type</th>\n",
              "      <th>Engine_Horsepower</th>\n",
              "      <th>Hydraulics</th>\n",
              "      <th>Pushblock</th>\n",
              "      <th>Ripper</th>\n",
              "      <th>Scarifier</th>\n",
              "      <th>Tip_Control</th>\n",
              "      <th>Tire_Size</th>\n",
              "      <th>Coupler</th>\n",
              "      <th>Coupler_System</th>\n",
              "      <th>Grouser_Tracks</th>\n",
              "      <th>Hydraulics_Flow</th>\n",
              "      <th>Track_Type</th>\n",
              "      <th>Undercarriage_Pad_Width</th>\n",
              "      <th>Stick_Length</th>\n",
              "      <th>Thumb</th>\n",
              "      <th>Pattern_Changer</th>\n",
              "      <th>Grouser_Type</th>\n",
              "      <th>Backhoe_Mounting</th>\n",
              "      <th>Blade_Type</th>\n",
              "      <th>Travel_Controls</th>\n",
              "      <th>Differential_Type</th>\n",
              "      <th>Steering_Controls</th>\n",
              "    </tr>\n",
              "  </thead>\n",
              "  <tbody>\n",
              "    <tr>\n",
              "      <th>0</th>\n",
              "      <td>1227829</td>\n",
              "      <td>1006309</td>\n",
              "      <td>3168</td>\n",
              "      <td>121</td>\n",
              "      <td>3</td>\n",
              "      <td>1999</td>\n",
              "      <td>3688.0</td>\n",
              "      <td>Low</td>\n",
              "      <td>5/3/2012 0:00</td>\n",
              "      <td>580G</td>\n",
              "      <td>580</td>\n",
              "      <td>G</td>\n",
              "      <td>NaN</td>\n",
              "      <td>NaN</td>\n",
              "      <td>NaN</td>\n",
              "      <td>Backhoe Loader - 14.0 to 15.0 Ft Standard Digging Depth</td>\n",
              "      <td>Wyoming</td>\n",
              "      <td>BL</td>\n",
              "      <td>Backhoe Loaders</td>\n",
              "      <td>Two Wheel Drive</td>\n",
              "      <td>OROPS</td>\n",
              "      <td>Yes</td>\n",
              "      <td>None or Unspecified</td>\n",
              "      <td>No</td>\n",
              "      <td>Standard</td>\n",
              "      <td>Standard</td>\n",
              "      <td>None or Unspecified</td>\n",
              "      <td>NaN</td>\n",
              "      <td>NaN</td>\n",
              "      <td>NaN</td>\n",
              "      <td>NaN</td>\n",
              "      <td>NaN</td>\n",
              "      <td>NaN</td>\n",
              "      <td>NaN</td>\n",
              "      <td>NaN</td>\n",
              "      <td>NaN</td>\n",
              "      <td>NaN</td>\n",
              "      <td>NaN</td>\n",
              "      <td>NaN</td>\n",
              "      <td>NaN</td>\n",
              "      <td>NaN</td>\n",
              "      <td>NaN</td>\n",
              "      <td>NaN</td>\n",
              "      <td>NaN</td>\n",
              "      <td>NaN</td>\n",
              "      <td>NaN</td>\n",
              "      <td>NaN</td>\n",
              "      <td>NaN</td>\n",
              "      <td>NaN</td>\n",
              "      <td>NaN</td>\n",
              "      <td>NaN</td>\n",
              "      <td>NaN</td>\n",
              "    </tr>\n",
              "    <tr>\n",
              "      <th>1</th>\n",
              "      <td>1227844</td>\n",
              "      <td>1022817</td>\n",
              "      <td>7271</td>\n",
              "      <td>121</td>\n",
              "      <td>3</td>\n",
              "      <td>1000</td>\n",
              "      <td>28555.0</td>\n",
              "      <td>High</td>\n",
              "      <td>5/10/2012 0:00</td>\n",
              "      <td>936</td>\n",
              "      <td>936</td>\n",
              "      <td>NaN</td>\n",
              "      <td>NaN</td>\n",
              "      <td>NaN</td>\n",
              "      <td>Medium</td>\n",
              "      <td>Wheel Loader - 135.0 to 150.0 Horsepower</td>\n",
              "      <td>Virginia</td>\n",
              "      <td>WL</td>\n",
              "      <td>Wheel Loader</td>\n",
              "      <td>NaN</td>\n",
              "      <td>EROPS</td>\n",
              "      <td>Yes</td>\n",
              "      <td>NaN</td>\n",
              "      <td>None or Unspecified</td>\n",
              "      <td>NaN</td>\n",
              "      <td>NaN</td>\n",
              "      <td>NaN</td>\n",
              "      <td>NaN</td>\n",
              "      <td>NaN</td>\n",
              "      <td>NaN</td>\n",
              "      <td>NaN</td>\n",
              "      <td>2 Valve</td>\n",
              "      <td>NaN</td>\n",
              "      <td>NaN</td>\n",
              "      <td>NaN</td>\n",
              "      <td>NaN</td>\n",
              "      <td>20.5</td>\n",
              "      <td>None or Unspecified</td>\n",
              "      <td>NaN</td>\n",
              "      <td>NaN</td>\n",
              "      <td>NaN</td>\n",
              "      <td>NaN</td>\n",
              "      <td>NaN</td>\n",
              "      <td>NaN</td>\n",
              "      <td>NaN</td>\n",
              "      <td>NaN</td>\n",
              "      <td>NaN</td>\n",
              "      <td>NaN</td>\n",
              "      <td>NaN</td>\n",
              "      <td>NaN</td>\n",
              "      <td>Standard</td>\n",
              "      <td>Conventional</td>\n",
              "    </tr>\n",
              "    <tr>\n",
              "      <th>2</th>\n",
              "      <td>1227847</td>\n",
              "      <td>1031560</td>\n",
              "      <td>22805</td>\n",
              "      <td>121</td>\n",
              "      <td>3</td>\n",
              "      <td>2004</td>\n",
              "      <td>6038.0</td>\n",
              "      <td>Medium</td>\n",
              "      <td>5/10/2012 0:00</td>\n",
              "      <td>EC210BLC</td>\n",
              "      <td>EC210</td>\n",
              "      <td>B</td>\n",
              "      <td>NaN</td>\n",
              "      <td>LC</td>\n",
              "      <td>Large / Medium</td>\n",
              "      <td>Hydraulic Excavator, Track - 21.0 to 24.0 Metric Tons</td>\n",
              "      <td>New Jersey</td>\n",
              "      <td>TEX</td>\n",
              "      <td>Track Excavators</td>\n",
              "      <td>NaN</td>\n",
              "      <td>EROPS w AC</td>\n",
              "      <td>NaN</td>\n",
              "      <td>NaN</td>\n",
              "      <td>NaN</td>\n",
              "      <td>NaN</td>\n",
              "      <td>NaN</td>\n",
              "      <td>NaN</td>\n",
              "      <td>NaN</td>\n",
              "      <td>NaN</td>\n",
              "      <td>NaN</td>\n",
              "      <td>NaN</td>\n",
              "      <td>Auxiliary</td>\n",
              "      <td>NaN</td>\n",
              "      <td>NaN</td>\n",
              "      <td>NaN</td>\n",
              "      <td>NaN</td>\n",
              "      <td>NaN</td>\n",
              "      <td>None or Unspecified</td>\n",
              "      <td>NaN</td>\n",
              "      <td>NaN</td>\n",
              "      <td>NaN</td>\n",
              "      <td>Steel</td>\n",
              "      <td>None or Unspecified</td>\n",
              "      <td>9' 6\"</td>\n",
              "      <td>Manual</td>\n",
              "      <td>None or Unspecified</td>\n",
              "      <td>Double</td>\n",
              "      <td>NaN</td>\n",
              "      <td>NaN</td>\n",
              "      <td>NaN</td>\n",
              "      <td>NaN</td>\n",
              "      <td>NaN</td>\n",
              "    </tr>\n",
              "    <tr>\n",
              "      <th>3</th>\n",
              "      <td>1227848</td>\n",
              "      <td>56204</td>\n",
              "      <td>1269</td>\n",
              "      <td>121</td>\n",
              "      <td>3</td>\n",
              "      <td>2006</td>\n",
              "      <td>8940.0</td>\n",
              "      <td>High</td>\n",
              "      <td>5/10/2012 0:00</td>\n",
              "      <td>330CL</td>\n",
              "      <td>330</td>\n",
              "      <td>C</td>\n",
              "      <td>NaN</td>\n",
              "      <td>L</td>\n",
              "      <td>Large / Medium</td>\n",
              "      <td>Hydraulic Excavator, Track - 33.0 to 40.0 Metric Tons</td>\n",
              "      <td>New Jersey</td>\n",
              "      <td>TEX</td>\n",
              "      <td>Track Excavators</td>\n",
              "      <td>NaN</td>\n",
              "      <td>EROPS w AC</td>\n",
              "      <td>NaN</td>\n",
              "      <td>NaN</td>\n",
              "      <td>NaN</td>\n",
              "      <td>NaN</td>\n",
              "      <td>NaN</td>\n",
              "      <td>NaN</td>\n",
              "      <td>NaN</td>\n",
              "      <td>NaN</td>\n",
              "      <td>NaN</td>\n",
              "      <td>NaN</td>\n",
              "      <td>Standard</td>\n",
              "      <td>NaN</td>\n",
              "      <td>NaN</td>\n",
              "      <td>NaN</td>\n",
              "      <td>NaN</td>\n",
              "      <td>NaN</td>\n",
              "      <td>None or Unspecified</td>\n",
              "      <td>NaN</td>\n",
              "      <td>NaN</td>\n",
              "      <td>NaN</td>\n",
              "      <td>Steel</td>\n",
              "      <td>None or Unspecified</td>\n",
              "      <td>None or Unspecified</td>\n",
              "      <td>Manual</td>\n",
              "      <td>Yes</td>\n",
              "      <td>Triple</td>\n",
              "      <td>NaN</td>\n",
              "      <td>NaN</td>\n",
              "      <td>NaN</td>\n",
              "      <td>NaN</td>\n",
              "      <td>NaN</td>\n",
              "    </tr>\n",
              "    <tr>\n",
              "      <th>4</th>\n",
              "      <td>1227863</td>\n",
              "      <td>1053887</td>\n",
              "      <td>22312</td>\n",
              "      <td>121</td>\n",
              "      <td>3</td>\n",
              "      <td>2005</td>\n",
              "      <td>2286.0</td>\n",
              "      <td>Low</td>\n",
              "      <td>5/10/2012 0:00</td>\n",
              "      <td>650K</td>\n",
              "      <td>650</td>\n",
              "      <td>K</td>\n",
              "      <td>NaN</td>\n",
              "      <td>NaN</td>\n",
              "      <td>NaN</td>\n",
              "      <td>Track Type Tractor, Dozer - 20.0 to 75.0 Horsepower</td>\n",
              "      <td>Florida</td>\n",
              "      <td>TTT</td>\n",
              "      <td>Track Type Tractors</td>\n",
              "      <td>NaN</td>\n",
              "      <td>OROPS</td>\n",
              "      <td>NaN</td>\n",
              "      <td>NaN</td>\n",
              "      <td>NaN</td>\n",
              "      <td>NaN</td>\n",
              "      <td>Hydrostatic</td>\n",
              "      <td>NaN</td>\n",
              "      <td>NaN</td>\n",
              "      <td>NaN</td>\n",
              "      <td>NaN</td>\n",
              "      <td>NaN</td>\n",
              "      <td>2 Valve</td>\n",
              "      <td>NaN</td>\n",
              "      <td>None or Unspecified</td>\n",
              "      <td>NaN</td>\n",
              "      <td>NaN</td>\n",
              "      <td>NaN</td>\n",
              "      <td>NaN</td>\n",
              "      <td>NaN</td>\n",
              "      <td>NaN</td>\n",
              "      <td>NaN</td>\n",
              "      <td>NaN</td>\n",
              "      <td>NaN</td>\n",
              "      <td>NaN</td>\n",
              "      <td>NaN</td>\n",
              "      <td>NaN</td>\n",
              "      <td>NaN</td>\n",
              "      <td>None or Unspecified</td>\n",
              "      <td>PAT</td>\n",
              "      <td>None or Unspecified</td>\n",
              "      <td>NaN</td>\n",
              "      <td>NaN</td>\n",
              "    </tr>\n",
              "  </tbody>\n",
              "</table>\n",
              "</div>\n",
              "      <button class=\"colab-df-convert\" onclick=\"convertToInteractive('df-b3c32d21-1e9b-440a-ad69-8bc119f62e90')\"\n",
              "              title=\"Convert this dataframe to an interactive table.\"\n",
              "              style=\"display:none;\">\n",
              "        \n",
              "  <svg xmlns=\"http://www.w3.org/2000/svg\" height=\"24px\"viewBox=\"0 0 24 24\"\n",
              "       width=\"24px\">\n",
              "    <path d=\"M0 0h24v24H0V0z\" fill=\"none\"/>\n",
              "    <path d=\"M18.56 5.44l.94 2.06.94-2.06 2.06-.94-2.06-.94-.94-2.06-.94 2.06-2.06.94zm-11 1L8.5 8.5l.94-2.06 2.06-.94-2.06-.94L8.5 2.5l-.94 2.06-2.06.94zm10 10l.94 2.06.94-2.06 2.06-.94-2.06-.94-.94-2.06-.94 2.06-2.06.94z\"/><path d=\"M17.41 7.96l-1.37-1.37c-.4-.4-.92-.59-1.43-.59-.52 0-1.04.2-1.43.59L10.3 9.45l-7.72 7.72c-.78.78-.78 2.05 0 2.83L4 21.41c.39.39.9.59 1.41.59.51 0 1.02-.2 1.41-.59l7.78-7.78 2.81-2.81c.8-.78.8-2.07 0-2.86zM5.41 20L4 18.59l7.72-7.72 1.47 1.35L5.41 20z\"/>\n",
              "  </svg>\n",
              "      </button>\n",
              "      \n",
              "  <style>\n",
              "    .colab-df-container {\n",
              "      display:flex;\n",
              "      flex-wrap:wrap;\n",
              "      gap: 12px;\n",
              "    }\n",
              "\n",
              "    .colab-df-convert {\n",
              "      background-color: #E8F0FE;\n",
              "      border: none;\n",
              "      border-radius: 50%;\n",
              "      cursor: pointer;\n",
              "      display: none;\n",
              "      fill: #1967D2;\n",
              "      height: 32px;\n",
              "      padding: 0 0 0 0;\n",
              "      width: 32px;\n",
              "    }\n",
              "\n",
              "    .colab-df-convert:hover {\n",
              "      background-color: #E2EBFA;\n",
              "      box-shadow: 0px 1px 2px rgba(60, 64, 67, 0.3), 0px 1px 3px 1px rgba(60, 64, 67, 0.15);\n",
              "      fill: #174EA6;\n",
              "    }\n",
              "\n",
              "    [theme=dark] .colab-df-convert {\n",
              "      background-color: #3B4455;\n",
              "      fill: #D2E3FC;\n",
              "    }\n",
              "\n",
              "    [theme=dark] .colab-df-convert:hover {\n",
              "      background-color: #434B5C;\n",
              "      box-shadow: 0px 1px 3px 1px rgba(0, 0, 0, 0.15);\n",
              "      filter: drop-shadow(0px 1px 2px rgba(0, 0, 0, 0.3));\n",
              "      fill: #FFFFFF;\n",
              "    }\n",
              "  </style>\n",
              "\n",
              "      <script>\n",
              "        const buttonEl =\n",
              "          document.querySelector('#df-b3c32d21-1e9b-440a-ad69-8bc119f62e90 button.colab-df-convert');\n",
              "        buttonEl.style.display =\n",
              "          google.colab.kernel.accessAllowed ? 'block' : 'none';\n",
              "\n",
              "        async function convertToInteractive(key) {\n",
              "          const element = document.querySelector('#df-b3c32d21-1e9b-440a-ad69-8bc119f62e90');\n",
              "          const dataTable =\n",
              "            await google.colab.kernel.invokeFunction('convertToInteractive',\n",
              "                                                     [key], {});\n",
              "          if (!dataTable) return;\n",
              "\n",
              "          const docLinkHtml = 'Like what you see? Visit the ' +\n",
              "            '<a target=\"_blank\" href=https://colab.research.google.com/notebooks/data_table.ipynb>data table notebook</a>'\n",
              "            + ' to learn more about interactive tables.';\n",
              "          element.innerHTML = '';\n",
              "          dataTable['output_type'] = 'display_data';\n",
              "          await google.colab.output.renderOutput(dataTable, element);\n",
              "          const docLink = document.createElement('div');\n",
              "          docLink.innerHTML = docLinkHtml;\n",
              "          element.appendChild(docLink);\n",
              "        }\n",
              "      </script>\n",
              "    </div>\n",
              "  </div>\n",
              "  "
            ]
          },
          "metadata": {},
          "execution_count": 188
        }
      ]
    },
    {
      "cell_type": "code",
      "source": [
        "test = add_datepart(test, 'saledate')"
      ],
      "metadata": {
        "id": "_gNdVZ3Rj-s_"
      },
      "execution_count": null,
      "outputs": []
    },
    {
      "cell_type": "code",
      "source": [
        "dl =learn.dls.test_dl(test)"
      ],
      "metadata": {
        "id": "UL4NhXgSrqpC"
      },
      "execution_count": null,
      "outputs": []
    },
    {
      "cell_type": "code",
      "source": [
        "# test with the original data to see if the model works\n",
        "preds, _ = learn.get_preds(dl=dl)"
      ],
      "metadata": {
        "id": "7dCVjhUyfYIs",
        "colab": {
          "base_uri": "https://localhost:8080/",
          "height": 17
        },
        "outputId": "5c324d41-9c7c-4d83-ee5f-d213cfa15070"
      },
      "execution_count": null,
      "outputs": [
        {
          "output_type": "display_data",
          "data": {
            "text/plain": [
              "<IPython.core.display.HTML object>"
            ],
            "text/html": [
              "\n",
              "<style>\n",
              "    /* Turns off some styling */\n",
              "    progress {\n",
              "        /* gets rid of default border in Firefox and Opera. */\n",
              "        border: none;\n",
              "        /* Needs to be in here for Safari polyfill so background images work as expected. */\n",
              "        background-size: auto;\n",
              "    }\n",
              "    progress:not([value]), progress:not([value])::-webkit-progress-bar {\n",
              "        background: repeating-linear-gradient(45deg, #7e7e7e, #7e7e7e 10px, #5c5c5c 10px, #5c5c5c 20px);\n",
              "    }\n",
              "    .progress-bar-interrupted, .progress-bar-interrupted::-webkit-progress-bar {\n",
              "        background: #F44336;\n",
              "    }\n",
              "</style>\n"
            ]
          },
          "metadata": {}
        },
        {
          "output_type": "display_data",
          "data": {
            "text/plain": [
              "<IPython.core.display.HTML object>"
            ],
            "text/html": []
          },
          "metadata": {}
        }
      ]
    },
    {
      "cell_type": "code",
      "source": [
        "prediction = np.exp(preds).numpy()\n",
        "result = pd.concat([test['SalesID'], pd.DataFrame(np.round(prediction), columns = ['Predicted_Price'])], axis = 1)\n",
        "result"
      ],
      "metadata": {
        "colab": {
          "base_uri": "https://localhost:8080/",
          "height": 424
        },
        "id": "SgBwfOUekhwd",
        "outputId": "9e925248-a37e-413a-c528-6b0637562125"
      },
      "execution_count": null,
      "outputs": [
        {
          "output_type": "execute_result",
          "data": {
            "text/plain": [
              "       SalesID  Predicted_Price\n",
              "0      1227829          13466.0\n",
              "1      1227844          37167.0\n",
              "2      1227847          55474.0\n",
              "3      1227848          99938.0\n",
              "4      1227863          27145.0\n",
              "...        ...              ...\n",
              "12452  6643171          30215.0\n",
              "12453  6643173          10860.0\n",
              "12454  6643184          11282.0\n",
              "12455  6643186          12279.0\n",
              "12456  6643196          27225.0\n",
              "\n",
              "[12457 rows x 2 columns]"
            ],
            "text/html": [
              "\n",
              "  <div id=\"df-84ed61ce-efc6-4923-841d-e18ce3477641\">\n",
              "    <div class=\"colab-df-container\">\n",
              "      <div>\n",
              "<style scoped>\n",
              "    .dataframe tbody tr th:only-of-type {\n",
              "        vertical-align: middle;\n",
              "    }\n",
              "\n",
              "    .dataframe tbody tr th {\n",
              "        vertical-align: top;\n",
              "    }\n",
              "\n",
              "    .dataframe thead th {\n",
              "        text-align: right;\n",
              "    }\n",
              "</style>\n",
              "<table border=\"1\" class=\"dataframe\">\n",
              "  <thead>\n",
              "    <tr style=\"text-align: right;\">\n",
              "      <th></th>\n",
              "      <th>SalesID</th>\n",
              "      <th>Predicted_Price</th>\n",
              "    </tr>\n",
              "  </thead>\n",
              "  <tbody>\n",
              "    <tr>\n",
              "      <th>0</th>\n",
              "      <td>1227829</td>\n",
              "      <td>13466.0</td>\n",
              "    </tr>\n",
              "    <tr>\n",
              "      <th>1</th>\n",
              "      <td>1227844</td>\n",
              "      <td>37167.0</td>\n",
              "    </tr>\n",
              "    <tr>\n",
              "      <th>2</th>\n",
              "      <td>1227847</td>\n",
              "      <td>55474.0</td>\n",
              "    </tr>\n",
              "    <tr>\n",
              "      <th>3</th>\n",
              "      <td>1227848</td>\n",
              "      <td>99938.0</td>\n",
              "    </tr>\n",
              "    <tr>\n",
              "      <th>4</th>\n",
              "      <td>1227863</td>\n",
              "      <td>27145.0</td>\n",
              "    </tr>\n",
              "    <tr>\n",
              "      <th>...</th>\n",
              "      <td>...</td>\n",
              "      <td>...</td>\n",
              "    </tr>\n",
              "    <tr>\n",
              "      <th>12452</th>\n",
              "      <td>6643171</td>\n",
              "      <td>30215.0</td>\n",
              "    </tr>\n",
              "    <tr>\n",
              "      <th>12453</th>\n",
              "      <td>6643173</td>\n",
              "      <td>10860.0</td>\n",
              "    </tr>\n",
              "    <tr>\n",
              "      <th>12454</th>\n",
              "      <td>6643184</td>\n",
              "      <td>11282.0</td>\n",
              "    </tr>\n",
              "    <tr>\n",
              "      <th>12455</th>\n",
              "      <td>6643186</td>\n",
              "      <td>12279.0</td>\n",
              "    </tr>\n",
              "    <tr>\n",
              "      <th>12456</th>\n",
              "      <td>6643196</td>\n",
              "      <td>27225.0</td>\n",
              "    </tr>\n",
              "  </tbody>\n",
              "</table>\n",
              "<p>12457 rows × 2 columns</p>\n",
              "</div>\n",
              "      <button class=\"colab-df-convert\" onclick=\"convertToInteractive('df-84ed61ce-efc6-4923-841d-e18ce3477641')\"\n",
              "              title=\"Convert this dataframe to an interactive table.\"\n",
              "              style=\"display:none;\">\n",
              "        \n",
              "  <svg xmlns=\"http://www.w3.org/2000/svg\" height=\"24px\"viewBox=\"0 0 24 24\"\n",
              "       width=\"24px\">\n",
              "    <path d=\"M0 0h24v24H0V0z\" fill=\"none\"/>\n",
              "    <path d=\"M18.56 5.44l.94 2.06.94-2.06 2.06-.94-2.06-.94-.94-2.06-.94 2.06-2.06.94zm-11 1L8.5 8.5l.94-2.06 2.06-.94-2.06-.94L8.5 2.5l-.94 2.06-2.06.94zm10 10l.94 2.06.94-2.06 2.06-.94-2.06-.94-.94-2.06-.94 2.06-2.06.94z\"/><path d=\"M17.41 7.96l-1.37-1.37c-.4-.4-.92-.59-1.43-.59-.52 0-1.04.2-1.43.59L10.3 9.45l-7.72 7.72c-.78.78-.78 2.05 0 2.83L4 21.41c.39.39.9.59 1.41.59.51 0 1.02-.2 1.41-.59l7.78-7.78 2.81-2.81c.8-.78.8-2.07 0-2.86zM5.41 20L4 18.59l7.72-7.72 1.47 1.35L5.41 20z\"/>\n",
              "  </svg>\n",
              "      </button>\n",
              "      \n",
              "  <style>\n",
              "    .colab-df-container {\n",
              "      display:flex;\n",
              "      flex-wrap:wrap;\n",
              "      gap: 12px;\n",
              "    }\n",
              "\n",
              "    .colab-df-convert {\n",
              "      background-color: #E8F0FE;\n",
              "      border: none;\n",
              "      border-radius: 50%;\n",
              "      cursor: pointer;\n",
              "      display: none;\n",
              "      fill: #1967D2;\n",
              "      height: 32px;\n",
              "      padding: 0 0 0 0;\n",
              "      width: 32px;\n",
              "    }\n",
              "\n",
              "    .colab-df-convert:hover {\n",
              "      background-color: #E2EBFA;\n",
              "      box-shadow: 0px 1px 2px rgba(60, 64, 67, 0.3), 0px 1px 3px 1px rgba(60, 64, 67, 0.15);\n",
              "      fill: #174EA6;\n",
              "    }\n",
              "\n",
              "    [theme=dark] .colab-df-convert {\n",
              "      background-color: #3B4455;\n",
              "      fill: #D2E3FC;\n",
              "    }\n",
              "\n",
              "    [theme=dark] .colab-df-convert:hover {\n",
              "      background-color: #434B5C;\n",
              "      box-shadow: 0px 1px 3px 1px rgba(0, 0, 0, 0.15);\n",
              "      filter: drop-shadow(0px 1px 2px rgba(0, 0, 0, 0.3));\n",
              "      fill: #FFFFFF;\n",
              "    }\n",
              "  </style>\n",
              "\n",
              "      <script>\n",
              "        const buttonEl =\n",
              "          document.querySelector('#df-84ed61ce-efc6-4923-841d-e18ce3477641 button.colab-df-convert');\n",
              "        buttonEl.style.display =\n",
              "          google.colab.kernel.accessAllowed ? 'block' : 'none';\n",
              "\n",
              "        async function convertToInteractive(key) {\n",
              "          const element = document.querySelector('#df-84ed61ce-efc6-4923-841d-e18ce3477641');\n",
              "          const dataTable =\n",
              "            await google.colab.kernel.invokeFunction('convertToInteractive',\n",
              "                                                     [key], {});\n",
              "          if (!dataTable) return;\n",
              "\n",
              "          const docLinkHtml = 'Like what you see? Visit the ' +\n",
              "            '<a target=\"_blank\" href=https://colab.research.google.com/notebooks/data_table.ipynb>data table notebook</a>'\n",
              "            + ' to learn more about interactive tables.';\n",
              "          element.innerHTML = '';\n",
              "          dataTable['output_type'] = 'display_data';\n",
              "          await google.colab.output.renderOutput(dataTable, element);\n",
              "          const docLink = document.createElement('div');\n",
              "          docLink.innerHTML = docLinkHtml;\n",
              "          element.appendChild(docLink);\n",
              "        }\n",
              "      </script>\n",
              "    </div>\n",
              "  </div>\n",
              "  "
            ]
          },
          "metadata": {},
          "execution_count": 196
        }
      ]
    },
    {
      "cell_type": "code",
      "source": [],
      "metadata": {
        "id": "pBoKvXRHsQD5"
      },
      "execution_count": null,
      "outputs": []
    }
  ]
}